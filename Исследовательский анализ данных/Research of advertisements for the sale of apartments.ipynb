{
 "cells": [
  {
   "cell_type": "markdown",
   "metadata": {
    "toc": true
   },
   "source": [
    "<h1>Содержание<span class=\"tocSkip\"></span></h1>\n",
    "<div class=\"toc\"><ul class=\"toc-item\"><li><span><a href=\"#Изучение-данных-из-файла\" data-toc-modified-id=\"Изучение-данных-из-файла-1\"><span class=\"toc-item-num\">1&nbsp;&nbsp;</span>Изучение данных из файла</a></span></li><li><span><a href=\"#Предобработка-данных\" data-toc-modified-id=\"Предобработка-данных-2\"><span class=\"toc-item-num\">2&nbsp;&nbsp;</span>Предобработка данных</a></span></li><li><span><a href=\"#Расчёты-и-добавление-результатов-в-таблицу\" data-toc-modified-id=\"Расчёты-и-добавление-результатов-в-таблицу-3\"><span class=\"toc-item-num\">3&nbsp;&nbsp;</span>Расчёты и добавление результатов в таблицу</a></span></li><li><span><a href=\"#Исследовательский-анализ-данных\" data-toc-modified-id=\"Исследовательский-анализ-данных-4\"><span class=\"toc-item-num\">4&nbsp;&nbsp;</span>Исследовательский анализ данных</a></span></li><li><span><a href=\"#Общий-вывод\" data-toc-modified-id=\"Общий-вывод-5\"><span class=\"toc-item-num\">5&nbsp;&nbsp;</span>Общий вывод</a></span></li></ul></div>"
   ]
  },
  {
   "cell_type": "markdown",
   "metadata": {},
   "source": [
    "# Исследование объявлений о продаже квартир\n",
    "\n",
    "Изучаем данные сервиса Яндекс.Недвижимость — архива объявлений о продаже квартир в Санкт-Петербурге и соседних населённых пунктах за несколько лет. В процессе работы будем работать над задачей определения рыночной стоимости объектов недвижимости и установлением параметров для постройки автоматизированной системы: она отследит аномалии и мошенническую деятельность. \n",
    "\n",
    "По каждой квартире на продажу доступны два вида данных. Первые вписаны пользователем, вторые получены автоматически на основе картографических данных. "
   ]
  },
  {
   "cell_type": "markdown",
   "metadata": {},
   "source": [
    "**Описание данных**\n",
    "\n",
    "- airports_nearest — расстояние до ближайшего аэропорта в метрах (м)\n",
    "- balcony — число балконов\n",
    "- ceiling_height — высота потолков (м)\n",
    "- cityCenters_nearest — расстояние до центра города (м)\n",
    "- days_exposition — сколько дней было размещено объявление (от публикации до снятия)\n",
    "- first_day_exposition — дата публикации\n",
    "- floor — этаж\n",
    "- floors_total — всего этажей в доме\n",
    "- is_apartment — апартаменты (булев тип)\n",
    "- kitchen_area — площадь кухни в квадратных метрах (м²)\n",
    "- last_price — цена на момент снятия с публикации\n",
    "- living_area — жилая площадь в квадратных метрах (м²)\n",
    "- locality_name — название населённого пункта\n",
    "- open_plan — свободная планировка (булев тип)\n",
    "- parks_around3000 — число парков в радиусе 3 км\n",
    "- parks_nearest — расстояние до ближайшего парка (м)\n",
    "- ponds_around3000 — число водоёмов в радиусе 3 км\n",
    "- ponds_nearest — расстояние до ближайшего водоёма (м)\n",
    "- rooms — число комнат\n",
    "- studio — квартира-студия (булев тип)\n",
    "- total_area — площадь квартиры в квадратных метрах (м²)\n",
    "- total_images — число фотографий квартиры в объявлении"
   ]
  },
  {
   "cell_type": "markdown",
   "metadata": {},
   "source": [
    "## Изучение данных из файла\n",
    "Открываем файл с данными и изучаем предоставленную информацию."
   ]
  },
  {
   "cell_type": "code",
   "execution_count": 2,
   "metadata": {},
   "outputs": [],
   "source": [
    "import numpy as np\n",
    "import pandas as pd\n",
    "import seaborn as sns\n",
    "import matplotlib.pyplot as plt\n",
    "import warnings\n",
    "warnings.filterwarnings('ignore')"
   ]
  },
  {
   "cell_type": "code",
   "execution_count": 3,
   "metadata": {},
   "outputs": [
    {
     "name": "stdout",
     "output_type": "stream",
     "text": [
      "<class 'pandas.core.frame.DataFrame'>\n",
      "RangeIndex: 23699 entries, 0 to 23698\n",
      "Data columns (total 22 columns):\n",
      " #   Column                Non-Null Count  Dtype  \n",
      "---  ------                --------------  -----  \n",
      " 0   total_images          23699 non-null  int64  \n",
      " 1   last_price            23699 non-null  float64\n",
      " 2   total_area            23699 non-null  float64\n",
      " 3   first_day_exposition  23699 non-null  object \n",
      " 4   rooms                 23699 non-null  int64  \n",
      " 5   ceiling_height        14504 non-null  float64\n",
      " 6   floors_total          23613 non-null  float64\n",
      " 7   living_area           21796 non-null  float64\n",
      " 8   floor                 23699 non-null  int64  \n",
      " 9   is_apartment          2775 non-null   object \n",
      " 10  studio                23699 non-null  bool   \n",
      " 11  open_plan             23699 non-null  bool   \n",
      " 12  kitchen_area          21421 non-null  float64\n",
      " 13  balcony               12180 non-null  float64\n",
      " 14  locality_name         23650 non-null  object \n",
      " 15  airports_nearest      18157 non-null  float64\n",
      " 16  cityCenters_nearest   18180 non-null  float64\n",
      " 17  parks_around3000      18181 non-null  float64\n",
      " 18  parks_nearest         8079 non-null   float64\n",
      " 19  ponds_around3000      18181 non-null  float64\n",
      " 20  ponds_nearest         9110 non-null   float64\n",
      " 21  days_exposition       20518 non-null  float64\n",
      "dtypes: bool(2), float64(14), int64(3), object(3)\n",
      "memory usage: 3.7+ MB\n"
     ]
    }
   ],
   "source": [
    "data= pd.read_csv('/datasets/real_estate_data.csv', sep='\\t')\n",
    "data.info()"
   ]
  },
  {
   "cell_type": "markdown",
   "metadata": {},
   "source": [
    "## Предобработка данных"
   ]
  },
  {
   "cell_type": "markdown",
   "metadata": {},
   "source": [
    "Проверяем пропущенные значения"
   ]
  },
  {
   "cell_type": "code",
   "execution_count": 4,
   "metadata": {},
   "outputs": [
    {
     "data": {
      "text/plain": [
       "total_images                0\n",
       "last_price                  0\n",
       "total_area                  0\n",
       "first_day_exposition        0\n",
       "rooms                       0\n",
       "ceiling_height           9195\n",
       "floors_total               86\n",
       "living_area              1903\n",
       "floor                       0\n",
       "is_apartment            20924\n",
       "studio                      0\n",
       "open_plan                   0\n",
       "kitchen_area             2278\n",
       "balcony                 11519\n",
       "locality_name              49\n",
       "airports_nearest         5542\n",
       "cityCenters_nearest      5519\n",
       "parks_around3000         5518\n",
       "parks_nearest           15620\n",
       "ponds_around3000         5518\n",
       "ponds_nearest           14589\n",
       "days_exposition          3181\n",
       "dtype: int64"
      ]
     },
     "execution_count": 4,
     "metadata": {},
     "output_type": "execute_result"
    }
   ],
   "source": [
    "data.isnull().sum()"
   ]
  },
  {
   "cell_type": "markdown",
   "metadata": {},
   "source": [
    "В столбце \"апартаменты\" подозрительно много пропущенных значений. Считаем отдельно значения присутствующие."
   ]
  },
  {
   "cell_type": "code",
   "execution_count": 5,
   "metadata": {},
   "outputs": [
    {
     "data": {
      "text/html": [
       "<div>\n",
       "<style scoped>\n",
       "    .dataframe tbody tr th:only-of-type {\n",
       "        vertical-align: middle;\n",
       "    }\n",
       "\n",
       "    .dataframe tbody tr th {\n",
       "        vertical-align: top;\n",
       "    }\n",
       "\n",
       "    .dataframe thead th {\n",
       "        text-align: right;\n",
       "    }\n",
       "</style>\n",
       "<table border=\"1\" class=\"dataframe\">\n",
       "  <thead>\n",
       "    <tr style=\"text-align: right;\">\n",
       "      <th></th>\n",
       "      <th>total_images</th>\n",
       "      <th>last_price</th>\n",
       "      <th>total_area</th>\n",
       "      <th>first_day_exposition</th>\n",
       "      <th>rooms</th>\n",
       "      <th>ceiling_height</th>\n",
       "      <th>floors_total</th>\n",
       "      <th>living_area</th>\n",
       "      <th>floor</th>\n",
       "      <th>studio</th>\n",
       "      <th>...</th>\n",
       "      <th>kitchen_area</th>\n",
       "      <th>balcony</th>\n",
       "      <th>locality_name</th>\n",
       "      <th>airports_nearest</th>\n",
       "      <th>cityCenters_nearest</th>\n",
       "      <th>parks_around3000</th>\n",
       "      <th>parks_nearest</th>\n",
       "      <th>ponds_around3000</th>\n",
       "      <th>ponds_nearest</th>\n",
       "      <th>days_exposition</th>\n",
       "    </tr>\n",
       "    <tr>\n",
       "      <th>is_apartment</th>\n",
       "      <th></th>\n",
       "      <th></th>\n",
       "      <th></th>\n",
       "      <th></th>\n",
       "      <th></th>\n",
       "      <th></th>\n",
       "      <th></th>\n",
       "      <th></th>\n",
       "      <th></th>\n",
       "      <th></th>\n",
       "      <th></th>\n",
       "      <th></th>\n",
       "      <th></th>\n",
       "      <th></th>\n",
       "      <th></th>\n",
       "      <th></th>\n",
       "      <th></th>\n",
       "      <th></th>\n",
       "      <th></th>\n",
       "      <th></th>\n",
       "      <th></th>\n",
       "    </tr>\n",
       "  </thead>\n",
       "  <tbody>\n",
       "    <tr>\n",
       "      <th>False</th>\n",
       "      <td>2725</td>\n",
       "      <td>2725</td>\n",
       "      <td>2725</td>\n",
       "      <td>2725</td>\n",
       "      <td>2725</td>\n",
       "      <td>1818</td>\n",
       "      <td>2725</td>\n",
       "      <td>2613</td>\n",
       "      <td>2725</td>\n",
       "      <td>2725</td>\n",
       "      <td>...</td>\n",
       "      <td>2550</td>\n",
       "      <td>2267</td>\n",
       "      <td>2710</td>\n",
       "      <td>2103</td>\n",
       "      <td>2104</td>\n",
       "      <td>2104</td>\n",
       "      <td>928</td>\n",
       "      <td>2104</td>\n",
       "      <td>1046</td>\n",
       "      <td>2462</td>\n",
       "    </tr>\n",
       "    <tr>\n",
       "      <th>True</th>\n",
       "      <td>50</td>\n",
       "      <td>50</td>\n",
       "      <td>50</td>\n",
       "      <td>50</td>\n",
       "      <td>50</td>\n",
       "      <td>44</td>\n",
       "      <td>50</td>\n",
       "      <td>42</td>\n",
       "      <td>50</td>\n",
       "      <td>50</td>\n",
       "      <td>...</td>\n",
       "      <td>35</td>\n",
       "      <td>31</td>\n",
       "      <td>50</td>\n",
       "      <td>41</td>\n",
       "      <td>43</td>\n",
       "      <td>43</td>\n",
       "      <td>19</td>\n",
       "      <td>43</td>\n",
       "      <td>30</td>\n",
       "      <td>38</td>\n",
       "    </tr>\n",
       "  </tbody>\n",
       "</table>\n",
       "<p>2 rows × 21 columns</p>\n",
       "</div>"
      ],
      "text/plain": [
       "              total_images  last_price  total_area  first_day_exposition  \\\n",
       "is_apartment                                                               \n",
       "False                 2725        2725        2725                  2725   \n",
       "True                    50          50          50                    50   \n",
       "\n",
       "              rooms  ceiling_height  floors_total  living_area  floor  studio  \\\n",
       "is_apartment                                                                    \n",
       "False          2725            1818          2725         2613   2725    2725   \n",
       "True             50              44            50           42     50      50   \n",
       "\n",
       "              ...  kitchen_area  balcony  locality_name  airports_nearest  \\\n",
       "is_apartment  ...                                                           \n",
       "False         ...          2550     2267           2710              2103   \n",
       "True          ...            35       31             50                41   \n",
       "\n",
       "              cityCenters_nearest  parks_around3000  parks_nearest  \\\n",
       "is_apartment                                                         \n",
       "False                        2104              2104            928   \n",
       "True                           43                43             19   \n",
       "\n",
       "              ponds_around3000  ponds_nearest  days_exposition  \n",
       "is_apartment                                                    \n",
       "False                     2104           1046             2462  \n",
       "True                        43             30               38  \n",
       "\n",
       "[2 rows x 21 columns]"
      ]
     },
     "execution_count": 5,
     "metadata": {},
     "output_type": "execute_result"
    }
   ],
   "source": [
    "data.groupby('is_apartment').count()"
   ]
  },
  {
   "cell_type": "markdown",
   "metadata": {},
   "source": [
    "Их 2775(из которых True - 50, False - 2725). Предполагаем, что данные пустые значения также не стоит как-либо видоизменять, так как нельзя знать наверняка, относятся ли эти помещения к жилому фонду или нет. "
   ]
  },
  {
   "cell_type": "markdown",
   "metadata": {},
   "source": [
    "Почти в 40% случаев не указана высота потолков. Можем предположить, что она в данных квартирах не была измерена. Ни среднее значение, ни замена на 0 тут не подойдёт. Оставляем пропущенные значения по этому параметру без изменений.\n",
    "\n",
    "86 пропусков по параметру количества этажей в доме. Мы также не можем знать наверняка эти данные и предполагать или усреднять. Оставляем без изменений.\n",
    "\n",
    "Аналогичная ситуация с площадью квартир (1903 пропущенных значения).\n",
    "\n",
    "Названия населённых пунктов также нельзя угадать или усреднить. Пропуски оставляем без изменений.\n",
    "\n",
    "Пропущенные значения в столбце с информацией о балконах могли появиться по причине того, что балконов попросту в квартирах нет. Всвязи с этим заменяем данные пропущенные значения на 0.\n",
    "\n",
    "Заменяем пропущенные значения на 0."
   ]
  },
  {
   "cell_type": "code",
   "execution_count": 6,
   "metadata": {},
   "outputs": [
    {
     "data": {
      "text/html": [
       "<div>\n",
       "<style scoped>\n",
       "    .dataframe tbody tr th:only-of-type {\n",
       "        vertical-align: middle;\n",
       "    }\n",
       "\n",
       "    .dataframe tbody tr th {\n",
       "        vertical-align: top;\n",
       "    }\n",
       "\n",
       "    .dataframe thead th {\n",
       "        text-align: right;\n",
       "    }\n",
       "</style>\n",
       "<table border=\"1\" class=\"dataframe\">\n",
       "  <thead>\n",
       "    <tr style=\"text-align: right;\">\n",
       "      <th></th>\n",
       "      <th>total_images</th>\n",
       "      <th>last_price</th>\n",
       "      <th>total_area</th>\n",
       "      <th>first_day_exposition</th>\n",
       "      <th>rooms</th>\n",
       "      <th>ceiling_height</th>\n",
       "      <th>floors_total</th>\n",
       "      <th>living_area</th>\n",
       "      <th>floor</th>\n",
       "      <th>is_apartment</th>\n",
       "      <th>...</th>\n",
       "      <th>kitchen_area</th>\n",
       "      <th>balcony</th>\n",
       "      <th>locality_name</th>\n",
       "      <th>airports_nearest</th>\n",
       "      <th>cityCenters_nearest</th>\n",
       "      <th>parks_around3000</th>\n",
       "      <th>parks_nearest</th>\n",
       "      <th>ponds_around3000</th>\n",
       "      <th>ponds_nearest</th>\n",
       "      <th>days_exposition</th>\n",
       "    </tr>\n",
       "  </thead>\n",
       "  <tbody>\n",
       "    <tr>\n",
       "      <th>0</th>\n",
       "      <td>20</td>\n",
       "      <td>13000000.0</td>\n",
       "      <td>108.0</td>\n",
       "      <td>2019-03-07T00:00:00</td>\n",
       "      <td>3</td>\n",
       "      <td>2.70</td>\n",
       "      <td>16.0</td>\n",
       "      <td>51.0</td>\n",
       "      <td>8</td>\n",
       "      <td>NaN</td>\n",
       "      <td>...</td>\n",
       "      <td>25.0</td>\n",
       "      <td>0.0</td>\n",
       "      <td>Санкт-Петербург</td>\n",
       "      <td>18863.0</td>\n",
       "      <td>16028.0</td>\n",
       "      <td>1.0</td>\n",
       "      <td>482.0</td>\n",
       "      <td>2.0</td>\n",
       "      <td>755.0</td>\n",
       "      <td>NaN</td>\n",
       "    </tr>\n",
       "    <tr>\n",
       "      <th>1</th>\n",
       "      <td>7</td>\n",
       "      <td>3350000.0</td>\n",
       "      <td>40.4</td>\n",
       "      <td>2018-12-04T00:00:00</td>\n",
       "      <td>1</td>\n",
       "      <td>NaN</td>\n",
       "      <td>11.0</td>\n",
       "      <td>18.6</td>\n",
       "      <td>1</td>\n",
       "      <td>NaN</td>\n",
       "      <td>...</td>\n",
       "      <td>11.0</td>\n",
       "      <td>2.0</td>\n",
       "      <td>посёлок Шушары</td>\n",
       "      <td>12817.0</td>\n",
       "      <td>18603.0</td>\n",
       "      <td>0.0</td>\n",
       "      <td>NaN</td>\n",
       "      <td>0.0</td>\n",
       "      <td>NaN</td>\n",
       "      <td>81.0</td>\n",
       "    </tr>\n",
       "    <tr>\n",
       "      <th>2</th>\n",
       "      <td>10</td>\n",
       "      <td>5196000.0</td>\n",
       "      <td>56.0</td>\n",
       "      <td>2015-08-20T00:00:00</td>\n",
       "      <td>2</td>\n",
       "      <td>NaN</td>\n",
       "      <td>5.0</td>\n",
       "      <td>34.3</td>\n",
       "      <td>4</td>\n",
       "      <td>NaN</td>\n",
       "      <td>...</td>\n",
       "      <td>8.3</td>\n",
       "      <td>0.0</td>\n",
       "      <td>Санкт-Петербург</td>\n",
       "      <td>21741.0</td>\n",
       "      <td>13933.0</td>\n",
       "      <td>1.0</td>\n",
       "      <td>90.0</td>\n",
       "      <td>2.0</td>\n",
       "      <td>574.0</td>\n",
       "      <td>558.0</td>\n",
       "    </tr>\n",
       "    <tr>\n",
       "      <th>3</th>\n",
       "      <td>0</td>\n",
       "      <td>64900000.0</td>\n",
       "      <td>159.0</td>\n",
       "      <td>2015-07-24T00:00:00</td>\n",
       "      <td>3</td>\n",
       "      <td>NaN</td>\n",
       "      <td>14.0</td>\n",
       "      <td>NaN</td>\n",
       "      <td>9</td>\n",
       "      <td>NaN</td>\n",
       "      <td>...</td>\n",
       "      <td>NaN</td>\n",
       "      <td>0.0</td>\n",
       "      <td>Санкт-Петербург</td>\n",
       "      <td>28098.0</td>\n",
       "      <td>6800.0</td>\n",
       "      <td>2.0</td>\n",
       "      <td>84.0</td>\n",
       "      <td>3.0</td>\n",
       "      <td>234.0</td>\n",
       "      <td>424.0</td>\n",
       "    </tr>\n",
       "    <tr>\n",
       "      <th>4</th>\n",
       "      <td>2</td>\n",
       "      <td>10000000.0</td>\n",
       "      <td>100.0</td>\n",
       "      <td>2018-06-19T00:00:00</td>\n",
       "      <td>2</td>\n",
       "      <td>3.03</td>\n",
       "      <td>14.0</td>\n",
       "      <td>32.0</td>\n",
       "      <td>13</td>\n",
       "      <td>NaN</td>\n",
       "      <td>...</td>\n",
       "      <td>41.0</td>\n",
       "      <td>0.0</td>\n",
       "      <td>Санкт-Петербург</td>\n",
       "      <td>31856.0</td>\n",
       "      <td>8098.0</td>\n",
       "      <td>2.0</td>\n",
       "      <td>112.0</td>\n",
       "      <td>1.0</td>\n",
       "      <td>48.0</td>\n",
       "      <td>121.0</td>\n",
       "    </tr>\n",
       "  </tbody>\n",
       "</table>\n",
       "<p>5 rows × 22 columns</p>\n",
       "</div>"
      ],
      "text/plain": [
       "   total_images  last_price  total_area first_day_exposition  rooms  \\\n",
       "0            20  13000000.0       108.0  2019-03-07T00:00:00      3   \n",
       "1             7   3350000.0        40.4  2018-12-04T00:00:00      1   \n",
       "2            10   5196000.0        56.0  2015-08-20T00:00:00      2   \n",
       "3             0  64900000.0       159.0  2015-07-24T00:00:00      3   \n",
       "4             2  10000000.0       100.0  2018-06-19T00:00:00      2   \n",
       "\n",
       "   ceiling_height  floors_total  living_area  floor is_apartment  ...  \\\n",
       "0            2.70          16.0         51.0      8          NaN  ...   \n",
       "1             NaN          11.0         18.6      1          NaN  ...   \n",
       "2             NaN           5.0         34.3      4          NaN  ...   \n",
       "3             NaN          14.0          NaN      9          NaN  ...   \n",
       "4            3.03          14.0         32.0     13          NaN  ...   \n",
       "\n",
       "   kitchen_area  balcony    locality_name  airports_nearest  \\\n",
       "0          25.0      0.0  Санкт-Петербург           18863.0   \n",
       "1          11.0      2.0   посёлок Шушары           12817.0   \n",
       "2           8.3      0.0  Санкт-Петербург           21741.0   \n",
       "3           NaN      0.0  Санкт-Петербург           28098.0   \n",
       "4          41.0      0.0  Санкт-Петербург           31856.0   \n",
       "\n",
       "  cityCenters_nearest  parks_around3000  parks_nearest  ponds_around3000  \\\n",
       "0             16028.0               1.0          482.0               2.0   \n",
       "1             18603.0               0.0            NaN               0.0   \n",
       "2             13933.0               1.0           90.0               2.0   \n",
       "3              6800.0               2.0           84.0               3.0   \n",
       "4              8098.0               2.0          112.0               1.0   \n",
       "\n",
       "   ponds_nearest  days_exposition  \n",
       "0          755.0              NaN  \n",
       "1            NaN             81.0  \n",
       "2          574.0            558.0  \n",
       "3          234.0            424.0  \n",
       "4           48.0            121.0  \n",
       "\n",
       "[5 rows x 22 columns]"
      ]
     },
     "execution_count": 6,
     "metadata": {},
     "output_type": "execute_result"
    }
   ],
   "source": [
    "data['balcony'] = data['balcony'].fillna(0)\n",
    "data.head()"
   ]
  },
  {
   "cell_type": "markdown",
   "metadata": {},
   "source": [
    "Пропуски в столбце с информацией о ближайших аэропортах: для начала ликвидируем пропущенные значения \n",
    "в тех случаях, когда данные не указаны случайно. Подойдёт среднее арифметическое для отдельно взятого \n",
    "населённого пункта."
   ]
  },
  {
   "cell_type": "code",
   "execution_count": 7,
   "metadata": {
    "scrolled": true
   },
   "outputs": [
    {
     "data": {
      "text/html": [
       "<div>\n",
       "<style scoped>\n",
       "    .dataframe tbody tr th:only-of-type {\n",
       "        vertical-align: middle;\n",
       "    }\n",
       "\n",
       "    .dataframe tbody tr th {\n",
       "        vertical-align: top;\n",
       "    }\n",
       "\n",
       "    .dataframe thead th {\n",
       "        text-align: right;\n",
       "    }\n",
       "</style>\n",
       "<table border=\"1\" class=\"dataframe\">\n",
       "  <thead>\n",
       "    <tr style=\"text-align: right;\">\n",
       "      <th></th>\n",
       "      <th>total_images</th>\n",
       "      <th>last_price</th>\n",
       "      <th>total_area</th>\n",
       "      <th>first_day_exposition</th>\n",
       "      <th>rooms</th>\n",
       "      <th>ceiling_height</th>\n",
       "      <th>floors_total</th>\n",
       "      <th>living_area</th>\n",
       "      <th>floor</th>\n",
       "      <th>is_apartment</th>\n",
       "      <th>...</th>\n",
       "      <th>kitchen_area</th>\n",
       "      <th>balcony</th>\n",
       "      <th>locality_name</th>\n",
       "      <th>airports_nearest</th>\n",
       "      <th>cityCenters_nearest</th>\n",
       "      <th>parks_around3000</th>\n",
       "      <th>parks_nearest</th>\n",
       "      <th>ponds_around3000</th>\n",
       "      <th>ponds_nearest</th>\n",
       "      <th>days_exposition</th>\n",
       "    </tr>\n",
       "  </thead>\n",
       "  <tbody>\n",
       "    <tr>\n",
       "      <th>0</th>\n",
       "      <td>20</td>\n",
       "      <td>13000000.0</td>\n",
       "      <td>108.0</td>\n",
       "      <td>2019-03-07T00:00:00</td>\n",
       "      <td>3</td>\n",
       "      <td>2.70</td>\n",
       "      <td>16.0</td>\n",
       "      <td>51.0</td>\n",
       "      <td>8</td>\n",
       "      <td>NaN</td>\n",
       "      <td>...</td>\n",
       "      <td>25.0</td>\n",
       "      <td>0.0</td>\n",
       "      <td>Санкт-Петербург</td>\n",
       "      <td>18863.0</td>\n",
       "      <td>16028.0</td>\n",
       "      <td>1.0</td>\n",
       "      <td>482.0</td>\n",
       "      <td>2.0</td>\n",
       "      <td>755.0</td>\n",
       "      <td>NaN</td>\n",
       "    </tr>\n",
       "    <tr>\n",
       "      <th>1</th>\n",
       "      <td>7</td>\n",
       "      <td>3350000.0</td>\n",
       "      <td>40.4</td>\n",
       "      <td>2018-12-04T00:00:00</td>\n",
       "      <td>1</td>\n",
       "      <td>NaN</td>\n",
       "      <td>11.0</td>\n",
       "      <td>18.6</td>\n",
       "      <td>1</td>\n",
       "      <td>NaN</td>\n",
       "      <td>...</td>\n",
       "      <td>11.0</td>\n",
       "      <td>2.0</td>\n",
       "      <td>посёлок Шушары</td>\n",
       "      <td>12817.0</td>\n",
       "      <td>18603.0</td>\n",
       "      <td>0.0</td>\n",
       "      <td>NaN</td>\n",
       "      <td>0.0</td>\n",
       "      <td>NaN</td>\n",
       "      <td>81.0</td>\n",
       "    </tr>\n",
       "    <tr>\n",
       "      <th>2</th>\n",
       "      <td>10</td>\n",
       "      <td>5196000.0</td>\n",
       "      <td>56.0</td>\n",
       "      <td>2015-08-20T00:00:00</td>\n",
       "      <td>2</td>\n",
       "      <td>NaN</td>\n",
       "      <td>5.0</td>\n",
       "      <td>34.3</td>\n",
       "      <td>4</td>\n",
       "      <td>NaN</td>\n",
       "      <td>...</td>\n",
       "      <td>8.3</td>\n",
       "      <td>0.0</td>\n",
       "      <td>Санкт-Петербург</td>\n",
       "      <td>21741.0</td>\n",
       "      <td>13933.0</td>\n",
       "      <td>1.0</td>\n",
       "      <td>90.0</td>\n",
       "      <td>2.0</td>\n",
       "      <td>574.0</td>\n",
       "      <td>558.0</td>\n",
       "    </tr>\n",
       "    <tr>\n",
       "      <th>3</th>\n",
       "      <td>0</td>\n",
       "      <td>64900000.0</td>\n",
       "      <td>159.0</td>\n",
       "      <td>2015-07-24T00:00:00</td>\n",
       "      <td>3</td>\n",
       "      <td>NaN</td>\n",
       "      <td>14.0</td>\n",
       "      <td>NaN</td>\n",
       "      <td>9</td>\n",
       "      <td>NaN</td>\n",
       "      <td>...</td>\n",
       "      <td>NaN</td>\n",
       "      <td>0.0</td>\n",
       "      <td>Санкт-Петербург</td>\n",
       "      <td>28098.0</td>\n",
       "      <td>6800.0</td>\n",
       "      <td>2.0</td>\n",
       "      <td>84.0</td>\n",
       "      <td>3.0</td>\n",
       "      <td>234.0</td>\n",
       "      <td>424.0</td>\n",
       "    </tr>\n",
       "    <tr>\n",
       "      <th>4</th>\n",
       "      <td>2</td>\n",
       "      <td>10000000.0</td>\n",
       "      <td>100.0</td>\n",
       "      <td>2018-06-19T00:00:00</td>\n",
       "      <td>2</td>\n",
       "      <td>3.03</td>\n",
       "      <td>14.0</td>\n",
       "      <td>32.0</td>\n",
       "      <td>13</td>\n",
       "      <td>NaN</td>\n",
       "      <td>...</td>\n",
       "      <td>41.0</td>\n",
       "      <td>0.0</td>\n",
       "      <td>Санкт-Петербург</td>\n",
       "      <td>31856.0</td>\n",
       "      <td>8098.0</td>\n",
       "      <td>2.0</td>\n",
       "      <td>112.0</td>\n",
       "      <td>1.0</td>\n",
       "      <td>48.0</td>\n",
       "      <td>121.0</td>\n",
       "    </tr>\n",
       "  </tbody>\n",
       "</table>\n",
       "<p>5 rows × 22 columns</p>\n",
       "</div>"
      ],
      "text/plain": [
       "   total_images  last_price  total_area first_day_exposition  rooms  \\\n",
       "0            20  13000000.0       108.0  2019-03-07T00:00:00      3   \n",
       "1             7   3350000.0        40.4  2018-12-04T00:00:00      1   \n",
       "2            10   5196000.0        56.0  2015-08-20T00:00:00      2   \n",
       "3             0  64900000.0       159.0  2015-07-24T00:00:00      3   \n",
       "4             2  10000000.0       100.0  2018-06-19T00:00:00      2   \n",
       "\n",
       "   ceiling_height  floors_total  living_area  floor is_apartment  ...  \\\n",
       "0            2.70          16.0         51.0      8          NaN  ...   \n",
       "1             NaN          11.0         18.6      1          NaN  ...   \n",
       "2             NaN           5.0         34.3      4          NaN  ...   \n",
       "3             NaN          14.0          NaN      9          NaN  ...   \n",
       "4            3.03          14.0         32.0     13          NaN  ...   \n",
       "\n",
       "   kitchen_area  balcony    locality_name  airports_nearest  \\\n",
       "0          25.0      0.0  Санкт-Петербург           18863.0   \n",
       "1          11.0      2.0   посёлок Шушары           12817.0   \n",
       "2           8.3      0.0  Санкт-Петербург           21741.0   \n",
       "3           NaN      0.0  Санкт-Петербург           28098.0   \n",
       "4          41.0      0.0  Санкт-Петербург           31856.0   \n",
       "\n",
       "  cityCenters_nearest  parks_around3000  parks_nearest  ponds_around3000  \\\n",
       "0             16028.0               1.0          482.0               2.0   \n",
       "1             18603.0               0.0            NaN               0.0   \n",
       "2             13933.0               1.0           90.0               2.0   \n",
       "3              6800.0               2.0           84.0               3.0   \n",
       "4              8098.0               2.0          112.0               1.0   \n",
       "\n",
       "   ponds_nearest  days_exposition  \n",
       "0          755.0              NaN  \n",
       "1            NaN             81.0  \n",
       "2          574.0            558.0  \n",
       "3          234.0            424.0  \n",
       "4           48.0            121.0  \n",
       "\n",
       "[5 rows x 22 columns]"
      ]
     },
     "execution_count": 7,
     "metadata": {},
     "output_type": "execute_result"
    }
   ],
   "source": [
    "data_transformed = data.groupby('locality_name')['airports_nearest'].transform('mean')\n",
    "data['airports_nearest'] = data['airports_nearest'].fillna(data_transformed)\n",
    "data.head()"
   ]
  },
  {
   "cell_type": "markdown",
   "metadata": {},
   "source": [
    "Проверяем снова. Пропущенных значений стало несильно меньше."
   ]
  },
  {
   "cell_type": "code",
   "execution_count": 8,
   "metadata": {},
   "outputs": [
    {
     "data": {
      "text/plain": [
       "5394"
      ]
     },
     "execution_count": 8,
     "metadata": {},
     "output_type": "execute_result"
    }
   ],
   "source": [
    "data['airports_nearest'].isnull().sum()"
   ]
  },
  {
   "cell_type": "markdown",
   "metadata": {},
   "source": [
    "Просматриваем, в каких случаях значения не указаны."
   ]
  },
  {
   "cell_type": "code",
   "execution_count": 9,
   "metadata": {
    "scrolled": true
   },
   "outputs": [
    {
     "data": {
      "text/plain": [
       "locality_name\n",
       "Бокситогорск       0\n",
       "Волосово           0\n",
       "Волхов             0\n",
       "Всеволожск         0\n",
       "Выборг             0\n",
       "Высоцк             0\n",
       "Гатчина            0\n",
       "Зеленогорск       24\n",
       "Ивангород          0\n",
       "Каменногорск       0\n",
       "Кингисепп          0\n",
       "Кириши             0\n",
       "Кировск            0\n",
       "Колпино          338\n",
       "Коммунар           0\n",
       "Красное Село     178\n",
       "Кронштадт         96\n",
       "Кудрово            0\n",
       "Лодейное Поле      0\n",
       "Ломоносов        133\n",
       "Name: airports_nearest, dtype: int64"
      ]
     },
     "execution_count": 9,
     "metadata": {},
     "output_type": "execute_result"
    }
   ],
   "source": [
    "data.groupby('locality_name')['airports_nearest'].count().head(20)"
   ]
  },
  {
   "cell_type": "markdown",
   "metadata": {},
   "source": [
    "В своём большинстве это те места, которые находятся слишком\n",
    "далеко от аэропортов. \n",
    "Заменять значения на 0 будет нелогично: это будет обозначать, что\n",
    "аэропорт находится совсем рядом. Всвязи с чем делаем вывод, что данные пропуски стоит оставить без изменений."
   ]
  },
  {
   "cell_type": "markdown",
   "metadata": {},
   "source": [
    "Просматриваем значения в столбце с информацией о расстоянии до центра города. Предварительно можем\n",
    "сделать вывод, что данные населённые пункты находятся слишком далеко от центра Санкт-Петербурга. Оставляем значения неизменными."
   ]
  },
  {
   "cell_type": "code",
   "execution_count": 10,
   "metadata": {},
   "outputs": [
    {
     "data": {
      "text/plain": [
       "locality_name\n",
       "Бокситогорск       0\n",
       "Волосово           0\n",
       "Волхов             0\n",
       "Всеволожск         0\n",
       "Выборг             0\n",
       "Высоцк             0\n",
       "Гатчина            0\n",
       "Зеленогорск       24\n",
       "Ивангород          0\n",
       "Каменногорск       0\n",
       "Кингисепп          0\n",
       "Кириши             0\n",
       "Кировск            0\n",
       "Колпино          337\n",
       "Коммунар           0\n",
       "Красное Село     176\n",
       "Кронштадт         95\n",
       "Кудрово            0\n",
       "Лодейное Поле      0\n",
       "Ломоносов        132\n",
       "Name: cityCenters_nearest, dtype: int64"
      ]
     },
     "execution_count": 10,
     "metadata": {},
     "output_type": "execute_result"
    }
   ],
   "source": [
    "data.groupby('locality_name')['cityCenters_nearest'].count().head(20)"
   ]
  },
  {
   "cell_type": "markdown",
   "metadata": {},
   "source": [
    "В пропусках касаемо площади кухонь заменяем отсутствующие значения на 0 в случае, если\n",
    "планировка свободная. В остальном оставялем без изменений."
   ]
  },
  {
   "cell_type": "code",
   "execution_count": 11,
   "metadata": {},
   "outputs": [],
   "source": [
    "data.loc[data['open_plan'], 'kitchen_area'] = data.loc[data['open_plan'],'kitchen_area'].fillna(0)"
   ]
  },
  {
   "cell_type": "markdown",
   "metadata": {},
   "source": [
    "В столбце с информацией о количестве дней размещения объявления пропусков сравнительно мало. \n",
    "Предположим, что объявления были только опубликованы, и не прошло ещё даже дня. Из этих\n",
    "соображений заполняем пропущенные значения нулями."
   ]
  },
  {
   "cell_type": "code",
   "execution_count": 12,
   "metadata": {},
   "outputs": [
    {
     "data": {
      "text/html": [
       "<div>\n",
       "<style scoped>\n",
       "    .dataframe tbody tr th:only-of-type {\n",
       "        vertical-align: middle;\n",
       "    }\n",
       "\n",
       "    .dataframe tbody tr th {\n",
       "        vertical-align: top;\n",
       "    }\n",
       "\n",
       "    .dataframe thead th {\n",
       "        text-align: right;\n",
       "    }\n",
       "</style>\n",
       "<table border=\"1\" class=\"dataframe\">\n",
       "  <thead>\n",
       "    <tr style=\"text-align: right;\">\n",
       "      <th></th>\n",
       "      <th>total_images</th>\n",
       "      <th>last_price</th>\n",
       "      <th>total_area</th>\n",
       "      <th>first_day_exposition</th>\n",
       "      <th>rooms</th>\n",
       "      <th>ceiling_height</th>\n",
       "      <th>floors_total</th>\n",
       "      <th>living_area</th>\n",
       "      <th>floor</th>\n",
       "      <th>is_apartment</th>\n",
       "      <th>...</th>\n",
       "      <th>kitchen_area</th>\n",
       "      <th>balcony</th>\n",
       "      <th>locality_name</th>\n",
       "      <th>airports_nearest</th>\n",
       "      <th>cityCenters_nearest</th>\n",
       "      <th>parks_around3000</th>\n",
       "      <th>parks_nearest</th>\n",
       "      <th>ponds_around3000</th>\n",
       "      <th>ponds_nearest</th>\n",
       "      <th>days_exposition</th>\n",
       "    </tr>\n",
       "  </thead>\n",
       "  <tbody>\n",
       "    <tr>\n",
       "      <th>0</th>\n",
       "      <td>20</td>\n",
       "      <td>13000000.0</td>\n",
       "      <td>108.00</td>\n",
       "      <td>2019-03-07T00:00:00</td>\n",
       "      <td>3</td>\n",
       "      <td>2.70</td>\n",
       "      <td>16.0</td>\n",
       "      <td>51.00</td>\n",
       "      <td>8</td>\n",
       "      <td>NaN</td>\n",
       "      <td>...</td>\n",
       "      <td>25.00</td>\n",
       "      <td>0.0</td>\n",
       "      <td>Санкт-Петербург</td>\n",
       "      <td>18863.0</td>\n",
       "      <td>16028.0</td>\n",
       "      <td>1.0</td>\n",
       "      <td>482.0</td>\n",
       "      <td>2.0</td>\n",
       "      <td>755.0</td>\n",
       "      <td>0.0</td>\n",
       "    </tr>\n",
       "    <tr>\n",
       "      <th>1</th>\n",
       "      <td>7</td>\n",
       "      <td>3350000.0</td>\n",
       "      <td>40.40</td>\n",
       "      <td>2018-12-04T00:00:00</td>\n",
       "      <td>1</td>\n",
       "      <td>NaN</td>\n",
       "      <td>11.0</td>\n",
       "      <td>18.60</td>\n",
       "      <td>1</td>\n",
       "      <td>NaN</td>\n",
       "      <td>...</td>\n",
       "      <td>11.00</td>\n",
       "      <td>2.0</td>\n",
       "      <td>посёлок Шушары</td>\n",
       "      <td>12817.0</td>\n",
       "      <td>18603.0</td>\n",
       "      <td>0.0</td>\n",
       "      <td>NaN</td>\n",
       "      <td>0.0</td>\n",
       "      <td>NaN</td>\n",
       "      <td>81.0</td>\n",
       "    </tr>\n",
       "    <tr>\n",
       "      <th>2</th>\n",
       "      <td>10</td>\n",
       "      <td>5196000.0</td>\n",
       "      <td>56.00</td>\n",
       "      <td>2015-08-20T00:00:00</td>\n",
       "      <td>2</td>\n",
       "      <td>NaN</td>\n",
       "      <td>5.0</td>\n",
       "      <td>34.30</td>\n",
       "      <td>4</td>\n",
       "      <td>NaN</td>\n",
       "      <td>...</td>\n",
       "      <td>8.30</td>\n",
       "      <td>0.0</td>\n",
       "      <td>Санкт-Петербург</td>\n",
       "      <td>21741.0</td>\n",
       "      <td>13933.0</td>\n",
       "      <td>1.0</td>\n",
       "      <td>90.0</td>\n",
       "      <td>2.0</td>\n",
       "      <td>574.0</td>\n",
       "      <td>558.0</td>\n",
       "    </tr>\n",
       "    <tr>\n",
       "      <th>3</th>\n",
       "      <td>0</td>\n",
       "      <td>64900000.0</td>\n",
       "      <td>159.00</td>\n",
       "      <td>2015-07-24T00:00:00</td>\n",
       "      <td>3</td>\n",
       "      <td>NaN</td>\n",
       "      <td>14.0</td>\n",
       "      <td>NaN</td>\n",
       "      <td>9</td>\n",
       "      <td>NaN</td>\n",
       "      <td>...</td>\n",
       "      <td>NaN</td>\n",
       "      <td>0.0</td>\n",
       "      <td>Санкт-Петербург</td>\n",
       "      <td>28098.0</td>\n",
       "      <td>6800.0</td>\n",
       "      <td>2.0</td>\n",
       "      <td>84.0</td>\n",
       "      <td>3.0</td>\n",
       "      <td>234.0</td>\n",
       "      <td>424.0</td>\n",
       "    </tr>\n",
       "    <tr>\n",
       "      <th>4</th>\n",
       "      <td>2</td>\n",
       "      <td>10000000.0</td>\n",
       "      <td>100.00</td>\n",
       "      <td>2018-06-19T00:00:00</td>\n",
       "      <td>2</td>\n",
       "      <td>3.03</td>\n",
       "      <td>14.0</td>\n",
       "      <td>32.00</td>\n",
       "      <td>13</td>\n",
       "      <td>NaN</td>\n",
       "      <td>...</td>\n",
       "      <td>41.00</td>\n",
       "      <td>0.0</td>\n",
       "      <td>Санкт-Петербург</td>\n",
       "      <td>31856.0</td>\n",
       "      <td>8098.0</td>\n",
       "      <td>2.0</td>\n",
       "      <td>112.0</td>\n",
       "      <td>1.0</td>\n",
       "      <td>48.0</td>\n",
       "      <td>121.0</td>\n",
       "    </tr>\n",
       "    <tr>\n",
       "      <th>5</th>\n",
       "      <td>10</td>\n",
       "      <td>2890000.0</td>\n",
       "      <td>30.40</td>\n",
       "      <td>2018-09-10T00:00:00</td>\n",
       "      <td>1</td>\n",
       "      <td>NaN</td>\n",
       "      <td>12.0</td>\n",
       "      <td>14.40</td>\n",
       "      <td>5</td>\n",
       "      <td>NaN</td>\n",
       "      <td>...</td>\n",
       "      <td>9.10</td>\n",
       "      <td>0.0</td>\n",
       "      <td>городской посёлок Янино-1</td>\n",
       "      <td>NaN</td>\n",
       "      <td>NaN</td>\n",
       "      <td>NaN</td>\n",
       "      <td>NaN</td>\n",
       "      <td>NaN</td>\n",
       "      <td>NaN</td>\n",
       "      <td>55.0</td>\n",
       "    </tr>\n",
       "    <tr>\n",
       "      <th>6</th>\n",
       "      <td>6</td>\n",
       "      <td>3700000.0</td>\n",
       "      <td>37.30</td>\n",
       "      <td>2017-11-02T00:00:00</td>\n",
       "      <td>1</td>\n",
       "      <td>NaN</td>\n",
       "      <td>26.0</td>\n",
       "      <td>10.60</td>\n",
       "      <td>6</td>\n",
       "      <td>NaN</td>\n",
       "      <td>...</td>\n",
       "      <td>14.40</td>\n",
       "      <td>1.0</td>\n",
       "      <td>посёлок Парголово</td>\n",
       "      <td>52996.0</td>\n",
       "      <td>19143.0</td>\n",
       "      <td>0.0</td>\n",
       "      <td>NaN</td>\n",
       "      <td>0.0</td>\n",
       "      <td>NaN</td>\n",
       "      <td>155.0</td>\n",
       "    </tr>\n",
       "    <tr>\n",
       "      <th>7</th>\n",
       "      <td>5</td>\n",
       "      <td>7915000.0</td>\n",
       "      <td>71.60</td>\n",
       "      <td>2019-04-18T00:00:00</td>\n",
       "      <td>2</td>\n",
       "      <td>NaN</td>\n",
       "      <td>24.0</td>\n",
       "      <td>NaN</td>\n",
       "      <td>22</td>\n",
       "      <td>NaN</td>\n",
       "      <td>...</td>\n",
       "      <td>18.90</td>\n",
       "      <td>2.0</td>\n",
       "      <td>Санкт-Петербург</td>\n",
       "      <td>23982.0</td>\n",
       "      <td>11634.0</td>\n",
       "      <td>0.0</td>\n",
       "      <td>NaN</td>\n",
       "      <td>0.0</td>\n",
       "      <td>NaN</td>\n",
       "      <td>0.0</td>\n",
       "    </tr>\n",
       "    <tr>\n",
       "      <th>8</th>\n",
       "      <td>20</td>\n",
       "      <td>2900000.0</td>\n",
       "      <td>33.16</td>\n",
       "      <td>2018-05-23T00:00:00</td>\n",
       "      <td>1</td>\n",
       "      <td>NaN</td>\n",
       "      <td>27.0</td>\n",
       "      <td>15.43</td>\n",
       "      <td>26</td>\n",
       "      <td>NaN</td>\n",
       "      <td>...</td>\n",
       "      <td>8.81</td>\n",
       "      <td>0.0</td>\n",
       "      <td>посёлок Мурино</td>\n",
       "      <td>NaN</td>\n",
       "      <td>NaN</td>\n",
       "      <td>NaN</td>\n",
       "      <td>NaN</td>\n",
       "      <td>NaN</td>\n",
       "      <td>NaN</td>\n",
       "      <td>189.0</td>\n",
       "    </tr>\n",
       "    <tr>\n",
       "      <th>9</th>\n",
       "      <td>18</td>\n",
       "      <td>5400000.0</td>\n",
       "      <td>61.00</td>\n",
       "      <td>2017-02-26T00:00:00</td>\n",
       "      <td>3</td>\n",
       "      <td>2.50</td>\n",
       "      <td>9.0</td>\n",
       "      <td>43.60</td>\n",
       "      <td>7</td>\n",
       "      <td>NaN</td>\n",
       "      <td>...</td>\n",
       "      <td>6.50</td>\n",
       "      <td>2.0</td>\n",
       "      <td>Санкт-Петербург</td>\n",
       "      <td>50898.0</td>\n",
       "      <td>15008.0</td>\n",
       "      <td>0.0</td>\n",
       "      <td>NaN</td>\n",
       "      <td>0.0</td>\n",
       "      <td>NaN</td>\n",
       "      <td>289.0</td>\n",
       "    </tr>\n",
       "  </tbody>\n",
       "</table>\n",
       "<p>10 rows × 22 columns</p>\n",
       "</div>"
      ],
      "text/plain": [
       "   total_images  last_price  total_area first_day_exposition  rooms  \\\n",
       "0            20  13000000.0      108.00  2019-03-07T00:00:00      3   \n",
       "1             7   3350000.0       40.40  2018-12-04T00:00:00      1   \n",
       "2            10   5196000.0       56.00  2015-08-20T00:00:00      2   \n",
       "3             0  64900000.0      159.00  2015-07-24T00:00:00      3   \n",
       "4             2  10000000.0      100.00  2018-06-19T00:00:00      2   \n",
       "5            10   2890000.0       30.40  2018-09-10T00:00:00      1   \n",
       "6             6   3700000.0       37.30  2017-11-02T00:00:00      1   \n",
       "7             5   7915000.0       71.60  2019-04-18T00:00:00      2   \n",
       "8            20   2900000.0       33.16  2018-05-23T00:00:00      1   \n",
       "9            18   5400000.0       61.00  2017-02-26T00:00:00      3   \n",
       "\n",
       "   ceiling_height  floors_total  living_area  floor is_apartment  ...  \\\n",
       "0            2.70          16.0        51.00      8          NaN  ...   \n",
       "1             NaN          11.0        18.60      1          NaN  ...   \n",
       "2             NaN           5.0        34.30      4          NaN  ...   \n",
       "3             NaN          14.0          NaN      9          NaN  ...   \n",
       "4            3.03          14.0        32.00     13          NaN  ...   \n",
       "5             NaN          12.0        14.40      5          NaN  ...   \n",
       "6             NaN          26.0        10.60      6          NaN  ...   \n",
       "7             NaN          24.0          NaN     22          NaN  ...   \n",
       "8             NaN          27.0        15.43     26          NaN  ...   \n",
       "9            2.50           9.0        43.60      7          NaN  ...   \n",
       "\n",
       "   kitchen_area  balcony              locality_name  airports_nearest  \\\n",
       "0         25.00      0.0            Санкт-Петербург           18863.0   \n",
       "1         11.00      2.0             посёлок Шушары           12817.0   \n",
       "2          8.30      0.0            Санкт-Петербург           21741.0   \n",
       "3           NaN      0.0            Санкт-Петербург           28098.0   \n",
       "4         41.00      0.0            Санкт-Петербург           31856.0   \n",
       "5          9.10      0.0  городской посёлок Янино-1               NaN   \n",
       "6         14.40      1.0          посёлок Парголово           52996.0   \n",
       "7         18.90      2.0            Санкт-Петербург           23982.0   \n",
       "8          8.81      0.0             посёлок Мурино               NaN   \n",
       "9          6.50      2.0            Санкт-Петербург           50898.0   \n",
       "\n",
       "  cityCenters_nearest  parks_around3000  parks_nearest  ponds_around3000  \\\n",
       "0             16028.0               1.0          482.0               2.0   \n",
       "1             18603.0               0.0            NaN               0.0   \n",
       "2             13933.0               1.0           90.0               2.0   \n",
       "3              6800.0               2.0           84.0               3.0   \n",
       "4              8098.0               2.0          112.0               1.0   \n",
       "5                 NaN               NaN            NaN               NaN   \n",
       "6             19143.0               0.0            NaN               0.0   \n",
       "7             11634.0               0.0            NaN               0.0   \n",
       "8                 NaN               NaN            NaN               NaN   \n",
       "9             15008.0               0.0            NaN               0.0   \n",
       "\n",
       "   ponds_nearest  days_exposition  \n",
       "0          755.0              0.0  \n",
       "1            NaN             81.0  \n",
       "2          574.0            558.0  \n",
       "3          234.0            424.0  \n",
       "4           48.0            121.0  \n",
       "5            NaN             55.0  \n",
       "6            NaN            155.0  \n",
       "7            NaN              0.0  \n",
       "8            NaN            189.0  \n",
       "9            NaN            289.0  \n",
       "\n",
       "[10 rows x 22 columns]"
      ]
     },
     "execution_count": 12,
     "metadata": {},
     "output_type": "execute_result"
    }
   ],
   "source": [
    "data['days_exposition'] = data['days_exposition'].fillna(0)\n",
    "data.head(10)"
   ]
  },
  {
   "cell_type": "markdown",
   "metadata": {},
   "source": [
    "В значениях высоты потолков заполняем пропуски наиболее распространённым значением"
   ]
  },
  {
   "cell_type": "code",
   "execution_count": 13,
   "metadata": {},
   "outputs": [
    {
     "name": "stdout",
     "output_type": "stream",
     "text": [
      "Медиана высоты потолков: 2.65\n",
      "Средняя высота потолков: 2.77149889685604\n"
     ]
    }
   ],
   "source": [
    "print('Медиана высоты потолков:', data['ceiling_height'].median())\n",
    "print('Средняя высота потолков:',data['ceiling_height'].mean())"
   ]
  },
  {
   "cell_type": "code",
   "execution_count": 14,
   "metadata": {},
   "outputs": [
    {
     "data": {
      "text/html": [
       "<div>\n",
       "<style scoped>\n",
       "    .dataframe tbody tr th:only-of-type {\n",
       "        vertical-align: middle;\n",
       "    }\n",
       "\n",
       "    .dataframe tbody tr th {\n",
       "        vertical-align: top;\n",
       "    }\n",
       "\n",
       "    .dataframe thead th {\n",
       "        text-align: right;\n",
       "    }\n",
       "</style>\n",
       "<table border=\"1\" class=\"dataframe\">\n",
       "  <thead>\n",
       "    <tr style=\"text-align: right;\">\n",
       "      <th></th>\n",
       "      <th>total_images</th>\n",
       "      <th>last_price</th>\n",
       "      <th>total_area</th>\n",
       "      <th>first_day_exposition</th>\n",
       "      <th>rooms</th>\n",
       "      <th>ceiling_height</th>\n",
       "      <th>floors_total</th>\n",
       "      <th>living_area</th>\n",
       "      <th>floor</th>\n",
       "      <th>is_apartment</th>\n",
       "      <th>...</th>\n",
       "      <th>kitchen_area</th>\n",
       "      <th>balcony</th>\n",
       "      <th>locality_name</th>\n",
       "      <th>airports_nearest</th>\n",
       "      <th>cityCenters_nearest</th>\n",
       "      <th>parks_around3000</th>\n",
       "      <th>parks_nearest</th>\n",
       "      <th>ponds_around3000</th>\n",
       "      <th>ponds_nearest</th>\n",
       "      <th>days_exposition</th>\n",
       "    </tr>\n",
       "  </thead>\n",
       "  <tbody>\n",
       "    <tr>\n",
       "      <th>0</th>\n",
       "      <td>20</td>\n",
       "      <td>13000000.0</td>\n",
       "      <td>108.0</td>\n",
       "      <td>2019-03-07T00:00:00</td>\n",
       "      <td>3</td>\n",
       "      <td>2.70</td>\n",
       "      <td>16.0</td>\n",
       "      <td>51.0</td>\n",
       "      <td>8</td>\n",
       "      <td>NaN</td>\n",
       "      <td>...</td>\n",
       "      <td>25.0</td>\n",
       "      <td>0.0</td>\n",
       "      <td>Санкт-Петербург</td>\n",
       "      <td>18863.0</td>\n",
       "      <td>16028.0</td>\n",
       "      <td>1.0</td>\n",
       "      <td>482.0</td>\n",
       "      <td>2.0</td>\n",
       "      <td>755.0</td>\n",
       "      <td>0.0</td>\n",
       "    </tr>\n",
       "    <tr>\n",
       "      <th>1</th>\n",
       "      <td>7</td>\n",
       "      <td>3350000.0</td>\n",
       "      <td>40.4</td>\n",
       "      <td>2018-12-04T00:00:00</td>\n",
       "      <td>1</td>\n",
       "      <td>2.60</td>\n",
       "      <td>11.0</td>\n",
       "      <td>18.6</td>\n",
       "      <td>1</td>\n",
       "      <td>NaN</td>\n",
       "      <td>...</td>\n",
       "      <td>11.0</td>\n",
       "      <td>2.0</td>\n",
       "      <td>посёлок Шушары</td>\n",
       "      <td>12817.0</td>\n",
       "      <td>18603.0</td>\n",
       "      <td>0.0</td>\n",
       "      <td>NaN</td>\n",
       "      <td>0.0</td>\n",
       "      <td>NaN</td>\n",
       "      <td>81.0</td>\n",
       "    </tr>\n",
       "    <tr>\n",
       "      <th>2</th>\n",
       "      <td>10</td>\n",
       "      <td>5196000.0</td>\n",
       "      <td>56.0</td>\n",
       "      <td>2015-08-20T00:00:00</td>\n",
       "      <td>2</td>\n",
       "      <td>2.60</td>\n",
       "      <td>5.0</td>\n",
       "      <td>34.3</td>\n",
       "      <td>4</td>\n",
       "      <td>NaN</td>\n",
       "      <td>...</td>\n",
       "      <td>8.3</td>\n",
       "      <td>0.0</td>\n",
       "      <td>Санкт-Петербург</td>\n",
       "      <td>21741.0</td>\n",
       "      <td>13933.0</td>\n",
       "      <td>1.0</td>\n",
       "      <td>90.0</td>\n",
       "      <td>2.0</td>\n",
       "      <td>574.0</td>\n",
       "      <td>558.0</td>\n",
       "    </tr>\n",
       "    <tr>\n",
       "      <th>3</th>\n",
       "      <td>0</td>\n",
       "      <td>64900000.0</td>\n",
       "      <td>159.0</td>\n",
       "      <td>2015-07-24T00:00:00</td>\n",
       "      <td>3</td>\n",
       "      <td>2.60</td>\n",
       "      <td>14.0</td>\n",
       "      <td>NaN</td>\n",
       "      <td>9</td>\n",
       "      <td>NaN</td>\n",
       "      <td>...</td>\n",
       "      <td>NaN</td>\n",
       "      <td>0.0</td>\n",
       "      <td>Санкт-Петербург</td>\n",
       "      <td>28098.0</td>\n",
       "      <td>6800.0</td>\n",
       "      <td>2.0</td>\n",
       "      <td>84.0</td>\n",
       "      <td>3.0</td>\n",
       "      <td>234.0</td>\n",
       "      <td>424.0</td>\n",
       "    </tr>\n",
       "    <tr>\n",
       "      <th>4</th>\n",
       "      <td>2</td>\n",
       "      <td>10000000.0</td>\n",
       "      <td>100.0</td>\n",
       "      <td>2018-06-19T00:00:00</td>\n",
       "      <td>2</td>\n",
       "      <td>3.03</td>\n",
       "      <td>14.0</td>\n",
       "      <td>32.0</td>\n",
       "      <td>13</td>\n",
       "      <td>NaN</td>\n",
       "      <td>...</td>\n",
       "      <td>41.0</td>\n",
       "      <td>0.0</td>\n",
       "      <td>Санкт-Петербург</td>\n",
       "      <td>31856.0</td>\n",
       "      <td>8098.0</td>\n",
       "      <td>2.0</td>\n",
       "      <td>112.0</td>\n",
       "      <td>1.0</td>\n",
       "      <td>48.0</td>\n",
       "      <td>121.0</td>\n",
       "    </tr>\n",
       "  </tbody>\n",
       "</table>\n",
       "<p>5 rows × 22 columns</p>\n",
       "</div>"
      ],
      "text/plain": [
       "   total_images  last_price  total_area first_day_exposition  rooms  \\\n",
       "0            20  13000000.0       108.0  2019-03-07T00:00:00      3   \n",
       "1             7   3350000.0        40.4  2018-12-04T00:00:00      1   \n",
       "2            10   5196000.0        56.0  2015-08-20T00:00:00      2   \n",
       "3             0  64900000.0       159.0  2015-07-24T00:00:00      3   \n",
       "4             2  10000000.0       100.0  2018-06-19T00:00:00      2   \n",
       "\n",
       "   ceiling_height  floors_total  living_area  floor is_apartment  ...  \\\n",
       "0            2.70          16.0         51.0      8          NaN  ...   \n",
       "1            2.60          11.0         18.6      1          NaN  ...   \n",
       "2            2.60           5.0         34.3      4          NaN  ...   \n",
       "3            2.60          14.0          NaN      9          NaN  ...   \n",
       "4            3.03          14.0         32.0     13          NaN  ...   \n",
       "\n",
       "   kitchen_area  balcony    locality_name  airports_nearest  \\\n",
       "0          25.0      0.0  Санкт-Петербург           18863.0   \n",
       "1          11.0      2.0   посёлок Шушары           12817.0   \n",
       "2           8.3      0.0  Санкт-Петербург           21741.0   \n",
       "3           NaN      0.0  Санкт-Петербург           28098.0   \n",
       "4          41.0      0.0  Санкт-Петербург           31856.0   \n",
       "\n",
       "  cityCenters_nearest  parks_around3000  parks_nearest  ponds_around3000  \\\n",
       "0             16028.0               1.0          482.0               2.0   \n",
       "1             18603.0               0.0            NaN               0.0   \n",
       "2             13933.0               1.0           90.0               2.0   \n",
       "3              6800.0               2.0           84.0               3.0   \n",
       "4              8098.0               2.0          112.0               1.0   \n",
       "\n",
       "   ponds_nearest  days_exposition  \n",
       "0          755.0              0.0  \n",
       "1            NaN             81.0  \n",
       "2          574.0            558.0  \n",
       "3          234.0            424.0  \n",
       "4           48.0            121.0  \n",
       "\n",
       "[5 rows x 22 columns]"
      ]
     },
     "execution_count": 14,
     "metadata": {},
     "output_type": "execute_result"
    }
   ],
   "source": [
    "data['ceiling_height'] = data['ceiling_height'].fillna(2.6)\n",
    "data.head()\n",
    "     "
   ]
  },
  {
   "cell_type": "markdown",
   "metadata": {},
   "source": [
    "Производим логичную замену типов данных в столбцах, где это уместно.\n"
   ]
  },
  {
   "cell_type": "code",
   "execution_count": 15,
   "metadata": {},
   "outputs": [
    {
     "data": {
      "text/html": [
       "<div>\n",
       "<style scoped>\n",
       "    .dataframe tbody tr th:only-of-type {\n",
       "        vertical-align: middle;\n",
       "    }\n",
       "\n",
       "    .dataframe tbody tr th {\n",
       "        vertical-align: top;\n",
       "    }\n",
       "\n",
       "    .dataframe thead th {\n",
       "        text-align: right;\n",
       "    }\n",
       "</style>\n",
       "<table border=\"1\" class=\"dataframe\">\n",
       "  <thead>\n",
       "    <tr style=\"text-align: right;\">\n",
       "      <th></th>\n",
       "      <th>total_images</th>\n",
       "      <th>last_price</th>\n",
       "      <th>total_area</th>\n",
       "      <th>first_day_exposition</th>\n",
       "      <th>rooms</th>\n",
       "      <th>ceiling_height</th>\n",
       "      <th>floors_total</th>\n",
       "      <th>living_area</th>\n",
       "      <th>floor</th>\n",
       "      <th>is_apartment</th>\n",
       "      <th>...</th>\n",
       "      <th>kitchen_area</th>\n",
       "      <th>balcony</th>\n",
       "      <th>locality_name</th>\n",
       "      <th>airports_nearest</th>\n",
       "      <th>cityCenters_nearest</th>\n",
       "      <th>parks_around3000</th>\n",
       "      <th>parks_nearest</th>\n",
       "      <th>ponds_around3000</th>\n",
       "      <th>ponds_nearest</th>\n",
       "      <th>days_exposition</th>\n",
       "    </tr>\n",
       "  </thead>\n",
       "  <tbody>\n",
       "    <tr>\n",
       "      <th>0</th>\n",
       "      <td>20</td>\n",
       "      <td>13000000</td>\n",
       "      <td>108.0</td>\n",
       "      <td>2019-03-07T00:00:00</td>\n",
       "      <td>3</td>\n",
       "      <td>2.70</td>\n",
       "      <td>16.0</td>\n",
       "      <td>51.0</td>\n",
       "      <td>8</td>\n",
       "      <td>True</td>\n",
       "      <td>...</td>\n",
       "      <td>25.0</td>\n",
       "      <td>0.0</td>\n",
       "      <td>Санкт-Петербург</td>\n",
       "      <td>18863.0</td>\n",
       "      <td>16028.0</td>\n",
       "      <td>1.0</td>\n",
       "      <td>482.0</td>\n",
       "      <td>2.0</td>\n",
       "      <td>755.0</td>\n",
       "      <td>0</td>\n",
       "    </tr>\n",
       "    <tr>\n",
       "      <th>1</th>\n",
       "      <td>7</td>\n",
       "      <td>3350000</td>\n",
       "      <td>40.4</td>\n",
       "      <td>2018-12-04T00:00:00</td>\n",
       "      <td>1</td>\n",
       "      <td>2.60</td>\n",
       "      <td>11.0</td>\n",
       "      <td>18.6</td>\n",
       "      <td>1</td>\n",
       "      <td>True</td>\n",
       "      <td>...</td>\n",
       "      <td>11.0</td>\n",
       "      <td>2.0</td>\n",
       "      <td>посёлок Шушары</td>\n",
       "      <td>12817.0</td>\n",
       "      <td>18603.0</td>\n",
       "      <td>0.0</td>\n",
       "      <td>NaN</td>\n",
       "      <td>0.0</td>\n",
       "      <td>NaN</td>\n",
       "      <td>81</td>\n",
       "    </tr>\n",
       "    <tr>\n",
       "      <th>2</th>\n",
       "      <td>10</td>\n",
       "      <td>5196000</td>\n",
       "      <td>56.0</td>\n",
       "      <td>2015-08-20T00:00:00</td>\n",
       "      <td>2</td>\n",
       "      <td>2.60</td>\n",
       "      <td>5.0</td>\n",
       "      <td>34.3</td>\n",
       "      <td>4</td>\n",
       "      <td>True</td>\n",
       "      <td>...</td>\n",
       "      <td>8.3</td>\n",
       "      <td>0.0</td>\n",
       "      <td>Санкт-Петербург</td>\n",
       "      <td>21741.0</td>\n",
       "      <td>13933.0</td>\n",
       "      <td>1.0</td>\n",
       "      <td>90.0</td>\n",
       "      <td>2.0</td>\n",
       "      <td>574.0</td>\n",
       "      <td>558</td>\n",
       "    </tr>\n",
       "    <tr>\n",
       "      <th>3</th>\n",
       "      <td>0</td>\n",
       "      <td>64900000</td>\n",
       "      <td>159.0</td>\n",
       "      <td>2015-07-24T00:00:00</td>\n",
       "      <td>3</td>\n",
       "      <td>2.60</td>\n",
       "      <td>14.0</td>\n",
       "      <td>NaN</td>\n",
       "      <td>9</td>\n",
       "      <td>True</td>\n",
       "      <td>...</td>\n",
       "      <td>NaN</td>\n",
       "      <td>0.0</td>\n",
       "      <td>Санкт-Петербург</td>\n",
       "      <td>28098.0</td>\n",
       "      <td>6800.0</td>\n",
       "      <td>2.0</td>\n",
       "      <td>84.0</td>\n",
       "      <td>3.0</td>\n",
       "      <td>234.0</td>\n",
       "      <td>424</td>\n",
       "    </tr>\n",
       "    <tr>\n",
       "      <th>4</th>\n",
       "      <td>2</td>\n",
       "      <td>10000000</td>\n",
       "      <td>100.0</td>\n",
       "      <td>2018-06-19T00:00:00</td>\n",
       "      <td>2</td>\n",
       "      <td>3.03</td>\n",
       "      <td>14.0</td>\n",
       "      <td>32.0</td>\n",
       "      <td>13</td>\n",
       "      <td>True</td>\n",
       "      <td>...</td>\n",
       "      <td>41.0</td>\n",
       "      <td>0.0</td>\n",
       "      <td>Санкт-Петербург</td>\n",
       "      <td>31856.0</td>\n",
       "      <td>8098.0</td>\n",
       "      <td>2.0</td>\n",
       "      <td>112.0</td>\n",
       "      <td>1.0</td>\n",
       "      <td>48.0</td>\n",
       "      <td>121</td>\n",
       "    </tr>\n",
       "  </tbody>\n",
       "</table>\n",
       "<p>5 rows × 22 columns</p>\n",
       "</div>"
      ],
      "text/plain": [
       "   total_images  last_price  total_area first_day_exposition  rooms  \\\n",
       "0            20    13000000       108.0  2019-03-07T00:00:00      3   \n",
       "1             7     3350000        40.4  2018-12-04T00:00:00      1   \n",
       "2            10     5196000        56.0  2015-08-20T00:00:00      2   \n",
       "3             0    64900000       159.0  2015-07-24T00:00:00      3   \n",
       "4             2    10000000       100.0  2018-06-19T00:00:00      2   \n",
       "\n",
       "   ceiling_height  floors_total  living_area  floor  is_apartment  ...  \\\n",
       "0            2.70          16.0         51.0      8          True  ...   \n",
       "1            2.60          11.0         18.6      1          True  ...   \n",
       "2            2.60           5.0         34.3      4          True  ...   \n",
       "3            2.60          14.0          NaN      9          True  ...   \n",
       "4            3.03          14.0         32.0     13          True  ...   \n",
       "\n",
       "   kitchen_area  balcony    locality_name  airports_nearest  \\\n",
       "0          25.0      0.0  Санкт-Петербург           18863.0   \n",
       "1          11.0      2.0   посёлок Шушары           12817.0   \n",
       "2           8.3      0.0  Санкт-Петербург           21741.0   \n",
       "3           NaN      0.0  Санкт-Петербург           28098.0   \n",
       "4          41.0      0.0  Санкт-Петербург           31856.0   \n",
       "\n",
       "  cityCenters_nearest  parks_around3000  parks_nearest  ponds_around3000  \\\n",
       "0             16028.0               1.0          482.0               2.0   \n",
       "1             18603.0               0.0            NaN               0.0   \n",
       "2             13933.0               1.0           90.0               2.0   \n",
       "3              6800.0               2.0           84.0               3.0   \n",
       "4              8098.0               2.0          112.0               1.0   \n",
       "\n",
       "   ponds_nearest  days_exposition  \n",
       "0          755.0                0  \n",
       "1            NaN               81  \n",
       "2          574.0              558  \n",
       "3          234.0              424  \n",
       "4           48.0              121  \n",
       "\n",
       "[5 rows x 22 columns]"
      ]
     },
     "execution_count": 15,
     "metadata": {},
     "output_type": "execute_result"
    }
   ],
   "source": [
    "data['is_apartment'] = data['is_apartment'].astype('bool')\n",
    "data['days_exposition'] = data['days_exposition'].astype(int)\n",
    "data['last_price'] = data['last_price'].astype(int)\n",
    "\n",
    "data.head()"
   ]
  },
  {
   "cell_type": "markdown",
   "metadata": {},
   "source": [
    "Изучаем названия населённых пунктов"
   ]
  },
  {
   "cell_type": "code",
   "execution_count": 16,
   "metadata": {},
   "outputs": [
    {
     "data": {
      "text/plain": [
       "array(['Санкт-Петербург', 'посёлок Шушары', 'городской посёлок Янино-1',\n",
       "       'посёлок Парголово', 'посёлок Мурино', 'Ломоносов', 'Сертолово',\n",
       "       'Петергоф', 'Пушкин', 'деревня Кудрово', 'Коммунар', 'Колпино',\n",
       "       'поселок городского типа Красный Бор', 'Гатчина', 'поселок Мурино',\n",
       "       'деревня Фёдоровское', 'Выборг', 'Кронштадт', 'Кировск',\n",
       "       'деревня Новое Девяткино', 'посёлок Металлострой',\n",
       "       'посёлок городского типа Лебяжье',\n",
       "       'посёлок городского типа Сиверский', 'поселок Молодцово',\n",
       "       'поселок городского типа Кузьмоловский',\n",
       "       'садовое товарищество Новая Ропша', 'Павловск',\n",
       "       'деревня Пикколово', 'Всеволожск', 'Волхов', 'Кингисепп',\n",
       "       'Приозерск', 'Сестрорецк', 'деревня Куттузи', 'посёлок Аннино',\n",
       "       'поселок городского типа Ефимовский', 'посёлок Плодовое',\n",
       "       'деревня Заклинье', 'поселок Торковичи', 'поселок Первомайское',\n",
       "       'Красное Село', 'посёлок Понтонный', 'Сясьстрой', 'деревня Старая',\n",
       "       'деревня Лесколово', 'посёлок Новый Свет', 'Сланцы',\n",
       "       'село Путилово', 'Ивангород', 'Мурино', 'Шлиссельбург',\n",
       "       'Никольское', 'Зеленогорск', 'Сосновый Бор', 'поселок Новый Свет',\n",
       "       'деревня Оржицы', 'деревня Кальтино', 'Кудрово',\n",
       "       'поселок Романовка', 'посёлок Бугры', 'поселок Бугры',\n",
       "       'поселок городского типа Рощино', 'Кириши', 'Луга', 'Волосово',\n",
       "       'Отрадное', 'село Павлово', 'поселок Оредеж', 'село Копорье',\n",
       "       'посёлок городского типа Красный Бор', 'посёлок Молодёжное',\n",
       "       'Тихвин', 'посёлок Победа', 'деревня Нурма',\n",
       "       'поселок городского типа Синявино', 'Тосно',\n",
       "       'посёлок городского типа Кузьмоловский', 'посёлок Стрельна',\n",
       "       'Бокситогорск', 'посёлок Александровская', 'деревня Лопухинка',\n",
       "       'Пикалёво', 'поселок Терволово',\n",
       "       'поселок городского типа Советский', 'Подпорожье',\n",
       "       'посёлок Петровское', 'посёлок городского типа Токсово',\n",
       "       'поселок Сельцо', 'посёлок городского типа Вырица',\n",
       "       'деревня Кипень', 'деревня Келози', 'деревня Вартемяги',\n",
       "       'посёлок Тельмана', 'поселок Севастьяново',\n",
       "       'городской поселок Большая Ижора', nan,\n",
       "       'городской посёлок Павлово', 'деревня Агалатово',\n",
       "       'посёлок Новогорелово', 'городской посёлок Лесогорский',\n",
       "       'деревня Лаголово', 'поселок Цвелодубово',\n",
       "       'поселок городского типа Рахья', 'поселок городского типа Вырица',\n",
       "       'деревня Белогорка', 'поселок Заводской',\n",
       "       'городской посёлок Новоселье', 'деревня Большие Колпаны',\n",
       "       'деревня Горбунки', 'деревня Батово', 'деревня Заневка',\n",
       "       'деревня Иссад', 'Приморск', 'городской посёлок Фёдоровское',\n",
       "       'деревня Мистолово', 'Новая Ладога', 'поселок Зимитицы',\n",
       "       'поселок Барышево', 'деревня Разметелево',\n",
       "       'поселок городского типа имени Свердлова', 'деревня Пеники',\n",
       "       'поселок Рябово', 'деревня Пудомяги', 'поселок станции Корнево',\n",
       "       'деревня Низино', 'деревня Бегуницы', 'посёлок Поляны',\n",
       "       'городской посёлок Мга', 'поселок Елизаветино',\n",
       "       'посёлок городского типа Кузнечное', 'деревня Колтуши',\n",
       "       'поселок Запорожское', 'посёлок городского типа Рощино',\n",
       "       'деревня Гостилицы', 'деревня Малое Карлино',\n",
       "       'посёлок Мичуринское', 'посёлок городского типа имени Морозова',\n",
       "       'посёлок Песочный', 'посёлок Сосново', 'деревня Аро',\n",
       "       'поселок Ильичёво', 'посёлок городского типа Тайцы',\n",
       "       'деревня Малое Верево', 'деревня Извара', 'поселок станции Вещево',\n",
       "       'село Паша', 'деревня Калитино',\n",
       "       'посёлок городского типа Ульяновка', 'деревня Чудской Бор',\n",
       "       'поселок городского типа Дубровка', 'деревня Мины',\n",
       "       'поселок Войсковицы', 'посёлок городского типа имени Свердлова',\n",
       "       'деревня Коркино', 'посёлок Ропша',\n",
       "       'поселок городского типа Приладожский', 'посёлок Щеглово',\n",
       "       'посёлок Гаврилово', 'Лодейное Поле', 'деревня Рабитицы',\n",
       "       'поселок городского типа Никольский', 'деревня Кузьмолово',\n",
       "       'деревня Малые Колпаны', 'поселок Тельмана',\n",
       "       'посёлок Петро-Славянка', 'городской посёлок Назия',\n",
       "       'посёлок Репино', 'посёлок Ильичёво', 'поселок Углово',\n",
       "       'поселок Старая Малукса', 'садовое товарищество Рахья',\n",
       "       'поселок Аннино', 'поселок Победа', 'деревня Меньково',\n",
       "       'деревня Старые Бегуницы', 'посёлок Сапёрный', 'поселок Семрино',\n",
       "       'поселок Гаврилово', 'поселок Глажево', 'поселок Кобринское',\n",
       "       'деревня Гарболово', 'деревня Юкки',\n",
       "       'поселок станции Приветнинское', 'деревня Мануйлово',\n",
       "       'деревня Пчева', 'поселок Поляны', 'поселок Цвылёво',\n",
       "       'поселок Мельниково', 'посёлок Пудость', 'посёлок Усть-Луга',\n",
       "       'Светогорск', 'Любань', 'поселок Селезнёво',\n",
       "       'поселок городского типа Рябово', 'Каменногорск', 'деревня Кривко',\n",
       "       'поселок Глебычево', 'деревня Парицы', 'поселок Жилпосёлок',\n",
       "       'посёлок городского типа Мга', 'городской поселок Янино-1',\n",
       "       'посёлок Войскорово', 'село Никольское', 'посёлок Терволово',\n",
       "       'поселок Стеклянный', 'посёлок городского типа Важины',\n",
       "       'посёлок Мыза-Ивановка', 'село Русско-Высоцкое',\n",
       "       'поселок городского типа Лебяжье',\n",
       "       'поселок городского типа Форносово', 'село Старая Ладога',\n",
       "       'поселок Житково', 'городской посёлок Виллози', 'деревня Лампово',\n",
       "       'деревня Шпаньково', 'деревня Лаврики', 'посёлок Сумино',\n",
       "       'посёлок Возрождение', 'деревня Старосиверская',\n",
       "       'посёлок Кикерино', 'поселок Возрождение',\n",
       "       'деревня Старое Хинколово', 'посёлок Пригородный',\n",
       "       'посёлок Торфяное', 'городской посёлок Будогощь',\n",
       "       'поселок Суходолье', 'поселок Красная Долина', 'деревня Хапо-Ое',\n",
       "       'поселок городского типа Дружная Горка', 'поселок Лисий Нос',\n",
       "       'деревня Яльгелево', 'посёлок Стеклянный', 'село Рождествено',\n",
       "       'деревня Старополье', 'посёлок Левашово', 'деревня Сяськелево',\n",
       "       'деревня Камышовка',\n",
       "       'садоводческое некоммерческое товарищество Лесная Поляна',\n",
       "       'деревня Хязельки', 'поселок Жилгородок',\n",
       "       'посёлок городского типа Павлово', 'деревня Ялгино',\n",
       "       'поселок Новый Учхоз', 'городской посёлок Рощино',\n",
       "       'поселок Гончарово', 'поселок Почап', 'посёлок Сапёрное',\n",
       "       'посёлок Платформа 69-й километр', 'поселок Каложицы',\n",
       "       'деревня Фалилеево', 'деревня Пельгора',\n",
       "       'поселок городского типа Лесогорский', 'деревня Торошковичи',\n",
       "       'посёлок Белоостров', 'посёлок Алексеевка', 'поселок Серебрянский',\n",
       "       'поселок Лукаши', 'поселок Петровское', 'деревня Щеглово',\n",
       "       'поселок Мичуринское', 'деревня Тарасово', 'поселок Кингисеппский',\n",
       "       'посёлок при железнодорожной станции Вещево', 'поселок Ушаки',\n",
       "       'деревня Котлы', 'деревня Сижно', 'деревня Торосово',\n",
       "       'посёлок Форт Красная Горка', 'поселок городского типа Токсово',\n",
       "       'деревня Новолисино', 'посёлок станции Громово', 'деревня Глинка',\n",
       "       'посёлок Мельниково', 'поселок городского типа Назия',\n",
       "       'деревня Старая Пустошь', 'поселок Коммунары', 'поселок Починок',\n",
       "       'посёлок городского типа Вознесенье', 'деревня Разбегаево',\n",
       "       'посёлок городского типа Рябово', 'поселок Гладкое',\n",
       "       'посёлок при железнодорожной станции Приветнинское',\n",
       "       'поселок Тёсово-4', 'посёлок Жилгородок', 'деревня Бор',\n",
       "       'посёлок Коробицыно', 'деревня Большая Вруда', 'деревня Курковицы',\n",
       "       'посёлок Лисий Нос', 'городской посёлок Советский',\n",
       "       'посёлок Кобралово', 'деревня Суоранда', 'поселок Кобралово',\n",
       "       'поселок городского типа Кондратьево',\n",
       "       'коттеджный поселок Счастье', 'поселок Любань', 'деревня Реброво',\n",
       "       'деревня Зимитицы', 'деревня Тойворово', 'поселок Семиозерье',\n",
       "       'поселок Лесное', 'поселок Совхозный', 'поселок Усть-Луга',\n",
       "       'посёлок Ленинское', 'посёлок Суйда',\n",
       "       'посёлок городского типа Форносово', 'деревня Нижние Осельки',\n",
       "       'посёлок станции Свирь', 'поселок Перово', 'Высоцк',\n",
       "       'поселок Гарболово', 'село Шум', 'поселок Котельский',\n",
       "       'поселок станции Лужайка', 'деревня Большая Пустомержа',\n",
       "       'поселок Красносельское', 'деревня Вахнова Кара', 'деревня Пижма',\n",
       "       'коттеджный поселок Кивеннапа Север', 'поселок Коробицыно',\n",
       "       'поселок Ромашки', 'посёлок Перово', 'деревня Каськово',\n",
       "       'деревня Куровицы', 'посёлок Плоское', 'поселок Сумино',\n",
       "       'поселок городского типа Большая Ижора', 'поселок Кирпичное',\n",
       "       'деревня Ям-Тесово', 'деревня Раздолье', 'деревня Терпилицы',\n",
       "       'посёлок Шугозеро', 'деревня Ваганово', 'поселок Пушное',\n",
       "       'садовое товарищество Садко', 'посёлок Усть-Ижора',\n",
       "       'деревня Выскатка', 'городской посёлок Свирьстрой',\n",
       "       'поселок Громово', 'деревня Кисельня', 'посёлок Старая Малукса',\n",
       "       'деревня Трубников Бор', 'поселок Калитино',\n",
       "       'посёлок Высокоключевой', 'садовое товарищество Приладожский',\n",
       "       'посёлок Пансионат Зелёный Бор', 'деревня Ненимяки',\n",
       "       'поселок Пансионат Зелёный Бор', 'деревня Снегирёвка',\n",
       "       'деревня Рапполово', 'деревня Пустынка', 'поселок Рабитицы',\n",
       "       'деревня Большой Сабск', 'деревня Русско', 'деревня Лупполово',\n",
       "       'деревня Большое Рейзино', 'деревня Малая Романовка',\n",
       "       'поселок Дружноселье', 'поселок Пчевжа', 'поселок Володарское',\n",
       "       'деревня Нижняя', 'коттеджный посёлок Лесное', 'деревня Тихковицы',\n",
       "       'деревня Борисова Грива', 'посёлок Дзержинского'], dtype=object)"
      ]
     },
     "execution_count": 16,
     "metadata": {},
     "output_type": "execute_result"
    }
   ],
   "source": [
    "data['locality_name'].unique()"
   ]
  },
  {
   "cell_type": "markdown",
   "metadata": {},
   "source": [
    "Для дальнейшего удобства работы приводим все названия к нижнему регистру и заменяем \"Ё\" на \"Е\""
   ]
  },
  {
   "cell_type": "code",
   "execution_count": 17,
   "metadata": {},
   "outputs": [
    {
     "data": {
      "text/plain": [
       "array(['санкт-петербург', 'поселок шушары', 'городской поселок янино-1',\n",
       "       'поселок парголово', 'поселок мурино', 'ломоносов', 'сертолово',\n",
       "       'петергоф', 'пушкин', 'деревня кудрово', 'коммунар', 'колпино',\n",
       "       'поселок городского типа красный бор', 'гатчина',\n",
       "       'деревня федоровское', 'выборг', 'кронштадт', 'кировск',\n",
       "       'деревня новое девяткино', 'поселок металлострой',\n",
       "       'поселок городского типа лебяжье',\n",
       "       'поселок городского типа сиверский', 'поселок молодцово',\n",
       "       'поселок городского типа кузьмоловский',\n",
       "       'садовое товарищество новая ропша', 'павловск',\n",
       "       'деревня пикколово', 'всеволожск', 'волхов', 'кингисепп',\n",
       "       'приозерск', 'сестрорецк', 'деревня куттузи', 'поселок аннино',\n",
       "       'поселок городского типа ефимовский', 'поселок плодовое',\n",
       "       'деревня заклинье', 'поселок торковичи', 'поселок первомайское',\n",
       "       'красное село', 'поселок понтонный', 'сясьстрой', 'деревня старая',\n",
       "       'деревня лесколово', 'поселок новый свет', 'сланцы',\n",
       "       'село путилово', 'ивангород', 'мурино', 'шлиссельбург',\n",
       "       'никольское', 'зеленогорск', 'сосновый бор', 'деревня оржицы',\n",
       "       'деревня кальтино', 'кудрово', 'поселок романовка',\n",
       "       'поселок бугры', 'поселок городского типа рощино', 'кириши',\n",
       "       'луга', 'волосово', 'отрадное', 'село павлово', 'поселок оредеж',\n",
       "       'село копорье', 'поселок молодежное', 'тихвин', 'поселок победа',\n",
       "       'деревня нурма', 'поселок городского типа синявино', 'тосно',\n",
       "       'поселок стрельна', 'бокситогорск', 'поселок александровская',\n",
       "       'деревня лопухинка', 'пикалево', 'поселок терволово',\n",
       "       'поселок городского типа советский', 'подпорожье',\n",
       "       'поселок петровское', 'поселок городского типа токсово',\n",
       "       'поселок сельцо', 'поселок городского типа вырица',\n",
       "       'деревня кипень', 'деревня келози', 'деревня вартемяги',\n",
       "       'поселок тельмана', 'поселок севастьяново',\n",
       "       'городской поселок большая ижора', nan,\n",
       "       'городской поселок павлово', 'деревня агалатово',\n",
       "       'поселок новогорелово', 'городской поселок лесогорский',\n",
       "       'деревня лаголово', 'поселок цвелодубово',\n",
       "       'поселок городского типа рахья', 'деревня белогорка',\n",
       "       'поселок заводской', 'городской поселок новоселье',\n",
       "       'деревня большие колпаны', 'деревня горбунки', 'деревня батово',\n",
       "       'деревня заневка', 'деревня иссад', 'приморск',\n",
       "       'городской поселок федоровское', 'деревня мистолово',\n",
       "       'новая ладога', 'поселок зимитицы', 'поселок барышево',\n",
       "       'деревня разметелево', 'поселок городского типа имени свердлова',\n",
       "       'деревня пеники', 'поселок рябово', 'деревня пудомяги',\n",
       "       'поселок станции корнево', 'деревня низино', 'деревня бегуницы',\n",
       "       'поселок поляны', 'городской поселок мга', 'поселок елизаветино',\n",
       "       'поселок городского типа кузнечное', 'деревня колтуши',\n",
       "       'поселок запорожское', 'деревня гостилицы',\n",
       "       'деревня малое карлино', 'поселок мичуринское',\n",
       "       'поселок городского типа имени морозова', 'поселок песочный',\n",
       "       'поселок сосново', 'деревня аро', 'поселок ильичево',\n",
       "       'поселок городского типа тайцы', 'деревня малое верево',\n",
       "       'деревня извара', 'поселок станции вещево', 'село паша',\n",
       "       'деревня калитино', 'поселок городского типа ульяновка',\n",
       "       'деревня чудской бор', 'поселок городского типа дубровка',\n",
       "       'деревня мины', 'поселок войсковицы', 'деревня коркино',\n",
       "       'поселок ропша', 'поселок городского типа приладожский',\n",
       "       'поселок щеглово', 'поселок гаврилово', 'лодейное поле',\n",
       "       'деревня рабитицы', 'поселок городского типа никольский',\n",
       "       'деревня кузьмолово', 'деревня малые колпаны',\n",
       "       'поселок петро-славянка', 'городской поселок назия',\n",
       "       'поселок репино', 'поселок углово', 'поселок старая малукса',\n",
       "       'садовое товарищество рахья', 'деревня меньково',\n",
       "       'деревня старые бегуницы', 'поселок саперный', 'поселок семрино',\n",
       "       'поселок глажево', 'поселок кобринское', 'деревня гарболово',\n",
       "       'деревня юкки', 'поселок станции приветнинское',\n",
       "       'деревня мануйлово', 'деревня пчева', 'поселок цвылево',\n",
       "       'поселок мельниково', 'поселок пудость', 'поселок усть-луга',\n",
       "       'светогорск', 'любань', 'поселок селезнево',\n",
       "       'поселок городского типа рябово', 'каменногорск', 'деревня кривко',\n",
       "       'поселок глебычево', 'деревня парицы', 'поселок жилпоселок',\n",
       "       'поселок городского типа мга', 'поселок войскорово',\n",
       "       'село никольское', 'поселок стеклянный',\n",
       "       'поселок городского типа важины', 'поселок мыза-ивановка',\n",
       "       'село русско-высоцкое', 'поселок городского типа форносово',\n",
       "       'село старая ладога', 'поселок житково',\n",
       "       'городской поселок виллози', 'деревня лампово',\n",
       "       'деревня шпаньково', 'деревня лаврики', 'поселок сумино',\n",
       "       'поселок возрождение', 'деревня старосиверская',\n",
       "       'поселок кикерино', 'деревня старое хинколово',\n",
       "       'поселок пригородный', 'поселок торфяное',\n",
       "       'городской поселок будогощь', 'поселок суходолье',\n",
       "       'поселок красная долина', 'деревня хапо-ое',\n",
       "       'поселок городского типа дружная горка', 'поселок лисий нос',\n",
       "       'деревня яльгелево', 'село рождествено', 'деревня старополье',\n",
       "       'поселок левашово', 'деревня сяськелево', 'деревня камышовка',\n",
       "       'садоводческое некоммерческое товарищество лесная поляна',\n",
       "       'деревня хязельки', 'поселок жилгородок',\n",
       "       'поселок городского типа павлово', 'деревня ялгино',\n",
       "       'поселок новый учхоз', 'городской поселок рощино',\n",
       "       'поселок гончарово', 'поселок почап', 'поселок саперное',\n",
       "       'поселок платформа 69-й километр', 'поселок каложицы',\n",
       "       'деревня фалилеево', 'деревня пельгора',\n",
       "       'поселок городского типа лесогорский', 'деревня торошковичи',\n",
       "       'поселок белоостров', 'поселок алексеевка', 'поселок серебрянский',\n",
       "       'поселок лукаши', 'деревня щеглово', 'деревня тарасово',\n",
       "       'поселок кингисеппский',\n",
       "       'поселок при железнодорожной станции вещево', 'поселок ушаки',\n",
       "       'деревня котлы', 'деревня сижно', 'деревня торосово',\n",
       "       'поселок форт красная горка', 'деревня новолисино',\n",
       "       'поселок станции громово', 'деревня глинка',\n",
       "       'поселок городского типа назия', 'деревня старая пустошь',\n",
       "       'поселок коммунары', 'поселок починок',\n",
       "       'поселок городского типа вознесенье', 'деревня разбегаево',\n",
       "       'поселок гладкое',\n",
       "       'поселок при железнодорожной станции приветнинское',\n",
       "       'поселок тесово-4', 'деревня бор', 'поселок коробицыно',\n",
       "       'деревня большая вруда', 'деревня курковицы',\n",
       "       'городской поселок советский', 'поселок кобралово',\n",
       "       'деревня суоранда', 'поселок городского типа кондратьево',\n",
       "       'коттеджный поселок счастье', 'поселок любань', 'деревня реброво',\n",
       "       'деревня зимитицы', 'деревня тойворово', 'поселок семиозерье',\n",
       "       'поселок лесное', 'поселок совхозный', 'поселок ленинское',\n",
       "       'поселок суйда', 'деревня нижние осельки', 'поселок станции свирь',\n",
       "       'поселок перово', 'высоцк', 'поселок гарболово', 'село шум',\n",
       "       'поселок котельский', 'поселок станции лужайка',\n",
       "       'деревня большая пустомержа', 'поселок красносельское',\n",
       "       'деревня вахнова кара', 'деревня пижма',\n",
       "       'коттеджный поселок кивеннапа север', 'поселок ромашки',\n",
       "       'деревня каськово', 'деревня куровицы', 'поселок плоское',\n",
       "       'поселок городского типа большая ижора', 'поселок кирпичное',\n",
       "       'деревня ям-тесово', 'деревня раздолье', 'деревня терпилицы',\n",
       "       'поселок шугозеро', 'деревня ваганово', 'поселок пушное',\n",
       "       'садовое товарищество садко', 'поселок усть-ижора',\n",
       "       'деревня выскатка', 'городской поселок свирьстрой',\n",
       "       'поселок громово', 'деревня кисельня', 'деревня трубников бор',\n",
       "       'поселок калитино', 'поселок высокоключевой',\n",
       "       'садовое товарищество приладожский',\n",
       "       'поселок пансионат зеленый бор', 'деревня ненимяки',\n",
       "       'деревня снегиревка', 'деревня рапполово', 'деревня пустынка',\n",
       "       'поселок рабитицы', 'деревня большой сабск', 'деревня русско',\n",
       "       'деревня лупполово', 'деревня большое рейзино',\n",
       "       'деревня малая романовка', 'поселок дружноселье', 'поселок пчевжа',\n",
       "       'поселок володарское', 'деревня нижняя',\n",
       "       'коттеджный поселок лесное', 'деревня тихковицы',\n",
       "       'деревня борисова грива', 'поселок дзержинского'], dtype=object)"
      ]
     },
     "execution_count": 17,
     "metadata": {},
     "output_type": "execute_result"
    }
   ],
   "source": [
    "data['locality_name'] = data['locality_name'].str.lower()\n",
    "data['locality_name'] = data['locality_name'].str.replace('ё','е')\n",
    "data['locality_name'].unique()"
   ]
  },
  {
   "cell_type": "markdown",
   "metadata": {},
   "source": [
    "Также избавляемся от лишних слов, которые не потребуются при анализе"
   ]
  },
  {
   "cell_type": "code",
   "execution_count": 18,
   "metadata": {},
   "outputs": [],
   "source": [
    "data['locality_name'] = data['locality_name'].str.replace('поселок','')\n",
    "data['locality_name'] = data['locality_name'].str.replace('деревня','')"
   ]
  },
  {
   "cell_type": "markdown",
   "metadata": {},
   "source": [
    "## Расчёты и добавление результатов в таблицу"
   ]
  },
  {
   "cell_type": "markdown",
   "metadata": {},
   "source": [
    "Считаем и добавляем в таблицу цену за квадратный метр и соотношения площадей \n",
    "(общей к жилой и общей к площади к кухни)"
   ]
  },
  {
   "cell_type": "code",
   "execution_count": 19,
   "metadata": {},
   "outputs": [
    {
     "data": {
      "text/html": [
       "<div>\n",
       "<style scoped>\n",
       "    .dataframe tbody tr th:only-of-type {\n",
       "        vertical-align: middle;\n",
       "    }\n",
       "\n",
       "    .dataframe tbody tr th {\n",
       "        vertical-align: top;\n",
       "    }\n",
       "\n",
       "    .dataframe thead th {\n",
       "        text-align: right;\n",
       "    }\n",
       "</style>\n",
       "<table border=\"1\" class=\"dataframe\">\n",
       "  <thead>\n",
       "    <tr style=\"text-align: right;\">\n",
       "      <th></th>\n",
       "      <th>total_images</th>\n",
       "      <th>last_price</th>\n",
       "      <th>total_area</th>\n",
       "      <th>first_day_exposition</th>\n",
       "      <th>rooms</th>\n",
       "      <th>ceiling_height</th>\n",
       "      <th>floors_total</th>\n",
       "      <th>living_area</th>\n",
       "      <th>floor</th>\n",
       "      <th>is_apartment</th>\n",
       "      <th>...</th>\n",
       "      <th>airports_nearest</th>\n",
       "      <th>cityCenters_nearest</th>\n",
       "      <th>parks_around3000</th>\n",
       "      <th>parks_nearest</th>\n",
       "      <th>ponds_around3000</th>\n",
       "      <th>ponds_nearest</th>\n",
       "      <th>days_exposition</th>\n",
       "      <th>price_for_meter</th>\n",
       "      <th>area_ratio</th>\n",
       "      <th>kitchen_ratio</th>\n",
       "    </tr>\n",
       "  </thead>\n",
       "  <tbody>\n",
       "    <tr>\n",
       "      <th>0</th>\n",
       "      <td>20</td>\n",
       "      <td>13000000</td>\n",
       "      <td>108.00</td>\n",
       "      <td>2019-03-07T00:00:00</td>\n",
       "      <td>3</td>\n",
       "      <td>2.70</td>\n",
       "      <td>16.0</td>\n",
       "      <td>51.00</td>\n",
       "      <td>8</td>\n",
       "      <td>True</td>\n",
       "      <td>...</td>\n",
       "      <td>18863.0</td>\n",
       "      <td>16028.0</td>\n",
       "      <td>1.0</td>\n",
       "      <td>482.0</td>\n",
       "      <td>2.0</td>\n",
       "      <td>755.0</td>\n",
       "      <td>0</td>\n",
       "      <td>120370.370370</td>\n",
       "      <td>0.472222</td>\n",
       "      <td>0.231481</td>\n",
       "    </tr>\n",
       "    <tr>\n",
       "      <th>1</th>\n",
       "      <td>7</td>\n",
       "      <td>3350000</td>\n",
       "      <td>40.40</td>\n",
       "      <td>2018-12-04T00:00:00</td>\n",
       "      <td>1</td>\n",
       "      <td>2.60</td>\n",
       "      <td>11.0</td>\n",
       "      <td>18.60</td>\n",
       "      <td>1</td>\n",
       "      <td>True</td>\n",
       "      <td>...</td>\n",
       "      <td>12817.0</td>\n",
       "      <td>18603.0</td>\n",
       "      <td>0.0</td>\n",
       "      <td>NaN</td>\n",
       "      <td>0.0</td>\n",
       "      <td>NaN</td>\n",
       "      <td>81</td>\n",
       "      <td>82920.792079</td>\n",
       "      <td>0.460396</td>\n",
       "      <td>0.272277</td>\n",
       "    </tr>\n",
       "    <tr>\n",
       "      <th>2</th>\n",
       "      <td>10</td>\n",
       "      <td>5196000</td>\n",
       "      <td>56.00</td>\n",
       "      <td>2015-08-20T00:00:00</td>\n",
       "      <td>2</td>\n",
       "      <td>2.60</td>\n",
       "      <td>5.0</td>\n",
       "      <td>34.30</td>\n",
       "      <td>4</td>\n",
       "      <td>True</td>\n",
       "      <td>...</td>\n",
       "      <td>21741.0</td>\n",
       "      <td>13933.0</td>\n",
       "      <td>1.0</td>\n",
       "      <td>90.0</td>\n",
       "      <td>2.0</td>\n",
       "      <td>574.0</td>\n",
       "      <td>558</td>\n",
       "      <td>92785.714286</td>\n",
       "      <td>0.612500</td>\n",
       "      <td>0.148214</td>\n",
       "    </tr>\n",
       "    <tr>\n",
       "      <th>3</th>\n",
       "      <td>0</td>\n",
       "      <td>64900000</td>\n",
       "      <td>159.00</td>\n",
       "      <td>2015-07-24T00:00:00</td>\n",
       "      <td>3</td>\n",
       "      <td>2.60</td>\n",
       "      <td>14.0</td>\n",
       "      <td>NaN</td>\n",
       "      <td>9</td>\n",
       "      <td>True</td>\n",
       "      <td>...</td>\n",
       "      <td>28098.0</td>\n",
       "      <td>6800.0</td>\n",
       "      <td>2.0</td>\n",
       "      <td>84.0</td>\n",
       "      <td>3.0</td>\n",
       "      <td>234.0</td>\n",
       "      <td>424</td>\n",
       "      <td>408176.100629</td>\n",
       "      <td>NaN</td>\n",
       "      <td>NaN</td>\n",
       "    </tr>\n",
       "    <tr>\n",
       "      <th>4</th>\n",
       "      <td>2</td>\n",
       "      <td>10000000</td>\n",
       "      <td>100.00</td>\n",
       "      <td>2018-06-19T00:00:00</td>\n",
       "      <td>2</td>\n",
       "      <td>3.03</td>\n",
       "      <td>14.0</td>\n",
       "      <td>32.00</td>\n",
       "      <td>13</td>\n",
       "      <td>True</td>\n",
       "      <td>...</td>\n",
       "      <td>31856.0</td>\n",
       "      <td>8098.0</td>\n",
       "      <td>2.0</td>\n",
       "      <td>112.0</td>\n",
       "      <td>1.0</td>\n",
       "      <td>48.0</td>\n",
       "      <td>121</td>\n",
       "      <td>100000.000000</td>\n",
       "      <td>0.320000</td>\n",
       "      <td>0.410000</td>\n",
       "    </tr>\n",
       "    <tr>\n",
       "      <th>5</th>\n",
       "      <td>10</td>\n",
       "      <td>2890000</td>\n",
       "      <td>30.40</td>\n",
       "      <td>2018-09-10T00:00:00</td>\n",
       "      <td>1</td>\n",
       "      <td>2.60</td>\n",
       "      <td>12.0</td>\n",
       "      <td>14.40</td>\n",
       "      <td>5</td>\n",
       "      <td>True</td>\n",
       "      <td>...</td>\n",
       "      <td>NaN</td>\n",
       "      <td>NaN</td>\n",
       "      <td>NaN</td>\n",
       "      <td>NaN</td>\n",
       "      <td>NaN</td>\n",
       "      <td>NaN</td>\n",
       "      <td>55</td>\n",
       "      <td>95065.789474</td>\n",
       "      <td>0.473684</td>\n",
       "      <td>0.299342</td>\n",
       "    </tr>\n",
       "    <tr>\n",
       "      <th>6</th>\n",
       "      <td>6</td>\n",
       "      <td>3700000</td>\n",
       "      <td>37.30</td>\n",
       "      <td>2017-11-02T00:00:00</td>\n",
       "      <td>1</td>\n",
       "      <td>2.60</td>\n",
       "      <td>26.0</td>\n",
       "      <td>10.60</td>\n",
       "      <td>6</td>\n",
       "      <td>True</td>\n",
       "      <td>...</td>\n",
       "      <td>52996.0</td>\n",
       "      <td>19143.0</td>\n",
       "      <td>0.0</td>\n",
       "      <td>NaN</td>\n",
       "      <td>0.0</td>\n",
       "      <td>NaN</td>\n",
       "      <td>155</td>\n",
       "      <td>99195.710456</td>\n",
       "      <td>0.284182</td>\n",
       "      <td>0.386059</td>\n",
       "    </tr>\n",
       "    <tr>\n",
       "      <th>7</th>\n",
       "      <td>5</td>\n",
       "      <td>7915000</td>\n",
       "      <td>71.60</td>\n",
       "      <td>2019-04-18T00:00:00</td>\n",
       "      <td>2</td>\n",
       "      <td>2.60</td>\n",
       "      <td>24.0</td>\n",
       "      <td>NaN</td>\n",
       "      <td>22</td>\n",
       "      <td>True</td>\n",
       "      <td>...</td>\n",
       "      <td>23982.0</td>\n",
       "      <td>11634.0</td>\n",
       "      <td>0.0</td>\n",
       "      <td>NaN</td>\n",
       "      <td>0.0</td>\n",
       "      <td>NaN</td>\n",
       "      <td>0</td>\n",
       "      <td>110544.692737</td>\n",
       "      <td>NaN</td>\n",
       "      <td>0.263966</td>\n",
       "    </tr>\n",
       "    <tr>\n",
       "      <th>8</th>\n",
       "      <td>20</td>\n",
       "      <td>2900000</td>\n",
       "      <td>33.16</td>\n",
       "      <td>2018-05-23T00:00:00</td>\n",
       "      <td>1</td>\n",
       "      <td>2.60</td>\n",
       "      <td>27.0</td>\n",
       "      <td>15.43</td>\n",
       "      <td>26</td>\n",
       "      <td>True</td>\n",
       "      <td>...</td>\n",
       "      <td>NaN</td>\n",
       "      <td>NaN</td>\n",
       "      <td>NaN</td>\n",
       "      <td>NaN</td>\n",
       "      <td>NaN</td>\n",
       "      <td>NaN</td>\n",
       "      <td>189</td>\n",
       "      <td>87454.764777</td>\n",
       "      <td>0.465320</td>\n",
       "      <td>0.265682</td>\n",
       "    </tr>\n",
       "    <tr>\n",
       "      <th>9</th>\n",
       "      <td>18</td>\n",
       "      <td>5400000</td>\n",
       "      <td>61.00</td>\n",
       "      <td>2017-02-26T00:00:00</td>\n",
       "      <td>3</td>\n",
       "      <td>2.50</td>\n",
       "      <td>9.0</td>\n",
       "      <td>43.60</td>\n",
       "      <td>7</td>\n",
       "      <td>True</td>\n",
       "      <td>...</td>\n",
       "      <td>50898.0</td>\n",
       "      <td>15008.0</td>\n",
       "      <td>0.0</td>\n",
       "      <td>NaN</td>\n",
       "      <td>0.0</td>\n",
       "      <td>NaN</td>\n",
       "      <td>289</td>\n",
       "      <td>88524.590164</td>\n",
       "      <td>0.714754</td>\n",
       "      <td>0.106557</td>\n",
       "    </tr>\n",
       "  </tbody>\n",
       "</table>\n",
       "<p>10 rows × 25 columns</p>\n",
       "</div>"
      ],
      "text/plain": [
       "   total_images  last_price  total_area first_day_exposition  rooms  \\\n",
       "0            20    13000000      108.00  2019-03-07T00:00:00      3   \n",
       "1             7     3350000       40.40  2018-12-04T00:00:00      1   \n",
       "2            10     5196000       56.00  2015-08-20T00:00:00      2   \n",
       "3             0    64900000      159.00  2015-07-24T00:00:00      3   \n",
       "4             2    10000000      100.00  2018-06-19T00:00:00      2   \n",
       "5            10     2890000       30.40  2018-09-10T00:00:00      1   \n",
       "6             6     3700000       37.30  2017-11-02T00:00:00      1   \n",
       "7             5     7915000       71.60  2019-04-18T00:00:00      2   \n",
       "8            20     2900000       33.16  2018-05-23T00:00:00      1   \n",
       "9            18     5400000       61.00  2017-02-26T00:00:00      3   \n",
       "\n",
       "   ceiling_height  floors_total  living_area  floor  is_apartment  ...  \\\n",
       "0            2.70          16.0        51.00      8          True  ...   \n",
       "1            2.60          11.0        18.60      1          True  ...   \n",
       "2            2.60           5.0        34.30      4          True  ...   \n",
       "3            2.60          14.0          NaN      9          True  ...   \n",
       "4            3.03          14.0        32.00     13          True  ...   \n",
       "5            2.60          12.0        14.40      5          True  ...   \n",
       "6            2.60          26.0        10.60      6          True  ...   \n",
       "7            2.60          24.0          NaN     22          True  ...   \n",
       "8            2.60          27.0        15.43     26          True  ...   \n",
       "9            2.50           9.0        43.60      7          True  ...   \n",
       "\n",
       "   airports_nearest  cityCenters_nearest  parks_around3000  parks_nearest  \\\n",
       "0           18863.0              16028.0               1.0          482.0   \n",
       "1           12817.0              18603.0               0.0            NaN   \n",
       "2           21741.0              13933.0               1.0           90.0   \n",
       "3           28098.0               6800.0               2.0           84.0   \n",
       "4           31856.0               8098.0               2.0          112.0   \n",
       "5               NaN                  NaN               NaN            NaN   \n",
       "6           52996.0              19143.0               0.0            NaN   \n",
       "7           23982.0              11634.0               0.0            NaN   \n",
       "8               NaN                  NaN               NaN            NaN   \n",
       "9           50898.0              15008.0               0.0            NaN   \n",
       "\n",
       "  ponds_around3000  ponds_nearest  days_exposition  price_for_meter  \\\n",
       "0              2.0          755.0                0    120370.370370   \n",
       "1              0.0            NaN               81     82920.792079   \n",
       "2              2.0          574.0              558     92785.714286   \n",
       "3              3.0          234.0              424    408176.100629   \n",
       "4              1.0           48.0              121    100000.000000   \n",
       "5              NaN            NaN               55     95065.789474   \n",
       "6              0.0            NaN              155     99195.710456   \n",
       "7              0.0            NaN                0    110544.692737   \n",
       "8              NaN            NaN              189     87454.764777   \n",
       "9              0.0            NaN              289     88524.590164   \n",
       "\n",
       "   area_ratio  kitchen_ratio  \n",
       "0    0.472222       0.231481  \n",
       "1    0.460396       0.272277  \n",
       "2    0.612500       0.148214  \n",
       "3         NaN            NaN  \n",
       "4    0.320000       0.410000  \n",
       "5    0.473684       0.299342  \n",
       "6    0.284182       0.386059  \n",
       "7         NaN       0.263966  \n",
       "8    0.465320       0.265682  \n",
       "9    0.714754       0.106557  \n",
       "\n",
       "[10 rows x 25 columns]"
      ]
     },
     "execution_count": 19,
     "metadata": {},
     "output_type": "execute_result"
    }
   ],
   "source": [
    "data['price_for_meter'] = data['last_price']/data['total_area']\n",
    "data['area_ratio'] = data['living_area']/data['total_area']\n",
    "data['kitchen_ratio'] = data['kitchen_area']/data['total_area']\n",
    "\n",
    "data.head(10)"
   ]
  },
  {
   "cell_type": "markdown",
   "metadata": {},
   "source": [
    "Добавляем столбцы с днём недели, месяцем и годом публикации объявлений"
   ]
  },
  {
   "cell_type": "code",
   "execution_count": 20,
   "metadata": {},
   "outputs": [
    {
     "data": {
      "text/html": [
       "<div>\n",
       "<style scoped>\n",
       "    .dataframe tbody tr th:only-of-type {\n",
       "        vertical-align: middle;\n",
       "    }\n",
       "\n",
       "    .dataframe tbody tr th {\n",
       "        vertical-align: top;\n",
       "    }\n",
       "\n",
       "    .dataframe thead th {\n",
       "        text-align: right;\n",
       "    }\n",
       "</style>\n",
       "<table border=\"1\" class=\"dataframe\">\n",
       "  <thead>\n",
       "    <tr style=\"text-align: right;\">\n",
       "      <th></th>\n",
       "      <th>total_images</th>\n",
       "      <th>last_price</th>\n",
       "      <th>total_area</th>\n",
       "      <th>first_day_exposition</th>\n",
       "      <th>rooms</th>\n",
       "      <th>ceiling_height</th>\n",
       "      <th>floors_total</th>\n",
       "      <th>living_area</th>\n",
       "      <th>floor</th>\n",
       "      <th>is_apartment</th>\n",
       "      <th>...</th>\n",
       "      <th>parks_nearest</th>\n",
       "      <th>ponds_around3000</th>\n",
       "      <th>ponds_nearest</th>\n",
       "      <th>days_exposition</th>\n",
       "      <th>price_for_meter</th>\n",
       "      <th>area_ratio</th>\n",
       "      <th>kitchen_ratio</th>\n",
       "      <th>weekday_exposition</th>\n",
       "      <th>month_exposition</th>\n",
       "      <th>year_exposition</th>\n",
       "    </tr>\n",
       "  </thead>\n",
       "  <tbody>\n",
       "    <tr>\n",
       "      <th>0</th>\n",
       "      <td>20</td>\n",
       "      <td>13000000</td>\n",
       "      <td>108.0</td>\n",
       "      <td>2019-03-07</td>\n",
       "      <td>3</td>\n",
       "      <td>2.70</td>\n",
       "      <td>16.0</td>\n",
       "      <td>51.0</td>\n",
       "      <td>8</td>\n",
       "      <td>True</td>\n",
       "      <td>...</td>\n",
       "      <td>482.0</td>\n",
       "      <td>2.0</td>\n",
       "      <td>755.0</td>\n",
       "      <td>0</td>\n",
       "      <td>120370.370370</td>\n",
       "      <td>0.472222</td>\n",
       "      <td>0.231481</td>\n",
       "      <td>3</td>\n",
       "      <td>3</td>\n",
       "      <td>2019</td>\n",
       "    </tr>\n",
       "    <tr>\n",
       "      <th>1</th>\n",
       "      <td>7</td>\n",
       "      <td>3350000</td>\n",
       "      <td>40.4</td>\n",
       "      <td>2018-12-04</td>\n",
       "      <td>1</td>\n",
       "      <td>2.60</td>\n",
       "      <td>11.0</td>\n",
       "      <td>18.6</td>\n",
       "      <td>1</td>\n",
       "      <td>True</td>\n",
       "      <td>...</td>\n",
       "      <td>NaN</td>\n",
       "      <td>0.0</td>\n",
       "      <td>NaN</td>\n",
       "      <td>81</td>\n",
       "      <td>82920.792079</td>\n",
       "      <td>0.460396</td>\n",
       "      <td>0.272277</td>\n",
       "      <td>1</td>\n",
       "      <td>12</td>\n",
       "      <td>2018</td>\n",
       "    </tr>\n",
       "    <tr>\n",
       "      <th>2</th>\n",
       "      <td>10</td>\n",
       "      <td>5196000</td>\n",
       "      <td>56.0</td>\n",
       "      <td>2015-08-20</td>\n",
       "      <td>2</td>\n",
       "      <td>2.60</td>\n",
       "      <td>5.0</td>\n",
       "      <td>34.3</td>\n",
       "      <td>4</td>\n",
       "      <td>True</td>\n",
       "      <td>...</td>\n",
       "      <td>90.0</td>\n",
       "      <td>2.0</td>\n",
       "      <td>574.0</td>\n",
       "      <td>558</td>\n",
       "      <td>92785.714286</td>\n",
       "      <td>0.612500</td>\n",
       "      <td>0.148214</td>\n",
       "      <td>3</td>\n",
       "      <td>8</td>\n",
       "      <td>2015</td>\n",
       "    </tr>\n",
       "    <tr>\n",
       "      <th>3</th>\n",
       "      <td>0</td>\n",
       "      <td>64900000</td>\n",
       "      <td>159.0</td>\n",
       "      <td>2015-07-24</td>\n",
       "      <td>3</td>\n",
       "      <td>2.60</td>\n",
       "      <td>14.0</td>\n",
       "      <td>NaN</td>\n",
       "      <td>9</td>\n",
       "      <td>True</td>\n",
       "      <td>...</td>\n",
       "      <td>84.0</td>\n",
       "      <td>3.0</td>\n",
       "      <td>234.0</td>\n",
       "      <td>424</td>\n",
       "      <td>408176.100629</td>\n",
       "      <td>NaN</td>\n",
       "      <td>NaN</td>\n",
       "      <td>4</td>\n",
       "      <td>7</td>\n",
       "      <td>2015</td>\n",
       "    </tr>\n",
       "    <tr>\n",
       "      <th>4</th>\n",
       "      <td>2</td>\n",
       "      <td>10000000</td>\n",
       "      <td>100.0</td>\n",
       "      <td>2018-06-19</td>\n",
       "      <td>2</td>\n",
       "      <td>3.03</td>\n",
       "      <td>14.0</td>\n",
       "      <td>32.0</td>\n",
       "      <td>13</td>\n",
       "      <td>True</td>\n",
       "      <td>...</td>\n",
       "      <td>112.0</td>\n",
       "      <td>1.0</td>\n",
       "      <td>48.0</td>\n",
       "      <td>121</td>\n",
       "      <td>100000.000000</td>\n",
       "      <td>0.320000</td>\n",
       "      <td>0.410000</td>\n",
       "      <td>1</td>\n",
       "      <td>6</td>\n",
       "      <td>2018</td>\n",
       "    </tr>\n",
       "  </tbody>\n",
       "</table>\n",
       "<p>5 rows × 28 columns</p>\n",
       "</div>"
      ],
      "text/plain": [
       "   total_images  last_price  total_area first_day_exposition  rooms  \\\n",
       "0            20    13000000       108.0           2019-03-07      3   \n",
       "1             7     3350000        40.4           2018-12-04      1   \n",
       "2            10     5196000        56.0           2015-08-20      2   \n",
       "3             0    64900000       159.0           2015-07-24      3   \n",
       "4             2    10000000       100.0           2018-06-19      2   \n",
       "\n",
       "   ceiling_height  floors_total  living_area  floor  is_apartment  ...  \\\n",
       "0            2.70          16.0         51.0      8          True  ...   \n",
       "1            2.60          11.0         18.6      1          True  ...   \n",
       "2            2.60           5.0         34.3      4          True  ...   \n",
       "3            2.60          14.0          NaN      9          True  ...   \n",
       "4            3.03          14.0         32.0     13          True  ...   \n",
       "\n",
       "   parks_nearest  ponds_around3000  ponds_nearest  days_exposition  \\\n",
       "0          482.0               2.0          755.0                0   \n",
       "1            NaN               0.0            NaN               81   \n",
       "2           90.0               2.0          574.0              558   \n",
       "3           84.0               3.0          234.0              424   \n",
       "4          112.0               1.0           48.0              121   \n",
       "\n",
       "  price_for_meter  area_ratio  kitchen_ratio  weekday_exposition  \\\n",
       "0   120370.370370    0.472222       0.231481                   3   \n",
       "1    82920.792079    0.460396       0.272277                   1   \n",
       "2    92785.714286    0.612500       0.148214                   3   \n",
       "3   408176.100629         NaN            NaN                   4   \n",
       "4   100000.000000    0.320000       0.410000                   1   \n",
       "\n",
       "   month_exposition  year_exposition  \n",
       "0                 3             2019  \n",
       "1                12             2018  \n",
       "2                 8             2015  \n",
       "3                 7             2015  \n",
       "4                 6             2018  \n",
       "\n",
       "[5 rows x 28 columns]"
      ]
     },
     "execution_count": 20,
     "metadata": {},
     "output_type": "execute_result"
    }
   ],
   "source": [
    "data['first_day_exposition']=pd.to_datetime(data['first_day_exposition'], format = '%Y-%m-%dT%H:%M:%S')\n",
    "data['weekday_exposition']=data['first_day_exposition'].dt.weekday\n",
    "data['month_exposition']=data['first_day_exposition'].dt.month\n",
    "data['year_exposition']=data['first_day_exposition'].dt.year\n",
    "data.head()"
   ]
  },
  {
   "cell_type": "markdown",
   "metadata": {},
   "source": [
    "Создаём столбец с идентификацией этажа: первый, последний, другой"
   ]
  },
  {
   "cell_type": "code",
   "execution_count": 21,
   "metadata": {},
   "outputs": [
    {
     "data": {
      "text/html": [
       "<div>\n",
       "<style scoped>\n",
       "    .dataframe tbody tr th:only-of-type {\n",
       "        vertical-align: middle;\n",
       "    }\n",
       "\n",
       "    .dataframe tbody tr th {\n",
       "        vertical-align: top;\n",
       "    }\n",
       "\n",
       "    .dataframe thead th {\n",
       "        text-align: right;\n",
       "    }\n",
       "</style>\n",
       "<table border=\"1\" class=\"dataframe\">\n",
       "  <thead>\n",
       "    <tr style=\"text-align: right;\">\n",
       "      <th></th>\n",
       "      <th>total_images</th>\n",
       "      <th>last_price</th>\n",
       "      <th>total_area</th>\n",
       "      <th>first_day_exposition</th>\n",
       "      <th>rooms</th>\n",
       "      <th>ceiling_height</th>\n",
       "      <th>floors_total</th>\n",
       "      <th>living_area</th>\n",
       "      <th>floor</th>\n",
       "      <th>is_apartment</th>\n",
       "      <th>...</th>\n",
       "      <th>ponds_around3000</th>\n",
       "      <th>ponds_nearest</th>\n",
       "      <th>days_exposition</th>\n",
       "      <th>price_for_meter</th>\n",
       "      <th>area_ratio</th>\n",
       "      <th>kitchen_ratio</th>\n",
       "      <th>weekday_exposition</th>\n",
       "      <th>month_exposition</th>\n",
       "      <th>year_exposition</th>\n",
       "      <th>floor_new</th>\n",
       "    </tr>\n",
       "  </thead>\n",
       "  <tbody>\n",
       "    <tr>\n",
       "      <th>0</th>\n",
       "      <td>20</td>\n",
       "      <td>13000000</td>\n",
       "      <td>108.0</td>\n",
       "      <td>2019-03-07</td>\n",
       "      <td>3</td>\n",
       "      <td>2.70</td>\n",
       "      <td>16.0</td>\n",
       "      <td>51.0</td>\n",
       "      <td>8</td>\n",
       "      <td>True</td>\n",
       "      <td>...</td>\n",
       "      <td>2.0</td>\n",
       "      <td>755.0</td>\n",
       "      <td>0</td>\n",
       "      <td>120370.370370</td>\n",
       "      <td>0.472222</td>\n",
       "      <td>0.231481</td>\n",
       "      <td>3</td>\n",
       "      <td>3</td>\n",
       "      <td>2019</td>\n",
       "      <td>другой</td>\n",
       "    </tr>\n",
       "    <tr>\n",
       "      <th>1</th>\n",
       "      <td>7</td>\n",
       "      <td>3350000</td>\n",
       "      <td>40.4</td>\n",
       "      <td>2018-12-04</td>\n",
       "      <td>1</td>\n",
       "      <td>2.60</td>\n",
       "      <td>11.0</td>\n",
       "      <td>18.6</td>\n",
       "      <td>1</td>\n",
       "      <td>True</td>\n",
       "      <td>...</td>\n",
       "      <td>0.0</td>\n",
       "      <td>NaN</td>\n",
       "      <td>81</td>\n",
       "      <td>82920.792079</td>\n",
       "      <td>0.460396</td>\n",
       "      <td>0.272277</td>\n",
       "      <td>1</td>\n",
       "      <td>12</td>\n",
       "      <td>2018</td>\n",
       "      <td>первый</td>\n",
       "    </tr>\n",
       "    <tr>\n",
       "      <th>2</th>\n",
       "      <td>10</td>\n",
       "      <td>5196000</td>\n",
       "      <td>56.0</td>\n",
       "      <td>2015-08-20</td>\n",
       "      <td>2</td>\n",
       "      <td>2.60</td>\n",
       "      <td>5.0</td>\n",
       "      <td>34.3</td>\n",
       "      <td>4</td>\n",
       "      <td>True</td>\n",
       "      <td>...</td>\n",
       "      <td>2.0</td>\n",
       "      <td>574.0</td>\n",
       "      <td>558</td>\n",
       "      <td>92785.714286</td>\n",
       "      <td>0.612500</td>\n",
       "      <td>0.148214</td>\n",
       "      <td>3</td>\n",
       "      <td>8</td>\n",
       "      <td>2015</td>\n",
       "      <td>другой</td>\n",
       "    </tr>\n",
       "    <tr>\n",
       "      <th>3</th>\n",
       "      <td>0</td>\n",
       "      <td>64900000</td>\n",
       "      <td>159.0</td>\n",
       "      <td>2015-07-24</td>\n",
       "      <td>3</td>\n",
       "      <td>2.60</td>\n",
       "      <td>14.0</td>\n",
       "      <td>NaN</td>\n",
       "      <td>9</td>\n",
       "      <td>True</td>\n",
       "      <td>...</td>\n",
       "      <td>3.0</td>\n",
       "      <td>234.0</td>\n",
       "      <td>424</td>\n",
       "      <td>408176.100629</td>\n",
       "      <td>NaN</td>\n",
       "      <td>NaN</td>\n",
       "      <td>4</td>\n",
       "      <td>7</td>\n",
       "      <td>2015</td>\n",
       "      <td>другой</td>\n",
       "    </tr>\n",
       "    <tr>\n",
       "      <th>4</th>\n",
       "      <td>2</td>\n",
       "      <td>10000000</td>\n",
       "      <td>100.0</td>\n",
       "      <td>2018-06-19</td>\n",
       "      <td>2</td>\n",
       "      <td>3.03</td>\n",
       "      <td>14.0</td>\n",
       "      <td>32.0</td>\n",
       "      <td>13</td>\n",
       "      <td>True</td>\n",
       "      <td>...</td>\n",
       "      <td>1.0</td>\n",
       "      <td>48.0</td>\n",
       "      <td>121</td>\n",
       "      <td>100000.000000</td>\n",
       "      <td>0.320000</td>\n",
       "      <td>0.410000</td>\n",
       "      <td>1</td>\n",
       "      <td>6</td>\n",
       "      <td>2018</td>\n",
       "      <td>другой</td>\n",
       "    </tr>\n",
       "  </tbody>\n",
       "</table>\n",
       "<p>5 rows × 29 columns</p>\n",
       "</div>"
      ],
      "text/plain": [
       "   total_images  last_price  total_area first_day_exposition  rooms  \\\n",
       "0            20    13000000       108.0           2019-03-07      3   \n",
       "1             7     3350000        40.4           2018-12-04      1   \n",
       "2            10     5196000        56.0           2015-08-20      2   \n",
       "3             0    64900000       159.0           2015-07-24      3   \n",
       "4             2    10000000       100.0           2018-06-19      2   \n",
       "\n",
       "   ceiling_height  floors_total  living_area  floor  is_apartment  ...  \\\n",
       "0            2.70          16.0         51.0      8          True  ...   \n",
       "1            2.60          11.0         18.6      1          True  ...   \n",
       "2            2.60           5.0         34.3      4          True  ...   \n",
       "3            2.60          14.0          NaN      9          True  ...   \n",
       "4            3.03          14.0         32.0     13          True  ...   \n",
       "\n",
       "   ponds_around3000  ponds_nearest  days_exposition  price_for_meter  \\\n",
       "0               2.0          755.0                0    120370.370370   \n",
       "1               0.0            NaN               81     82920.792079   \n",
       "2               2.0          574.0              558     92785.714286   \n",
       "3               3.0          234.0              424    408176.100629   \n",
       "4               1.0           48.0              121    100000.000000   \n",
       "\n",
       "  area_ratio  kitchen_ratio  weekday_exposition  month_exposition  \\\n",
       "0   0.472222       0.231481                   3                 3   \n",
       "1   0.460396       0.272277                   1                12   \n",
       "2   0.612500       0.148214                   3                 8   \n",
       "3        NaN            NaN                   4                 7   \n",
       "4   0.320000       0.410000                   1                 6   \n",
       "\n",
       "   year_exposition  floor_new  \n",
       "0             2019     другой  \n",
       "1             2018     первый  \n",
       "2             2015     другой  \n",
       "3             2015     другой  \n",
       "4             2018     другой  \n",
       "\n",
       "[5 rows x 29 columns]"
      ]
     },
     "execution_count": 21,
     "metadata": {},
     "output_type": "execute_result"
    }
   ],
   "source": [
    "def floor(row):\n",
    "    floor = row['floor']\n",
    "    floor_max = row['floors_total']\n",
    "    if floor ==1:\n",
    "        return 'первый'\n",
    "    elif floor == floor_max:\n",
    "        return 'последний'\n",
    "    else: \n",
    "        return 'другой'\n",
    "data['floor_new'] = data.apply(floor, axis=1)\n",
    "    \n",
    "data.head()\n",
    "    "
   ]
  },
  {
   "cell_type": "markdown",
   "metadata": {},
   "source": [
    "## Исследовательский анализ данных"
   ]
  },
  {
   "cell_type": "markdown",
   "metadata": {},
   "source": [
    "Изучаем площадь квартир. Строим гистограмму. Пик наблюдается в области 30-50 квадратных метров. Учитывая, что жилая недвижимость сейчас стоит довольно дорого, такой размер квартир оптимален для покупки собственного жилья. "
   ]
  },
  {
   "cell_type": "code",
   "execution_count": 22,
   "metadata": {},
   "outputs": [
    {
     "data": {
      "text/plain": [
       "<AxesSubplot:>"
      ]
     },
     "execution_count": 22,
     "metadata": {},
     "output_type": "execute_result"
    },
    {
     "data": {
      "image/png": "[encoded data removed]",
      "text/plain": [
       "<Figure size 432x288 with 1 Axes>"
      ]
     },
     "metadata": {
      "needs_background": "light"
     },
     "output_type": "display_data"
    }
   ],
   "source": [
    "data['total_area'].hist(bins = 20, range = (0,400))"
   ]
  },
  {
   "cell_type": "markdown",
   "metadata": {},
   "source": [
    "Изучаем цену на момент снятия с публикации. Строим гистограмму. Пик наблюдается в области 4-5млн рублей. Полагаем, что это является оптимальной ценой для квартир, имеющих площадь 30-50 квадратных метров, которые преобладали в данных, судя по предудыщей гистограмме."
   ]
  },
  {
   "cell_type": "code",
   "execution_count": 23,
   "metadata": {},
   "outputs": [
    {
     "data": {
      "text/plain": [
       "<AxesSubplot:>"
      ]
     },
     "execution_count": 23,
     "metadata": {},
     "output_type": "execute_result"
    },
    {
     "data": {
      "image/png": "[encoded data removed]",
      "text/plain": [
       "<Figure size 432x288 with 1 Axes>"
      ]
     },
     "metadata": {
      "needs_background": "light"
     },
     "output_type": "display_data"
    }
   ],
   "source": [
    "data['last_price'].hist(bins=20, range = (0, 40000000))"
   ]
  },
  {
   "cell_type": "markdown",
   "metadata": {},
   "source": [
    "Изучаем количество комнат в квартирах. Строим гистограмму. По ней наблюдаем, что в данных преобладают однокомнатные и двухкомнатные квартиры, чуть меньше квартир с тремя комнатами, квартиры с бОльшим количеством комнат присутствуют, но в ощутимо меньшем количестве. \n",
    "В случае, если площадь меньше 40 кв метров, а количество комнат равно нулю, заменяю данные значения на 1."
   ]
  },
  {
   "cell_type": "code",
   "execution_count": 24,
   "metadata": {},
   "outputs": [],
   "source": [
    "data.loc[(data['rooms'] == 0) & (data['total_area'] < 40), 'rooms'] = 1"
   ]
  },
  {
   "cell_type": "code",
   "execution_count": 25,
   "metadata": {},
   "outputs": [
    {
     "data": {
      "text/plain": [
       "<AxesSubplot:>"
      ]
     },
     "execution_count": 25,
     "metadata": {},
     "output_type": "execute_result"
    },
    {
     "data": {
      "image/png": "[encoded data removed]",
      "text/plain": [
       "<Figure size 432x288 with 1 Axes>"
      ]
     },
     "metadata": {
      "needs_background": "light"
     },
     "output_type": "display_data"
    }
   ],
   "source": [
    "data['rooms'].hist(bins=20, range = (0,10))"
   ]
  },
  {
   "cell_type": "markdown",
   "metadata": {},
   "source": [
    "Изучаем высоту потолков в квартирах. Преобладающим значением является 2,5 метра. Это норма для российских квартир, потолки около 3 и более метров характерны для элиного жилья. "
   ]
  },
  {
   "cell_type": "code",
   "execution_count": 26,
   "metadata": {},
   "outputs": [
    {
     "data": {
      "text/plain": [
       "<AxesSubplot:>"
      ]
     },
     "execution_count": 26,
     "metadata": {},
     "output_type": "execute_result"
    },
    {
     "data": {
      "image/png": "[encoded data removed]",
      "text/plain": [
       "<Figure size 432x288 with 1 Axes>"
      ]
     },
     "metadata": {
      "needs_background": "light"
     },
     "output_type": "display_data"
    }
   ],
   "source": [
    "data['ceiling_height'].hist(bins=20, range=(2,5))"
   ]
  },
  {
   "cell_type": "markdown",
   "metadata": {},
   "source": [
    "Изучаем время продажи квартир. Строим гистограмму. "
   ]
  },
  {
   "cell_type": "code",
   "execution_count": 27,
   "metadata": {},
   "outputs": [
    {
     "data": {
      "text/plain": [
       "<AxesSubplot:>"
      ]
     },
     "execution_count": 27,
     "metadata": {},
     "output_type": "execute_result"
    },
    {
     "data": {
      "image/png": "[encoded data removed]",
      "text/plain": [
       "<Figure size 432x288 with 1 Axes>"
      ]
     },
     "metadata": {
      "needs_background": "light"
     },
     "output_type": "display_data"
    }
   ],
   "source": [
    "data['days_exposition'].hist(bins=40, range = (0,500))"
   ]
  },
  {
   "cell_type": "markdown",
   "metadata": {},
   "source": [
    "По гистограмме заметно, что пик приходится на нулевое значение: это выбивающееся нетипичное значение, ведь, объективно говоря, невозможно продать квартиру в день выставления на продажу. Предполагаем, что по данной составляющей не было информации, и отсутствующие значения заменили нулями. Заменяем нулевые значения на отсутствующие."
   ]
  },
  {
   "cell_type": "code",
   "execution_count": 28,
   "metadata": {},
   "outputs": [
    {
     "data": {
      "text/html": [
       "<div>\n",
       "<style scoped>\n",
       "    .dataframe tbody tr th:only-of-type {\n",
       "        vertical-align: middle;\n",
       "    }\n",
       "\n",
       "    .dataframe tbody tr th {\n",
       "        vertical-align: top;\n",
       "    }\n",
       "\n",
       "    .dataframe thead th {\n",
       "        text-align: right;\n",
       "    }\n",
       "</style>\n",
       "<table border=\"1\" class=\"dataframe\">\n",
       "  <thead>\n",
       "    <tr style=\"text-align: right;\">\n",
       "      <th></th>\n",
       "      <th>total_images</th>\n",
       "      <th>last_price</th>\n",
       "      <th>total_area</th>\n",
       "      <th>first_day_exposition</th>\n",
       "      <th>rooms</th>\n",
       "      <th>ceiling_height</th>\n",
       "      <th>floors_total</th>\n",
       "      <th>living_area</th>\n",
       "      <th>floor</th>\n",
       "      <th>is_apartment</th>\n",
       "      <th>...</th>\n",
       "      <th>ponds_around3000</th>\n",
       "      <th>ponds_nearest</th>\n",
       "      <th>days_exposition</th>\n",
       "      <th>price_for_meter</th>\n",
       "      <th>area_ratio</th>\n",
       "      <th>kitchen_ratio</th>\n",
       "      <th>weekday_exposition</th>\n",
       "      <th>month_exposition</th>\n",
       "      <th>year_exposition</th>\n",
       "      <th>floor_new</th>\n",
       "    </tr>\n",
       "  </thead>\n",
       "  <tbody>\n",
       "    <tr>\n",
       "      <th>0</th>\n",
       "      <td>20</td>\n",
       "      <td>13000000</td>\n",
       "      <td>108.0</td>\n",
       "      <td>2019-03-07</td>\n",
       "      <td>3</td>\n",
       "      <td>2.70</td>\n",
       "      <td>16.0</td>\n",
       "      <td>51.0</td>\n",
       "      <td>8</td>\n",
       "      <td>True</td>\n",
       "      <td>...</td>\n",
       "      <td>2.0</td>\n",
       "      <td>755.0</td>\n",
       "      <td>NaN</td>\n",
       "      <td>120370.370370</td>\n",
       "      <td>0.472222</td>\n",
       "      <td>0.231481</td>\n",
       "      <td>3</td>\n",
       "      <td>3</td>\n",
       "      <td>2019</td>\n",
       "      <td>другой</td>\n",
       "    </tr>\n",
       "    <tr>\n",
       "      <th>1</th>\n",
       "      <td>7</td>\n",
       "      <td>3350000</td>\n",
       "      <td>40.4</td>\n",
       "      <td>2018-12-04</td>\n",
       "      <td>1</td>\n",
       "      <td>2.60</td>\n",
       "      <td>11.0</td>\n",
       "      <td>18.6</td>\n",
       "      <td>1</td>\n",
       "      <td>True</td>\n",
       "      <td>...</td>\n",
       "      <td>0.0</td>\n",
       "      <td>NaN</td>\n",
       "      <td>81.0</td>\n",
       "      <td>82920.792079</td>\n",
       "      <td>0.460396</td>\n",
       "      <td>0.272277</td>\n",
       "      <td>1</td>\n",
       "      <td>12</td>\n",
       "      <td>2018</td>\n",
       "      <td>первый</td>\n",
       "    </tr>\n",
       "    <tr>\n",
       "      <th>2</th>\n",
       "      <td>10</td>\n",
       "      <td>5196000</td>\n",
       "      <td>56.0</td>\n",
       "      <td>2015-08-20</td>\n",
       "      <td>2</td>\n",
       "      <td>2.60</td>\n",
       "      <td>5.0</td>\n",
       "      <td>34.3</td>\n",
       "      <td>4</td>\n",
       "      <td>True</td>\n",
       "      <td>...</td>\n",
       "      <td>2.0</td>\n",
       "      <td>574.0</td>\n",
       "      <td>558.0</td>\n",
       "      <td>92785.714286</td>\n",
       "      <td>0.612500</td>\n",
       "      <td>0.148214</td>\n",
       "      <td>3</td>\n",
       "      <td>8</td>\n",
       "      <td>2015</td>\n",
       "      <td>другой</td>\n",
       "    </tr>\n",
       "    <tr>\n",
       "      <th>3</th>\n",
       "      <td>0</td>\n",
       "      <td>64900000</td>\n",
       "      <td>159.0</td>\n",
       "      <td>2015-07-24</td>\n",
       "      <td>3</td>\n",
       "      <td>2.60</td>\n",
       "      <td>14.0</td>\n",
       "      <td>NaN</td>\n",
       "      <td>9</td>\n",
       "      <td>True</td>\n",
       "      <td>...</td>\n",
       "      <td>3.0</td>\n",
       "      <td>234.0</td>\n",
       "      <td>424.0</td>\n",
       "      <td>408176.100629</td>\n",
       "      <td>NaN</td>\n",
       "      <td>NaN</td>\n",
       "      <td>4</td>\n",
       "      <td>7</td>\n",
       "      <td>2015</td>\n",
       "      <td>другой</td>\n",
       "    </tr>\n",
       "    <tr>\n",
       "      <th>4</th>\n",
       "      <td>2</td>\n",
       "      <td>10000000</td>\n",
       "      <td>100.0</td>\n",
       "      <td>2018-06-19</td>\n",
       "      <td>2</td>\n",
       "      <td>3.03</td>\n",
       "      <td>14.0</td>\n",
       "      <td>32.0</td>\n",
       "      <td>13</td>\n",
       "      <td>True</td>\n",
       "      <td>...</td>\n",
       "      <td>1.0</td>\n",
       "      <td>48.0</td>\n",
       "      <td>121.0</td>\n",
       "      <td>100000.000000</td>\n",
       "      <td>0.320000</td>\n",
       "      <td>0.410000</td>\n",
       "      <td>1</td>\n",
       "      <td>6</td>\n",
       "      <td>2018</td>\n",
       "      <td>другой</td>\n",
       "    </tr>\n",
       "  </tbody>\n",
       "</table>\n",
       "<p>5 rows × 29 columns</p>\n",
       "</div>"
      ],
      "text/plain": [
       "   total_images  last_price  total_area first_day_exposition  rooms  \\\n",
       "0            20    13000000       108.0           2019-03-07      3   \n",
       "1             7     3350000        40.4           2018-12-04      1   \n",
       "2            10     5196000        56.0           2015-08-20      2   \n",
       "3             0    64900000       159.0           2015-07-24      3   \n",
       "4             2    10000000       100.0           2018-06-19      2   \n",
       "\n",
       "   ceiling_height  floors_total  living_area  floor  is_apartment  ...  \\\n",
       "0            2.70          16.0         51.0      8          True  ...   \n",
       "1            2.60          11.0         18.6      1          True  ...   \n",
       "2            2.60           5.0         34.3      4          True  ...   \n",
       "3            2.60          14.0          NaN      9          True  ...   \n",
       "4            3.03          14.0         32.0     13          True  ...   \n",
       "\n",
       "   ponds_around3000  ponds_nearest  days_exposition  price_for_meter  \\\n",
       "0               2.0          755.0              NaN    120370.370370   \n",
       "1               0.0            NaN             81.0     82920.792079   \n",
       "2               2.0          574.0            558.0     92785.714286   \n",
       "3               3.0          234.0            424.0    408176.100629   \n",
       "4               1.0           48.0            121.0    100000.000000   \n",
       "\n",
       "  area_ratio  kitchen_ratio  weekday_exposition  month_exposition  \\\n",
       "0   0.472222       0.231481                   3                 3   \n",
       "1   0.460396       0.272277                   1                12   \n",
       "2   0.612500       0.148214                   3                 8   \n",
       "3        NaN            NaN                   4                 7   \n",
       "4   0.320000       0.410000                   1                 6   \n",
       "\n",
       "   year_exposition  floor_new  \n",
       "0             2019     другой  \n",
       "1             2018     первый  \n",
       "2             2015     другой  \n",
       "3             2015     другой  \n",
       "4             2018     другой  \n",
       "\n",
       "[5 rows x 29 columns]"
      ]
     },
     "execution_count": 28,
     "metadata": {},
     "output_type": "execute_result"
    }
   ],
   "source": [
    "data['days_exposition']=data['days_exposition'].replace(0, np.nan)\n",
    "data.head()"
   ]
  },
  {
   "cell_type": "markdown",
   "metadata": {},
   "source": [
    "Вычисляем медиану срока продажи, нулевые значения заменяем на неё"
   ]
  },
  {
   "cell_type": "code",
   "execution_count": 29,
   "metadata": {},
   "outputs": [
    {
     "data": {
      "text/plain": [
       "95.0"
      ]
     },
     "execution_count": 29,
     "metadata": {},
     "output_type": "execute_result"
    }
   ],
   "source": [
    "data['days_exposition'].median()"
   ]
  },
  {
   "cell_type": "code",
   "execution_count": 30,
   "metadata": {},
   "outputs": [
    {
     "data": {
      "text/html": [
       "<div>\n",
       "<style scoped>\n",
       "    .dataframe tbody tr th:only-of-type {\n",
       "        vertical-align: middle;\n",
       "    }\n",
       "\n",
       "    .dataframe tbody tr th {\n",
       "        vertical-align: top;\n",
       "    }\n",
       "\n",
       "    .dataframe thead th {\n",
       "        text-align: right;\n",
       "    }\n",
       "</style>\n",
       "<table border=\"1\" class=\"dataframe\">\n",
       "  <thead>\n",
       "    <tr style=\"text-align: right;\">\n",
       "      <th></th>\n",
       "      <th>total_images</th>\n",
       "      <th>last_price</th>\n",
       "      <th>total_area</th>\n",
       "      <th>first_day_exposition</th>\n",
       "      <th>rooms</th>\n",
       "      <th>ceiling_height</th>\n",
       "      <th>floors_total</th>\n",
       "      <th>living_area</th>\n",
       "      <th>floor</th>\n",
       "      <th>is_apartment</th>\n",
       "      <th>...</th>\n",
       "      <th>ponds_around3000</th>\n",
       "      <th>ponds_nearest</th>\n",
       "      <th>days_exposition</th>\n",
       "      <th>price_for_meter</th>\n",
       "      <th>area_ratio</th>\n",
       "      <th>kitchen_ratio</th>\n",
       "      <th>weekday_exposition</th>\n",
       "      <th>month_exposition</th>\n",
       "      <th>year_exposition</th>\n",
       "      <th>floor_new</th>\n",
       "    </tr>\n",
       "  </thead>\n",
       "  <tbody>\n",
       "    <tr>\n",
       "      <th>0</th>\n",
       "      <td>20</td>\n",
       "      <td>13000000</td>\n",
       "      <td>108.0</td>\n",
       "      <td>2019-03-07</td>\n",
       "      <td>3</td>\n",
       "      <td>2.70</td>\n",
       "      <td>16.0</td>\n",
       "      <td>51.0</td>\n",
       "      <td>8</td>\n",
       "      <td>True</td>\n",
       "      <td>...</td>\n",
       "      <td>2.0</td>\n",
       "      <td>755.0</td>\n",
       "      <td>74</td>\n",
       "      <td>120370.370370</td>\n",
       "      <td>0.472222</td>\n",
       "      <td>0.231481</td>\n",
       "      <td>3</td>\n",
       "      <td>3</td>\n",
       "      <td>2019</td>\n",
       "      <td>другой</td>\n",
       "    </tr>\n",
       "    <tr>\n",
       "      <th>1</th>\n",
       "      <td>7</td>\n",
       "      <td>3350000</td>\n",
       "      <td>40.4</td>\n",
       "      <td>2018-12-04</td>\n",
       "      <td>1</td>\n",
       "      <td>2.60</td>\n",
       "      <td>11.0</td>\n",
       "      <td>18.6</td>\n",
       "      <td>1</td>\n",
       "      <td>True</td>\n",
       "      <td>...</td>\n",
       "      <td>0.0</td>\n",
       "      <td>NaN</td>\n",
       "      <td>81</td>\n",
       "      <td>82920.792079</td>\n",
       "      <td>0.460396</td>\n",
       "      <td>0.272277</td>\n",
       "      <td>1</td>\n",
       "      <td>12</td>\n",
       "      <td>2018</td>\n",
       "      <td>первый</td>\n",
       "    </tr>\n",
       "    <tr>\n",
       "      <th>2</th>\n",
       "      <td>10</td>\n",
       "      <td>5196000</td>\n",
       "      <td>56.0</td>\n",
       "      <td>2015-08-20</td>\n",
       "      <td>2</td>\n",
       "      <td>2.60</td>\n",
       "      <td>5.0</td>\n",
       "      <td>34.3</td>\n",
       "      <td>4</td>\n",
       "      <td>True</td>\n",
       "      <td>...</td>\n",
       "      <td>2.0</td>\n",
       "      <td>574.0</td>\n",
       "      <td>558</td>\n",
       "      <td>92785.714286</td>\n",
       "      <td>0.612500</td>\n",
       "      <td>0.148214</td>\n",
       "      <td>3</td>\n",
       "      <td>8</td>\n",
       "      <td>2015</td>\n",
       "      <td>другой</td>\n",
       "    </tr>\n",
       "    <tr>\n",
       "      <th>3</th>\n",
       "      <td>0</td>\n",
       "      <td>64900000</td>\n",
       "      <td>159.0</td>\n",
       "      <td>2015-07-24</td>\n",
       "      <td>3</td>\n",
       "      <td>2.60</td>\n",
       "      <td>14.0</td>\n",
       "      <td>NaN</td>\n",
       "      <td>9</td>\n",
       "      <td>True</td>\n",
       "      <td>...</td>\n",
       "      <td>3.0</td>\n",
       "      <td>234.0</td>\n",
       "      <td>424</td>\n",
       "      <td>408176.100629</td>\n",
       "      <td>NaN</td>\n",
       "      <td>NaN</td>\n",
       "      <td>4</td>\n",
       "      <td>7</td>\n",
       "      <td>2015</td>\n",
       "      <td>другой</td>\n",
       "    </tr>\n",
       "    <tr>\n",
       "      <th>4</th>\n",
       "      <td>2</td>\n",
       "      <td>10000000</td>\n",
       "      <td>100.0</td>\n",
       "      <td>2018-06-19</td>\n",
       "      <td>2</td>\n",
       "      <td>3.03</td>\n",
       "      <td>14.0</td>\n",
       "      <td>32.0</td>\n",
       "      <td>13</td>\n",
       "      <td>True</td>\n",
       "      <td>...</td>\n",
       "      <td>1.0</td>\n",
       "      <td>48.0</td>\n",
       "      <td>121</td>\n",
       "      <td>100000.000000</td>\n",
       "      <td>0.320000</td>\n",
       "      <td>0.410000</td>\n",
       "      <td>1</td>\n",
       "      <td>6</td>\n",
       "      <td>2018</td>\n",
       "      <td>другой</td>\n",
       "    </tr>\n",
       "  </tbody>\n",
       "</table>\n",
       "<p>5 rows × 29 columns</p>\n",
       "</div>"
      ],
      "text/plain": [
       "   total_images  last_price  total_area first_day_exposition  rooms  \\\n",
       "0            20    13000000       108.0           2019-03-07      3   \n",
       "1             7     3350000        40.4           2018-12-04      1   \n",
       "2            10     5196000        56.0           2015-08-20      2   \n",
       "3             0    64900000       159.0           2015-07-24      3   \n",
       "4             2    10000000       100.0           2018-06-19      2   \n",
       "\n",
       "   ceiling_height  floors_total  living_area  floor  is_apartment  ...  \\\n",
       "0            2.70          16.0         51.0      8          True  ...   \n",
       "1            2.60          11.0         18.6      1          True  ...   \n",
       "2            2.60           5.0         34.3      4          True  ...   \n",
       "3            2.60          14.0          NaN      9          True  ...   \n",
       "4            3.03          14.0         32.0     13          True  ...   \n",
       "\n",
       "   ponds_around3000  ponds_nearest  days_exposition  price_for_meter  \\\n",
       "0               2.0          755.0               74    120370.370370   \n",
       "1               0.0            NaN               81     82920.792079   \n",
       "2               2.0          574.0              558     92785.714286   \n",
       "3               3.0          234.0              424    408176.100629   \n",
       "4               1.0           48.0              121    100000.000000   \n",
       "\n",
       "  area_ratio  kitchen_ratio  weekday_exposition  month_exposition  \\\n",
       "0   0.472222       0.231481                   3                 3   \n",
       "1   0.460396       0.272277                   1                12   \n",
       "2   0.612500       0.148214                   3                 8   \n",
       "3        NaN            NaN                   4                 7   \n",
       "4   0.320000       0.410000                   1                 6   \n",
       "\n",
       "   year_exposition  floor_new  \n",
       "0             2019     другой  \n",
       "1             2018     первый  \n",
       "2             2015     другой  \n",
       "3             2015     другой  \n",
       "4             2018     другой  \n",
       "\n",
       "[5 rows x 29 columns]"
      ]
     },
     "execution_count": 30,
     "metadata": {},
     "output_type": "execute_result"
    }
   ],
   "source": [
    "data['days_exposition'] = data['days_exposition'].fillna(74)\n",
    "data['days_exposition'] = data['days_exposition'].astype(int)\n",
    "data.head()"
   ]
  },
  {
   "cell_type": "markdown",
   "metadata": {},
   "source": [
    "Проверяем на гистограмме статистику после замены нулей. Пик приходится на примерно 45-60 дней. Это средний срок продажи квартир с одной или двумя комнатами в нашей стране. Если быть точнее, около 2 месяцев.\n",
    "Продажи, прошедшие быстрее этого срока являются необычно быстрыми, а необычно долгими являются те, что проходили более 1 года. В данных присутствуют значения, которые обозначают то, что продажи проходили около 4 лет. Это очень долго. Но таких значений немного, и, судя по графику, они не выбиваются из общего числа, так как линия плавно идёт вниз. Оставляем их без зменений."
   ]
  },
  {
   "cell_type": "code",
   "execution_count": 31,
   "metadata": {},
   "outputs": [
    {
     "data": {
      "text/plain": [
       "<AxesSubplot:>"
      ]
     },
     "execution_count": 31,
     "metadata": {},
     "output_type": "execute_result"
    },
    {
     "data": {
      "image/png": "[encoded data removed]",
      "text/plain": [
       "<Figure size 432x288 with 1 Axes>"
      ]
     },
     "metadata": {
      "needs_background": "light"
     },
     "output_type": "display_data"
    }
   ],
   "source": [
    "data['days_exposition'].hist(bins=40, range = (0,100))"
   ]
  },
  {
   "cell_type": "code",
   "execution_count": 32,
   "metadata": {},
   "outputs": [
    {
     "data": {
      "text/plain": [
       "<AxesSubplot:>"
      ]
     },
     "execution_count": 32,
     "metadata": {},
     "output_type": "execute_result"
    },
    {
     "data": {
      "image/png": "[encoded data removed]",
      "text/plain": [
       "<Figure size 432x288 with 1 Axes>"
      ]
     },
     "metadata": {
      "needs_background": "light"
     },
     "output_type": "display_data"
    }
   ],
   "source": [
    "data['days_exposition'].hist(bins=40, range = (0,1300))"
   ]
  },
  {
   "cell_type": "markdown",
   "metadata": {},
   "source": [
    "Изучаем зависимость цены квартиры от её площади. На графике видно, что эта зависимость присутствует: квартиры с меньшей площадью стоят дешевле."
   ]
  },
  {
   "cell_type": "code",
   "execution_count": 33,
   "metadata": {},
   "outputs": [
    {
     "data": {
      "text/plain": [
       "<AxesSubplot:xlabel='living_area'>"
      ]
     },
     "execution_count": 33,
     "metadata": {},
     "output_type": "execute_result"
    },
    {
     "data": {
      "image/png": "[encoded data removed]",
      "text/plain": [
       "<Figure size 720x576 with 1 Axes>"
      ]
     },
     "metadata": {
      "needs_background": "light"
     },
     "output_type": "display_data"
    }
   ],
   "source": [
    "data.plot(x='living_area', y ='last_price',  style = 'o', figsize = (10, 8), sharex=False, grid=True, label = 'Зависимость цены квартиры от её площади')"
   ]
  },
  {
   "cell_type": "markdown",
   "metadata": {},
   "source": [
    "Проверяем с помощью корреляции: она больше нуля, соответственно, от увеличения площади зависит увеличение стоимости."
   ]
  },
  {
   "cell_type": "code",
   "execution_count": 34,
   "metadata": {},
   "outputs": [
    {
     "data": {
      "text/plain": [
       "0.5664915336952653"
      ]
     },
     "execution_count": 34,
     "metadata": {},
     "output_type": "execute_result"
    }
   ],
   "source": [
    "data['last_price'].corr(data['living_area'])"
   ]
  },
  {
   "cell_type": "markdown",
   "metadata": {},
   "source": [
    "Изучаем зависимость стоимости квартир от количества комнат. Она присутствует до отметки в 5 комнат, после идёт странная статистика по уменьшению цены. Либо данные квартиры находятся далеко от центра и в принципе от города, либо данные некорректны. "
   ]
  },
  {
   "cell_type": "code",
   "execution_count": 35,
   "metadata": {},
   "outputs": [
    {
     "data": {
      "text/plain": [
       "<AxesSubplot:xlabel='rooms', ylabel='last_price'>"
      ]
     },
     "execution_count": 35,
     "metadata": {},
     "output_type": "execute_result"
    },
    {
     "data": {
      "image/png": "[encoded data removed]",
      "text/plain": [
       "<Figure size 720x576 with 1 Axes>"
      ]
     },
     "metadata": {
      "needs_background": "light"
     },
     "output_type": "display_data"
    }
   ],
   "source": [
    "data.plot( x='rooms', y='last_price', figsize = (10, 8), kind = 'scatter', label = 'зависимость стоимости квартир от количества комнат')"
   ]
  },
  {
   "cell_type": "markdown",
   "metadata": {},
   "source": [
    "Изучаем зависимость стоимости квартир от близости к центру города. На графике она чётко прослеживается: чем квартиры ближе к центру, тем они дороже."
   ]
  },
  {
   "cell_type": "code",
   "execution_count": 36,
   "metadata": {},
   "outputs": [
    {
     "data": {
      "text/plain": [
       "<AxesSubplot:xlabel='cityCenters_nearest', ylabel='last_price'>"
      ]
     },
     "execution_count": 36,
     "metadata": {},
     "output_type": "execute_result"
    },
    {
     "data": {
      "image/png": "[encoded data removed]",
      "text/plain": [
       "<Figure size 720x576 with 1 Axes>"
      ]
     },
     "metadata": {
      "needs_background": "light"
     },
     "output_type": "display_data"
    }
   ],
   "source": [
    "data.plot(x='cityCenters_nearest', y='last_price', figsize = (10, 8), kind = 'scatter', label = 'зависимость стоимости квартир от близости к центру города')"
   ]
  },
  {
   "cell_type": "markdown",
   "metadata": {},
   "source": [
    "Коэффициент корреляции отрицательный: это значит, что, чем меньше расстояние от центра, тем выше цена."
   ]
  },
  {
   "cell_type": "code",
   "execution_count": 37,
   "metadata": {},
   "outputs": [
    {
     "data": {
      "text/plain": [
       "-0.20674734874298387"
      ]
     },
     "execution_count": 37,
     "metadata": {},
     "output_type": "execute_result"
    }
   ],
   "source": [
    "data['last_price'].corr(data['cityCenters_nearest'])"
   ]
  },
  {
   "cell_type": "markdown",
   "metadata": {},
   "source": [
    "Проверяем зависимость стоимости квартир от дня, месяца и года их продажи. Она практически не наблюдается. Коэффициент корреляции близится к нулю."
   ]
  },
  {
   "cell_type": "code",
   "execution_count": 38,
   "metadata": {},
   "outputs": [
    {
     "data": {
      "text/plain": [
       "<AxesSubplot:xlabel='weekday_exposition'>"
      ]
     },
     "execution_count": 38,
     "metadata": {},
     "output_type": "execute_result"
    },
    {
     "data": {
      "image/png": "[encoded data removed]",
      "text/plain": [
       "<Figure size 720x576 with 1 Axes>"
      ]
     },
     "metadata": {
      "needs_background": "light"
     },
     "output_type": "display_data"
    }
   ],
   "source": [
    "data.plot(x='weekday_exposition', y='last_price', figsize = (10, 8), style = 'o')"
   ]
  },
  {
   "cell_type": "code",
   "execution_count": 39,
   "metadata": {},
   "outputs": [
    {
     "data": {
      "text/plain": [
       "0.0015501452176215407"
      ]
     },
     "execution_count": 39,
     "metadata": {},
     "output_type": "execute_result"
    }
   ],
   "source": [
    "data['last_price'].corr(data['weekday_exposition'])"
   ]
  },
  {
   "cell_type": "code",
   "execution_count": 40,
   "metadata": {},
   "outputs": [
    {
     "data": {
      "text/plain": [
       "<AxesSubplot:xlabel='month_exposition'>"
      ]
     },
     "execution_count": 40,
     "metadata": {},
     "output_type": "execute_result"
    },
    {
     "data": {
      "image/png": "[encoded data removed]",
      "text/plain": [
       "<Figure size 720x576 with 1 Axes>"
      ]
     },
     "metadata": {
      "needs_background": "light"
     },
     "output_type": "display_data"
    }
   ],
   "source": [
    "data.plot(x='month_exposition',figsize = (10, 8), y='last_price', style = 'o')"
   ]
  },
  {
   "cell_type": "code",
   "execution_count": 41,
   "metadata": {},
   "outputs": [
    {
     "data": {
      "text/plain": [
       "0.002779128750739717"
      ]
     },
     "execution_count": 41,
     "metadata": {},
     "output_type": "execute_result"
    }
   ],
   "source": [
    "data['last_price'].corr(data['month_exposition'])"
   ]
  },
  {
   "cell_type": "code",
   "execution_count": 42,
   "metadata": {},
   "outputs": [
    {
     "data": {
      "text/plain": [
       "<AxesSubplot:xlabel='year_exposition'>"
      ]
     },
     "execution_count": 42,
     "metadata": {},
     "output_type": "execute_result"
    },
    {
     "data": {
      "image/png": "[encoded data removed]",
      "text/plain": [
       "<Figure size 720x576 with 1 Axes>"
      ]
     },
     "metadata": {
      "needs_background": "light"
     },
     "output_type": "display_data"
    }
   ],
   "source": [
    "data.plot(x='year_exposition', y='last_price', figsize = (10, 8), style = 'o')"
   ]
  },
  {
   "cell_type": "code",
   "execution_count": 43,
   "metadata": {},
   "outputs": [
    {
     "data": {
      "text/plain": [
       "-0.04308903619950847"
      ]
     },
     "execution_count": 43,
     "metadata": {},
     "output_type": "execute_result"
    }
   ],
   "source": [
    "data['last_price'].corr(data['year_exposition'])"
   ]
  },
  {
   "cell_type": "markdown",
   "metadata": {},
   "source": [
    "Наглядно просмотрим данные по корреляции на матрице корреляции"
   ]
  },
  {
   "cell_type": "code",
   "execution_count": 44,
   "metadata": {},
   "outputs": [
    {
     "data": {
      "image/png": "[encoded data removed]",
      "text/plain": [
       "<Figure size 576x576 with 2 Axes>"
      ]
     },
     "metadata": {
      "needs_background": "light"
     },
     "output_type": "display_data"
    }
   ],
   "source": [
    "cor_columns = ['last_price', 'living_area', 'rooms','cityCenters_nearest']\n",
    "correlation = data[cor_columns].corr()\n",
    "plt.figure(figsize=(8, 8))\n",
    "sns.heatmap(correlation, vmax=1, square=True,annot=True,cmap='RdBu')\n",
    "\n",
    "plt.title('Correlation between different features')\n",
    "plt.show()"
   ]
  },
  {
   "cell_type": "markdown",
   "metadata": {},
   "source": [
    "С помощью сводной таблицы просматриваем медианные показатели цен относительно этажей: первого, последнего или любого другого. Можно заметить, что квартиры, расположенные на первом этаже, стоят дешевле. Квартиры на последнем этаже находятся стоят чуть дороже, но самая высокая стоимость у квартир на других этажах. Предполагаем, что это самые удобные варианты размещения, что и влечёт за собой более высокую цену."
   ]
  },
  {
   "cell_type": "code",
   "execution_count": 45,
   "metadata": {},
   "outputs": [
    {
     "data": {
      "text/html": [
       "<div>\n",
       "<style scoped>\n",
       "    .dataframe tbody tr th:only-of-type {\n",
       "        vertical-align: middle;\n",
       "    }\n",
       "\n",
       "    .dataframe tbody tr th {\n",
       "        vertical-align: top;\n",
       "    }\n",
       "\n",
       "    .dataframe thead th {\n",
       "        text-align: right;\n",
       "    }\n",
       "</style>\n",
       "<table border=\"1\" class=\"dataframe\">\n",
       "  <thead>\n",
       "    <tr style=\"text-align: right;\">\n",
       "      <th></th>\n",
       "      <th>last_price</th>\n",
       "    </tr>\n",
       "    <tr>\n",
       "      <th>floor_new</th>\n",
       "      <th></th>\n",
       "    </tr>\n",
       "  </thead>\n",
       "  <tbody>\n",
       "    <tr>\n",
       "      <th>другой</th>\n",
       "      <td>4850000</td>\n",
       "    </tr>\n",
       "    <tr>\n",
       "      <th>первый</th>\n",
       "      <td>3900000</td>\n",
       "    </tr>\n",
       "    <tr>\n",
       "      <th>последний</th>\n",
       "      <td>4300000</td>\n",
       "    </tr>\n",
       "  </tbody>\n",
       "</table>\n",
       "</div>"
      ],
      "text/plain": [
       "           last_price\n",
       "floor_new            \n",
       "другой        4850000\n",
       "первый        3900000\n",
       "последний     4300000"
      ]
     },
     "execution_count": 45,
     "metadata": {},
     "output_type": "execute_result"
    }
   ],
   "source": [
    "data_pivot = data.pivot_table(index = 'floor_new', values = 'last_price', aggfunc = 'median')\n",
    "data_pivot"
   ]
  },
  {
   "cell_type": "markdown",
   "metadata": {},
   "source": [
    "Выбираем 10 населённых пунктов с наибольшим количеством объявлений."
   ]
  },
  {
   "cell_type": "code",
   "execution_count": 46,
   "metadata": {},
   "outputs": [
    {
     "data": {
      "text/plain": [
       "санкт-петербург    15721\n",
       " мурино              556\n",
       " шушары              440\n",
       "всеволожск           398\n",
       "пушкин               369\n",
       "колпино              338\n",
       " парголово           327\n",
       "гатчина              307\n",
       " кудрово             299\n",
       "выборг               237\n",
       "Name: locality_name, dtype: int64"
      ]
     },
     "execution_count": 46,
     "metadata": {},
     "output_type": "execute_result"
    }
   ],
   "source": [
    "data['locality_name'].value_counts().head(10)"
   ]
  },
  {
   "cell_type": "markdown",
   "metadata": {},
   "source": [
    "Cчитаем среднюю цену за квадратный метр в этих населённых пунктах.\n"
   ]
  },
  {
   "cell_type": "code",
   "execution_count": 47,
   "metadata": {},
   "outputs": [
    {
     "data": {
      "text/html": [
       "<div>\n",
       "<style scoped>\n",
       "    .dataframe tbody tr th:only-of-type {\n",
       "        vertical-align: middle;\n",
       "    }\n",
       "\n",
       "    .dataframe tbody tr th {\n",
       "        vertical-align: top;\n",
       "    }\n",
       "\n",
       "    .dataframe thead th {\n",
       "        text-align: right;\n",
       "    }\n",
       "</style>\n",
       "<table border=\"1\" class=\"dataframe\">\n",
       "  <thead>\n",
       "    <tr style=\"text-align: right;\">\n",
       "      <th></th>\n",
       "      <th>price_for_meter</th>\n",
       "    </tr>\n",
       "    <tr>\n",
       "      <th>locality_name</th>\n",
       "      <th></th>\n",
       "    </tr>\n",
       "  </thead>\n",
       "  <tbody>\n",
       "    <tr>\n",
       "      <th>агалатово</th>\n",
       "      <td>73665.700401</td>\n",
       "    </tr>\n",
       "    <tr>\n",
       "      <th>александровская</th>\n",
       "      <td>70262.807084</td>\n",
       "    </tr>\n",
       "    <tr>\n",
       "      <th>алексеевка</th>\n",
       "      <td>22222.222222</td>\n",
       "    </tr>\n",
       "    <tr>\n",
       "      <th>аннино</th>\n",
       "      <td>64103.084416</td>\n",
       "    </tr>\n",
       "    <tr>\n",
       "      <th>аро</th>\n",
       "      <td>50853.242321</td>\n",
       "    </tr>\n",
       "  </tbody>\n",
       "</table>\n",
       "</div>"
      ],
      "text/plain": [
       "                  price_for_meter\n",
       "locality_name                    \n",
       " агалатово           73665.700401\n",
       " александровская     70262.807084\n",
       " алексеевка          22222.222222\n",
       " аннино              64103.084416\n",
       " аро                 50853.242321"
      ]
     },
     "execution_count": 47,
     "metadata": {},
     "output_type": "execute_result"
    }
   ],
   "source": [
    "data_grouped = data.pivot_table(index='locality_name', values = 'price_for_meter', aggfunc = 'median')\n",
    "data_grouped.head()\n"
   ]
  },
  {
   "cell_type": "markdown",
   "metadata": {},
   "source": [
    "Просматриваем среднюю цену за квадратный метр в интересующих нас населённых пунктах. Делаем вывод, что самая дорогая стоимость в Санкт-Петербурге и Пушкине, а самая низкая в Выборге."
   ]
  },
  {
   "cell_type": "code",
   "execution_count": 48,
   "metadata": {},
   "outputs": [
    {
     "data": {
      "text/html": [
       "<div>\n",
       "<style scoped>\n",
       "    .dataframe tbody tr th:only-of-type {\n",
       "        vertical-align: middle;\n",
       "    }\n",
       "\n",
       "    .dataframe tbody tr th {\n",
       "        vertical-align: top;\n",
       "    }\n",
       "\n",
       "    .dataframe thead th {\n",
       "        text-align: right;\n",
       "    }\n",
       "</style>\n",
       "<table border=\"1\" class=\"dataframe\">\n",
       "  <thead>\n",
       "    <tr style=\"text-align: right;\">\n",
       "      <th></th>\n",
       "      <th>price_for_meter</th>\n",
       "    </tr>\n",
       "    <tr>\n",
       "      <th>locality_name</th>\n",
       "      <th></th>\n",
       "    </tr>\n",
       "  </thead>\n",
       "  <tbody>\n",
       "    <tr>\n",
       "      <th>всеволожск</th>\n",
       "      <td>65789.473684</td>\n",
       "    </tr>\n",
       "    <tr>\n",
       "      <th>выборг</th>\n",
       "      <td>58158.319871</td>\n",
       "    </tr>\n",
       "    <tr>\n",
       "      <th>гатчина</th>\n",
       "      <td>67796.610169</td>\n",
       "    </tr>\n",
       "    <tr>\n",
       "      <th>колпино</th>\n",
       "      <td>74723.748474</td>\n",
       "    </tr>\n",
       "    <tr>\n",
       "      <th>кудрово</th>\n",
       "      <td>100000.000000</td>\n",
       "    </tr>\n",
       "    <tr>\n",
       "      <th>мурино</th>\n",
       "      <td>91478.394974</td>\n",
       "    </tr>\n",
       "    <tr>\n",
       "      <th>пушкин</th>\n",
       "      <td>100000.000000</td>\n",
       "    </tr>\n",
       "    <tr>\n",
       "      <th>санкт-петербург</th>\n",
       "      <td>104761.904762</td>\n",
       "    </tr>\n",
       "  </tbody>\n",
       "</table>\n",
       "</div>"
      ],
      "text/plain": [
       "                 price_for_meter\n",
       "locality_name                   \n",
       "всеволожск          65789.473684\n",
       "выборг              58158.319871\n",
       "гатчина             67796.610169\n",
       "колпино             74723.748474\n",
       "кудрово            100000.000000\n",
       "мурино              91478.394974\n",
       "пушкин             100000.000000\n",
       "санкт-петербург    104761.904762"
      ]
     },
     "execution_count": 48,
     "metadata": {},
     "output_type": "execute_result"
    }
   ],
   "source": [
    "data_grouped.query('(\"санкт-петербург\", \"мурино\", \"шушары\", \"всеволожск\", \"пушкин\", \"колпино\", \"парголово\", \"гатчина\", \"кудрово\", \"выборг\") in locality_name')"
   ]
  },
  {
   "cell_type": "markdown",
   "metadata": {},
   "source": [
    "Выделяем срез данных по Санкт-Петербургу.\n",
    "Округляем расстояние до центра до целых чисел в километрах."
   ]
  },
  {
   "cell_type": "code",
   "execution_count": 49,
   "metadata": {},
   "outputs": [
    {
     "data": {
      "text/plain": [
       "0        16.0\n",
       "2        14.0\n",
       "3         7.0\n",
       "4         8.0\n",
       "7        12.0\n",
       "         ... \n",
       "23689    16.0\n",
       "23690     6.0\n",
       "23691     4.0\n",
       "23694     4.0\n",
       "23697    10.0\n",
       "Name: cityCenters_nearest, Length: 15721, dtype: float64"
      ]
     },
     "execution_count": 49,
     "metadata": {},
     "output_type": "execute_result"
    }
   ],
   "source": [
    "data_center = data.query('locality_name == \"санкт-петербург\"')\n",
    "data_center['cityCenters_nearest'] = round(data_center['cityCenters_nearest']/1000, 0)\n",
    "data_center['cityCenters_nearest']"
   ]
  },
  {
   "cell_type": "markdown",
   "metadata": {},
   "source": [
    "С помощью сводной таблицы просматриваем среднюю цену в зависимости от удалённости от центра"
   ]
  },
  {
   "cell_type": "code",
   "execution_count": 50,
   "metadata": {},
   "outputs": [
    {
     "data": {
      "text/html": [
       "<div>\n",
       "<style scoped>\n",
       "    .dataframe tbody tr th:only-of-type {\n",
       "        vertical-align: middle;\n",
       "    }\n",
       "\n",
       "    .dataframe tbody tr th {\n",
       "        vertical-align: top;\n",
       "    }\n",
       "\n",
       "    .dataframe thead th {\n",
       "        text-align: right;\n",
       "    }\n",
       "</style>\n",
       "<table border=\"1\" class=\"dataframe\">\n",
       "  <thead>\n",
       "    <tr style=\"text-align: right;\">\n",
       "      <th></th>\n",
       "      <th>last_price</th>\n",
       "    </tr>\n",
       "    <tr>\n",
       "      <th>cityCenters_nearest</th>\n",
       "      <th></th>\n",
       "    </tr>\n",
       "  </thead>\n",
       "  <tbody>\n",
       "    <tr>\n",
       "      <th>0.0</th>\n",
       "      <td>17900000</td>\n",
       "    </tr>\n",
       "    <tr>\n",
       "      <th>1.0</th>\n",
       "      <td>11395000</td>\n",
       "    </tr>\n",
       "    <tr>\n",
       "      <th>2.0</th>\n",
       "      <td>10000000</td>\n",
       "    </tr>\n",
       "    <tr>\n",
       "      <th>3.0</th>\n",
       "      <td>8409000</td>\n",
       "    </tr>\n",
       "    <tr>\n",
       "      <th>4.0</th>\n",
       "      <td>9200000</td>\n",
       "    </tr>\n",
       "    <tr>\n",
       "      <th>5.0</th>\n",
       "      <td>9500000</td>\n",
       "    </tr>\n",
       "    <tr>\n",
       "      <th>6.0</th>\n",
       "      <td>8900000</td>\n",
       "    </tr>\n",
       "    <tr>\n",
       "      <th>7.0</th>\n",
       "      <td>7800000</td>\n",
       "    </tr>\n",
       "    <tr>\n",
       "      <th>8.0</th>\n",
       "      <td>7450000</td>\n",
       "    </tr>\n",
       "    <tr>\n",
       "      <th>9.0</th>\n",
       "      <td>5300000</td>\n",
       "    </tr>\n",
       "    <tr>\n",
       "      <th>10.0</th>\n",
       "      <td>5000000</td>\n",
       "    </tr>\n",
       "    <tr>\n",
       "      <th>11.0</th>\n",
       "      <td>5072500</td>\n",
       "    </tr>\n",
       "    <tr>\n",
       "      <th>12.0</th>\n",
       "      <td>4950000</td>\n",
       "    </tr>\n",
       "    <tr>\n",
       "      <th>13.0</th>\n",
       "      <td>5200000</td>\n",
       "    </tr>\n",
       "    <tr>\n",
       "      <th>14.0</th>\n",
       "      <td>4870000</td>\n",
       "    </tr>\n",
       "    <tr>\n",
       "      <th>15.0</th>\n",
       "      <td>4900000</td>\n",
       "    </tr>\n",
       "    <tr>\n",
       "      <th>16.0</th>\n",
       "      <td>4750000</td>\n",
       "    </tr>\n",
       "    <tr>\n",
       "      <th>17.0</th>\n",
       "      <td>4580000</td>\n",
       "    </tr>\n",
       "    <tr>\n",
       "      <th>18.0</th>\n",
       "      <td>4300000</td>\n",
       "    </tr>\n",
       "    <tr>\n",
       "      <th>19.0</th>\n",
       "      <td>4500000</td>\n",
       "    </tr>\n",
       "    <tr>\n",
       "      <th>20.0</th>\n",
       "      <td>5550000</td>\n",
       "    </tr>\n",
       "    <tr>\n",
       "      <th>21.0</th>\n",
       "      <td>5289476</td>\n",
       "    </tr>\n",
       "    <tr>\n",
       "      <th>22.0</th>\n",
       "      <td>4925000</td>\n",
       "    </tr>\n",
       "    <tr>\n",
       "      <th>23.0</th>\n",
       "      <td>4500000</td>\n",
       "    </tr>\n",
       "    <tr>\n",
       "      <th>24.0</th>\n",
       "      <td>3480000</td>\n",
       "    </tr>\n",
       "    <tr>\n",
       "      <th>25.0</th>\n",
       "      <td>3794881</td>\n",
       "    </tr>\n",
       "    <tr>\n",
       "      <th>26.0</th>\n",
       "      <td>3320000</td>\n",
       "    </tr>\n",
       "    <tr>\n",
       "      <th>27.0</th>\n",
       "      <td>8300000</td>\n",
       "    </tr>\n",
       "    <tr>\n",
       "      <th>28.0</th>\n",
       "      <td>4990000</td>\n",
       "    </tr>\n",
       "    <tr>\n",
       "      <th>29.0</th>\n",
       "      <td>4535000</td>\n",
       "    </tr>\n",
       "  </tbody>\n",
       "</table>\n",
       "</div>"
      ],
      "text/plain": [
       "                     last_price\n",
       "cityCenters_nearest            \n",
       "0.0                    17900000\n",
       "1.0                    11395000\n",
       "2.0                    10000000\n",
       "3.0                     8409000\n",
       "4.0                     9200000\n",
       "5.0                     9500000\n",
       "6.0                     8900000\n",
       "7.0                     7800000\n",
       "8.0                     7450000\n",
       "9.0                     5300000\n",
       "10.0                    5000000\n",
       "11.0                    5072500\n",
       "12.0                    4950000\n",
       "13.0                    5200000\n",
       "14.0                    4870000\n",
       "15.0                    4900000\n",
       "16.0                    4750000\n",
       "17.0                    4580000\n",
       "18.0                    4300000\n",
       "19.0                    4500000\n",
       "20.0                    5550000\n",
       "21.0                    5289476\n",
       "22.0                    4925000\n",
       "23.0                    4500000\n",
       "24.0                    3480000\n",
       "25.0                    3794881\n",
       "26.0                    3320000\n",
       "27.0                    8300000\n",
       "28.0                    4990000\n",
       "29.0                    4535000"
      ]
     },
     "execution_count": 50,
     "metadata": {},
     "output_type": "execute_result"
    }
   ],
   "source": [
    "data_grouped_center = data_center.pivot_table(index='cityCenters_nearest', values = 'last_price', aggfunc = 'median')\n",
    "data_grouped_center"
   ]
  },
  {
   "cell_type": "markdown",
   "metadata": {},
   "source": [
    "Строим график. График силльно меняется в области 3-5км. Будем считать, что 5км удалённости от центра - зона центральная."
   ]
  },
  {
   "cell_type": "code",
   "execution_count": 51,
   "metadata": {},
   "outputs": [
    {
     "data": {
      "text/plain": [
       "<AxesSubplot:xlabel='cityCenters_nearest'>"
      ]
     },
     "execution_count": 51,
     "metadata": {},
     "output_type": "execute_result"
    },
    {
     "data": {
      "image/png": "[encoded data removed]",
      "text/plain": [
       "<Figure size 432x288 with 1 Axes>"
      ]
     },
     "metadata": {
      "needs_background": "light"
     },
     "output_type": "display_data"
    }
   ],
   "source": [
    "data_grouped_center.plot()"
   ]
  },
  {
   "cell_type": "markdown",
   "metadata": {},
   "source": [
    "Изучим сегмент квартир в центре. Сравним их со всем городом. "
   ]
  },
  {
   "cell_type": "code",
   "execution_count": 52,
   "metadata": {},
   "outputs": [
    {
     "data": {
      "text/html": [
       "<div>\n",
       "<style scoped>\n",
       "    .dataframe tbody tr th:only-of-type {\n",
       "        vertical-align: middle;\n",
       "    }\n",
       "\n",
       "    .dataframe tbody tr th {\n",
       "        vertical-align: top;\n",
       "    }\n",
       "\n",
       "    .dataframe thead th {\n",
       "        text-align: right;\n",
       "    }\n",
       "</style>\n",
       "<table border=\"1\" class=\"dataframe\">\n",
       "  <thead>\n",
       "    <tr style=\"text-align: right;\">\n",
       "      <th></th>\n",
       "      <th>total_images</th>\n",
       "      <th>last_price</th>\n",
       "      <th>total_area</th>\n",
       "      <th>first_day_exposition</th>\n",
       "      <th>rooms</th>\n",
       "      <th>ceiling_height</th>\n",
       "      <th>floors_total</th>\n",
       "      <th>living_area</th>\n",
       "      <th>floor</th>\n",
       "      <th>is_apartment</th>\n",
       "      <th>...</th>\n",
       "      <th>ponds_around3000</th>\n",
       "      <th>ponds_nearest</th>\n",
       "      <th>days_exposition</th>\n",
       "      <th>price_for_meter</th>\n",
       "      <th>area_ratio</th>\n",
       "      <th>kitchen_ratio</th>\n",
       "      <th>weekday_exposition</th>\n",
       "      <th>month_exposition</th>\n",
       "      <th>year_exposition</th>\n",
       "      <th>floor_new</th>\n",
       "    </tr>\n",
       "  </thead>\n",
       "  <tbody>\n",
       "    <tr>\n",
       "      <th>24</th>\n",
       "      <td>8</td>\n",
       "      <td>6500000</td>\n",
       "      <td>97.2</td>\n",
       "      <td>2015-10-31</td>\n",
       "      <td>2</td>\n",
       "      <td>2.60</td>\n",
       "      <td>3.0</td>\n",
       "      <td>46.50</td>\n",
       "      <td>1</td>\n",
       "      <td>True</td>\n",
       "      <td>...</td>\n",
       "      <td>3.0</td>\n",
       "      <td>124.0</td>\n",
       "      <td>265</td>\n",
       "      <td>66872.427984</td>\n",
       "      <td>0.478395</td>\n",
       "      <td>0.201646</td>\n",
       "      <td>5</td>\n",
       "      <td>10</td>\n",
       "      <td>2015</td>\n",
       "      <td>первый</td>\n",
       "    </tr>\n",
       "    <tr>\n",
       "      <th>35</th>\n",
       "      <td>6</td>\n",
       "      <td>15500000</td>\n",
       "      <td>149.0</td>\n",
       "      <td>2017-06-26</td>\n",
       "      <td>5</td>\n",
       "      <td>2.60</td>\n",
       "      <td>5.0</td>\n",
       "      <td>104.00</td>\n",
       "      <td>4</td>\n",
       "      <td>True</td>\n",
       "      <td>...</td>\n",
       "      <td>1.0</td>\n",
       "      <td>779.0</td>\n",
       "      <td>644</td>\n",
       "      <td>104026.845638</td>\n",
       "      <td>0.697987</td>\n",
       "      <td>0.114094</td>\n",
       "      <td>0</td>\n",
       "      <td>6</td>\n",
       "      <td>2017</td>\n",
       "      <td>другой</td>\n",
       "    </tr>\n",
       "    <tr>\n",
       "      <th>61</th>\n",
       "      <td>18</td>\n",
       "      <td>7990000</td>\n",
       "      <td>74.0</td>\n",
       "      <td>2017-08-24</td>\n",
       "      <td>2</td>\n",
       "      <td>2.60</td>\n",
       "      <td>4.0</td>\n",
       "      <td>43.00</td>\n",
       "      <td>4</td>\n",
       "      <td>True</td>\n",
       "      <td>...</td>\n",
       "      <td>0.0</td>\n",
       "      <td>NaN</td>\n",
       "      <td>609</td>\n",
       "      <td>107972.972973</td>\n",
       "      <td>0.581081</td>\n",
       "      <td>0.270270</td>\n",
       "      <td>3</td>\n",
       "      <td>8</td>\n",
       "      <td>2017</td>\n",
       "      <td>последний</td>\n",
       "    </tr>\n",
       "    <tr>\n",
       "      <th>63</th>\n",
       "      <td>2</td>\n",
       "      <td>20000000</td>\n",
       "      <td>118.0</td>\n",
       "      <td>2018-09-11</td>\n",
       "      <td>3</td>\n",
       "      <td>3.00</td>\n",
       "      <td>9.0</td>\n",
       "      <td>68.00</td>\n",
       "      <td>7</td>\n",
       "      <td>True</td>\n",
       "      <td>...</td>\n",
       "      <td>1.0</td>\n",
       "      <td>779.0</td>\n",
       "      <td>37</td>\n",
       "      <td>169491.525424</td>\n",
       "      <td>0.576271</td>\n",
       "      <td>0.135593</td>\n",
       "      <td>1</td>\n",
       "      <td>9</td>\n",
       "      <td>2018</td>\n",
       "      <td>другой</td>\n",
       "    </tr>\n",
       "    <tr>\n",
       "      <th>99</th>\n",
       "      <td>32</td>\n",
       "      <td>9600000</td>\n",
       "      <td>90.0</td>\n",
       "      <td>2017-09-26</td>\n",
       "      <td>4</td>\n",
       "      <td>2.60</td>\n",
       "      <td>5.0</td>\n",
       "      <td>67.00</td>\n",
       "      <td>2</td>\n",
       "      <td>True</td>\n",
       "      <td>...</td>\n",
       "      <td>0.0</td>\n",
       "      <td>NaN</td>\n",
       "      <td>104</td>\n",
       "      <td>106666.666667</td>\n",
       "      <td>0.744444</td>\n",
       "      <td>0.088889</td>\n",
       "      <td>1</td>\n",
       "      <td>9</td>\n",
       "      <td>2017</td>\n",
       "      <td>другой</td>\n",
       "    </tr>\n",
       "    <tr>\n",
       "      <th>121</th>\n",
       "      <td>20</td>\n",
       "      <td>33000000</td>\n",
       "      <td>180.0</td>\n",
       "      <td>2017-02-17</td>\n",
       "      <td>3</td>\n",
       "      <td>2.90</td>\n",
       "      <td>9.0</td>\n",
       "      <td>86.00</td>\n",
       "      <td>8</td>\n",
       "      <td>False</td>\n",
       "      <td>...</td>\n",
       "      <td>0.0</td>\n",
       "      <td>NaN</td>\n",
       "      <td>144</td>\n",
       "      <td>183333.333333</td>\n",
       "      <td>0.477778</td>\n",
       "      <td>0.133333</td>\n",
       "      <td>4</td>\n",
       "      <td>2</td>\n",
       "      <td>2017</td>\n",
       "      <td>другой</td>\n",
       "    </tr>\n",
       "    <tr>\n",
       "      <th>136</th>\n",
       "      <td>16</td>\n",
       "      <td>6500000</td>\n",
       "      <td>51.8</td>\n",
       "      <td>2018-08-01</td>\n",
       "      <td>2</td>\n",
       "      <td>3.45</td>\n",
       "      <td>6.0</td>\n",
       "      <td>25.60</td>\n",
       "      <td>2</td>\n",
       "      <td>True</td>\n",
       "      <td>...</td>\n",
       "      <td>1.0</td>\n",
       "      <td>812.0</td>\n",
       "      <td>163</td>\n",
       "      <td>125482.625483</td>\n",
       "      <td>0.494208</td>\n",
       "      <td>0.140927</td>\n",
       "      <td>2</td>\n",
       "      <td>8</td>\n",
       "      <td>2018</td>\n",
       "      <td>другой</td>\n",
       "    </tr>\n",
       "    <tr>\n",
       "      <th>137</th>\n",
       "      <td>11</td>\n",
       "      <td>13310800</td>\n",
       "      <td>85.1</td>\n",
       "      <td>2018-01-01</td>\n",
       "      <td>2</td>\n",
       "      <td>2.70</td>\n",
       "      <td>10.0</td>\n",
       "      <td>31.52</td>\n",
       "      <td>5</td>\n",
       "      <td>True</td>\n",
       "      <td>...</td>\n",
       "      <td>3.0</td>\n",
       "      <td>133.0</td>\n",
       "      <td>340</td>\n",
       "      <td>156413.631022</td>\n",
       "      <td>0.370388</td>\n",
       "      <td>0.315511</td>\n",
       "      <td>0</td>\n",
       "      <td>1</td>\n",
       "      <td>2018</td>\n",
       "      <td>другой</td>\n",
       "    </tr>\n",
       "    <tr>\n",
       "      <th>138</th>\n",
       "      <td>8</td>\n",
       "      <td>4800000</td>\n",
       "      <td>40.0</td>\n",
       "      <td>2017-11-18</td>\n",
       "      <td>2</td>\n",
       "      <td>2.60</td>\n",
       "      <td>3.0</td>\n",
       "      <td>29.00</td>\n",
       "      <td>2</td>\n",
       "      <td>True</td>\n",
       "      <td>...</td>\n",
       "      <td>2.0</td>\n",
       "      <td>729.0</td>\n",
       "      <td>80</td>\n",
       "      <td>120000.000000</td>\n",
       "      <td>0.725000</td>\n",
       "      <td>0.150000</td>\n",
       "      <td>5</td>\n",
       "      <td>11</td>\n",
       "      <td>2017</td>\n",
       "      <td>другой</td>\n",
       "    </tr>\n",
       "    <tr>\n",
       "      <th>141</th>\n",
       "      <td>8</td>\n",
       "      <td>6500000</td>\n",
       "      <td>32.6</td>\n",
       "      <td>2019-02-27</td>\n",
       "      <td>1</td>\n",
       "      <td>2.60</td>\n",
       "      <td>5.0</td>\n",
       "      <td>18.50</td>\n",
       "      <td>5</td>\n",
       "      <td>True</td>\n",
       "      <td>...</td>\n",
       "      <td>0.0</td>\n",
       "      <td>NaN</td>\n",
       "      <td>74</td>\n",
       "      <td>199386.503067</td>\n",
       "      <td>0.567485</td>\n",
       "      <td>0.168712</td>\n",
       "      <td>2</td>\n",
       "      <td>2</td>\n",
       "      <td>2019</td>\n",
       "      <td>последний</td>\n",
       "    </tr>\n",
       "    <tr>\n",
       "      <th>147</th>\n",
       "      <td>10</td>\n",
       "      <td>27700000</td>\n",
       "      <td>179.6</td>\n",
       "      <td>2017-07-06</td>\n",
       "      <td>5</td>\n",
       "      <td>2.85</td>\n",
       "      <td>25.0</td>\n",
       "      <td>97.20</td>\n",
       "      <td>25</td>\n",
       "      <td>True</td>\n",
       "      <td>...</td>\n",
       "      <td>1.0</td>\n",
       "      <td>806.0</td>\n",
       "      <td>75</td>\n",
       "      <td>154231.625835</td>\n",
       "      <td>0.541203</td>\n",
       "      <td>0.188196</td>\n",
       "      <td>3</td>\n",
       "      <td>7</td>\n",
       "      <td>2017</td>\n",
       "      <td>последний</td>\n",
       "    </tr>\n",
       "    <tr>\n",
       "      <th>154</th>\n",
       "      <td>1</td>\n",
       "      <td>8200000</td>\n",
       "      <td>80.0</td>\n",
       "      <td>2018-11-06</td>\n",
       "      <td>3</td>\n",
       "      <td>4.15</td>\n",
       "      <td>3.0</td>\n",
       "      <td>44.20</td>\n",
       "      <td>2</td>\n",
       "      <td>True</td>\n",
       "      <td>...</td>\n",
       "      <td>1.0</td>\n",
       "      <td>838.0</td>\n",
       "      <td>38</td>\n",
       "      <td>102500.000000</td>\n",
       "      <td>0.552500</td>\n",
       "      <td>0.152500</td>\n",
       "      <td>1</td>\n",
       "      <td>11</td>\n",
       "      <td>2018</td>\n",
       "      <td>другой</td>\n",
       "    </tr>\n",
       "    <tr>\n",
       "      <th>155</th>\n",
       "      <td>8</td>\n",
       "      <td>96000000</td>\n",
       "      <td>317.0</td>\n",
       "      <td>2017-07-07</td>\n",
       "      <td>4</td>\n",
       "      <td>3.50</td>\n",
       "      <td>3.0</td>\n",
       "      <td>183.00</td>\n",
       "      <td>3</td>\n",
       "      <td>True</td>\n",
       "      <td>...</td>\n",
       "      <td>3.0</td>\n",
       "      <td>366.0</td>\n",
       "      <td>62</td>\n",
       "      <td>302839.116719</td>\n",
       "      <td>0.577287</td>\n",
       "      <td>NaN</td>\n",
       "      <td>4</td>\n",
       "      <td>7</td>\n",
       "      <td>2017</td>\n",
       "      <td>последний</td>\n",
       "    </tr>\n",
       "    <tr>\n",
       "      <th>159</th>\n",
       "      <td>14</td>\n",
       "      <td>7050000</td>\n",
       "      <td>66.0</td>\n",
       "      <td>2017-09-04</td>\n",
       "      <td>3</td>\n",
       "      <td>3.00</td>\n",
       "      <td>4.0</td>\n",
       "      <td>37.80</td>\n",
       "      <td>4</td>\n",
       "      <td>False</td>\n",
       "      <td>...</td>\n",
       "      <td>1.0</td>\n",
       "      <td>1013.0</td>\n",
       "      <td>98</td>\n",
       "      <td>106818.181818</td>\n",
       "      <td>0.572727</td>\n",
       "      <td>0.166667</td>\n",
       "      <td>0</td>\n",
       "      <td>9</td>\n",
       "      <td>2017</td>\n",
       "      <td>последний</td>\n",
       "    </tr>\n",
       "    <tr>\n",
       "      <th>179</th>\n",
       "      <td>5</td>\n",
       "      <td>14800000</td>\n",
       "      <td>108.7</td>\n",
       "      <td>2019-04-11</td>\n",
       "      <td>3</td>\n",
       "      <td>4.00</td>\n",
       "      <td>5.0</td>\n",
       "      <td>72.40</td>\n",
       "      <td>5</td>\n",
       "      <td>True</td>\n",
       "      <td>...</td>\n",
       "      <td>0.0</td>\n",
       "      <td>NaN</td>\n",
       "      <td>74</td>\n",
       "      <td>136154.553818</td>\n",
       "      <td>0.666053</td>\n",
       "      <td>0.073597</td>\n",
       "      <td>3</td>\n",
       "      <td>4</td>\n",
       "      <td>2019</td>\n",
       "      <td>последний</td>\n",
       "    </tr>\n",
       "    <tr>\n",
       "      <th>181</th>\n",
       "      <td>2</td>\n",
       "      <td>7900000</td>\n",
       "      <td>71.8</td>\n",
       "      <td>2017-08-23</td>\n",
       "      <td>3</td>\n",
       "      <td>3.00</td>\n",
       "      <td>5.0</td>\n",
       "      <td>38.70</td>\n",
       "      <td>1</td>\n",
       "      <td>True</td>\n",
       "      <td>...</td>\n",
       "      <td>1.0</td>\n",
       "      <td>585.0</td>\n",
       "      <td>74</td>\n",
       "      <td>110027.855153</td>\n",
       "      <td>0.538997</td>\n",
       "      <td>0.167131</td>\n",
       "      <td>2</td>\n",
       "      <td>8</td>\n",
       "      <td>2017</td>\n",
       "      <td>первый</td>\n",
       "    </tr>\n",
       "    <tr>\n",
       "      <th>201</th>\n",
       "      <td>5</td>\n",
       "      <td>10880000</td>\n",
       "      <td>123.1</td>\n",
       "      <td>2015-11-12</td>\n",
       "      <td>6</td>\n",
       "      <td>3.20</td>\n",
       "      <td>5.0</td>\n",
       "      <td>89.00</td>\n",
       "      <td>2</td>\n",
       "      <td>True</td>\n",
       "      <td>...</td>\n",
       "      <td>0.0</td>\n",
       "      <td>NaN</td>\n",
       "      <td>992</td>\n",
       "      <td>88383.428107</td>\n",
       "      <td>0.722989</td>\n",
       "      <td>0.089358</td>\n",
       "      <td>3</td>\n",
       "      <td>11</td>\n",
       "      <td>2015</td>\n",
       "      <td>другой</td>\n",
       "    </tr>\n",
       "    <tr>\n",
       "      <th>207</th>\n",
       "      <td>11</td>\n",
       "      <td>9000000</td>\n",
       "      <td>72.6</td>\n",
       "      <td>2018-09-08</td>\n",
       "      <td>2</td>\n",
       "      <td>2.90</td>\n",
       "      <td>5.0</td>\n",
       "      <td>43.20</td>\n",
       "      <td>4</td>\n",
       "      <td>True</td>\n",
       "      <td>...</td>\n",
       "      <td>3.0</td>\n",
       "      <td>485.0</td>\n",
       "      <td>74</td>\n",
       "      <td>123966.942149</td>\n",
       "      <td>0.595041</td>\n",
       "      <td>0.157025</td>\n",
       "      <td>5</td>\n",
       "      <td>9</td>\n",
       "      <td>2018</td>\n",
       "      <td>другой</td>\n",
       "    </tr>\n",
       "    <tr>\n",
       "      <th>213</th>\n",
       "      <td>11</td>\n",
       "      <td>8700000</td>\n",
       "      <td>111.4</td>\n",
       "      <td>2016-10-10</td>\n",
       "      <td>4</td>\n",
       "      <td>3.10</td>\n",
       "      <td>4.0</td>\n",
       "      <td>73.20</td>\n",
       "      <td>2</td>\n",
       "      <td>True</td>\n",
       "      <td>...</td>\n",
       "      <td>3.0</td>\n",
       "      <td>55.0</td>\n",
       "      <td>791</td>\n",
       "      <td>78096.947935</td>\n",
       "      <td>0.657092</td>\n",
       "      <td>0.126571</td>\n",
       "      <td>0</td>\n",
       "      <td>10</td>\n",
       "      <td>2016</td>\n",
       "      <td>другой</td>\n",
       "    </tr>\n",
       "    <tr>\n",
       "      <th>219</th>\n",
       "      <td>12</td>\n",
       "      <td>7700000</td>\n",
       "      <td>58.7</td>\n",
       "      <td>2017-12-12</td>\n",
       "      <td>1</td>\n",
       "      <td>2.60</td>\n",
       "      <td>7.0</td>\n",
       "      <td>17.00</td>\n",
       "      <td>3</td>\n",
       "      <td>True</td>\n",
       "      <td>...</td>\n",
       "      <td>0.0</td>\n",
       "      <td>NaN</td>\n",
       "      <td>136</td>\n",
       "      <td>131175.468484</td>\n",
       "      <td>0.289608</td>\n",
       "      <td>0.267462</td>\n",
       "      <td>1</td>\n",
       "      <td>12</td>\n",
       "      <td>2017</td>\n",
       "      <td>другой</td>\n",
       "    </tr>\n",
       "    <tr>\n",
       "      <th>226</th>\n",
       "      <td>17</td>\n",
       "      <td>7950000</td>\n",
       "      <td>86.4</td>\n",
       "      <td>2019-04-24</td>\n",
       "      <td>4</td>\n",
       "      <td>2.60</td>\n",
       "      <td>3.0</td>\n",
       "      <td>52.70</td>\n",
       "      <td>1</td>\n",
       "      <td>True</td>\n",
       "      <td>...</td>\n",
       "      <td>0.0</td>\n",
       "      <td>NaN</td>\n",
       "      <td>74</td>\n",
       "      <td>92013.888889</td>\n",
       "      <td>0.609954</td>\n",
       "      <td>0.146991</td>\n",
       "      <td>2</td>\n",
       "      <td>4</td>\n",
       "      <td>2019</td>\n",
       "      <td>первый</td>\n",
       "    </tr>\n",
       "    <tr>\n",
       "      <th>239</th>\n",
       "      <td>16</td>\n",
       "      <td>22000000</td>\n",
       "      <td>119.0</td>\n",
       "      <td>2017-02-16</td>\n",
       "      <td>3</td>\n",
       "      <td>3.50</td>\n",
       "      <td>5.0</td>\n",
       "      <td>56.00</td>\n",
       "      <td>3</td>\n",
       "      <td>False</td>\n",
       "      <td>...</td>\n",
       "      <td>1.0</td>\n",
       "      <td>86.0</td>\n",
       "      <td>77</td>\n",
       "      <td>184873.949580</td>\n",
       "      <td>0.470588</td>\n",
       "      <td>0.294118</td>\n",
       "      <td>3</td>\n",
       "      <td>2</td>\n",
       "      <td>2017</td>\n",
       "      <td>другой</td>\n",
       "    </tr>\n",
       "    <tr>\n",
       "      <th>262</th>\n",
       "      <td>14</td>\n",
       "      <td>37500000</td>\n",
       "      <td>158.0</td>\n",
       "      <td>2019-01-24</td>\n",
       "      <td>4</td>\n",
       "      <td>2.60</td>\n",
       "      <td>12.0</td>\n",
       "      <td>88.00</td>\n",
       "      <td>4</td>\n",
       "      <td>True</td>\n",
       "      <td>...</td>\n",
       "      <td>2.0</td>\n",
       "      <td>840.0</td>\n",
       "      <td>74</td>\n",
       "      <td>237341.772152</td>\n",
       "      <td>0.556962</td>\n",
       "      <td>0.253165</td>\n",
       "      <td>3</td>\n",
       "      <td>1</td>\n",
       "      <td>2019</td>\n",
       "      <td>другой</td>\n",
       "    </tr>\n",
       "    <tr>\n",
       "      <th>276</th>\n",
       "      <td>5</td>\n",
       "      <td>23900000</td>\n",
       "      <td>108.4</td>\n",
       "      <td>2018-11-15</td>\n",
       "      <td>3</td>\n",
       "      <td>3.06</td>\n",
       "      <td>7.0</td>\n",
       "      <td>NaN</td>\n",
       "      <td>6</td>\n",
       "      <td>True</td>\n",
       "      <td>...</td>\n",
       "      <td>1.0</td>\n",
       "      <td>678.0</td>\n",
       "      <td>96</td>\n",
       "      <td>220479.704797</td>\n",
       "      <td>NaN</td>\n",
       "      <td>NaN</td>\n",
       "      <td>3</td>\n",
       "      <td>11</td>\n",
       "      <td>2018</td>\n",
       "      <td>другой</td>\n",
       "    </tr>\n",
       "    <tr>\n",
       "      <th>282</th>\n",
       "      <td>17</td>\n",
       "      <td>37000000</td>\n",
       "      <td>115.0</td>\n",
       "      <td>2018-11-15</td>\n",
       "      <td>2</td>\n",
       "      <td>2.60</td>\n",
       "      <td>5.0</td>\n",
       "      <td>65.00</td>\n",
       "      <td>2</td>\n",
       "      <td>True</td>\n",
       "      <td>...</td>\n",
       "      <td>2.0</td>\n",
       "      <td>663.0</td>\n",
       "      <td>158</td>\n",
       "      <td>321739.130435</td>\n",
       "      <td>0.565217</td>\n",
       "      <td>0.121739</td>\n",
       "      <td>3</td>\n",
       "      <td>11</td>\n",
       "      <td>2018</td>\n",
       "      <td>другой</td>\n",
       "    </tr>\n",
       "    <tr>\n",
       "      <th>291</th>\n",
       "      <td>10</td>\n",
       "      <td>5900000</td>\n",
       "      <td>70.0</td>\n",
       "      <td>2017-01-24</td>\n",
       "      <td>3</td>\n",
       "      <td>2.51</td>\n",
       "      <td>5.0</td>\n",
       "      <td>47.40</td>\n",
       "      <td>1</td>\n",
       "      <td>True</td>\n",
       "      <td>...</td>\n",
       "      <td>1.0</td>\n",
       "      <td>118.0</td>\n",
       "      <td>480</td>\n",
       "      <td>84285.714286</td>\n",
       "      <td>0.677143</td>\n",
       "      <td>0.114286</td>\n",
       "      <td>1</td>\n",
       "      <td>1</td>\n",
       "      <td>2017</td>\n",
       "      <td>первый</td>\n",
       "    </tr>\n",
       "    <tr>\n",
       "      <th>305</th>\n",
       "      <td>12</td>\n",
       "      <td>6283000</td>\n",
       "      <td>70.8</td>\n",
       "      <td>2017-10-05</td>\n",
       "      <td>3</td>\n",
       "      <td>2.60</td>\n",
       "      <td>5.0</td>\n",
       "      <td>50.90</td>\n",
       "      <td>5</td>\n",
       "      <td>True</td>\n",
       "      <td>...</td>\n",
       "      <td>0.0</td>\n",
       "      <td>NaN</td>\n",
       "      <td>61</td>\n",
       "      <td>88742.937853</td>\n",
       "      <td>0.718927</td>\n",
       "      <td>0.115819</td>\n",
       "      <td>3</td>\n",
       "      <td>10</td>\n",
       "      <td>2017</td>\n",
       "      <td>последний</td>\n",
       "    </tr>\n",
       "    <tr>\n",
       "      <th>315</th>\n",
       "      <td>8</td>\n",
       "      <td>13900000</td>\n",
       "      <td>108.0</td>\n",
       "      <td>2018-09-29</td>\n",
       "      <td>4</td>\n",
       "      <td>2.60</td>\n",
       "      <td>6.0</td>\n",
       "      <td>76.90</td>\n",
       "      <td>2</td>\n",
       "      <td>False</td>\n",
       "      <td>...</td>\n",
       "      <td>0.0</td>\n",
       "      <td>NaN</td>\n",
       "      <td>156</td>\n",
       "      <td>128703.703704</td>\n",
       "      <td>0.712037</td>\n",
       "      <td>0.103704</td>\n",
       "      <td>5</td>\n",
       "      <td>9</td>\n",
       "      <td>2018</td>\n",
       "      <td>другой</td>\n",
       "    </tr>\n",
       "    <tr>\n",
       "      <th>316</th>\n",
       "      <td>11</td>\n",
       "      <td>5650000</td>\n",
       "      <td>46.3</td>\n",
       "      <td>2017-03-13</td>\n",
       "      <td>2</td>\n",
       "      <td>2.60</td>\n",
       "      <td>6.0</td>\n",
       "      <td>28.80</td>\n",
       "      <td>2</td>\n",
       "      <td>True</td>\n",
       "      <td>...</td>\n",
       "      <td>0.0</td>\n",
       "      <td>NaN</td>\n",
       "      <td>89</td>\n",
       "      <td>122030.237581</td>\n",
       "      <td>0.622030</td>\n",
       "      <td>0.194384</td>\n",
       "      <td>0</td>\n",
       "      <td>3</td>\n",
       "      <td>2017</td>\n",
       "      <td>другой</td>\n",
       "    </tr>\n",
       "    <tr>\n",
       "      <th>318</th>\n",
       "      <td>12</td>\n",
       "      <td>9990000</td>\n",
       "      <td>67.0</td>\n",
       "      <td>2017-07-10</td>\n",
       "      <td>1</td>\n",
       "      <td>2.84</td>\n",
       "      <td>9.0</td>\n",
       "      <td>37.00</td>\n",
       "      <td>7</td>\n",
       "      <td>True</td>\n",
       "      <td>...</td>\n",
       "      <td>1.0</td>\n",
       "      <td>713.0</td>\n",
       "      <td>50</td>\n",
       "      <td>149104.477612</td>\n",
       "      <td>0.552239</td>\n",
       "      <td>0.253731</td>\n",
       "      <td>0</td>\n",
       "      <td>7</td>\n",
       "      <td>2017</td>\n",
       "      <td>другой</td>\n",
       "    </tr>\n",
       "  </tbody>\n",
       "</table>\n",
       "<p>30 rows × 29 columns</p>\n",
       "</div>"
      ],
      "text/plain": [
       "     total_images  last_price  total_area first_day_exposition  rooms  \\\n",
       "24              8     6500000        97.2           2015-10-31      2   \n",
       "35              6    15500000       149.0           2017-06-26      5   \n",
       "61             18     7990000        74.0           2017-08-24      2   \n",
       "63              2    20000000       118.0           2018-09-11      3   \n",
       "99             32     9600000        90.0           2017-09-26      4   \n",
       "121            20    33000000       180.0           2017-02-17      3   \n",
       "136            16     6500000        51.8           2018-08-01      2   \n",
       "137            11    13310800        85.1           2018-01-01      2   \n",
       "138             8     4800000        40.0           2017-11-18      2   \n",
       "141             8     6500000        32.6           2019-02-27      1   \n",
       "147            10    27700000       179.6           2017-07-06      5   \n",
       "154             1     8200000        80.0           2018-11-06      3   \n",
       "155             8    96000000       317.0           2017-07-07      4   \n",
       "159            14     7050000        66.0           2017-09-04      3   \n",
       "179             5    14800000       108.7           2019-04-11      3   \n",
       "181             2     7900000        71.8           2017-08-23      3   \n",
       "201             5    10880000       123.1           2015-11-12      6   \n",
       "207            11     9000000        72.6           2018-09-08      2   \n",
       "213            11     8700000       111.4           2016-10-10      4   \n",
       "219            12     7700000        58.7           2017-12-12      1   \n",
       "226            17     7950000        86.4           2019-04-24      4   \n",
       "239            16    22000000       119.0           2017-02-16      3   \n",
       "262            14    37500000       158.0           2019-01-24      4   \n",
       "276             5    23900000       108.4           2018-11-15      3   \n",
       "282            17    37000000       115.0           2018-11-15      2   \n",
       "291            10     5900000        70.0           2017-01-24      3   \n",
       "305            12     6283000        70.8           2017-10-05      3   \n",
       "315             8    13900000       108.0           2018-09-29      4   \n",
       "316            11     5650000        46.3           2017-03-13      2   \n",
       "318            12     9990000        67.0           2017-07-10      1   \n",
       "\n",
       "     ceiling_height  floors_total  living_area  floor  is_apartment  ...  \\\n",
       "24             2.60           3.0        46.50      1          True  ...   \n",
       "35             2.60           5.0       104.00      4          True  ...   \n",
       "61             2.60           4.0        43.00      4          True  ...   \n",
       "63             3.00           9.0        68.00      7          True  ...   \n",
       "99             2.60           5.0        67.00      2          True  ...   \n",
       "121            2.90           9.0        86.00      8         False  ...   \n",
       "136            3.45           6.0        25.60      2          True  ...   \n",
       "137            2.70          10.0        31.52      5          True  ...   \n",
       "138            2.60           3.0        29.00      2          True  ...   \n",
       "141            2.60           5.0        18.50      5          True  ...   \n",
       "147            2.85          25.0        97.20     25          True  ...   \n",
       "154            4.15           3.0        44.20      2          True  ...   \n",
       "155            3.50           3.0       183.00      3          True  ...   \n",
       "159            3.00           4.0        37.80      4         False  ...   \n",
       "179            4.00           5.0        72.40      5          True  ...   \n",
       "181            3.00           5.0        38.70      1          True  ...   \n",
       "201            3.20           5.0        89.00      2          True  ...   \n",
       "207            2.90           5.0        43.20      4          True  ...   \n",
       "213            3.10           4.0        73.20      2          True  ...   \n",
       "219            2.60           7.0        17.00      3          True  ...   \n",
       "226            2.60           3.0        52.70      1          True  ...   \n",
       "239            3.50           5.0        56.00      3         False  ...   \n",
       "262            2.60          12.0        88.00      4          True  ...   \n",
       "276            3.06           7.0          NaN      6          True  ...   \n",
       "282            2.60           5.0        65.00      2          True  ...   \n",
       "291            2.51           5.0        47.40      1          True  ...   \n",
       "305            2.60           5.0        50.90      5          True  ...   \n",
       "315            2.60           6.0        76.90      2         False  ...   \n",
       "316            2.60           6.0        28.80      2          True  ...   \n",
       "318            2.84           9.0        37.00      7          True  ...   \n",
       "\n",
       "     ponds_around3000  ponds_nearest  days_exposition  price_for_meter  \\\n",
       "24                3.0          124.0              265     66872.427984   \n",
       "35                1.0          779.0              644    104026.845638   \n",
       "61                0.0            NaN              609    107972.972973   \n",
       "63                1.0          779.0               37    169491.525424   \n",
       "99                0.0            NaN              104    106666.666667   \n",
       "121               0.0            NaN              144    183333.333333   \n",
       "136               1.0          812.0              163    125482.625483   \n",
       "137               3.0          133.0              340    156413.631022   \n",
       "138               2.0          729.0               80    120000.000000   \n",
       "141               0.0            NaN               74    199386.503067   \n",
       "147               1.0          806.0               75    154231.625835   \n",
       "154               1.0          838.0               38    102500.000000   \n",
       "155               3.0          366.0               62    302839.116719   \n",
       "159               1.0         1013.0               98    106818.181818   \n",
       "179               0.0            NaN               74    136154.553818   \n",
       "181               1.0          585.0               74    110027.855153   \n",
       "201               0.0            NaN              992     88383.428107   \n",
       "207               3.0          485.0               74    123966.942149   \n",
       "213               3.0           55.0              791     78096.947935   \n",
       "219               0.0            NaN              136    131175.468484   \n",
       "226               0.0            NaN               74     92013.888889   \n",
       "239               1.0           86.0               77    184873.949580   \n",
       "262               2.0          840.0               74    237341.772152   \n",
       "276               1.0          678.0               96    220479.704797   \n",
       "282               2.0          663.0              158    321739.130435   \n",
       "291               1.0          118.0              480     84285.714286   \n",
       "305               0.0            NaN               61     88742.937853   \n",
       "315               0.0            NaN              156    128703.703704   \n",
       "316               0.0            NaN               89    122030.237581   \n",
       "318               1.0          713.0               50    149104.477612   \n",
       "\n",
       "    area_ratio  kitchen_ratio  weekday_exposition  month_exposition  \\\n",
       "24    0.478395       0.201646                   5                10   \n",
       "35    0.697987       0.114094                   0                 6   \n",
       "61    0.581081       0.270270                   3                 8   \n",
       "63    0.576271       0.135593                   1                 9   \n",
       "99    0.744444       0.088889                   1                 9   \n",
       "121   0.477778       0.133333                   4                 2   \n",
       "136   0.494208       0.140927                   2                 8   \n",
       "137   0.370388       0.315511                   0                 1   \n",
       "138   0.725000       0.150000                   5                11   \n",
       "141   0.567485       0.168712                   2                 2   \n",
       "147   0.541203       0.188196                   3                 7   \n",
       "154   0.552500       0.152500                   1                11   \n",
       "155   0.577287            NaN                   4                 7   \n",
       "159   0.572727       0.166667                   0                 9   \n",
       "179   0.666053       0.073597                   3                 4   \n",
       "181   0.538997       0.167131                   2                 8   \n",
       "201   0.722989       0.089358                   3                11   \n",
       "207   0.595041       0.157025                   5                 9   \n",
       "213   0.657092       0.126571                   0                10   \n",
       "219   0.289608       0.267462                   1                12   \n",
       "226   0.609954       0.146991                   2                 4   \n",
       "239   0.470588       0.294118                   3                 2   \n",
       "262   0.556962       0.253165                   3                 1   \n",
       "276        NaN            NaN                   3                11   \n",
       "282   0.565217       0.121739                   3                11   \n",
       "291   0.677143       0.114286                   1                 1   \n",
       "305   0.718927       0.115819                   3                10   \n",
       "315   0.712037       0.103704                   5                 9   \n",
       "316   0.622030       0.194384                   0                 3   \n",
       "318   0.552239       0.253731                   0                 7   \n",
       "\n",
       "     year_exposition  floor_new  \n",
       "24              2015     первый  \n",
       "35              2017     другой  \n",
       "61              2017  последний  \n",
       "63              2018     другой  \n",
       "99              2017     другой  \n",
       "121             2017     другой  \n",
       "136             2018     другой  \n",
       "137             2018     другой  \n",
       "138             2017     другой  \n",
       "141             2019  последний  \n",
       "147             2017  последний  \n",
       "154             2018     другой  \n",
       "155             2017  последний  \n",
       "159             2017  последний  \n",
       "179             2019  последний  \n",
       "181             2017     первый  \n",
       "201             2015     другой  \n",
       "207             2018     другой  \n",
       "213             2016     другой  \n",
       "219             2017     другой  \n",
       "226             2019     первый  \n",
       "239             2017     другой  \n",
       "262             2019     другой  \n",
       "276             2018     другой  \n",
       "282             2018     другой  \n",
       "291             2017     первый  \n",
       "305             2017  последний  \n",
       "315             2018     другой  \n",
       "316             2017     другой  \n",
       "318             2017     другой  \n",
       "\n",
       "[30 rows x 29 columns]"
      ]
     },
     "execution_count": 52,
     "metadata": {},
     "output_type": "execute_result"
    }
   ],
   "source": [
    "data_center_SP = data_center.query('cityCenters_nearest <= 5.0')\n",
    "data_center_SP.head(30)"
   ]
  },
  {
   "cell_type": "markdown",
   "metadata": {},
   "source": [
    "Логично, что их чётко меньше. но пик приходится в обоих случаях почти на одну и ту же величину по площади. Но всё же можно заметить, что в центре преобладают квартиры с бОльшей площадью: около 60-70 квадратных метров."
   ]
  },
  {
   "cell_type": "code",
   "execution_count": 53,
   "metadata": {},
   "outputs": [
    {
     "data": {
      "text/plain": [
       "<AxesSubplot:ylabel='Frequency'>"
      ]
     },
     "execution_count": 53,
     "metadata": {},
     "output_type": "execute_result"
    },
    {
     "data": {
      "image/png": "[encoded data removed]",
      "text/plain": [
       "<Figure size 432x288 with 1 Axes>"
      ]
     },
     "metadata": {
      "needs_background": "light"
     },
     "output_type": "display_data"
    }
   ],
   "source": [
    "ax = data_center.plot(\n",
    "    kind='hist',\n",
    "    y='total_area',\n",
    "    histtype='step',\n",
    "    range=(0, 300),\n",
    "    bins=25,\n",
    "    linewidth=5,\n",
    "    alpha=0.7,\n",
    "    label='all_city',\n",
    ")\n",
    "data_center_SP.plot(\n",
    "    kind='hist',\n",
    "    y='total_area',\n",
    "    histtype='step',\n",
    "    range=(0, 300),\n",
    "    bins=25,\n",
    "    linewidth=5,\n",
    "    alpha=0.7,\n",
    "    label='center_city',\n",
    "    ax=ax,\n",
    "    grid=True,\n",
    "    legend=True\n",
    ") \n"
   ]
  },
  {
   "cell_type": "markdown",
   "metadata": {},
   "source": [
    "Также обращаем внимание, что средняя цена квартир в центре выше, чем по всему городу."
   ]
  },
  {
   "cell_type": "code",
   "execution_count": 54,
   "metadata": {},
   "outputs": [
    {
     "data": {
      "text/plain": [
       "<AxesSubplot:ylabel='Frequency'>"
      ]
     },
     "execution_count": 54,
     "metadata": {},
     "output_type": "execute_result"
    },
    {
     "data": {
      "image/png": "[encoded data removed]",
      "text/plain": [
       "<Figure size 432x288 with 1 Axes>"
      ]
     },
     "metadata": {
      "needs_background": "light"
     },
     "output_type": "display_data"
    }
   ],
   "source": [
    "ax = data_center.plot(\n",
    "    kind='hist',\n",
    "    y='last_price',\n",
    "    histtype='step',\n",
    "    range=(0, 40000000),\n",
    "    bins=25,\n",
    "    linewidth=5,\n",
    "    alpha=0.7,\n",
    "    label='all_city',\n",
    ")\n",
    "data_center_SP.plot(\n",
    "    kind='hist',\n",
    "    y='last_price',\n",
    "    histtype='step',\n",
    "    range=(0, 40000000),\n",
    "    bins=25,\n",
    "    linewidth=5,\n",
    "    alpha=0.7,\n",
    "    label='center_city',\n",
    "    ax=ax,\n",
    "    grid=True,\n",
    "    legend=True,\n",
    ") \n",
    "\n"
   ]
  },
  {
   "cell_type": "markdown",
   "metadata": {},
   "source": [
    "В центре, в отличие от остального города, немного преобладают квартиры с 3 комнатами."
   ]
  },
  {
   "cell_type": "code",
   "execution_count": 55,
   "metadata": {},
   "outputs": [
    {
     "data": {
      "text/plain": [
       "<AxesSubplot:ylabel='Frequency'>"
      ]
     },
     "execution_count": 55,
     "metadata": {},
     "output_type": "execute_result"
    },
    {
     "data": {
      "image/png": "[encoded data removed]",
      "text/plain": [
       "<Figure size 432x288 with 1 Axes>"
      ]
     },
     "metadata": {
      "needs_background": "light"
     },
     "output_type": "display_data"
    }
   ],
   "source": [
    "ax = data_center.plot(\n",
    "    kind='hist',\n",
    "    y='rooms',\n",
    "    histtype='step',\n",
    "    range=(0, 8),\n",
    "    bins=25,\n",
    "    linewidth=5,\n",
    "    alpha=0.7,\n",
    "    label='all_city',\n",
    ")\n",
    "data_center_SP.plot(\n",
    "    kind='hist',\n",
    "    y='rooms',\n",
    "    histtype='step',\n",
    "    range=(0, 8),\n",
    "    bins=25,\n",
    "    linewidth=5,\n",
    "    alpha=0.7,\n",
    "    label='center_city',\n",
    "    ax=ax,\n",
    "    grid=True,\n",
    "    legend=True,\n",
    ") \n",
    "\n"
   ]
  },
  {
   "cell_type": "markdown",
   "metadata": {},
   "source": [
    "Потолки в центре города также сравнительно выше. Пик приходится на 3 и более метра, когда по всему городу эта величина - 2,5-3."
   ]
  },
  {
   "cell_type": "code",
   "execution_count": 56,
   "metadata": {},
   "outputs": [
    {
     "data": {
      "text/plain": [
       "<AxesSubplot:ylabel='Frequency'>"
      ]
     },
     "execution_count": 56,
     "metadata": {},
     "output_type": "execute_result"
    },
    {
     "data": {
      "image/png": "[encoded data removed]",
      "text/plain": [
       "<Figure size 432x288 with 1 Axes>"
      ]
     },
     "metadata": {
      "needs_background": "light"
     },
     "output_type": "display_data"
    }
   ],
   "source": [
    "ax = data_center.plot(\n",
    "    kind='hist',\n",
    "    y='ceiling_height',\n",
    "    histtype='step',\n",
    "    range=(0, 8),\n",
    "    bins=25,\n",
    "    linewidth=5,\n",
    "    alpha=0.7,\n",
    "    label='all_city',\n",
    ")\n",
    "data_center_SP.plot(\n",
    "    kind='hist',\n",
    "    y='ceiling_height',\n",
    "    histtype='step',\n",
    "    range=(0, 8),\n",
    "    bins=25,\n",
    "    linewidth=5,\n",
    "    alpha=0.7,\n",
    "    label='center_city',\n",
    "    ax=ax,\n",
    "    grid=True,\n",
    "    legend=True,\n",
    ") \n",
    "\n",
    "\n"
   ]
  },
  {
   "cell_type": "markdown",
   "metadata": {},
   "source": [
    "Cравниваем коэффициенты корреляции Пирсона между ценой и числом комнат по всему городу и в центре. Разница почти отсутствует. Но всё же коэффициент в центре чуть ниже, что может быть обусловлено повышенными ценами на жилую площадь в центре города."
   ]
  },
  {
   "cell_type": "code",
   "execution_count": 57,
   "metadata": {},
   "outputs": [
    {
     "data": {
      "text/plain": [
       "0.37337833583949553"
      ]
     },
     "execution_count": 57,
     "metadata": {},
     "output_type": "execute_result"
    }
   ],
   "source": [
    "data_center['last_price'].corr(data_center['rooms'])"
   ]
  },
  {
   "cell_type": "code",
   "execution_count": 58,
   "metadata": {},
   "outputs": [
    {
     "data": {
      "text/plain": [
       "0.2822030917172726"
      ]
     },
     "execution_count": 58,
     "metadata": {},
     "output_type": "execute_result"
    }
   ],
   "source": [
    "data_center_SP['last_price'].corr(data_center_SP['rooms'])"
   ]
  },
  {
   "cell_type": "markdown",
   "metadata": {},
   "source": [
    "Cравниваем коэффициенты корреляции Пирсона между ценой и этажом по всему городу и в центре.\n",
    "Коэффициент чётко выше для квартир в центре. Причина та же - цены на квартиры в центре выше."
   ]
  },
  {
   "cell_type": "code",
   "execution_count": 59,
   "metadata": {},
   "outputs": [
    {
     "data": {
      "text/plain": [
       "-0.0008379427208810868"
      ]
     },
     "execution_count": 59,
     "metadata": {},
     "output_type": "execute_result"
    }
   ],
   "source": [
    "data_center['last_price'].corr(data_center['floor'])"
   ]
  },
  {
   "cell_type": "code",
   "execution_count": 60,
   "metadata": {},
   "outputs": [
    {
     "data": {
      "text/plain": [
       "0.12707787777152338"
      ]
     },
     "execution_count": 60,
     "metadata": {},
     "output_type": "execute_result"
    }
   ],
   "source": [
    "data_center_SP['last_price'].corr(data_center_SP['floor'])"
   ]
  },
  {
   "cell_type": "markdown",
   "metadata": {},
   "source": [
    "Cравниваем коэффициенты корреляции Пирсона между ценой и расстоянием от центра.\n",
    "Отрицательные коэффициенты демонстрируют, что, чем ближе к центру, тем квартиры дороже."
   ]
  },
  {
   "cell_type": "code",
   "execution_count": 61,
   "metadata": {},
   "outputs": [
    {
     "data": {
      "text/plain": [
       "-0.259398760793082"
      ]
     },
     "execution_count": 61,
     "metadata": {},
     "output_type": "execute_result"
    }
   ],
   "source": [
    "data_center['last_price'].corr(data_center['cityCenters_nearest'])"
   ]
  },
  {
   "cell_type": "code",
   "execution_count": 62,
   "metadata": {},
   "outputs": [
    {
     "data": {
      "text/plain": [
       "-0.07281893542515713"
      ]
     },
     "execution_count": 62,
     "metadata": {},
     "output_type": "execute_result"
    }
   ],
   "source": [
    "data_center_SP['last_price'].corr(data_center_SP['cityCenters_nearest'])"
   ]
  },
  {
   "cell_type": "markdown",
   "metadata": {},
   "source": [
    "Cравниваем коэффициенты корреляции Пирсона между ценой и годом размещения публикации. Коэффициенты близятся к нулю, и можно предположить, что дата публикации объявления несильно повлияла на цену. Но всё же в центре города наблюдается меньшая зависимость: \n"
   ]
  },
  {
   "cell_type": "code",
   "execution_count": 63,
   "metadata": {},
   "outputs": [
    {
     "data": {
      "text/plain": [
       "-0.04459056964885362"
      ]
     },
     "execution_count": 63,
     "metadata": {},
     "output_type": "execute_result"
    }
   ],
   "source": [
    "data_center['last_price'].corr(data_center['year_exposition'])"
   ]
  },
  {
   "cell_type": "code",
   "execution_count": 64,
   "metadata": {},
   "outputs": [
    {
     "data": {
      "text/plain": [
       "-0.01751917715417792"
      ]
     },
     "execution_count": 64,
     "metadata": {},
     "output_type": "execute_result"
    }
   ],
   "source": [
    "data_center_SP['last_price'].corr(data_center_SP['year_exposition'])"
   ]
  },
  {
   "cell_type": "markdown",
   "metadata": {},
   "source": [
    "Cравниваем зависимость цены от года размещения публикации. По всему городу наблюдается спад цен после 2014 года. "
   ]
  },
  {
   "cell_type": "code",
   "execution_count": 65,
   "metadata": {},
   "outputs": [
    {
     "data": {
      "text/html": [
       "<div>\n",
       "<style scoped>\n",
       "    .dataframe tbody tr th:only-of-type {\n",
       "        vertical-align: middle;\n",
       "    }\n",
       "\n",
       "    .dataframe tbody tr th {\n",
       "        vertical-align: top;\n",
       "    }\n",
       "\n",
       "    .dataframe thead th {\n",
       "        text-align: right;\n",
       "    }\n",
       "</style>\n",
       "<table border=\"1\" class=\"dataframe\">\n",
       "  <thead>\n",
       "    <tr style=\"text-align: right;\">\n",
       "      <th></th>\n",
       "      <th>last_price</th>\n",
       "    </tr>\n",
       "    <tr>\n",
       "      <th>year_exposition</th>\n",
       "      <th></th>\n",
       "    </tr>\n",
       "  </thead>\n",
       "  <tbody>\n",
       "    <tr>\n",
       "      <th>2014</th>\n",
       "      <td>10600000</td>\n",
       "    </tr>\n",
       "    <tr>\n",
       "      <th>2015</th>\n",
       "      <td>6200000</td>\n",
       "    </tr>\n",
       "    <tr>\n",
       "      <th>2016</th>\n",
       "      <td>5450000</td>\n",
       "    </tr>\n",
       "    <tr>\n",
       "      <th>2017</th>\n",
       "      <td>5300000</td>\n",
       "    </tr>\n",
       "    <tr>\n",
       "      <th>2018</th>\n",
       "      <td>5490000</td>\n",
       "    </tr>\n",
       "    <tr>\n",
       "      <th>2019</th>\n",
       "      <td>5900000</td>\n",
       "    </tr>\n",
       "  </tbody>\n",
       "</table>\n",
       "</div>"
      ],
      "text/plain": [
       "                 last_price\n",
       "year_exposition            \n",
       "2014               10600000\n",
       "2015                6200000\n",
       "2016                5450000\n",
       "2017                5300000\n",
       "2018                5490000\n",
       "2019                5900000"
      ]
     },
     "execution_count": 65,
     "metadata": {},
     "output_type": "execute_result"
    }
   ],
   "source": [
    "data_SP_new = data_center.pivot_table(index='year_exposition', values = 'last_price', aggfunc = 'median')\n",
    "data_SP_new"
   ]
  },
  {
   "cell_type": "markdown",
   "metadata": {},
   "source": [
    "В центре также пик цен приходится на 2014 год, а в последующие года ценовая отметка держится примерно на одном уровне."
   ]
  },
  {
   "cell_type": "code",
   "execution_count": 66,
   "metadata": {},
   "outputs": [
    {
     "data": {
      "text/html": [
       "<div>\n",
       "<style scoped>\n",
       "    .dataframe tbody tr th:only-of-type {\n",
       "        vertical-align: middle;\n",
       "    }\n",
       "\n",
       "    .dataframe tbody tr th {\n",
       "        vertical-align: top;\n",
       "    }\n",
       "\n",
       "    .dataframe thead th {\n",
       "        text-align: right;\n",
       "    }\n",
       "</style>\n",
       "<table border=\"1\" class=\"dataframe\">\n",
       "  <thead>\n",
       "    <tr style=\"text-align: right;\">\n",
       "      <th></th>\n",
       "      <th>last_price</th>\n",
       "    </tr>\n",
       "    <tr>\n",
       "      <th>year_exposition</th>\n",
       "      <th></th>\n",
       "    </tr>\n",
       "  </thead>\n",
       "  <tbody>\n",
       "    <tr>\n",
       "      <th>2014</th>\n",
       "      <td>18400000</td>\n",
       "    </tr>\n",
       "    <tr>\n",
       "      <th>2015</th>\n",
       "      <td>10500000</td>\n",
       "    </tr>\n",
       "    <tr>\n",
       "      <th>2016</th>\n",
       "      <td>9350000</td>\n",
       "    </tr>\n",
       "    <tr>\n",
       "      <th>2017</th>\n",
       "      <td>9150000</td>\n",
       "    </tr>\n",
       "    <tr>\n",
       "      <th>2018</th>\n",
       "      <td>9300000</td>\n",
       "    </tr>\n",
       "    <tr>\n",
       "      <th>2019</th>\n",
       "      <td>10450000</td>\n",
       "    </tr>\n",
       "  </tbody>\n",
       "</table>\n",
       "</div>"
      ],
      "text/plain": [
       "                 last_price\n",
       "year_exposition            \n",
       "2014               18400000\n",
       "2015               10500000\n",
       "2016                9350000\n",
       "2017                9150000\n",
       "2018                9300000\n",
       "2019               10450000"
      ]
     },
     "execution_count": 66,
     "metadata": {},
     "output_type": "execute_result"
    }
   ],
   "source": [
    "data_center_new = data_center_SP.pivot_table(index='year_exposition', values = 'last_price', aggfunc = 'median')\n",
    "data_center_new"
   ]
  },
  {
   "cell_type": "code",
   "execution_count": 67,
   "metadata": {},
   "outputs": [
    {
     "data": {
      "text/plain": [
       "<AxesSubplot:ylabel='Frequency'>"
      ]
     },
     "execution_count": 67,
     "metadata": {},
     "output_type": "execute_result"
    },
    {
     "data": {
      "image/png": "[encoded data removed]",
      "text/plain": [
       "<Figure size 432x288 with 1 Axes>"
      ]
     },
     "metadata": {
      "needs_background": "light"
     },
     "output_type": "display_data"
    }
   ],
   "source": [
    "ax = data_center_new.plot(\n",
    "    kind='hist',\n",
    "    y='last_price',\n",
    "    histtype='step',\n",
    "    range=(0, 50000000),\n",
    "    bins=25,\n",
    "    linewidth=5,\n",
    "    alpha=0.7,\n",
    "    label='all_city',\n",
    ")\n",
    "data_SP_new.plot(\n",
    "    kind='hist',\n",
    "    y='last_price',\n",
    "    histtype='step',\n",
    "    range=(0, 50000000),\n",
    "    bins=25,\n",
    "    linewidth=5,\n",
    "    alpha=0.7,\n",
    "    label='center_city',\n",
    "    ax=ax,\n",
    "    grid=True,\n",
    "    legend=True,\n",
    ") \n",
    "\n",
    "\n",
    "\n"
   ]
  },
  {
   "cell_type": "markdown",
   "metadata": {},
   "source": [
    "## Общий вывод"
   ]
  },
  {
   "cell_type": "markdown",
   "metadata": {},
   "source": [
    "1. Данные изучены. В предоставленных данных большое количество пропусков: часть из них могла быть утеряна при переносе из одного источника в другой, а часть могла просто отсутствовать.\n",
    "\n",
    "2. Изучены параметры квартир: площадь, цена, число комнат, высота потолков. Распределения данных близки к распределению Пуассона.\n",
    "\n",
    "3. Аномальные данные выявлены, по возможности исправлены.\n",
    "\n",
    "4. Изучено время продажи квартир. Распределение близко к распределению Пуассона. Аномальных пиков в гистограмме не выявлено. В основном квартиры продаются около 45-60 дней. Время продажи меньше 4 дней и больше 512 дней можно считать выбросами.\n",
    "\n",
    "5. Проанализированы факторы, влияющие на стоимость квартиры. Наибольшую корреляцию показали: общая площадь и  удалённость от центра города. Также выявлена зависимость цены от года размещения объявления. На это могли повлиять изменения на рынке недвижимости.\n",
    "\n",
    "6. Проанализирована стоимость квадратного метра в различных районах. Самым дорогим оказался Санкт-Петербург, а самым дешёвым - Выборг.\n",
    "\n",
    "7. Проанализирована зависимость цены за квадратный метр от расстояния до центра города в Санкт-Петербурге. Граница центрального района около 5 км.\n",
    "\n",
    "8. Рассмотрены факторы, влияющие на стоимость квартиры в Санкт-Петербурге и его центре. Квартиры чётко дороже в центральном районе. В остальном корреляции не сильно отличаются. "
   ]
  }
 ],
 "metadata": {
  "ExecuteTimeLog": [
   {
    "duration": 1040,
    "start_time": "2021-09-06T04:23:29.808Z"
   },
   {
    "duration": 76,
    "start_time": "2021-09-06T04:23:35.922Z"
   },
   {
    "duration": 88,
    "start_time": "2021-09-06T04:23:39.586Z"
   },
   {
    "duration": 78,
    "start_time": "2021-09-06T04:23:56.356Z"
   },
   {
    "duration": 76,
    "start_time": "2021-09-06T04:25:13.598Z"
   },
   {
    "duration": 81,
    "start_time": "2021-09-06T04:25:33.544Z"
   },
   {
    "duration": 78,
    "start_time": "2021-09-06T04:27:58.583Z"
   },
   {
    "duration": 11,
    "start_time": "2021-09-06T04:28:23.048Z"
   },
   {
    "duration": 75,
    "start_time": "2021-09-06T04:29:58.171Z"
   },
   {
    "duration": 76,
    "start_time": "2021-09-06T04:31:19.831Z"
   },
   {
    "duration": 13,
    "start_time": "2021-09-06T05:16:28.832Z"
   },
   {
    "duration": 80,
    "start_time": "2021-09-06T05:16:32.885Z"
   },
   {
    "duration": 77,
    "start_time": "2021-09-06T05:16:41.771Z"
   },
   {
    "duration": 79,
    "start_time": "2021-09-06T05:16:58.279Z"
   },
   {
    "duration": 119,
    "start_time": "2021-09-06T05:19:02.043Z"
   },
   {
    "duration": 82,
    "start_time": "2021-09-06T05:21:40.068Z"
   },
   {
    "duration": 12,
    "start_time": "2021-09-06T05:21:45.849Z"
   },
   {
    "duration": 142,
    "start_time": "2021-09-06T05:22:44.883Z"
   },
   {
    "duration": 117,
    "start_time": "2021-09-06T05:23:05.079Z"
   },
   {
    "duration": 14,
    "start_time": "2021-09-06T05:23:32.122Z"
   },
   {
    "duration": 149,
    "start_time": "2021-09-06T05:27:38.164Z"
   },
   {
    "duration": 134,
    "start_time": "2021-09-06T05:28:00.090Z"
   },
   {
    "duration": 16,
    "start_time": "2021-09-06T05:36:34.518Z"
   },
   {
    "duration": 153,
    "start_time": "2021-09-06T05:50:44.601Z"
   },
   {
    "duration": 156,
    "start_time": "2021-09-06T05:50:53.480Z"
   },
   {
    "duration": 13,
    "start_time": "2021-09-06T05:54:53.032Z"
   },
   {
    "duration": 13,
    "start_time": "2021-09-06T05:55:24.334Z"
   },
   {
    "duration": 12,
    "start_time": "2021-09-06T05:55:31.818Z"
   },
   {
    "duration": 8,
    "start_time": "2021-09-06T05:55:41.298Z"
   },
   {
    "duration": 7,
    "start_time": "2021-09-06T05:58:59.459Z"
   },
   {
    "duration": 31,
    "start_time": "2021-09-06T05:59:16.088Z"
   },
   {
    "duration": 19,
    "start_time": "2021-09-06T06:01:41.508Z"
   },
   {
    "duration": 30,
    "start_time": "2021-09-06T06:01:46.705Z"
   },
   {
    "duration": 46,
    "start_time": "2021-09-06T06:15:27.170Z"
   },
   {
    "duration": 45,
    "start_time": "2021-09-06T06:16:14.305Z"
   },
   {
    "duration": 38,
    "start_time": "2021-09-06T06:16:27.036Z"
   },
   {
    "duration": 10,
    "start_time": "2021-09-06T06:21:57.465Z"
   },
   {
    "duration": 365,
    "start_time": "2021-09-06T06:23:45.348Z"
   },
   {
    "duration": 315,
    "start_time": "2021-09-06T06:23:51.715Z"
   },
   {
    "duration": 12,
    "start_time": "2021-09-06T06:24:30.549Z"
   },
   {
    "duration": 15,
    "start_time": "2021-09-06T06:24:54.141Z"
   },
   {
    "duration": 297,
    "start_time": "2021-09-06T06:30:35.108Z"
   },
   {
    "duration": 51,
    "start_time": "2021-09-06T06:31:56.956Z"
   },
   {
    "duration": 6,
    "start_time": "2021-09-06T06:32:52.581Z"
   },
   {
    "duration": 11,
    "start_time": "2021-09-06T06:36:43.750Z"
   },
   {
    "duration": 53,
    "start_time": "2021-09-06T06:36:55.443Z"
   },
   {
    "duration": 12,
    "start_time": "2021-09-06T06:37:01.857Z"
   },
   {
    "duration": 11,
    "start_time": "2021-09-06T06:37:14.697Z"
   },
   {
    "duration": 21,
    "start_time": "2021-09-06T06:38:17.266Z"
   },
   {
    "duration": 329,
    "start_time": "2021-09-06T06:38:43.181Z"
   },
   {
    "duration": 12,
    "start_time": "2021-09-06T06:40:18.153Z"
   },
   {
    "duration": 10,
    "start_time": "2021-09-06T06:41:05.107Z"
   },
   {
    "duration": 11,
    "start_time": "2021-09-06T06:41:22.549Z"
   },
   {
    "duration": 11,
    "start_time": "2021-09-06T06:41:41.394Z"
   },
   {
    "duration": 267,
    "start_time": "2021-09-06T06:47:41.268Z"
   },
   {
    "duration": 13,
    "start_time": "2021-09-06T06:48:13.573Z"
   },
   {
    "duration": 11,
    "start_time": "2021-09-06T06:48:45.361Z"
   },
   {
    "duration": 97,
    "start_time": "2021-09-06T06:50:06.020Z"
   },
   {
    "duration": 10,
    "start_time": "2021-09-06T06:50:09.782Z"
   },
   {
    "duration": 256,
    "start_time": "2021-09-06T06:50:16.968Z"
   },
   {
    "duration": 11,
    "start_time": "2021-09-06T06:50:38.412Z"
   },
   {
    "duration": 10,
    "start_time": "2021-09-06T06:53:28.365Z"
   },
   {
    "duration": 47,
    "start_time": "2021-09-06T07:09:47.015Z"
   },
   {
    "duration": 11,
    "start_time": "2021-09-06T07:12:02.683Z"
   },
   {
    "duration": 13,
    "start_time": "2021-09-06T07:15:28.373Z"
   },
   {
    "duration": 10,
    "start_time": "2021-09-06T07:15:43.627Z"
   },
   {
    "duration": 9,
    "start_time": "2021-09-06T07:16:34.915Z"
   },
   {
    "duration": 11,
    "start_time": "2021-09-06T07:17:09.393Z"
   },
   {
    "duration": 17,
    "start_time": "2021-09-06T07:19:48.484Z"
   },
   {
    "duration": 16,
    "start_time": "2021-09-06T07:19:57.734Z"
   },
   {
    "duration": 12,
    "start_time": "2021-09-06T07:21:06.605Z"
   },
   {
    "duration": 161,
    "start_time": "2021-09-06T07:21:35.942Z"
   },
   {
    "duration": 14,
    "start_time": "2021-09-06T07:21:37.376Z"
   },
   {
    "duration": 30,
    "start_time": "2021-09-06T07:21:37.685Z"
   },
   {
    "duration": 38,
    "start_time": "2021-09-06T07:21:38.311Z"
   },
   {
    "duration": 52,
    "start_time": "2021-09-06T07:21:38.793Z"
   },
   {
    "duration": 6,
    "start_time": "2021-09-06T07:21:39.592Z"
   },
   {
    "duration": 13,
    "start_time": "2021-09-06T07:21:40.649Z"
   },
   {
    "duration": 12,
    "start_time": "2021-09-06T07:21:40.880Z"
   },
   {
    "duration": 16,
    "start_time": "2021-09-06T07:21:41.304Z"
   },
   {
    "duration": 11,
    "start_time": "2021-09-06T07:21:56.993Z"
   },
   {
    "duration": 10,
    "start_time": "2021-09-06T07:22:11.546Z"
   },
   {
    "duration": 80,
    "start_time": "2021-09-06T07:29:05.392Z"
   },
   {
    "duration": 10,
    "start_time": "2021-09-06T07:32:48.781Z"
   },
   {
    "duration": 41,
    "start_time": "2021-09-06T07:39:52.795Z"
   },
   {
    "duration": 11,
    "start_time": "2021-09-06T07:43:21.631Z"
   },
   {
    "duration": 441,
    "start_time": "2021-09-06T07:48:33.596Z"
   },
   {
    "duration": 431,
    "start_time": "2021-09-06T07:49:18.270Z"
   },
   {
    "duration": 46,
    "start_time": "2021-09-06T07:50:52.031Z"
   },
   {
    "duration": 9,
    "start_time": "2021-09-06T07:50:52.636Z"
   },
   {
    "duration": 38,
    "start_time": "2021-09-06T07:50:53.210Z"
   },
   {
    "duration": 52,
    "start_time": "2021-09-06T07:50:54.625Z"
   },
   {
    "duration": 48,
    "start_time": "2021-09-06T07:51:32.578Z"
   },
   {
    "duration": 103,
    "start_time": "2021-09-06T07:54:07.164Z"
   },
   {
    "duration": 47,
    "start_time": "2021-09-06T08:01:12.364Z"
   },
   {
    "duration": 38,
    "start_time": "2021-09-06T08:02:45.141Z"
   },
   {
    "duration": 5,
    "start_time": "2021-09-06T08:02:54.147Z"
   },
   {
    "duration": 8,
    "start_time": "2021-09-06T08:15:01.587Z"
   },
   {
    "duration": 11,
    "start_time": "2021-09-06T08:15:21.058Z"
   },
   {
    "duration": 9,
    "start_time": "2021-09-06T08:16:16.888Z"
   },
   {
    "duration": 595,
    "start_time": "2021-09-06T08:17:38.874Z"
   },
   {
    "duration": 636,
    "start_time": "2021-09-06T08:18:18.262Z"
   },
   {
    "duration": 104,
    "start_time": "2021-09-06T08:18:32.717Z"
   },
   {
    "duration": 12,
    "start_time": "2021-09-06T08:18:33.917Z"
   },
   {
    "duration": 31,
    "start_time": "2021-09-06T08:18:34.303Z"
   },
   {
    "duration": 36,
    "start_time": "2021-09-06T08:18:35.082Z"
   },
   {
    "duration": 68,
    "start_time": "2021-09-06T08:18:35.432Z"
   },
   {
    "duration": 8,
    "start_time": "2021-09-06T08:18:35.751Z"
   },
   {
    "duration": 11,
    "start_time": "2021-09-06T08:18:36.056Z"
   },
   {
    "duration": 11,
    "start_time": "2021-09-06T08:18:36.388Z"
   },
   {
    "duration": 49,
    "start_time": "2021-09-06T08:18:36.860Z"
   },
   {
    "duration": 9,
    "start_time": "2021-09-06T08:18:37.372Z"
   },
   {
    "duration": 45,
    "start_time": "2021-09-06T08:18:37.826Z"
   },
   {
    "duration": 51,
    "start_time": "2021-09-06T08:18:38.757Z"
   },
   {
    "duration": 3464,
    "start_time": "2021-09-06T08:21:48.125Z"
   },
   {
    "duration": 4832,
    "start_time": "2021-09-06T08:23:13.370Z"
   },
   {
    "duration": 4801,
    "start_time": "2021-09-06T08:23:53.064Z"
   },
   {
    "duration": 503,
    "start_time": "2021-09-06T08:24:38.569Z"
   },
   {
    "duration": 4100,
    "start_time": "2021-09-06T08:25:21.163Z"
   },
   {
    "duration": 50,
    "start_time": "2021-09-06T08:26:16.891Z"
   },
   {
    "duration": 86,
    "start_time": "2021-09-06T08:26:28.592Z"
   },
   {
    "duration": 5947,
    "start_time": "2021-09-06T08:29:47.120Z"
   },
   {
    "duration": 44,
    "start_time": "2021-09-06T08:40:17.802Z"
   },
   {
    "duration": 44,
    "start_time": "2021-09-06T08:41:23.060Z"
   },
   {
    "duration": 733,
    "start_time": "2021-09-06T08:50:13.869Z"
   },
   {
    "duration": 540,
    "start_time": "2021-09-06T08:52:06.830Z"
   },
   {
    "duration": 698,
    "start_time": "2021-09-06T08:53:05.779Z"
   },
   {
    "duration": 44,
    "start_time": "2021-09-06T08:54:43.769Z"
   },
   {
    "duration": 6032,
    "start_time": "2021-09-06T08:55:41.148Z"
   },
   {
    "duration": -110,
    "start_time": "2021-09-06T08:55:55.876Z"
   },
   {
    "duration": 8960,
    "start_time": "2021-09-06T08:56:00.630Z"
   },
   {
    "duration": 109,
    "start_time": "2021-09-06T08:56:09.675Z"
   },
   {
    "duration": 12,
    "start_time": "2021-09-06T08:56:10.899Z"
   },
   {
    "duration": 30,
    "start_time": "2021-09-06T08:56:11.274Z"
   },
   {
    "duration": 38,
    "start_time": "2021-09-06T08:56:11.859Z"
   },
   {
    "duration": 52,
    "start_time": "2021-09-06T08:56:12.095Z"
   },
   {
    "duration": 6,
    "start_time": "2021-09-06T08:56:12.342Z"
   },
   {
    "duration": 11,
    "start_time": "2021-09-06T08:56:12.589Z"
   },
   {
    "duration": 10,
    "start_time": "2021-09-06T08:56:12.825Z"
   },
   {
    "duration": 55,
    "start_time": "2021-09-06T08:56:13.070Z"
   },
   {
    "duration": 10,
    "start_time": "2021-09-06T08:56:13.355Z"
   },
   {
    "duration": 44,
    "start_time": "2021-09-06T08:56:13.742Z"
   },
   {
    "duration": 74,
    "start_time": "2021-09-06T08:56:14.544Z"
   },
   {
    "duration": 60,
    "start_time": "2021-09-06T08:56:15.672Z"
   },
   {
    "duration": 5496,
    "start_time": "2021-09-06T08:56:16.216Z"
   },
   {
    "duration": 5493,
    "start_time": "2021-09-06T08:57:37.872Z"
   },
   {
    "duration": 913,
    "start_time": "2021-09-06T08:59:46.998Z"
   },
   {
    "duration": 6440,
    "start_time": "2021-09-06T09:02:59.986Z"
   },
   {
    "duration": 47,
    "start_time": "2021-09-06T09:03:10.072Z"
   },
   {
    "duration": 3810,
    "start_time": "2021-09-06T09:07:16.194Z"
   },
   {
    "duration": 6146,
    "start_time": "2021-09-06T09:07:26.439Z"
   },
   {
    "duration": 984,
    "start_time": "2021-09-06T09:34:04.384Z"
   },
   {
    "duration": 50,
    "start_time": "2021-09-06T09:34:35.443Z"
   },
   {
    "duration": 49,
    "start_time": "2021-09-06T09:38:02.723Z"
   },
   {
    "duration": 254,
    "start_time": "2021-09-06T09:45:57.397Z"
   },
   {
    "duration": 4,
    "start_time": "2021-09-06T09:46:07.457Z"
   },
   {
    "duration": 720,
    "start_time": "2021-09-06T09:46:32.046Z"
   },
   {
    "duration": 33,
    "start_time": "2021-09-06T09:46:42.538Z"
   },
   {
    "duration": 275,
    "start_time": "2021-09-06T09:51:01.524Z"
   },
   {
    "duration": -166,
    "start_time": "2021-09-06T09:51:21.407Z"
   },
   {
    "duration": 10579,
    "start_time": "2021-09-06T09:51:50.397Z"
   },
   {
    "duration": 4571,
    "start_time": "2021-09-06T09:52:35.367Z"
   },
   {
    "duration": 14911,
    "start_time": "2021-09-06T09:54:17.755Z"
   },
   {
    "duration": 11480,
    "start_time": "2021-09-06T09:56:42.702Z"
   },
   {
    "duration": 993,
    "start_time": "2021-09-06T09:57:12.179Z"
   },
   {
    "duration": 923,
    "start_time": "2021-09-06T09:57:32.803Z"
   },
   {
    "duration": 326,
    "start_time": "2021-09-07T10:40:14.525Z"
   },
   {
    "duration": 873,
    "start_time": "2021-09-07T10:40:21.922Z"
   },
   {
    "duration": 19,
    "start_time": "2021-09-07T10:40:24.312Z"
   },
   {
    "duration": 73,
    "start_time": "2021-09-07T10:40:24.649Z"
   },
   {
    "duration": 36,
    "start_time": "2021-09-07T10:40:25.108Z"
   },
   {
    "duration": 52,
    "start_time": "2021-09-07T10:40:25.269Z"
   },
   {
    "duration": 7,
    "start_time": "2021-09-07T10:40:25.547Z"
   },
   {
    "duration": 11,
    "start_time": "2021-09-07T10:40:25.716Z"
   },
   {
    "duration": 12,
    "start_time": "2021-09-07T10:40:25.894Z"
   },
   {
    "duration": 48,
    "start_time": "2021-09-07T10:40:26.050Z"
   },
   {
    "duration": 8,
    "start_time": "2021-09-07T10:40:26.365Z"
   },
   {
    "duration": 39,
    "start_time": "2021-09-07T10:40:26.526Z"
   },
   {
    "duration": 51,
    "start_time": "2021-09-07T10:40:26.964Z"
   },
   {
    "duration": 50,
    "start_time": "2021-09-07T10:40:27.821Z"
   },
   {
    "duration": 56,
    "start_time": "2021-09-07T10:40:28.247Z"
   },
   {
    "duration": 830,
    "start_time": "2021-09-07T10:40:28.626Z"
   },
   {
    "duration": 438,
    "start_time": "2021-09-07T10:40:29.459Z"
   },
   {
    "duration": 242,
    "start_time": "2021-09-07T10:41:00.188Z"
   },
   {
    "duration": 246,
    "start_time": "2021-09-07T10:41:13.566Z"
   },
   {
    "duration": 299,
    "start_time": "2021-09-07T10:41:46.224Z"
   },
   {
    "duration": 309,
    "start_time": "2021-09-07T10:42:01.258Z"
   },
   {
    "duration": 302,
    "start_time": "2021-09-07T10:42:54.420Z"
   },
   {
    "duration": 273,
    "start_time": "2021-09-07T10:46:54.582Z"
   },
   {
    "duration": 313,
    "start_time": "2021-09-07T10:47:04.962Z"
   },
   {
    "duration": 301,
    "start_time": "2021-09-07T10:47:12.217Z"
   },
   {
    "duration": 294,
    "start_time": "2021-09-07T10:47:17.697Z"
   },
   {
    "duration": 319,
    "start_time": "2021-09-07T10:47:26.017Z"
   },
   {
    "duration": 359,
    "start_time": "2021-09-07T10:47:35.418Z"
   },
   {
    "duration": 339,
    "start_time": "2021-09-07T10:47:40.931Z"
   },
   {
    "duration": 349,
    "start_time": "2021-09-07T10:47:53.130Z"
   },
   {
    "duration": 349,
    "start_time": "2021-09-07T10:48:02.924Z"
   },
   {
    "duration": 314,
    "start_time": "2021-09-07T10:48:21.789Z"
   },
   {
    "duration": 323,
    "start_time": "2021-09-07T10:48:46.943Z"
   },
   {
    "duration": 262,
    "start_time": "2021-09-07T10:49:17.664Z"
   },
   {
    "duration": 652,
    "start_time": "2021-09-07T10:49:39.190Z"
   },
   {
    "duration": 325,
    "start_time": "2021-09-07T10:49:53.107Z"
   },
   {
    "duration": 292,
    "start_time": "2021-09-07T10:50:00.396Z"
   },
   {
    "duration": 316,
    "start_time": "2021-09-07T10:50:22.259Z"
   },
   {
    "duration": 350,
    "start_time": "2021-09-07T10:50:28.438Z"
   },
   {
    "duration": 287,
    "start_time": "2021-09-07T10:50:45.987Z"
   },
   {
    "duration": 294,
    "start_time": "2021-09-07T10:50:55.508Z"
   },
   {
    "duration": 258,
    "start_time": "2021-09-07T10:51:04.024Z"
   },
   {
    "duration": 340,
    "start_time": "2021-09-07T10:51:11.144Z"
   },
   {
    "duration": 290,
    "start_time": "2021-09-07T10:51:28.491Z"
   },
   {
    "duration": 315,
    "start_time": "2021-09-07T10:51:33.518Z"
   },
   {
    "duration": 288,
    "start_time": "2021-09-07T10:51:46.724Z"
   },
   {
    "duration": 338,
    "start_time": "2021-09-07T10:52:18.899Z"
   },
   {
    "duration": 324,
    "start_time": "2021-09-07T10:52:35.515Z"
   },
   {
    "duration": 330,
    "start_time": "2021-09-07T10:53:28.746Z"
   },
   {
    "duration": 334,
    "start_time": "2021-09-07T10:53:40.083Z"
   },
   {
    "duration": 402,
    "start_time": "2021-09-07T10:53:47.224Z"
   },
   {
    "duration": 316,
    "start_time": "2021-09-07T10:53:57.890Z"
   },
   {
    "duration": 303,
    "start_time": "2021-09-07T10:54:04.492Z"
   },
   {
    "duration": 6,
    "start_time": "2021-09-07T11:03:34.084Z"
   },
   {
    "duration": 326,
    "start_time": "2021-09-07T11:03:49.683Z"
   },
   {
    "duration": 315,
    "start_time": "2021-09-07T11:04:06.741Z"
   },
   {
    "duration": 300,
    "start_time": "2021-09-07T11:04:16.504Z"
   },
   {
    "duration": 326,
    "start_time": "2021-09-07T11:04:27.357Z"
   },
   {
    "duration": 309,
    "start_time": "2021-09-07T11:04:34.171Z"
   },
   {
    "duration": 336,
    "start_time": "2021-09-07T11:04:41.348Z"
   },
   {
    "duration": 458,
    "start_time": "2021-09-07T11:04:53.489Z"
   },
   {
    "duration": 7,
    "start_time": "2021-09-07T11:05:17.740Z"
   },
   {
    "duration": 329,
    "start_time": "2021-09-07T11:05:24.819Z"
   },
   {
    "duration": 323,
    "start_time": "2021-09-07T11:05:44.265Z"
   },
   {
    "duration": 686,
    "start_time": "2021-09-07T11:06:47.544Z"
   },
   {
    "duration": 674,
    "start_time": "2021-09-07T11:06:54.587Z"
   },
   {
    "duration": 332,
    "start_time": "2021-09-07T11:07:09.346Z"
   },
   {
    "duration": 456,
    "start_time": "2021-09-07T11:07:20.942Z"
   },
   {
    "duration": 6,
    "start_time": "2021-09-07T11:10:30.561Z"
   },
   {
    "duration": 349,
    "start_time": "2021-09-07T11:10:40.645Z"
   },
   {
    "duration": 335,
    "start_time": "2021-09-07T11:10:56.750Z"
   },
   {
    "duration": 320,
    "start_time": "2021-09-07T11:11:03.671Z"
   },
   {
    "duration": 321,
    "start_time": "2021-09-07T11:13:12.440Z"
   },
   {
    "duration": 334,
    "start_time": "2021-09-07T11:13:20.490Z"
   },
   {
    "duration": 312,
    "start_time": "2021-09-07T11:31:50.931Z"
   },
   {
    "duration": 688,
    "start_time": "2021-09-07T11:32:17.866Z"
   },
   {
    "duration": 283,
    "start_time": "2021-09-07T11:32:25.215Z"
   },
   {
    "duration": 282,
    "start_time": "2021-09-07T11:32:57.871Z"
   },
   {
    "duration": 351,
    "start_time": "2021-09-07T11:33:12.582Z"
   },
   {
    "duration": 6,
    "start_time": "2021-09-07T11:35:32.519Z"
   },
   {
    "duration": 8,
    "start_time": "2021-09-07T11:35:49.207Z"
   },
   {
    "duration": 6,
    "start_time": "2021-09-07T11:36:12.241Z"
   },
   {
    "duration": 7,
    "start_time": "2021-09-07T11:36:59.429Z"
   },
   {
    "duration": 10,
    "start_time": "2021-09-07T11:38:32.154Z"
   },
   {
    "duration": 10,
    "start_time": "2021-09-07T11:38:51.714Z"
   },
   {
    "duration": 10,
    "start_time": "2021-09-07T11:39:08.429Z"
   },
   {
    "duration": 99,
    "start_time": "2021-09-07T11:40:56.909Z"
   },
   {
    "duration": 95,
    "start_time": "2021-09-07T11:41:02.073Z"
   },
   {
    "duration": 73,
    "start_time": "2021-09-07T11:41:13.092Z"
   },
   {
    "duration": 58,
    "start_time": "2021-09-07T11:41:51.852Z"
   },
   {
    "duration": 80,
    "start_time": "2021-09-07T11:42:07.811Z"
   },
   {
    "duration": 64,
    "start_time": "2021-09-07T11:42:24.541Z"
   },
   {
    "duration": 65,
    "start_time": "2021-09-07T11:42:37.099Z"
   },
   {
    "duration": 372,
    "start_time": "2021-09-07T11:44:56.172Z"
   },
   {
    "duration": 370,
    "start_time": "2021-09-07T11:45:05.171Z"
   },
   {
    "duration": 345,
    "start_time": "2021-09-07T11:45:47.646Z"
   },
   {
    "duration": 13,
    "start_time": "2021-09-07T11:52:15.047Z"
   },
   {
    "duration": 7143,
    "start_time": "2021-09-07T11:54:08.825Z"
   },
   {
    "duration": -221,
    "start_time": "2021-09-07T11:55:24.772Z"
   },
   {
    "duration": -263,
    "start_time": "2021-09-07T11:55:24.815Z"
   },
   {
    "duration": 664,
    "start_time": "2021-09-07T11:55:25.947Z"
   },
   {
    "duration": 286,
    "start_time": "2021-09-07T11:55:39.528Z"
   },
   {
    "duration": 288,
    "start_time": "2021-09-07T11:55:56.396Z"
   },
   {
    "duration": 101,
    "start_time": "2021-09-07T11:56:13.200Z"
   },
   {
    "duration": 12,
    "start_time": "2021-09-07T11:56:14.648Z"
   },
   {
    "duration": 30,
    "start_time": "2021-09-07T11:56:14.825Z"
   },
   {
    "duration": 37,
    "start_time": "2021-09-07T11:56:15.083Z"
   },
   {
    "duration": 51,
    "start_time": "2021-09-07T11:56:15.239Z"
   },
   {
    "duration": 6,
    "start_time": "2021-09-07T11:56:15.411Z"
   },
   {
    "duration": 12,
    "start_time": "2021-09-07T11:56:15.535Z"
   },
   {
    "duration": 10,
    "start_time": "2021-09-07T11:56:15.682Z"
   },
   {
    "duration": 47,
    "start_time": "2021-09-07T11:56:15.818Z"
   },
   {
    "duration": 8,
    "start_time": "2021-09-07T11:56:15.984Z"
   },
   {
    "duration": 40,
    "start_time": "2021-09-07T11:56:16.118Z"
   },
   {
    "duration": 49,
    "start_time": "2021-09-07T11:56:16.468Z"
   },
   {
    "duration": 45,
    "start_time": "2021-09-07T11:56:17.448Z"
   },
   {
    "duration": 57,
    "start_time": "2021-09-07T11:56:18.002Z"
   },
   {
    "duration": 1128,
    "start_time": "2021-09-07T11:56:18.348Z"
   },
   {
    "duration": 342,
    "start_time": "2021-09-07T11:56:19.479Z"
   },
   {
    "duration": 453,
    "start_time": "2021-09-07T11:56:19.854Z"
   },
   {
    "duration": 313,
    "start_time": "2021-09-07T11:56:20.660Z"
   },
   {
    "duration": 297,
    "start_time": "2021-09-07T11:56:21.672Z"
   },
   {
    "duration": 7,
    "start_time": "2021-09-07T11:56:23.494Z"
   },
   {
    "duration": 8,
    "start_time": "2021-09-07T11:56:23.828Z"
   },
   {
    "duration": 488,
    "start_time": "2021-09-07T11:56:25.546Z"
   },
   {
    "duration": 49,
    "start_time": "2021-09-07T11:56:27.242Z"
   },
   {
    "duration": 288,
    "start_time": "2021-09-07T11:56:54.905Z"
   },
   {
    "duration": 278,
    "start_time": "2021-09-07T12:01:03.455Z"
   },
   {
    "duration": 41,
    "start_time": "2021-09-07T12:02:17.131Z"
   },
   {
    "duration": 43,
    "start_time": "2021-09-07T12:02:26.193Z"
   },
   {
    "duration": 859,
    "start_time": "2021-09-07T12:15:38.135Z"
   },
   {
    "duration": 20,
    "start_time": "2021-09-07T12:15:41.168Z"
   },
   {
    "duration": 34,
    "start_time": "2021-09-07T12:15:41.315Z"
   },
   {
    "duration": 38,
    "start_time": "2021-09-07T12:15:41.634Z"
   },
   {
    "duration": 52,
    "start_time": "2021-09-07T12:15:41.776Z"
   },
   {
    "duration": 6,
    "start_time": "2021-09-07T12:15:41.924Z"
   },
   {
    "duration": 12,
    "start_time": "2021-09-07T12:15:42.035Z"
   },
   {
    "duration": 12,
    "start_time": "2021-09-07T12:15:42.158Z"
   },
   {
    "duration": 49,
    "start_time": "2021-09-07T12:15:42.305Z"
   },
   {
    "duration": 8,
    "start_time": "2021-09-07T12:15:42.470Z"
   },
   {
    "duration": 39,
    "start_time": "2021-09-07T12:15:42.603Z"
   },
   {
    "duration": 51,
    "start_time": "2021-09-07T12:15:43.043Z"
   },
   {
    "duration": 63,
    "start_time": "2021-09-07T12:15:43.386Z"
   },
   {
    "duration": 56,
    "start_time": "2021-09-07T12:15:43.599Z"
   },
   {
    "duration": 804,
    "start_time": "2021-09-07T12:15:43.709Z"
   },
   {
    "duration": 428,
    "start_time": "2021-09-07T12:15:44.515Z"
   },
   {
    "duration": 394,
    "start_time": "2021-09-07T12:15:44.946Z"
   },
   {
    "duration": 313,
    "start_time": "2021-09-07T12:15:46.060Z"
   },
   {
    "duration": 316,
    "start_time": "2021-09-07T12:15:46.438Z"
   },
   {
    "duration": 6,
    "start_time": "2021-09-07T12:15:46.781Z"
   },
   {
    "duration": 6,
    "start_time": "2021-09-07T12:15:46.974Z"
   },
   {
    "duration": 354,
    "start_time": "2021-09-07T12:15:47.200Z"
   },
   {
    "duration": 39,
    "start_time": "2021-09-07T12:15:48.339Z"
   },
   {
    "duration": 374,
    "start_time": "2021-09-07T12:17:59.267Z"
   },
   {
    "duration": 357,
    "start_time": "2021-09-07T12:18:33.600Z"
   },
   {
    "duration": 377,
    "start_time": "2021-09-07T12:27:27.561Z"
   },
   {
    "duration": 353,
    "start_time": "2021-09-07T12:27:37.519Z"
   },
   {
    "duration": 350,
    "start_time": "2021-09-07T12:28:30.728Z"
   },
   {
    "duration": 357,
    "start_time": "2021-09-07T12:30:42.328Z"
   },
   {
    "duration": 390,
    "start_time": "2021-09-07T12:32:44.633Z"
   },
   {
    "duration": 444,
    "start_time": "2021-09-07T12:32:56.800Z"
   },
   {
    "duration": 370,
    "start_time": "2021-09-07T12:33:07.258Z"
   },
   {
    "duration": 300,
    "start_time": "2021-09-07T12:33:13.136Z"
   },
   {
    "duration": 305,
    "start_time": "2021-09-07T12:33:19.022Z"
   },
   {
    "duration": 378,
    "start_time": "2021-09-07T12:34:52.754Z"
   },
   {
    "duration": 410,
    "start_time": "2021-09-07T12:35:01.044Z"
   },
   {
    "duration": 860,
    "start_time": "2021-09-08T10:22:11.612Z"
   },
   {
    "duration": 19,
    "start_time": "2021-09-08T10:22:13.840Z"
   },
   {
    "duration": 32,
    "start_time": "2021-09-08T10:22:14.017Z"
   },
   {
    "duration": 35,
    "start_time": "2021-09-08T10:22:14.389Z"
   },
   {
    "duration": 54,
    "start_time": "2021-09-08T10:22:14.555Z"
   },
   {
    "duration": 6,
    "start_time": "2021-09-08T10:22:14.767Z"
   },
   {
    "duration": 11,
    "start_time": "2021-09-08T10:22:14.883Z"
   },
   {
    "duration": 13,
    "start_time": "2021-09-08T10:22:15.051Z"
   },
   {
    "duration": 47,
    "start_time": "2021-09-08T10:22:15.216Z"
   },
   {
    "duration": 9,
    "start_time": "2021-09-08T10:22:15.429Z"
   },
   {
    "duration": 39,
    "start_time": "2021-09-08T10:22:15.598Z"
   },
   {
    "duration": 51,
    "start_time": "2021-09-08T10:22:15.997Z"
   },
   {
    "duration": 47,
    "start_time": "2021-09-08T10:22:16.373Z"
   },
   {
    "duration": 57,
    "start_time": "2021-09-08T10:22:16.555Z"
   },
   {
    "duration": 906,
    "start_time": "2021-09-08T10:22:16.765Z"
   },
   {
    "duration": 466,
    "start_time": "2021-09-08T10:22:18.244Z"
   },
   {
    "duration": 348,
    "start_time": "2021-09-08T10:22:21.022Z"
   },
   {
    "duration": 313,
    "start_time": "2021-09-08T10:22:23.087Z"
   },
   {
    "duration": 350,
    "start_time": "2021-09-08T10:22:25.535Z"
   },
   {
    "duration": 6,
    "start_time": "2021-09-08T10:22:27.305Z"
   },
   {
    "duration": 7,
    "start_time": "2021-09-08T10:22:28.296Z"
   },
   {
    "duration": 350,
    "start_time": "2021-09-08T10:22:37.771Z"
   },
   {
    "duration": 40,
    "start_time": "2021-09-08T10:22:38.606Z"
   },
   {
    "duration": 372,
    "start_time": "2021-09-08T10:22:42.024Z"
   },
   {
    "duration": 539,
    "start_time": "2021-09-08T10:37:06.741Z"
   },
   {
    "duration": 535,
    "start_time": "2021-09-08T10:37:17.483Z"
   },
   {
    "duration": 733,
    "start_time": "2021-09-08T10:37:44.710Z"
   },
   {
    "duration": 680,
    "start_time": "2021-09-08T10:38:00.733Z"
   },
   {
    "duration": 557,
    "start_time": "2021-09-08T10:38:16.850Z"
   },
   {
    "duration": 1076,
    "start_time": "2021-09-08T10:38:24.855Z"
   },
   {
    "duration": 127,
    "start_time": "2021-09-08T10:39:48.435Z"
   },
   {
    "duration": 114,
    "start_time": "2021-09-08T10:39:59.780Z"
   },
   {
    "duration": 129,
    "start_time": "2021-09-08T10:40:10.411Z"
   },
   {
    "duration": 114,
    "start_time": "2021-09-08T10:40:18.815Z"
   },
   {
    "duration": 658,
    "start_time": "2021-09-08T10:40:23.368Z"
   },
   {
    "duration": 495,
    "start_time": "2021-09-08T10:42:12.367Z"
   },
   {
    "duration": 9419,
    "start_time": "2021-09-08T10:43:12.018Z"
   },
   {
    "duration": 477,
    "start_time": "2021-09-08T10:43:36.271Z"
   },
   {
    "duration": 705,
    "start_time": "2021-09-08T10:45:02.583Z"
   },
   {
    "duration": 693,
    "start_time": "2021-09-08T10:45:37.678Z"
   },
   {
    "duration": 519,
    "start_time": "2021-09-08T10:46:07.263Z"
   },
   {
    "duration": 753,
    "start_time": "2021-09-08T10:46:30.640Z"
   },
   {
    "duration": 7,
    "start_time": "2021-09-08T10:47:05.332Z"
   },
   {
    "duration": 119,
    "start_time": "2021-09-08T10:51:44.362Z"
   },
   {
    "duration": 524,
    "start_time": "2021-09-08T10:51:50.197Z"
   },
   {
    "duration": 7,
    "start_time": "2021-09-08T10:57:38.766Z"
   },
   {
    "duration": 7,
    "start_time": "2021-09-08T10:58:00.238Z"
   },
   {
    "duration": 6,
    "start_time": "2021-09-08T10:58:09.155Z"
   },
   {
    "duration": 8,
    "start_time": "2021-09-08T10:58:30.524Z"
   },
   {
    "duration": 7,
    "start_time": "2021-09-08T11:01:30.653Z"
   },
   {
    "duration": 10,
    "start_time": "2021-09-08T11:05:57.897Z"
   },
   {
    "duration": 1337,
    "start_time": "2021-09-08T11:06:45.111Z"
   },
   {
    "duration": 742,
    "start_time": "2021-09-08T11:32:11.404Z"
   },
   {
    "duration": 724,
    "start_time": "2021-09-08T11:36:43.648Z"
   },
   {
    "duration": 1841,
    "start_time": "2021-09-08T11:37:04.109Z"
   },
   {
    "duration": 420,
    "start_time": "2021-09-08T11:37:15.755Z"
   },
   {
    "duration": 355,
    "start_time": "2021-09-08T11:37:22.571Z"
   },
   {
    "duration": 569,
    "start_time": "2021-09-08T11:37:52.012Z"
   },
   {
    "duration": 7,
    "start_time": "2021-09-08T11:38:38.366Z"
   },
   {
    "duration": 409,
    "start_time": "2021-09-08T11:39:54.293Z"
   },
   {
    "duration": 7,
    "start_time": "2021-09-08T11:40:15.995Z"
   },
   {
    "duration": 397,
    "start_time": "2021-09-08T11:40:43.424Z"
   },
   {
    "duration": 7,
    "start_time": "2021-09-08T11:41:06.533Z"
   },
   {
    "duration": 21,
    "start_time": "2021-09-08T11:46:20.398Z"
   },
   {
    "duration": 11,
    "start_time": "2021-09-08T11:52:31.525Z"
   },
   {
    "duration": 11,
    "start_time": "2021-09-08T11:52:48.526Z"
   },
   {
    "duration": 344,
    "start_time": "2021-09-08T11:56:31.688Z"
   },
   {
    "duration": 14,
    "start_time": "2021-09-08T11:56:46.863Z"
   },
   {
    "duration": 18,
    "start_time": "2021-09-08T11:57:00.893Z"
   },
   {
    "duration": 9,
    "start_time": "2021-09-08T11:58:05.160Z"
   },
   {
    "duration": 13,
    "start_time": "2021-09-08T11:58:16.195Z"
   },
   {
    "duration": 349,
    "start_time": "2021-09-08T11:59:25.293Z"
   },
   {
    "duration": 385,
    "start_time": "2021-09-08T12:00:07.903Z"
   },
   {
    "duration": 13,
    "start_time": "2021-09-08T12:01:14.366Z"
   },
   {
    "duration": 8,
    "start_time": "2021-09-08T12:01:22.256Z"
   },
   {
    "duration": 362,
    "start_time": "2021-09-08T12:03:30.605Z"
   },
   {
    "duration": 12,
    "start_time": "2021-09-08T12:03:48.892Z"
   },
   {
    "duration": 12,
    "start_time": "2021-09-08T12:04:00.828Z"
   },
   {
    "duration": 125,
    "start_time": "2021-09-08T12:11:22.411Z"
   },
   {
    "duration": 166,
    "start_time": "2021-09-08T12:12:07.201Z"
   },
   {
    "duration": 114,
    "start_time": "2021-09-08T12:12:52.493Z"
   },
   {
    "duration": 108,
    "start_time": "2021-09-08T12:13:13.842Z"
   },
   {
    "duration": 356,
    "start_time": "2021-09-08T12:13:33.361Z"
   },
   {
    "duration": 26,
    "start_time": "2021-09-08T12:14:38.935Z"
   },
   {
    "duration": 10,
    "start_time": "2021-09-08T12:15:30.189Z"
   },
   {
    "duration": 431,
    "start_time": "2021-09-08T12:15:50.200Z"
   },
   {
    "duration": 11,
    "start_time": "2021-09-08T12:16:03.515Z"
   },
   {
    "duration": 365,
    "start_time": "2021-09-08T12:16:11.292Z"
   },
   {
    "duration": 343,
    "start_time": "2021-09-08T12:16:40.963Z"
   },
   {
    "duration": 16,
    "start_time": "2021-09-08T12:17:02.626Z"
   },
   {
    "duration": 16,
    "start_time": "2021-09-08T12:17:07.025Z"
   },
   {
    "duration": 24,
    "start_time": "2021-09-08T12:17:16.482Z"
   },
   {
    "duration": 368,
    "start_time": "2021-09-08T12:17:42.424Z"
   },
   {
    "duration": -302,
    "start_time": "2021-09-08T12:18:17.640Z"
   },
   {
    "duration": 8701,
    "start_time": "2021-09-08T12:18:25.423Z"
   },
   {
    "duration": 22,
    "start_time": "2021-09-08T12:18:49.863Z"
   },
   {
    "duration": 16,
    "start_time": "2021-09-08T12:19:09.379Z"
   },
   {
    "duration": 34,
    "start_time": "2021-09-08T12:19:27.104Z"
   },
   {
    "duration": 12,
    "start_time": "2021-09-08T12:19:30.518Z"
   },
   {
    "duration": 13,
    "start_time": "2021-09-08T12:20:16.475Z"
   },
   {
    "duration": 13,
    "start_time": "2021-09-08T12:20:25.611Z"
   },
   {
    "duration": 244,
    "start_time": "2021-09-08T12:20:57.401Z"
   },
   {
    "duration": 339,
    "start_time": "2021-09-08T12:21:29.597Z"
   },
   {
    "duration": 12,
    "start_time": "2021-09-08T12:21:46.137Z"
   },
   {
    "duration": 14,
    "start_time": "2021-09-08T12:22:00.890Z"
   },
   {
    "duration": 13,
    "start_time": "2021-09-08T12:22:43.240Z"
   },
   {
    "duration": 13,
    "start_time": "2021-09-08T12:24:43.460Z"
   },
   {
    "duration": 349,
    "start_time": "2021-09-08T12:28:19.092Z"
   },
   {
    "duration": 13,
    "start_time": "2021-09-08T12:28:28.583Z"
   },
   {
    "duration": 66,
    "start_time": "2021-09-08T12:39:35.040Z"
   },
   {
    "duration": 61,
    "start_time": "2021-09-08T12:42:58.381Z"
   },
   {
    "duration": 17,
    "start_time": "2021-09-08T12:43:16.285Z"
   },
   {
    "duration": 17,
    "start_time": "2021-09-08T12:43:33.952Z"
   },
   {
    "duration": 16,
    "start_time": "2021-09-08T12:43:43.622Z"
   },
   {
    "duration": 379,
    "start_time": "2021-09-08T12:45:06.101Z"
   },
   {
    "duration": 17,
    "start_time": "2021-09-08T12:45:42.655Z"
   },
   {
    "duration": 16,
    "start_time": "2021-09-08T12:45:49.047Z"
   },
   {
    "duration": 17,
    "start_time": "2021-09-08T12:50:29.689Z"
   },
   {
    "duration": 417,
    "start_time": "2021-09-08T12:55:39.521Z"
   },
   {
    "duration": 23,
    "start_time": "2021-09-08T12:55:53.567Z"
   },
   {
    "duration": 10792,
    "start_time": "2021-09-08T12:57:02.164Z"
   },
   {
    "duration": 316,
    "start_time": "2021-09-08T12:58:39.725Z"
   },
   {
    "duration": 326,
    "start_time": "2021-09-08T12:59:45.317Z"
   },
   {
    "duration": 254,
    "start_time": "2021-09-08T13:01:37.112Z"
   },
   {
    "duration": 129,
    "start_time": "2021-09-08T13:03:04.659Z"
   },
   {
    "duration": 337,
    "start_time": "2021-09-08T13:03:12.291Z"
   },
   {
    "duration": 294,
    "start_time": "2021-09-08T13:03:27.704Z"
   },
   {
    "duration": 321,
    "start_time": "2021-09-08T13:04:05.177Z"
   },
   {
    "duration": 314,
    "start_time": "2021-09-08T13:09:34.944Z"
   },
   {
    "duration": 77,
    "start_time": "2021-09-08T13:17:52.060Z"
   },
   {
    "duration": 13,
    "start_time": "2021-09-08T13:18:15.763Z"
   },
   {
    "duration": -174,
    "start_time": "2021-09-08T13:20:41.506Z"
   },
   {
    "duration": 7,
    "start_time": "2021-09-08T13:21:04.139Z"
   },
   {
    "duration": 15090,
    "start_time": "2021-09-08T13:21:12.135Z"
   },
   {
    "duration": 37,
    "start_time": "2021-09-08T13:24:03.650Z"
   },
   {
    "duration": 32,
    "start_time": "2021-09-08T13:24:40.351Z"
   },
   {
    "duration": 8,
    "start_time": "2021-09-08T13:26:15.904Z"
   },
   {
    "duration": 372,
    "start_time": "2021-09-08T13:26:32.490Z"
   },
   {
    "duration": 7,
    "start_time": "2021-09-08T13:26:58.562Z"
   },
   {
    "duration": 452,
    "start_time": "2021-09-08T13:28:52.008Z"
   },
   {
    "duration": 55,
    "start_time": "2021-09-08T13:29:38.199Z"
   },
   {
    "duration": 55,
    "start_time": "2021-09-08T13:29:45.615Z"
   },
   {
    "duration": 269,
    "start_time": "2021-09-09T02:58:42.728Z"
   },
   {
    "duration": 646,
    "start_time": "2021-09-09T02:58:51.514Z"
   },
   {
    "duration": 14,
    "start_time": "2021-09-09T02:58:53.811Z"
   },
   {
    "duration": 23,
    "start_time": "2021-09-09T02:58:53.976Z"
   },
   {
    "duration": 22,
    "start_time": "2021-09-09T02:58:54.289Z"
   },
   {
    "duration": 33,
    "start_time": "2021-09-09T02:58:54.450Z"
   },
   {
    "duration": 5,
    "start_time": "2021-09-09T02:58:54.635Z"
   },
   {
    "duration": 9,
    "start_time": "2021-09-09T02:58:54.710Z"
   },
   {
    "duration": 9,
    "start_time": "2021-09-09T02:58:54.859Z"
   },
   {
    "duration": 28,
    "start_time": "2021-09-09T02:58:55.001Z"
   },
   {
    "duration": 6,
    "start_time": "2021-09-09T02:58:55.172Z"
   },
   {
    "duration": 25,
    "start_time": "2021-09-09T02:58:55.299Z"
   },
   {
    "duration": 34,
    "start_time": "2021-09-09T02:58:55.589Z"
   },
   {
    "duration": 31,
    "start_time": "2021-09-09T02:58:55.886Z"
   },
   {
    "duration": 34,
    "start_time": "2021-09-09T02:58:56.059Z"
   },
   {
    "duration": 486,
    "start_time": "2021-09-09T02:58:56.232Z"
   },
   {
    "duration": 304,
    "start_time": "2021-09-09T02:58:56.719Z"
   },
   {
    "duration": 193,
    "start_time": "2021-09-09T02:58:57.035Z"
   },
   {
    "duration": 191,
    "start_time": "2021-09-09T02:58:57.486Z"
   },
   {
    "duration": 189,
    "start_time": "2021-09-09T02:58:57.873Z"
   },
   {
    "duration": 5,
    "start_time": "2021-09-09T02:58:58.329Z"
   },
   {
    "duration": 6,
    "start_time": "2021-09-09T02:58:58.524Z"
   },
   {
    "duration": 198,
    "start_time": "2021-09-09T02:58:58.759Z"
   },
   {
    "duration": 25,
    "start_time": "2021-09-09T02:58:59.044Z"
   },
   {
    "duration": 230,
    "start_time": "2021-09-09T02:58:59.454Z"
   },
   {
    "duration": 218,
    "start_time": "2021-09-09T02:58:59.692Z"
   },
   {
    "duration": 320,
    "start_time": "2021-09-09T02:59:00.502Z"
   },
   {
    "duration": 5,
    "start_time": "2021-09-09T02:59:01.026Z"
   },
   {
    "duration": 504,
    "start_time": "2021-09-09T02:59:01.591Z"
   },
   {
    "duration": 4,
    "start_time": "2021-09-09T02:59:02.097Z"
   },
   {
    "duration": 467,
    "start_time": "2021-09-09T02:59:02.456Z"
   },
   {
    "duration": 5,
    "start_time": "2021-09-09T02:59:02.924Z"
   },
   {
    "duration": 248,
    "start_time": "2021-09-09T02:59:03.424Z"
   },
   {
    "duration": 6,
    "start_time": "2021-09-09T02:59:03.728Z"
   },
   {
    "duration": 313,
    "start_time": "2021-09-09T02:59:04.023Z"
   },
   {
    "duration": 5,
    "start_time": "2021-09-09T02:59:04.338Z"
   },
   {
    "duration": 240,
    "start_time": "2021-09-09T02:59:04.626Z"
   },
   {
    "duration": 6,
    "start_time": "2021-09-09T02:59:05.016Z"
   },
   {
    "duration": 16,
    "start_time": "2021-09-09T02:59:05.964Z"
   },
   {
    "duration": 9,
    "start_time": "2021-09-09T02:59:07.005Z"
   },
   {
    "duration": 16,
    "start_time": "2021-09-09T02:59:08.074Z"
   },
   {
    "duration": 9,
    "start_time": "2021-09-09T02:59:09.090Z"
   },
   {
    "duration": 13,
    "start_time": "2021-09-09T02:59:10.495Z"
   },
   {
    "duration": 13,
    "start_time": "2021-09-09T02:59:11.886Z"
   },
   {
    "duration": 172,
    "start_time": "2021-09-09T02:59:13.082Z"
   },
   {
    "duration": 35,
    "start_time": "2021-09-09T02:59:13.814Z"
   },
   {
    "duration": 5943,
    "start_time": "2021-09-09T02:59:21.594Z"
   },
   {
    "duration": 188,
    "start_time": "2021-09-09T03:01:04.372Z"
   },
   {
    "duration": 175,
    "start_time": "2021-09-09T03:01:42.632Z"
   },
   {
    "duration": 184,
    "start_time": "2021-09-09T03:04:16.118Z"
   },
   {
    "duration": 211,
    "start_time": "2021-09-09T03:04:29.466Z"
   },
   {
    "duration": 182,
    "start_time": "2021-09-09T03:04:47.214Z"
   },
   {
    "duration": 188,
    "start_time": "2021-09-09T03:05:32.344Z"
   },
   {
    "duration": 178,
    "start_time": "2021-09-09T03:06:42.978Z"
   },
   {
    "duration": 183,
    "start_time": "2021-09-09T03:09:14.625Z"
   },
   {
    "duration": 176,
    "start_time": "2021-09-09T03:09:36.123Z"
   },
   {
    "duration": 277,
    "start_time": "2021-09-09T03:10:49.104Z"
   },
   {
    "duration": 188,
    "start_time": "2021-09-09T03:13:47.265Z"
   },
   {
    "duration": 75,
    "start_time": "2021-09-09T03:15:45.278Z"
   },
   {
    "duration": 201,
    "start_time": "2021-09-09T03:16:01.624Z"
   },
   {
    "duration": 196,
    "start_time": "2021-09-09T03:16:12.179Z"
   },
   {
    "duration": 183,
    "start_time": "2021-09-09T03:16:56.339Z"
   },
   {
    "duration": 181,
    "start_time": "2021-09-09T03:18:53.792Z"
   },
   {
    "duration": 6,
    "start_time": "2021-09-09T03:23:26.708Z"
   },
   {
    "duration": 7,
    "start_time": "2021-09-09T03:24:17.831Z"
   },
   {
    "duration": 5,
    "start_time": "2021-09-09T03:25:03.319Z"
   },
   {
    "duration": 6,
    "start_time": "2021-09-09T03:25:26.570Z"
   },
   {
    "duration": 5,
    "start_time": "2021-09-09T03:25:31.998Z"
   },
   {
    "duration": 5,
    "start_time": "2021-09-09T03:25:42.869Z"
   },
   {
    "duration": 5,
    "start_time": "2021-09-09T03:25:51.887Z"
   },
   {
    "duration": 5,
    "start_time": "2021-09-09T03:26:35.122Z"
   },
   {
    "duration": 4,
    "start_time": "2021-09-09T03:29:37.965Z"
   },
   {
    "duration": 5,
    "start_time": "2021-09-09T03:29:58.337Z"
   },
   {
    "duration": 5,
    "start_time": "2021-09-09T03:30:02.031Z"
   },
   {
    "duration": 862,
    "start_time": "2021-09-09T03:30:56.861Z"
   },
   {
    "duration": 6,
    "start_time": "2021-09-09T03:31:02.670Z"
   },
   {
    "duration": 6,
    "start_time": "2021-09-09T03:31:05.273Z"
   },
   {
    "duration": 4,
    "start_time": "2021-09-09T03:34:03.232Z"
   },
   {
    "duration": 5,
    "start_time": "2021-09-09T03:34:41.461Z"
   },
   {
    "duration": 93,
    "start_time": "2021-09-09T03:35:41.437Z"
   },
   {
    "duration": 10,
    "start_time": "2021-09-09T03:38:14.945Z"
   },
   {
    "duration": 6,
    "start_time": "2021-09-09T03:38:34.915Z"
   },
   {
    "duration": 10,
    "start_time": "2021-09-09T03:38:49.942Z"
   },
   {
    "duration": 5,
    "start_time": "2021-09-09T03:40:08.203Z"
   },
   {
    "duration": 6978,
    "start_time": "2021-09-09T03:41:52.875Z"
   },
   {
    "duration": 185,
    "start_time": "2021-09-09T03:42:08.358Z"
   },
   {
    "duration": 6,
    "start_time": "2021-09-09T03:43:01.781Z"
   },
   {
    "duration": 5,
    "start_time": "2021-09-09T03:43:18.750Z"
   },
   {
    "duration": 6,
    "start_time": "2021-09-09T03:47:28.160Z"
   },
   {
    "duration": 180,
    "start_time": "2021-09-09T03:48:17.871Z"
   },
   {
    "duration": 12,
    "start_time": "2021-09-09T03:49:25.449Z"
   },
   {
    "duration": 12,
    "start_time": "2021-09-09T03:49:56.039Z"
   },
   {
    "duration": 13,
    "start_time": "2021-09-09T03:51:19.584Z"
   },
   {
    "duration": 12,
    "start_time": "2021-09-09T03:51:22.007Z"
   },
   {
    "duration": 6098,
    "start_time": "2021-09-09T03:52:31.999Z"
   },
   {
    "duration": 176,
    "start_time": "2021-09-09T03:52:56.045Z"
   },
   {
    "duration": 183,
    "start_time": "2021-09-09T03:53:20.483Z"
   },
   {
    "duration": 196,
    "start_time": "2021-09-09T03:53:31.878Z"
   },
   {
    "duration": 194,
    "start_time": "2021-09-09T03:53:51.605Z"
   },
   {
    "duration": 176,
    "start_time": "2021-09-09T03:53:59.376Z"
   },
   {
    "duration": 185,
    "start_time": "2021-09-09T03:55:02.145Z"
   },
   {
    "duration": 178,
    "start_time": "2021-09-09T03:55:14.326Z"
   },
   {
    "duration": 13,
    "start_time": "2021-09-09T03:59:27.276Z"
   },
   {
    "duration": 13,
    "start_time": "2021-09-09T03:59:31.937Z"
   },
   {
    "duration": 297,
    "start_time": "2021-09-09T03:59:45.432Z"
   },
   {
    "duration": 13,
    "start_time": "2021-09-09T04:03:02.277Z"
   },
   {
    "duration": 240,
    "start_time": "2021-09-09T04:19:25.730Z"
   },
   {
    "duration": 5,
    "start_time": "2021-09-09T04:19:35.031Z"
   },
   {
    "duration": 260,
    "start_time": "2021-09-09T04:20:39.345Z"
   },
   {
    "duration": 79,
    "start_time": "2021-09-09T04:21:02.895Z"
   },
   {
    "duration": 8,
    "start_time": "2021-09-09T04:21:03.746Z"
   },
   {
    "duration": 21,
    "start_time": "2021-09-09T04:21:03.935Z"
   },
   {
    "duration": 21,
    "start_time": "2021-09-09T04:21:04.376Z"
   },
   {
    "duration": 34,
    "start_time": "2021-09-09T04:21:04.594Z"
   },
   {
    "duration": 6,
    "start_time": "2021-09-09T04:21:04.895Z"
   },
   {
    "duration": 9,
    "start_time": "2021-09-09T04:21:05.102Z"
   },
   {
    "duration": 8,
    "start_time": "2021-09-09T04:21:05.293Z"
   },
   {
    "duration": 31,
    "start_time": "2021-09-09T04:21:05.509Z"
   },
   {
    "duration": 7,
    "start_time": "2021-09-09T04:21:05.732Z"
   },
   {
    "duration": 25,
    "start_time": "2021-09-09T04:21:05.966Z"
   },
   {
    "duration": 35,
    "start_time": "2021-09-09T04:21:06.555Z"
   },
   {
    "duration": 839,
    "start_time": "2021-09-09T08:58:36.090Z"
   },
   {
    "duration": 22,
    "start_time": "2021-09-09T08:58:36.932Z"
   },
   {
    "duration": 44,
    "start_time": "2021-09-09T08:58:36.957Z"
   },
   {
    "duration": 35,
    "start_time": "2021-09-09T08:58:37.003Z"
   },
   {
    "duration": 76,
    "start_time": "2021-09-09T08:58:37.040Z"
   },
   {
    "duration": 5,
    "start_time": "2021-09-09T08:58:37.119Z"
   },
   {
    "duration": 11,
    "start_time": "2021-09-09T08:58:41.327Z"
   },
   {
    "duration": 12,
    "start_time": "2021-09-09T08:58:41.526Z"
   },
   {
    "duration": 50,
    "start_time": "2021-09-09T08:58:41.697Z"
   },
   {
    "duration": 10,
    "start_time": "2021-09-09T08:58:41.866Z"
   },
   {
    "duration": 41,
    "start_time": "2021-09-09T08:58:42.032Z"
   },
   {
    "duration": 56,
    "start_time": "2021-09-09T08:58:44.841Z"
   },
   {
    "duration": 16,
    "start_time": "2021-09-09T08:58:58.175Z"
   },
   {
    "duration": 124,
    "start_time": "2021-09-09T09:10:52.637Z"
   },
   {
    "duration": 120,
    "start_time": "2021-09-09T09:21:21.181Z"
   },
   {
    "duration": 128,
    "start_time": "2021-09-10T03:31:09.489Z"
   },
   {
    "duration": 455,
    "start_time": "2021-09-10T03:31:24.220Z"
   },
   {
    "duration": 129,
    "start_time": "2021-09-10T03:31:43.710Z"
   },
   {
    "duration": 827,
    "start_time": "2021-09-10T03:33:45.450Z"
   },
   {
    "duration": 19,
    "start_time": "2021-09-10T03:33:47.583Z"
   },
   {
    "duration": 35,
    "start_time": "2021-09-10T03:33:47.714Z"
   },
   {
    "duration": 37,
    "start_time": "2021-09-10T03:33:48.004Z"
   },
   {
    "duration": 51,
    "start_time": "2021-09-10T03:33:48.460Z"
   },
   {
    "duration": 7,
    "start_time": "2021-09-10T03:33:48.600Z"
   },
   {
    "duration": 11,
    "start_time": "2021-09-10T03:33:49.773Z"
   },
   {
    "duration": 11,
    "start_time": "2021-09-10T03:33:52.434Z"
   },
   {
    "duration": 7,
    "start_time": "2021-09-10T03:33:53.225Z"
   },
   {
    "duration": 9,
    "start_time": "2021-09-10T03:33:54.410Z"
   },
   {
    "duration": 40,
    "start_time": "2021-09-10T03:33:55.155Z"
   },
   {
    "duration": 54,
    "start_time": "2021-09-10T03:33:55.787Z"
   },
   {
    "duration": 16,
    "start_time": "2021-09-10T03:33:56.126Z"
   },
   {
    "duration": 512,
    "start_time": "2021-09-10T03:34:53.364Z"
   },
   {
    "duration": 50,
    "start_time": "2021-09-10T03:35:19.353Z"
   },
   {
    "duration": 374,
    "start_time": "2021-09-10T03:40:16.148Z"
   },
   {
    "duration": 36,
    "start_time": "2021-09-10T03:41:13.648Z"
   },
   {
    "duration": 99,
    "start_time": "2021-09-10T03:42:58.489Z"
   },
   {
    "duration": 13,
    "start_time": "2021-09-10T03:42:59.580Z"
   },
   {
    "duration": 33,
    "start_time": "2021-09-10T03:42:59.821Z"
   },
   {
    "duration": 36,
    "start_time": "2021-09-10T03:43:00.434Z"
   },
   {
    "duration": 53,
    "start_time": "2021-09-10T03:43:01.315Z"
   },
   {
    "duration": 8,
    "start_time": "2021-09-10T03:43:01.575Z"
   },
   {
    "duration": 12,
    "start_time": "2021-09-10T03:43:02.117Z"
   },
   {
    "duration": 12,
    "start_time": "2021-09-10T03:43:02.844Z"
   },
   {
    "duration": 9,
    "start_time": "2021-09-10T03:43:03.656Z"
   },
   {
    "duration": 40,
    "start_time": "2021-09-10T03:43:04.424Z"
   },
   {
    "duration": 38,
    "start_time": "2021-09-10T03:43:04.811Z"
   },
   {
    "duration": 385,
    "start_time": "2021-09-10T03:43:05.806Z"
   },
   {
    "duration": 15,
    "start_time": "2021-09-10T03:43:06.225Z"
   },
   {
    "duration": 377,
    "start_time": "2021-09-10T03:43:16.218Z"
   },
   {
    "duration": 50,
    "start_time": "2021-09-10T03:43:27.055Z"
   },
   {
    "duration": 35,
    "start_time": "2021-09-10T03:43:31.750Z"
   },
   {
    "duration": 8,
    "start_time": "2021-09-10T03:44:29.419Z"
   },
   {
    "duration": 83,
    "start_time": "2021-09-10T03:45:59.147Z"
   },
   {
    "duration": 11,
    "start_time": "2021-09-10T03:46:23.501Z"
   },
   {
    "duration": 12,
    "start_time": "2021-09-10T03:46:36.776Z"
   },
   {
    "duration": 395,
    "start_time": "2021-09-10T03:48:00.061Z"
   },
   {
    "duration": 21,
    "start_time": "2021-09-10T03:48:16.796Z"
   },
   {
    "duration": 54,
    "start_time": "2021-09-10T03:49:09.552Z"
   },
   {
    "duration": 36,
    "start_time": "2021-09-10T03:51:31.581Z"
   },
   {
    "duration": 38,
    "start_time": "2021-09-10T03:51:33.376Z"
   },
   {
    "duration": 9,
    "start_time": "2021-09-10T03:52:06.322Z"
   },
   {
    "duration": 9,
    "start_time": "2021-09-10T04:03:54.698Z"
   },
   {
    "duration": 410,
    "start_time": "2021-09-10T04:03:56.484Z"
   },
   {
    "duration": 369,
    "start_time": "2021-09-10T04:07:50.317Z"
   },
   {
    "duration": 8,
    "start_time": "2021-09-10T04:09:34.753Z"
   },
   {
    "duration": 366,
    "start_time": "2021-09-10T04:09:36.610Z"
   },
   {
    "duration": 400,
    "start_time": "2021-09-10T04:09:45.806Z"
   },
   {
    "duration": 41,
    "start_time": "2021-09-10T04:11:28.636Z"
   },
   {
    "duration": 14,
    "start_time": "2021-09-10T04:11:30.076Z"
   },
   {
    "duration": 361,
    "start_time": "2021-09-10T04:11:30.682Z"
   },
   {
    "duration": 1849,
    "start_time": "2021-09-10T04:15:52.838Z"
   },
   {
    "duration": 1758,
    "start_time": "2021-09-10T04:16:08.497Z"
   },
   {
    "duration": 35,
    "start_time": "2021-09-10T04:18:14.364Z"
   },
   {
    "duration": 55,
    "start_time": "2021-09-10T04:19:09.502Z"
   },
   {
    "duration": 362,
    "start_time": "2021-09-10T04:19:25.094Z"
   },
   {
    "duration": 45,
    "start_time": "2021-09-10T04:20:36.632Z"
   },
   {
    "duration": 368,
    "start_time": "2021-09-10T04:20:37.416Z"
   },
   {
    "duration": 384,
    "start_time": "2021-09-10T04:20:59.857Z"
   },
   {
    "duration": 380,
    "start_time": "2021-09-10T04:21:09.103Z"
   },
   {
    "duration": 1717,
    "start_time": "2021-09-10T04:23:36.223Z"
   },
   {
    "duration": 410,
    "start_time": "2021-09-10T04:24:27.102Z"
   },
   {
    "duration": 51,
    "start_time": "2021-09-10T04:25:02.171Z"
   },
   {
    "duration": 365,
    "start_time": "2021-09-10T04:25:08.584Z"
   },
   {
    "duration": 1785,
    "start_time": "2021-09-10T04:25:10.123Z"
   },
   {
    "duration": 1827,
    "start_time": "2021-09-10T04:25:24.296Z"
   },
   {
    "duration": 10,
    "start_time": "2021-09-10T04:27:17.208Z"
   },
   {
    "duration": 370,
    "start_time": "2021-09-10T04:27:19.341Z"
   },
   {
    "duration": 9,
    "start_time": "2021-09-10T04:27:33.673Z"
   },
   {
    "duration": 352,
    "start_time": "2021-09-10T04:27:35.245Z"
   },
   {
    "duration": 8,
    "start_time": "2021-09-10T04:28:20.803Z"
   },
   {
    "duration": 356,
    "start_time": "2021-09-10T04:28:23.064Z"
   },
   {
    "duration": 34,
    "start_time": "2021-09-10T04:28:35.838Z"
   },
   {
    "duration": 10,
    "start_time": "2021-09-10T04:28:56.110Z"
   },
   {
    "duration": 446,
    "start_time": "2021-09-10T04:28:56.553Z"
   },
   {
    "duration": 1969,
    "start_time": "2021-09-10T04:36:56.571Z"
   },
   {
    "duration": 476,
    "start_time": "2021-09-10T04:38:39.541Z"
   },
   {
    "duration": 551,
    "start_time": "2021-09-10T04:44:57.676Z"
   },
   {
    "duration": 671,
    "start_time": "2021-09-10T04:45:05.207Z"
   },
   {
    "duration": 1765,
    "start_time": "2021-09-10T04:45:44.688Z"
   },
   {
    "duration": 361,
    "start_time": "2021-09-10T04:46:50.993Z"
   },
   {
    "duration": 502,
    "start_time": "2021-09-10T04:46:52.879Z"
   },
   {
    "duration": 7,
    "start_time": "2021-09-10T04:46:53.772Z"
   },
   {
    "duration": 705,
    "start_time": "2021-09-10T04:46:55.429Z"
   },
   {
    "duration": 6,
    "start_time": "2021-09-10T04:46:56.784Z"
   },
   {
    "duration": 779,
    "start_time": "2021-09-10T04:46:57.960Z"
   },
   {
    "duration": 7,
    "start_time": "2021-09-10T04:47:01.626Z"
   },
   {
    "duration": 9763,
    "start_time": "2021-09-10T04:47:02.496Z"
   },
   {
    "duration": -97,
    "start_time": "2021-09-10T04:47:12.359Z"
   },
   {
    "duration": -97,
    "start_time": "2021-09-10T04:47:12.360Z"
   },
   {
    "duration": -98,
    "start_time": "2021-09-10T04:47:12.362Z"
   },
   {
    "duration": -98,
    "start_time": "2021-09-10T04:47:12.364Z"
   },
   {
    "duration": -98,
    "start_time": "2021-09-10T04:47:12.365Z"
   },
   {
    "duration": -99,
    "start_time": "2021-09-10T04:47:12.367Z"
   },
   {
    "duration": 11,
    "start_time": "2021-09-10T05:03:05.360Z"
   },
   {
    "duration": 12,
    "start_time": "2021-09-10T05:04:16.778Z"
   },
   {
    "duration": 40,
    "start_time": "2021-09-10T05:04:28.504Z"
   },
   {
    "duration": 7,
    "start_time": "2021-09-10T05:04:38.493Z"
   },
   {
    "duration": 102,
    "start_time": "2021-09-10T05:04:58.215Z"
   },
   {
    "duration": 12,
    "start_time": "2021-09-10T05:04:59.394Z"
   },
   {
    "duration": 32,
    "start_time": "2021-09-10T05:04:59.603Z"
   },
   {
    "duration": 36,
    "start_time": "2021-09-10T05:05:00.136Z"
   },
   {
    "duration": 54,
    "start_time": "2021-09-10T05:05:01.502Z"
   },
   {
    "duration": 6,
    "start_time": "2021-09-10T05:05:02.283Z"
   },
   {
    "duration": 11,
    "start_time": "2021-09-10T05:05:04.750Z"
   },
   {
    "duration": 10,
    "start_time": "2021-09-10T05:05:07.694Z"
   },
   {
    "duration": 8,
    "start_time": "2021-09-10T05:05:09.333Z"
   },
   {
    "duration": 38,
    "start_time": "2021-09-10T05:05:11.384Z"
   },
   {
    "duration": 36,
    "start_time": "2021-09-10T05:05:12.206Z"
   },
   {
    "duration": 39,
    "start_time": "2021-09-10T05:05:14.291Z"
   },
   {
    "duration": 9,
    "start_time": "2021-09-10T05:05:14.998Z"
   },
   {
    "duration": 44,
    "start_time": "2021-09-10T05:05:15.548Z"
   },
   {
    "duration": 117,
    "start_time": "2021-09-10T05:07:38.888Z"
   },
   {
    "duration": 9,
    "start_time": "2021-09-10T05:07:44.908Z"
   },
   {
    "duration": 9,
    "start_time": "2021-09-10T05:08:00.551Z"
   },
   {
    "duration": 106,
    "start_time": "2021-09-10T05:08:25.815Z"
   },
   {
    "duration": 104,
    "start_time": "2021-09-10T05:09:54.039Z"
   },
   {
    "duration": 105,
    "start_time": "2021-09-10T05:10:21.839Z"
   },
   {
    "duration": 108,
    "start_time": "2021-09-10T05:10:32.153Z"
   },
   {
    "duration": 494,
    "start_time": "2021-09-10T05:14:29.247Z"
   },
   {
    "duration": 105,
    "start_time": "2021-09-10T05:14:47.301Z"
   },
   {
    "duration": 70,
    "start_time": "2021-09-10T05:21:21.491Z"
   },
   {
    "duration": 52,
    "start_time": "2021-09-10T05:24:29.594Z"
   },
   {
    "duration": 41,
    "start_time": "2021-09-10T05:25:53.842Z"
   },
   {
    "duration": 37,
    "start_time": "2021-09-10T05:26:29.678Z"
   },
   {
    "duration": 9,
    "start_time": "2021-09-10T05:26:30.613Z"
   },
   {
    "duration": 40,
    "start_time": "2021-09-10T05:26:35.401Z"
   },
   {
    "duration": 105,
    "start_time": "2021-09-10T05:26:47.198Z"
   },
   {
    "duration": 14,
    "start_time": "2021-09-10T05:26:47.856Z"
   },
   {
    "duration": 31,
    "start_time": "2021-09-10T05:26:47.987Z"
   },
   {
    "duration": 36,
    "start_time": "2021-09-10T05:26:48.287Z"
   },
   {
    "duration": 57,
    "start_time": "2021-09-10T05:26:48.758Z"
   },
   {
    "duration": 6,
    "start_time": "2021-09-10T05:26:48.903Z"
   },
   {
    "duration": 11,
    "start_time": "2021-09-10T05:26:49.229Z"
   },
   {
    "duration": 10,
    "start_time": "2021-09-10T05:26:49.577Z"
   },
   {
    "duration": 9,
    "start_time": "2021-09-10T05:26:49.963Z"
   },
   {
    "duration": 39,
    "start_time": "2021-09-10T05:26:50.316Z"
   },
   {
    "duration": 36,
    "start_time": "2021-09-10T05:26:50.532Z"
   },
   {
    "duration": 40,
    "start_time": "2021-09-10T05:26:50.922Z"
   },
   {
    "duration": 9,
    "start_time": "2021-09-10T05:26:51.189Z"
   },
   {
    "duration": 39,
    "start_time": "2021-09-10T05:26:51.430Z"
   },
   {
    "duration": 15,
    "start_time": "2021-09-10T05:26:53.212Z"
   },
   {
    "duration": 41,
    "start_time": "2021-09-10T05:28:50.079Z"
   },
   {
    "duration": 13,
    "start_time": "2021-09-10T05:28:50.890Z"
   },
   {
    "duration": 1409,
    "start_time": "2021-09-10T05:28:59.718Z"
   },
   {
    "duration": 383,
    "start_time": "2021-09-10T05:29:01.366Z"
   },
   {
    "duration": 96,
    "start_time": "2021-09-10T05:29:32.860Z"
   },
   {
    "duration": 12,
    "start_time": "2021-09-10T05:29:33.573Z"
   },
   {
    "duration": 31,
    "start_time": "2021-09-10T05:29:33.754Z"
   },
   {
    "duration": 37,
    "start_time": "2021-09-10T05:29:34.129Z"
   },
   {
    "duration": 54,
    "start_time": "2021-09-10T05:29:34.650Z"
   },
   {
    "duration": 7,
    "start_time": "2021-09-10T05:29:34.801Z"
   },
   {
    "duration": 11,
    "start_time": "2021-09-10T05:29:35.161Z"
   },
   {
    "duration": 11,
    "start_time": "2021-09-10T05:29:35.643Z"
   },
   {
    "duration": 8,
    "start_time": "2021-09-10T05:29:36.039Z"
   },
   {
    "duration": 42,
    "start_time": "2021-09-10T05:29:36.462Z"
   },
   {
    "duration": 36,
    "start_time": "2021-09-10T05:29:38.354Z"
   },
   {
    "duration": 40,
    "start_time": "2021-09-10T05:29:38.393Z"
   },
   {
    "duration": 8,
    "start_time": "2021-09-10T05:29:38.435Z"
   },
   {
    "duration": 43,
    "start_time": "2021-09-10T05:29:38.446Z"
   },
   {
    "duration": 36,
    "start_time": "2021-09-10T05:29:38.491Z"
   },
   {
    "duration": 45,
    "start_time": "2021-09-10T05:29:40.368Z"
   },
   {
    "duration": 56,
    "start_time": "2021-09-10T05:29:40.663Z"
   },
   {
    "duration": 773,
    "start_time": "2021-09-10T05:29:41.059Z"
   },
   {
    "duration": 315,
    "start_time": "2021-09-10T05:29:43.958Z"
   },
   {
    "duration": 449,
    "start_time": "2021-09-10T05:29:44.611Z"
   },
   {
    "duration": 13,
    "start_time": "2021-09-10T05:29:45.139Z"
   },
   {
    "duration": 414,
    "start_time": "2021-09-10T05:29:45.405Z"
   },
   {
    "duration": 314,
    "start_time": "2021-09-10T05:29:45.927Z"
   },
   {
    "duration": 6,
    "start_time": "2021-09-10T05:29:46.810Z"
   },
   {
    "duration": 8,
    "start_time": "2021-09-10T05:29:47.352Z"
   },
   {
    "duration": 346,
    "start_time": "2021-09-10T05:29:48.345Z"
   },
   {
    "duration": 35,
    "start_time": "2021-09-10T05:29:49.004Z"
   },
   {
    "duration": 36,
    "start_time": "2021-09-10T05:29:50.186Z"
   },
   {
    "duration": 11,
    "start_time": "2021-09-10T05:29:50.643Z"
   },
   {
    "duration": 347,
    "start_time": "2021-09-10T05:29:51.081Z"
   },
   {
    "duration": 378,
    "start_time": "2021-09-10T05:29:51.466Z"
   },
   {
    "duration": 505,
    "start_time": "2021-09-10T05:29:57.975Z"
   },
   {
    "duration": 7,
    "start_time": "2021-09-10T05:29:58.661Z"
   },
   {
    "duration": 714,
    "start_time": "2021-09-10T05:29:59.191Z"
   },
   {
    "duration": 14,
    "start_time": "2021-09-10T05:29:59.908Z"
   },
   {
    "duration": 721,
    "start_time": "2021-09-10T05:30:00.431Z"
   },
   {
    "duration": 8,
    "start_time": "2021-09-10T05:30:01.156Z"
   },
   {
    "duration": 408,
    "start_time": "2021-09-10T05:30:01.749Z"
   },
   {
    "duration": 9,
    "start_time": "2021-09-10T05:30:02.160Z"
   },
   {
    "duration": 395,
    "start_time": "2021-09-10T05:30:02.463Z"
   },
   {
    "duration": 8,
    "start_time": "2021-09-10T05:30:02.862Z"
   },
   {
    "duration": 386,
    "start_time": "2021-09-10T05:30:03.051Z"
   },
   {
    "duration": 7,
    "start_time": "2021-09-10T05:30:03.440Z"
   },
   {
    "duration": 20,
    "start_time": "2021-09-10T05:30:04.114Z"
   },
   {
    "duration": 43,
    "start_time": "2021-09-10T05:30:07.439Z"
   },
   {
    "duration": 14,
    "start_time": "2021-09-10T05:30:07.907Z"
   },
   {
    "duration": 26,
    "start_time": "2021-09-10T05:30:09.701Z"
   },
   {
    "duration": 15,
    "start_time": "2021-09-10T05:30:11.607Z"
   },
   {
    "duration": 13,
    "start_time": "2021-09-10T05:31:01.152Z"
   },
   {
    "duration": 43,
    "start_time": "2021-09-10T05:31:38.164Z"
   },
   {
    "duration": 14,
    "start_time": "2021-09-10T05:31:38.210Z"
   },
   {
    "duration": 27,
    "start_time": "2021-09-10T05:31:39.307Z"
   },
   {
    "duration": 1481,
    "start_time": "2022-05-23T18:13:00.487Z"
   },
   {
    "duration": 122,
    "start_time": "2022-05-23T18:13:08.627Z"
   },
   {
    "duration": 15,
    "start_time": "2022-05-23T18:13:20.330Z"
   },
   {
    "duration": 24,
    "start_time": "2022-05-23T18:14:58.822Z"
   },
   {
    "duration": 27,
    "start_time": "2022-05-23T18:15:13.823Z"
   },
   {
    "duration": 56,
    "start_time": "2022-05-23T18:16:57.456Z"
   },
   {
    "duration": 11,
    "start_time": "2022-05-23T18:17:30.470Z"
   },
   {
    "duration": 18,
    "start_time": "2022-05-23T18:18:00.757Z"
   },
   {
    "duration": 40,
    "start_time": "2022-05-23T18:18:24.212Z"
   },
   {
    "duration": 9,
    "start_time": "2022-05-23T18:19:47.712Z"
   },
   {
    "duration": 29,
    "start_time": "2022-05-23T18:20:07.900Z"
   },
   {
    "duration": 4,
    "start_time": "2022-05-23T18:21:43.495Z"
   },
   {
    "duration": 8,
    "start_time": "2022-05-23T18:21:44.951Z"
   },
   {
    "duration": 8,
    "start_time": "2022-05-23T18:22:20.512Z"
   },
   {
    "duration": 12,
    "start_time": "2022-05-23T18:22:36.062Z"
   },
   {
    "duration": 4,
    "start_time": "2022-05-23T18:25:24.523Z"
   },
   {
    "duration": 35,
    "start_time": "2022-05-23T18:25:42.223Z"
   },
   {
    "duration": 6,
    "start_time": "2022-05-23T18:27:27.857Z"
   },
   {
    "duration": 7,
    "start_time": "2022-05-23T18:27:40.499Z"
   },
   {
    "duration": 6,
    "start_time": "2022-05-23T18:29:07.110Z"
   },
   {
    "duration": 6,
    "start_time": "2022-05-23T18:29:23.177Z"
   },
   {
    "duration": 25,
    "start_time": "2022-05-23T18:29:25.981Z"
   },
   {
    "duration": 30,
    "start_time": "2022-05-23T18:29:35.918Z"
   },
   {
    "duration": 47,
    "start_time": "2022-05-23T18:32:02.650Z"
   },
   {
    "duration": 108,
    "start_time": "2022-05-23T18:32:47.451Z"
   },
   {
    "duration": 218,
    "start_time": "2022-05-23T18:34:22.166Z"
   },
   {
    "duration": 314,
    "start_time": "2022-05-23T18:38:01.859Z"
   },
   {
    "duration": 913,
    "start_time": "2022-05-23T18:38:35.865Z"
   },
   {
    "duration": 179,
    "start_time": "2022-05-23T18:38:51.863Z"
   },
   {
    "duration": 5,
    "start_time": "2022-05-23T18:39:07.948Z"
   },
   {
    "duration": 6,
    "start_time": "2022-05-23T18:41:06.988Z"
   },
   {
    "duration": 166,
    "start_time": "2022-05-23T18:41:07.689Z"
   },
   {
    "duration": 146,
    "start_time": "2022-05-23T18:41:36.490Z"
   },
   {
    "duration": 3,
    "start_time": "2022-05-23T18:43:22.714Z"
   },
   {
    "duration": 245,
    "start_time": "2022-05-23T18:45:02.603Z"
   },
   {
    "duration": 14,
    "start_time": "2022-05-23T18:45:32.958Z"
   },
   {
    "duration": 126,
    "start_time": "2022-05-23T18:45:40.502Z"
   },
   {
    "duration": 164,
    "start_time": "2022-05-23T18:45:50.258Z"
   },
   {
    "duration": 154,
    "start_time": "2022-05-23T18:46:38.306Z"
   },
   {
    "duration": 30,
    "start_time": "2022-05-23T18:49:04.805Z"
   },
   {
    "duration": 278,
    "start_time": "2022-05-23T18:49:11.252Z"
   },
   {
    "duration": 5,
    "start_time": "2022-05-23T18:50:13.154Z"
   },
   {
    "duration": 5,
    "start_time": "2022-05-23T18:50:22.090Z"
   },
   {
    "duration": 420,
    "start_time": "2022-05-23T18:51:30.482Z"
   },
   {
    "duration": 118,
    "start_time": "2022-05-23T18:51:30.904Z"
   },
   {
    "duration": 16,
    "start_time": "2022-05-23T18:51:31.024Z"
   },
   {
    "duration": 38,
    "start_time": "2022-05-23T18:51:31.042Z"
   },
   {
    "duration": 30,
    "start_time": "2022-05-23T18:51:31.082Z"
   },
   {
    "duration": 28,
    "start_time": "2022-05-23T18:51:31.114Z"
   },
   {
    "duration": 4,
    "start_time": "2022-05-23T18:51:31.144Z"
   },
   {
    "duration": 53,
    "start_time": "2022-05-23T18:51:31.149Z"
   },
   {
    "duration": 8,
    "start_time": "2022-05-23T18:51:31.204Z"
   },
   {
    "duration": 6,
    "start_time": "2022-05-23T18:51:31.213Z"
   },
   {
    "duration": 31,
    "start_time": "2022-05-23T18:51:31.221Z"
   },
   {
    "duration": 5,
    "start_time": "2022-05-23T18:51:31.253Z"
   },
   {
    "duration": 38,
    "start_time": "2022-05-23T18:51:31.260Z"
   },
   {
    "duration": 34,
    "start_time": "2022-05-23T18:51:31.302Z"
   },
   {
    "duration": 6,
    "start_time": "2022-05-23T18:51:31.338Z"
   },
   {
    "duration": 52,
    "start_time": "2022-05-23T18:51:31.345Z"
   },
   {
    "duration": 30,
    "start_time": "2022-05-23T18:51:31.399Z"
   },
   {
    "duration": 60,
    "start_time": "2022-05-23T18:51:31.431Z"
   },
   {
    "duration": 331,
    "start_time": "2022-05-23T18:51:31.494Z"
   },
   {
    "duration": 463,
    "start_time": "2022-05-23T18:51:31.827Z"
   },
   {
    "duration": 171,
    "start_time": "2022-05-23T18:51:32.291Z"
   },
   {
    "duration": 14,
    "start_time": "2022-05-23T18:51:32.463Z"
   },
   {
    "duration": 171,
    "start_time": "2022-05-23T18:51:32.482Z"
   },
   {
    "duration": 167,
    "start_time": "2022-05-23T18:51:32.654Z"
   },
   {
    "duration": 175,
    "start_time": "2022-05-23T18:51:32.823Z"
   },
   {
    "duration": 29,
    "start_time": "2022-05-23T18:51:33.000Z"
   },
   {
    "duration": 6,
    "start_time": "2022-05-23T18:51:33.031Z"
   },
   {
    "duration": 168,
    "start_time": "2022-05-23T18:51:33.039Z"
   },
   {
    "duration": 0,
    "start_time": "2022-05-23T18:51:33.209Z"
   },
   {
    "duration": 0,
    "start_time": "2022-05-23T18:51:33.210Z"
   },
   {
    "duration": 0,
    "start_time": "2022-05-23T18:51:33.211Z"
   },
   {
    "duration": 0,
    "start_time": "2022-05-23T18:51:33.212Z"
   },
   {
    "duration": 0,
    "start_time": "2022-05-23T18:51:33.213Z"
   },
   {
    "duration": 0,
    "start_time": "2022-05-23T18:51:33.214Z"
   },
   {
    "duration": 0,
    "start_time": "2022-05-23T18:51:33.215Z"
   },
   {
    "duration": 0,
    "start_time": "2022-05-23T18:51:33.216Z"
   },
   {
    "duration": 0,
    "start_time": "2022-05-23T18:51:33.217Z"
   },
   {
    "duration": 0,
    "start_time": "2022-05-23T18:51:33.218Z"
   },
   {
    "duration": 0,
    "start_time": "2022-05-23T18:51:33.219Z"
   },
   {
    "duration": 0,
    "start_time": "2022-05-23T18:51:33.220Z"
   },
   {
    "duration": 0,
    "start_time": "2022-05-23T18:51:33.221Z"
   },
   {
    "duration": 0,
    "start_time": "2022-05-23T18:51:33.222Z"
   },
   {
    "duration": 0,
    "start_time": "2022-05-23T18:51:33.223Z"
   },
   {
    "duration": 0,
    "start_time": "2022-05-23T18:51:33.223Z"
   },
   {
    "duration": 0,
    "start_time": "2022-05-23T18:51:33.224Z"
   },
   {
    "duration": 0,
    "start_time": "2022-05-23T18:51:33.225Z"
   },
   {
    "duration": 0,
    "start_time": "2022-05-23T18:51:33.226Z"
   },
   {
    "duration": 0,
    "start_time": "2022-05-23T18:51:33.227Z"
   },
   {
    "duration": 0,
    "start_time": "2022-05-23T18:51:33.228Z"
   },
   {
    "duration": 0,
    "start_time": "2022-05-23T18:51:33.229Z"
   },
   {
    "duration": 0,
    "start_time": "2022-05-23T18:51:33.230Z"
   },
   {
    "duration": 0,
    "start_time": "2022-05-23T18:51:33.231Z"
   },
   {
    "duration": 0,
    "start_time": "2022-05-23T18:51:33.231Z"
   },
   {
    "duration": 0,
    "start_time": "2022-05-23T18:51:33.232Z"
   },
   {
    "duration": 0,
    "start_time": "2022-05-23T18:51:33.233Z"
   },
   {
    "duration": 0,
    "start_time": "2022-05-23T18:51:33.234Z"
   },
   {
    "duration": 0,
    "start_time": "2022-05-23T18:51:33.235Z"
   },
   {
    "duration": 0,
    "start_time": "2022-05-23T18:51:33.236Z"
   },
   {
    "duration": 0,
    "start_time": "2022-05-23T18:51:33.237Z"
   },
   {
    "duration": 0,
    "start_time": "2022-05-23T18:51:33.238Z"
   },
   {
    "duration": 0,
    "start_time": "2022-05-23T18:51:33.239Z"
   },
   {
    "duration": 0,
    "start_time": "2022-05-23T18:51:33.240Z"
   },
   {
    "duration": 0,
    "start_time": "2022-05-23T18:51:33.266Z"
   },
   {
    "duration": 0,
    "start_time": "2022-05-23T18:51:33.267Z"
   },
   {
    "duration": 0,
    "start_time": "2022-05-23T18:51:33.268Z"
   },
   {
    "duration": 0,
    "start_time": "2022-05-23T18:51:33.268Z"
   },
   {
    "duration": 0,
    "start_time": "2022-05-23T18:51:33.269Z"
   },
   {
    "duration": 36,
    "start_time": "2022-05-23T18:51:58.848Z"
   },
   {
    "duration": 33,
    "start_time": "2022-05-23T18:53:01.098Z"
   },
   {
    "duration": 10,
    "start_time": "2022-05-23T18:53:02.383Z"
   },
   {
    "duration": 6,
    "start_time": "2022-05-23T18:54:01.445Z"
   },
   {
    "duration": 25,
    "start_time": "2022-05-23T18:54:11.122Z"
   },
   {
    "duration": 6,
    "start_time": "2022-05-23T18:55:54.588Z"
   },
   {
    "duration": 223,
    "start_time": "2022-05-23T18:55:56.789Z"
   },
   {
    "duration": 199,
    "start_time": "2022-05-23T18:56:02.701Z"
   },
   {
    "duration": 174,
    "start_time": "2022-05-23T18:56:35.088Z"
   },
   {
    "duration": 195,
    "start_time": "2022-05-23T18:56:37.490Z"
   },
   {
    "duration": 254,
    "start_time": "2022-05-23T18:57:30.147Z"
   },
   {
    "duration": 245,
    "start_time": "2022-05-23T18:58:01.002Z"
   },
   {
    "duration": 288,
    "start_time": "2022-05-23T18:58:29.215Z"
   },
   {
    "duration": 6,
    "start_time": "2022-05-23T18:58:56.519Z"
   },
   {
    "duration": 894,
    "start_time": "2022-05-23T18:59:42.863Z"
   },
   {
    "duration": 10,
    "start_time": "2022-05-23T18:59:53.359Z"
   },
   {
    "duration": 209,
    "start_time": "2022-05-23T19:01:01.390Z"
   },
   {
    "duration": 13,
    "start_time": "2022-05-23T19:01:07.274Z"
   },
   {
    "duration": 217,
    "start_time": "2022-05-23T19:01:16.230Z"
   },
   {
    "duration": 8,
    "start_time": "2022-05-23T19:01:17.189Z"
   },
   {
    "duration": 215,
    "start_time": "2022-05-23T19:01:18.490Z"
   },
   {
    "duration": 953,
    "start_time": "2022-05-23T19:01:42.676Z"
   },
   {
    "duration": 291,
    "start_time": "2022-05-23T19:02:07.092Z"
   },
   {
    "duration": 371,
    "start_time": "2022-05-23T19:02:47.822Z"
   },
   {
    "duration": 406,
    "start_time": "2022-05-23T19:02:55.653Z"
   },
   {
    "duration": 257,
    "start_time": "2022-05-23T19:03:07.394Z"
   },
   {
    "duration": 6,
    "start_time": "2022-05-23T19:03:24.812Z"
   },
   {
    "duration": 222,
    "start_time": "2022-05-23T19:03:25.361Z"
   },
   {
    "duration": 6,
    "start_time": "2022-05-23T19:03:26.200Z"
   },
   {
    "duration": 214,
    "start_time": "2022-05-23T19:03:26.883Z"
   },
   {
    "duration": 6,
    "start_time": "2022-05-23T19:03:27.645Z"
   },
   {
    "duration": 231,
    "start_time": "2022-05-23T19:04:06.791Z"
   },
   {
    "duration": 5,
    "start_time": "2022-05-23T19:04:09.891Z"
   },
   {
    "duration": 230,
    "start_time": "2022-05-23T19:04:10.208Z"
   },
   {
    "duration": 234,
    "start_time": "2022-05-23T19:04:17.190Z"
   },
   {
    "duration": 11,
    "start_time": "2022-05-23T19:04:20.170Z"
   },
   {
    "duration": 15,
    "start_time": "2022-05-23T19:04:22.802Z"
   },
   {
    "duration": 16,
    "start_time": "2022-05-23T19:04:50.455Z"
   },
   {
    "duration": 31,
    "start_time": "2022-05-23T19:06:13.786Z"
   },
   {
    "duration": 41,
    "start_time": "2022-05-23T19:06:14.764Z"
   },
   {
    "duration": 33,
    "start_time": "2022-05-23T19:07:11.853Z"
   },
   {
    "duration": 12,
    "start_time": "2022-05-23T19:07:13.495Z"
   },
   {
    "duration": 30,
    "start_time": "2022-05-23T19:07:36.703Z"
   },
   {
    "duration": 18,
    "start_time": "2022-05-23T19:10:03.884Z"
   },
   {
    "duration": 10,
    "start_time": "2022-05-23T19:10:18.816Z"
   },
   {
    "duration": 4,
    "start_time": "2022-05-23T19:11:27.890Z"
   },
   {
    "duration": 3,
    "start_time": "2022-05-23T19:11:46.417Z"
   },
   {
    "duration": 10,
    "start_time": "2022-05-23T19:11:57.803Z"
   },
   {
    "duration": 18,
    "start_time": "2022-05-23T19:14:15.216Z"
   },
   {
    "duration": 10,
    "start_time": "2022-05-23T19:14:57.013Z"
   },
   {
    "duration": 20,
    "start_time": "2022-05-23T19:15:02.700Z"
   },
   {
    "duration": 10,
    "start_time": "2022-05-23T19:15:25.450Z"
   },
   {
    "duration": 17,
    "start_time": "2022-05-23T19:15:26.492Z"
   },
   {
    "duration": 438,
    "start_time": "2022-05-23T19:15:34.001Z"
   },
   {
    "duration": 148,
    "start_time": "2022-05-23T19:15:34.442Z"
   },
   {
    "duration": 21,
    "start_time": "2022-05-23T19:15:34.596Z"
   },
   {
    "duration": 36,
    "start_time": "2022-05-23T19:15:34.618Z"
   },
   {
    "duration": 40,
    "start_time": "2022-05-23T19:15:34.656Z"
   },
   {
    "duration": 36,
    "start_time": "2022-05-23T19:15:34.697Z"
   },
   {
    "duration": 4,
    "start_time": "2022-05-23T19:15:34.735Z"
   },
   {
    "duration": 9,
    "start_time": "2022-05-23T19:15:34.741Z"
   },
   {
    "duration": 7,
    "start_time": "2022-05-23T19:15:34.751Z"
   },
   {
    "duration": 10,
    "start_time": "2022-05-23T19:15:34.760Z"
   },
   {
    "duration": 76,
    "start_time": "2022-05-23T19:15:34.772Z"
   },
   {
    "duration": 5,
    "start_time": "2022-05-23T19:15:34.850Z"
   },
   {
    "duration": 38,
    "start_time": "2022-05-23T19:15:34.857Z"
   },
   {
    "duration": 41,
    "start_time": "2022-05-23T19:15:34.899Z"
   },
   {
    "duration": 6,
    "start_time": "2022-05-23T19:15:34.942Z"
   },
   {
    "duration": 44,
    "start_time": "2022-05-23T19:15:34.949Z"
   },
   {
    "duration": 48,
    "start_time": "2022-05-23T19:15:34.995Z"
   },
   {
    "duration": 39,
    "start_time": "2022-05-23T19:15:35.045Z"
   },
   {
    "duration": 45,
    "start_time": "2022-05-23T19:15:35.096Z"
   },
   {
    "duration": 378,
    "start_time": "2022-05-23T19:15:35.142Z"
   },
   {
    "duration": 480,
    "start_time": "2022-05-23T19:15:35.522Z"
   },
   {
    "duration": 199,
    "start_time": "2022-05-23T19:15:36.003Z"
   },
   {
    "duration": 10,
    "start_time": "2022-05-23T19:15:36.207Z"
   },
   {
    "duration": 166,
    "start_time": "2022-05-23T19:15:36.218Z"
   },
   {
    "duration": 164,
    "start_time": "2022-05-23T19:15:36.393Z"
   },
   {
    "duration": 194,
    "start_time": "2022-05-23T19:15:36.559Z"
   },
   {
    "duration": 43,
    "start_time": "2022-05-23T19:15:36.754Z"
   },
   {
    "duration": 22,
    "start_time": "2022-05-23T19:15:36.803Z"
   },
   {
    "duration": 24,
    "start_time": "2022-05-23T19:15:36.826Z"
   },
   {
    "duration": 197,
    "start_time": "2022-05-23T19:15:36.852Z"
   },
   {
    "duration": 206,
    "start_time": "2022-05-23T19:15:37.051Z"
   },
   {
    "duration": 296,
    "start_time": "2022-05-23T19:15:37.259Z"
   },
   {
    "duration": 25,
    "start_time": "2022-05-23T19:15:37.557Z"
   },
   {
    "duration": 394,
    "start_time": "2022-05-23T19:15:37.589Z"
   },
   {
    "duration": 402,
    "start_time": "2022-05-23T19:15:37.985Z"
   },
   {
    "duration": 19,
    "start_time": "2022-05-23T19:15:38.391Z"
   },
   {
    "duration": 238,
    "start_time": "2022-05-23T19:15:38.411Z"
   },
   {
    "duration": 5,
    "start_time": "2022-05-23T19:15:38.651Z"
   },
   {
    "duration": 267,
    "start_time": "2022-05-23T19:15:38.657Z"
   },
   {
    "duration": 11,
    "start_time": "2022-05-23T19:15:38.926Z"
   },
   {
    "duration": 283,
    "start_time": "2022-05-23T19:15:38.942Z"
   },
   {
    "duration": 7,
    "start_time": "2022-05-23T19:15:39.228Z"
   },
   {
    "duration": 53,
    "start_time": "2022-05-23T19:15:39.237Z"
   },
   {
    "duration": 38,
    "start_time": "2022-05-23T19:15:39.295Z"
   },
   {
    "duration": 46,
    "start_time": "2022-05-23T19:15:39.335Z"
   },
   {
    "duration": 39,
    "start_time": "2022-05-23T19:15:39.383Z"
   },
   {
    "duration": 24,
    "start_time": "2022-05-23T19:15:39.423Z"
   },
   {
    "duration": 36,
    "start_time": "2022-05-23T19:15:39.449Z"
   },
   {
    "duration": 150,
    "start_time": "2022-05-23T19:15:39.487Z"
   },
   {
    "duration": 0,
    "start_time": "2022-05-23T19:15:39.638Z"
   },
   {
    "duration": 0,
    "start_time": "2022-05-23T19:15:39.640Z"
   },
   {
    "duration": 0,
    "start_time": "2022-05-23T19:15:39.641Z"
   },
   {
    "duration": 0,
    "start_time": "2022-05-23T19:15:39.642Z"
   },
   {
    "duration": 0,
    "start_time": "2022-05-23T19:15:39.643Z"
   },
   {
    "duration": 0,
    "start_time": "2022-05-23T19:15:39.644Z"
   },
   {
    "duration": 0,
    "start_time": "2022-05-23T19:15:39.645Z"
   },
   {
    "duration": 0,
    "start_time": "2022-05-23T19:15:39.645Z"
   },
   {
    "duration": 0,
    "start_time": "2022-05-23T19:15:39.646Z"
   },
   {
    "duration": 0,
    "start_time": "2022-05-23T19:15:39.647Z"
   },
   {
    "duration": 0,
    "start_time": "2022-05-23T19:15:39.648Z"
   },
   {
    "duration": 0,
    "start_time": "2022-05-23T19:15:39.649Z"
   },
   {
    "duration": 0,
    "start_time": "2022-05-23T19:15:39.650Z"
   },
   {
    "duration": 0,
    "start_time": "2022-05-23T19:15:39.651Z"
   },
   {
    "duration": 0,
    "start_time": "2022-05-23T19:15:39.652Z"
   },
   {
    "duration": 0,
    "start_time": "2022-05-23T19:15:39.653Z"
   },
   {
    "duration": 173,
    "start_time": "2022-05-23T19:15:45.401Z"
   },
   {
    "duration": 295,
    "start_time": "2022-05-23T19:15:46.556Z"
   },
   {
    "duration": 7,
    "start_time": "2022-05-23T19:15:46.906Z"
   },
   {
    "duration": 422,
    "start_time": "2022-05-23T19:15:47.292Z"
   },
   {
    "duration": 376,
    "start_time": "2022-05-23T19:15:47.716Z"
   },
   {
    "duration": 6,
    "start_time": "2022-05-23T19:15:48.094Z"
   },
   {
    "duration": 333,
    "start_time": "2022-05-23T19:15:48.307Z"
   },
   {
    "duration": 7,
    "start_time": "2022-05-23T19:15:48.642Z"
   },
   {
    "duration": 259,
    "start_time": "2022-05-23T19:15:48.650Z"
   },
   {
    "duration": 4,
    "start_time": "2022-05-23T19:15:48.914Z"
   },
   {
    "duration": 285,
    "start_time": "2022-05-23T19:15:48.950Z"
   },
   {
    "duration": 9,
    "start_time": "2022-05-23T19:15:49.238Z"
   },
   {
    "duration": 19,
    "start_time": "2022-05-23T19:15:49.488Z"
   },
   {
    "duration": 18,
    "start_time": "2022-05-23T19:15:49.894Z"
   },
   {
    "duration": 26,
    "start_time": "2022-05-23T19:15:50.354Z"
   },
   {
    "duration": 16,
    "start_time": "2022-05-23T19:15:50.974Z"
   },
   {
    "duration": 8,
    "start_time": "2022-05-23T19:15:52.155Z"
   },
   {
    "duration": 19,
    "start_time": "2022-05-23T19:15:52.994Z"
   },
   {
    "duration": 35,
    "start_time": "2022-05-23T19:16:01.959Z"
   },
   {
    "duration": 69,
    "start_time": "2022-05-23T19:17:02.146Z"
   },
   {
    "duration": 47,
    "start_time": "2022-05-23T19:17:10.615Z"
   },
   {
    "duration": 25,
    "start_time": "2022-05-23T19:17:20.758Z"
   },
   {
    "duration": 17,
    "start_time": "2022-05-23T19:17:30.446Z"
   },
   {
    "duration": 42,
    "start_time": "2022-05-23T19:17:57.887Z"
   },
   {
    "duration": 38,
    "start_time": "2022-05-23T19:18:13.295Z"
   },
   {
    "duration": 26,
    "start_time": "2022-05-23T19:18:19.486Z"
   },
   {
    "duration": 23,
    "start_time": "2022-05-23T19:18:24.931Z"
   },
   {
    "duration": 175,
    "start_time": "2022-05-23T19:19:16.097Z"
   },
   {
    "duration": 52,
    "start_time": "2022-05-23T19:19:31.085Z"
   },
   {
    "duration": 193,
    "start_time": "2022-05-23T19:20:05.811Z"
   },
   {
    "duration": 192,
    "start_time": "2022-05-23T19:20:47.316Z"
   },
   {
    "duration": 233,
    "start_time": "2022-05-23T19:22:22.654Z"
   },
   {
    "duration": 191,
    "start_time": "2022-05-23T19:22:53.790Z"
   },
   {
    "duration": 179,
    "start_time": "2022-05-23T19:25:52.657Z"
   },
   {
    "duration": 160,
    "start_time": "2022-05-23T19:25:58.490Z"
   },
   {
    "duration": 5,
    "start_time": "2022-05-23T19:26:07.455Z"
   },
   {
    "duration": 5,
    "start_time": "2022-05-23T19:26:13.451Z"
   },
   {
    "duration": 6,
    "start_time": "2022-05-23T19:26:14.112Z"
   },
   {
    "duration": 6,
    "start_time": "2022-05-23T19:26:46.289Z"
   },
   {
    "duration": 9,
    "start_time": "2022-05-23T19:26:47.082Z"
   },
   {
    "duration": 5,
    "start_time": "2022-05-23T19:26:49.320Z"
   },
   {
    "duration": 8,
    "start_time": "2022-05-23T19:26:50.472Z"
   },
   {
    "duration": 5,
    "start_time": "2022-05-23T19:27:01.620Z"
   },
   {
    "duration": 10,
    "start_time": "2022-05-23T19:27:02.670Z"
   },
   {
    "duration": 12,
    "start_time": "2022-05-23T19:27:15.118Z"
   },
   {
    "duration": 12,
    "start_time": "2022-05-23T19:27:50.390Z"
   },
   {
    "duration": 180,
    "start_time": "2022-05-23T19:29:56.754Z"
   },
   {
    "duration": 718,
    "start_time": "2022-05-23T19:35:21.584Z"
   },
   {
    "duration": 55,
    "start_time": "2022-05-23T19:37:58.706Z"
   },
   {
    "duration": 15,
    "start_time": "2022-05-23T19:38:08.768Z"
   },
   {
    "duration": 3,
    "start_time": "2022-05-23T19:38:35.708Z"
   },
   {
    "duration": 358,
    "start_time": "2022-05-23T19:38:44.217Z"
   },
   {
    "duration": 24,
    "start_time": "2022-05-23T19:52:28.032Z"
   },
   {
    "duration": 5,
    "start_time": "2022-05-23T19:52:29.811Z"
   },
   {
    "duration": 340,
    "start_time": "2022-05-23T19:54:13.980Z"
   },
   {
    "duration": 847,
    "start_time": "2022-05-23T19:56:04.732Z"
   },
   {
    "duration": 0,
    "start_time": "2022-05-23T19:56:05.584Z"
   },
   {
    "duration": 0,
    "start_time": "2022-05-23T19:56:05.585Z"
   },
   {
    "duration": 0,
    "start_time": "2022-05-23T19:56:05.586Z"
   },
   {
    "duration": 0,
    "start_time": "2022-05-23T19:56:05.587Z"
   },
   {
    "duration": 0,
    "start_time": "2022-05-23T19:56:05.588Z"
   },
   {
    "duration": 0,
    "start_time": "2022-05-23T19:56:05.589Z"
   },
   {
    "duration": 0,
    "start_time": "2022-05-23T19:56:05.590Z"
   },
   {
    "duration": 0,
    "start_time": "2022-05-23T19:56:05.591Z"
   },
   {
    "duration": 0,
    "start_time": "2022-05-23T19:56:05.593Z"
   },
   {
    "duration": 0,
    "start_time": "2022-05-23T19:56:05.594Z"
   },
   {
    "duration": 0,
    "start_time": "2022-05-23T19:56:05.594Z"
   },
   {
    "duration": 0,
    "start_time": "2022-05-23T19:56:05.595Z"
   },
   {
    "duration": 0,
    "start_time": "2022-05-23T19:56:05.596Z"
   },
   {
    "duration": 0,
    "start_time": "2022-05-23T19:56:05.597Z"
   },
   {
    "duration": 0,
    "start_time": "2022-05-23T19:56:05.598Z"
   },
   {
    "duration": 0,
    "start_time": "2022-05-23T19:56:05.599Z"
   },
   {
    "duration": 0,
    "start_time": "2022-05-23T19:56:05.600Z"
   },
   {
    "duration": 0,
    "start_time": "2022-05-23T19:56:05.602Z"
   },
   {
    "duration": 0,
    "start_time": "2022-05-23T19:56:05.603Z"
   },
   {
    "duration": 0,
    "start_time": "2022-05-23T19:56:05.605Z"
   },
   {
    "duration": 0,
    "start_time": "2022-05-23T19:56:05.607Z"
   },
   {
    "duration": 0,
    "start_time": "2022-05-23T19:56:05.608Z"
   },
   {
    "duration": 0,
    "start_time": "2022-05-23T19:56:05.609Z"
   },
   {
    "duration": 0,
    "start_time": "2022-05-23T19:56:05.610Z"
   },
   {
    "duration": 0,
    "start_time": "2022-05-23T19:56:05.612Z"
   },
   {
    "duration": 0,
    "start_time": "2022-05-23T19:56:05.613Z"
   },
   {
    "duration": 0,
    "start_time": "2022-05-23T19:56:05.615Z"
   },
   {
    "duration": 0,
    "start_time": "2022-05-23T19:56:05.616Z"
   },
   {
    "duration": 0,
    "start_time": "2022-05-23T19:56:05.617Z"
   },
   {
    "duration": 0,
    "start_time": "2022-05-23T19:56:05.619Z"
   },
   {
    "duration": 0,
    "start_time": "2022-05-23T19:56:05.620Z"
   },
   {
    "duration": 0,
    "start_time": "2022-05-23T19:56:05.670Z"
   },
   {
    "duration": 0,
    "start_time": "2022-05-23T19:56:05.671Z"
   },
   {
    "duration": 0,
    "start_time": "2022-05-23T19:56:05.672Z"
   },
   {
    "duration": 0,
    "start_time": "2022-05-23T19:56:05.673Z"
   },
   {
    "duration": 0,
    "start_time": "2022-05-23T19:56:05.673Z"
   },
   {
    "duration": 0,
    "start_time": "2022-05-23T19:56:05.675Z"
   },
   {
    "duration": 0,
    "start_time": "2022-05-23T19:56:05.676Z"
   },
   {
    "duration": 0,
    "start_time": "2022-05-23T19:56:05.676Z"
   },
   {
    "duration": 0,
    "start_time": "2022-05-23T19:56:05.677Z"
   },
   {
    "duration": 0,
    "start_time": "2022-05-23T19:56:05.681Z"
   },
   {
    "duration": 0,
    "start_time": "2022-05-23T19:56:05.682Z"
   },
   {
    "duration": 0,
    "start_time": "2022-05-23T19:56:05.683Z"
   },
   {
    "duration": 0,
    "start_time": "2022-05-23T19:56:05.684Z"
   },
   {
    "duration": 0,
    "start_time": "2022-05-23T19:56:05.685Z"
   },
   {
    "duration": 0,
    "start_time": "2022-05-23T19:56:05.686Z"
   },
   {
    "duration": 0,
    "start_time": "2022-05-23T19:56:05.687Z"
   },
   {
    "duration": 0,
    "start_time": "2022-05-23T19:56:05.688Z"
   },
   {
    "duration": 0,
    "start_time": "2022-05-23T19:56:05.689Z"
   },
   {
    "duration": 1,
    "start_time": "2022-05-23T19:56:05.690Z"
   },
   {
    "duration": 0,
    "start_time": "2022-05-23T19:56:05.692Z"
   },
   {
    "duration": 0,
    "start_time": "2022-05-23T19:56:05.693Z"
   },
   {
    "duration": 0,
    "start_time": "2022-05-23T19:56:05.695Z"
   },
   {
    "duration": 0,
    "start_time": "2022-05-23T19:56:05.696Z"
   },
   {
    "duration": 0,
    "start_time": "2022-05-23T19:56:05.697Z"
   },
   {
    "duration": 0,
    "start_time": "2022-05-23T19:56:05.698Z"
   },
   {
    "duration": 0,
    "start_time": "2022-05-23T19:56:05.699Z"
   },
   {
    "duration": 0,
    "start_time": "2022-05-23T19:56:05.700Z"
   },
   {
    "duration": 0,
    "start_time": "2022-05-23T19:56:05.701Z"
   },
   {
    "duration": 0,
    "start_time": "2022-05-23T19:56:05.702Z"
   },
   {
    "duration": 0,
    "start_time": "2022-05-23T19:56:05.704Z"
   },
   {
    "duration": 0,
    "start_time": "2022-05-23T19:56:05.704Z"
   },
   {
    "duration": 0,
    "start_time": "2022-05-23T19:56:05.705Z"
   },
   {
    "duration": 0,
    "start_time": "2022-05-23T19:56:05.765Z"
   },
   {
    "duration": 0,
    "start_time": "2022-05-23T19:56:05.773Z"
   },
   {
    "duration": 415,
    "start_time": "2022-05-23T19:56:16.803Z"
   },
   {
    "duration": 112,
    "start_time": "2022-05-23T19:56:18.762Z"
   },
   {
    "duration": 10,
    "start_time": "2022-05-23T19:56:20.161Z"
   },
   {
    "duration": 30,
    "start_time": "2022-05-23T19:56:20.559Z"
   },
   {
    "duration": 25,
    "start_time": "2022-05-23T19:56:21.195Z"
   },
   {
    "duration": 32,
    "start_time": "2022-05-23T19:56:21.558Z"
   },
   {
    "duration": 5,
    "start_time": "2022-05-23T19:56:21.893Z"
   },
   {
    "duration": 8,
    "start_time": "2022-05-23T19:56:22.216Z"
   },
   {
    "duration": 7,
    "start_time": "2022-05-23T19:56:22.730Z"
   },
   {
    "duration": 5,
    "start_time": "2022-05-23T19:56:23.061Z"
   },
   {
    "duration": 29,
    "start_time": "2022-05-23T19:56:23.397Z"
   },
   {
    "duration": 6,
    "start_time": "2022-05-23T19:56:23.674Z"
   },
   {
    "duration": 26,
    "start_time": "2022-05-23T19:56:23.821Z"
   },
   {
    "duration": 33,
    "start_time": "2022-05-23T19:56:24.164Z"
   },
   {
    "duration": 6,
    "start_time": "2022-05-23T19:56:24.425Z"
   },
   {
    "duration": 28,
    "start_time": "2022-05-23T19:56:24.758Z"
   },
   {
    "duration": 28,
    "start_time": "2022-05-23T19:56:25.069Z"
   },
   {
    "duration": 30,
    "start_time": "2022-05-23T19:56:25.664Z"
   },
   {
    "duration": 38,
    "start_time": "2022-05-23T19:56:26.021Z"
   },
   {
    "duration": 391,
    "start_time": "2022-05-23T19:56:26.565Z"
   },
   {
    "duration": 150,
    "start_time": "2022-05-23T19:56:27.200Z"
   },
   {
    "duration": 175,
    "start_time": "2022-05-23T19:56:27.635Z"
   },
   {
    "duration": 6,
    "start_time": "2022-05-23T19:56:28.029Z"
   },
   {
    "duration": 157,
    "start_time": "2022-05-23T19:56:28.209Z"
   },
   {
    "duration": 147,
    "start_time": "2022-05-23T19:56:28.593Z"
   },
   {
    "duration": 247,
    "start_time": "2022-05-23T19:56:28.930Z"
   },
   {
    "duration": 35,
    "start_time": "2022-05-23T19:56:29.367Z"
   },
   {
    "duration": 6,
    "start_time": "2022-05-23T19:56:29.747Z"
   },
   {
    "duration": 24,
    "start_time": "2022-05-23T19:56:29.931Z"
   },
   {
    "duration": 173,
    "start_time": "2022-05-23T19:56:30.261Z"
   },
   {
    "duration": 175,
    "start_time": "2022-05-23T19:56:30.619Z"
   },
   {
    "duration": 249,
    "start_time": "2022-05-23T19:56:31.096Z"
   },
   {
    "duration": 6,
    "start_time": "2022-05-23T19:56:31.571Z"
   },
   {
    "duration": 342,
    "start_time": "2022-05-23T19:56:32.053Z"
   },
   {
    "duration": 399,
    "start_time": "2022-05-23T19:56:32.651Z"
   },
   {
    "duration": 5,
    "start_time": "2022-05-23T19:56:33.103Z"
   },
   {
    "duration": 229,
    "start_time": "2022-05-23T19:56:33.535Z"
   },
   {
    "duration": 5,
    "start_time": "2022-05-23T19:56:33.767Z"
   },
   {
    "duration": 206,
    "start_time": "2022-05-23T19:56:33.958Z"
   },
   {
    "duration": 6,
    "start_time": "2022-05-23T19:56:34.174Z"
   },
   {
    "duration": 201,
    "start_time": "2022-05-23T19:56:34.395Z"
   },
   {
    "duration": 5,
    "start_time": "2022-05-23T19:56:34.609Z"
   },
   {
    "duration": 338,
    "start_time": "2022-05-23T19:56:35.047Z"
   },
   {
    "duration": 14,
    "start_time": "2022-05-23T19:56:35.495Z"
   },
   {
    "duration": 10,
    "start_time": "2022-05-23T19:56:35.935Z"
   },
   {
    "duration": 17,
    "start_time": "2022-05-23T19:56:36.361Z"
   },
   {
    "duration": 9,
    "start_time": "2022-05-23T19:56:36.885Z"
   },
   {
    "duration": 14,
    "start_time": "2022-05-23T19:56:37.323Z"
   },
   {
    "duration": 15,
    "start_time": "2022-05-23T19:56:37.780Z"
   },
   {
    "duration": 165,
    "start_time": "2022-05-23T19:56:38.247Z"
   },
   {
    "duration": 41,
    "start_time": "2022-05-23T19:56:38.730Z"
   },
   {
    "duration": 167,
    "start_time": "2022-05-23T19:56:39.199Z"
   },
   {
    "duration": 164,
    "start_time": "2022-05-23T19:56:39.684Z"
   },
   {
    "duration": 154,
    "start_time": "2022-05-23T19:56:40.155Z"
   },
   {
    "duration": 159,
    "start_time": "2022-05-23T19:56:40.651Z"
   },
   {
    "duration": 6,
    "start_time": "2022-05-23T19:56:41.151Z"
   },
   {
    "duration": 5,
    "start_time": "2022-05-23T19:56:41.395Z"
   },
   {
    "duration": 5,
    "start_time": "2022-05-23T19:56:41.854Z"
   },
   {
    "duration": 6,
    "start_time": "2022-05-23T19:56:42.097Z"
   },
   {
    "duration": 5,
    "start_time": "2022-05-23T19:56:42.792Z"
   },
   {
    "duration": 6,
    "start_time": "2022-05-23T19:56:43.008Z"
   },
   {
    "duration": 6,
    "start_time": "2022-05-23T19:56:43.511Z"
   },
   {
    "duration": 5,
    "start_time": "2022-05-23T19:56:43.765Z"
   },
   {
    "duration": 13,
    "start_time": "2022-05-23T19:56:44.250Z"
   },
   {
    "duration": 12,
    "start_time": "2022-05-23T19:56:44.723Z"
   },
   {
    "duration": 165,
    "start_time": "2022-05-23T19:56:44.977Z"
   }
  ],
  "kernelspec": {
   "display_name": "Python 3",
   "language": "python",
   "name": "python3"
  },
  "language_info": {
   "codemirror_mode": {
    "name": "ipython",
    "version": 3
   },
   "file_extension": ".py",
   "mimetype": "text/x-python",
   "name": "python",
   "nbconvert_exporter": "python",
   "pygments_lexer": "ipython3",
   "version": "3.7.10"
  },
  "toc": {
   "base_numbering": 1,
   "nav_menu": {},
   "number_sections": true,
   "sideBar": true,
   "skip_h1_title": true,
   "title_cell": "Содержание",
   "title_sidebar": "Contents",
   "toc_cell": true,
   "toc_position": {
    "height": "calc(100% - 180px)",
    "left": "10px",
    "top": "150px",
    "width": "165px"
   },
   "toc_section_display": true,
   "toc_window_display": true
  }
 },
 "nbformat": 4,
 "nbformat_minor": 2
}
