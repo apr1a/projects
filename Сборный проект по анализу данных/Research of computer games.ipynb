{
 "cells": [
  {
   "cell_type": "markdown",
   "metadata": {},
   "source": [
    "# Анализ компьютерных игр"
   ]
  },
  {
   "cell_type": "markdown",
   "metadata": {},
   "source": [
    "Из открытых источников доступны исторические данные о продажах игр, оценки пользователей и экспертов, жанры и платформы. Выявим определяющие успешность игры закономерности. \n",
    "Это позволит сделать ставку на потенциально популярный продукт и спланировать рекламные кампании.\n"
   ]
  },
  {
   "cell_type": "markdown",
   "metadata": {},
   "source": [
    "**План выполнения работы:**\n",
    "1. Открытие файла и изучение общей информации.\n",
    "2. Подготовка данных\n",
    "3. Исследовательский анализ данных.\n",
    "4. Составление портрета пользователя каждого региона\n",
    "5. Проверка гипотез\n",
    "6. Общий вывод"
   ]
  },
  {
   "cell_type": "markdown",
   "metadata": {},
   "source": [
    "# **1. Открытие файла и изучение общей информации**"
   ]
  },
  {
   "cell_type": "code",
   "execution_count": 1,
   "metadata": {},
   "outputs": [],
   "source": [
    "import pandas as pd\n",
    "import numpy as np\n",
    "import matplotlib.pyplot as plt\n",
    "import plotly.express as px\n",
    "import math\n",
    "import seaborn as sns\n",
    "from scipy import stats as st"
   ]
  },
  {
   "cell_type": "markdown",
   "metadata": {},
   "source": [
    "Открываем файл и изучаем таблицу."
   ]
  },
  {
   "cell_type": "code",
   "execution_count": 2,
   "metadata": {},
   "outputs": [
    {
     "data": {
      "text/html": [
       "<div>\n",
       "<style scoped>\n",
       "    .dataframe tbody tr th:only-of-type {\n",
       "        vertical-align: middle;\n",
       "    }\n",
       "\n",
       "    .dataframe tbody tr th {\n",
       "        vertical-align: top;\n",
       "    }\n",
       "\n",
       "    .dataframe thead th {\n",
       "        text-align: right;\n",
       "    }\n",
       "</style>\n",
       "<table border=\"1\" class=\"dataframe\">\n",
       "  <thead>\n",
       "    <tr style=\"text-align: right;\">\n",
       "      <th></th>\n",
       "      <th>Name</th>\n",
       "      <th>Platform</th>\n",
       "      <th>Year_of_Release</th>\n",
       "      <th>Genre</th>\n",
       "      <th>NA_sales</th>\n",
       "      <th>EU_sales</th>\n",
       "      <th>JP_sales</th>\n",
       "      <th>Other_sales</th>\n",
       "      <th>Critic_Score</th>\n",
       "      <th>User_Score</th>\n",
       "      <th>Rating</th>\n",
       "    </tr>\n",
       "  </thead>\n",
       "  <tbody>\n",
       "    <tr>\n",
       "      <th>0</th>\n",
       "      <td>Wii Sports</td>\n",
       "      <td>Wii</td>\n",
       "      <td>2006.0</td>\n",
       "      <td>Sports</td>\n",
       "      <td>41.36</td>\n",
       "      <td>28.96</td>\n",
       "      <td>3.77</td>\n",
       "      <td>8.45</td>\n",
       "      <td>76.0</td>\n",
       "      <td>8</td>\n",
       "      <td>E</td>\n",
       "    </tr>\n",
       "    <tr>\n",
       "      <th>1</th>\n",
       "      <td>Super Mario Bros.</td>\n",
       "      <td>NES</td>\n",
       "      <td>1985.0</td>\n",
       "      <td>Platform</td>\n",
       "      <td>29.08</td>\n",
       "      <td>3.58</td>\n",
       "      <td>6.81</td>\n",
       "      <td>0.77</td>\n",
       "      <td>NaN</td>\n",
       "      <td>NaN</td>\n",
       "      <td>NaN</td>\n",
       "    </tr>\n",
       "    <tr>\n",
       "      <th>2</th>\n",
       "      <td>Mario Kart Wii</td>\n",
       "      <td>Wii</td>\n",
       "      <td>2008.0</td>\n",
       "      <td>Racing</td>\n",
       "      <td>15.68</td>\n",
       "      <td>12.76</td>\n",
       "      <td>3.79</td>\n",
       "      <td>3.29</td>\n",
       "      <td>82.0</td>\n",
       "      <td>8.3</td>\n",
       "      <td>E</td>\n",
       "    </tr>\n",
       "    <tr>\n",
       "      <th>3</th>\n",
       "      <td>Wii Sports Resort</td>\n",
       "      <td>Wii</td>\n",
       "      <td>2009.0</td>\n",
       "      <td>Sports</td>\n",
       "      <td>15.61</td>\n",
       "      <td>10.93</td>\n",
       "      <td>3.28</td>\n",
       "      <td>2.95</td>\n",
       "      <td>80.0</td>\n",
       "      <td>8</td>\n",
       "      <td>E</td>\n",
       "    </tr>\n",
       "    <tr>\n",
       "      <th>4</th>\n",
       "      <td>Pokemon Red/Pokemon Blue</td>\n",
       "      <td>GB</td>\n",
       "      <td>1996.0</td>\n",
       "      <td>Role-Playing</td>\n",
       "      <td>11.27</td>\n",
       "      <td>8.89</td>\n",
       "      <td>10.22</td>\n",
       "      <td>1.00</td>\n",
       "      <td>NaN</td>\n",
       "      <td>NaN</td>\n",
       "      <td>NaN</td>\n",
       "    </tr>\n",
       "    <tr>\n",
       "      <th>5</th>\n",
       "      <td>Tetris</td>\n",
       "      <td>GB</td>\n",
       "      <td>1989.0</td>\n",
       "      <td>Puzzle</td>\n",
       "      <td>23.20</td>\n",
       "      <td>2.26</td>\n",
       "      <td>4.22</td>\n",
       "      <td>0.58</td>\n",
       "      <td>NaN</td>\n",
       "      <td>NaN</td>\n",
       "      <td>NaN</td>\n",
       "    </tr>\n",
       "    <tr>\n",
       "      <th>6</th>\n",
       "      <td>New Super Mario Bros.</td>\n",
       "      <td>DS</td>\n",
       "      <td>2006.0</td>\n",
       "      <td>Platform</td>\n",
       "      <td>11.28</td>\n",
       "      <td>9.14</td>\n",
       "      <td>6.50</td>\n",
       "      <td>2.88</td>\n",
       "      <td>89.0</td>\n",
       "      <td>8.5</td>\n",
       "      <td>E</td>\n",
       "    </tr>\n",
       "    <tr>\n",
       "      <th>7</th>\n",
       "      <td>Wii Play</td>\n",
       "      <td>Wii</td>\n",
       "      <td>2006.0</td>\n",
       "      <td>Misc</td>\n",
       "      <td>13.96</td>\n",
       "      <td>9.18</td>\n",
       "      <td>2.93</td>\n",
       "      <td>2.84</td>\n",
       "      <td>58.0</td>\n",
       "      <td>6.6</td>\n",
       "      <td>E</td>\n",
       "    </tr>\n",
       "    <tr>\n",
       "      <th>8</th>\n",
       "      <td>New Super Mario Bros. Wii</td>\n",
       "      <td>Wii</td>\n",
       "      <td>2009.0</td>\n",
       "      <td>Platform</td>\n",
       "      <td>14.44</td>\n",
       "      <td>6.94</td>\n",
       "      <td>4.70</td>\n",
       "      <td>2.24</td>\n",
       "      <td>87.0</td>\n",
       "      <td>8.4</td>\n",
       "      <td>E</td>\n",
       "    </tr>\n",
       "    <tr>\n",
       "      <th>9</th>\n",
       "      <td>Duck Hunt</td>\n",
       "      <td>NES</td>\n",
       "      <td>1984.0</td>\n",
       "      <td>Shooter</td>\n",
       "      <td>26.93</td>\n",
       "      <td>0.63</td>\n",
       "      <td>0.28</td>\n",
       "      <td>0.47</td>\n",
       "      <td>NaN</td>\n",
       "      <td>NaN</td>\n",
       "      <td>NaN</td>\n",
       "    </tr>\n",
       "  </tbody>\n",
       "</table>\n",
       "</div>"
      ],
      "text/plain": [
       "                        Name Platform  Year_of_Release         Genre  \\\n",
       "0                 Wii Sports      Wii           2006.0        Sports   \n",
       "1          Super Mario Bros.      NES           1985.0      Platform   \n",
       "2             Mario Kart Wii      Wii           2008.0        Racing   \n",
       "3          Wii Sports Resort      Wii           2009.0        Sports   \n",
       "4   Pokemon Red/Pokemon Blue       GB           1996.0  Role-Playing   \n",
       "5                     Tetris       GB           1989.0        Puzzle   \n",
       "6      New Super Mario Bros.       DS           2006.0      Platform   \n",
       "7                   Wii Play      Wii           2006.0          Misc   \n",
       "8  New Super Mario Bros. Wii      Wii           2009.0      Platform   \n",
       "9                  Duck Hunt      NES           1984.0       Shooter   \n",
       "\n",
       "   NA_sales  EU_sales  JP_sales  Other_sales  Critic_Score User_Score Rating  \n",
       "0     41.36     28.96      3.77         8.45          76.0          8      E  \n",
       "1     29.08      3.58      6.81         0.77           NaN        NaN    NaN  \n",
       "2     15.68     12.76      3.79         3.29          82.0        8.3      E  \n",
       "3     15.61     10.93      3.28         2.95          80.0          8      E  \n",
       "4     11.27      8.89     10.22         1.00           NaN        NaN    NaN  \n",
       "5     23.20      2.26      4.22         0.58           NaN        NaN    NaN  \n",
       "6     11.28      9.14      6.50         2.88          89.0        8.5      E  \n",
       "7     13.96      9.18      2.93         2.84          58.0        6.6      E  \n",
       "8     14.44      6.94      4.70         2.24          87.0        8.4      E  \n",
       "9     26.93      0.63      0.28         0.47           NaN        NaN    NaN  "
      ]
     },
     "execution_count": 2,
     "metadata": {},
     "output_type": "execute_result"
    }
   ],
   "source": [
    "data_games = pd.read_csv('/datasets/games.csv')\n",
    "data_games.head(10)"
   ]
  },
  {
   "cell_type": "markdown",
   "metadata": {},
   "source": [
    "Изучаем общую информацию по предоставленным данным."
   ]
  },
  {
   "cell_type": "code",
   "execution_count": 3,
   "metadata": {},
   "outputs": [
    {
     "name": "stdout",
     "output_type": "stream",
     "text": [
      "<class 'pandas.core.frame.DataFrame'>\n",
      "RangeIndex: 16715 entries, 0 to 16714\n",
      "Data columns (total 11 columns):\n",
      " #   Column           Non-Null Count  Dtype  \n",
      "---  ------           --------------  -----  \n",
      " 0   Name             16713 non-null  object \n",
      " 1   Platform         16715 non-null  object \n",
      " 2   Year_of_Release  16446 non-null  float64\n",
      " 3   Genre            16713 non-null  object \n",
      " 4   NA_sales         16715 non-null  float64\n",
      " 5   EU_sales         16715 non-null  float64\n",
      " 6   JP_sales         16715 non-null  float64\n",
      " 7   Other_sales      16715 non-null  float64\n",
      " 8   Critic_Score     8137 non-null   float64\n",
      " 9   User_Score       10014 non-null  object \n",
      " 10  Rating           9949 non-null   object \n",
      "dtypes: float64(6), object(5)\n",
      "memory usage: 1.4+ MB\n"
     ]
    }
   ],
   "source": [
    "data_games.info()"
   ]
  },
  {
   "cell_type": "markdown",
   "metadata": {},
   "source": [
    "Обращаем внимание на тип данных object в столбце User_Score. В предобработке будем с этим разбираться."
   ]
  },
  {
   "cell_type": "markdown",
   "metadata": {},
   "source": [
    "Проверяем данные на наличие дубликатов."
   ]
  },
  {
   "cell_type": "code",
   "execution_count": 4,
   "metadata": {},
   "outputs": [
    {
     "data": {
      "text/plain": [
       "0"
      ]
     },
     "execution_count": 4,
     "metadata": {},
     "output_type": "execute_result"
    }
   ],
   "source": [
    "data_games.duplicated().sum()"
   ]
  },
  {
   "cell_type": "markdown",
   "metadata": {},
   "source": [
    "Проверяем количество пропусков."
   ]
  },
  {
   "cell_type": "code",
   "execution_count": 5,
   "metadata": {},
   "outputs": [
    {
     "data": {
      "text/plain": [
       "Name                  2\n",
       "Platform              0\n",
       "Year_of_Release     269\n",
       "Genre                 2\n",
       "NA_sales              0\n",
       "EU_sales              0\n",
       "JP_sales              0\n",
       "Other_sales           0\n",
       "Critic_Score       8578\n",
       "User_Score         6701\n",
       "Rating             6766\n",
       "dtype: int64"
      ]
     },
     "execution_count": 5,
     "metadata": {},
     "output_type": "execute_result"
    }
   ],
   "source": [
    "data_games.isnull().sum()"
   ]
  },
  {
   "cell_type": "markdown",
   "metadata": {},
   "source": [
    "**Вывод:**\n",
    "1. Данные изучены\n",
    "2. Дубликаты не обнаружены\n",
    "3. Необходимы замены типов данных в столбцах Year_of_Release (float на int) и в User_Score (object на float)\n",
    "4. Названия столбцов для удобства работы необходимо привести к нижнему регистру\n",
    "5. Требуется анализ и работа с пропусками"
   ]
  },
  {
   "cell_type": "markdown",
   "metadata": {},
   "source": [
    "# 2. Подготовка данных"
   ]
  },
  {
   "cell_type": "markdown",
   "metadata": {},
   "source": [
    "Приведём названия столбцов к нижнему регистру."
   ]
  },
  {
   "cell_type": "code",
   "execution_count": 6,
   "metadata": {
    "scrolled": true
   },
   "outputs": [
    {
     "data": {
      "text/html": [
       "<div>\n",
       "<style scoped>\n",
       "    .dataframe tbody tr th:only-of-type {\n",
       "        vertical-align: middle;\n",
       "    }\n",
       "\n",
       "    .dataframe tbody tr th {\n",
       "        vertical-align: top;\n",
       "    }\n",
       "\n",
       "    .dataframe thead th {\n",
       "        text-align: right;\n",
       "    }\n",
       "</style>\n",
       "<table border=\"1\" class=\"dataframe\">\n",
       "  <thead>\n",
       "    <tr style=\"text-align: right;\">\n",
       "      <th></th>\n",
       "      <th>name</th>\n",
       "      <th>platform</th>\n",
       "      <th>year_of_release</th>\n",
       "      <th>genre</th>\n",
       "      <th>na_sales</th>\n",
       "      <th>eu_sales</th>\n",
       "      <th>jp_sales</th>\n",
       "      <th>other_sales</th>\n",
       "      <th>critic_score</th>\n",
       "      <th>user_score</th>\n",
       "      <th>rating</th>\n",
       "    </tr>\n",
       "  </thead>\n",
       "  <tbody>\n",
       "    <tr>\n",
       "      <th>0</th>\n",
       "      <td>Wii Sports</td>\n",
       "      <td>Wii</td>\n",
       "      <td>2006.0</td>\n",
       "      <td>Sports</td>\n",
       "      <td>41.36</td>\n",
       "      <td>28.96</td>\n",
       "      <td>3.77</td>\n",
       "      <td>8.45</td>\n",
       "      <td>76.0</td>\n",
       "      <td>8</td>\n",
       "      <td>E</td>\n",
       "    </tr>\n",
       "    <tr>\n",
       "      <th>1</th>\n",
       "      <td>Super Mario Bros.</td>\n",
       "      <td>NES</td>\n",
       "      <td>1985.0</td>\n",
       "      <td>Platform</td>\n",
       "      <td>29.08</td>\n",
       "      <td>3.58</td>\n",
       "      <td>6.81</td>\n",
       "      <td>0.77</td>\n",
       "      <td>NaN</td>\n",
       "      <td>NaN</td>\n",
       "      <td>NaN</td>\n",
       "    </tr>\n",
       "    <tr>\n",
       "      <th>2</th>\n",
       "      <td>Mario Kart Wii</td>\n",
       "      <td>Wii</td>\n",
       "      <td>2008.0</td>\n",
       "      <td>Racing</td>\n",
       "      <td>15.68</td>\n",
       "      <td>12.76</td>\n",
       "      <td>3.79</td>\n",
       "      <td>3.29</td>\n",
       "      <td>82.0</td>\n",
       "      <td>8.3</td>\n",
       "      <td>E</td>\n",
       "    </tr>\n",
       "    <tr>\n",
       "      <th>3</th>\n",
       "      <td>Wii Sports Resort</td>\n",
       "      <td>Wii</td>\n",
       "      <td>2009.0</td>\n",
       "      <td>Sports</td>\n",
       "      <td>15.61</td>\n",
       "      <td>10.93</td>\n",
       "      <td>3.28</td>\n",
       "      <td>2.95</td>\n",
       "      <td>80.0</td>\n",
       "      <td>8</td>\n",
       "      <td>E</td>\n",
       "    </tr>\n",
       "    <tr>\n",
       "      <th>4</th>\n",
       "      <td>Pokemon Red/Pokemon Blue</td>\n",
       "      <td>GB</td>\n",
       "      <td>1996.0</td>\n",
       "      <td>Role-Playing</td>\n",
       "      <td>11.27</td>\n",
       "      <td>8.89</td>\n",
       "      <td>10.22</td>\n",
       "      <td>1.00</td>\n",
       "      <td>NaN</td>\n",
       "      <td>NaN</td>\n",
       "      <td>NaN</td>\n",
       "    </tr>\n",
       "    <tr>\n",
       "      <th>5</th>\n",
       "      <td>Tetris</td>\n",
       "      <td>GB</td>\n",
       "      <td>1989.0</td>\n",
       "      <td>Puzzle</td>\n",
       "      <td>23.20</td>\n",
       "      <td>2.26</td>\n",
       "      <td>4.22</td>\n",
       "      <td>0.58</td>\n",
       "      <td>NaN</td>\n",
       "      <td>NaN</td>\n",
       "      <td>NaN</td>\n",
       "    </tr>\n",
       "    <tr>\n",
       "      <th>6</th>\n",
       "      <td>New Super Mario Bros.</td>\n",
       "      <td>DS</td>\n",
       "      <td>2006.0</td>\n",
       "      <td>Platform</td>\n",
       "      <td>11.28</td>\n",
       "      <td>9.14</td>\n",
       "      <td>6.50</td>\n",
       "      <td>2.88</td>\n",
       "      <td>89.0</td>\n",
       "      <td>8.5</td>\n",
       "      <td>E</td>\n",
       "    </tr>\n",
       "    <tr>\n",
       "      <th>7</th>\n",
       "      <td>Wii Play</td>\n",
       "      <td>Wii</td>\n",
       "      <td>2006.0</td>\n",
       "      <td>Misc</td>\n",
       "      <td>13.96</td>\n",
       "      <td>9.18</td>\n",
       "      <td>2.93</td>\n",
       "      <td>2.84</td>\n",
       "      <td>58.0</td>\n",
       "      <td>6.6</td>\n",
       "      <td>E</td>\n",
       "    </tr>\n",
       "    <tr>\n",
       "      <th>8</th>\n",
       "      <td>New Super Mario Bros. Wii</td>\n",
       "      <td>Wii</td>\n",
       "      <td>2009.0</td>\n",
       "      <td>Platform</td>\n",
       "      <td>14.44</td>\n",
       "      <td>6.94</td>\n",
       "      <td>4.70</td>\n",
       "      <td>2.24</td>\n",
       "      <td>87.0</td>\n",
       "      <td>8.4</td>\n",
       "      <td>E</td>\n",
       "    </tr>\n",
       "    <tr>\n",
       "      <th>9</th>\n",
       "      <td>Duck Hunt</td>\n",
       "      <td>NES</td>\n",
       "      <td>1984.0</td>\n",
       "      <td>Shooter</td>\n",
       "      <td>26.93</td>\n",
       "      <td>0.63</td>\n",
       "      <td>0.28</td>\n",
       "      <td>0.47</td>\n",
       "      <td>NaN</td>\n",
       "      <td>NaN</td>\n",
       "      <td>NaN</td>\n",
       "    </tr>\n",
       "    <tr>\n",
       "      <th>10</th>\n",
       "      <td>Nintendogs</td>\n",
       "      <td>DS</td>\n",
       "      <td>2005.0</td>\n",
       "      <td>Simulation</td>\n",
       "      <td>9.05</td>\n",
       "      <td>10.95</td>\n",
       "      <td>1.93</td>\n",
       "      <td>2.74</td>\n",
       "      <td>NaN</td>\n",
       "      <td>NaN</td>\n",
       "      <td>NaN</td>\n",
       "    </tr>\n",
       "    <tr>\n",
       "      <th>11</th>\n",
       "      <td>Mario Kart DS</td>\n",
       "      <td>DS</td>\n",
       "      <td>2005.0</td>\n",
       "      <td>Racing</td>\n",
       "      <td>9.71</td>\n",
       "      <td>7.47</td>\n",
       "      <td>4.13</td>\n",
       "      <td>1.90</td>\n",
       "      <td>91.0</td>\n",
       "      <td>8.6</td>\n",
       "      <td>E</td>\n",
       "    </tr>\n",
       "    <tr>\n",
       "      <th>12</th>\n",
       "      <td>Pokemon Gold/Pokemon Silver</td>\n",
       "      <td>GB</td>\n",
       "      <td>1999.0</td>\n",
       "      <td>Role-Playing</td>\n",
       "      <td>9.00</td>\n",
       "      <td>6.18</td>\n",
       "      <td>7.20</td>\n",
       "      <td>0.71</td>\n",
       "      <td>NaN</td>\n",
       "      <td>NaN</td>\n",
       "      <td>NaN</td>\n",
       "    </tr>\n",
       "    <tr>\n",
       "      <th>13</th>\n",
       "      <td>Wii Fit</td>\n",
       "      <td>Wii</td>\n",
       "      <td>2007.0</td>\n",
       "      <td>Sports</td>\n",
       "      <td>8.92</td>\n",
       "      <td>8.03</td>\n",
       "      <td>3.60</td>\n",
       "      <td>2.15</td>\n",
       "      <td>80.0</td>\n",
       "      <td>7.7</td>\n",
       "      <td>E</td>\n",
       "    </tr>\n",
       "    <tr>\n",
       "      <th>14</th>\n",
       "      <td>Kinect Adventures!</td>\n",
       "      <td>X360</td>\n",
       "      <td>2010.0</td>\n",
       "      <td>Misc</td>\n",
       "      <td>15.00</td>\n",
       "      <td>4.89</td>\n",
       "      <td>0.24</td>\n",
       "      <td>1.69</td>\n",
       "      <td>61.0</td>\n",
       "      <td>6.3</td>\n",
       "      <td>E</td>\n",
       "    </tr>\n",
       "    <tr>\n",
       "      <th>15</th>\n",
       "      <td>Wii Fit Plus</td>\n",
       "      <td>Wii</td>\n",
       "      <td>2009.0</td>\n",
       "      <td>Sports</td>\n",
       "      <td>9.01</td>\n",
       "      <td>8.49</td>\n",
       "      <td>2.53</td>\n",
       "      <td>1.77</td>\n",
       "      <td>80.0</td>\n",
       "      <td>7.4</td>\n",
       "      <td>E</td>\n",
       "    </tr>\n",
       "    <tr>\n",
       "      <th>16</th>\n",
       "      <td>Grand Theft Auto V</td>\n",
       "      <td>PS3</td>\n",
       "      <td>2013.0</td>\n",
       "      <td>Action</td>\n",
       "      <td>7.02</td>\n",
       "      <td>9.09</td>\n",
       "      <td>0.98</td>\n",
       "      <td>3.96</td>\n",
       "      <td>97.0</td>\n",
       "      <td>8.2</td>\n",
       "      <td>M</td>\n",
       "    </tr>\n",
       "    <tr>\n",
       "      <th>17</th>\n",
       "      <td>Grand Theft Auto: San Andreas</td>\n",
       "      <td>PS2</td>\n",
       "      <td>2004.0</td>\n",
       "      <td>Action</td>\n",
       "      <td>9.43</td>\n",
       "      <td>0.40</td>\n",
       "      <td>0.41</td>\n",
       "      <td>10.57</td>\n",
       "      <td>95.0</td>\n",
       "      <td>9</td>\n",
       "      <td>M</td>\n",
       "    </tr>\n",
       "    <tr>\n",
       "      <th>18</th>\n",
       "      <td>Super Mario World</td>\n",
       "      <td>SNES</td>\n",
       "      <td>1990.0</td>\n",
       "      <td>Platform</td>\n",
       "      <td>12.78</td>\n",
       "      <td>3.75</td>\n",
       "      <td>3.54</td>\n",
       "      <td>0.55</td>\n",
       "      <td>NaN</td>\n",
       "      <td>NaN</td>\n",
       "      <td>NaN</td>\n",
       "    </tr>\n",
       "    <tr>\n",
       "      <th>19</th>\n",
       "      <td>Brain Age: Train Your Brain in Minutes a Day</td>\n",
       "      <td>DS</td>\n",
       "      <td>2005.0</td>\n",
       "      <td>Misc</td>\n",
       "      <td>4.74</td>\n",
       "      <td>9.20</td>\n",
       "      <td>4.16</td>\n",
       "      <td>2.04</td>\n",
       "      <td>77.0</td>\n",
       "      <td>7.9</td>\n",
       "      <td>E</td>\n",
       "    </tr>\n",
       "    <tr>\n",
       "      <th>20</th>\n",
       "      <td>Pokemon Diamond/Pokemon Pearl</td>\n",
       "      <td>DS</td>\n",
       "      <td>2006.0</td>\n",
       "      <td>Role-Playing</td>\n",
       "      <td>6.38</td>\n",
       "      <td>4.46</td>\n",
       "      <td>6.04</td>\n",
       "      <td>1.36</td>\n",
       "      <td>NaN</td>\n",
       "      <td>NaN</td>\n",
       "      <td>NaN</td>\n",
       "    </tr>\n",
       "    <tr>\n",
       "      <th>21</th>\n",
       "      <td>Super Mario Land</td>\n",
       "      <td>GB</td>\n",
       "      <td>1989.0</td>\n",
       "      <td>Platform</td>\n",
       "      <td>10.83</td>\n",
       "      <td>2.71</td>\n",
       "      <td>4.18</td>\n",
       "      <td>0.42</td>\n",
       "      <td>NaN</td>\n",
       "      <td>NaN</td>\n",
       "      <td>NaN</td>\n",
       "    </tr>\n",
       "    <tr>\n",
       "      <th>22</th>\n",
       "      <td>Super Mario Bros. 3</td>\n",
       "      <td>NES</td>\n",
       "      <td>1988.0</td>\n",
       "      <td>Platform</td>\n",
       "      <td>9.54</td>\n",
       "      <td>3.44</td>\n",
       "      <td>3.84</td>\n",
       "      <td>0.46</td>\n",
       "      <td>NaN</td>\n",
       "      <td>NaN</td>\n",
       "      <td>NaN</td>\n",
       "    </tr>\n",
       "    <tr>\n",
       "      <th>23</th>\n",
       "      <td>Grand Theft Auto V</td>\n",
       "      <td>X360</td>\n",
       "      <td>2013.0</td>\n",
       "      <td>Action</td>\n",
       "      <td>9.66</td>\n",
       "      <td>5.14</td>\n",
       "      <td>0.06</td>\n",
       "      <td>1.41</td>\n",
       "      <td>97.0</td>\n",
       "      <td>8.1</td>\n",
       "      <td>M</td>\n",
       "    </tr>\n",
       "    <tr>\n",
       "      <th>24</th>\n",
       "      <td>Grand Theft Auto: Vice City</td>\n",
       "      <td>PS2</td>\n",
       "      <td>2002.0</td>\n",
       "      <td>Action</td>\n",
       "      <td>8.41</td>\n",
       "      <td>5.49</td>\n",
       "      <td>0.47</td>\n",
       "      <td>1.78</td>\n",
       "      <td>95.0</td>\n",
       "      <td>8.7</td>\n",
       "      <td>M</td>\n",
       "    </tr>\n",
       "    <tr>\n",
       "      <th>25</th>\n",
       "      <td>Pokemon Ruby/Pokemon Sapphire</td>\n",
       "      <td>GBA</td>\n",
       "      <td>2002.0</td>\n",
       "      <td>Role-Playing</td>\n",
       "      <td>6.06</td>\n",
       "      <td>3.90</td>\n",
       "      <td>5.38</td>\n",
       "      <td>0.50</td>\n",
       "      <td>NaN</td>\n",
       "      <td>NaN</td>\n",
       "      <td>NaN</td>\n",
       "    </tr>\n",
       "    <tr>\n",
       "      <th>26</th>\n",
       "      <td>Brain Age 2: More Training in Minutes a Day</td>\n",
       "      <td>DS</td>\n",
       "      <td>2005.0</td>\n",
       "      <td>Puzzle</td>\n",
       "      <td>3.43</td>\n",
       "      <td>5.35</td>\n",
       "      <td>5.32</td>\n",
       "      <td>1.18</td>\n",
       "      <td>77.0</td>\n",
       "      <td>7.1</td>\n",
       "      <td>E</td>\n",
       "    </tr>\n",
       "    <tr>\n",
       "      <th>27</th>\n",
       "      <td>Pokemon Black/Pokemon White</td>\n",
       "      <td>DS</td>\n",
       "      <td>2010.0</td>\n",
       "      <td>Role-Playing</td>\n",
       "      <td>5.51</td>\n",
       "      <td>3.17</td>\n",
       "      <td>5.65</td>\n",
       "      <td>0.80</td>\n",
       "      <td>NaN</td>\n",
       "      <td>NaN</td>\n",
       "      <td>NaN</td>\n",
       "    </tr>\n",
       "    <tr>\n",
       "      <th>28</th>\n",
       "      <td>Gran Turismo 3: A-Spec</td>\n",
       "      <td>PS2</td>\n",
       "      <td>2001.0</td>\n",
       "      <td>Racing</td>\n",
       "      <td>6.85</td>\n",
       "      <td>5.09</td>\n",
       "      <td>1.87</td>\n",
       "      <td>1.16</td>\n",
       "      <td>95.0</td>\n",
       "      <td>8.4</td>\n",
       "      <td>E</td>\n",
       "    </tr>\n",
       "    <tr>\n",
       "      <th>29</th>\n",
       "      <td>Call of Duty: Modern Warfare 3</td>\n",
       "      <td>X360</td>\n",
       "      <td>2011.0</td>\n",
       "      <td>Shooter</td>\n",
       "      <td>9.04</td>\n",
       "      <td>4.24</td>\n",
       "      <td>0.13</td>\n",
       "      <td>1.32</td>\n",
       "      <td>88.0</td>\n",
       "      <td>3.4</td>\n",
       "      <td>M</td>\n",
       "    </tr>\n",
       "  </tbody>\n",
       "</table>\n",
       "</div>"
      ],
      "text/plain": [
       "                                            name platform  year_of_release  \\\n",
       "0                                     Wii Sports      Wii           2006.0   \n",
       "1                              Super Mario Bros.      NES           1985.0   \n",
       "2                                 Mario Kart Wii      Wii           2008.0   \n",
       "3                              Wii Sports Resort      Wii           2009.0   \n",
       "4                       Pokemon Red/Pokemon Blue       GB           1996.0   \n",
       "5                                         Tetris       GB           1989.0   \n",
       "6                          New Super Mario Bros.       DS           2006.0   \n",
       "7                                       Wii Play      Wii           2006.0   \n",
       "8                      New Super Mario Bros. Wii      Wii           2009.0   \n",
       "9                                      Duck Hunt      NES           1984.0   \n",
       "10                                    Nintendogs       DS           2005.0   \n",
       "11                                 Mario Kart DS       DS           2005.0   \n",
       "12                   Pokemon Gold/Pokemon Silver       GB           1999.0   \n",
       "13                                       Wii Fit      Wii           2007.0   \n",
       "14                            Kinect Adventures!     X360           2010.0   \n",
       "15                                  Wii Fit Plus      Wii           2009.0   \n",
       "16                            Grand Theft Auto V      PS3           2013.0   \n",
       "17                 Grand Theft Auto: San Andreas      PS2           2004.0   \n",
       "18                             Super Mario World     SNES           1990.0   \n",
       "19  Brain Age: Train Your Brain in Minutes a Day       DS           2005.0   \n",
       "20                 Pokemon Diamond/Pokemon Pearl       DS           2006.0   \n",
       "21                              Super Mario Land       GB           1989.0   \n",
       "22                           Super Mario Bros. 3      NES           1988.0   \n",
       "23                            Grand Theft Auto V     X360           2013.0   \n",
       "24                   Grand Theft Auto: Vice City      PS2           2002.0   \n",
       "25                 Pokemon Ruby/Pokemon Sapphire      GBA           2002.0   \n",
       "26   Brain Age 2: More Training in Minutes a Day       DS           2005.0   \n",
       "27                   Pokemon Black/Pokemon White       DS           2010.0   \n",
       "28                        Gran Turismo 3: A-Spec      PS2           2001.0   \n",
       "29                Call of Duty: Modern Warfare 3     X360           2011.0   \n",
       "\n",
       "           genre  na_sales  eu_sales  jp_sales  other_sales  critic_score  \\\n",
       "0         Sports     41.36     28.96      3.77         8.45          76.0   \n",
       "1       Platform     29.08      3.58      6.81         0.77           NaN   \n",
       "2         Racing     15.68     12.76      3.79         3.29          82.0   \n",
       "3         Sports     15.61     10.93      3.28         2.95          80.0   \n",
       "4   Role-Playing     11.27      8.89     10.22         1.00           NaN   \n",
       "5         Puzzle     23.20      2.26      4.22         0.58           NaN   \n",
       "6       Platform     11.28      9.14      6.50         2.88          89.0   \n",
       "7           Misc     13.96      9.18      2.93         2.84          58.0   \n",
       "8       Platform     14.44      6.94      4.70         2.24          87.0   \n",
       "9        Shooter     26.93      0.63      0.28         0.47           NaN   \n",
       "10    Simulation      9.05     10.95      1.93         2.74           NaN   \n",
       "11        Racing      9.71      7.47      4.13         1.90          91.0   \n",
       "12  Role-Playing      9.00      6.18      7.20         0.71           NaN   \n",
       "13        Sports      8.92      8.03      3.60         2.15          80.0   \n",
       "14          Misc     15.00      4.89      0.24         1.69          61.0   \n",
       "15        Sports      9.01      8.49      2.53         1.77          80.0   \n",
       "16        Action      7.02      9.09      0.98         3.96          97.0   \n",
       "17        Action      9.43      0.40      0.41        10.57          95.0   \n",
       "18      Platform     12.78      3.75      3.54         0.55           NaN   \n",
       "19          Misc      4.74      9.20      4.16         2.04          77.0   \n",
       "20  Role-Playing      6.38      4.46      6.04         1.36           NaN   \n",
       "21      Platform     10.83      2.71      4.18         0.42           NaN   \n",
       "22      Platform      9.54      3.44      3.84         0.46           NaN   \n",
       "23        Action      9.66      5.14      0.06         1.41          97.0   \n",
       "24        Action      8.41      5.49      0.47         1.78          95.0   \n",
       "25  Role-Playing      6.06      3.90      5.38         0.50           NaN   \n",
       "26        Puzzle      3.43      5.35      5.32         1.18          77.0   \n",
       "27  Role-Playing      5.51      3.17      5.65         0.80           NaN   \n",
       "28        Racing      6.85      5.09      1.87         1.16          95.0   \n",
       "29       Shooter      9.04      4.24      0.13         1.32          88.0   \n",
       "\n",
       "   user_score rating  \n",
       "0           8      E  \n",
       "1         NaN    NaN  \n",
       "2         8.3      E  \n",
       "3           8      E  \n",
       "4         NaN    NaN  \n",
       "5         NaN    NaN  \n",
       "6         8.5      E  \n",
       "7         6.6      E  \n",
       "8         8.4      E  \n",
       "9         NaN    NaN  \n",
       "10        NaN    NaN  \n",
       "11        8.6      E  \n",
       "12        NaN    NaN  \n",
       "13        7.7      E  \n",
       "14        6.3      E  \n",
       "15        7.4      E  \n",
       "16        8.2      M  \n",
       "17          9      M  \n",
       "18        NaN    NaN  \n",
       "19        7.9      E  \n",
       "20        NaN    NaN  \n",
       "21        NaN    NaN  \n",
       "22        NaN    NaN  \n",
       "23        8.1      M  \n",
       "24        8.7      M  \n",
       "25        NaN    NaN  \n",
       "26        7.1      E  \n",
       "27        NaN    NaN  \n",
       "28        8.4      E  \n",
       "29        3.4      M  "
      ]
     },
     "execution_count": 6,
     "metadata": {},
     "output_type": "execute_result"
    }
   ],
   "source": [
    "data_games.columns = map(str.lower, data_games.columns)\n",
    "data_games.head(30)"
   ]
  },
  {
   "cell_type": "markdown",
   "metadata": {},
   "source": [
    "Проверим пропуски в столбце year_of_release"
   ]
  },
  {
   "cell_type": "code",
   "execution_count": 7,
   "metadata": {},
   "outputs": [
    {
     "data": {
      "text/plain": [
       "269"
      ]
     },
     "execution_count": 7,
     "metadata": {},
     "output_type": "execute_result"
    }
   ],
   "source": [
    "data_games['year_of_release'].isna().sum()"
   ]
  },
  {
   "cell_type": "markdown",
   "metadata": {},
   "source": [
    "Учитывая, что в таблице 16715 значений, эта цифра сравнительно мала. Полагаем, что эти строки можно удалить без потери ценной информации, и это не повлияет на дальнейший ход исследования."
   ]
  },
  {
   "cell_type": "code",
   "execution_count": 8,
   "metadata": {},
   "outputs": [
    {
     "data": {
      "text/plain": [
       "0"
      ]
     },
     "execution_count": 8,
     "metadata": {},
     "output_type": "execute_result"
    }
   ],
   "source": [
    "data_games = data_games.dropna(subset = ['year_of_release'])\n",
    "data_games['year_of_release'].isna().sum()"
   ]
  },
  {
   "cell_type": "markdown",
   "metadata": {},
   "source": [
    "Пропущенные значения ликвидированы, теперь можно привести столбец к целочисленному типу."
   ]
  },
  {
   "cell_type": "code",
   "execution_count": 9,
   "metadata": {},
   "outputs": [
    {
     "data": {
      "text/html": [
       "<div>\n",
       "<style scoped>\n",
       "    .dataframe tbody tr th:only-of-type {\n",
       "        vertical-align: middle;\n",
       "    }\n",
       "\n",
       "    .dataframe tbody tr th {\n",
       "        vertical-align: top;\n",
       "    }\n",
       "\n",
       "    .dataframe thead th {\n",
       "        text-align: right;\n",
       "    }\n",
       "</style>\n",
       "<table border=\"1\" class=\"dataframe\">\n",
       "  <thead>\n",
       "    <tr style=\"text-align: right;\">\n",
       "      <th></th>\n",
       "      <th>name</th>\n",
       "      <th>platform</th>\n",
       "      <th>year_of_release</th>\n",
       "      <th>genre</th>\n",
       "      <th>na_sales</th>\n",
       "      <th>eu_sales</th>\n",
       "      <th>jp_sales</th>\n",
       "      <th>other_sales</th>\n",
       "      <th>critic_score</th>\n",
       "      <th>user_score</th>\n",
       "      <th>rating</th>\n",
       "    </tr>\n",
       "  </thead>\n",
       "  <tbody>\n",
       "    <tr>\n",
       "      <th>0</th>\n",
       "      <td>Wii Sports</td>\n",
       "      <td>Wii</td>\n",
       "      <td>2006</td>\n",
       "      <td>Sports</td>\n",
       "      <td>41.36</td>\n",
       "      <td>28.96</td>\n",
       "      <td>3.77</td>\n",
       "      <td>8.45</td>\n",
       "      <td>76.0</td>\n",
       "      <td>8</td>\n",
       "      <td>E</td>\n",
       "    </tr>\n",
       "    <tr>\n",
       "      <th>1</th>\n",
       "      <td>Super Mario Bros.</td>\n",
       "      <td>NES</td>\n",
       "      <td>1985</td>\n",
       "      <td>Platform</td>\n",
       "      <td>29.08</td>\n",
       "      <td>3.58</td>\n",
       "      <td>6.81</td>\n",
       "      <td>0.77</td>\n",
       "      <td>NaN</td>\n",
       "      <td>NaN</td>\n",
       "      <td>NaN</td>\n",
       "    </tr>\n",
       "    <tr>\n",
       "      <th>2</th>\n",
       "      <td>Mario Kart Wii</td>\n",
       "      <td>Wii</td>\n",
       "      <td>2008</td>\n",
       "      <td>Racing</td>\n",
       "      <td>15.68</td>\n",
       "      <td>12.76</td>\n",
       "      <td>3.79</td>\n",
       "      <td>3.29</td>\n",
       "      <td>82.0</td>\n",
       "      <td>8.3</td>\n",
       "      <td>E</td>\n",
       "    </tr>\n",
       "    <tr>\n",
       "      <th>3</th>\n",
       "      <td>Wii Sports Resort</td>\n",
       "      <td>Wii</td>\n",
       "      <td>2009</td>\n",
       "      <td>Sports</td>\n",
       "      <td>15.61</td>\n",
       "      <td>10.93</td>\n",
       "      <td>3.28</td>\n",
       "      <td>2.95</td>\n",
       "      <td>80.0</td>\n",
       "      <td>8</td>\n",
       "      <td>E</td>\n",
       "    </tr>\n",
       "    <tr>\n",
       "      <th>4</th>\n",
       "      <td>Pokemon Red/Pokemon Blue</td>\n",
       "      <td>GB</td>\n",
       "      <td>1996</td>\n",
       "      <td>Role-Playing</td>\n",
       "      <td>11.27</td>\n",
       "      <td>8.89</td>\n",
       "      <td>10.22</td>\n",
       "      <td>1.00</td>\n",
       "      <td>NaN</td>\n",
       "      <td>NaN</td>\n",
       "      <td>NaN</td>\n",
       "    </tr>\n",
       "  </tbody>\n",
       "</table>\n",
       "</div>"
      ],
      "text/plain": [
       "                       name platform  year_of_release         genre  na_sales  \\\n",
       "0                Wii Sports      Wii             2006        Sports     41.36   \n",
       "1         Super Mario Bros.      NES             1985      Platform     29.08   \n",
       "2            Mario Kart Wii      Wii             2008        Racing     15.68   \n",
       "3         Wii Sports Resort      Wii             2009        Sports     15.61   \n",
       "4  Pokemon Red/Pokemon Blue       GB             1996  Role-Playing     11.27   \n",
       "\n",
       "   eu_sales  jp_sales  other_sales  critic_score user_score rating  \n",
       "0     28.96      3.77         8.45          76.0          8      E  \n",
       "1      3.58      6.81         0.77           NaN        NaN    NaN  \n",
       "2     12.76      3.79         3.29          82.0        8.3      E  \n",
       "3     10.93      3.28         2.95          80.0          8      E  \n",
       "4      8.89     10.22         1.00           NaN        NaN    NaN  "
      ]
     },
     "execution_count": 9,
     "metadata": {},
     "output_type": "execute_result"
    }
   ],
   "source": [
    "data_games['year_of_release'] = data_games['year_of_release'].astype('int')\n",
    "data_games.head()"
   ]
  },
  {
   "cell_type": "markdown",
   "metadata": {},
   "source": [
    "Проверяем, почему в столбце user_score тип данных object."
   ]
  },
  {
   "cell_type": "code",
   "execution_count": 10,
   "metadata": {},
   "outputs": [
    {
     "data": {
      "text/plain": [
       "array(['8', nan, '8.3', '8.5', '6.6', '8.4', '8.6', '7.7', '6.3', '7.4',\n",
       "       '8.2', '9', '7.9', '8.1', '8.7', '7.1', '3.4', '5.3', '4.8', '3.2',\n",
       "       '8.9', '6.4', '7.8', '7.5', '2.6', '7.2', '9.2', '7', '7.3', '4.3',\n",
       "       '7.6', '5.7', '5', '9.1', '6.5', 'tbd', '8.8', '6.9', '9.4', '6.8',\n",
       "       '6.1', '6.7', '5.4', '4', '4.9', '4.5', '9.3', '6.2', '4.2', '6',\n",
       "       '3.7', '4.1', '5.8', '5.6', '5.5', '4.4', '4.6', '5.9', '3.9',\n",
       "       '3.1', '2.9', '5.2', '3.3', '4.7', '5.1', '3.5', '2.5', '1.9', '3',\n",
       "       '2.7', '2.2', '2', '9.5', '2.1', '3.6', '2.8', '1.8', '3.8', '0',\n",
       "       '1.6', '9.6', '2.4', '1.7', '1.1', '0.3', '1.5', '0.7', '1.2',\n",
       "       '2.3', '0.5', '1.3', '0.2', '0.6', '1.4', '0.9', '1', '9.7'],\n",
       "      dtype=object)"
      ]
     },
     "execution_count": 10,
     "metadata": {},
     "output_type": "execute_result"
    }
   ],
   "source": [
    "data_games['user_score'].unique()"
   ]
  },
  {
   "cell_type": "markdown",
   "metadata": {},
   "source": [
    "Обращаем внимание на значение 'tbd' (To Be Determined), обозначающее \"будет определено\". Данный аспект можно приравнять к отсутсвующим значениям, так как на данный момент мы этой информацией не обладаем."
   ]
  },
  {
   "cell_type": "code",
   "execution_count": 11,
   "metadata": {},
   "outputs": [
    {
     "data": {
      "text/plain": [
       "6607"
      ]
     },
     "execution_count": 11,
     "metadata": {},
     "output_type": "execute_result"
    }
   ],
   "source": [
    "data_games['user_score'].isna().sum()"
   ]
  },
  {
   "cell_type": "code",
   "execution_count": 12,
   "metadata": {},
   "outputs": [
    {
     "data": {
      "text/plain": [
       "8983"
      ]
     },
     "execution_count": 12,
     "metadata": {},
     "output_type": "execute_result"
    }
   ],
   "source": [
    "data_games.loc[data_games['user_score'] == \"tbd\", 'user_score'] = np.nan\n",
    "data_games.loc[data_games['user_score'] == \"nan\", 'user_score'] = np.nan\n",
    "data_games['user_score'].isna().sum()"
   ]
  },
  {
   "cell_type": "code",
   "execution_count": 13,
   "metadata": {},
   "outputs": [
    {
     "name": "stdout",
     "output_type": "stream",
     "text": [
      "<class 'pandas.core.frame.DataFrame'>\n",
      "Int64Index: 16446 entries, 0 to 16714\n",
      "Data columns (total 11 columns):\n",
      " #   Column           Non-Null Count  Dtype  \n",
      "---  ------           --------------  -----  \n",
      " 0   name             16444 non-null  object \n",
      " 1   platform         16446 non-null  object \n",
      " 2   year_of_release  16446 non-null  int64  \n",
      " 3   genre            16444 non-null  object \n",
      " 4   na_sales         16446 non-null  float64\n",
      " 5   eu_sales         16446 non-null  float64\n",
      " 6   jp_sales         16446 non-null  float64\n",
      " 7   other_sales      16446 non-null  float64\n",
      " 8   critic_score     7983 non-null   float64\n",
      " 9   user_score       7463 non-null   float64\n",
      " 10  rating           9768 non-null   object \n",
      "dtypes: float64(6), int64(1), object(4)\n",
      "memory usage: 1.5+ MB\n"
     ]
    }
   ],
   "source": [
    "data_games['user_score'] = data_games['user_score'].astype('float')\n",
    "data_games.info()"
   ]
  },
  {
   "cell_type": "markdown",
   "metadata": {},
   "source": [
    "Получаем на выходе довольно много пропусков, но на данном этапе не обладаем информацией для их заполнения и оставляем их, как есть."
   ]
  },
  {
   "cell_type": "markdown",
   "metadata": {},
   "source": [
    "Проверяем пропущенные значения по другим столбцам.\n",
    "\n",
    "В столбце с названием игр всего два пропущенных значения. Данные без названий не несут в себе для нас никакой нужной информации, удаляем эти строки без ущерба для дальнейшего анализа. "
   ]
  },
  {
   "cell_type": "code",
   "execution_count": 14,
   "metadata": {},
   "outputs": [
    {
     "data": {
      "text/plain": [
       "2"
      ]
     },
     "execution_count": 14,
     "metadata": {},
     "output_type": "execute_result"
    }
   ],
   "source": [
    "data_games['name'].isna().sum()"
   ]
  },
  {
   "cell_type": "code",
   "execution_count": 15,
   "metadata": {},
   "outputs": [
    {
     "data": {
      "text/plain": [
       "0"
      ]
     },
     "execution_count": 15,
     "metadata": {},
     "output_type": "execute_result"
    }
   ],
   "source": [
    "data_games = data_games.dropna(subset = ['name'])\n",
    "data_games['name'].isna().sum()"
   ]
  },
  {
   "cell_type": "markdown",
   "metadata": {},
   "source": [
    "Большое количество пропусков видим в столбце critic_score, но информации, от которой можно было бы отталкиваться при заполнении них нет, поэтому оставим их в изначальном виде. "
   ]
  },
  {
   "cell_type": "code",
   "execution_count": 16,
   "metadata": {
    "scrolled": true
   },
   "outputs": [
    {
     "data": {
      "text/plain": [
       "8461"
      ]
     },
     "execution_count": 16,
     "metadata": {},
     "output_type": "execute_result"
    }
   ],
   "source": [
    "data_games['critic_score'].isna().sum()"
   ]
  },
  {
   "cell_type": "markdown",
   "metadata": {},
   "source": [
    "**Подсчёт суммарных продаж во всех регионах**\n",
    "\n",
    "\n",
    "Создаём новый столбец, в котором складываем продажи из всех регионов."
   ]
  },
  {
   "cell_type": "code",
   "execution_count": 17,
   "metadata": {},
   "outputs": [
    {
     "data": {
      "text/html": [
       "<div>\n",
       "<style scoped>\n",
       "    .dataframe tbody tr th:only-of-type {\n",
       "        vertical-align: middle;\n",
       "    }\n",
       "\n",
       "    .dataframe tbody tr th {\n",
       "        vertical-align: top;\n",
       "    }\n",
       "\n",
       "    .dataframe thead th {\n",
       "        text-align: right;\n",
       "    }\n",
       "</style>\n",
       "<table border=\"1\" class=\"dataframe\">\n",
       "  <thead>\n",
       "    <tr style=\"text-align: right;\">\n",
       "      <th></th>\n",
       "      <th>name</th>\n",
       "      <th>platform</th>\n",
       "      <th>year_of_release</th>\n",
       "      <th>genre</th>\n",
       "      <th>na_sales</th>\n",
       "      <th>eu_sales</th>\n",
       "      <th>jp_sales</th>\n",
       "      <th>other_sales</th>\n",
       "      <th>critic_score</th>\n",
       "      <th>user_score</th>\n",
       "      <th>rating</th>\n",
       "      <th>all_sales</th>\n",
       "    </tr>\n",
       "  </thead>\n",
       "  <tbody>\n",
       "    <tr>\n",
       "      <th>0</th>\n",
       "      <td>Wii Sports</td>\n",
       "      <td>Wii</td>\n",
       "      <td>2006</td>\n",
       "      <td>Sports</td>\n",
       "      <td>41.36</td>\n",
       "      <td>28.96</td>\n",
       "      <td>3.77</td>\n",
       "      <td>8.45</td>\n",
       "      <td>76.0</td>\n",
       "      <td>8.0</td>\n",
       "      <td>E</td>\n",
       "      <td>82.54</td>\n",
       "    </tr>\n",
       "    <tr>\n",
       "      <th>1</th>\n",
       "      <td>Super Mario Bros.</td>\n",
       "      <td>NES</td>\n",
       "      <td>1985</td>\n",
       "      <td>Platform</td>\n",
       "      <td>29.08</td>\n",
       "      <td>3.58</td>\n",
       "      <td>6.81</td>\n",
       "      <td>0.77</td>\n",
       "      <td>NaN</td>\n",
       "      <td>NaN</td>\n",
       "      <td>NaN</td>\n",
       "      <td>40.24</td>\n",
       "    </tr>\n",
       "    <tr>\n",
       "      <th>2</th>\n",
       "      <td>Mario Kart Wii</td>\n",
       "      <td>Wii</td>\n",
       "      <td>2008</td>\n",
       "      <td>Racing</td>\n",
       "      <td>15.68</td>\n",
       "      <td>12.76</td>\n",
       "      <td>3.79</td>\n",
       "      <td>3.29</td>\n",
       "      <td>82.0</td>\n",
       "      <td>8.3</td>\n",
       "      <td>E</td>\n",
       "      <td>35.52</td>\n",
       "    </tr>\n",
       "    <tr>\n",
       "      <th>3</th>\n",
       "      <td>Wii Sports Resort</td>\n",
       "      <td>Wii</td>\n",
       "      <td>2009</td>\n",
       "      <td>Sports</td>\n",
       "      <td>15.61</td>\n",
       "      <td>10.93</td>\n",
       "      <td>3.28</td>\n",
       "      <td>2.95</td>\n",
       "      <td>80.0</td>\n",
       "      <td>8.0</td>\n",
       "      <td>E</td>\n",
       "      <td>32.77</td>\n",
       "    </tr>\n",
       "    <tr>\n",
       "      <th>4</th>\n",
       "      <td>Pokemon Red/Pokemon Blue</td>\n",
       "      <td>GB</td>\n",
       "      <td>1996</td>\n",
       "      <td>Role-Playing</td>\n",
       "      <td>11.27</td>\n",
       "      <td>8.89</td>\n",
       "      <td>10.22</td>\n",
       "      <td>1.00</td>\n",
       "      <td>NaN</td>\n",
       "      <td>NaN</td>\n",
       "      <td>NaN</td>\n",
       "      <td>31.38</td>\n",
       "    </tr>\n",
       "  </tbody>\n",
       "</table>\n",
       "</div>"
      ],
      "text/plain": [
       "                       name platform  year_of_release         genre  na_sales  \\\n",
       "0                Wii Sports      Wii             2006        Sports     41.36   \n",
       "1         Super Mario Bros.      NES             1985      Platform     29.08   \n",
       "2            Mario Kart Wii      Wii             2008        Racing     15.68   \n",
       "3         Wii Sports Resort      Wii             2009        Sports     15.61   \n",
       "4  Pokemon Red/Pokemon Blue       GB             1996  Role-Playing     11.27   \n",
       "\n",
       "   eu_sales  jp_sales  other_sales  critic_score  user_score rating  all_sales  \n",
       "0     28.96      3.77         8.45          76.0         8.0      E      82.54  \n",
       "1      3.58      6.81         0.77           NaN         NaN    NaN      40.24  \n",
       "2     12.76      3.79         3.29          82.0         8.3      E      35.52  \n",
       "3     10.93      3.28         2.95          80.0         8.0      E      32.77  \n",
       "4      8.89     10.22         1.00           NaN         NaN    NaN      31.38  "
      ]
     },
     "execution_count": 17,
     "metadata": {},
     "output_type": "execute_result"
    }
   ],
   "source": [
    "data_games['all_sales'] = data_games[['na_sales','eu_sales','jp_sales', 'other_sales']].sum(axis = 1)\n",
    "data_games.head()"
   ]
  },
  {
   "cell_type": "markdown",
   "metadata": {},
   "source": [
    "Обрабатываем пропущенные значения в рейтинге."
   ]
  },
  {
   "cell_type": "code",
   "execution_count": 18,
   "metadata": {},
   "outputs": [
    {
     "data": {
      "text/plain": [
       "0"
      ]
     },
     "execution_count": 18,
     "metadata": {},
     "output_type": "execute_result"
    }
   ],
   "source": [
    "data_games['rating']=data_games['rating'].fillna('undefined')\n",
    "data_games['rating'].isnull().sum()"
   ]
  },
  {
   "cell_type": "markdown",
   "metadata": {},
   "source": [
    "**Вывод** \n",
    "\n",
    "1. Обнаружены пропущенные значения, в годе выпуска по возможности обработаны, в случаях, когда данные не несут в себе прикладной информации, удалены\n",
    "2. Названия столбцов для удобства дальнейшей работы приведены к нижнему регистру\n",
    "3. Определено значение tbd и заменено на NaN\n",
    "4. Подсчитаны суммарные продажи во всех регионах и сохранены в новый столбец"
   ]
  },
  {
   "cell_type": "markdown",
   "metadata": {},
   "source": [
    "# 3. Исследовательский анализ данных\n"
   ]
  },
  {
   "cell_type": "markdown",
   "metadata": {},
   "source": [
    "Создаём сводную таблицу, чтобы посмотреть, сколько игр выпускалось в разные годы."
   ]
  },
  {
   "cell_type": "code",
   "execution_count": 19,
   "metadata": {},
   "outputs": [
    {
     "data": {
      "text/html": [
       "<div>\n",
       "<style scoped>\n",
       "    .dataframe tbody tr th:only-of-type {\n",
       "        vertical-align: middle;\n",
       "    }\n",
       "\n",
       "    .dataframe tbody tr th {\n",
       "        vertical-align: top;\n",
       "    }\n",
       "\n",
       "    .dataframe thead th {\n",
       "        text-align: right;\n",
       "    }\n",
       "</style>\n",
       "<table border=\"1\" class=\"dataframe\">\n",
       "  <thead>\n",
       "    <tr style=\"text-align: right;\">\n",
       "      <th></th>\n",
       "      <th>name</th>\n",
       "    </tr>\n",
       "    <tr>\n",
       "      <th>year_of_release</th>\n",
       "      <th></th>\n",
       "    </tr>\n",
       "  </thead>\n",
       "  <tbody>\n",
       "    <tr>\n",
       "      <th>1980</th>\n",
       "      <td>9</td>\n",
       "    </tr>\n",
       "    <tr>\n",
       "      <th>1981</th>\n",
       "      <td>46</td>\n",
       "    </tr>\n",
       "    <tr>\n",
       "      <th>1982</th>\n",
       "      <td>36</td>\n",
       "    </tr>\n",
       "    <tr>\n",
       "      <th>1983</th>\n",
       "      <td>17</td>\n",
       "    </tr>\n",
       "    <tr>\n",
       "      <th>1984</th>\n",
       "      <td>14</td>\n",
       "    </tr>\n",
       "    <tr>\n",
       "      <th>1985</th>\n",
       "      <td>14</td>\n",
       "    </tr>\n",
       "    <tr>\n",
       "      <th>1986</th>\n",
       "      <td>21</td>\n",
       "    </tr>\n",
       "    <tr>\n",
       "      <th>1987</th>\n",
       "      <td>16</td>\n",
       "    </tr>\n",
       "    <tr>\n",
       "      <th>1988</th>\n",
       "      <td>15</td>\n",
       "    </tr>\n",
       "    <tr>\n",
       "      <th>1989</th>\n",
       "      <td>17</td>\n",
       "    </tr>\n",
       "    <tr>\n",
       "      <th>1990</th>\n",
       "      <td>16</td>\n",
       "    </tr>\n",
       "    <tr>\n",
       "      <th>1991</th>\n",
       "      <td>41</td>\n",
       "    </tr>\n",
       "    <tr>\n",
       "      <th>1992</th>\n",
       "      <td>43</td>\n",
       "    </tr>\n",
       "    <tr>\n",
       "      <th>1993</th>\n",
       "      <td>60</td>\n",
       "    </tr>\n",
       "    <tr>\n",
       "      <th>1994</th>\n",
       "      <td>121</td>\n",
       "    </tr>\n",
       "    <tr>\n",
       "      <th>1995</th>\n",
       "      <td>219</td>\n",
       "    </tr>\n",
       "    <tr>\n",
       "      <th>1996</th>\n",
       "      <td>263</td>\n",
       "    </tr>\n",
       "    <tr>\n",
       "      <th>1997</th>\n",
       "      <td>289</td>\n",
       "    </tr>\n",
       "    <tr>\n",
       "      <th>1998</th>\n",
       "      <td>379</td>\n",
       "    </tr>\n",
       "    <tr>\n",
       "      <th>1999</th>\n",
       "      <td>338</td>\n",
       "    </tr>\n",
       "    <tr>\n",
       "      <th>2000</th>\n",
       "      <td>350</td>\n",
       "    </tr>\n",
       "    <tr>\n",
       "      <th>2001</th>\n",
       "      <td>482</td>\n",
       "    </tr>\n",
       "    <tr>\n",
       "      <th>2002</th>\n",
       "      <td>829</td>\n",
       "    </tr>\n",
       "    <tr>\n",
       "      <th>2003</th>\n",
       "      <td>775</td>\n",
       "    </tr>\n",
       "    <tr>\n",
       "      <th>2004</th>\n",
       "      <td>762</td>\n",
       "    </tr>\n",
       "    <tr>\n",
       "      <th>2005</th>\n",
       "      <td>939</td>\n",
       "    </tr>\n",
       "    <tr>\n",
       "      <th>2006</th>\n",
       "      <td>1006</td>\n",
       "    </tr>\n",
       "    <tr>\n",
       "      <th>2007</th>\n",
       "      <td>1197</td>\n",
       "    </tr>\n",
       "    <tr>\n",
       "      <th>2008</th>\n",
       "      <td>1427</td>\n",
       "    </tr>\n",
       "    <tr>\n",
       "      <th>2009</th>\n",
       "      <td>1426</td>\n",
       "    </tr>\n",
       "    <tr>\n",
       "      <th>2010</th>\n",
       "      <td>1255</td>\n",
       "    </tr>\n",
       "    <tr>\n",
       "      <th>2011</th>\n",
       "      <td>1136</td>\n",
       "    </tr>\n",
       "    <tr>\n",
       "      <th>2012</th>\n",
       "      <td>653</td>\n",
       "    </tr>\n",
       "    <tr>\n",
       "      <th>2013</th>\n",
       "      <td>544</td>\n",
       "    </tr>\n",
       "    <tr>\n",
       "      <th>2014</th>\n",
       "      <td>581</td>\n",
       "    </tr>\n",
       "    <tr>\n",
       "      <th>2015</th>\n",
       "      <td>606</td>\n",
       "    </tr>\n",
       "    <tr>\n",
       "      <th>2016</th>\n",
       "      <td>502</td>\n",
       "    </tr>\n",
       "  </tbody>\n",
       "</table>\n",
       "</div>"
      ],
      "text/plain": [
       "                 name\n",
       "year_of_release      \n",
       "1980                9\n",
       "1981               46\n",
       "1982               36\n",
       "1983               17\n",
       "1984               14\n",
       "1985               14\n",
       "1986               21\n",
       "1987               16\n",
       "1988               15\n",
       "1989               17\n",
       "1990               16\n",
       "1991               41\n",
       "1992               43\n",
       "1993               60\n",
       "1994              121\n",
       "1995              219\n",
       "1996              263\n",
       "1997              289\n",
       "1998              379\n",
       "1999              338\n",
       "2000              350\n",
       "2001              482\n",
       "2002              829\n",
       "2003              775\n",
       "2004              762\n",
       "2005              939\n",
       "2006             1006\n",
       "2007             1197\n",
       "2008             1427\n",
       "2009             1426\n",
       "2010             1255\n",
       "2011             1136\n",
       "2012              653\n",
       "2013              544\n",
       "2014              581\n",
       "2015              606\n",
       "2016              502"
      ]
     },
     "execution_count": 19,
     "metadata": {},
     "output_type": "execute_result"
    }
   ],
   "source": [
    "data_games_pivot = data_games.pivot_table(index = 'year_of_release', values = 'name', aggfunc = 'count')\n",
    "data_games_pivot"
   ]
  },
  {
   "cell_type": "code",
   "execution_count": 20,
   "metadata": {},
   "outputs": [
    {
     "data": {
      "text/plain": [
       "<AxesSubplot:title={'center':'Выпуск игр'}, xlabel='year_of_release'>"
      ]
     },
     "execution_count": 20,
     "metadata": {},
     "output_type": "execute_result"
    },
    {
     "data": {
      "image/png": "[encoded data removed]",
      "text/plain": [
       "<Figure size 1152x360 with 1 Axes>"
      ]
     },
     "metadata": {
      "needs_background": "light"
     },
     "output_type": "display_data"
    }
   ],
   "source": [
    "data_games_pivot.plot(kind='bar', title = 'Выпуск игр', figsize=(16,5))"
   ]
  },
  {
   "cell_type": "markdown",
   "metadata": {},
   "source": [
    "Обращаем внимание на то, что до 1994 года выпускалось очень мало игр, и эти данные можно не учитывать при дальнейшем анализе.\n"
   ]
  },
  {
   "cell_type": "markdown",
   "metadata": {},
   "source": [
    "Просматриваем суммарные продажи по платформам, выбираем платформы с наибольшими суммарными продажами."
   ]
  },
  {
   "cell_type": "code",
   "execution_count": 21,
   "metadata": {},
   "outputs": [
    {
     "data": {
      "text/html": [
       "<div>\n",
       "<style scoped>\n",
       "    .dataframe tbody tr th:only-of-type {\n",
       "        vertical-align: middle;\n",
       "    }\n",
       "\n",
       "    .dataframe tbody tr th {\n",
       "        vertical-align: top;\n",
       "    }\n",
       "\n",
       "    .dataframe thead th {\n",
       "        text-align: right;\n",
       "    }\n",
       "</style>\n",
       "<table border=\"1\" class=\"dataframe\">\n",
       "  <thead>\n",
       "    <tr style=\"text-align: right;\">\n",
       "      <th></th>\n",
       "      <th>all_sales</th>\n",
       "    </tr>\n",
       "    <tr>\n",
       "      <th>platform</th>\n",
       "      <th></th>\n",
       "    </tr>\n",
       "  </thead>\n",
       "  <tbody>\n",
       "    <tr>\n",
       "      <th>PS2</th>\n",
       "      <td>1233.56</td>\n",
       "    </tr>\n",
       "    <tr>\n",
       "      <th>X360</th>\n",
       "      <td>961.24</td>\n",
       "    </tr>\n",
       "    <tr>\n",
       "      <th>PS3</th>\n",
       "      <td>931.34</td>\n",
       "    </tr>\n",
       "    <tr>\n",
       "      <th>Wii</th>\n",
       "      <td>891.18</td>\n",
       "    </tr>\n",
       "    <tr>\n",
       "      <th>DS</th>\n",
       "      <td>802.78</td>\n",
       "    </tr>\n",
       "    <tr>\n",
       "      <th>PS</th>\n",
       "      <td>727.58</td>\n",
       "    </tr>\n",
       "    <tr>\n",
       "      <th>PS4</th>\n",
       "      <td>314.14</td>\n",
       "    </tr>\n",
       "    <tr>\n",
       "      <th>GBA</th>\n",
       "      <td>312.88</td>\n",
       "    </tr>\n",
       "    <tr>\n",
       "      <th>PSP</th>\n",
       "      <td>289.53</td>\n",
       "    </tr>\n",
       "    <tr>\n",
       "      <th>3DS</th>\n",
       "      <td>257.81</td>\n",
       "    </tr>\n",
       "    <tr>\n",
       "      <th>PC</th>\n",
       "      <td>255.76</td>\n",
       "    </tr>\n",
       "    <tr>\n",
       "      <th>GB</th>\n",
       "      <td>254.43</td>\n",
       "    </tr>\n",
       "    <tr>\n",
       "      <th>XB</th>\n",
       "      <td>251.57</td>\n",
       "    </tr>\n",
       "    <tr>\n",
       "      <th>NES</th>\n",
       "      <td>251.05</td>\n",
       "    </tr>\n",
       "    <tr>\n",
       "      <th>N64</th>\n",
       "      <td>218.01</td>\n",
       "    </tr>\n",
       "    <tr>\n",
       "      <th>SNES</th>\n",
       "      <td>200.04</td>\n",
       "    </tr>\n",
       "    <tr>\n",
       "      <th>GC</th>\n",
       "      <td>196.73</td>\n",
       "    </tr>\n",
       "    <tr>\n",
       "      <th>XOne</th>\n",
       "      <td>159.32</td>\n",
       "    </tr>\n",
       "    <tr>\n",
       "      <th>2600</th>\n",
       "      <td>86.48</td>\n",
       "    </tr>\n",
       "    <tr>\n",
       "      <th>WiiU</th>\n",
       "      <td>82.19</td>\n",
       "    </tr>\n",
       "    <tr>\n",
       "      <th>PSV</th>\n",
       "      <td>53.81</td>\n",
       "    </tr>\n",
       "    <tr>\n",
       "      <th>SAT</th>\n",
       "      <td>33.59</td>\n",
       "    </tr>\n",
       "    <tr>\n",
       "      <th>GEN</th>\n",
       "      <td>28.35</td>\n",
       "    </tr>\n",
       "    <tr>\n",
       "      <th>DC</th>\n",
       "      <td>15.95</td>\n",
       "    </tr>\n",
       "    <tr>\n",
       "      <th>SCD</th>\n",
       "      <td>1.86</td>\n",
       "    </tr>\n",
       "    <tr>\n",
       "      <th>NG</th>\n",
       "      <td>1.44</td>\n",
       "    </tr>\n",
       "    <tr>\n",
       "      <th>WS</th>\n",
       "      <td>1.42</td>\n",
       "    </tr>\n",
       "    <tr>\n",
       "      <th>TG16</th>\n",
       "      <td>0.16</td>\n",
       "    </tr>\n",
       "    <tr>\n",
       "      <th>3DO</th>\n",
       "      <td>0.10</td>\n",
       "    </tr>\n",
       "    <tr>\n",
       "      <th>GG</th>\n",
       "      <td>0.04</td>\n",
       "    </tr>\n",
       "    <tr>\n",
       "      <th>PCFX</th>\n",
       "      <td>0.03</td>\n",
       "    </tr>\n",
       "  </tbody>\n",
       "</table>\n",
       "</div>"
      ],
      "text/plain": [
       "          all_sales\n",
       "platform           \n",
       "PS2         1233.56\n",
       "X360         961.24\n",
       "PS3          931.34\n",
       "Wii          891.18\n",
       "DS           802.78\n",
       "PS           727.58\n",
       "PS4          314.14\n",
       "GBA          312.88\n",
       "PSP          289.53\n",
       "3DS          257.81\n",
       "PC           255.76\n",
       "GB           254.43\n",
       "XB           251.57\n",
       "NES          251.05\n",
       "N64          218.01\n",
       "SNES         200.04\n",
       "GC           196.73\n",
       "XOne         159.32\n",
       "2600          86.48\n",
       "WiiU          82.19\n",
       "PSV           53.81\n",
       "SAT           33.59\n",
       "GEN           28.35\n",
       "DC            15.95\n",
       "SCD            1.86\n",
       "NG             1.44\n",
       "WS             1.42\n",
       "TG16           0.16\n",
       "3DO            0.10\n",
       "GG             0.04\n",
       "PCFX           0.03"
      ]
     },
     "execution_count": 21,
     "metadata": {},
     "output_type": "execute_result"
    }
   ],
   "source": [
    "data_games_sales = data_games.pivot_table(index = 'platform', values = 'all_sales', aggfunc = 'sum')\n",
    "data_games_sales.sort_values(by='all_sales', ascending=False)"
   ]
  },
  {
   "cell_type": "code",
   "execution_count": 22,
   "metadata": {},
   "outputs": [
    {
     "data": {
      "text/plain": [
       "<AxesSubplot:title={'center':'Cуммарные продажи'}, xlabel='platform'>"
      ]
     },
     "execution_count": 22,
     "metadata": {},
     "output_type": "execute_result"
    },
    {
     "data": {
      "image/png": "[encoded data removed]",
      "text/plain": [
       "<Figure size 1152x360 with 1 Axes>"
      ]
     },
     "metadata": {
      "needs_background": "light"
     },
     "output_type": "display_data"
    }
   ],
   "source": [
    "data_games_sales.plot(kind='bar', title = 'Cуммарные продажи', figsize=(16,5))"
   ]
  },
  {
   "cell_type": "markdown",
   "metadata": {},
   "source": [
    "Выделяем PS, DS, Wii, PS3, X360, PS2"
   ]
  },
  {
   "cell_type": "code",
   "execution_count": 23,
   "metadata": {},
   "outputs": [],
   "source": [
    "PS_data = data_games.query('platform== \"PS\"')\n",
    "DS_data = data_games.query('platform== \"DS\"')\n",
    "Wii_data = data_games.query('platform== \"Wii\"')\n",
    "PS3_data = data_games.query('platform== \"PS3\"')\n",
    "X360_data = data_games.query('platform== \"X360\"')\n",
    "PS2_data = data_games.query('platform== \"PS2\"')\n"
   ]
  },
  {
   "cell_type": "code",
   "execution_count": 24,
   "metadata": {
    "scrolled": true
   },
   "outputs": [
    {
     "data": {
      "image/png": "[encoded data removed]",
      "text/plain": [
       "<Figure size 432x288 with 1 Axes>"
      ]
     },
     "metadata": {
      "needs_background": "light"
     },
     "output_type": "display_data"
    },
    {
     "data": {
      "image/png": "[encoded data removed]",
      "text/plain": [
       "<Figure size 432x288 with 1 Axes>"
      ]
     },
     "metadata": {
      "needs_background": "light"
     },
     "output_type": "display_data"
    }
   ],
   "source": [
    "ax = PS_data.plot(\n",
    "    y = 'year_of_release',\n",
    "    kind='hist',\n",
    "    histtype='step',\n",
    "    range=(1994, 2018),\n",
    "    bins=25,\n",
    "    linewidth=2,\n",
    "    alpha=0.8,\n",
    "    label='PS')\n",
    "\n",
    "ax_1=DS_data.plot(\n",
    "    y='year_of_release',\n",
    "    kind='hist',\n",
    "    histtype='step',\n",
    "    range=(1994, 2018),\n",
    "    bins=25,\n",
    "    linewidth=2,\n",
    "    alpha=0.8,\n",
    "    label='DS',\n",
    "    ax=ax,\n",
    "    grid=True,\n",
    "    legend=True,\n",
    "    title = ''\n",
    ") \n",
    "ax_2=Wii_data.plot(\n",
    "    y='year_of_release',\n",
    "    kind='hist',\n",
    "    histtype='step',\n",
    "    range=(1994, 2018),\n",
    "    bins=25,\n",
    "    linewidth=2,\n",
    "    alpha=0.8,\n",
    "    label='Wii',\n",
    "    ax=ax_1,\n",
    "    grid=True,\n",
    "    legend=True,\n",
    "    title = '')\n",
    "\n",
    "\n",
    "ax_3 = PS3_data.plot(\n",
    "    y='year_of_release',\n",
    "    kind='hist',\n",
    "    histtype='step',\n",
    "    range=(1994, 2018),\n",
    "    bins=25,\n",
    "    linewidth=2,\n",
    "    alpha=0.8,\n",
    "    label='PS3',\n",
    "    ax=ax_2,\n",
    "    grid=True,\n",
    "    legend=True,\n",
    "    title = 'Продажи актуальных игровых платформ')\n",
    "\n",
    "ax_4 = X360_data.plot(\n",
    "    y='year_of_release',\n",
    "    kind='hist',\n",
    "    histtype='step',\n",
    "    range=(1994, 2018),\n",
    "    bins=25,\n",
    "    linewidth=2,\n",
    "    alpha=0.8,\n",
    "    label='X360',\n",
    "    grid=True,\n",
    "    legend=True,\n",
    "    title = '')\n",
    "\n",
    "ax_5 = PS2_data.plot(\n",
    "    y='year_of_release',\n",
    "    kind='hist',\n",
    "    histtype='step',\n",
    "    range=(1994, 2018),\n",
    "    bins=25,\n",
    "    linewidth=2,\n",
    "    alpha=0.8,\n",
    "    label='PS2',\n",
    "    ax=ax_4,\n",
    "    grid=True,\n",
    "    legend=True,\n",
    "    title = 'Продажи актуальных игровых платформ')"
   ]
  },
  {
   "cell_type": "markdown",
   "metadata": {},
   "source": [
    "По данной гистограмме, построенной по платформам с наибольшими суммарными продажами, делаем вывод, что характерным сроком появления новых и исчезания старых платформ является промежуток от 5 до 10 лет.\n",
    "\n",
    "Предполагаем, что прогноз на 2017 год могут построить данные с 2013 по 2016 год. Создаём таблицу."
   ]
  },
  {
   "cell_type": "code",
   "execution_count": 25,
   "metadata": {},
   "outputs": [
    {
     "data": {
      "text/html": [
       "<div>\n",
       "<style scoped>\n",
       "    .dataframe tbody tr th:only-of-type {\n",
       "        vertical-align: middle;\n",
       "    }\n",
       "\n",
       "    .dataframe tbody tr th {\n",
       "        vertical-align: top;\n",
       "    }\n",
       "\n",
       "    .dataframe thead th {\n",
       "        text-align: right;\n",
       "    }\n",
       "</style>\n",
       "<table border=\"1\" class=\"dataframe\">\n",
       "  <thead>\n",
       "    <tr style=\"text-align: right;\">\n",
       "      <th></th>\n",
       "      <th>name</th>\n",
       "      <th>platform</th>\n",
       "      <th>year_of_release</th>\n",
       "      <th>genre</th>\n",
       "      <th>na_sales</th>\n",
       "      <th>eu_sales</th>\n",
       "      <th>jp_sales</th>\n",
       "      <th>other_sales</th>\n",
       "      <th>critic_score</th>\n",
       "      <th>user_score</th>\n",
       "      <th>rating</th>\n",
       "      <th>all_sales</th>\n",
       "    </tr>\n",
       "  </thead>\n",
       "  <tbody>\n",
       "    <tr>\n",
       "      <th>16</th>\n",
       "      <td>Grand Theft Auto V</td>\n",
       "      <td>PS3</td>\n",
       "      <td>2013</td>\n",
       "      <td>Action</td>\n",
       "      <td>7.02</td>\n",
       "      <td>9.09</td>\n",
       "      <td>0.98</td>\n",
       "      <td>3.96</td>\n",
       "      <td>97.0</td>\n",
       "      <td>8.2</td>\n",
       "      <td>M</td>\n",
       "      <td>21.05</td>\n",
       "    </tr>\n",
       "    <tr>\n",
       "      <th>23</th>\n",
       "      <td>Grand Theft Auto V</td>\n",
       "      <td>X360</td>\n",
       "      <td>2013</td>\n",
       "      <td>Action</td>\n",
       "      <td>9.66</td>\n",
       "      <td>5.14</td>\n",
       "      <td>0.06</td>\n",
       "      <td>1.41</td>\n",
       "      <td>97.0</td>\n",
       "      <td>8.1</td>\n",
       "      <td>M</td>\n",
       "      <td>16.27</td>\n",
       "    </tr>\n",
       "    <tr>\n",
       "      <th>31</th>\n",
       "      <td>Call of Duty: Black Ops 3</td>\n",
       "      <td>PS4</td>\n",
       "      <td>2015</td>\n",
       "      <td>Shooter</td>\n",
       "      <td>6.03</td>\n",
       "      <td>5.86</td>\n",
       "      <td>0.36</td>\n",
       "      <td>2.38</td>\n",
       "      <td>NaN</td>\n",
       "      <td>NaN</td>\n",
       "      <td>undefined</td>\n",
       "      <td>14.63</td>\n",
       "    </tr>\n",
       "    <tr>\n",
       "      <th>33</th>\n",
       "      <td>Pokemon X/Pokemon Y</td>\n",
       "      <td>3DS</td>\n",
       "      <td>2013</td>\n",
       "      <td>Role-Playing</td>\n",
       "      <td>5.28</td>\n",
       "      <td>4.19</td>\n",
       "      <td>4.35</td>\n",
       "      <td>0.78</td>\n",
       "      <td>NaN</td>\n",
       "      <td>NaN</td>\n",
       "      <td>undefined</td>\n",
       "      <td>14.60</td>\n",
       "    </tr>\n",
       "    <tr>\n",
       "      <th>42</th>\n",
       "      <td>Grand Theft Auto V</td>\n",
       "      <td>PS4</td>\n",
       "      <td>2014</td>\n",
       "      <td>Action</td>\n",
       "      <td>3.96</td>\n",
       "      <td>6.31</td>\n",
       "      <td>0.38</td>\n",
       "      <td>1.97</td>\n",
       "      <td>97.0</td>\n",
       "      <td>8.3</td>\n",
       "      <td>M</td>\n",
       "      <td>12.62</td>\n",
       "    </tr>\n",
       "    <tr>\n",
       "      <th>47</th>\n",
       "      <td>Pokemon Omega Ruby/Pokemon Alpha Sapphire</td>\n",
       "      <td>3DS</td>\n",
       "      <td>2014</td>\n",
       "      <td>Role-Playing</td>\n",
       "      <td>4.35</td>\n",
       "      <td>3.49</td>\n",
       "      <td>3.10</td>\n",
       "      <td>0.74</td>\n",
       "      <td>NaN</td>\n",
       "      <td>NaN</td>\n",
       "      <td>undefined</td>\n",
       "      <td>11.68</td>\n",
       "    </tr>\n",
       "    <tr>\n",
       "      <th>60</th>\n",
       "      <td>Call of Duty: Ghosts</td>\n",
       "      <td>X360</td>\n",
       "      <td>2013</td>\n",
       "      <td>Shooter</td>\n",
       "      <td>6.73</td>\n",
       "      <td>2.56</td>\n",
       "      <td>0.04</td>\n",
       "      <td>0.91</td>\n",
       "      <td>73.0</td>\n",
       "      <td>2.6</td>\n",
       "      <td>M</td>\n",
       "      <td>10.24</td>\n",
       "    </tr>\n",
       "    <tr>\n",
       "      <th>69</th>\n",
       "      <td>Call of Duty: Ghosts</td>\n",
       "      <td>PS3</td>\n",
       "      <td>2013</td>\n",
       "      <td>Shooter</td>\n",
       "      <td>4.10</td>\n",
       "      <td>3.63</td>\n",
       "      <td>0.38</td>\n",
       "      <td>1.25</td>\n",
       "      <td>71.0</td>\n",
       "      <td>2.6</td>\n",
       "      <td>M</td>\n",
       "      <td>9.36</td>\n",
       "    </tr>\n",
       "    <tr>\n",
       "      <th>72</th>\n",
       "      <td>Minecraft</td>\n",
       "      <td>X360</td>\n",
       "      <td>2013</td>\n",
       "      <td>Misc</td>\n",
       "      <td>5.70</td>\n",
       "      <td>2.65</td>\n",
       "      <td>0.02</td>\n",
       "      <td>0.81</td>\n",
       "      <td>NaN</td>\n",
       "      <td>NaN</td>\n",
       "      <td>undefined</td>\n",
       "      <td>9.18</td>\n",
       "    </tr>\n",
       "    <tr>\n",
       "      <th>77</th>\n",
       "      <td>FIFA 16</td>\n",
       "      <td>PS4</td>\n",
       "      <td>2015</td>\n",
       "      <td>Sports</td>\n",
       "      <td>1.12</td>\n",
       "      <td>6.12</td>\n",
       "      <td>0.06</td>\n",
       "      <td>1.28</td>\n",
       "      <td>82.0</td>\n",
       "      <td>4.3</td>\n",
       "      <td>E</td>\n",
       "      <td>8.58</td>\n",
       "    </tr>\n",
       "    <tr>\n",
       "      <th>87</th>\n",
       "      <td>Star Wars Battlefront (2015)</td>\n",
       "      <td>PS4</td>\n",
       "      <td>2015</td>\n",
       "      <td>Shooter</td>\n",
       "      <td>2.99</td>\n",
       "      <td>3.49</td>\n",
       "      <td>0.22</td>\n",
       "      <td>1.28</td>\n",
       "      <td>NaN</td>\n",
       "      <td>NaN</td>\n",
       "      <td>undefined</td>\n",
       "      <td>7.98</td>\n",
       "    </tr>\n",
       "    <tr>\n",
       "      <th>92</th>\n",
       "      <td>Call of Duty: Advanced Warfare</td>\n",
       "      <td>PS4</td>\n",
       "      <td>2014</td>\n",
       "      <td>Shooter</td>\n",
       "      <td>2.81</td>\n",
       "      <td>3.48</td>\n",
       "      <td>0.14</td>\n",
       "      <td>1.23</td>\n",
       "      <td>83.0</td>\n",
       "      <td>5.7</td>\n",
       "      <td>M</td>\n",
       "      <td>7.66</td>\n",
       "    </tr>\n",
       "    <tr>\n",
       "      <th>94</th>\n",
       "      <td>FIFA 17</td>\n",
       "      <td>PS4</td>\n",
       "      <td>2016</td>\n",
       "      <td>Sports</td>\n",
       "      <td>0.66</td>\n",
       "      <td>5.75</td>\n",
       "      <td>0.08</td>\n",
       "      <td>1.11</td>\n",
       "      <td>85.0</td>\n",
       "      <td>5.0</td>\n",
       "      <td>E</td>\n",
       "      <td>7.60</td>\n",
       "    </tr>\n",
       "    <tr>\n",
       "      <th>96</th>\n",
       "      <td>Super Smash Bros. for Wii U and 3DS</td>\n",
       "      <td>3DS</td>\n",
       "      <td>2014</td>\n",
       "      <td>Fighting</td>\n",
       "      <td>3.27</td>\n",
       "      <td>1.37</td>\n",
       "      <td>2.43</td>\n",
       "      <td>0.48</td>\n",
       "      <td>NaN</td>\n",
       "      <td>NaN</td>\n",
       "      <td>undefined</td>\n",
       "      <td>7.55</td>\n",
       "    </tr>\n",
       "    <tr>\n",
       "      <th>99</th>\n",
       "      <td>Call of Duty: Black Ops 3</td>\n",
       "      <td>XOne</td>\n",
       "      <td>2015</td>\n",
       "      <td>Shooter</td>\n",
       "      <td>4.59</td>\n",
       "      <td>2.11</td>\n",
       "      <td>0.01</td>\n",
       "      <td>0.68</td>\n",
       "      <td>NaN</td>\n",
       "      <td>NaN</td>\n",
       "      <td>undefined</td>\n",
       "      <td>7.39</td>\n",
       "    </tr>\n",
       "    <tr>\n",
       "      <th>105</th>\n",
       "      <td>Fallout 4</td>\n",
       "      <td>PS4</td>\n",
       "      <td>2015</td>\n",
       "      <td>Role-Playing</td>\n",
       "      <td>2.53</td>\n",
       "      <td>3.27</td>\n",
       "      <td>0.24</td>\n",
       "      <td>1.13</td>\n",
       "      <td>87.0</td>\n",
       "      <td>6.5</td>\n",
       "      <td>M</td>\n",
       "      <td>7.17</td>\n",
       "    </tr>\n",
       "    <tr>\n",
       "      <th>108</th>\n",
       "      <td>Pokemon Sun/Moon</td>\n",
       "      <td>3DS</td>\n",
       "      <td>2016</td>\n",
       "      <td>Role-Playing</td>\n",
       "      <td>2.98</td>\n",
       "      <td>1.45</td>\n",
       "      <td>2.26</td>\n",
       "      <td>0.45</td>\n",
       "      <td>NaN</td>\n",
       "      <td>NaN</td>\n",
       "      <td>undefined</td>\n",
       "      <td>7.14</td>\n",
       "    </tr>\n",
       "    <tr>\n",
       "      <th>110</th>\n",
       "      <td>Mario Kart 8</td>\n",
       "      <td>WiiU</td>\n",
       "      <td>2014</td>\n",
       "      <td>Racing</td>\n",
       "      <td>3.15</td>\n",
       "      <td>2.15</td>\n",
       "      <td>1.28</td>\n",
       "      <td>0.51</td>\n",
       "      <td>88.0</td>\n",
       "      <td>9.1</td>\n",
       "      <td>E</td>\n",
       "      <td>7.09</td>\n",
       "    </tr>\n",
       "    <tr>\n",
       "      <th>126</th>\n",
       "      <td>FIFA 14</td>\n",
       "      <td>PS3</td>\n",
       "      <td>2013</td>\n",
       "      <td>Sports</td>\n",
       "      <td>0.78</td>\n",
       "      <td>4.24</td>\n",
       "      <td>0.07</td>\n",
       "      <td>1.37</td>\n",
       "      <td>86.0</td>\n",
       "      <td>4.3</td>\n",
       "      <td>E</td>\n",
       "      <td>6.46</td>\n",
       "    </tr>\n",
       "    <tr>\n",
       "      <th>143</th>\n",
       "      <td>FIFA 15</td>\n",
       "      <td>PS4</td>\n",
       "      <td>2014</td>\n",
       "      <td>Sports</td>\n",
       "      <td>0.80</td>\n",
       "      <td>4.33</td>\n",
       "      <td>0.05</td>\n",
       "      <td>0.90</td>\n",
       "      <td>82.0</td>\n",
       "      <td>5.7</td>\n",
       "      <td>E</td>\n",
       "      <td>6.08</td>\n",
       "    </tr>\n",
       "  </tbody>\n",
       "</table>\n",
       "</div>"
      ],
      "text/plain": [
       "                                          name platform  year_of_release  \\\n",
       "16                          Grand Theft Auto V      PS3             2013   \n",
       "23                          Grand Theft Auto V     X360             2013   \n",
       "31                   Call of Duty: Black Ops 3      PS4             2015   \n",
       "33                         Pokemon X/Pokemon Y      3DS             2013   \n",
       "42                          Grand Theft Auto V      PS4             2014   \n",
       "47   Pokemon Omega Ruby/Pokemon Alpha Sapphire      3DS             2014   \n",
       "60                        Call of Duty: Ghosts     X360             2013   \n",
       "69                        Call of Duty: Ghosts      PS3             2013   \n",
       "72                                   Minecraft     X360             2013   \n",
       "77                                     FIFA 16      PS4             2015   \n",
       "87                Star Wars Battlefront (2015)      PS4             2015   \n",
       "92              Call of Duty: Advanced Warfare      PS4             2014   \n",
       "94                                     FIFA 17      PS4             2016   \n",
       "96         Super Smash Bros. for Wii U and 3DS      3DS             2014   \n",
       "99                   Call of Duty: Black Ops 3     XOne             2015   \n",
       "105                                  Fallout 4      PS4             2015   \n",
       "108                           Pokemon Sun/Moon      3DS             2016   \n",
       "110                               Mario Kart 8     WiiU             2014   \n",
       "126                                    FIFA 14      PS3             2013   \n",
       "143                                    FIFA 15      PS4             2014   \n",
       "\n",
       "            genre  na_sales  eu_sales  jp_sales  other_sales  critic_score  \\\n",
       "16         Action      7.02      9.09      0.98         3.96          97.0   \n",
       "23         Action      9.66      5.14      0.06         1.41          97.0   \n",
       "31        Shooter      6.03      5.86      0.36         2.38           NaN   \n",
       "33   Role-Playing      5.28      4.19      4.35         0.78           NaN   \n",
       "42         Action      3.96      6.31      0.38         1.97          97.0   \n",
       "47   Role-Playing      4.35      3.49      3.10         0.74           NaN   \n",
       "60        Shooter      6.73      2.56      0.04         0.91          73.0   \n",
       "69        Shooter      4.10      3.63      0.38         1.25          71.0   \n",
       "72           Misc      5.70      2.65      0.02         0.81           NaN   \n",
       "77         Sports      1.12      6.12      0.06         1.28          82.0   \n",
       "87        Shooter      2.99      3.49      0.22         1.28           NaN   \n",
       "92        Shooter      2.81      3.48      0.14         1.23          83.0   \n",
       "94         Sports      0.66      5.75      0.08         1.11          85.0   \n",
       "96       Fighting      3.27      1.37      2.43         0.48           NaN   \n",
       "99        Shooter      4.59      2.11      0.01         0.68           NaN   \n",
       "105  Role-Playing      2.53      3.27      0.24         1.13          87.0   \n",
       "108  Role-Playing      2.98      1.45      2.26         0.45           NaN   \n",
       "110        Racing      3.15      2.15      1.28         0.51          88.0   \n",
       "126        Sports      0.78      4.24      0.07         1.37          86.0   \n",
       "143        Sports      0.80      4.33      0.05         0.90          82.0   \n",
       "\n",
       "     user_score     rating  all_sales  \n",
       "16          8.2          M      21.05  \n",
       "23          8.1          M      16.27  \n",
       "31          NaN  undefined      14.63  \n",
       "33          NaN  undefined      14.60  \n",
       "42          8.3          M      12.62  \n",
       "47          NaN  undefined      11.68  \n",
       "60          2.6          M      10.24  \n",
       "69          2.6          M       9.36  \n",
       "72          NaN  undefined       9.18  \n",
       "77          4.3          E       8.58  \n",
       "87          NaN  undefined       7.98  \n",
       "92          5.7          M       7.66  \n",
       "94          5.0          E       7.60  \n",
       "96          NaN  undefined       7.55  \n",
       "99          NaN  undefined       7.39  \n",
       "105         6.5          M       7.17  \n",
       "108         NaN  undefined       7.14  \n",
       "110         9.1          E       7.09  \n",
       "126         4.3          E       6.46  \n",
       "143         5.7          E       6.08  "
      ]
     },
     "execution_count": 25,
     "metadata": {},
     "output_type": "execute_result"
    }
   ],
   "source": [
    "games_new = data_games.query('year_of_release>=2013')\n",
    "\n",
    "games_new.head(20)"
   ]
  },
  {
   "cell_type": "code",
   "execution_count": 26,
   "metadata": {},
   "outputs": [
    {
     "data": {
      "text/plain": [
       "array(['PS3', 'X360', 'PS4', '3DS', 'XOne', 'WiiU', 'Wii', 'PC', 'PSV',\n",
       "       'DS', 'PSP'], dtype=object)"
      ]
     },
     "execution_count": 26,
     "metadata": {},
     "output_type": "execute_result"
    }
   ],
   "source": [
    "games_new['platform'].unique()"
   ]
  },
  {
   "cell_type": "markdown",
   "metadata": {},
   "source": [
    "Обращаем внимание, что некоторые платформы обновлялись, поэтому имеет смысл для дальнейшего анализа взять последние версии: PS4 вместо PS3, XOne вместо X360, WiiU вместо Wii, 3DS вместо DS."
   ]
  },
  {
   "cell_type": "code",
   "execution_count": 27,
   "metadata": {},
   "outputs": [
    {
     "data": {
      "text/html": [
       "<div>\n",
       "<style scoped>\n",
       "    .dataframe tbody tr th:only-of-type {\n",
       "        vertical-align: middle;\n",
       "    }\n",
       "\n",
       "    .dataframe tbody tr th {\n",
       "        vertical-align: top;\n",
       "    }\n",
       "\n",
       "    .dataframe thead th {\n",
       "        text-align: right;\n",
       "    }\n",
       "</style>\n",
       "<table border=\"1\" class=\"dataframe\">\n",
       "  <thead>\n",
       "    <tr style=\"text-align: right;\">\n",
       "      <th></th>\n",
       "      <th>name</th>\n",
       "      <th>platform</th>\n",
       "      <th>year_of_release</th>\n",
       "      <th>genre</th>\n",
       "      <th>na_sales</th>\n",
       "      <th>eu_sales</th>\n",
       "      <th>jp_sales</th>\n",
       "      <th>other_sales</th>\n",
       "      <th>critic_score</th>\n",
       "      <th>user_score</th>\n",
       "      <th>rating</th>\n",
       "      <th>all_sales</th>\n",
       "    </tr>\n",
       "  </thead>\n",
       "  <tbody>\n",
       "    <tr>\n",
       "      <th>31</th>\n",
       "      <td>Call of Duty: Black Ops 3</td>\n",
       "      <td>PS4</td>\n",
       "      <td>2015</td>\n",
       "      <td>Shooter</td>\n",
       "      <td>6.03</td>\n",
       "      <td>5.86</td>\n",
       "      <td>0.36</td>\n",
       "      <td>2.38</td>\n",
       "      <td>NaN</td>\n",
       "      <td>NaN</td>\n",
       "      <td>undefined</td>\n",
       "      <td>14.63</td>\n",
       "    </tr>\n",
       "    <tr>\n",
       "      <th>33</th>\n",
       "      <td>Pokemon X/Pokemon Y</td>\n",
       "      <td>3DS</td>\n",
       "      <td>2013</td>\n",
       "      <td>Role-Playing</td>\n",
       "      <td>5.28</td>\n",
       "      <td>4.19</td>\n",
       "      <td>4.35</td>\n",
       "      <td>0.78</td>\n",
       "      <td>NaN</td>\n",
       "      <td>NaN</td>\n",
       "      <td>undefined</td>\n",
       "      <td>14.60</td>\n",
       "    </tr>\n",
       "    <tr>\n",
       "      <th>40</th>\n",
       "      <td>Mario Kart 7</td>\n",
       "      <td>3DS</td>\n",
       "      <td>2011</td>\n",
       "      <td>Racing</td>\n",
       "      <td>5.03</td>\n",
       "      <td>4.02</td>\n",
       "      <td>2.69</td>\n",
       "      <td>0.91</td>\n",
       "      <td>85.0</td>\n",
       "      <td>8.2</td>\n",
       "      <td>E</td>\n",
       "      <td>12.65</td>\n",
       "    </tr>\n",
       "    <tr>\n",
       "      <th>42</th>\n",
       "      <td>Grand Theft Auto V</td>\n",
       "      <td>PS4</td>\n",
       "      <td>2014</td>\n",
       "      <td>Action</td>\n",
       "      <td>3.96</td>\n",
       "      <td>6.31</td>\n",
       "      <td>0.38</td>\n",
       "      <td>1.97</td>\n",
       "      <td>97.0</td>\n",
       "      <td>8.3</td>\n",
       "      <td>M</td>\n",
       "      <td>12.62</td>\n",
       "    </tr>\n",
       "    <tr>\n",
       "      <th>47</th>\n",
       "      <td>Pokemon Omega Ruby/Pokemon Alpha Sapphire</td>\n",
       "      <td>3DS</td>\n",
       "      <td>2014</td>\n",
       "      <td>Role-Playing</td>\n",
       "      <td>4.35</td>\n",
       "      <td>3.49</td>\n",
       "      <td>3.10</td>\n",
       "      <td>0.74</td>\n",
       "      <td>NaN</td>\n",
       "      <td>NaN</td>\n",
       "      <td>undefined</td>\n",
       "      <td>11.68</td>\n",
       "    </tr>\n",
       "  </tbody>\n",
       "</table>\n",
       "</div>"
      ],
      "text/plain": [
       "                                         name platform  year_of_release  \\\n",
       "31                  Call of Duty: Black Ops 3      PS4             2015   \n",
       "33                        Pokemon X/Pokemon Y      3DS             2013   \n",
       "40                               Mario Kart 7      3DS             2011   \n",
       "42                         Grand Theft Auto V      PS4             2014   \n",
       "47  Pokemon Omega Ruby/Pokemon Alpha Sapphire      3DS             2014   \n",
       "\n",
       "           genre  na_sales  eu_sales  jp_sales  other_sales  critic_score  \\\n",
       "31       Shooter      6.03      5.86      0.36         2.38           NaN   \n",
       "33  Role-Playing      5.28      4.19      4.35         0.78           NaN   \n",
       "40        Racing      5.03      4.02      2.69         0.91          85.0   \n",
       "42        Action      3.96      6.31      0.38         1.97          97.0   \n",
       "47  Role-Playing      4.35      3.49      3.10         0.74           NaN   \n",
       "\n",
       "    user_score     rating  all_sales  \n",
       "31         NaN  undefined      14.63  \n",
       "33         NaN  undefined      14.60  \n",
       "40         8.2          E      12.65  \n",
       "42         8.3          M      12.62  \n",
       "47         NaN  undefined      11.68  "
      ]
     },
     "execution_count": 27,
     "metadata": {},
     "output_type": "execute_result"
    }
   ],
   "source": [
    "final_data = data_games.loc[\n",
    "    data_games['platform'].isin([\"PS4\", \"3DS\", \"XOne\", \"WiiU\", \"PC\"])\n",
    "]\n",
    "final_data.head()"
   ]
  },
  {
   "cell_type": "markdown",
   "metadata": {},
   "source": [
    "Создаём срезы по отдельным платформам для построения графика"
   ]
  },
  {
   "cell_type": "code",
   "execution_count": 28,
   "metadata": {},
   "outputs": [],
   "source": [
    "PS4_data = games_new.query('platform== \"PS4\"')\n",
    "DS3_data = games_new.query('platform== \"3DS\"')\n",
    "WiiU_data = games_new.query('platform== \"WiiU\"')\n",
    "XOne_data = games_new.query('platform== \"X360\"')\n",
    "PC_data = games_new.query('platform== \"PC\"')"
   ]
  },
  {
   "cell_type": "code",
   "execution_count": 29,
   "metadata": {},
   "outputs": [
    {
     "data": {
      "text/plain": [
       "<AxesSubplot:xlabel='year_of_release'>"
      ]
     },
     "execution_count": 29,
     "metadata": {},
     "output_type": "execute_result"
    },
    {
     "data": {
      "image/png": "[encoded data removed]",
      "text/plain": [
       "<Figure size 1152x360 with 1 Axes>"
      ]
     },
     "metadata": {
      "needs_background": "light"
     },
     "output_type": "display_data"
    }
   ],
   "source": [
    "games_new.loc[\n",
    "    data_games['platform'].isin([\"PS4\", \"3DS\", \"XOne\", \"WiiU\", \"PC\"])\n",
    "].pivot_table(\n",
    "    index='year_of_release',\n",
    "    columns='platform',\n",
    "    values='genre',\n",
    "    aggfunc='count'\n",
    ").plot(figsize=(16,5))"
   ]
  },
  {
   "cell_type": "markdown",
   "metadata": {},
   "source": [
    "По данной гистограмме можем сделать следующие выводы:\n",
    "1. Продажи стабильно растут у платформ PS и PC\n",
    "3. Продажи  WiiU и 3DS держат неплохие позиции.\n",
    "4. Потенциально прибыльными платформами по статистике последнего года являются PS4, XOne, PC "
   ]
  },
  {
   "cell_type": "markdown",
   "metadata": {},
   "source": [
    "Строим график «ящик с усами» по глобальным продажам игр в разбивке по платформам"
   ]
  },
  {
   "cell_type": "code",
   "execution_count": 30,
   "metadata": {},
   "outputs": [
    {
     "data": {
      "text/plain": [
       "Text(0, 0.5, 'Глобальные продажи')"
      ]
     },
     "execution_count": 30,
     "metadata": {},
     "output_type": "execute_result"
    },
    {
     "data": {
      "image/png": "[encoded data removed]",
      "text/plain": [
       "<Figure size 1008x576 with 1 Axes>"
      ]
     },
     "metadata": {
      "needs_background": "light"
     },
     "output_type": "display_data"
    }
   ],
   "source": [
    "plt.figure(figsize=(14,8))\n",
    "ax = sns.boxplot(data=games_new, y=\"all_sales\", x='platform')\n",
    "sns.set(style=\"ticks\")\n",
    "ax.set_title('Распределение глобальных продаж по плаформам')\n",
    "ax.set_xlabel('Игровая платформа')\n",
    "ax.set_ylabel('Глобальные продажи')\n"
   ]
  },
  {
   "cell_type": "markdown",
   "metadata": {},
   "source": [
    "Вывод по графику:\n",
    "Есть достаточно большое количество игр с очень высокими показателями продажам по сравнению со средними значениями."
   ]
  },
  {
   "cell_type": "markdown",
   "metadata": {},
   "source": [
    "Рассмотрим, как влияют на продажи внутри одной популярной платформы (возьмём PS4) отзывы пользователей и критиков.\n",
    "Построим диаграмму рассеяния и посчитаем корреляцию между отзывами и продажами. "
   ]
  },
  {
   "cell_type": "markdown",
   "metadata": {},
   "source": [
    "Делаем срез по необходимой платформе"
   ]
  },
  {
   "cell_type": "code",
   "execution_count": 31,
   "metadata": {},
   "outputs": [
    {
     "data": {
      "text/html": [
       "<div>\n",
       "<style scoped>\n",
       "    .dataframe tbody tr th:only-of-type {\n",
       "        vertical-align: middle;\n",
       "    }\n",
       "\n",
       "    .dataframe tbody tr th {\n",
       "        vertical-align: top;\n",
       "    }\n",
       "\n",
       "    .dataframe thead th {\n",
       "        text-align: right;\n",
       "    }\n",
       "</style>\n",
       "<table border=\"1\" class=\"dataframe\">\n",
       "  <thead>\n",
       "    <tr style=\"text-align: right;\">\n",
       "      <th></th>\n",
       "      <th>name</th>\n",
       "      <th>platform</th>\n",
       "      <th>year_of_release</th>\n",
       "      <th>genre</th>\n",
       "      <th>na_sales</th>\n",
       "      <th>eu_sales</th>\n",
       "      <th>jp_sales</th>\n",
       "      <th>other_sales</th>\n",
       "      <th>critic_score</th>\n",
       "      <th>user_score</th>\n",
       "      <th>rating</th>\n",
       "      <th>all_sales</th>\n",
       "    </tr>\n",
       "  </thead>\n",
       "  <tbody>\n",
       "    <tr>\n",
       "      <th>31</th>\n",
       "      <td>Call of Duty: Black Ops 3</td>\n",
       "      <td>PS4</td>\n",
       "      <td>2015</td>\n",
       "      <td>Shooter</td>\n",
       "      <td>6.03</td>\n",
       "      <td>5.86</td>\n",
       "      <td>0.36</td>\n",
       "      <td>2.38</td>\n",
       "      <td>NaN</td>\n",
       "      <td>NaN</td>\n",
       "      <td>undefined</td>\n",
       "      <td>14.63</td>\n",
       "    </tr>\n",
       "    <tr>\n",
       "      <th>42</th>\n",
       "      <td>Grand Theft Auto V</td>\n",
       "      <td>PS4</td>\n",
       "      <td>2014</td>\n",
       "      <td>Action</td>\n",
       "      <td>3.96</td>\n",
       "      <td>6.31</td>\n",
       "      <td>0.38</td>\n",
       "      <td>1.97</td>\n",
       "      <td>97.0</td>\n",
       "      <td>8.3</td>\n",
       "      <td>M</td>\n",
       "      <td>12.62</td>\n",
       "    </tr>\n",
       "    <tr>\n",
       "      <th>77</th>\n",
       "      <td>FIFA 16</td>\n",
       "      <td>PS4</td>\n",
       "      <td>2015</td>\n",
       "      <td>Sports</td>\n",
       "      <td>1.12</td>\n",
       "      <td>6.12</td>\n",
       "      <td>0.06</td>\n",
       "      <td>1.28</td>\n",
       "      <td>82.0</td>\n",
       "      <td>4.3</td>\n",
       "      <td>E</td>\n",
       "      <td>8.58</td>\n",
       "    </tr>\n",
       "    <tr>\n",
       "      <th>87</th>\n",
       "      <td>Star Wars Battlefront (2015)</td>\n",
       "      <td>PS4</td>\n",
       "      <td>2015</td>\n",
       "      <td>Shooter</td>\n",
       "      <td>2.99</td>\n",
       "      <td>3.49</td>\n",
       "      <td>0.22</td>\n",
       "      <td>1.28</td>\n",
       "      <td>NaN</td>\n",
       "      <td>NaN</td>\n",
       "      <td>undefined</td>\n",
       "      <td>7.98</td>\n",
       "    </tr>\n",
       "    <tr>\n",
       "      <th>92</th>\n",
       "      <td>Call of Duty: Advanced Warfare</td>\n",
       "      <td>PS4</td>\n",
       "      <td>2014</td>\n",
       "      <td>Shooter</td>\n",
       "      <td>2.81</td>\n",
       "      <td>3.48</td>\n",
       "      <td>0.14</td>\n",
       "      <td>1.23</td>\n",
       "      <td>83.0</td>\n",
       "      <td>5.7</td>\n",
       "      <td>M</td>\n",
       "      <td>7.66</td>\n",
       "    </tr>\n",
       "    <tr>\n",
       "      <th>94</th>\n",
       "      <td>FIFA 17</td>\n",
       "      <td>PS4</td>\n",
       "      <td>2016</td>\n",
       "      <td>Sports</td>\n",
       "      <td>0.66</td>\n",
       "      <td>5.75</td>\n",
       "      <td>0.08</td>\n",
       "      <td>1.11</td>\n",
       "      <td>85.0</td>\n",
       "      <td>5.0</td>\n",
       "      <td>E</td>\n",
       "      <td>7.60</td>\n",
       "    </tr>\n",
       "    <tr>\n",
       "      <th>105</th>\n",
       "      <td>Fallout 4</td>\n",
       "      <td>PS4</td>\n",
       "      <td>2015</td>\n",
       "      <td>Role-Playing</td>\n",
       "      <td>2.53</td>\n",
       "      <td>3.27</td>\n",
       "      <td>0.24</td>\n",
       "      <td>1.13</td>\n",
       "      <td>87.0</td>\n",
       "      <td>6.5</td>\n",
       "      <td>M</td>\n",
       "      <td>7.17</td>\n",
       "    </tr>\n",
       "    <tr>\n",
       "      <th>143</th>\n",
       "      <td>FIFA 15</td>\n",
       "      <td>PS4</td>\n",
       "      <td>2014</td>\n",
       "      <td>Sports</td>\n",
       "      <td>0.80</td>\n",
       "      <td>4.33</td>\n",
       "      <td>0.05</td>\n",
       "      <td>0.90</td>\n",
       "      <td>82.0</td>\n",
       "      <td>5.7</td>\n",
       "      <td>E</td>\n",
       "      <td>6.08</td>\n",
       "    </tr>\n",
       "    <tr>\n",
       "      <th>154</th>\n",
       "      <td>Destiny</td>\n",
       "      <td>PS4</td>\n",
       "      <td>2014</td>\n",
       "      <td>Shooter</td>\n",
       "      <td>2.49</td>\n",
       "      <td>2.07</td>\n",
       "      <td>0.16</td>\n",
       "      <td>0.92</td>\n",
       "      <td>76.0</td>\n",
       "      <td>6.1</td>\n",
       "      <td>T</td>\n",
       "      <td>5.64</td>\n",
       "    </tr>\n",
       "    <tr>\n",
       "      <th>171</th>\n",
       "      <td>Uncharted 4: A Thief's End</td>\n",
       "      <td>PS4</td>\n",
       "      <td>2016</td>\n",
       "      <td>Shooter</td>\n",
       "      <td>1.85</td>\n",
       "      <td>2.50</td>\n",
       "      <td>0.19</td>\n",
       "      <td>0.85</td>\n",
       "      <td>93.0</td>\n",
       "      <td>7.9</td>\n",
       "      <td>T</td>\n",
       "      <td>5.39</td>\n",
       "    </tr>\n",
       "  </tbody>\n",
       "</table>\n",
       "</div>"
      ],
      "text/plain": [
       "                               name platform  year_of_release         genre  \\\n",
       "31        Call of Duty: Black Ops 3      PS4             2015       Shooter   \n",
       "42               Grand Theft Auto V      PS4             2014        Action   \n",
       "77                          FIFA 16      PS4             2015        Sports   \n",
       "87     Star Wars Battlefront (2015)      PS4             2015       Shooter   \n",
       "92   Call of Duty: Advanced Warfare      PS4             2014       Shooter   \n",
       "94                          FIFA 17      PS4             2016        Sports   \n",
       "105                       Fallout 4      PS4             2015  Role-Playing   \n",
       "143                         FIFA 15      PS4             2014        Sports   \n",
       "154                         Destiny      PS4             2014       Shooter   \n",
       "171      Uncharted 4: A Thief's End      PS4             2016       Shooter   \n",
       "\n",
       "     na_sales  eu_sales  jp_sales  other_sales  critic_score  user_score  \\\n",
       "31       6.03      5.86      0.36         2.38           NaN         NaN   \n",
       "42       3.96      6.31      0.38         1.97          97.0         8.3   \n",
       "77       1.12      6.12      0.06         1.28          82.0         4.3   \n",
       "87       2.99      3.49      0.22         1.28           NaN         NaN   \n",
       "92       2.81      3.48      0.14         1.23          83.0         5.7   \n",
       "94       0.66      5.75      0.08         1.11          85.0         5.0   \n",
       "105      2.53      3.27      0.24         1.13          87.0         6.5   \n",
       "143      0.80      4.33      0.05         0.90          82.0         5.7   \n",
       "154      2.49      2.07      0.16         0.92          76.0         6.1   \n",
       "171      1.85      2.50      0.19         0.85          93.0         7.9   \n",
       "\n",
       "        rating  all_sales  \n",
       "31   undefined      14.63  \n",
       "42           M      12.62  \n",
       "77           E       8.58  \n",
       "87   undefined       7.98  \n",
       "92           M       7.66  \n",
       "94           E       7.60  \n",
       "105          M       7.17  \n",
       "143          E       6.08  \n",
       "154          T       5.64  \n",
       "171          T       5.39  "
      ]
     },
     "execution_count": 31,
     "metadata": {},
     "output_type": "execute_result"
    }
   ],
   "source": [
    "PS4 =games_new.loc[(games_new['platform'] == 'PS4')]\n",
    "PS4.head(10)"
   ]
  },
  {
   "cell_type": "markdown",
   "metadata": {},
   "source": [
    "Строим диаграммы рассеивания"
   ]
  },
  {
   "cell_type": "code",
   "execution_count": 32,
   "metadata": {},
   "outputs": [
    {
     "name": "stderr",
     "output_type": "stream",
     "text": [
      "*c* argument looks like a single numeric RGB or RGBA sequence, which should be avoided as value-mapping will have precedence in case its length matches with *x* & *y*.  Please use the *color* keyword-argument or provide a 2-D array with a single row if you intend to specify the same RGB or RGBA value for all points.\n"
     ]
    },
    {
     "data": {
      "text/plain": [
       "<AxesSubplot:title={'center':'Влияние отзывов критиков (PS4)'}, xlabel='critic_score', ylabel='all_sales'>"
      ]
     },
     "execution_count": 32,
     "metadata": {},
     "output_type": "execute_result"
    },
    {
     "data": {
      "image/png": "[encoded data removed]",
      "text/plain": [
       "<Figure size 432x288 with 1 Axes>"
      ]
     },
     "metadata": {},
     "output_type": "display_data"
    }
   ],
   "source": [
    "PS4.plot(y='all_sales',\n",
    "    x='critic_score',\n",
    "    kind='scatter',\n",
    "    grid=True,\n",
    "    legend=True,\n",
    "    title = 'Влияние отзывов критиков (PS4)'\n",
    ")\n",
    "\n"
   ]
  },
  {
   "cell_type": "code",
   "execution_count": 33,
   "metadata": {},
   "outputs": [
    {
     "name": "stderr",
     "output_type": "stream",
     "text": [
      "*c* argument looks like a single numeric RGB or RGBA sequence, which should be avoided as value-mapping will have precedence in case its length matches with *x* & *y*.  Please use the *color* keyword-argument or provide a 2-D array with a single row if you intend to specify the same RGB or RGBA value for all points.\n"
     ]
    },
    {
     "data": {
      "text/plain": [
       "<AxesSubplot:title={'center':'Влияние отзывов пользователей (PS4)'}, xlabel='user_score', ylabel='all_sales'>"
      ]
     },
     "execution_count": 33,
     "metadata": {},
     "output_type": "execute_result"
    },
    {
     "data": {
      "image/png": "[encoded data removed]",
      "text/plain": [
       "<Figure size 432x288 with 1 Axes>"
      ]
     },
     "metadata": {},
     "output_type": "display_data"
    }
   ],
   "source": [
    "PS4.plot(y='all_sales',\n",
    "    x='user_score',\n",
    "    kind='scatter',\n",
    "    grid=True,\n",
    "    legend=True,\n",
    "    title = 'Влияние отзывов пользователей (PS4)'\n",
    ")\n",
    "\n"
   ]
  },
  {
   "cell_type": "markdown",
   "metadata": {},
   "source": [
    "По данным диаграммам видно, что на продажи влияют отзывы критиков больше, чем отзывы пользователей.\n",
    "\n",
    "Считаем корреляцию между отзывами и продажами."
   ]
  },
  {
   "cell_type": "code",
   "execution_count": 34,
   "metadata": {},
   "outputs": [
    {
     "name": "stdout",
     "output_type": "stream",
     "text": [
      "Корреляция между отзывами критиков и продажами (PS4): 0.406567902061781\n",
      "Корреляция между отзывами пользователей и продажами (PS4): -0.031957110204556376\n"
     ]
    }
   ],
   "source": [
    "print('Корреляция между отзывами критиков и продажами (PS4):', PS4['all_sales'].corr(PS4['critic_score']))\n",
    "print('Корреляция между отзывами пользователей и продажами (PS4):', PS4['all_sales'].corr(PS4['user_score']))"
   ]
  },
  {
   "cell_type": "code",
   "execution_count": 35,
   "metadata": {},
   "outputs": [
    {
     "data": {
      "text/html": [
       "<div>\n",
       "<style scoped>\n",
       "    .dataframe tbody tr th:only-of-type {\n",
       "        vertical-align: middle;\n",
       "    }\n",
       "\n",
       "    .dataframe tbody tr th {\n",
       "        vertical-align: top;\n",
       "    }\n",
       "\n",
       "    .dataframe thead th {\n",
       "        text-align: right;\n",
       "    }\n",
       "</style>\n",
       "<table border=\"1\" class=\"dataframe\">\n",
       "  <thead>\n",
       "    <tr style=\"text-align: right;\">\n",
       "      <th></th>\n",
       "      <th>platform</th>\n",
       "      <th>level_1</th>\n",
       "      <th>all_sales</th>\n",
       "      <th>critic_score</th>\n",
       "      <th>user_score</th>\n",
       "    </tr>\n",
       "  </thead>\n",
       "  <tbody>\n",
       "    <tr>\n",
       "      <th>0</th>\n",
       "      <td>3DS</td>\n",
       "      <td>all_sales</td>\n",
       "      <td>1.0</td>\n",
       "      <td>0.348740</td>\n",
       "      <td>0.222078</td>\n",
       "    </tr>\n",
       "    <tr>\n",
       "      <th>3</th>\n",
       "      <td>PC</td>\n",
       "      <td>all_sales</td>\n",
       "      <td>1.0</td>\n",
       "      <td>0.257395</td>\n",
       "      <td>0.012905</td>\n",
       "    </tr>\n",
       "    <tr>\n",
       "      <th>6</th>\n",
       "      <td>PS4</td>\n",
       "      <td>all_sales</td>\n",
       "      <td>1.0</td>\n",
       "      <td>0.406568</td>\n",
       "      <td>-0.031957</td>\n",
       "    </tr>\n",
       "    <tr>\n",
       "      <th>9</th>\n",
       "      <td>WiiU</td>\n",
       "      <td>all_sales</td>\n",
       "      <td>1.0</td>\n",
       "      <td>0.348380</td>\n",
       "      <td>0.400219</td>\n",
       "    </tr>\n",
       "    <tr>\n",
       "      <th>12</th>\n",
       "      <td>XOne</td>\n",
       "      <td>all_sales</td>\n",
       "      <td>1.0</td>\n",
       "      <td>0.416998</td>\n",
       "      <td>-0.068925</td>\n",
       "    </tr>\n",
       "  </tbody>\n",
       "</table>\n",
       "</div>"
      ],
      "text/plain": [
       "   platform    level_1  all_sales  critic_score  user_score\n",
       "0       3DS  all_sales        1.0      0.348740    0.222078\n",
       "3        PC  all_sales        1.0      0.257395    0.012905\n",
       "6       PS4  all_sales        1.0      0.406568   -0.031957\n",
       "9      WiiU  all_sales        1.0      0.348380    0.400219\n",
       "12     XOne  all_sales        1.0      0.416998   -0.068925"
      ]
     },
     "execution_count": 35,
     "metadata": {},
     "output_type": "execute_result"
    }
   ],
   "source": [
    "final_data.groupby(['platform'])[['all_sales','critic_score','user_score']].agg('corr').reset_index().query('level_1 == \"all_sales\"')"
   ]
  },
  {
   "cell_type": "markdown",
   "metadata": {},
   "source": [
    "**Вывод**\n",
    "1. Наблюдается корреляция между отзывами критиков и продажами на всех платформах\n",
    "2. У платформы WiiU корреляция выше между отзывами пользователей: можно сделать вывод, что пользователи этой платформы перед покупкой интересуются отзывами других пользователей.\n",
    "3. Продажи платформы 3DS не зависят от отзывов\n",
    "4. В общем и целом наблюдается тенденция зависимости от отзывов критиков: предполагаем, что на них при покупке ориентируются больше всего."
   ]
  },
  {
   "cell_type": "markdown",
   "metadata": {},
   "source": [
    "Посмотрим на общее распределение игр по жанрам. "
   ]
  },
  {
   "cell_type": "code",
   "execution_count": 36,
   "metadata": {},
   "outputs": [
    {
     "data": {
      "text/plain": [
       "genre\n",
       "Shooter         0.450\n",
       "Sports          0.240\n",
       "Platform        0.225\n",
       "Role-Playing    0.125\n",
       "Fighting        0.125\n",
       "Racing          0.120\n",
       "Action          0.110\n",
       "Simulation      0.100\n",
       "Misc            0.100\n",
       "Strategy        0.080\n",
       "Puzzle          0.060\n",
       "Adventure       0.030\n",
       "Name: all_sales, dtype: float64"
      ]
     },
     "execution_count": 36,
     "metadata": {},
     "output_type": "execute_result"
    }
   ],
   "source": [
    "genres = games_new.groupby('genre')['all_sales'].agg('median').sort_values(ascending=False)\n",
    "genres              "
   ]
  },
  {
   "cell_type": "code",
   "execution_count": 37,
   "metadata": {},
   "outputs": [
    {
     "data": {
      "text/plain": [
       "Text(0, 0.5, 'Глобальные продажи')"
      ]
     },
     "execution_count": 37,
     "metadata": {},
     "output_type": "execute_result"
    },
    {
     "data": {
      "image/png": "[encoded data removed]",
      "text/plain": [
       "<Figure size 432x288 with 1 Axes>"
      ]
     },
     "metadata": {},
     "output_type": "display_data"
    }
   ],
   "source": [
    "ax =  genres.plot.bar() \n",
    "ax.set_title('Распределение глобальных продаж по жанрам')\n",
    "ax.set_xlabel('Игровая платформа')\n",
    "ax.set_ylabel('Глобальные продажи')"
   ]
  },
  {
   "cell_type": "markdown",
   "metadata": {},
   "source": [
    "По сгруппированной таблице и графику можем сделать следующие выводы:\n",
    "1. В топе по продажам такие жанры, как: Shooter, Sports, Platform\n",
    "2. Самыми низкими по продажам оказались Strategy, Puzzle, Adventure\n",
    "3. По предыдущим двум пунктам можно сделать вывод, какие жанры стоит продвигать для увеличения продаж."
   ]
  },
  {
   "cell_type": "markdown",
   "metadata": {},
   "source": [
    "**Общий вывод по исследовательскому анализу**\n",
    "1. Выявили, сколько игр выпускалось за разные годы. Обратили внимание на то, что до 1994 года выпускалось очень мало игр.\n",
    "2. Проверили, как менялись продажи по платформам. Выбрали платформы с наибольшими суммарными продажами. Выявили характерный срок появления новых и исчезновения старых платформ: от 5 до 10 лет.\n",
    "3. Выявили актуальный период для исследования: начиная с 2013 года.\n",
    "4. Определили потенциально прибыльные платформы по статистике последнего года: PS4, XOne, PC\n",
    "5. Определили тенденцию зависимости от отзывов критиков: предполагаем, что на них при покупке ориентируются больше всего. Для этого сравнили зависимость от отзывов платформы PS4 и всех других платформ.\n",
    "6. Определили топ жанров: Shooter, Sports, Platform.  Эти жанры стоит продвигать для увеличения продаж.\n",
    "\n"
   ]
  },
  {
   "cell_type": "markdown",
   "metadata": {},
   "source": [
    "# 4. Составление портрета пользователя каждого региона"
   ]
  },
  {
   "cell_type": "markdown",
   "metadata": {},
   "source": [
    "Делаем таблицу с суммами продаж по регионам для каждой платформы. Используем для этого таблицу с данными с 2013 по 2016 год."
   ]
  },
  {
   "cell_type": "code",
   "execution_count": 38,
   "metadata": {},
   "outputs": [
    {
     "data": {
      "text/html": [
       "<div>\n",
       "<style scoped>\n",
       "    .dataframe tbody tr th:only-of-type {\n",
       "        vertical-align: middle;\n",
       "    }\n",
       "\n",
       "    .dataframe tbody tr th {\n",
       "        vertical-align: top;\n",
       "    }\n",
       "\n",
       "    .dataframe thead th {\n",
       "        text-align: right;\n",
       "    }\n",
       "</style>\n",
       "<table border=\"1\" class=\"dataframe\">\n",
       "  <thead>\n",
       "    <tr style=\"text-align: right;\">\n",
       "      <th></th>\n",
       "      <th>na_sales</th>\n",
       "      <th>eu_sales</th>\n",
       "      <th>jp_sales</th>\n",
       "    </tr>\n",
       "    <tr>\n",
       "      <th>platform</th>\n",
       "      <th></th>\n",
       "      <th></th>\n",
       "      <th></th>\n",
       "    </tr>\n",
       "  </thead>\n",
       "  <tbody>\n",
       "    <tr>\n",
       "      <th>3DS</th>\n",
       "      <td>38.20</td>\n",
       "      <td>30.96</td>\n",
       "      <td>67.81</td>\n",
       "    </tr>\n",
       "    <tr>\n",
       "      <th>DS</th>\n",
       "      <td>0.57</td>\n",
       "      <td>0.85</td>\n",
       "      <td>0.00</td>\n",
       "    </tr>\n",
       "    <tr>\n",
       "      <th>PC</th>\n",
       "      <td>11.11</td>\n",
       "      <td>25.36</td>\n",
       "      <td>0.00</td>\n",
       "    </tr>\n",
       "    <tr>\n",
       "      <th>PS3</th>\n",
       "      <td>63.50</td>\n",
       "      <td>67.81</td>\n",
       "      <td>23.35</td>\n",
       "    </tr>\n",
       "    <tr>\n",
       "      <th>PS4</th>\n",
       "      <td>108.74</td>\n",
       "      <td>141.09</td>\n",
       "      <td>15.96</td>\n",
       "    </tr>\n",
       "    <tr>\n",
       "      <th>PSP</th>\n",
       "      <td>0.00</td>\n",
       "      <td>0.17</td>\n",
       "      <td>3.29</td>\n",
       "    </tr>\n",
       "    <tr>\n",
       "      <th>PSV</th>\n",
       "      <td>5.04</td>\n",
       "      <td>6.10</td>\n",
       "      <td>18.59</td>\n",
       "    </tr>\n",
       "    <tr>\n",
       "      <th>Wii</th>\n",
       "      <td>6.56</td>\n",
       "      <td>5.93</td>\n",
       "      <td>0.05</td>\n",
       "    </tr>\n",
       "    <tr>\n",
       "      <th>WiiU</th>\n",
       "      <td>29.21</td>\n",
       "      <td>19.85</td>\n",
       "      <td>10.88</td>\n",
       "    </tr>\n",
       "    <tr>\n",
       "      <th>X360</th>\n",
       "      <td>81.66</td>\n",
       "      <td>42.52</td>\n",
       "      <td>0.51</td>\n",
       "    </tr>\n",
       "  </tbody>\n",
       "</table>\n",
       "</div>"
      ],
      "text/plain": [
       "          na_sales  eu_sales  jp_sales\n",
       "platform                              \n",
       "3DS          38.20     30.96     67.81\n",
       "DS            0.57      0.85      0.00\n",
       "PC           11.11     25.36      0.00\n",
       "PS3          63.50     67.81     23.35\n",
       "PS4         108.74    141.09     15.96\n",
       "PSP           0.00      0.17      3.29\n",
       "PSV           5.04      6.10     18.59\n",
       "Wii           6.56      5.93      0.05\n",
       "WiiU         29.21     19.85     10.88\n",
       "X360         81.66     42.52      0.51"
      ]
     },
     "execution_count": 38,
     "metadata": {},
     "output_type": "execute_result"
    }
   ],
   "source": [
    "data_platforms = games_new.groupby('platform')[['na_sales', 'eu_sales', 'jp_sales']].agg('sum') \n",
    "data_platforms.head(10)"
   ]
  },
  {
   "cell_type": "markdown",
   "metadata": {},
   "source": [
    "Сортируем таблицу по данным для Северной Америки, выводим первые 5 значений. Они и будут самыми популярными платформами для этого региона. "
   ]
  },
  {
   "cell_type": "code",
   "execution_count": 39,
   "metadata": {},
   "outputs": [
    {
     "data": {
      "text/html": [
       "<div>\n",
       "<style scoped>\n",
       "    .dataframe tbody tr th:only-of-type {\n",
       "        vertical-align: middle;\n",
       "    }\n",
       "\n",
       "    .dataframe tbody tr th {\n",
       "        vertical-align: top;\n",
       "    }\n",
       "\n",
       "    .dataframe thead th {\n",
       "        text-align: right;\n",
       "    }\n",
       "</style>\n",
       "<table border=\"1\" class=\"dataframe\">\n",
       "  <thead>\n",
       "    <tr style=\"text-align: right;\">\n",
       "      <th></th>\n",
       "      <th>na_sales</th>\n",
       "      <th>eu_sales</th>\n",
       "      <th>jp_sales</th>\n",
       "    </tr>\n",
       "    <tr>\n",
       "      <th>platform</th>\n",
       "      <th></th>\n",
       "      <th></th>\n",
       "      <th></th>\n",
       "    </tr>\n",
       "  </thead>\n",
       "  <tbody>\n",
       "    <tr>\n",
       "      <th>PS4</th>\n",
       "      <td>108.74</td>\n",
       "      <td>141.09</td>\n",
       "      <td>15.96</td>\n",
       "    </tr>\n",
       "    <tr>\n",
       "      <th>XOne</th>\n",
       "      <td>93.12</td>\n",
       "      <td>51.59</td>\n",
       "      <td>0.34</td>\n",
       "    </tr>\n",
       "    <tr>\n",
       "      <th>X360</th>\n",
       "      <td>81.66</td>\n",
       "      <td>42.52</td>\n",
       "      <td>0.51</td>\n",
       "    </tr>\n",
       "    <tr>\n",
       "      <th>PS3</th>\n",
       "      <td>63.50</td>\n",
       "      <td>67.81</td>\n",
       "      <td>23.35</td>\n",
       "    </tr>\n",
       "    <tr>\n",
       "      <th>3DS</th>\n",
       "      <td>38.20</td>\n",
       "      <td>30.96</td>\n",
       "      <td>67.81</td>\n",
       "    </tr>\n",
       "  </tbody>\n",
       "</table>\n",
       "</div>"
      ],
      "text/plain": [
       "          na_sales  eu_sales  jp_sales\n",
       "platform                              \n",
       "PS4         108.74    141.09     15.96\n",
       "XOne         93.12     51.59      0.34\n",
       "X360         81.66     42.52      0.51\n",
       "PS3          63.50     67.81     23.35\n",
       "3DS          38.20     30.96     67.81"
      ]
     },
     "execution_count": 39,
     "metadata": {},
     "output_type": "execute_result"
    }
   ],
   "source": [
    "data_platforms.sort_values(by = 'na_sales', ascending = False).head(5)"
   ]
  },
  {
   "cell_type": "code",
   "execution_count": 40,
   "metadata": {},
   "outputs": [
    {
     "data": {
      "text/plain": [
       "<AxesSubplot:ylabel='na_sales'>"
      ]
     },
     "execution_count": 40,
     "metadata": {},
     "output_type": "execute_result"
    },
    {
     "data": {
      "image/png": "[encoded data removed]",
      "text/plain": [
       "<Figure size 432x288 with 1 Axes>"
      ]
     },
     "metadata": {},
     "output_type": "display_data"
    }
   ],
   "source": [
    "data_platforms.plot(kind = 'pie', y = 'na_sales')"
   ]
  },
  {
   "cell_type": "markdown",
   "metadata": {},
   "source": [
    "То же самое делаем по данным для Европы"
   ]
  },
  {
   "cell_type": "code",
   "execution_count": 41,
   "metadata": {},
   "outputs": [
    {
     "data": {
      "text/html": [
       "<div>\n",
       "<style scoped>\n",
       "    .dataframe tbody tr th:only-of-type {\n",
       "        vertical-align: middle;\n",
       "    }\n",
       "\n",
       "    .dataframe tbody tr th {\n",
       "        vertical-align: top;\n",
       "    }\n",
       "\n",
       "    .dataframe thead th {\n",
       "        text-align: right;\n",
       "    }\n",
       "</style>\n",
       "<table border=\"1\" class=\"dataframe\">\n",
       "  <thead>\n",
       "    <tr style=\"text-align: right;\">\n",
       "      <th></th>\n",
       "      <th>na_sales</th>\n",
       "      <th>eu_sales</th>\n",
       "      <th>jp_sales</th>\n",
       "    </tr>\n",
       "    <tr>\n",
       "      <th>platform</th>\n",
       "      <th></th>\n",
       "      <th></th>\n",
       "      <th></th>\n",
       "    </tr>\n",
       "  </thead>\n",
       "  <tbody>\n",
       "    <tr>\n",
       "      <th>PS4</th>\n",
       "      <td>108.74</td>\n",
       "      <td>141.09</td>\n",
       "      <td>15.96</td>\n",
       "    </tr>\n",
       "    <tr>\n",
       "      <th>PS3</th>\n",
       "      <td>63.50</td>\n",
       "      <td>67.81</td>\n",
       "      <td>23.35</td>\n",
       "    </tr>\n",
       "    <tr>\n",
       "      <th>XOne</th>\n",
       "      <td>93.12</td>\n",
       "      <td>51.59</td>\n",
       "      <td>0.34</td>\n",
       "    </tr>\n",
       "    <tr>\n",
       "      <th>X360</th>\n",
       "      <td>81.66</td>\n",
       "      <td>42.52</td>\n",
       "      <td>0.51</td>\n",
       "    </tr>\n",
       "    <tr>\n",
       "      <th>3DS</th>\n",
       "      <td>38.20</td>\n",
       "      <td>30.96</td>\n",
       "      <td>67.81</td>\n",
       "    </tr>\n",
       "  </tbody>\n",
       "</table>\n",
       "</div>"
      ],
      "text/plain": [
       "          na_sales  eu_sales  jp_sales\n",
       "platform                              \n",
       "PS4         108.74    141.09     15.96\n",
       "PS3          63.50     67.81     23.35\n",
       "XOne         93.12     51.59      0.34\n",
       "X360         81.66     42.52      0.51\n",
       "3DS          38.20     30.96     67.81"
      ]
     },
     "execution_count": 41,
     "metadata": {},
     "output_type": "execute_result"
    }
   ],
   "source": [
    "data_platforms.sort_values(by = 'eu_sales', ascending = False).head(5)"
   ]
  },
  {
   "cell_type": "markdown",
   "metadata": {},
   "source": [
    "И для Японии"
   ]
  },
  {
   "cell_type": "code",
   "execution_count": 42,
   "metadata": {},
   "outputs": [
    {
     "data": {
      "text/plain": [
       "<AxesSubplot:ylabel='eu_sales'>"
      ]
     },
     "execution_count": 42,
     "metadata": {},
     "output_type": "execute_result"
    },
    {
     "data": {
      "image/png": "[encoded data removed]",
      "text/plain": [
       "<Figure size 432x288 with 1 Axes>"
      ]
     },
     "metadata": {},
     "output_type": "display_data"
    }
   ],
   "source": [
    "data_platforms.plot(kind = 'pie', y = 'eu_sales')"
   ]
  },
  {
   "cell_type": "code",
   "execution_count": 43,
   "metadata": {},
   "outputs": [
    {
     "data": {
      "text/html": [
       "<div>\n",
       "<style scoped>\n",
       "    .dataframe tbody tr th:only-of-type {\n",
       "        vertical-align: middle;\n",
       "    }\n",
       "\n",
       "    .dataframe tbody tr th {\n",
       "        vertical-align: top;\n",
       "    }\n",
       "\n",
       "    .dataframe thead th {\n",
       "        text-align: right;\n",
       "    }\n",
       "</style>\n",
       "<table border=\"1\" class=\"dataframe\">\n",
       "  <thead>\n",
       "    <tr style=\"text-align: right;\">\n",
       "      <th></th>\n",
       "      <th>na_sales</th>\n",
       "      <th>eu_sales</th>\n",
       "      <th>jp_sales</th>\n",
       "    </tr>\n",
       "    <tr>\n",
       "      <th>platform</th>\n",
       "      <th></th>\n",
       "      <th></th>\n",
       "      <th></th>\n",
       "    </tr>\n",
       "  </thead>\n",
       "  <tbody>\n",
       "    <tr>\n",
       "      <th>3DS</th>\n",
       "      <td>38.20</td>\n",
       "      <td>30.96</td>\n",
       "      <td>67.81</td>\n",
       "    </tr>\n",
       "    <tr>\n",
       "      <th>PS3</th>\n",
       "      <td>63.50</td>\n",
       "      <td>67.81</td>\n",
       "      <td>23.35</td>\n",
       "    </tr>\n",
       "    <tr>\n",
       "      <th>PSV</th>\n",
       "      <td>5.04</td>\n",
       "      <td>6.10</td>\n",
       "      <td>18.59</td>\n",
       "    </tr>\n",
       "    <tr>\n",
       "      <th>PS4</th>\n",
       "      <td>108.74</td>\n",
       "      <td>141.09</td>\n",
       "      <td>15.96</td>\n",
       "    </tr>\n",
       "    <tr>\n",
       "      <th>WiiU</th>\n",
       "      <td>29.21</td>\n",
       "      <td>19.85</td>\n",
       "      <td>10.88</td>\n",
       "    </tr>\n",
       "  </tbody>\n",
       "</table>\n",
       "</div>"
      ],
      "text/plain": [
       "          na_sales  eu_sales  jp_sales\n",
       "platform                              \n",
       "3DS          38.20     30.96     67.81\n",
       "PS3          63.50     67.81     23.35\n",
       "PSV           5.04      6.10     18.59\n",
       "PS4         108.74    141.09     15.96\n",
       "WiiU         29.21     19.85     10.88"
      ]
     },
     "execution_count": 43,
     "metadata": {},
     "output_type": "execute_result"
    }
   ],
   "source": [
    "data_platforms.sort_values(by = 'jp_sales', ascending = False).head(5)\n"
   ]
  },
  {
   "cell_type": "code",
   "execution_count": 44,
   "metadata": {},
   "outputs": [
    {
     "data": {
      "text/plain": [
       "<AxesSubplot:ylabel='jp_sales'>"
      ]
     },
     "execution_count": 44,
     "metadata": {},
     "output_type": "execute_result"
    },
    {
     "data": {
      "image/png": "[encoded data removed]",
      "text/plain": [
       "<Figure size 432x288 with 1 Axes>"
      ]
     },
     "metadata": {},
     "output_type": "display_data"
    }
   ],
   "source": [
    "data_platforms.plot(kind = 'pie', y = 'jp_sales')"
   ]
  },
  {
   "cell_type": "markdown",
   "metadata": {},
   "source": [
    "**Вывод**\n",
    "\n",
    "1. В Северной Америке и Европе самыми популярными платформами являются разные поколения PS, Xbox \n",
    "3. В Японии помимо PS популярны также платформы DS"
   ]
  },
  {
   "cell_type": "markdown",
   "metadata": {},
   "source": [
    "Делаем таблицу с суммами продаж по регионам для каждого жанра. Используем для этого таблицу с данными с 2013 по 2016 год."
   ]
  },
  {
   "cell_type": "code",
   "execution_count": 45,
   "metadata": {},
   "outputs": [
    {
     "data": {
      "text/html": [
       "<div>\n",
       "<style scoped>\n",
       "    .dataframe tbody tr th:only-of-type {\n",
       "        vertical-align: middle;\n",
       "    }\n",
       "\n",
       "    .dataframe tbody tr th {\n",
       "        vertical-align: top;\n",
       "    }\n",
       "\n",
       "    .dataframe thead th {\n",
       "        text-align: right;\n",
       "    }\n",
       "</style>\n",
       "<table border=\"1\" class=\"dataframe\">\n",
       "  <thead>\n",
       "    <tr style=\"text-align: right;\">\n",
       "      <th></th>\n",
       "      <th>na_sales</th>\n",
       "      <th>eu_sales</th>\n",
       "      <th>jp_sales</th>\n",
       "    </tr>\n",
       "    <tr>\n",
       "      <th>genre</th>\n",
       "      <th></th>\n",
       "      <th></th>\n",
       "      <th></th>\n",
       "    </tr>\n",
       "  </thead>\n",
       "  <tbody>\n",
       "    <tr>\n",
       "      <th>Action</th>\n",
       "      <td>126.05</td>\n",
       "      <td>118.13</td>\n",
       "      <td>40.49</td>\n",
       "    </tr>\n",
       "    <tr>\n",
       "      <th>Adventure</th>\n",
       "      <td>7.14</td>\n",
       "      <td>8.25</td>\n",
       "      <td>5.82</td>\n",
       "    </tr>\n",
       "    <tr>\n",
       "      <th>Fighting</th>\n",
       "      <td>15.55</td>\n",
       "      <td>8.55</td>\n",
       "      <td>7.65</td>\n",
       "    </tr>\n",
       "    <tr>\n",
       "      <th>Misc</th>\n",
       "      <td>27.49</td>\n",
       "      <td>20.04</td>\n",
       "      <td>9.20</td>\n",
       "    </tr>\n",
       "    <tr>\n",
       "      <th>Platform</th>\n",
       "      <td>18.14</td>\n",
       "      <td>15.58</td>\n",
       "      <td>4.79</td>\n",
       "    </tr>\n",
       "    <tr>\n",
       "      <th>Puzzle</th>\n",
       "      <td>0.83</td>\n",
       "      <td>1.00</td>\n",
       "      <td>1.18</td>\n",
       "    </tr>\n",
       "    <tr>\n",
       "      <th>Racing</th>\n",
       "      <td>12.96</td>\n",
       "      <td>20.19</td>\n",
       "      <td>2.30</td>\n",
       "    </tr>\n",
       "    <tr>\n",
       "      <th>Role-Playing</th>\n",
       "      <td>46.40</td>\n",
       "      <td>36.97</td>\n",
       "      <td>51.04</td>\n",
       "    </tr>\n",
       "    <tr>\n",
       "      <th>Shooter</th>\n",
       "      <td>109.74</td>\n",
       "      <td>87.86</td>\n",
       "      <td>6.61</td>\n",
       "    </tr>\n",
       "    <tr>\n",
       "      <th>Simulation</th>\n",
       "      <td>4.86</td>\n",
       "      <td>10.92</td>\n",
       "      <td>4.52</td>\n",
       "    </tr>\n",
       "  </tbody>\n",
       "</table>\n",
       "</div>"
      ],
      "text/plain": [
       "              na_sales  eu_sales  jp_sales\n",
       "genre                                     \n",
       "Action          126.05    118.13     40.49\n",
       "Adventure         7.14      8.25      5.82\n",
       "Fighting         15.55      8.55      7.65\n",
       "Misc             27.49     20.04      9.20\n",
       "Platform         18.14     15.58      4.79\n",
       "Puzzle            0.83      1.00      1.18\n",
       "Racing           12.96     20.19      2.30\n",
       "Role-Playing     46.40     36.97     51.04\n",
       "Shooter         109.74     87.86      6.61\n",
       "Simulation        4.86     10.92      4.52"
      ]
     },
     "execution_count": 45,
     "metadata": {},
     "output_type": "execute_result"
    }
   ],
   "source": [
    "data_genres = games_new.groupby('genre')[['na_sales', 'eu_sales', 'jp_sales']].agg('sum') \n",
    "data_genres.head(10)"
   ]
  },
  {
   "cell_type": "markdown",
   "metadata": {},
   "source": [
    "Сортируем таблицу по данным для Северной Америки, выводим первые 5 значений. Они и будут самыми популярными жанрами для этого региона. "
   ]
  },
  {
   "cell_type": "code",
   "execution_count": 46,
   "metadata": {},
   "outputs": [
    {
     "data": {
      "text/html": [
       "<div>\n",
       "<style scoped>\n",
       "    .dataframe tbody tr th:only-of-type {\n",
       "        vertical-align: middle;\n",
       "    }\n",
       "\n",
       "    .dataframe tbody tr th {\n",
       "        vertical-align: top;\n",
       "    }\n",
       "\n",
       "    .dataframe thead th {\n",
       "        text-align: right;\n",
       "    }\n",
       "</style>\n",
       "<table border=\"1\" class=\"dataframe\">\n",
       "  <thead>\n",
       "    <tr style=\"text-align: right;\">\n",
       "      <th></th>\n",
       "      <th>na_sales</th>\n",
       "      <th>eu_sales</th>\n",
       "      <th>jp_sales</th>\n",
       "    </tr>\n",
       "    <tr>\n",
       "      <th>genre</th>\n",
       "      <th></th>\n",
       "      <th></th>\n",
       "      <th></th>\n",
       "    </tr>\n",
       "  </thead>\n",
       "  <tbody>\n",
       "    <tr>\n",
       "      <th>Action</th>\n",
       "      <td>126.05</td>\n",
       "      <td>118.13</td>\n",
       "      <td>40.49</td>\n",
       "    </tr>\n",
       "    <tr>\n",
       "      <th>Shooter</th>\n",
       "      <td>109.74</td>\n",
       "      <td>87.86</td>\n",
       "      <td>6.61</td>\n",
       "    </tr>\n",
       "    <tr>\n",
       "      <th>Sports</th>\n",
       "      <td>65.27</td>\n",
       "      <td>60.52</td>\n",
       "      <td>5.41</td>\n",
       "    </tr>\n",
       "    <tr>\n",
       "      <th>Role-Playing</th>\n",
       "      <td>46.40</td>\n",
       "      <td>36.97</td>\n",
       "      <td>51.04</td>\n",
       "    </tr>\n",
       "    <tr>\n",
       "      <th>Misc</th>\n",
       "      <td>27.49</td>\n",
       "      <td>20.04</td>\n",
       "      <td>9.20</td>\n",
       "    </tr>\n",
       "  </tbody>\n",
       "</table>\n",
       "</div>"
      ],
      "text/plain": [
       "              na_sales  eu_sales  jp_sales\n",
       "genre                                     \n",
       "Action          126.05    118.13     40.49\n",
       "Shooter         109.74     87.86      6.61\n",
       "Sports           65.27     60.52      5.41\n",
       "Role-Playing     46.40     36.97     51.04\n",
       "Misc             27.49     20.04      9.20"
      ]
     },
     "execution_count": 46,
     "metadata": {},
     "output_type": "execute_result"
    }
   ],
   "source": [
    "data_genres.sort_values(by = 'na_sales', ascending = False).head(5)"
   ]
  },
  {
   "cell_type": "markdown",
   "metadata": {},
   "source": [
    "Сортируем таблицу по данным для Европы"
   ]
  },
  {
   "cell_type": "code",
   "execution_count": 47,
   "metadata": {},
   "outputs": [
    {
     "data": {
      "text/html": [
       "<div>\n",
       "<style scoped>\n",
       "    .dataframe tbody tr th:only-of-type {\n",
       "        vertical-align: middle;\n",
       "    }\n",
       "\n",
       "    .dataframe tbody tr th {\n",
       "        vertical-align: top;\n",
       "    }\n",
       "\n",
       "    .dataframe thead th {\n",
       "        text-align: right;\n",
       "    }\n",
       "</style>\n",
       "<table border=\"1\" class=\"dataframe\">\n",
       "  <thead>\n",
       "    <tr style=\"text-align: right;\">\n",
       "      <th></th>\n",
       "      <th>na_sales</th>\n",
       "      <th>eu_sales</th>\n",
       "      <th>jp_sales</th>\n",
       "    </tr>\n",
       "    <tr>\n",
       "      <th>genre</th>\n",
       "      <th></th>\n",
       "      <th></th>\n",
       "      <th></th>\n",
       "    </tr>\n",
       "  </thead>\n",
       "  <tbody>\n",
       "    <tr>\n",
       "      <th>Action</th>\n",
       "      <td>126.05</td>\n",
       "      <td>118.13</td>\n",
       "      <td>40.49</td>\n",
       "    </tr>\n",
       "    <tr>\n",
       "      <th>Shooter</th>\n",
       "      <td>109.74</td>\n",
       "      <td>87.86</td>\n",
       "      <td>6.61</td>\n",
       "    </tr>\n",
       "    <tr>\n",
       "      <th>Sports</th>\n",
       "      <td>65.27</td>\n",
       "      <td>60.52</td>\n",
       "      <td>5.41</td>\n",
       "    </tr>\n",
       "    <tr>\n",
       "      <th>Role-Playing</th>\n",
       "      <td>46.40</td>\n",
       "      <td>36.97</td>\n",
       "      <td>51.04</td>\n",
       "    </tr>\n",
       "    <tr>\n",
       "      <th>Racing</th>\n",
       "      <td>12.96</td>\n",
       "      <td>20.19</td>\n",
       "      <td>2.30</td>\n",
       "    </tr>\n",
       "  </tbody>\n",
       "</table>\n",
       "</div>"
      ],
      "text/plain": [
       "              na_sales  eu_sales  jp_sales\n",
       "genre                                     \n",
       "Action          126.05    118.13     40.49\n",
       "Shooter         109.74     87.86      6.61\n",
       "Sports           65.27     60.52      5.41\n",
       "Role-Playing     46.40     36.97     51.04\n",
       "Racing           12.96     20.19      2.30"
      ]
     },
     "execution_count": 47,
     "metadata": {},
     "output_type": "execute_result"
    }
   ],
   "source": [
    "data_genres.sort_values(by = 'eu_sales', ascending = False).head(5)"
   ]
  },
  {
   "cell_type": "markdown",
   "metadata": {},
   "source": [
    "Сортируем таблицу по данным для Японии"
   ]
  },
  {
   "cell_type": "code",
   "execution_count": 48,
   "metadata": {},
   "outputs": [
    {
     "data": {
      "text/html": [
       "<div>\n",
       "<style scoped>\n",
       "    .dataframe tbody tr th:only-of-type {\n",
       "        vertical-align: middle;\n",
       "    }\n",
       "\n",
       "    .dataframe tbody tr th {\n",
       "        vertical-align: top;\n",
       "    }\n",
       "\n",
       "    .dataframe thead th {\n",
       "        text-align: right;\n",
       "    }\n",
       "</style>\n",
       "<table border=\"1\" class=\"dataframe\">\n",
       "  <thead>\n",
       "    <tr style=\"text-align: right;\">\n",
       "      <th></th>\n",
       "      <th>na_sales</th>\n",
       "      <th>eu_sales</th>\n",
       "      <th>jp_sales</th>\n",
       "    </tr>\n",
       "    <tr>\n",
       "      <th>genre</th>\n",
       "      <th></th>\n",
       "      <th></th>\n",
       "      <th></th>\n",
       "    </tr>\n",
       "  </thead>\n",
       "  <tbody>\n",
       "    <tr>\n",
       "      <th>Role-Playing</th>\n",
       "      <td>46.40</td>\n",
       "      <td>36.97</td>\n",
       "      <td>51.04</td>\n",
       "    </tr>\n",
       "    <tr>\n",
       "      <th>Action</th>\n",
       "      <td>126.05</td>\n",
       "      <td>118.13</td>\n",
       "      <td>40.49</td>\n",
       "    </tr>\n",
       "    <tr>\n",
       "      <th>Misc</th>\n",
       "      <td>27.49</td>\n",
       "      <td>20.04</td>\n",
       "      <td>9.20</td>\n",
       "    </tr>\n",
       "    <tr>\n",
       "      <th>Fighting</th>\n",
       "      <td>15.55</td>\n",
       "      <td>8.55</td>\n",
       "      <td>7.65</td>\n",
       "    </tr>\n",
       "    <tr>\n",
       "      <th>Shooter</th>\n",
       "      <td>109.74</td>\n",
       "      <td>87.86</td>\n",
       "      <td>6.61</td>\n",
       "    </tr>\n",
       "  </tbody>\n",
       "</table>\n",
       "</div>"
      ],
      "text/plain": [
       "              na_sales  eu_sales  jp_sales\n",
       "genre                                     \n",
       "Role-Playing     46.40     36.97     51.04\n",
       "Action          126.05    118.13     40.49\n",
       "Misc             27.49     20.04      9.20\n",
       "Fighting         15.55      8.55      7.65\n",
       "Shooter         109.74     87.86      6.61"
      ]
     },
     "execution_count": 48,
     "metadata": {},
     "output_type": "execute_result"
    }
   ],
   "source": [
    "data_genres.sort_values(by = 'jp_sales', ascending = False).head(5)"
   ]
  },
  {
   "cell_type": "markdown",
   "metadata": {},
   "source": [
    "**Вывод**\n",
    "\n",
    "1. В Северной Америке и Европе самыми популярными жанрами являются Action, Shooter, Sports, Role-Playing\n",
    "2. В Японии помимо Role-Playing и  Action также популярны Fighting и Misc"
   ]
  },
  {
   "cell_type": "code",
   "execution_count": 49,
   "metadata": {},
   "outputs": [
    {
     "data": {
      "text/plain": [
       "<AxesSubplot:xlabel='genre'>"
      ]
     },
     "execution_count": 49,
     "metadata": {},
     "output_type": "execute_result"
    },
    {
     "data": {
      "image/png": "[encoded data removed]",
      "text/plain": [
       "<Figure size 1080x360 with 1 Axes>"
      ]
     },
     "metadata": {},
     "output_type": "display_data"
    }
   ],
   "source": [
    "data_genres.plot(kind='bar', figsize=(15,5))"
   ]
  },
  {
   "cell_type": "markdown",
   "metadata": {},
   "source": [
    "Выясним, влияет ли рейтинг ESRB на продажи в отдельном регионе"
   ]
  },
  {
   "cell_type": "code",
   "execution_count": 50,
   "metadata": {},
   "outputs": [
    {
     "data": {
      "text/html": [
       "<div>\n",
       "<style scoped>\n",
       "    .dataframe tbody tr th:only-of-type {\n",
       "        vertical-align: middle;\n",
       "    }\n",
       "\n",
       "    .dataframe tbody tr th {\n",
       "        vertical-align: top;\n",
       "    }\n",
       "\n",
       "    .dataframe thead th {\n",
       "        text-align: right;\n",
       "    }\n",
       "</style>\n",
       "<table border=\"1\" class=\"dataframe\">\n",
       "  <thead>\n",
       "    <tr style=\"text-align: right;\">\n",
       "      <th></th>\n",
       "      <th>na_sales</th>\n",
       "      <th>eu_sales</th>\n",
       "      <th>jp_sales</th>\n",
       "    </tr>\n",
       "    <tr>\n",
       "      <th>rating</th>\n",
       "      <th></th>\n",
       "      <th></th>\n",
       "      <th></th>\n",
       "    </tr>\n",
       "  </thead>\n",
       "  <tbody>\n",
       "    <tr>\n",
       "      <th>E</th>\n",
       "      <td>79.05</td>\n",
       "      <td>83.36</td>\n",
       "      <td>15.14</td>\n",
       "    </tr>\n",
       "    <tr>\n",
       "      <th>E10+</th>\n",
       "      <td>54.24</td>\n",
       "      <td>42.69</td>\n",
       "      <td>5.89</td>\n",
       "    </tr>\n",
       "    <tr>\n",
       "      <th>M</th>\n",
       "      <td>165.21</td>\n",
       "      <td>145.32</td>\n",
       "      <td>14.11</td>\n",
       "    </tr>\n",
       "    <tr>\n",
       "      <th>T</th>\n",
       "      <td>49.79</td>\n",
       "      <td>41.95</td>\n",
       "      <td>20.59</td>\n",
       "    </tr>\n",
       "    <tr>\n",
       "      <th>undefined</th>\n",
       "      <td>89.42</td>\n",
       "      <td>78.91</td>\n",
       "      <td>85.05</td>\n",
       "    </tr>\n",
       "  </tbody>\n",
       "</table>\n",
       "</div>"
      ],
      "text/plain": [
       "           na_sales  eu_sales  jp_sales\n",
       "rating                                 \n",
       "E             79.05     83.36     15.14\n",
       "E10+          54.24     42.69      5.89\n",
       "M            165.21    145.32     14.11\n",
       "T             49.79     41.95     20.59\n",
       "undefined     89.42     78.91     85.05"
      ]
     },
     "execution_count": 50,
     "metadata": {},
     "output_type": "execute_result"
    }
   ],
   "source": [
    "data_rating = games_new.groupby('rating')[['na_sales', 'eu_sales', 'jp_sales']].agg('sum') \n",
    "data_rating.head(10)"
   ]
  },
  {
   "cell_type": "markdown",
   "metadata": {},
   "source": [
    "Расшифруем значения:\n",
    "\n",
    "Е - Everyone (для всех)\n",
    "\n",
    "E10+ - Everyone 10 and older (для всех старше 10 лет)\n",
    "\n",
    "EC - Early childhood (для детей)\n",
    "\n",
    "M - Mature (для взрослых)\n",
    "\n",
    "RP - Rating Pending (рейтинг ожидается)\n",
    "\n",
    "T - Teen (для подростков)"
   ]
  },
  {
   "cell_type": "markdown",
   "metadata": {},
   "source": [
    "Построим круговые диаграммы для визуального анализа."
   ]
  },
  {
   "cell_type": "markdown",
   "metadata": {},
   "source": [
    "Северная Америка:"
   ]
  },
  {
   "cell_type": "code",
   "execution_count": 51,
   "metadata": {},
   "outputs": [
    {
     "data": {
      "text/plain": [
       "<AxesSubplot:ylabel='na_sales'>"
      ]
     },
     "execution_count": 51,
     "metadata": {},
     "output_type": "execute_result"
    },
    {
     "data": {
      "image/png": "[encoded data removed]",
      "text/plain": [
       "<Figure size 432x288 with 1 Axes>"
      ]
     },
     "metadata": {},
     "output_type": "display_data"
    }
   ],
   "source": [
    "data_rating.plot(kind = 'pie', y = 'na_sales')"
   ]
  },
  {
   "cell_type": "markdown",
   "metadata": {},
   "source": [
    "Европа:"
   ]
  },
  {
   "cell_type": "code",
   "execution_count": 52,
   "metadata": {},
   "outputs": [
    {
     "data": {
      "text/plain": [
       "<AxesSubplot:ylabel='eu_sales'>"
      ]
     },
     "execution_count": 52,
     "metadata": {},
     "output_type": "execute_result"
    },
    {
     "data": {
      "image/png": "[encoded data removed]",
      "text/plain": [
       "<Figure size 432x288 with 1 Axes>"
      ]
     },
     "metadata": {},
     "output_type": "display_data"
    }
   ],
   "source": [
    "data_rating.plot(kind = 'pie', y = 'eu_sales')"
   ]
  },
  {
   "cell_type": "markdown",
   "metadata": {},
   "source": [
    "Япония:"
   ]
  },
  {
   "cell_type": "code",
   "execution_count": 53,
   "metadata": {},
   "outputs": [
    {
     "data": {
      "text/plain": [
       "<AxesSubplot:ylabel='jp_sales'>"
      ]
     },
     "execution_count": 53,
     "metadata": {},
     "output_type": "execute_result"
    },
    {
     "data": {
      "image/png": "[encoded data removed]",
      "text/plain": [
       "<Figure size 432x288 with 1 Axes>"
      ]
     },
     "metadata": {},
     "output_type": "display_data"
    }
   ],
   "source": [
    "data_rating.plot(kind = 'pie', y = 'jp_sales')"
   ]
  },
  {
   "cell_type": "markdown",
   "metadata": {},
   "source": [
    " **Вывод**\n",
    "1. Большинство игр в Северной Америке и Европе покупают с рейтингами \"для всех\" и \"для взрослых\". На примерно одинаковых позициях оказались рейтинги \"10+\" и \"для подростков\".\n",
    "2. Однако в Японии рейтинг \"для подростков\" занимает одну из ведущих позиций. После следуют \"для всех\" и \"Для взрослых\"."
   ]
  },
  {
   "cell_type": "markdown",
   "metadata": {},
   "source": [
    "**Общий вывод по портретам пользователей**\n",
    "\n",
    "1. Выявлен Топ-5 платформ с максимальными долями продаж для Северной Америки, Европы и Японии. Для Европы и Северной Америки предпочтения в игровых платформах схожи: PS и Xbox. В Европе также популярна PC.В Японии также популярны платформы серии DS.\n",
    "\n",
    "2. Выявлен Топ-5 жанров с максимальными долями продаж для Северной Америки, Европы и Японии. Для Европы и Северной Америки: Action, Shooter, Sports, Role-Playing. В Японии помимо Role_Playing, и Action также популярны Fighting и Misc.\n",
    "\n",
    "3. Проанализированы зависимости уровня продаж игр от рейтинга ESRB в каждом регионе. Для Европы и Северной Америки большинство игр покупают с рейтингами \"для взрослых\" и \"для всех\".В данных регионах ориентир идёт на большой охват аудитории ( в играх для всех) и ориентир на более взросылх пользователей. В Японии рейтинг \"для подростков\" занимает одну из ведущих позиций.\n",
    "\n",
    "4. Можем предположить, что различия в продажах между Японией остальными регионами по всем рассмотренным параметрам обуславливается обособленностью Японии, отличием менталитета и соответственно другими ориентирами производителей."
   ]
  },
  {
   "cell_type": "markdown",
   "metadata": {},
   "source": [
    "# Проверка гипотез"
   ]
  },
  {
   "cell_type": "markdown",
   "metadata": {},
   "source": [
    "**Средние пользовательские рейтинги платформ Xbox One и PC одинаковые**"
   ]
  },
  {
   "cell_type": "markdown",
   "metadata": {},
   "source": [
    "Формулируем нулевую и альтернативную гипотезы.\n",
    "\n",
    "H0: \"Средняя пользовательская оценка игр на платформе Xbox One равна средней пользовательской оценке игр на платформе PC\"\n",
    "\n",
    "H1: \"Средняя пользовательская оценка игр на платформе Xbox One не равна средней пользовательской оценке игр на платформе PC\"\n",
    "\n",
    "\n",
    "Определим уровень значимости alpha = 0.05"
   ]
  },
  {
   "cell_type": "code",
   "execution_count": 54,
   "metadata": {},
   "outputs": [
    {
     "name": "stdout",
     "output_type": "stream",
     "text": [
      "p-значение: 4.5385802963771776e-06\n",
      "Отвергаем нулевую гипотезу\n"
     ]
    }
   ],
   "source": [
    "rating_XOne = data_games.loc[(data_games['platform'] == 'XOne') &\n",
    "                              (~data_games['user_score'].isna()), 'user_score']   \n",
    "rating_PC = data_games.loc[(data_games['platform'] == 'PC') &\n",
    "                              (~data_games['user_score'].isna()), 'user_score']   \n",
    "\n",
    "results = st.ttest_ind(rating_XOne , rating_PC, equal_var=False) \n",
    "alpha = 0.05\n",
    "\n",
    "\n",
    "print('p-значение:',results.pvalue) \n",
    "\n",
    "if results.pvalue<alpha:\n",
    "    print(\"Отвергаем нулевую гипотезу\")\n",
    "else:\n",
    "    print(\"Не получилось отвергнуть нулевую гипотезу\")"
   ]
  },
  {
   "cell_type": "markdown",
   "metadata": {},
   "source": [
    "Делаем вывод, что средняя пользовательская оценка игр на платформе Xbox One не равна средней пользовательской оценке игр на платформе PC."
   ]
  },
  {
   "cell_type": "markdown",
   "metadata": {},
   "source": [
    "**Cредние пользовательские рейтинги жанров Action  и Sports разные**"
   ]
  },
  {
   "cell_type": "markdown",
   "metadata": {},
   "source": [
    "Формулируем нулевую и альтернативную гипотезы.\n",
    "\n",
    "H0: \"Средняя пользовательская оценка  жанра Action равна средней пользовательской оценке жанра Sports\"\n",
    "\n",
    "H1: \"Средняя пользовательская оценка  жанра Action не равна средней пользовательской оценке жанра Sports\"\n",
    "\n",
    "Определим уровень значимости alpha = 0.05"
   ]
  },
  {
   "cell_type": "code",
   "execution_count": 55,
   "metadata": {},
   "outputs": [
    {
     "name": "stdout",
     "output_type": "stream",
     "text": [
      "p-значение: 0.07370217419278534\n",
      "Не получилось отвергнуть нулевую гипотезу\n"
     ]
    }
   ],
   "source": [
    "rating_action = data_games.loc[(data_games['genre'] == 'Action') &\n",
    "                              (~data_games['user_score'].isna()), 'user_score']  \n",
    "                               \n",
    "rating_sports = data_games.loc[(data_games['genre'] == 'Sports') &\n",
    "                               (~data_games['user_score'].isna()), 'user_score'] \n",
    "                                \n",
    "\n",
    "results = st.ttest_ind(rating_action , rating_sports, equal_var=False) \n",
    "alpha = 0.05\n",
    "\n",
    "\n",
    "print('p-значение:',results.pvalue) \n",
    "\n",
    "if results.pvalue<alpha:\n",
    "    print(\"Отвергаем нулевую гипотезу\")\n",
    "else:\n",
    "    print(\"Не получилось отвергнуть нулевую гипотезу\")"
   ]
  },
  {
   "cell_type": "markdown",
   "metadata": {},
   "source": [
    "Делаем вывод, что средняя пользовательская оценка жанра Action  равна средней пользовательской оценке жанра Sports."
   ]
  },
  {
   "cell_type": "markdown",
   "metadata": {},
   "source": [
    "Пояснение: для проверки гипотез был выбран данный критерий всвязи с тем, что мы имеем дело с выборками из двух генеральных совокупностей. "
   ]
  },
  {
   "cell_type": "markdown",
   "metadata": {},
   "source": [
    "**Общий вывод по проверке гипотез**\n",
    "1. Cредняя пользовательская оценка игр на платформе Xbox One не равна средней пользовательской оценке игр на платформе PC\n",
    "\n",
    "2. Cредняя пользовательская оценка жанра Action  равна средней пользовательской оценке жанра Sports"
   ]
  },
  {
   "cell_type": "markdown",
   "metadata": {},
   "source": [
    "# Общий вывод"
   ]
  },
  {
   "cell_type": "markdown",
   "metadata": {},
   "source": [
    "1. Данные изучены, дубликаты не обнаружены. Выявлены проблемы для дальнейшей работы с данными.\n",
    "2. Обработаны по возможности пропущенные значения, изменены по необходимости типы данных, подсчитаны суммарные продажи во всех регионах и сохранены в новый столбец.\n",
    "3. Выявили, сколько игр выпускалось за разные годы. Выбрали платформы с наибольшими суммарными продажами. Выявили характерный срок появления новых и исчезновения старых платформ: от 5 до 10 лет.Определили потенциально прибыльные платформы по статистике последнего года.\n",
    "4. Определили тенденцию зависимости от отзывов критиков: предполагаем, что на них при покупке ориентируются больше всего. \n",
    "5. Определили топ жанров:\n",
    "\n",
    " Для Европы и Северной Америки: Action, Shooter, Sports, Role-Playing. В Японии помимо Role_Playing, и Action также популярны Fighting и Misc.\n",
    "6. Проанализировав портреты пользователей разных регионов, делаем вывод, что пользователи из Северной Америки и Европы во многом схожи в своих предпочтениях, а пользователи из Японии имеют немного другой вектор, что может быть обусловлено другим менталитетом. \n",
    "7. С помощью проверки гипотез пришли к выводам о том, что средняя пользовательская оценка игр на платформе Xbox One не равна средней пользовательской оценке игр на платформе PC и средняя пользовательская оценка жанра Action равна средней пользовательской оценке жанра Sports. "
   ]
  }
 ],
 "metadata": {
  "ExecuteTimeLog": [
   {
    "duration": 434,
    "start_time": "2021-09-27T14:46:17.029Z"
   },
   {
    "duration": 2112,
    "start_time": "2021-09-27T14:46:35.927Z"
   },
   {
    "duration": 43,
    "start_time": "2021-09-27T14:46:38.041Z"
   },
   {
    "duration": 4,
    "start_time": "2021-09-27T14:46:44.530Z"
   },
   {
    "duration": 45,
    "start_time": "2021-09-27T14:46:44.919Z"
   },
   {
    "duration": 4,
    "start_time": "2021-09-27T14:47:00.828Z"
   },
   {
    "duration": 46,
    "start_time": "2021-09-27T14:47:01.600Z"
   },
   {
    "duration": 4,
    "start_time": "2021-09-27T14:47:13.381Z"
   },
   {
    "duration": 45,
    "start_time": "2021-09-27T14:47:13.771Z"
   },
   {
    "duration": 5,
    "start_time": "2021-09-27T14:47:43.119Z"
   },
   {
    "duration": 43,
    "start_time": "2021-09-27T14:47:43.491Z"
   },
   {
    "duration": 63,
    "start_time": "2021-09-27T14:47:59.453Z"
   },
   {
    "duration": 378,
    "start_time": "2021-09-27T14:50:16.489Z"
   },
   {
    "duration": 14,
    "start_time": "2021-09-27T14:50:23.113Z"
   },
   {
    "duration": 24,
    "start_time": "2021-09-27T14:51:56.537Z"
   },
   {
    "duration": 264,
    "start_time": "2021-09-27T15:08:33.256Z"
   },
   {
    "duration": 393,
    "start_time": "2021-09-27T15:09:18.747Z"
   },
   {
    "duration": 280,
    "start_time": "2021-09-27T15:09:24.986Z"
   },
   {
    "duration": 4,
    "start_time": "2021-09-27T15:09:32.218Z"
   },
   {
    "duration": 21,
    "start_time": "2021-09-27T15:09:42.742Z"
   },
   {
    "duration": 278,
    "start_time": "2021-09-27T15:12:05.144Z"
   },
   {
    "duration": 7,
    "start_time": "2021-09-27T15:30:34.036Z"
   },
   {
    "duration": 8,
    "start_time": "2021-09-27T15:31:46.850Z"
   },
   {
    "duration": 29,
    "start_time": "2021-09-27T15:31:54.912Z"
   },
   {
    "duration": 7982,
    "start_time": "2021-09-27T15:32:39.379Z"
   },
   {
    "duration": 32,
    "start_time": "2021-09-27T15:33:20.272Z"
   },
   {
    "duration": 31,
    "start_time": "2021-09-27T15:33:32.501Z"
   },
   {
    "duration": 37,
    "start_time": "2021-09-27T15:34:57.369Z"
   },
   {
    "duration": 33,
    "start_time": "2021-09-27T15:35:10.718Z"
   },
   {
    "duration": 29,
    "start_time": "2021-09-27T15:35:23.980Z"
   },
   {
    "duration": 30,
    "start_time": "2021-09-27T15:36:09.049Z"
   },
   {
    "duration": 6,
    "start_time": "2021-09-27T15:38:02.911Z"
   },
   {
    "duration": 281,
    "start_time": "2021-09-27T15:38:32.518Z"
   },
   {
    "duration": 6,
    "start_time": "2021-09-27T15:38:42.398Z"
   },
   {
    "duration": 25,
    "start_time": "2021-09-27T15:38:55.858Z"
   },
   {
    "duration": 24,
    "start_time": "2021-09-27T15:39:15.948Z"
   },
   {
    "duration": 23,
    "start_time": "2021-09-27T15:39:39.939Z"
   },
   {
    "duration": 24,
    "start_time": "2021-09-27T15:40:21.668Z"
   },
   {
    "duration": 27,
    "start_time": "2021-09-27T15:43:18.000Z"
   },
   {
    "duration": 27,
    "start_time": "2021-09-27T15:43:33.226Z"
   },
   {
    "duration": 49,
    "start_time": "2021-09-27T15:46:01.870Z"
   },
   {
    "duration": 46,
    "start_time": "2021-09-27T15:46:16.811Z"
   },
   {
    "duration": 296,
    "start_time": "2021-09-27T15:57:46.337Z"
   },
   {
    "duration": 100,
    "start_time": "2021-09-27T15:58:26.234Z"
   },
   {
    "duration": 256,
    "start_time": "2021-09-27T15:58:32.780Z"
   },
   {
    "duration": 29,
    "start_time": "2021-09-27T15:58:54.818Z"
   },
   {
    "duration": 51,
    "start_time": "2021-09-27T15:59:06.223Z"
   },
   {
    "duration": 12,
    "start_time": "2021-09-27T15:59:22.109Z"
   },
   {
    "duration": 6,
    "start_time": "2021-09-27T15:59:43.348Z"
   },
   {
    "duration": 272,
    "start_time": "2021-09-27T16:07:15.628Z"
   },
   {
    "duration": 293,
    "start_time": "2021-09-27T16:07:41.232Z"
   },
   {
    "duration": 12,
    "start_time": "2021-09-27T16:08:10.863Z"
   },
   {
    "duration": 392,
    "start_time": "2021-09-27T16:08:23.820Z"
   },
   {
    "duration": 415,
    "start_time": "2021-09-27T16:09:48.064Z"
   },
   {
    "duration": 263,
    "start_time": "2021-09-27T16:11:09.321Z"
   },
   {
    "duration": 268,
    "start_time": "2021-09-27T16:11:18.797Z"
   },
   {
    "duration": 315,
    "start_time": "2021-09-27T16:11:40.091Z"
   },
   {
    "duration": 263,
    "start_time": "2021-09-27T16:12:03.282Z"
   },
   {
    "duration": 3,
    "start_time": "2021-09-27T16:12:21.031Z"
   },
   {
    "duration": 285,
    "start_time": "2021-09-27T16:12:29.781Z"
   },
   {
    "duration": 5,
    "start_time": "2021-09-27T16:12:37.454Z"
   },
   {
    "duration": 60,
    "start_time": "2021-09-27T16:12:38.167Z"
   },
   {
    "duration": 14,
    "start_time": "2021-09-27T16:12:39.041Z"
   },
   {
    "duration": 24,
    "start_time": "2021-09-27T16:12:40.063Z"
   },
   {
    "duration": 31,
    "start_time": "2021-09-27T16:12:42.655Z"
   },
   {
    "duration": 7,
    "start_time": "2021-09-27T16:12:44.619Z"
   },
   {
    "duration": 30,
    "start_time": "2021-09-27T16:12:47.949Z"
   },
   {
    "duration": 49,
    "start_time": "2021-09-27T16:12:49.589Z"
   },
   {
    "duration": 52,
    "start_time": "2021-09-27T16:12:53.482Z"
   },
   {
    "duration": 6,
    "start_time": "2021-09-27T16:12:56.467Z"
   },
   {
    "duration": 19,
    "start_time": "2021-09-27T16:12:57.703Z"
   },
   {
    "duration": 301,
    "start_time": "2021-09-27T16:13:29.681Z"
   },
   {
    "duration": 10,
    "start_time": "2021-09-27T16:13:44.683Z"
   },
   {
    "duration": 38,
    "start_time": "2021-09-27T16:13:52.144Z"
   },
   {
    "duration": 13,
    "start_time": "2021-09-27T16:14:01.515Z"
   },
   {
    "duration": 20,
    "start_time": "2021-09-27T16:15:10.883Z"
   },
   {
    "duration": 20,
    "start_time": "2021-09-27T16:15:20.473Z"
   },
   {
    "duration": 21,
    "start_time": "2021-09-27T16:15:37.981Z"
   },
   {
    "duration": 8,
    "start_time": "2021-09-27T16:20:59.012Z"
   },
   {
    "duration": 8,
    "start_time": "2021-09-27T16:23:15.360Z"
   },
   {
    "duration": 110,
    "start_time": "2021-09-27T16:24:03.616Z"
   },
   {
    "duration": 103,
    "start_time": "2021-09-27T16:24:27.474Z"
   },
   {
    "duration": 7,
    "start_time": "2021-09-27T16:24:33.707Z"
   },
   {
    "duration": 8,
    "start_time": "2021-09-27T16:24:35.093Z"
   },
   {
    "duration": 86,
    "start_time": "2021-09-27T16:24:35.752Z"
   },
   {
    "duration": 77,
    "start_time": "2021-09-27T16:24:48.357Z"
   },
   {
    "duration": 101,
    "start_time": "2021-09-27T16:25:03.403Z"
   },
   {
    "duration": 9,
    "start_time": "2021-09-27T16:30:19.414Z"
   },
   {
    "duration": 9,
    "start_time": "2021-09-27T16:30:29.809Z"
   },
   {
    "duration": 13,
    "start_time": "2021-09-27T16:32:19.413Z"
   },
   {
    "duration": 7,
    "start_time": "2021-09-27T16:41:49.210Z"
   },
   {
    "duration": 267,
    "start_time": "2021-09-27T16:44:02.825Z"
   },
   {
    "duration": 14,
    "start_time": "2021-09-27T16:44:14.235Z"
   },
   {
    "duration": 13,
    "start_time": "2021-09-27T16:44:29.477Z"
   },
   {
    "duration": 17,
    "start_time": "2021-09-27T16:45:36.507Z"
   },
   {
    "duration": 7,
    "start_time": "2021-09-27T16:45:52.321Z"
   },
   {
    "duration": 9,
    "start_time": "2021-09-27T16:46:09.208Z"
   },
   {
    "duration": 6,
    "start_time": "2021-09-27T16:46:25.090Z"
   },
   {
    "duration": 7,
    "start_time": "2021-09-27T16:46:46.327Z"
   },
   {
    "duration": 6,
    "start_time": "2021-09-27T16:46:56.513Z"
   },
   {
    "duration": 7,
    "start_time": "2021-09-27T16:47:41.466Z"
   },
   {
    "duration": 6,
    "start_time": "2021-09-27T16:48:11.490Z"
   },
   {
    "duration": 27,
    "start_time": "2021-09-27T16:57:13.350Z"
   },
   {
    "duration": 428,
    "start_time": "2021-09-28T12:39:23.038Z"
   },
   {
    "duration": 1614,
    "start_time": "2021-09-28T12:39:28.252Z"
   },
   {
    "duration": 50,
    "start_time": "2021-09-28T12:39:29.868Z"
   },
   {
    "duration": 11,
    "start_time": "2021-09-28T12:39:29.920Z"
   },
   {
    "duration": 15,
    "start_time": "2021-09-28T12:39:31.034Z"
   },
   {
    "duration": 19,
    "start_time": "2021-09-28T12:39:31.709Z"
   },
   {
    "duration": 4,
    "start_time": "2021-09-28T12:39:32.056Z"
   },
   {
    "duration": 19,
    "start_time": "2021-09-28T12:39:32.216Z"
   },
   {
    "duration": 31,
    "start_time": "2021-09-28T12:39:32.583Z"
   },
   {
    "duration": 32,
    "start_time": "2021-09-28T12:39:32.914Z"
   },
   {
    "duration": 5,
    "start_time": "2021-09-28T12:39:33.272Z"
   },
   {
    "duration": 10,
    "start_time": "2021-09-28T12:39:33.486Z"
   },
   {
    "duration": 13,
    "start_time": "2021-09-28T12:39:33.872Z"
   },
   {
    "duration": 5,
    "start_time": "2021-09-28T12:39:34.266Z"
   },
   {
    "duration": 5,
    "start_time": "2021-09-28T12:39:34.636Z"
   },
   {
    "duration": 9,
    "start_time": "2021-09-28T12:39:34.834Z"
   },
   {
    "duration": 5,
    "start_time": "2021-09-28T12:39:35.475Z"
   },
   {
    "duration": 9,
    "start_time": "2021-09-28T12:39:35.702Z"
   },
   {
    "duration": 5,
    "start_time": "2021-09-28T12:39:36.096Z"
   },
   {
    "duration": 5,
    "start_time": "2021-09-28T12:39:36.300Z"
   },
   {
    "duration": 4,
    "start_time": "2021-09-28T12:39:36.524Z"
   },
   {
    "duration": 5,
    "start_time": "2021-09-28T12:39:36.709Z"
   },
   {
    "duration": 4,
    "start_time": "2021-09-28T12:39:36.884Z"
   },
   {
    "duration": 5,
    "start_time": "2021-09-28T12:39:37.080Z"
   },
   {
    "duration": 5,
    "start_time": "2021-09-28T12:39:37.552Z"
   },
   {
    "duration": 20,
    "start_time": "2021-09-28T12:39:37.951Z"
   },
   {
    "duration": 37,
    "start_time": "2021-09-28T12:39:38.580Z"
   },
   {
    "duration": 14,
    "start_time": "2021-09-28T12:41:48.991Z"
   },
   {
    "duration": 201,
    "start_time": "2021-09-28T12:43:31.957Z"
   },
   {
    "duration": 610,
    "start_time": "2021-09-28T12:49:15.429Z"
   },
   {
    "duration": 725,
    "start_time": "2021-09-28T12:49:29.742Z"
   },
   {
    "duration": 710,
    "start_time": "2021-09-28T12:49:50.280Z"
   },
   {
    "duration": 301,
    "start_time": "2021-09-28T12:50:02.326Z"
   },
   {
    "duration": 10,
    "start_time": "2021-09-28T12:55:20.684Z"
   },
   {
    "duration": 15,
    "start_time": "2021-09-28T12:55:31.504Z"
   },
   {
    "duration": 377,
    "start_time": "2021-09-28T12:58:50.890Z"
   },
   {
    "duration": 15,
    "start_time": "2021-09-28T12:59:11.771Z"
   },
   {
    "duration": 15,
    "start_time": "2021-09-28T12:59:19.232Z"
   },
   {
    "duration": 117,
    "start_time": "2021-09-28T13:02:43.809Z"
   },
   {
    "duration": 113,
    "start_time": "2021-09-28T13:02:51.798Z"
   },
   {
    "duration": 196,
    "start_time": "2021-09-28T13:02:57.846Z"
   },
   {
    "duration": 189,
    "start_time": "2021-09-28T13:03:14.079Z"
   },
   {
    "duration": 377,
    "start_time": "2021-09-28T13:05:31.503Z"
   },
   {
    "duration": 440,
    "start_time": "2021-09-28T13:06:10.149Z"
   },
   {
    "duration": 44,
    "start_time": "2021-09-28T13:06:37.301Z"
   },
   {
    "duration": 95,
    "start_time": "2021-09-28T13:08:33.933Z"
   },
   {
    "duration": 94,
    "start_time": "2021-09-28T13:08:33.935Z"
   },
   {
    "duration": 16,
    "start_time": "2021-09-28T13:08:34.199Z"
   },
   {
    "duration": 8865,
    "start_time": "2021-09-28T13:08:37.593Z"
   },
   {
    "duration": 182,
    "start_time": "2021-09-28T13:08:55.004Z"
   },
   {
    "duration": 138,
    "start_time": "2021-09-28T13:10:32.668Z"
   },
   {
    "duration": 190,
    "start_time": "2021-09-28T13:10:38.088Z"
   },
   {
    "duration": 267,
    "start_time": "2021-09-28T13:10:45.739Z"
   },
   {
    "duration": 10191,
    "start_time": "2021-09-28T13:11:48.912Z"
   },
   {
    "duration": 2121,
    "start_time": "2021-09-28T13:15:50.866Z"
   },
   {
    "duration": 408,
    "start_time": "2021-09-28T13:17:01.057Z"
   },
   {
    "duration": 113,
    "start_time": "2021-09-28T13:17:12.937Z"
   },
   {
    "duration": 375,
    "start_time": "2021-09-28T13:17:17.949Z"
   },
   {
    "duration": 428,
    "start_time": "2021-09-28T13:17:29.778Z"
   },
   {
    "duration": 182,
    "start_time": "2021-09-28T13:17:40.966Z"
   },
   {
    "duration": 135,
    "start_time": "2021-09-28T13:20:04.429Z"
   },
   {
    "duration": 376,
    "start_time": "2021-09-28T13:20:08.286Z"
   },
   {
    "duration": 10795,
    "start_time": "2021-09-28T13:21:06.463Z"
   },
   {
    "duration": 127,
    "start_time": "2021-09-28T13:21:17.133Z"
   },
   {
    "duration": 124,
    "start_time": "2021-09-28T13:22:35.525Z"
   },
   {
    "duration": 175,
    "start_time": "2021-09-28T13:22:40.383Z"
   },
   {
    "duration": 200,
    "start_time": "2021-09-28T13:22:51.383Z"
   },
   {
    "duration": 190,
    "start_time": "2021-09-28T13:22:59.152Z"
   },
   {
    "duration": 183,
    "start_time": "2021-09-28T13:24:01.210Z"
   },
   {
    "duration": 183,
    "start_time": "2021-09-28T13:24:27.575Z"
   },
   {
    "duration": 178,
    "start_time": "2021-09-28T13:24:55.701Z"
   },
   {
    "duration": 16,
    "start_time": "2021-09-28T13:25:21.396Z"
   },
   {
    "duration": 396,
    "start_time": "2021-09-28T13:25:46.439Z"
   },
   {
    "duration": 394,
    "start_time": "2021-09-28T13:29:44.059Z"
   },
   {
    "duration": 388,
    "start_time": "2021-09-28T13:30:21.960Z"
   },
   {
    "duration": 217,
    "start_time": "2021-09-28T13:30:31.138Z"
   },
   {
    "duration": 51,
    "start_time": "2021-09-28T13:31:08.712Z"
   },
   {
    "duration": 9793,
    "start_time": "2021-09-28T13:31:27.177Z"
   },
   {
    "duration": 178,
    "start_time": "2021-09-28T13:31:52.885Z"
   },
   {
    "duration": 16,
    "start_time": "2021-09-28T13:32:02.161Z"
   },
   {
    "duration": 364,
    "start_time": "2021-09-28T13:34:26.038Z"
   },
   {
    "duration": 8,
    "start_time": "2021-09-28T13:34:40.882Z"
   },
   {
    "duration": 848,
    "start_time": "2021-09-28T13:35:34.570Z"
   },
   {
    "duration": 6,
    "start_time": "2021-09-28T13:35:43.649Z"
   },
   {
    "duration": 150,
    "start_time": "2021-09-28T13:36:04.275Z"
   },
   {
    "duration": 427,
    "start_time": "2021-09-28T13:41:06.600Z"
   },
   {
    "duration": 791,
    "start_time": "2021-09-28T13:41:19.200Z"
   },
   {
    "duration": 194,
    "start_time": "2021-09-28T13:44:37.133Z"
   },
   {
    "duration": 177,
    "start_time": "2021-09-28T13:44:50.569Z"
   },
   {
    "duration": 357,
    "start_time": "2021-09-28T13:45:10.310Z"
   },
   {
    "duration": 314,
    "start_time": "2021-09-28T13:48:04.754Z"
   },
   {
    "duration": 4,
    "start_time": "2021-09-28T13:51:22.820Z"
   },
   {
    "duration": 121,
    "start_time": "2021-09-28T13:51:35.662Z"
   },
   {
    "duration": 5,
    "start_time": "2021-09-28T13:51:40.317Z"
   },
   {
    "duration": 5,
    "start_time": "2021-09-28T13:51:48.068Z"
   },
   {
    "duration": 3369,
    "start_time": "2021-09-28T13:52:02.379Z"
   },
   {
    "duration": 3317,
    "start_time": "2021-09-28T13:52:42.326Z"
   },
   {
    "duration": 14,
    "start_time": "2021-09-28T13:53:23.277Z"
   },
   {
    "duration": 155,
    "start_time": "2021-09-28T13:53:41.878Z"
   },
   {
    "duration": 1043,
    "start_time": "2021-09-28T13:54:26.779Z"
   },
   {
    "duration": 153,
    "start_time": "2021-09-28T13:54:39.641Z"
   },
   {
    "duration": 164,
    "start_time": "2021-09-28T13:54:52.975Z"
   },
   {
    "duration": 114,
    "start_time": "2021-09-28T13:58:17.027Z"
   },
   {
    "duration": 116,
    "start_time": "2021-09-28T13:58:26.660Z"
   },
   {
    "duration": 112,
    "start_time": "2021-09-28T13:59:42.798Z"
   },
   {
    "duration": 400,
    "start_time": "2021-09-28T14:00:21.299Z"
   },
   {
    "duration": 2743,
    "start_time": "2021-09-28T14:00:34.907Z"
   },
   {
    "duration": 22,
    "start_time": "2021-09-28T14:06:00.067Z"
   },
   {
    "duration": 541,
    "start_time": "2021-09-28T14:08:18.058Z"
   },
   {
    "duration": 10041,
    "start_time": "2021-09-28T14:08:31.266Z"
   },
   {
    "duration": 205,
    "start_time": "2021-09-28T14:08:57.260Z"
   },
   {
    "duration": 366,
    "start_time": "2021-09-28T14:12:46.931Z"
   },
   {
    "duration": 276,
    "start_time": "2021-09-28T14:19:14.640Z"
   },
   {
    "duration": 338,
    "start_time": "2021-09-28T14:20:22.413Z"
   },
   {
    "duration": 274,
    "start_time": "2021-09-28T14:21:45.569Z"
   },
   {
    "duration": 614,
    "start_time": "2021-09-28T14:24:31.790Z"
   },
   {
    "duration": 20,
    "start_time": "2021-09-28T14:24:41.329Z"
   },
   {
    "duration": 274,
    "start_time": "2021-09-28T14:24:41.932Z"
   },
   {
    "duration": 25,
    "start_time": "2021-09-28T14:29:47.957Z"
   },
   {
    "duration": 7,
    "start_time": "2021-09-28T14:31:23.737Z"
   },
   {
    "duration": 8,
    "start_time": "2021-09-28T14:31:33.078Z"
   },
   {
    "duration": 115,
    "start_time": "2021-09-28T14:32:29.815Z"
   },
   {
    "duration": 6,
    "start_time": "2021-09-28T14:32:36.609Z"
   },
   {
    "duration": 23,
    "start_time": "2021-09-28T14:32:43.065Z"
   },
   {
    "duration": 25,
    "start_time": "2021-09-28T14:32:49.671Z"
   },
   {
    "duration": 23,
    "start_time": "2021-09-28T14:33:13.967Z"
   },
   {
    "duration": 20,
    "start_time": "2021-09-28T14:33:19.319Z"
   },
   {
    "duration": 19,
    "start_time": "2021-09-28T14:33:38.055Z"
   },
   {
    "duration": 351,
    "start_time": "2021-09-28T14:39:28.570Z"
   },
   {
    "duration": 21,
    "start_time": "2021-09-28T14:39:59.787Z"
   },
   {
    "duration": 23,
    "start_time": "2021-09-28T14:40:11.030Z"
   },
   {
    "duration": 16,
    "start_time": "2021-09-28T14:40:22.730Z"
   },
   {
    "duration": 17,
    "start_time": "2021-09-28T14:41:24.305Z"
   },
   {
    "duration": 17,
    "start_time": "2021-09-28T14:42:12.781Z"
   },
   {
    "duration": 212,
    "start_time": "2021-09-28T14:42:28.529Z"
   },
   {
    "duration": 230,
    "start_time": "2021-09-28T14:42:48.413Z"
   },
   {
    "duration": 428,
    "start_time": "2021-09-28T14:43:03.085Z"
   },
   {
    "duration": 192,
    "start_time": "2021-09-28T14:43:23.473Z"
   },
   {
    "duration": 117,
    "start_time": "2021-09-28T14:46:32.582Z"
   },
   {
    "duration": 17,
    "start_time": "2021-09-28T14:50:44.197Z"
   },
   {
    "duration": 14,
    "start_time": "2021-09-28T14:50:55.131Z"
   },
   {
    "duration": 209,
    "start_time": "2021-09-28T14:51:29.554Z"
   },
   {
    "duration": 216,
    "start_time": "2021-09-28T14:52:01.686Z"
   },
   {
    "duration": 249,
    "start_time": "2021-09-28T14:52:45.496Z"
   },
   {
    "duration": 260,
    "start_time": "2021-09-28T14:54:05.108Z"
   },
   {
    "duration": 14,
    "start_time": "2021-09-28T14:54:37.877Z"
   },
   {
    "duration": 245,
    "start_time": "2021-09-28T14:54:38.512Z"
   },
   {
    "duration": 791,
    "start_time": "2021-09-28T14:56:53.487Z"
   },
   {
    "duration": 239,
    "start_time": "2021-09-28T14:58:09.021Z"
   },
   {
    "duration": 245,
    "start_time": "2021-09-28T14:58:29.034Z"
   },
   {
    "duration": 131,
    "start_time": "2021-09-28T15:11:07.136Z"
   },
   {
    "duration": 129,
    "start_time": "2021-09-28T15:11:21.725Z"
   },
   {
    "duration": 22,
    "start_time": "2021-09-28T15:11:47.332Z"
   },
   {
    "duration": 207,
    "start_time": "2021-09-28T15:12:37.235Z"
   },
   {
    "duration": 245,
    "start_time": "2021-09-28T15:13:06.360Z"
   },
   {
    "duration": 959,
    "start_time": "2021-09-28T15:13:16.406Z"
   },
   {
    "duration": 7,
    "start_time": "2021-09-28T15:13:26.735Z"
   },
   {
    "duration": 19,
    "start_time": "2021-09-28T15:13:40.197Z"
   },
   {
    "duration": 277,
    "start_time": "2021-09-28T15:13:41.070Z"
   },
   {
    "duration": 323,
    "start_time": "2021-09-28T19:35:40.113Z"
   },
   {
    "duration": 2015,
    "start_time": "2021-09-28T19:35:45.925Z"
   },
   {
    "duration": 70,
    "start_time": "2021-09-28T19:35:47.943Z"
   },
   {
    "duration": 13,
    "start_time": "2021-09-28T19:35:48.016Z"
   },
   {
    "duration": 43,
    "start_time": "2021-09-28T19:35:48.032Z"
   },
   {
    "duration": 31,
    "start_time": "2021-09-28T19:35:48.350Z"
   },
   {
    "duration": 6,
    "start_time": "2021-09-28T19:35:48.810Z"
   },
   {
    "duration": 30,
    "start_time": "2021-09-28T19:35:49.008Z"
   },
   {
    "duration": 46,
    "start_time": "2021-09-28T19:35:49.412Z"
   },
   {
    "duration": 49,
    "start_time": "2021-09-28T19:35:49.751Z"
   },
   {
    "duration": 6,
    "start_time": "2021-09-28T19:35:50.128Z"
   },
   {
    "duration": 14,
    "start_time": "2021-09-28T19:35:50.300Z"
   },
   {
    "duration": 20,
    "start_time": "2021-09-28T19:35:50.680Z"
   },
   {
    "duration": 8,
    "start_time": "2021-09-28T19:35:51.076Z"
   },
   {
    "duration": 7,
    "start_time": "2021-09-28T19:35:51.658Z"
   },
   {
    "duration": 13,
    "start_time": "2021-09-28T19:35:51.839Z"
   },
   {
    "duration": 8,
    "start_time": "2021-09-28T19:35:52.440Z"
   },
   {
    "duration": 15,
    "start_time": "2021-09-28T19:35:52.668Z"
   },
   {
    "duration": 7,
    "start_time": "2021-09-28T19:35:53.112Z"
   },
   {
    "duration": 7,
    "start_time": "2021-09-28T19:35:53.363Z"
   },
   {
    "duration": 6,
    "start_time": "2021-09-28T19:35:53.566Z"
   },
   {
    "duration": 7,
    "start_time": "2021-09-28T19:35:53.790Z"
   },
   {
    "duration": 6,
    "start_time": "2021-09-28T19:35:54.026Z"
   },
   {
    "duration": 8,
    "start_time": "2021-09-28T19:35:54.268Z"
   },
   {
    "duration": 7,
    "start_time": "2021-09-28T19:35:54.756Z"
   },
   {
    "duration": 28,
    "start_time": "2021-09-28T19:35:55.176Z"
   },
   {
    "duration": 24,
    "start_time": "2021-09-28T19:35:56.233Z"
   },
   {
    "duration": 307,
    "start_time": "2021-09-28T19:35:56.540Z"
   },
   {
    "duration": 22,
    "start_time": "2021-09-28T19:35:57.521Z"
   },
   {
    "duration": 29,
    "start_time": "2021-09-28T19:35:57.990Z"
   },
   {
    "duration": 436,
    "start_time": "2021-09-28T19:35:58.281Z"
   },
   {
    "duration": 33,
    "start_time": "2021-09-28T19:35:58.779Z"
   },
   {
    "duration": 28,
    "start_time": "2021-09-28T19:35:59.300Z"
   },
   {
    "duration": 26,
    "start_time": "2021-09-28T19:35:59.560Z"
   },
   {
    "duration": 408,
    "start_time": "2021-09-28T19:35:59.891Z"
   },
   {
    "duration": 636,
    "start_time": "2021-09-28T19:36:00.389Z"
   },
   {
    "duration": 524,
    "start_time": "2021-09-28T19:36:15.231Z"
   },
   {
    "duration": 306,
    "start_time": "2021-09-28T19:37:45.713Z"
   },
   {
    "duration": 492,
    "start_time": "2021-09-28T19:40:58.614Z"
   },
   {
    "duration": 242,
    "start_time": "2021-09-28T19:42:06.021Z"
   },
   {
    "duration": 330,
    "start_time": "2021-09-28T19:42:13.746Z"
   },
   {
    "duration": 273,
    "start_time": "2021-09-28T19:42:23.760Z"
   },
   {
    "duration": 282,
    "start_time": "2021-09-28T19:42:31.787Z"
   },
   {
    "duration": 75,
    "start_time": "2021-09-28T19:43:17.671Z"
   },
   {
    "duration": 6918,
    "start_time": "2021-09-28T19:43:22.875Z"
   },
   {
    "duration": 236,
    "start_time": "2021-09-28T19:43:38.258Z"
   },
   {
    "duration": 334,
    "start_time": "2021-09-28T19:44:06.545Z"
   },
   {
    "duration": 69,
    "start_time": "2021-09-28T19:48:26.375Z"
   },
   {
    "duration": 255,
    "start_time": "2021-09-28T19:48:30.701Z"
   },
   {
    "duration": 674,
    "start_time": "2021-09-28T19:48:55.805Z"
   },
   {
    "duration": 1032,
    "start_time": "2021-09-28T19:50:51.065Z"
   },
   {
    "duration": 12,
    "start_time": "2021-09-28T19:51:49.050Z"
   },
   {
    "duration": 41,
    "start_time": "2021-09-28T19:52:46.256Z"
   },
   {
    "duration": 30,
    "start_time": "2021-09-28T19:53:41.699Z"
   },
   {
    "duration": 19,
    "start_time": "2021-09-28T19:53:54.802Z"
   },
   {
    "duration": 523,
    "start_time": "2021-09-28T19:53:55.450Z"
   },
   {
    "duration": 1436,
    "start_time": "2021-09-28T19:53:57.041Z"
   },
   {
    "duration": 537,
    "start_time": "2021-09-28T19:54:09.701Z"
   },
   {
    "duration": 101,
    "start_time": "2021-09-28T19:54:56.377Z"
   },
   {
    "duration": 315,
    "start_time": "2021-09-28T19:55:22.934Z"
   },
   {
    "duration": 31,
    "start_time": "2021-09-28T19:55:29.540Z"
   },
   {
    "duration": 81,
    "start_time": "2021-09-28T19:55:37.089Z"
   },
   {
    "duration": 48,
    "start_time": "2021-09-28T19:55:49.963Z"
   },
   {
    "duration": 22,
    "start_time": "2021-09-28T19:55:51.018Z"
   },
   {
    "duration": 442,
    "start_time": "2021-09-28T19:55:51.705Z"
   },
   {
    "duration": 571,
    "start_time": "2021-09-28T19:55:55.617Z"
   },
   {
    "duration": 365,
    "start_time": "2021-09-28T19:56:23.131Z"
   },
   {
    "duration": 427,
    "start_time": "2021-09-28T19:56:32.210Z"
   },
   {
    "duration": 355,
    "start_time": "2021-09-28T19:56:46.248Z"
   },
   {
    "duration": 366,
    "start_time": "2021-09-28T19:56:58.551Z"
   },
   {
    "duration": 355,
    "start_time": "2021-09-28T19:57:10.364Z"
   },
   {
    "duration": 328,
    "start_time": "2021-09-28T19:57:24.587Z"
   },
   {
    "duration": 507,
    "start_time": "2021-09-28T19:57:51.145Z"
   },
   {
    "duration": 343,
    "start_time": "2021-09-28T19:58:08.358Z"
   },
   {
    "duration": 1374,
    "start_time": "2021-09-28T19:58:27.817Z"
   },
   {
    "duration": 499,
    "start_time": "2021-09-28T19:59:09.127Z"
   },
   {
    "duration": 55,
    "start_time": "2021-09-28T20:11:11.348Z"
   },
   {
    "duration": 437,
    "start_time": "2021-09-28T20:12:22.402Z"
   },
   {
    "duration": 22,
    "start_time": "2021-09-28T20:13:01.880Z"
   },
   {
    "duration": 414,
    "start_time": "2021-09-28T20:13:13.535Z"
   },
   {
    "duration": 535,
    "start_time": "2021-09-28T20:13:50.114Z"
   },
   {
    "duration": 387,
    "start_time": "2021-09-29T03:50:25.266Z"
   },
   {
    "duration": 1531,
    "start_time": "2021-09-29T03:50:32.696Z"
   },
   {
    "duration": 52,
    "start_time": "2021-09-29T03:50:34.229Z"
   },
   {
    "duration": 11,
    "start_time": "2021-09-29T03:50:34.283Z"
   },
   {
    "duration": 17,
    "start_time": "2021-09-29T03:50:36.441Z"
   },
   {
    "duration": 20,
    "start_time": "2021-09-29T03:50:37.306Z"
   },
   {
    "duration": 4,
    "start_time": "2021-09-29T03:50:37.682Z"
   },
   {
    "duration": 20,
    "start_time": "2021-09-29T03:50:37.890Z"
   },
   {
    "duration": 33,
    "start_time": "2021-09-29T03:50:38.482Z"
   },
   {
    "duration": 35,
    "start_time": "2021-09-29T03:50:39.178Z"
   },
   {
    "duration": 5,
    "start_time": "2021-09-29T03:50:39.644Z"
   },
   {
    "duration": 9,
    "start_time": "2021-09-29T03:50:39.837Z"
   },
   {
    "duration": 12,
    "start_time": "2021-09-29T03:50:40.303Z"
   },
   {
    "duration": 6,
    "start_time": "2021-09-29T03:50:40.750Z"
   },
   {
    "duration": 6,
    "start_time": "2021-09-29T03:50:41.202Z"
   },
   {
    "duration": 10,
    "start_time": "2021-09-29T03:50:41.447Z"
   },
   {
    "duration": 6,
    "start_time": "2021-09-29T03:50:42.134Z"
   },
   {
    "duration": 11,
    "start_time": "2021-09-29T03:50:42.388Z"
   },
   {
    "duration": 5,
    "start_time": "2021-09-29T03:50:42.864Z"
   },
   {
    "duration": 5,
    "start_time": "2021-09-29T03:50:43.037Z"
   },
   {
    "duration": 5,
    "start_time": "2021-09-29T03:50:43.270Z"
   },
   {
    "duration": 6,
    "start_time": "2021-09-29T03:50:43.526Z"
   },
   {
    "duration": 5,
    "start_time": "2021-09-29T03:50:43.756Z"
   },
   {
    "duration": 5,
    "start_time": "2021-09-29T03:50:43.945Z"
   },
   {
    "duration": 6,
    "start_time": "2021-09-29T03:50:44.420Z"
   },
   {
    "duration": 19,
    "start_time": "2021-09-29T03:50:44.830Z"
   },
   {
    "duration": 16,
    "start_time": "2021-09-29T03:50:45.754Z"
   },
   {
    "duration": 190,
    "start_time": "2021-09-29T03:50:45.970Z"
   },
   {
    "duration": 16,
    "start_time": "2021-09-29T03:50:46.934Z"
   },
   {
    "duration": 29,
    "start_time": "2021-09-29T03:50:47.431Z"
   },
   {
    "duration": 262,
    "start_time": "2021-09-29T03:50:47.671Z"
   },
   {
    "duration": 9,
    "start_time": "2021-09-29T03:50:48.148Z"
   },
   {
    "duration": 26,
    "start_time": "2021-09-29T03:50:48.723Z"
   },
   {
    "duration": 16,
    "start_time": "2021-09-29T03:50:48.943Z"
   },
   {
    "duration": 241,
    "start_time": "2021-09-29T03:50:49.209Z"
   },
   {
    "duration": 307,
    "start_time": "2021-09-29T03:50:50.095Z"
   },
   {
    "duration": 20,
    "start_time": "2021-09-29T03:50:51.885Z"
   },
   {
    "duration": 937,
    "start_time": "2021-09-29T03:55:07.224Z"
   },
   {
    "duration": 357,
    "start_time": "2021-09-29T03:57:05.814Z"
   },
   {
    "duration": 16,
    "start_time": "2021-09-29T03:57:17.338Z"
   },
   {
    "duration": 212,
    "start_time": "2021-09-29T04:00:04.966Z"
   },
   {
    "duration": 354,
    "start_time": "2021-09-29T04:01:06.091Z"
   },
   {
    "duration": 119,
    "start_time": "2021-09-29T04:01:25.966Z"
   },
   {
    "duration": 278,
    "start_time": "2021-09-29T04:01:30.822Z"
   },
   {
    "duration": 328,
    "start_time": "2021-09-29T04:01:52.468Z"
   },
   {
    "duration": 354,
    "start_time": "2021-09-29T04:02:49.224Z"
   },
   {
    "duration": 15,
    "start_time": "2021-09-29T04:06:56.914Z"
   },
   {
    "duration": 15,
    "start_time": "2021-09-29T04:07:19.242Z"
   },
   {
    "duration": 30,
    "start_time": "2021-09-29T04:07:59.554Z"
   },
   {
    "duration": 15,
    "start_time": "2021-09-29T04:08:10.865Z"
   },
   {
    "duration": 296,
    "start_time": "2021-09-29T04:08:11.341Z"
   },
   {
    "duration": 297,
    "start_time": "2021-09-29T04:08:13.619Z"
   },
   {
    "duration": 15,
    "start_time": "2021-09-29T04:08:15.647Z"
   },
   {
    "duration": 363,
    "start_time": "2021-09-29T04:09:00.370Z"
   },
   {
    "duration": 18,
    "start_time": "2021-09-29T04:09:16.190Z"
   },
   {
    "duration": 267,
    "start_time": "2021-09-29T04:09:18.123Z"
   },
   {
    "duration": 318,
    "start_time": "2021-09-29T04:10:10.748Z"
   },
   {
    "duration": 302,
    "start_time": "2021-09-29T04:10:40.391Z"
   },
   {
    "duration": 395,
    "start_time": "2021-09-29T04:11:19.654Z"
   },
   {
    "duration": 352,
    "start_time": "2021-09-29T04:11:53.376Z"
   },
   {
    "duration": 296,
    "start_time": "2021-09-29T04:12:49.098Z"
   },
   {
    "duration": 510,
    "start_time": "2021-09-29T04:12:51.386Z"
   },
   {
    "duration": 333,
    "start_time": "2021-09-29T04:13:05.176Z"
   },
   {
    "duration": 351,
    "start_time": "2021-09-29T04:13:14.327Z"
   },
   {
    "duration": 595,
    "start_time": "2021-09-29T04:14:50.010Z"
   },
   {
    "duration": 349,
    "start_time": "2021-09-29T04:14:57.682Z"
   },
   {
    "duration": 339,
    "start_time": "2021-09-29T04:15:03.825Z"
   },
   {
    "duration": 356,
    "start_time": "2021-09-29T04:15:24.144Z"
   },
   {
    "duration": 305,
    "start_time": "2021-09-29T04:16:11.353Z"
   },
   {
    "duration": 23,
    "start_time": "2021-09-29T04:16:12.644Z"
   },
   {
    "duration": 324,
    "start_time": "2021-09-29T04:16:13.480Z"
   },
   {
    "duration": 390,
    "start_time": "2021-09-29T04:16:14.770Z"
   },
   {
    "duration": 384,
    "start_time": "2021-09-29T04:16:23.906Z"
   },
   {
    "duration": 346,
    "start_time": "2021-09-29T04:16:42.374Z"
   },
   {
    "duration": 362,
    "start_time": "2021-09-29T04:16:49.087Z"
   },
   {
    "duration": 360,
    "start_time": "2021-09-29T04:16:59.061Z"
   },
   {
    "duration": 337,
    "start_time": "2021-09-29T04:17:09.277Z"
   },
   {
    "duration": 118,
    "start_time": "2021-09-29T04:19:08.755Z"
   },
   {
    "duration": 146,
    "start_time": "2021-09-29T04:19:16.459Z"
   },
   {
    "duration": 396,
    "start_time": "2021-09-29T04:19:24.215Z"
   },
   {
    "duration": 304,
    "start_time": "2021-09-29T04:19:44.094Z"
   },
   {
    "duration": 681,
    "start_time": "2021-09-29T04:20:11.792Z"
   },
   {
    "duration": 559,
    "start_time": "2021-09-29T04:20:32.263Z"
   },
   {
    "duration": 275,
    "start_time": "2021-09-29T04:20:44.919Z"
   },
   {
    "duration": 402,
    "start_time": "2021-09-29T04:22:19.518Z"
   },
   {
    "duration": 17,
    "start_time": "2021-09-29T04:22:32.564Z"
   },
   {
    "duration": 301,
    "start_time": "2021-09-29T04:22:33.988Z"
   },
   {
    "duration": 348,
    "start_time": "2021-09-29T04:22:53.539Z"
   },
   {
    "duration": 358,
    "start_time": "2021-09-29T04:23:54.456Z"
   },
   {
    "duration": 11,
    "start_time": "2021-09-29T04:24:00.276Z"
   },
   {
    "duration": 5,
    "start_time": "2021-09-29T04:25:51.562Z"
   },
   {
    "duration": 15,
    "start_time": "2021-09-29T04:26:14.570Z"
   },
   {
    "duration": 5,
    "start_time": "2021-09-29T04:26:19.803Z"
   },
   {
    "duration": 1995,
    "start_time": "2021-09-29T04:26:54.133Z"
   },
   {
    "duration": 5,
    "start_time": "2021-09-29T04:27:18.608Z"
   },
   {
    "duration": 6,
    "start_time": "2021-09-29T04:27:32.019Z"
   },
   {
    "duration": 12,
    "start_time": "2021-09-29T04:27:53.936Z"
   },
   {
    "duration": 1103,
    "start_time": "2021-09-29T04:28:04.806Z"
   },
   {
    "duration": 3,
    "start_time": "2021-09-29T04:28:14.242Z"
   },
   {
    "duration": 151,
    "start_time": "2021-09-29T04:28:14.557Z"
   },
   {
    "duration": 11,
    "start_time": "2021-09-29T04:28:14.837Z"
   },
   {
    "duration": 17,
    "start_time": "2021-09-29T04:28:15.251Z"
   },
   {
    "duration": 35,
    "start_time": "2021-09-29T04:28:15.859Z"
   },
   {
    "duration": 5,
    "start_time": "2021-09-29T04:28:16.152Z"
   },
   {
    "duration": 20,
    "start_time": "2021-09-29T04:28:16.301Z"
   },
   {
    "duration": 30,
    "start_time": "2021-09-29T04:28:16.632Z"
   },
   {
    "duration": 35,
    "start_time": "2021-09-29T04:28:16.964Z"
   },
   {
    "duration": 5,
    "start_time": "2021-09-29T04:28:17.281Z"
   },
   {
    "duration": 10,
    "start_time": "2021-09-29T04:28:17.451Z"
   },
   {
    "duration": 14,
    "start_time": "2021-09-29T04:28:17.970Z"
   },
   {
    "duration": 5,
    "start_time": "2021-09-29T04:28:18.318Z"
   },
   {
    "duration": 6,
    "start_time": "2021-09-29T04:28:18.676Z"
   },
   {
    "duration": 13,
    "start_time": "2021-09-29T04:28:18.856Z"
   },
   {
    "duration": 13,
    "start_time": "2021-09-29T04:28:19.022Z"
   },
   {
    "duration": 6,
    "start_time": "2021-09-29T04:28:19.600Z"
   },
   {
    "duration": 10,
    "start_time": "2021-09-29T04:28:19.792Z"
   },
   {
    "duration": 5,
    "start_time": "2021-09-29T04:28:20.168Z"
   },
   {
    "duration": 5,
    "start_time": "2021-09-29T04:28:20.324Z"
   },
   {
    "duration": 5,
    "start_time": "2021-09-29T04:28:20.503Z"
   },
   {
    "duration": 5,
    "start_time": "2021-09-29T04:28:20.702Z"
   },
   {
    "duration": 5,
    "start_time": "2021-09-29T04:28:20.892Z"
   },
   {
    "duration": 5,
    "start_time": "2021-09-29T04:28:21.072Z"
   },
   {
    "duration": 5,
    "start_time": "2021-09-29T04:28:21.442Z"
   },
   {
    "duration": 16,
    "start_time": "2021-09-29T04:28:21.814Z"
   },
   {
    "duration": 16,
    "start_time": "2021-09-29T04:28:22.572Z"
   },
   {
    "duration": 180,
    "start_time": "2021-09-29T04:28:22.750Z"
   },
   {
    "duration": 16,
    "start_time": "2021-09-29T04:28:23.464Z"
   },
   {
    "duration": 20,
    "start_time": "2021-09-29T04:28:23.964Z"
   },
   {
    "duration": 269,
    "start_time": "2021-09-29T04:28:24.181Z"
   },
   {
    "duration": 9,
    "start_time": "2021-09-29T04:28:24.668Z"
   },
   {
    "duration": 26,
    "start_time": "2021-09-29T04:28:25.105Z"
   },
   {
    "duration": 15,
    "start_time": "2021-09-29T04:28:25.314Z"
   },
   {
    "duration": 240,
    "start_time": "2021-09-29T04:28:25.536Z"
   },
   {
    "duration": 297,
    "start_time": "2021-09-29T04:28:26.349Z"
   },
   {
    "duration": 23,
    "start_time": "2021-09-29T04:28:27.325Z"
   },
   {
    "duration": 279,
    "start_time": "2021-09-29T04:28:27.722Z"
   },
   {
    "duration": 329,
    "start_time": "2021-09-29T04:28:29.153Z"
   },
   {
    "duration": 312,
    "start_time": "2021-09-29T04:29:50.648Z"
   },
   {
    "duration": 353,
    "start_time": "2021-09-29T04:35:51.568Z"
   },
   {
    "duration": 5,
    "start_time": "2021-09-29T04:35:59.041Z"
   },
   {
    "duration": 6,
    "start_time": "2021-09-29T04:36:31.999Z"
   },
   {
    "duration": 5,
    "start_time": "2021-09-29T04:36:45.408Z"
   },
   {
    "duration": 112,
    "start_time": "2021-09-29T04:37:58.915Z"
   },
   {
    "duration": 5,
    "start_time": "2021-09-29T04:38:08.772Z"
   },
   {
    "duration": 6,
    "start_time": "2021-09-29T04:38:16.988Z"
   },
   {
    "duration": 143,
    "start_time": "2021-09-29T04:41:11.001Z"
   },
   {
    "duration": 110,
    "start_time": "2021-09-29T04:41:17.231Z"
   },
   {
    "duration": 34,
    "start_time": "2021-09-29T04:41:26.939Z"
   },
   {
    "duration": 35,
    "start_time": "2021-09-29T04:42:58.989Z"
   },
   {
    "duration": 37,
    "start_time": "2021-09-29T04:43:32.125Z"
   },
   {
    "duration": 23,
    "start_time": "2021-09-29T04:43:51.715Z"
   },
   {
    "duration": 131,
    "start_time": "2021-09-29T04:44:12.004Z"
   },
   {
    "duration": 120,
    "start_time": "2021-09-29T04:44:20.251Z"
   },
   {
    "duration": 22,
    "start_time": "2021-09-29T04:44:34.193Z"
   },
   {
    "duration": 5,
    "start_time": "2021-09-29T04:51:23.271Z"
   },
   {
    "duration": 717,
    "start_time": "2021-09-29T04:51:37.605Z"
   },
   {
    "duration": 118,
    "start_time": "2021-09-29T04:51:47.022Z"
   },
   {
    "duration": 7,
    "start_time": "2021-09-29T04:52:05.821Z"
   },
   {
    "duration": 155,
    "start_time": "2021-09-29T04:52:52.200Z"
   },
   {
    "duration": 180,
    "start_time": "2021-09-29T04:53:00.262Z"
   },
   {
    "duration": 166,
    "start_time": "2021-09-29T04:54:17.733Z"
   },
   {
    "duration": 7,
    "start_time": "2021-09-29T04:54:36.117Z"
   },
   {
    "duration": 169,
    "start_time": "2021-09-29T04:54:40.949Z"
   },
   {
    "duration": 8,
    "start_time": "2021-09-29T04:56:25.773Z"
   },
   {
    "duration": 173,
    "start_time": "2021-09-29T04:56:33.322Z"
   },
   {
    "duration": 195,
    "start_time": "2021-09-29T05:01:36.008Z"
   },
   {
    "duration": 1841,
    "start_time": "2021-09-29T14:03:08.868Z"
   },
   {
    "duration": 67,
    "start_time": "2021-09-29T14:03:10.711Z"
   },
   {
    "duration": 14,
    "start_time": "2021-09-29T14:03:10.782Z"
   },
   {
    "duration": 21,
    "start_time": "2021-09-29T14:03:10.798Z"
   },
   {
    "duration": 30,
    "start_time": "2021-09-29T14:03:12.062Z"
   },
   {
    "duration": 7,
    "start_time": "2021-09-29T14:03:12.423Z"
   },
   {
    "duration": 31,
    "start_time": "2021-09-29T14:03:12.605Z"
   },
   {
    "duration": 47,
    "start_time": "2021-09-29T14:03:12.974Z"
   },
   {
    "duration": 48,
    "start_time": "2021-09-29T14:03:13.354Z"
   },
   {
    "duration": 7,
    "start_time": "2021-09-29T14:03:13.748Z"
   },
   {
    "duration": 15,
    "start_time": "2021-09-29T14:03:13.935Z"
   },
   {
    "duration": 21,
    "start_time": "2021-09-29T14:03:14.308Z"
   },
   {
    "duration": 7,
    "start_time": "2021-09-29T14:03:14.710Z"
   },
   {
    "duration": 7,
    "start_time": "2021-09-29T14:03:15.112Z"
   },
   {
    "duration": 19,
    "start_time": "2021-09-29T14:03:15.300Z"
   },
   {
    "duration": 25,
    "start_time": "2021-09-29T14:03:15.474Z"
   },
   {
    "duration": 7,
    "start_time": "2021-09-29T14:03:16.067Z"
   },
   {
    "duration": 14,
    "start_time": "2021-09-29T14:03:16.287Z"
   },
   {
    "duration": 7,
    "start_time": "2021-09-29T14:03:16.880Z"
   },
   {
    "duration": 7,
    "start_time": "2021-09-29T14:03:17.164Z"
   },
   {
    "duration": 6,
    "start_time": "2021-09-29T14:03:17.342Z"
   },
   {
    "duration": 5,
    "start_time": "2021-09-29T14:03:17.557Z"
   },
   {
    "duration": 7,
    "start_time": "2021-09-29T14:03:17.765Z"
   },
   {
    "duration": 7,
    "start_time": "2021-09-29T14:03:17.979Z"
   },
   {
    "duration": 7,
    "start_time": "2021-09-29T14:03:18.464Z"
   },
   {
    "duration": 30,
    "start_time": "2021-09-29T14:03:19.054Z"
   },
   {
    "duration": 22,
    "start_time": "2021-09-29T14:03:19.937Z"
   },
   {
    "duration": 296,
    "start_time": "2021-09-29T14:03:20.133Z"
   },
   {
    "duration": 20,
    "start_time": "2021-09-29T14:03:20.947Z"
   },
   {
    "duration": 27,
    "start_time": "2021-09-29T14:03:21.674Z"
   },
   {
    "duration": 420,
    "start_time": "2021-09-29T14:03:21.977Z"
   },
   {
    "duration": 12,
    "start_time": "2021-09-29T14:03:22.558Z"
   },
   {
    "duration": 42,
    "start_time": "2021-09-29T14:03:23.110Z"
   },
   {
    "duration": 21,
    "start_time": "2021-09-29T14:03:23.399Z"
   },
   {
    "duration": 372,
    "start_time": "2021-09-29T14:03:23.659Z"
   },
   {
    "duration": 497,
    "start_time": "2021-09-29T14:03:24.488Z"
   },
   {
    "duration": 27,
    "start_time": "2021-09-29T14:03:25.511Z"
   },
   {
    "duration": 451,
    "start_time": "2021-09-29T14:03:25.871Z"
   },
   {
    "duration": 434,
    "start_time": "2021-09-29T14:03:26.326Z"
   },
   {
    "duration": 7,
    "start_time": "2021-09-29T14:03:26.852Z"
   },
   {
    "duration": 34,
    "start_time": "2021-09-29T14:03:27.535Z"
   },
   {
    "duration": 11,
    "start_time": "2021-09-29T14:03:28.903Z"
   },
   {
    "duration": 314,
    "start_time": "2021-09-29T14:03:29.288Z"
   },
   {
    "duration": 126,
    "start_time": "2021-09-29T14:04:45.205Z"
   },
   {
    "duration": 109,
    "start_time": "2021-09-29T14:04:59.683Z"
   },
   {
    "duration": 15,
    "start_time": "2021-09-29T14:05:04.862Z"
   },
   {
    "duration": 17,
    "start_time": "2021-09-29T14:05:39.114Z"
   },
   {
    "duration": 17,
    "start_time": "2021-09-29T14:05:56.268Z"
   },
   {
    "duration": 454,
    "start_time": "2021-09-29T14:06:58.553Z"
   },
   {
    "duration": 20,
    "start_time": "2021-09-29T14:07:05.027Z"
   },
   {
    "duration": 17,
    "start_time": "2021-09-29T14:07:54.778Z"
   },
   {
    "duration": 14,
    "start_time": "2021-09-29T14:10:47.477Z"
   },
   {
    "duration": 99,
    "start_time": "2021-09-29T14:11:48.041Z"
   },
   {
    "duration": 18,
    "start_time": "2021-09-29T14:11:48.489Z"
   },
   {
    "duration": 13,
    "start_time": "2021-09-29T14:13:26.639Z"
   },
   {
    "duration": 13,
    "start_time": "2021-09-29T14:13:32.715Z"
   },
   {
    "duration": 12,
    "start_time": "2021-09-29T14:13:36.439Z"
   },
   {
    "duration": 120,
    "start_time": "2021-09-29T14:14:17.752Z"
   },
   {
    "duration": 13,
    "start_time": "2021-09-29T14:14:27.297Z"
   },
   {
    "duration": 12,
    "start_time": "2021-09-29T14:14:29.099Z"
   },
   {
    "duration": 18,
    "start_time": "2021-09-29T14:18:24.527Z"
   },
   {
    "duration": 12,
    "start_time": "2021-09-29T14:18:26.240Z"
   },
   {
    "duration": 12,
    "start_time": "2021-09-29T14:18:27.129Z"
   },
   {
    "duration": 12,
    "start_time": "2021-09-29T14:18:27.581Z"
   },
   {
    "duration": 16,
    "start_time": "2021-09-29T14:18:52.554Z"
   },
   {
    "duration": 13,
    "start_time": "2021-09-29T14:19:56.426Z"
   },
   {
    "duration": 12,
    "start_time": "2021-09-29T14:20:07.480Z"
   },
   {
    "duration": 13,
    "start_time": "2021-09-29T14:20:19.842Z"
   },
   {
    "duration": 12,
    "start_time": "2021-09-29T14:20:20.468Z"
   },
   {
    "duration": 93,
    "start_time": "2021-09-29T14:24:06.564Z"
   },
   {
    "duration": 18,
    "start_time": "2021-09-29T14:31:55.928Z"
   },
   {
    "duration": 12,
    "start_time": "2021-09-29T14:31:56.990Z"
   },
   {
    "duration": 17,
    "start_time": "2021-09-29T14:31:57.978Z"
   },
   {
    "duration": 17,
    "start_time": "2021-09-29T14:31:59.566Z"
   },
   {
    "duration": 18,
    "start_time": "2021-09-29T14:33:19.677Z"
   },
   {
    "duration": 9098,
    "start_time": "2021-09-29T14:40:00.549Z"
   },
   {
    "duration": 8311,
    "start_time": "2021-09-29T14:40:31.171Z"
   },
   {
    "duration": 301,
    "start_time": "2021-09-29T14:40:40.481Z"
   },
   {
    "duration": 178,
    "start_time": "2021-09-29T14:42:28.971Z"
   },
   {
    "duration": 164,
    "start_time": "2021-09-29T14:42:58.459Z"
   },
   {
    "duration": 171,
    "start_time": "2021-09-29T14:43:09.404Z"
   },
   {
    "duration": 96,
    "start_time": "2021-09-29T15:05:22.349Z"
   },
   {
    "duration": 18,
    "start_time": "2021-09-29T15:18:17.291Z"
   },
   {
    "duration": 13,
    "start_time": "2021-09-29T15:18:17.885Z"
   },
   {
    "duration": 13,
    "start_time": "2021-09-29T15:18:18.309Z"
   },
   {
    "duration": 13,
    "start_time": "2021-09-29T15:18:18.702Z"
   },
   {
    "duration": 17,
    "start_time": "2021-09-29T15:18:19.275Z"
   },
   {
    "duration": 12,
    "start_time": "2021-09-29T15:18:19.675Z"
   },
   {
    "duration": 12,
    "start_time": "2021-09-29T15:18:20.067Z"
   },
   {
    "duration": 13,
    "start_time": "2021-09-29T15:18:20.487Z"
   },
   {
    "duration": 18,
    "start_time": "2021-09-29T15:18:21.084Z"
   },
   {
    "duration": 163,
    "start_time": "2021-09-29T15:18:22.057Z"
   },
   {
    "duration": 168,
    "start_time": "2021-09-29T15:18:22.521Z"
   },
   {
    "duration": 174,
    "start_time": "2021-09-29T15:18:23.067Z"
   },
   {
    "duration": 11,
    "start_time": "2021-09-29T15:30:50.258Z"
   },
   {
    "duration": 3911,
    "start_time": "2021-09-29T15:34:34.947Z"
   },
   {
    "duration": 4394,
    "start_time": "2021-09-29T15:35:05.309Z"
   },
   {
    "duration": 4074,
    "start_time": "2021-09-29T15:36:42.338Z"
   },
   {
    "duration": 12,
    "start_time": "2021-09-29T15:38:11.352Z"
   },
   {
    "duration": 12,
    "start_time": "2021-09-29T15:44:40.774Z"
   },
   {
    "duration": 392,
    "start_time": "2021-09-29T16:03:26.923Z"
   },
   {
    "duration": 379,
    "start_time": "2021-09-29T16:04:06.557Z"
   },
   {
    "duration": 426,
    "start_time": "2021-09-29T16:04:23.674Z"
   },
   {
    "duration": 2012,
    "start_time": "2021-09-30T04:02:27.592Z"
   },
   {
    "duration": 65,
    "start_time": "2021-09-30T04:02:29.606Z"
   },
   {
    "duration": 19,
    "start_time": "2021-09-30T04:02:29.674Z"
   },
   {
    "duration": 22,
    "start_time": "2021-09-30T04:02:29.696Z"
   },
   {
    "duration": 28,
    "start_time": "2021-09-30T04:02:29.720Z"
   },
   {
    "duration": 33,
    "start_time": "2021-09-30T04:02:29.751Z"
   },
   {
    "duration": 34,
    "start_time": "2021-09-30T04:02:29.787Z"
   },
   {
    "duration": 63,
    "start_time": "2021-09-30T04:02:29.825Z"
   },
   {
    "duration": 49,
    "start_time": "2021-09-30T04:02:29.891Z"
   },
   {
    "duration": 6,
    "start_time": "2021-09-30T04:02:29.942Z"
   },
   {
    "duration": 14,
    "start_time": "2021-09-30T04:02:29.982Z"
   },
   {
    "duration": 20,
    "start_time": "2021-09-30T04:02:29.998Z"
   },
   {
    "duration": 7,
    "start_time": "2021-09-30T04:02:30.020Z"
   },
   {
    "duration": 10,
    "start_time": "2021-09-30T04:02:30.030Z"
   },
   {
    "duration": 55,
    "start_time": "2021-09-30T04:02:30.042Z"
   },
   {
    "duration": 28,
    "start_time": "2021-09-30T04:02:30.100Z"
   },
   {
    "duration": 7,
    "start_time": "2021-09-30T04:02:30.131Z"
   },
   {
    "duration": 25,
    "start_time": "2021-09-30T04:02:30.140Z"
   },
   {
    "duration": 7,
    "start_time": "2021-09-30T04:02:30.183Z"
   },
   {
    "duration": 15,
    "start_time": "2021-09-30T04:02:30.193Z"
   },
   {
    "duration": 9,
    "start_time": "2021-09-30T04:02:30.210Z"
   },
   {
    "duration": 29,
    "start_time": "2021-09-30T04:02:30.222Z"
   },
   {
    "duration": 28,
    "start_time": "2021-09-30T04:02:30.257Z"
   },
   {
    "duration": 45,
    "start_time": "2021-09-30T04:02:30.288Z"
   },
   {
    "duration": 17,
    "start_time": "2021-09-30T04:02:30.335Z"
   },
   {
    "duration": 34,
    "start_time": "2021-09-30T04:02:30.355Z"
   },
   {
    "duration": 22,
    "start_time": "2021-09-30T04:02:30.391Z"
   },
   {
    "duration": 303,
    "start_time": "2021-09-30T04:02:30.415Z"
   },
   {
    "duration": 21,
    "start_time": "2021-09-30T04:02:30.720Z"
   },
   {
    "duration": 53,
    "start_time": "2021-09-30T04:02:30.743Z"
   },
   {
    "duration": 413,
    "start_time": "2021-09-30T04:02:30.798Z"
   },
   {
    "duration": 10,
    "start_time": "2021-09-30T04:02:31.213Z"
   },
   {
    "duration": 62,
    "start_time": "2021-09-30T04:02:31.225Z"
   },
   {
    "duration": 21,
    "start_time": "2021-09-30T04:02:31.289Z"
   },
   {
    "duration": 407,
    "start_time": "2021-09-30T04:02:31.312Z"
   },
   {
    "duration": 495,
    "start_time": "2021-09-30T04:02:31.722Z"
   },
   {
    "duration": 25,
    "start_time": "2021-09-30T04:02:32.220Z"
   },
   {
    "duration": 442,
    "start_time": "2021-09-30T04:02:32.247Z"
   },
   {
    "duration": 416,
    "start_time": "2021-09-30T04:02:32.691Z"
   },
   {
    "duration": 7,
    "start_time": "2021-09-30T04:02:33.109Z"
   },
   {
    "duration": 34,
    "start_time": "2021-09-30T04:02:33.118Z"
   },
   {
    "duration": 35,
    "start_time": "2021-09-30T04:02:33.154Z"
   },
   {
    "duration": 399,
    "start_time": "2021-09-30T04:02:33.192Z"
   },
   {
    "duration": 19,
    "start_time": "2021-09-30T04:02:33.594Z"
   },
   {
    "duration": 12,
    "start_time": "2021-09-30T04:02:33.616Z"
   },
   {
    "duration": 55,
    "start_time": "2021-09-30T04:02:33.631Z"
   },
   {
    "duration": 14,
    "start_time": "2021-09-30T04:02:33.689Z"
   },
   {
    "duration": 19,
    "start_time": "2021-09-30T04:02:33.706Z"
   },
   {
    "duration": 12,
    "start_time": "2021-09-30T04:02:33.727Z"
   },
   {
    "duration": 53,
    "start_time": "2021-09-30T04:02:33.742Z"
   },
   {
    "duration": 14,
    "start_time": "2021-09-30T04:02:33.799Z"
   },
   {
    "duration": 17,
    "start_time": "2021-09-30T04:02:33.816Z"
   },
   {
    "duration": 213,
    "start_time": "2021-09-30T04:02:33.836Z"
   },
   {
    "duration": 185,
    "start_time": "2021-09-30T04:02:34.053Z"
   },
   {
    "duration": 182,
    "start_time": "2021-09-30T04:02:34.241Z"
   },
   {
    "duration": 12,
    "start_time": "2021-09-30T04:02:34.426Z"
   },
   {
    "duration": 13,
    "start_time": "2021-09-30T04:02:34.441Z"
   },
   {
    "duration": 1597,
    "start_time": "2021-09-30T12:07:49.898Z"
   },
   {
    "duration": 51,
    "start_time": "2021-09-30T12:07:51.497Z"
   },
   {
    "duration": 10,
    "start_time": "2021-09-30T12:07:51.551Z"
   },
   {
    "duration": 17,
    "start_time": "2021-09-30T12:07:51.563Z"
   },
   {
    "duration": 20,
    "start_time": "2021-09-30T12:07:51.581Z"
   },
   {
    "duration": 6,
    "start_time": "2021-09-30T12:07:51.602Z"
   },
   {
    "duration": 53,
    "start_time": "2021-09-30T12:07:51.610Z"
   },
   {
    "duration": 31,
    "start_time": "2021-09-30T12:07:51.666Z"
   },
   {
    "duration": 56,
    "start_time": "2021-09-30T12:07:51.699Z"
   },
   {
    "duration": 4,
    "start_time": "2021-09-30T12:07:51.756Z"
   },
   {
    "duration": 11,
    "start_time": "2021-09-30T12:07:51.762Z"
   },
   {
    "duration": 13,
    "start_time": "2021-09-30T12:07:51.775Z"
   },
   {
    "duration": 5,
    "start_time": "2021-09-30T12:07:51.790Z"
   },
   {
    "duration": 7,
    "start_time": "2021-09-30T12:07:51.796Z"
   },
   {
    "duration": 53,
    "start_time": "2021-09-30T12:07:51.804Z"
   },
   {
    "duration": 12,
    "start_time": "2021-09-30T12:07:51.858Z"
   },
   {
    "duration": 5,
    "start_time": "2021-09-30T12:07:51.872Z"
   },
   {
    "duration": 13,
    "start_time": "2021-09-30T12:07:51.878Z"
   },
   {
    "duration": 4,
    "start_time": "2021-09-30T12:07:51.893Z"
   },
   {
    "duration": 50,
    "start_time": "2021-09-30T12:07:51.899Z"
   },
   {
    "duration": 4,
    "start_time": "2021-09-30T12:07:51.951Z"
   },
   {
    "duration": 9,
    "start_time": "2021-09-30T12:07:51.957Z"
   },
   {
    "duration": 5,
    "start_time": "2021-09-30T12:07:51.969Z"
   },
   {
    "duration": 6,
    "start_time": "2021-09-30T12:07:51.976Z"
   },
   {
    "duration": 7,
    "start_time": "2021-09-30T12:07:51.983Z"
   },
   {
    "duration": 23,
    "start_time": "2021-09-30T12:07:51.992Z"
   },
   {
    "duration": 48,
    "start_time": "2021-09-30T12:07:52.017Z"
   },
   {
    "duration": 197,
    "start_time": "2021-09-30T12:07:52.066Z"
   },
   {
    "duration": 18,
    "start_time": "2021-09-30T12:07:52.265Z"
   },
   {
    "duration": 30,
    "start_time": "2021-09-30T12:07:52.285Z"
   },
   {
    "duration": 281,
    "start_time": "2021-09-30T12:07:52.317Z"
   },
   {
    "duration": 8,
    "start_time": "2021-09-30T12:07:52.599Z"
   },
   {
    "duration": 41,
    "start_time": "2021-09-30T12:07:52.609Z"
   },
   {
    "duration": 15,
    "start_time": "2021-09-30T12:07:52.652Z"
   },
   {
    "duration": 267,
    "start_time": "2021-09-30T12:07:52.669Z"
   },
   {
    "duration": 304,
    "start_time": "2021-09-30T12:07:52.939Z"
   },
   {
    "duration": 18,
    "start_time": "2021-09-30T12:07:53.248Z"
   },
   {
    "duration": 311,
    "start_time": "2021-09-30T12:07:53.267Z"
   },
   {
    "duration": 305,
    "start_time": "2021-09-30T12:07:53.580Z"
   },
   {
    "duration": 6,
    "start_time": "2021-09-30T12:07:53.887Z"
   },
   {
    "duration": 40,
    "start_time": "2021-09-30T12:07:53.895Z"
   },
   {
    "duration": 18,
    "start_time": "2021-09-30T12:07:53.937Z"
   },
   {
    "duration": 304,
    "start_time": "2021-09-30T12:07:53.957Z"
   },
   {
    "duration": 12,
    "start_time": "2021-09-30T12:07:54.263Z"
   },
   {
    "duration": 23,
    "start_time": "2021-09-30T12:07:54.277Z"
   },
   {
    "duration": 22,
    "start_time": "2021-09-30T12:07:54.302Z"
   },
   {
    "duration": 17,
    "start_time": "2021-09-30T12:07:54.326Z"
   },
   {
    "duration": 12,
    "start_time": "2021-09-30T12:07:54.345Z"
   },
   {
    "duration": 13,
    "start_time": "2021-09-30T12:07:54.359Z"
   },
   {
    "duration": 21,
    "start_time": "2021-09-30T12:07:54.374Z"
   },
   {
    "duration": 23,
    "start_time": "2021-09-30T12:07:54.397Z"
   },
   {
    "duration": 19,
    "start_time": "2021-09-30T12:07:54.422Z"
   },
   {
    "duration": 107,
    "start_time": "2021-09-30T12:07:54.443Z"
   },
   {
    "duration": 116,
    "start_time": "2021-09-30T12:07:54.552Z"
   },
   {
    "duration": 121,
    "start_time": "2021-09-30T12:07:54.670Z"
   },
   {
    "duration": 8,
    "start_time": "2021-09-30T12:07:54.793Z"
   },
   {
    "duration": 37,
    "start_time": "2021-09-30T12:07:54.803Z"
   },
   {
    "duration": 22,
    "start_time": "2021-09-30T12:09:41.780Z"
   },
   {
    "duration": 7,
    "start_time": "2021-09-30T12:09:51.158Z"
   },
   {
    "duration": 616,
    "start_time": "2021-09-30T15:17:53.102Z"
   },
   {
    "duration": 2667,
    "start_time": "2021-09-30T15:17:59.418Z"
   },
   {
    "duration": 69,
    "start_time": "2021-09-30T15:18:02.089Z"
   },
   {
    "duration": 13,
    "start_time": "2021-09-30T15:18:02.161Z"
   },
   {
    "duration": 49,
    "start_time": "2021-09-30T15:18:02.177Z"
   },
   {
    "duration": 30,
    "start_time": "2021-09-30T15:18:02.307Z"
   },
   {
    "duration": 7,
    "start_time": "2021-09-30T15:18:02.705Z"
   },
   {
    "duration": 30,
    "start_time": "2021-09-30T15:18:02.953Z"
   },
   {
    "duration": 46,
    "start_time": "2021-09-30T15:18:03.505Z"
   },
   {
    "duration": 49,
    "start_time": "2021-09-30T15:18:03.951Z"
   },
   {
    "duration": 6,
    "start_time": "2021-09-30T15:18:04.375Z"
   },
   {
    "duration": 17,
    "start_time": "2021-09-30T15:18:04.629Z"
   },
   {
    "duration": 22,
    "start_time": "2021-09-30T15:18:05.405Z"
   },
   {
    "duration": 7,
    "start_time": "2021-09-30T15:18:05.953Z"
   },
   {
    "duration": 7,
    "start_time": "2021-09-30T15:18:06.449Z"
   },
   {
    "duration": 18,
    "start_time": "2021-09-30T15:18:06.661Z"
   },
   {
    "duration": 18,
    "start_time": "2021-09-30T15:18:07.103Z"
   },
   {
    "duration": 8,
    "start_time": "2021-09-30T15:18:08.027Z"
   },
   {
    "duration": 15,
    "start_time": "2021-09-30T15:18:08.248Z"
   },
   {
    "duration": 8,
    "start_time": "2021-09-30T15:18:08.925Z"
   },
   {
    "duration": 8,
    "start_time": "2021-09-30T15:18:09.137Z"
   },
   {
    "duration": 7,
    "start_time": "2021-09-30T15:18:09.365Z"
   },
   {
    "duration": 8,
    "start_time": "2021-09-30T15:18:09.553Z"
   },
   {
    "duration": 8,
    "start_time": "2021-09-30T15:18:09.768Z"
   },
   {
    "duration": 7,
    "start_time": "2021-09-30T15:18:09.997Z"
   },
   {
    "duration": 8,
    "start_time": "2021-09-30T15:18:10.421Z"
   },
   {
    "duration": 31,
    "start_time": "2021-09-30T15:18:11.213Z"
   },
   {
    "duration": 23,
    "start_time": "2021-09-30T15:18:13.514Z"
   },
   {
    "duration": 308,
    "start_time": "2021-09-30T15:18:14.059Z"
   },
   {
    "duration": 1171,
    "start_time": "2021-09-30T15:24:56.206Z"
   },
   {
    "duration": -38,
    "start_time": "2021-09-30T15:35:44.249Z"
   },
   {
    "duration": -44,
    "start_time": "2021-09-30T15:35:44.261Z"
   },
   {
    "duration": 5,
    "start_time": "2021-09-30T16:01:29.081Z"
   },
   {
    "duration": 75,
    "start_time": "2021-09-30T16:01:30.534Z"
   },
   {
    "duration": 17,
    "start_time": "2021-09-30T16:01:31.359Z"
   },
   {
    "duration": 25,
    "start_time": "2021-09-30T16:01:32.579Z"
   },
   {
    "duration": 30,
    "start_time": "2021-09-30T16:01:35.736Z"
   },
   {
    "duration": 6,
    "start_time": "2021-09-30T16:01:36.312Z"
   },
   {
    "duration": 31,
    "start_time": "2021-09-30T16:01:36.543Z"
   },
   {
    "duration": 49,
    "start_time": "2021-09-30T16:01:37.023Z"
   },
   {
    "duration": 49,
    "start_time": "2021-09-30T16:01:37.490Z"
   },
   {
    "duration": 7,
    "start_time": "2021-09-30T16:01:37.977Z"
   },
   {
    "duration": 13,
    "start_time": "2021-09-30T16:01:38.909Z"
   },
   {
    "duration": 26,
    "start_time": "2021-09-30T16:01:39.686Z"
   },
   {
    "duration": 7,
    "start_time": "2021-09-30T16:01:40.219Z"
   },
   {
    "duration": 8,
    "start_time": "2021-09-30T16:01:40.715Z"
   },
   {
    "duration": 18,
    "start_time": "2021-09-30T16:01:40.951Z"
   },
   {
    "duration": 19,
    "start_time": "2021-09-30T16:01:41.483Z"
   },
   {
    "duration": 8,
    "start_time": "2021-09-30T16:01:42.626Z"
   },
   {
    "duration": 16,
    "start_time": "2021-09-30T16:01:42.860Z"
   },
   {
    "duration": 8,
    "start_time": "2021-09-30T16:01:43.702Z"
   },
   {
    "duration": 8,
    "start_time": "2021-09-30T16:01:43.996Z"
   },
   {
    "duration": 7,
    "start_time": "2021-09-30T16:01:44.271Z"
   },
   {
    "duration": 8,
    "start_time": "2021-09-30T16:01:44.575Z"
   },
   {
    "duration": 8,
    "start_time": "2021-09-30T16:01:44.865Z"
   },
   {
    "duration": 6,
    "start_time": "2021-09-30T16:01:45.114Z"
   },
   {
    "duration": 5,
    "start_time": "2021-09-30T16:01:45.716Z"
   },
   {
    "duration": 23,
    "start_time": "2021-09-30T16:01:46.589Z"
   },
   {
    "duration": 27,
    "start_time": "2021-09-30T16:01:48.540Z"
   },
   {
    "duration": 313,
    "start_time": "2021-09-30T16:01:48.876Z"
   },
   {
    "duration": 560,
    "start_time": "2021-09-30T16:02:28.200Z"
   },
   {
    "duration": 1133,
    "start_time": "2021-09-30T16:03:36.536Z"
   },
   {
    "duration": 6,
    "start_time": "2021-09-30T16:03:44.601Z"
   },
   {
    "duration": 62,
    "start_time": "2021-09-30T16:03:44.915Z"
   },
   {
    "duration": 14,
    "start_time": "2021-09-30T16:03:45.205Z"
   },
   {
    "duration": 26,
    "start_time": "2021-09-30T16:03:45.657Z"
   },
   {
    "duration": 31,
    "start_time": "2021-09-30T16:03:46.703Z"
   },
   {
    "duration": 7,
    "start_time": "2021-09-30T16:03:47.093Z"
   },
   {
    "duration": 30,
    "start_time": "2021-09-30T16:03:47.257Z"
   },
   {
    "duration": 49,
    "start_time": "2021-09-30T16:03:47.613Z"
   },
   {
    "duration": 55,
    "start_time": "2021-09-30T16:03:47.961Z"
   },
   {
    "duration": 7,
    "start_time": "2021-09-30T16:03:48.251Z"
   },
   {
    "duration": 15,
    "start_time": "2021-09-30T16:03:48.441Z"
   },
   {
    "duration": 22,
    "start_time": "2021-09-30T16:03:48.976Z"
   },
   {
    "duration": 7,
    "start_time": "2021-09-30T16:03:49.365Z"
   },
   {
    "duration": 7,
    "start_time": "2021-09-30T16:03:49.785Z"
   },
   {
    "duration": 18,
    "start_time": "2021-09-30T16:03:50.043Z"
   },
   {
    "duration": 18,
    "start_time": "2021-09-30T16:03:50.445Z"
   },
   {
    "duration": 8,
    "start_time": "2021-09-30T16:03:51.333Z"
   },
   {
    "duration": 16,
    "start_time": "2021-09-30T16:03:51.509Z"
   },
   {
    "duration": 6,
    "start_time": "2021-09-30T16:03:52.159Z"
   },
   {
    "duration": 7,
    "start_time": "2021-09-30T16:03:52.369Z"
   },
   {
    "duration": 7,
    "start_time": "2021-09-30T16:03:52.557Z"
   },
   {
    "duration": 6,
    "start_time": "2021-09-30T16:03:52.755Z"
   },
   {
    "duration": 6,
    "start_time": "2021-09-30T16:03:52.945Z"
   },
   {
    "duration": 6,
    "start_time": "2021-09-30T16:03:53.151Z"
   },
   {
    "duration": 7,
    "start_time": "2021-09-30T16:03:53.534Z"
   },
   {
    "duration": 24,
    "start_time": "2021-09-30T16:03:54.021Z"
   },
   {
    "duration": 21,
    "start_time": "2021-09-30T16:03:55.211Z"
   },
   {
    "duration": 301,
    "start_time": "2021-09-30T16:03:55.427Z"
   },
   {
    "duration": 567,
    "start_time": "2021-09-30T16:03:55.934Z"
   },
   {
    "duration": 24,
    "start_time": "2021-09-30T16:03:59.524Z"
   },
   {
    "duration": 31,
    "start_time": "2021-09-30T16:04:01.886Z"
   },
   {
    "duration": 458,
    "start_time": "2021-09-30T16:04:01.921Z"
   },
   {
    "duration": 12,
    "start_time": "2021-09-30T16:05:11.889Z"
   },
   {
    "duration": 42,
    "start_time": "2021-09-30T16:05:43.463Z"
   },
   {
    "duration": 22,
    "start_time": "2021-09-30T16:05:45.208Z"
   },
   {
    "duration": 431,
    "start_time": "2021-09-30T16:06:29.310Z"
   },
   {
    "duration": 652,
    "start_time": "2021-09-30T16:08:49.475Z"
   },
   {
    "duration": 414,
    "start_time": "2021-09-30T16:15:06.171Z"
   },
   {
    "duration": 25,
    "start_time": "2021-09-30T16:15:22.468Z"
   },
   {
    "duration": 132,
    "start_time": "2021-09-30T16:15:48.713Z"
   },
   {
    "duration": 440,
    "start_time": "2021-09-30T16:16:32.415Z"
   },
   {
    "duration": 448,
    "start_time": "2021-09-30T16:16:34.746Z"
   },
   {
    "duration": 455,
    "start_time": "2021-09-30T16:16:41.366Z"
   },
   {
    "duration": 467,
    "start_time": "2021-09-30T16:16:49.502Z"
   },
   {
    "duration": 11,
    "start_time": "2021-09-30T16:17:29.919Z"
   },
   {
    "duration": 307,
    "start_time": "2021-09-30T16:17:35.498Z"
   },
   {
    "duration": 915,
    "start_time": "2021-09-30T16:21:47.298Z"
   },
   {
    "duration": 18,
    "start_time": "2021-09-30T16:21:51.389Z"
   },
   {
    "duration": 231,
    "start_time": "2021-09-30T16:21:52.931Z"
   },
   {
    "duration": 241,
    "start_time": "2021-09-30T16:22:21.393Z"
   },
   {
    "duration": 236,
    "start_time": "2021-09-30T16:22:40.972Z"
   },
   {
    "duration": 13,
    "start_time": "2021-09-30T16:22:52.666Z"
   },
   {
    "duration": 224,
    "start_time": "2021-09-30T16:22:56.292Z"
   },
   {
    "duration": 13,
    "start_time": "2021-09-30T16:23:04.148Z"
   },
   {
    "duration": 238,
    "start_time": "2021-09-30T16:23:12.117Z"
   },
   {
    "duration": 13,
    "start_time": "2021-09-30T16:23:19.142Z"
   },
   {
    "duration": 226,
    "start_time": "2021-09-30T16:23:32.357Z"
   },
   {
    "duration": 432,
    "start_time": "2021-09-30T16:25:34.297Z"
   },
   {
    "duration": 17,
    "start_time": "2021-09-30T16:25:37.274Z"
   },
   {
    "duration": 13,
    "start_time": "2021-09-30T16:25:38.332Z"
   },
   {
    "duration": 269,
    "start_time": "2021-09-30T16:25:39.109Z"
   },
   {
    "duration": 17,
    "start_time": "2021-09-30T16:27:58.049Z"
   },
   {
    "duration": 7,
    "start_time": "2021-09-30T16:28:31.277Z"
   },
   {
    "duration": 41,
    "start_time": "2021-09-30T16:36:13.288Z"
   },
   {
    "duration": 314,
    "start_time": "2021-09-30T16:37:30.942Z"
   },
   {
    "duration": 141,
    "start_time": "2021-09-30T16:38:54.191Z"
   },
   {
    "duration": 422,
    "start_time": "2021-09-30T16:39:00.321Z"
   },
   {
    "duration": 331,
    "start_time": "2021-09-30T16:39:56.392Z"
   },
   {
    "duration": 20,
    "start_time": "2021-09-30T16:40:20.134Z"
   },
   {
    "duration": 419,
    "start_time": "2021-09-30T16:40:21.885Z"
   },
   {
    "duration": 318,
    "start_time": "2021-09-30T16:40:23.827Z"
   },
   {
    "duration": 318,
    "start_time": "2021-09-30T16:43:14.553Z"
   },
   {
    "duration": 456,
    "start_time": "2021-09-30T16:43:24.336Z"
   },
   {
    "duration": 409,
    "start_time": "2021-09-30T16:43:48.235Z"
   },
   {
    "duration": 348,
    "start_time": "2021-09-30T16:44:08.011Z"
   },
   {
    "duration": 319,
    "start_time": "2021-09-30T16:44:22.626Z"
   },
   {
    "duration": 399,
    "start_time": "2021-09-30T16:44:46.732Z"
   },
   {
    "duration": 312,
    "start_time": "2021-09-30T16:46:21.386Z"
   },
   {
    "duration": 325,
    "start_time": "2021-09-30T16:46:57.517Z"
   },
   {
    "duration": 319,
    "start_time": "2021-09-30T16:47:12.512Z"
   },
   {
    "duration": 19,
    "start_time": "2021-09-30T16:47:35.288Z"
   },
   {
    "duration": 1381,
    "start_time": "2021-09-30T16:47:36.795Z"
   },
   {
    "duration": -40,
    "start_time": "2021-09-30T16:47:38.219Z"
   },
   {
    "duration": -40,
    "start_time": "2021-09-30T16:47:38.221Z"
   },
   {
    "duration": 309,
    "start_time": "2021-09-30T16:47:58.615Z"
   },
   {
    "duration": 448,
    "start_time": "2021-09-30T16:47:59.969Z"
   },
   {
    "duration": 20,
    "start_time": "2021-09-30T16:48:30.518Z"
   },
   {
    "duration": 434,
    "start_time": "2021-09-30T16:48:32.159Z"
   },
   {
    "duration": 315,
    "start_time": "2021-09-30T16:48:33.936Z"
   },
   {
    "duration": 284,
    "start_time": "2021-09-30T16:48:34.964Z"
   },
   {
    "duration": 294,
    "start_time": "2021-09-30T16:49:00.745Z"
   },
   {
    "duration": 313,
    "start_time": "2021-09-30T16:49:36.979Z"
   },
   {
    "duration": 331,
    "start_time": "2021-09-30T16:50:25.918Z"
   },
   {
    "duration": 319,
    "start_time": "2021-09-30T16:50:55.501Z"
   },
   {
    "duration": 439,
    "start_time": "2021-09-30T16:51:27.606Z"
   },
   {
    "duration": 427,
    "start_time": "2021-09-30T16:51:44.118Z"
   },
   {
    "duration": 300,
    "start_time": "2021-09-30T16:52:02.043Z"
   },
   {
    "duration": 309,
    "start_time": "2021-09-30T16:52:23.295Z"
   },
   {
    "duration": 321,
    "start_time": "2021-09-30T16:52:38.770Z"
   },
   {
    "duration": 339,
    "start_time": "2021-09-30T16:52:56.908Z"
   },
   {
    "duration": -40,
    "start_time": "2021-09-30T17:03:58.004Z"
   },
   {
    "duration": -44,
    "start_time": "2021-09-30T17:03:58.009Z"
   },
   {
    "duration": -46,
    "start_time": "2021-09-30T17:03:58.012Z"
   },
   {
    "duration": 15,
    "start_time": "2021-09-30T17:04:01.873Z"
   },
   {
    "duration": 17,
    "start_time": "2021-09-30T17:04:05.483Z"
   },
   {
    "duration": -74,
    "start_time": "2021-09-30T17:04:17.553Z"
   },
   {
    "duration": 18,
    "start_time": "2021-09-30T17:04:19.846Z"
   },
   {
    "duration": 7,
    "start_time": "2021-09-30T17:04:20.721Z"
   },
   {
    "duration": 39,
    "start_time": "2021-09-30T17:06:14.851Z"
   },
   {
    "duration": 35,
    "start_time": "2021-09-30T17:06:48.045Z"
   },
   {
    "duration": 7,
    "start_time": "2021-09-30T17:06:59.763Z"
   },
   {
    "duration": 5,
    "start_time": "2021-09-30T17:07:14.062Z"
   },
   {
    "duration": 57,
    "start_time": "2021-09-30T17:07:55.154Z"
   },
   {
    "duration": 40,
    "start_time": "2021-09-30T17:08:01.481Z"
   },
   {
    "duration": 16,
    "start_time": "2021-09-30T17:08:53.161Z"
   },
   {
    "duration": 7,
    "start_time": "2021-09-30T17:09:16.481Z"
   },
   {
    "duration": 6,
    "start_time": "2021-09-30T17:09:42.639Z"
   },
   {
    "duration": 15,
    "start_time": "2021-09-30T17:10:10.382Z"
   },
   {
    "duration": 167,
    "start_time": "2021-09-30T17:10:14.383Z"
   },
   {
    "duration": 144,
    "start_time": "2021-09-30T17:10:22.969Z"
   },
   {
    "duration": 162,
    "start_time": "2021-09-30T17:10:29.420Z"
   },
   {
    "duration": 2182,
    "start_time": "2021-10-01T10:57:28.525Z"
   },
   {
    "duration": 70,
    "start_time": "2021-10-01T10:57:30.710Z"
   },
   {
    "duration": 14,
    "start_time": "2021-10-01T10:57:30.783Z"
   },
   {
    "duration": 48,
    "start_time": "2021-10-01T10:57:30.799Z"
   },
   {
    "duration": 31,
    "start_time": "2021-10-01T10:57:30.849Z"
   },
   {
    "duration": 29,
    "start_time": "2021-10-01T10:57:30.882Z"
   },
   {
    "duration": 43,
    "start_time": "2021-10-01T10:57:30.913Z"
   },
   {
    "duration": 47,
    "start_time": "2021-10-01T10:57:30.960Z"
   },
   {
    "duration": 70,
    "start_time": "2021-10-01T10:57:31.010Z"
   },
   {
    "duration": 6,
    "start_time": "2021-10-01T10:57:31.082Z"
   },
   {
    "duration": 51,
    "start_time": "2021-10-01T10:57:31.091Z"
   },
   {
    "duration": 20,
    "start_time": "2021-10-01T10:57:31.145Z"
   },
   {
    "duration": 13,
    "start_time": "2021-10-01T10:57:31.167Z"
   },
   {
    "duration": 33,
    "start_time": "2021-10-01T10:57:31.182Z"
   },
   {
    "duration": 37,
    "start_time": "2021-10-01T10:57:31.217Z"
   },
   {
    "duration": 17,
    "start_time": "2021-10-01T10:57:31.256Z"
   },
   {
    "duration": 7,
    "start_time": "2021-10-01T10:57:31.275Z"
   },
   {
    "duration": 35,
    "start_time": "2021-10-01T10:57:31.284Z"
   },
   {
    "duration": 29,
    "start_time": "2021-10-01T10:57:31.321Z"
   },
   {
    "duration": 20,
    "start_time": "2021-10-01T10:57:31.352Z"
   },
   {
    "duration": 17,
    "start_time": "2021-10-01T10:57:31.375Z"
   },
   {
    "duration": 17,
    "start_time": "2021-10-01T10:57:31.395Z"
   },
   {
    "duration": 16,
    "start_time": "2021-10-01T10:57:31.418Z"
   },
   {
    "duration": 21,
    "start_time": "2021-10-01T10:57:31.438Z"
   },
   {
    "duration": 23,
    "start_time": "2021-10-01T10:57:31.461Z"
   },
   {
    "duration": 29,
    "start_time": "2021-10-01T10:57:31.487Z"
   },
   {
    "duration": 25,
    "start_time": "2021-10-01T10:57:31.520Z"
   },
   {
    "duration": 306,
    "start_time": "2021-10-01T10:57:31.558Z"
   },
   {
    "duration": 560,
    "start_time": "2021-10-01T10:57:31.867Z"
   },
   {
    "duration": 33,
    "start_time": "2021-10-01T10:57:32.429Z"
   },
   {
    "duration": 29,
    "start_time": "2021-10-01T10:57:32.464Z"
   },
   {
    "duration": 464,
    "start_time": "2021-10-01T10:57:32.495Z"
   },
   {
    "duration": 11,
    "start_time": "2021-10-01T10:57:32.961Z"
   },
   {
    "duration": 43,
    "start_time": "2021-10-01T10:57:32.974Z"
   },
   {
    "duration": 39,
    "start_time": "2021-10-01T10:57:33.019Z"
   },
   {
    "duration": 418,
    "start_time": "2021-10-01T10:57:33.061Z"
   },
   {
    "duration": 335,
    "start_time": "2021-10-01T10:57:33.482Z"
   },
   {
    "duration": 414,
    "start_time": "2021-10-01T10:57:33.819Z"
   },
   {
    "duration": 331,
    "start_time": "2021-10-01T10:57:34.237Z"
   },
   {
    "duration": 324,
    "start_time": "2021-10-01T10:57:34.572Z"
   },
   {
    "duration": 323,
    "start_time": "2021-10-01T10:57:34.898Z"
   },
   {
    "duration": 673,
    "start_time": "2021-10-01T10:57:35.224Z"
   },
   {
    "duration": 25,
    "start_time": "2021-10-01T10:57:35.899Z"
   },
   {
    "duration": 473,
    "start_time": "2021-10-01T10:57:35.927Z"
   },
   {
    "duration": 449,
    "start_time": "2021-10-01T10:57:36.402Z"
   },
   {
    "duration": 8,
    "start_time": "2021-10-01T10:57:36.853Z"
   },
   {
    "duration": 33,
    "start_time": "2021-10-01T10:57:36.863Z"
   },
   {
    "duration": 11,
    "start_time": "2021-10-01T10:57:36.899Z"
   },
   {
    "duration": 358,
    "start_time": "2021-10-01T10:57:36.913Z"
   },
   {
    "duration": 17,
    "start_time": "2021-10-01T10:57:37.274Z"
   },
   {
    "duration": 13,
    "start_time": "2021-10-01T10:57:37.294Z"
   },
   {
    "duration": 256,
    "start_time": "2021-10-01T10:57:37.310Z"
   },
   {
    "duration": 15,
    "start_time": "2021-10-01T10:57:37.569Z"
   },
   {
    "duration": 253,
    "start_time": "2021-10-01T10:57:37.587Z"
   },
   {
    "duration": 17,
    "start_time": "2021-10-01T10:57:37.842Z"
   },
   {
    "duration": 227,
    "start_time": "2021-10-01T10:57:37.862Z"
   },
   {
    "duration": 17,
    "start_time": "2021-10-01T10:57:38.091Z"
   },
   {
    "duration": 24,
    "start_time": "2021-10-01T10:57:38.111Z"
   },
   {
    "duration": 30,
    "start_time": "2021-10-01T10:57:38.137Z"
   },
   {
    "duration": 13,
    "start_time": "2021-10-01T10:57:38.169Z"
   },
   {
    "duration": 41,
    "start_time": "2021-10-01T10:57:38.184Z"
   },
   {
    "duration": 6,
    "start_time": "2021-10-01T10:57:38.227Z"
   },
   {
    "duration": 16,
    "start_time": "2021-10-01T10:57:38.258Z"
   },
   {
    "duration": 175,
    "start_time": "2021-10-01T10:57:38.277Z"
   },
   {
    "duration": 170,
    "start_time": "2021-10-01T10:57:38.458Z"
   },
   {
    "duration": 161,
    "start_time": "2021-10-01T10:57:38.631Z"
   },
   {
    "duration": 12,
    "start_time": "2021-10-01T10:57:38.795Z"
   },
   {
    "duration": 12,
    "start_time": "2021-10-01T10:57:38.814Z"
   },
   {
    "duration": 31,
    "start_time": "2021-10-01T11:51:55.169Z"
   },
   {
    "duration": 17,
    "start_time": "2021-10-01T11:52:07.417Z"
   },
   {
    "duration": 20,
    "start_time": "2021-10-01T11:53:06.029Z"
   },
   {
    "duration": 17,
    "start_time": "2021-10-01T11:54:24.972Z"
   },
   {
    "duration": 21,
    "start_time": "2021-10-01T11:55:41.486Z"
   },
   {
    "duration": 30,
    "start_time": "2021-10-01T11:55:57.954Z"
   },
   {
    "duration": 142,
    "start_time": "2021-10-01T11:56:05.610Z"
   },
   {
    "duration": 30,
    "start_time": "2021-10-01T11:57:17.020Z"
   },
   {
    "duration": 498,
    "start_time": "2021-10-01T11:58:35.244Z"
   },
   {
    "duration": 340,
    "start_time": "2021-10-01T11:58:40.750Z"
   },
   {
    "duration": 599,
    "start_time": "2021-10-01T11:58:46.916Z"
   },
   {
    "duration": 640,
    "start_time": "2021-10-01T12:02:30.642Z"
   },
   {
    "duration": 680,
    "start_time": "2021-10-01T12:02:36.805Z"
   },
   {
    "duration": 676,
    "start_time": "2021-10-01T12:02:41.492Z"
   },
   {
    "duration": 6,
    "start_time": "2021-10-01T12:09:44.614Z"
   },
   {
    "duration": 40,
    "start_time": "2021-10-01T12:11:49.595Z"
   },
   {
    "duration": 11,
    "start_time": "2021-10-01T12:11:57.960Z"
   },
   {
    "duration": 36,
    "start_time": "2021-10-01T12:12:30.849Z"
   },
   {
    "duration": 30,
    "start_time": "2021-10-01T12:13:37.013Z"
   },
   {
    "duration": 9,
    "start_time": "2021-10-01T12:13:48.513Z"
   },
   {
    "duration": 275,
    "start_time": "2021-10-01T12:14:05.125Z"
   },
   {
    "duration": 296,
    "start_time": "2021-10-01T12:14:31.754Z"
   },
   {
    "duration": 313,
    "start_time": "2021-10-01T12:14:51.207Z"
   },
   {
    "duration": 448,
    "start_time": "2021-10-01T12:15:24.078Z"
   },
   {
    "duration": 542,
    "start_time": "2021-10-01T12:16:49.406Z"
   },
   {
    "duration": 608,
    "start_time": "2021-10-01T12:17:15.759Z"
   },
   {
    "duration": 525,
    "start_time": "2021-10-01T12:28:16.536Z"
   },
   {
    "duration": 519,
    "start_time": "2021-10-01T12:28:31.177Z"
   },
   {
    "duration": 11,
    "start_time": "2021-10-01T12:34:42.365Z"
   },
   {
    "duration": 339,
    "start_time": "2021-10-01T13:34:06.461Z"
   },
   {
    "duration": -12,
    "start_time": "2021-10-01T13:34:06.815Z"
   },
   {
    "duration": 1945,
    "start_time": "2021-10-01T13:34:12.853Z"
   },
   {
    "duration": 65,
    "start_time": "2021-10-01T13:34:16.067Z"
   },
   {
    "duration": 15,
    "start_time": "2021-10-01T13:34:16.937Z"
   },
   {
    "duration": 24,
    "start_time": "2021-10-01T13:34:17.497Z"
   },
   {
    "duration": 32,
    "start_time": "2021-10-01T13:34:18.416Z"
   },
   {
    "duration": 7,
    "start_time": "2021-10-01T13:34:18.930Z"
   },
   {
    "duration": 32,
    "start_time": "2021-10-01T13:34:19.104Z"
   },
   {
    "duration": 46,
    "start_time": "2021-10-01T13:34:19.425Z"
   },
   {
    "duration": 49,
    "start_time": "2021-10-01T13:34:19.765Z"
   },
   {
    "duration": 7,
    "start_time": "2021-10-01T13:34:20.095Z"
   },
   {
    "duration": 15,
    "start_time": "2021-10-01T13:34:20.279Z"
   },
   {
    "duration": 20,
    "start_time": "2021-10-01T13:34:21.153Z"
   },
   {
    "duration": 7,
    "start_time": "2021-10-01T13:34:21.548Z"
   },
   {
    "duration": 7,
    "start_time": "2021-10-01T13:34:21.981Z"
   },
   {
    "duration": 30,
    "start_time": "2021-10-01T13:34:22.197Z"
   },
   {
    "duration": 19,
    "start_time": "2021-10-01T13:34:22.683Z"
   },
   {
    "duration": 9,
    "start_time": "2021-10-01T13:34:23.695Z"
   },
   {
    "duration": 14,
    "start_time": "2021-10-01T13:34:24.042Z"
   },
   {
    "duration": 7,
    "start_time": "2021-10-01T13:34:24.971Z"
   },
   {
    "duration": 7,
    "start_time": "2021-10-01T13:34:25.307Z"
   },
   {
    "duration": 7,
    "start_time": "2021-10-01T13:34:25.615Z"
   },
   {
    "duration": 7,
    "start_time": "2021-10-01T13:34:25.935Z"
   },
   {
    "duration": 6,
    "start_time": "2021-10-01T13:34:26.130Z"
   },
   {
    "duration": 7,
    "start_time": "2021-10-01T13:34:26.319Z"
   },
   {
    "duration": 7,
    "start_time": "2021-10-01T13:34:26.817Z"
   },
   {
    "duration": 20,
    "start_time": "2021-10-01T13:34:27.360Z"
   },
   {
    "duration": 25,
    "start_time": "2021-10-01T13:34:27.587Z"
   },
   {
    "duration": 30,
    "start_time": "2021-10-01T13:34:28.685Z"
   },
   {
    "duration": 27,
    "start_time": "2021-10-01T13:34:29.825Z"
   },
   {
    "duration": 89,
    "start_time": "2021-10-01T13:37:29.109Z"
   },
   {
    "duration": 35,
    "start_time": "2021-10-01T13:37:36.875Z"
   },
   {
    "duration": 9,
    "start_time": "2021-10-01T13:37:56.859Z"
   },
   {
    "duration": 73,
    "start_time": "2021-10-01T13:38:31.426Z"
   },
   {
    "duration": 381,
    "start_time": "2021-10-01T13:41:16.813Z"
   },
   {
    "duration": 6,
    "start_time": "2021-10-01T13:41:29.975Z"
   },
   {
    "duration": 91,
    "start_time": "2021-10-01T13:41:30.310Z"
   },
   {
    "duration": 20,
    "start_time": "2021-10-01T13:41:30.649Z"
   },
   {
    "duration": 35,
    "start_time": "2021-10-01T13:41:31.133Z"
   },
   {
    "duration": 49,
    "start_time": "2021-10-01T13:41:32.009Z"
   },
   {
    "duration": 7,
    "start_time": "2021-10-01T13:41:32.531Z"
   },
   {
    "duration": 33,
    "start_time": "2021-10-01T13:41:32.684Z"
   },
   {
    "duration": 48,
    "start_time": "2021-10-01T13:41:33.161Z"
   },
   {
    "duration": 51,
    "start_time": "2021-10-01T13:41:33.497Z"
   },
   {
    "duration": 6,
    "start_time": "2021-10-01T13:41:33.835Z"
   },
   {
    "duration": 15,
    "start_time": "2021-10-01T13:41:33.992Z"
   },
   {
    "duration": 22,
    "start_time": "2021-10-01T13:41:34.871Z"
   },
   {
    "duration": 9,
    "start_time": "2021-10-01T13:41:35.191Z"
   },
   {
    "duration": 7,
    "start_time": "2021-10-01T13:41:35.551Z"
   },
   {
    "duration": 19,
    "start_time": "2021-10-01T13:41:35.729Z"
   },
   {
    "duration": 16,
    "start_time": "2021-10-01T13:41:36.887Z"
   },
   {
    "duration": 8,
    "start_time": "2021-10-01T13:41:37.977Z"
   },
   {
    "duration": 17,
    "start_time": "2021-10-01T13:41:38.169Z"
   },
   {
    "duration": 7,
    "start_time": "2021-10-01T13:41:38.755Z"
   },
   {
    "duration": 10,
    "start_time": "2021-10-01T13:41:38.975Z"
   },
   {
    "duration": 8,
    "start_time": "2021-10-01T13:41:39.159Z"
   },
   {
    "duration": 6,
    "start_time": "2021-10-01T13:41:39.355Z"
   },
   {
    "duration": 6,
    "start_time": "2021-10-01T13:41:39.536Z"
   },
   {
    "duration": 6,
    "start_time": "2021-10-01T13:41:39.710Z"
   },
   {
    "duration": 7,
    "start_time": "2021-10-01T13:41:40.084Z"
   },
   {
    "duration": 21,
    "start_time": "2021-10-01T13:41:40.427Z"
   },
   {
    "duration": 17,
    "start_time": "2021-10-01T13:41:40.687Z"
   },
   {
    "duration": 46,
    "start_time": "2021-10-01T13:41:40.995Z"
   },
   {
    "duration": 25,
    "start_time": "2021-10-01T13:41:41.407Z"
   },
   {
    "duration": 10,
    "start_time": "2021-10-01T13:41:41.841Z"
   },
   {
    "duration": 22,
    "start_time": "2021-10-01T13:41:43.039Z"
   },
   {
    "duration": 318,
    "start_time": "2021-10-01T13:41:43.223Z"
   },
   {
    "duration": 617,
    "start_time": "2021-10-01T13:41:43.632Z"
   },
   {
    "duration": 857,
    "start_time": "2021-10-01T13:41:44.459Z"
   },
   {
    "duration": 25,
    "start_time": "2021-10-01T13:41:45.343Z"
   },
   {
    "duration": 44,
    "start_time": "2021-10-01T13:41:45.835Z"
   },
   {
    "duration": 495,
    "start_time": "2021-10-01T13:41:46.243Z"
   },
   {
    "duration": 11,
    "start_time": "2021-10-01T13:41:49.543Z"
   },
   {
    "duration": 39,
    "start_time": "2021-10-01T13:41:50.907Z"
   },
   {
    "duration": 34,
    "start_time": "2021-10-01T13:41:51.857Z"
   },
   {
    "duration": 20,
    "start_time": "2021-10-01T13:41:52.875Z"
   },
   {
    "duration": 564,
    "start_time": "2021-10-01T13:41:53.946Z"
   },
   {
    "duration": 383,
    "start_time": "2021-10-01T13:41:54.512Z"
   },
   {
    "duration": 333,
    "start_time": "2021-10-01T13:41:54.898Z"
   },
   {
    "duration": 360,
    "start_time": "2021-10-01T13:41:55.234Z"
   },
   {
    "duration": 392,
    "start_time": "2021-10-01T13:41:55.597Z"
   },
   {
    "duration": 341,
    "start_time": "2021-10-01T13:41:55.993Z"
   },
   {
    "duration": 481,
    "start_time": "2021-10-01T13:41:56.336Z"
   },
   {
    "duration": 656,
    "start_time": "2021-10-01T13:41:57.026Z"
   },
   {
    "duration": 24,
    "start_time": "2021-10-01T13:41:59.633Z"
   },
   {
    "duration": 459,
    "start_time": "2021-10-01T13:42:01.679Z"
   },
   {
    "duration": 420,
    "start_time": "2021-10-01T13:42:02.181Z"
   },
   {
    "duration": 7,
    "start_time": "2021-10-01T13:42:02.770Z"
   },
   {
    "duration": 34,
    "start_time": "2021-10-01T13:42:03.247Z"
   },
   {
    "duration": 11,
    "start_time": "2021-10-01T13:42:04.483Z"
   },
   {
    "duration": 343,
    "start_time": "2021-10-01T13:42:05.583Z"
   },
   {
    "duration": 19,
    "start_time": "2021-10-01T13:42:09.808Z"
   },
   {
    "duration": 13,
    "start_time": "2021-10-01T13:42:15.882Z"
   },
   {
    "duration": 225,
    "start_time": "2021-10-01T13:42:19.006Z"
   },
   {
    "duration": 10,
    "start_time": "2021-10-01T13:42:58.943Z"
   },
   {
    "duration": 22,
    "start_time": "2021-10-01T13:44:38.054Z"
   },
   {
    "duration": 165,
    "start_time": "2021-10-01T13:44:44.827Z"
   },
   {
    "duration": 183,
    "start_time": "2021-10-01T13:44:47.918Z"
   },
   {
    "duration": 281,
    "start_time": "2021-10-01T13:44:49.466Z"
   },
   {
    "duration": 16,
    "start_time": "2021-10-01T13:45:18.388Z"
   },
   {
    "duration": 162,
    "start_time": "2021-10-01T13:45:25.577Z"
   },
   {
    "duration": 174,
    "start_time": "2021-10-01T13:45:27.756Z"
   },
   {
    "duration": 153,
    "start_time": "2021-10-01T13:45:28.225Z"
   },
   {
    "duration": 367,
    "start_time": "2021-10-01T13:47:35.468Z"
   },
   {
    "duration": 14,
    "start_time": "2021-10-01T13:47:58.332Z"
   },
   {
    "duration": 15,
    "start_time": "2021-10-01T13:48:45.660Z"
   },
   {
    "duration": 1475,
    "start_time": "2022-06-20T07:37:38.018Z"
   },
   {
    "duration": 118,
    "start_time": "2022-06-20T07:37:41.560Z"
   },
   {
    "duration": 13,
    "start_time": "2022-06-20T07:37:44.791Z"
   },
   {
    "duration": 14,
    "start_time": "2022-06-20T07:37:46.258Z"
   },
   {
    "duration": 26,
    "start_time": "2022-06-20T07:37:48.232Z"
   },
   {
    "duration": 4,
    "start_time": "2022-06-20T07:37:49.901Z"
   },
   {
    "duration": 11,
    "start_time": "2022-06-20T07:37:53.618Z"
   },
   {
    "duration": 10,
    "start_time": "2022-06-20T07:39:21.380Z"
   },
   {
    "duration": 1104,
    "start_time": "2022-06-20T07:39:53.123Z"
   },
   {
    "duration": 68,
    "start_time": "2022-06-20T07:39:55.306Z"
   },
   {
    "duration": 14,
    "start_time": "2022-06-20T07:39:56.006Z"
   },
   {
    "duration": 14,
    "start_time": "2022-06-20T07:39:57.974Z"
   },
   {
    "duration": 9,
    "start_time": "2022-06-20T07:39:59.471Z"
   },
   {
    "duration": 13,
    "start_time": "2022-06-20T07:42:49.488Z"
   },
   {
    "duration": 873,
    "start_time": "2022-06-20T07:47:28.057Z"
   },
   {
    "duration": 11,
    "start_time": "2022-06-20T07:47:55.585Z"
   },
   {
    "duration": 1199,
    "start_time": "2022-06-20T07:48:08.443Z"
   },
   {
    "duration": 66,
    "start_time": "2022-06-20T07:48:09.644Z"
   },
   {
    "duration": 13,
    "start_time": "2022-06-20T07:48:09.712Z"
   },
   {
    "duration": 14,
    "start_time": "2022-06-20T07:48:09.727Z"
   },
   {
    "duration": 16,
    "start_time": "2022-06-20T07:48:09.743Z"
   },
   {
    "duration": 23,
    "start_time": "2022-06-20T07:48:09.767Z"
   },
   {
    "duration": 6,
    "start_time": "2022-06-20T07:48:09.792Z"
   },
   {
    "duration": 9,
    "start_time": "2022-06-20T07:48:09.800Z"
   },
   {
    "duration": 19,
    "start_time": "2022-06-20T07:48:09.810Z"
   },
   {
    "duration": 6,
    "start_time": "2022-06-20T07:48:09.831Z"
   },
   {
    "duration": 6,
    "start_time": "2022-06-20T07:48:09.867Z"
   },
   {
    "duration": 11,
    "start_time": "2022-06-20T07:48:09.875Z"
   },
   {
    "duration": 21,
    "start_time": "2022-06-20T07:48:09.888Z"
   },
   {
    "duration": 5,
    "start_time": "2022-06-20T07:48:09.912Z"
   },
   {
    "duration": 11,
    "start_time": "2022-06-20T07:48:09.919Z"
   },
   {
    "duration": 40,
    "start_time": "2022-06-20T07:48:09.931Z"
   },
   {
    "duration": 12,
    "start_time": "2022-06-20T07:48:09.972Z"
   },
   {
    "duration": 5,
    "start_time": "2022-06-20T07:48:09.986Z"
   },
   {
    "duration": 6,
    "start_time": "2022-06-20T07:48:09.992Z"
   },
   {
    "duration": 8,
    "start_time": "2022-06-20T07:48:09.999Z"
   },
   {
    "duration": 16,
    "start_time": "2022-06-20T07:48:10.009Z"
   },
   {
    "duration": 12,
    "start_time": "2022-06-20T07:48:10.027Z"
   },
   {
    "duration": 16,
    "start_time": "2022-06-20T07:48:10.041Z"
   },
   {
    "duration": 26,
    "start_time": "2022-06-20T07:48:10.058Z"
   },
   {
    "duration": 15,
    "start_time": "2022-06-20T07:48:10.085Z"
   },
   {
    "duration": 8,
    "start_time": "2022-06-20T07:48:10.102Z"
   },
   {
    "duration": 19,
    "start_time": "2022-06-20T07:48:10.111Z"
   },
   {
    "duration": 174,
    "start_time": "2022-06-20T07:48:10.132Z"
   },
   {
    "duration": 289,
    "start_time": "2022-06-20T07:48:10.308Z"
   },
   {
    "duration": 318,
    "start_time": "2022-06-20T07:48:10.598Z"
   },
   {
    "duration": 15,
    "start_time": "2022-06-20T07:48:10.917Z"
   },
   {
    "duration": 33,
    "start_time": "2022-06-20T07:48:10.934Z"
   },
   {
    "duration": 225,
    "start_time": "2022-06-20T07:48:10.969Z"
   },
   {
    "duration": 7,
    "start_time": "2022-06-20T07:48:11.195Z"
   },
   {
    "duration": 34,
    "start_time": "2022-06-20T07:48:11.204Z"
   },
   {
    "duration": 34,
    "start_time": "2022-06-20T07:48:11.240Z"
   },
   {
    "duration": 72,
    "start_time": "2022-06-20T07:48:11.276Z"
   },
   {
    "duration": 225,
    "start_time": "2022-06-20T07:48:11.350Z"
   },
   {
    "duration": 154,
    "start_time": "2022-06-20T07:48:11.577Z"
   },
   {
    "duration": 139,
    "start_time": "2022-06-20T07:48:11.733Z"
   },
   {
    "duration": 168,
    "start_time": "2022-06-20T07:48:11.876Z"
   },
   {
    "duration": 152,
    "start_time": "2022-06-20T07:48:12.046Z"
   },
   {
    "duration": 151,
    "start_time": "2022-06-20T07:48:12.200Z"
   },
   {
    "duration": 206,
    "start_time": "2022-06-20T07:48:12.353Z"
   },
   {
    "duration": 261,
    "start_time": "2022-06-20T07:48:12.561Z"
   },
   {
    "duration": 17,
    "start_time": "2022-06-20T07:48:12.823Z"
   },
   {
    "duration": 154,
    "start_time": "2022-06-20T07:48:12.842Z"
   },
   {
    "duration": 142,
    "start_time": "2022-06-20T07:48:12.997Z"
   },
   {
    "duration": 6,
    "start_time": "2022-06-20T07:48:13.140Z"
   },
   {
    "duration": 31,
    "start_time": "2022-06-20T07:48:13.148Z"
   },
   {
    "duration": 6,
    "start_time": "2022-06-20T07:48:13.180Z"
   },
   {
    "duration": 179,
    "start_time": "2022-06-20T07:48:13.188Z"
   },
   {
    "duration": 13,
    "start_time": "2022-06-20T07:48:13.369Z"
   },
   {
    "duration": 14,
    "start_time": "2022-06-20T07:48:13.383Z"
   },
   {
    "duration": 336,
    "start_time": "2022-06-20T07:48:13.399Z"
   },
   {
    "duration": 9,
    "start_time": "2022-06-20T07:48:13.737Z"
   },
   {
    "duration": 167,
    "start_time": "2022-06-20T07:48:13.747Z"
   },
   {
    "duration": 0,
    "start_time": "2022-06-20T07:48:13.915Z"
   },
   {
    "duration": 0,
    "start_time": "2022-06-20T07:48:13.917Z"
   },
   {
    "duration": 0,
    "start_time": "2022-06-20T07:48:13.918Z"
   },
   {
    "duration": 0,
    "start_time": "2022-06-20T07:48:13.920Z"
   },
   {
    "duration": 0,
    "start_time": "2022-06-20T07:48:13.921Z"
   },
   {
    "duration": 0,
    "start_time": "2022-06-20T07:48:13.923Z"
   },
   {
    "duration": 0,
    "start_time": "2022-06-20T07:48:13.924Z"
   },
   {
    "duration": 0,
    "start_time": "2022-06-20T07:48:13.926Z"
   },
   {
    "duration": 0,
    "start_time": "2022-06-20T07:48:13.927Z"
   },
   {
    "duration": 0,
    "start_time": "2022-06-20T07:48:13.929Z"
   },
   {
    "duration": 0,
    "start_time": "2022-06-20T07:48:13.930Z"
   },
   {
    "duration": 0,
    "start_time": "2022-06-20T07:48:13.932Z"
   },
   {
    "duration": 0,
    "start_time": "2022-06-20T07:48:13.933Z"
   },
   {
    "duration": 5,
    "start_time": "2022-06-20T07:49:48.745Z"
   },
   {
    "duration": 18,
    "start_time": "2022-06-20T07:49:57.626Z"
   },
   {
    "duration": 16,
    "start_time": "2022-06-20T07:50:21.645Z"
   },
   {
    "duration": 7,
    "start_time": "2022-06-20T07:51:51.366Z"
   },
   {
    "duration": 119,
    "start_time": "2022-06-20T07:56:11.451Z"
   },
   {
    "duration": 1107,
    "start_time": "2022-06-20T07:56:22.211Z"
   },
   {
    "duration": 87,
    "start_time": "2022-06-20T07:56:23.320Z"
   },
   {
    "duration": 18,
    "start_time": "2022-06-20T07:56:23.409Z"
   },
   {
    "duration": 14,
    "start_time": "2022-06-20T07:56:23.429Z"
   },
   {
    "duration": 8,
    "start_time": "2022-06-20T07:56:24.177Z"
   },
   {
    "duration": 22,
    "start_time": "2022-06-20T07:56:24.912Z"
   },
   {
    "duration": 6,
    "start_time": "2022-06-20T07:56:25.243Z"
   },
   {
    "duration": 13,
    "start_time": "2022-06-20T07:56:25.564Z"
   },
   {
    "duration": 15,
    "start_time": "2022-06-20T07:56:25.854Z"
   },
   {
    "duration": 7,
    "start_time": "2022-06-20T07:56:26.164Z"
   },
   {
    "duration": 6,
    "start_time": "2022-06-20T07:56:26.484Z"
   },
   {
    "duration": 13,
    "start_time": "2022-06-20T07:56:26.644Z"
   },
   {
    "duration": 22,
    "start_time": "2022-06-20T07:56:26.784Z"
   },
   {
    "duration": 6,
    "start_time": "2022-06-20T07:56:27.304Z"
   },
   {
    "duration": 10,
    "start_time": "2022-06-20T07:56:27.482Z"
   },
   {
    "duration": 5,
    "start_time": "2022-06-20T07:56:27.882Z"
   },
   {
    "duration": 20,
    "start_time": "2022-06-20T07:56:28.255Z"
   },
   {
    "duration": 7,
    "start_time": "2022-06-20T07:56:28.663Z"
   },
   {
    "duration": 13,
    "start_time": "2022-06-20T07:56:29.543Z"
   },
   {
    "duration": 325,
    "start_time": "2022-06-20T07:56:29.803Z"
   },
   {
    "duration": 109,
    "start_time": "2022-06-20T07:56:31.317Z"
   },
   {
    "duration": 20,
    "start_time": "2022-06-20T07:57:29.041Z"
   },
   {
    "duration": 10256,
    "start_time": "2022-06-20T07:58:01.275Z"
   },
   {
    "duration": 44,
    "start_time": "2022-06-20T07:58:24.514Z"
   },
   {
    "duration": 1262,
    "start_time": "2022-06-20T07:58:28.621Z"
   },
   {
    "duration": 111,
    "start_time": "2022-06-20T07:58:31.142Z"
   },
   {
    "duration": 14,
    "start_time": "2022-06-20T07:58:31.553Z"
   },
   {
    "duration": 15,
    "start_time": "2022-06-20T07:58:32.024Z"
   },
   {
    "duration": 8,
    "start_time": "2022-06-20T07:58:32.402Z"
   },
   {
    "duration": 22,
    "start_time": "2022-06-20T07:58:33.202Z"
   },
   {
    "duration": 8,
    "start_time": "2022-06-20T07:58:34.257Z"
   },
   {
    "duration": 9,
    "start_time": "2022-06-20T07:58:34.881Z"
   },
   {
    "duration": 14,
    "start_time": "2022-06-20T07:58:35.539Z"
   },
   {
    "duration": 5,
    "start_time": "2022-06-20T07:58:37.674Z"
   },
   {
    "duration": 5,
    "start_time": "2022-06-20T07:58:38.339Z"
   },
   {
    "duration": 9,
    "start_time": "2022-06-20T07:58:38.643Z"
   },
   {
    "duration": 17,
    "start_time": "2022-06-20T07:58:38.893Z"
   },
   {
    "duration": 5,
    "start_time": "2022-06-20T07:58:39.739Z"
   },
   {
    "duration": 11,
    "start_time": "2022-06-20T07:58:39.994Z"
   },
   {
    "duration": 4,
    "start_time": "2022-06-20T07:58:40.538Z"
   },
   {
    "duration": 16,
    "start_time": "2022-06-20T07:58:41.140Z"
   },
   {
    "duration": 7,
    "start_time": "2022-06-20T07:58:45.361Z"
   },
   {
    "duration": 14,
    "start_time": "2022-06-20T07:58:47.214Z"
   },
   {
    "duration": 324,
    "start_time": "2022-06-20T07:58:48.014Z"
   },
   {
    "duration": 16,
    "start_time": "2022-06-20T07:58:52.310Z"
   },
   {
    "duration": 23,
    "start_time": "2022-06-20T07:58:54.682Z"
   },
   {
    "duration": 167,
    "start_time": "2022-06-20T07:58:56.170Z"
   },
   {
    "duration": 239,
    "start_time": "2022-06-20T07:59:51.698Z"
   },
   {
    "duration": 13,
    "start_time": "2022-06-20T08:03:49.841Z"
   },
   {
    "duration": 12,
    "start_time": "2022-06-20T08:04:57.260Z"
   },
   {
    "duration": 13,
    "start_time": "2022-06-20T08:05:44.339Z"
   },
   {
    "duration": 63,
    "start_time": "2022-06-20T08:13:07.719Z"
   },
   {
    "duration": 284,
    "start_time": "2022-06-20T08:13:15.574Z"
   },
   {
    "duration": 286,
    "start_time": "2022-06-20T08:14:55.267Z"
   },
   {
    "duration": 18,
    "start_time": "2022-06-20T08:15:13.664Z"
   },
   {
    "duration": 17,
    "start_time": "2022-06-20T08:21:41.657Z"
   },
   {
    "duration": 348,
    "start_time": "2022-06-20T08:21:42.413Z"
   },
   {
    "duration": 117,
    "start_time": "2022-06-20T08:22:52.117Z"
   },
   {
    "duration": 178,
    "start_time": "2022-06-20T08:23:15.311Z"
   },
   {
    "duration": 518,
    "start_time": "2022-06-20T08:25:24.802Z"
   },
   {
    "duration": 344,
    "start_time": "2022-06-20T08:28:23.380Z"
   },
   {
    "duration": 444,
    "start_time": "2022-06-20T08:29:08.433Z"
   },
   {
    "duration": 23,
    "start_time": "2022-06-20T08:30:10.147Z"
   },
   {
    "duration": 6,
    "start_time": "2022-06-20T08:30:14.385Z"
   },
   {
    "duration": 7,
    "start_time": "2022-06-20T08:33:29.659Z"
   },
   {
    "duration": 31,
    "start_time": "2022-06-20T08:33:40.740Z"
   },
   {
    "duration": 3,
    "start_time": "2022-06-20T08:35:23.351Z"
   },
   {
    "duration": 1227,
    "start_time": "2022-06-20T08:35:31.614Z"
   },
   {
    "duration": 69,
    "start_time": "2022-06-20T08:35:35.010Z"
   },
   {
    "duration": 13,
    "start_time": "2022-06-20T08:35:35.447Z"
   },
   {
    "duration": 14,
    "start_time": "2022-06-20T08:35:35.914Z"
   },
   {
    "duration": 8,
    "start_time": "2022-06-20T08:35:36.236Z"
   },
   {
    "duration": 23,
    "start_time": "2022-06-20T08:35:36.791Z"
   },
   {
    "duration": 5,
    "start_time": "2022-06-20T08:35:37.137Z"
   },
   {
    "duration": 10,
    "start_time": "2022-06-20T08:35:37.335Z"
   },
   {
    "duration": 14,
    "start_time": "2022-06-20T08:35:37.631Z"
   },
   {
    "duration": 5,
    "start_time": "2022-06-20T08:35:37.937Z"
   },
   {
    "duration": 5,
    "start_time": "2022-06-20T08:35:38.242Z"
   },
   {
    "duration": 11,
    "start_time": "2022-06-20T08:35:38.407Z"
   },
   {
    "duration": 20,
    "start_time": "2022-06-20T08:35:38.537Z"
   },
   {
    "duration": 7,
    "start_time": "2022-06-20T08:35:38.985Z"
   },
   {
    "duration": 13,
    "start_time": "2022-06-20T08:35:39.146Z"
   },
   {
    "duration": 4,
    "start_time": "2022-06-20T08:35:39.432Z"
   },
   {
    "duration": 17,
    "start_time": "2022-06-20T08:35:39.802Z"
   },
   {
    "duration": 6,
    "start_time": "2022-06-20T08:35:40.135Z"
   },
   {
    "duration": 14,
    "start_time": "2022-06-20T08:35:40.879Z"
   },
   {
    "duration": 321,
    "start_time": "2022-06-20T08:35:41.133Z"
   },
   {
    "duration": 15,
    "start_time": "2022-06-20T08:35:41.732Z"
   },
   {
    "duration": 293,
    "start_time": "2022-06-20T08:35:41.951Z"
   },
   {
    "duration": 20,
    "start_time": "2022-06-20T08:35:42.353Z"
   },
   {
    "duration": 389,
    "start_time": "2022-06-20T08:35:42.552Z"
   },
   {
    "duration": 23,
    "start_time": "2022-06-20T08:35:43.890Z"
   },
   {
    "duration": 5,
    "start_time": "2022-06-20T08:35:44.158Z"
   },
   {
    "duration": 41,
    "start_time": "2022-06-20T08:35:44.604Z"
   },
   {
    "duration": 18,
    "start_time": "2022-06-20T08:35:45.787Z"
   },
   {
    "duration": 50,
    "start_time": "2022-06-20T08:37:58.333Z"
   },
   {
    "duration": 332,
    "start_time": "2022-06-20T08:38:06.137Z"
   },
   {
    "duration": 37,
    "start_time": "2022-06-20T08:42:22.196Z"
   },
   {
    "duration": 14,
    "start_time": "2022-06-20T08:42:43.821Z"
   },
   {
    "duration": 22,
    "start_time": "2022-06-20T08:43:08.152Z"
   },
   {
    "duration": 284,
    "start_time": "2022-06-20T08:46:30.337Z"
   },
   {
    "duration": 274,
    "start_time": "2022-06-20T08:48:03.445Z"
   },
   {
    "duration": 11,
    "start_time": "2022-06-20T08:50:05.810Z"
   },
   {
    "duration": 19,
    "start_time": "2022-06-20T08:50:11.918Z"
   },
   {
    "duration": 169,
    "start_time": "2022-06-20T08:50:13.270Z"
   },
   {
    "duration": 5,
    "start_time": "2022-06-20T08:50:35.648Z"
   },
   {
    "duration": 205,
    "start_time": "2022-06-20T08:50:44.696Z"
   },
   {
    "duration": 157,
    "start_time": "2022-06-20T08:50:46.134Z"
   },
   {
    "duration": 144,
    "start_time": "2022-06-20T08:51:03.350Z"
   },
   {
    "duration": 18,
    "start_time": "2022-06-20T08:54:49.366Z"
   },
   {
    "duration": 26,
    "start_time": "2022-06-20T08:55:28.810Z"
   },
   {
    "duration": 25,
    "start_time": "2022-06-20T08:55:48.928Z"
   },
   {
    "duration": 20,
    "start_time": "2022-06-20T08:56:00.552Z"
   },
   {
    "duration": 13,
    "start_time": "2022-06-20T08:57:15.056Z"
   },
   {
    "duration": 9,
    "start_time": "2022-06-20T08:57:23.240Z"
   },
   {
    "duration": 175,
    "start_time": "2022-06-20T08:57:24.116Z"
   },
   {
    "duration": 11,
    "start_time": "2022-06-20T09:01:38.885Z"
   },
   {
    "duration": 12,
    "start_time": "2022-06-20T09:01:43.946Z"
   },
   {
    "duration": 9,
    "start_time": "2022-06-20T09:01:44.949Z"
   },
   {
    "duration": 245,
    "start_time": "2022-06-20T09:01:45.259Z"
   },
   {
    "duration": 9,
    "start_time": "2022-06-20T09:01:45.900Z"
   },
   {
    "duration": 244,
    "start_time": "2022-06-20T09:01:46.838Z"
   },
   {
    "duration": 14,
    "start_time": "2022-06-20T09:01:58.934Z"
   },
   {
    "duration": 251,
    "start_time": "2022-06-20T09:04:41.282Z"
   },
   {
    "duration": 12,
    "start_time": "2022-06-20T09:05:25.510Z"
   },
   {
    "duration": 9,
    "start_time": "2022-06-20T09:05:35.918Z"
   },
   {
    "duration": 9,
    "start_time": "2022-06-20T09:05:37.504Z"
   },
   {
    "duration": 9,
    "start_time": "2022-06-20T09:05:38.491Z"
   },
   {
    "duration": 316,
    "start_time": "2022-06-20T09:07:50.135Z"
   },
   {
    "duration": 12,
    "start_time": "2022-06-20T09:08:18.071Z"
   },
   {
    "duration": 146,
    "start_time": "2022-06-20T09:09:15.984Z"
   },
   {
    "duration": 146,
    "start_time": "2022-06-20T09:09:18.116Z"
   },
   {
    "duration": 153,
    "start_time": "2022-06-20T09:09:19.156Z"
   },
   {
    "duration": 13,
    "start_time": "2022-06-20T09:16:55.546Z"
   },
   {
    "duration": 9,
    "start_time": "2022-06-20T09:17:32.905Z"
   },
   {
    "duration": 12,
    "start_time": "2022-06-20T09:21:06.182Z"
   },
   {
    "duration": 46,
    "start_time": "2022-06-20T09:21:50.063Z"
   },
   {
    "duration": 73,
    "start_time": "2022-06-20T09:22:19.535Z"
   },
   {
    "duration": 47,
    "start_time": "2022-06-20T09:23:03.155Z"
   },
   {
    "duration": 100,
    "start_time": "2022-06-20T09:23:24.308Z"
   },
   {
    "duration": 11,
    "start_time": "2022-06-20T09:23:49.443Z"
   },
   {
    "duration": 13,
    "start_time": "2022-06-20T09:32:02.694Z"
   },
   {
    "duration": 1191,
    "start_time": "2022-06-20T09:32:44.025Z"
   },
   {
    "duration": 70,
    "start_time": "2022-06-20T09:32:45.218Z"
   },
   {
    "duration": 17,
    "start_time": "2022-06-20T09:32:45.290Z"
   },
   {
    "duration": 19,
    "start_time": "2022-06-20T09:32:45.310Z"
   },
   {
    "duration": 9,
    "start_time": "2022-06-20T09:32:45.330Z"
   },
   {
    "duration": 32,
    "start_time": "2022-06-20T09:32:45.366Z"
   },
   {
    "duration": 9,
    "start_time": "2022-06-20T09:32:45.400Z"
   },
   {
    "duration": 16,
    "start_time": "2022-06-20T09:32:45.411Z"
   },
   {
    "duration": 14,
    "start_time": "2022-06-20T09:32:45.429Z"
   },
   {
    "duration": 25,
    "start_time": "2022-06-20T09:32:45.445Z"
   },
   {
    "duration": 8,
    "start_time": "2022-06-20T09:32:45.471Z"
   },
   {
    "duration": 18,
    "start_time": "2022-06-20T09:32:45.481Z"
   },
   {
    "duration": 22,
    "start_time": "2022-06-20T09:32:45.502Z"
   },
   {
    "duration": 8,
    "start_time": "2022-06-20T09:32:45.526Z"
   },
   {
    "duration": 40,
    "start_time": "2022-06-20T09:32:45.535Z"
   },
   {
    "duration": 12,
    "start_time": "2022-06-20T09:32:45.577Z"
   },
   {
    "duration": 46,
    "start_time": "2022-06-20T09:32:45.591Z"
   },
   {
    "duration": 7,
    "start_time": "2022-06-20T09:32:45.639Z"
   },
   {
    "duration": 25,
    "start_time": "2022-06-20T09:32:45.648Z"
   },
   {
    "duration": 333,
    "start_time": "2022-06-20T09:32:45.675Z"
   },
   {
    "duration": 18,
    "start_time": "2022-06-20T09:32:46.009Z"
   },
   {
    "duration": 302,
    "start_time": "2022-06-20T09:32:46.028Z"
   },
   {
    "duration": 19,
    "start_time": "2022-06-20T09:32:46.331Z"
   },
   {
    "duration": 326,
    "start_time": "2022-06-20T09:32:46.352Z"
   },
   {
    "duration": 24,
    "start_time": "2022-06-20T09:32:46.680Z"
   },
   {
    "duration": 5,
    "start_time": "2022-06-20T09:32:46.705Z"
   },
   {
    "duration": 16,
    "start_time": "2022-06-20T09:32:46.712Z"
   },
   {
    "duration": 43,
    "start_time": "2022-06-20T09:32:46.732Z"
   },
   {
    "duration": 222,
    "start_time": "2022-06-20T09:32:46.777Z"
   },
   {
    "duration": 363,
    "start_time": "2022-06-20T09:32:47.002Z"
   },
   {
    "duration": 17,
    "start_time": "2022-06-20T09:32:47.366Z"
   },
   {
    "duration": 168,
    "start_time": "2022-06-20T09:32:47.386Z"
   },
   {
    "duration": 174,
    "start_time": "2022-06-20T09:32:47.556Z"
   },
   {
    "duration": 6,
    "start_time": "2022-06-20T09:32:47.732Z"
   },
   {
    "duration": 41,
    "start_time": "2022-06-20T09:32:47.740Z"
   },
   {
    "duration": 9,
    "start_time": "2022-06-20T09:32:47.783Z"
   },
   {
    "duration": 205,
    "start_time": "2022-06-20T09:32:47.794Z"
   },
   {
    "duration": 14,
    "start_time": "2022-06-20T09:32:48.001Z"
   },
   {
    "duration": 12,
    "start_time": "2022-06-20T09:32:48.017Z"
   },
   {
    "duration": 269,
    "start_time": "2022-06-20T09:32:48.030Z"
   },
   {
    "duration": 11,
    "start_time": "2022-06-20T09:32:48.301Z"
   },
   {
    "duration": 295,
    "start_time": "2022-06-20T09:32:48.314Z"
   },
   {
    "duration": 9,
    "start_time": "2022-06-20T09:32:48.611Z"
   },
   {
    "duration": 277,
    "start_time": "2022-06-20T09:32:48.622Z"
   },
   {
    "duration": 19,
    "start_time": "2022-06-20T09:32:48.901Z"
   },
   {
    "duration": 26,
    "start_time": "2022-06-20T09:32:48.922Z"
   },
   {
    "duration": 34,
    "start_time": "2022-06-20T09:32:48.950Z"
   },
   {
    "duration": 37,
    "start_time": "2022-06-20T09:32:48.986Z"
   },
   {
    "duration": 331,
    "start_time": "2022-06-20T09:32:49.028Z"
   },
   {
    "duration": 13,
    "start_time": "2022-06-20T09:32:49.361Z"
   },
   {
    "duration": 163,
    "start_time": "2022-06-20T09:32:49.376Z"
   },
   {
    "duration": 166,
    "start_time": "2022-06-20T09:32:49.542Z"
   },
   {
    "duration": 285,
    "start_time": "2022-06-20T09:32:49.710Z"
   },
   {
    "duration": 10,
    "start_time": "2022-06-20T09:32:49.996Z"
   },
   {
    "duration": 13,
    "start_time": "2022-06-20T09:32:50.007Z"
   }
  ],
  "kernelspec": {
   "display_name": "Python 3 (ipykernel)",
   "language": "python",
   "name": "python3"
  },
  "language_info": {
   "codemirror_mode": {
    "name": "ipython",
    "version": 3
   },
   "file_extension": ".py",
   "mimetype": "text/x-python",
   "name": "python",
   "nbconvert_exporter": "python",
   "pygments_lexer": "ipython3",
   "version": "3.9.5"
  },
  "toc": {
   "base_numbering": 1,
   "nav_menu": {},
   "number_sections": true,
   "sideBar": true,
   "skip_h1_title": true,
   "title_cell": "Table of Contents",
   "title_sidebar": "Contents",
   "toc_cell": false,
   "toc_position": {},
   "toc_section_display": true,
   "toc_window_display": false
  }
 },
 "nbformat": 4,
 "nbformat_minor": 2
}
