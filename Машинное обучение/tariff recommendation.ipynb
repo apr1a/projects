{
 "cells": [
  {
   "cell_type": "markdown",
   "metadata": {},
   "source": [
    "# Рекомендация тарифов"
   ]
  },
  {
   "cell_type": "markdown",
   "metadata": {},
   "source": [
    "Клиентам компании \"Мегалайн\" предлагают два тарифных плана: «Смарт» и «Ультра». Мы имееем данные о поведении клиентов, которые уже перешли на эти тарифы. Нужно построить модель для задачи классификации, которая выберет подходящий тариф. \n",
    "\n",
    "Необходимо оптимизировать модель по метрике accuracy (минимально допустимое значение 0.75) и проверить работу модели на тестовой выборке."
   ]
  },
  {
   "cell_type": "markdown",
   "metadata": {},
   "source": [
    "## Открытие файлов и изучение общей информации"
   ]
  },
  {
   "cell_type": "code",
   "execution_count": 1,
   "metadata": {},
   "outputs": [],
   "source": [
    "import pandas as pd\n",
    "from sklearn.model_selection import train_test_split\n",
    "from sklearn.linear_model import LogisticRegression\n",
    "from sklearn.tree import DecisionTreeClassifier\n",
    "from sklearn.ensemble import RandomForestClassifier\n",
    "from sklearn.metrics import accuracy_score"
   ]
  },
  {
   "cell_type": "markdown",
   "metadata": {},
   "source": [
    "Открываем и изучаем файл"
   ]
  },
  {
   "cell_type": "code",
   "execution_count": 2,
   "metadata": {},
   "outputs": [
    {
     "data": {
      "text/html": [
       "<div>\n",
       "<style scoped>\n",
       "    .dataframe tbody tr th:only-of-type {\n",
       "        vertical-align: middle;\n",
       "    }\n",
       "\n",
       "    .dataframe tbody tr th {\n",
       "        vertical-align: top;\n",
       "    }\n",
       "\n",
       "    .dataframe thead th {\n",
       "        text-align: right;\n",
       "    }\n",
       "</style>\n",
       "<table border=\"1\" class=\"dataframe\">\n",
       "  <thead>\n",
       "    <tr style=\"text-align: right;\">\n",
       "      <th></th>\n",
       "      <th>calls</th>\n",
       "      <th>minutes</th>\n",
       "      <th>messages</th>\n",
       "      <th>mb_used</th>\n",
       "      <th>is_ultra</th>\n",
       "    </tr>\n",
       "  </thead>\n",
       "  <tbody>\n",
       "    <tr>\n",
       "      <th>0</th>\n",
       "      <td>40.0</td>\n",
       "      <td>311.90</td>\n",
       "      <td>83.0</td>\n",
       "      <td>19915.42</td>\n",
       "      <td>0</td>\n",
       "    </tr>\n",
       "    <tr>\n",
       "      <th>1</th>\n",
       "      <td>85.0</td>\n",
       "      <td>516.75</td>\n",
       "      <td>56.0</td>\n",
       "      <td>22696.96</td>\n",
       "      <td>0</td>\n",
       "    </tr>\n",
       "    <tr>\n",
       "      <th>2</th>\n",
       "      <td>77.0</td>\n",
       "      <td>467.66</td>\n",
       "      <td>86.0</td>\n",
       "      <td>21060.45</td>\n",
       "      <td>0</td>\n",
       "    </tr>\n",
       "    <tr>\n",
       "      <th>3</th>\n",
       "      <td>106.0</td>\n",
       "      <td>745.53</td>\n",
       "      <td>81.0</td>\n",
       "      <td>8437.39</td>\n",
       "      <td>1</td>\n",
       "    </tr>\n",
       "    <tr>\n",
       "      <th>4</th>\n",
       "      <td>66.0</td>\n",
       "      <td>418.74</td>\n",
       "      <td>1.0</td>\n",
       "      <td>14502.75</td>\n",
       "      <td>0</td>\n",
       "    </tr>\n",
       "    <tr>\n",
       "      <th>5</th>\n",
       "      <td>58.0</td>\n",
       "      <td>344.56</td>\n",
       "      <td>21.0</td>\n",
       "      <td>15823.37</td>\n",
       "      <td>0</td>\n",
       "    </tr>\n",
       "    <tr>\n",
       "      <th>6</th>\n",
       "      <td>57.0</td>\n",
       "      <td>431.64</td>\n",
       "      <td>20.0</td>\n",
       "      <td>3738.90</td>\n",
       "      <td>1</td>\n",
       "    </tr>\n",
       "    <tr>\n",
       "      <th>7</th>\n",
       "      <td>15.0</td>\n",
       "      <td>132.40</td>\n",
       "      <td>6.0</td>\n",
       "      <td>21911.60</td>\n",
       "      <td>0</td>\n",
       "    </tr>\n",
       "    <tr>\n",
       "      <th>8</th>\n",
       "      <td>7.0</td>\n",
       "      <td>43.39</td>\n",
       "      <td>3.0</td>\n",
       "      <td>2538.67</td>\n",
       "      <td>1</td>\n",
       "    </tr>\n",
       "    <tr>\n",
       "      <th>9</th>\n",
       "      <td>90.0</td>\n",
       "      <td>665.41</td>\n",
       "      <td>38.0</td>\n",
       "      <td>17358.61</td>\n",
       "      <td>0</td>\n",
       "    </tr>\n",
       "  </tbody>\n",
       "</table>\n",
       "</div>"
      ],
      "text/plain": [
       "   calls  minutes  messages   mb_used  is_ultra\n",
       "0   40.0   311.90      83.0  19915.42         0\n",
       "1   85.0   516.75      56.0  22696.96         0\n",
       "2   77.0   467.66      86.0  21060.45         0\n",
       "3  106.0   745.53      81.0   8437.39         1\n",
       "4   66.0   418.74       1.0  14502.75         0\n",
       "5   58.0   344.56      21.0  15823.37         0\n",
       "6   57.0   431.64      20.0   3738.90         1\n",
       "7   15.0   132.40       6.0  21911.60         0\n",
       "8    7.0    43.39       3.0   2538.67         1\n",
       "9   90.0   665.41      38.0  17358.61         0"
      ]
     },
     "execution_count": 2,
     "metadata": {},
     "output_type": "execute_result"
    }
   ],
   "source": [
    "df = pd.read_csv('/datasets/users_behavior.csv')\n",
    "df.head(10)"
   ]
  },
  {
   "cell_type": "markdown",
   "metadata": {},
   "source": [
    "Просматриваем общую информацию"
   ]
  },
  {
   "cell_type": "code",
   "execution_count": 3,
   "metadata": {},
   "outputs": [
    {
     "name": "stdout",
     "output_type": "stream",
     "text": [
      "<class 'pandas.core.frame.DataFrame'>\n",
      "RangeIndex: 3214 entries, 0 to 3213\n",
      "Data columns (total 5 columns):\n",
      " #   Column    Non-Null Count  Dtype  \n",
      "---  ------    --------------  -----  \n",
      " 0   calls     3214 non-null   float64\n",
      " 1   minutes   3214 non-null   float64\n",
      " 2   messages  3214 non-null   float64\n",
      " 3   mb_used   3214 non-null   float64\n",
      " 4   is_ultra  3214 non-null   int64  \n",
      "dtypes: float64(4), int64(1)\n",
      "memory usage: 125.7 KB\n"
     ]
    }
   ],
   "source": [
    "df.info()"
   ]
  },
  {
   "cell_type": "markdown",
   "metadata": {},
   "source": [
    "Заменям тип данных в столбце с сообщениями на целочисленный"
   ]
  },
  {
   "cell_type": "code",
   "execution_count": 4,
   "metadata": {},
   "outputs": [
    {
     "data": {
      "text/html": [
       "<div>\n",
       "<style scoped>\n",
       "    .dataframe tbody tr th:only-of-type {\n",
       "        vertical-align: middle;\n",
       "    }\n",
       "\n",
       "    .dataframe tbody tr th {\n",
       "        vertical-align: top;\n",
       "    }\n",
       "\n",
       "    .dataframe thead th {\n",
       "        text-align: right;\n",
       "    }\n",
       "</style>\n",
       "<table border=\"1\" class=\"dataframe\">\n",
       "  <thead>\n",
       "    <tr style=\"text-align: right;\">\n",
       "      <th></th>\n",
       "      <th>calls</th>\n",
       "      <th>minutes</th>\n",
       "      <th>messages</th>\n",
       "      <th>mb_used</th>\n",
       "      <th>is_ultra</th>\n",
       "    </tr>\n",
       "  </thead>\n",
       "  <tbody>\n",
       "    <tr>\n",
       "      <th>0</th>\n",
       "      <td>40.0</td>\n",
       "      <td>311.90</td>\n",
       "      <td>83</td>\n",
       "      <td>19915.42</td>\n",
       "      <td>0</td>\n",
       "    </tr>\n",
       "    <tr>\n",
       "      <th>1</th>\n",
       "      <td>85.0</td>\n",
       "      <td>516.75</td>\n",
       "      <td>56</td>\n",
       "      <td>22696.96</td>\n",
       "      <td>0</td>\n",
       "    </tr>\n",
       "    <tr>\n",
       "      <th>2</th>\n",
       "      <td>77.0</td>\n",
       "      <td>467.66</td>\n",
       "      <td>86</td>\n",
       "      <td>21060.45</td>\n",
       "      <td>0</td>\n",
       "    </tr>\n",
       "    <tr>\n",
       "      <th>3</th>\n",
       "      <td>106.0</td>\n",
       "      <td>745.53</td>\n",
       "      <td>81</td>\n",
       "      <td>8437.39</td>\n",
       "      <td>1</td>\n",
       "    </tr>\n",
       "    <tr>\n",
       "      <th>4</th>\n",
       "      <td>66.0</td>\n",
       "      <td>418.74</td>\n",
       "      <td>1</td>\n",
       "      <td>14502.75</td>\n",
       "      <td>0</td>\n",
       "    </tr>\n",
       "  </tbody>\n",
       "</table>\n",
       "</div>"
      ],
      "text/plain": [
       "   calls  minutes  messages   mb_used  is_ultra\n",
       "0   40.0   311.90        83  19915.42         0\n",
       "1   85.0   516.75        56  22696.96         0\n",
       "2   77.0   467.66        86  21060.45         0\n",
       "3  106.0   745.53        81   8437.39         1\n",
       "4   66.0   418.74         1  14502.75         0"
      ]
     },
     "execution_count": 4,
     "metadata": {},
     "output_type": "execute_result"
    }
   ],
   "source": [
    "df['messages']=df['messages'].astype('int')\n",
    "df.head()"
   ]
  },
  {
   "cell_type": "markdown",
   "metadata": {},
   "source": [
    "Проверяем отсутствующие значения"
   ]
  },
  {
   "cell_type": "code",
   "execution_count": 5,
   "metadata": {},
   "outputs": [
    {
     "data": {
      "text/plain": [
       "calls       0\n",
       "minutes     0\n",
       "messages    0\n",
       "mb_used     0\n",
       "is_ultra    0\n",
       "dtype: int64"
      ]
     },
     "execution_count": 5,
     "metadata": {},
     "output_type": "execute_result"
    }
   ],
   "source": [
    "df.isna().sum()"
   ]
  },
  {
   "cell_type": "markdown",
   "metadata": {},
   "source": [
    "Отсутствующие значения не обнаружены"
   ]
  },
  {
   "cell_type": "markdown",
   "metadata": {},
   "source": [
    "**Вывод:**\n",
    "1. Данные изучены\n",
    "2. Тип данных в столбце с сообщениями изменён на целочисленный\n",
    "3. Отсутствующие значения не обнаружены\n",
    "4. В данных 3214 пользователей и 5 их критериев поведения\n"
   ]
  },
  {
   "cell_type": "markdown",
   "metadata": {},
   "source": [
    "## Разделение данных на выборки"
   ]
  },
  {
   "cell_type": "markdown",
   "metadata": {},
   "source": [
    "Выделяем:\n",
    "1. Целевой признак - is_ultra\n",
    "2. Признаки - calls, minutes, messages, mb_used"
   ]
  },
  {
   "cell_type": "code",
   "execution_count": 6,
   "metadata": {},
   "outputs": [],
   "source": [
    "target = df['is_ultra']\n",
    "features = df.drop('is_ultra', axis=1)"
   ]
  },
  {
   "cell_type": "code",
   "execution_count": 7,
   "metadata": {},
   "outputs": [
    {
     "name": "stdout",
     "output_type": "stream",
     "text": [
      "(3214, 4)\n",
      "(3214,)\n"
     ]
    }
   ],
   "source": [
    "print(features.shape)\n",
    "print(target.shape)"
   ]
  },
  {
   "cell_type": "markdown",
   "metadata": {},
   "source": [
    "Разделяем исходные данные на обучающую, валидационную и тестовую выборки в соотношении 3:1:1"
   ]
  },
  {
   "cell_type": "code",
   "execution_count": 8,
   "metadata": {},
   "outputs": [],
   "source": [
    "all_features, test_features, all_target, test_target = train_test_split(features, target, test_size=0.2, random_state=123)"
   ]
  },
  {
   "cell_type": "code",
   "execution_count": 9,
   "metadata": {},
   "outputs": [],
   "source": [
    "features_train, features_valid, target_train, target_valid = train_test_split(all_features, all_target, test_size = 0.25, random_state=123)"
   ]
  },
  {
   "cell_type": "code",
   "execution_count": 10,
   "metadata": {},
   "outputs": [
    {
     "name": "stdout",
     "output_type": "stream",
     "text": [
      "(1928, 4)\n",
      "(643, 4)\n",
      "(643, 4)\n"
     ]
    }
   ],
   "source": [
    "print(features_train.shape)\n",
    "print(features_valid.shape)\n",
    "print(test_features.shape)"
   ]
  },
  {
   "cell_type": "markdown",
   "metadata": {},
   "source": [
    "## Исследование моделей"
   ]
  },
  {
   "cell_type": "markdown",
   "metadata": {},
   "source": [
    "**Исследуем модель дерева решений.**"
   ]
  },
  {
   "cell_type": "code",
   "execution_count": 11,
   "metadata": {},
   "outputs": [
    {
     "name": "stdout",
     "output_type": "stream",
     "text": [
      "0.7247278382581649\n"
     ]
    }
   ],
   "source": [
    "model = DecisionTreeClassifier(max_depth = 20, random_state=12345)\n",
    "model.fit(features_train, target_train) \n",
    "predictions_valid = model.predict(features_valid)\n",
    "print(accuracy_score(target_valid, predictions_valid))"
   ]
  },
  {
   "cell_type": "markdown",
   "metadata": {},
   "source": [
    "Установив значение гиперпараметра max_depth 20, мы получили значенние accuracy 0.72, что недостаточно велико. Попробуем поменять значение гиперпараметра."
   ]
  },
  {
   "cell_type": "code",
   "execution_count": 12,
   "metadata": {},
   "outputs": [
    {
     "name": "stdout",
     "output_type": "stream",
     "text": [
      "0.7791601866251944\n"
     ]
    }
   ],
   "source": [
    "model = DecisionTreeClassifier(max_depth = 5, random_state=12345)\n",
    "model.fit(features_train, target_train) \n",
    "predictions_valid = model.predict(features_valid)\n",
    "print(accuracy_score(target_valid, predictions_valid))"
   ]
  },
  {
   "cell_type": "markdown",
   "metadata": {},
   "source": [
    "Установив значение гиперпараметра max_depth 20, мы получили значенние accuracy 0.77, что удовлетворяет условию. "
   ]
  },
  {
   "cell_type": "markdown",
   "metadata": {},
   "source": [
    "**Исследуем модель случайного леса.**"
   ]
  },
  {
   "cell_type": "code",
   "execution_count": 13,
   "metadata": {},
   "outputs": [
    {
     "name": "stdout",
     "output_type": "stream",
     "text": [
      "0.7853810264385692\n"
     ]
    }
   ],
   "source": [
    "model = RandomForestClassifier(n_estimators=50, random_state=12345)\n",
    "model.fit(features_train, target_train) \n",
    "predictions_valid = model.predict(features_valid)\n",
    "print(accuracy_score(target_valid, predictions_valid))"
   ]
  },
  {
   "cell_type": "markdown",
   "metadata": {},
   "source": [
    "Установив значение гиперпараметра n_estimators 50, мы получили значенние accuracy 0.78, что удовлетворяет условию.Попробуем поменять значение гиперпараметра для поиска ещё бОльшего значения."
   ]
  },
  {
   "cell_type": "code",
   "execution_count": 14,
   "metadata": {},
   "outputs": [
    {
     "name": "stdout",
     "output_type": "stream",
     "text": [
      "0.776049766718507\n"
     ]
    }
   ],
   "source": [
    "model = RandomForestClassifier(n_estimators=20, random_state=12345)\n",
    "model.fit(features_train, target_train) \n",
    "predictions_valid = model.predict(features_valid)\n",
    "print(accuracy_score(target_valid, predictions_valid))"
   ]
  },
  {
   "cell_type": "markdown",
   "metadata": {},
   "source": [
    "Установив значение гиперпараметра n_estimators 20, мы получили значенние accuracy 0.77, что удовлетворяет условию.Попробуем поменять значение гиперпараметра для поиска ещё бОльшего значения."
   ]
  },
  {
   "cell_type": "code",
   "execution_count": 15,
   "metadata": {},
   "outputs": [
    {
     "name": "stdout",
     "output_type": "stream",
     "text": [
      "0.7962674961119751\n"
     ]
    }
   ],
   "source": [
    "model = RandomForestClassifier(n_estimators=300, random_state=12345)\n",
    "model.fit(features_train, target_train) \n",
    "predictions_valid = model.predict(features_valid)\n",
    "print(accuracy_score(target_valid, predictions_valid))"
   ]
  },
  {
   "cell_type": "markdown",
   "metadata": {},
   "source": [
    "Установив значение гиперпараметра n_estimators 300, мы получили значенние accuracy 0.79, что удовлетворяет условию и больше предыдущего. "
   ]
  },
  {
   "cell_type": "markdown",
   "metadata": {},
   "source": [
    "Реализуем подбор параметра с помощью цикла"
   ]
  },
  {
   "cell_type": "code",
   "execution_count": 16,
   "metadata": {},
   "outputs": [
    {
     "name": "stdout",
     "output_type": "stream",
     "text": [
      "Accuracy наилучшей модели на валидационной выборке: 0.7947122861586314\n",
      "Параметр наилучшей модели на валидационной выборке: 6\n"
     ]
    }
   ],
   "source": [
    "best_model = None\n",
    "best_result = 0\n",
    "\n",
    "for est in range(1, 30):\n",
    "    model = RandomForestClassifier(random_state=12345, n_estimators=est) \n",
    "    model.fit(features_train, target_train) \n",
    "    result = model.score(features_valid, target_valid)\n",
    "    if result > best_result:\n",
    "        best_model = model\n",
    "        best_result = result\n",
    "        best_estimator = est\n",
    "\n",
    "print(\"Accuracy наилучшей модели на валидационной выборке:\", best_result)     \n",
    "print(\"Параметр наилучшей модели на валидационной выборке:\", best_estimator)"
   ]
  },
  {
   "cell_type": "markdown",
   "metadata": {},
   "source": [
    "**Исследуем модель логистической регрессии.**"
   ]
  },
  {
   "cell_type": "code",
   "execution_count": 17,
   "metadata": {},
   "outputs": [
    {
     "name": "stdout",
     "output_type": "stream",
     "text": [
      "0.7340590979782271\n"
     ]
    }
   ],
   "source": [
    "model = LogisticRegression(random_state=12345)\n",
    "model.fit(features_train, target_train) \n",
    "predictions_valid = model.predict(features_valid)\n",
    "print(accuracy_score(target_valid, predictions_valid))"
   ]
  },
  {
   "cell_type": "markdown",
   "metadata": {},
   "source": [
    "Получаем значение меньше 0.75. Данную модель не рассматриваем."
   ]
  },
  {
   "cell_type": "markdown",
   "metadata": {},
   "source": [
    "**Вывод:**\n",
    "1. Исследованы разные модели.\n",
    "2. Рассмотрены разные варианты гиперпараметров.\n",
    "3. По результатам исследования лучшее значение accuracy показала модель случайного леса (0.79)"
   ]
  },
  {
   "cell_type": "markdown",
   "metadata": {},
   "source": [
    "## Проверка модели на тестовой выборке"
   ]
  },
  {
   "cell_type": "code",
   "execution_count": 19,
   "metadata": {},
   "outputs": [
    {
     "name": "stdout",
     "output_type": "stream",
     "text": [
      "Точность модели на тестовой выборке: 0.7729393468118196\n"
     ]
    }
   ],
   "source": [
    "model_test = RandomForestClassifier(n_estimators=6,random_state=12345)\n",
    "                                      \n",
    "model_test.fit(features_train, target_train)\n",
    "predictions = model_test.predict(test_features)\n",
    "accuracy = accuracy_score(test_target, predictions)\n",
    "print('Точность модели на тестовой выборке:', accuracy)"
   ]
  },
  {
   "cell_type": "markdown",
   "metadata": {},
   "source": [
    "**Вывод:**\n",
    "При проверке избранной модели на тестовой выборке, она также показала accuracy  больше 0.75, что удовлетворяет условию."
   ]
  },
  {
   "cell_type": "markdown",
   "metadata": {},
   "source": [
    "# Общий вывод"
   ]
  },
  {
   "cell_type": "markdown",
   "metadata": {},
   "source": [
    "1. Данные изучены\n",
    "2. Данные по необходимости преобразованы в нужные типы\n",
    "3. Данные разделены на выборки\n",
    "4. Качества различных моделей исследованы со сменой гиперпараметров. Лучшей моделью оказался случайный лес, показав accuracy ближе к 80\n",
    "5. Качество модели проверено на тестовой выборке"
   ]
  }
 ],
 "metadata": {
  "ExecuteTimeLog": [
   {
    "duration": 360,
    "start_time": "2021-10-18T16:58:09.782Z"
   },
   {
    "duration": 802,
    "start_time": "2021-10-18T16:58:16.774Z"
   },
   {
    "duration": 48,
    "start_time": "2021-10-18T16:58:17.578Z"
   },
   {
    "duration": 30,
    "start_time": "2021-10-18T16:58:28.215Z"
   },
   {
    "duration": 9,
    "start_time": "2021-10-18T17:02:07.253Z"
   },
   {
    "duration": 6,
    "start_time": "2021-10-18T17:02:53.554Z"
   },
   {
    "duration": 25,
    "start_time": "2021-10-18T17:02:58.546Z"
   },
   {
    "duration": 14,
    "start_time": "2021-10-18T17:06:36.334Z"
   },
   {
    "duration": 18,
    "start_time": "2021-10-18T17:06:55.775Z"
   },
   {
    "duration": 10,
    "start_time": "2021-10-18T17:07:07.905Z"
   },
   {
    "duration": 8,
    "start_time": "2021-10-18T17:08:23.052Z"
   },
   {
    "duration": 559,
    "start_time": "2021-10-18T17:12:31.598Z"
   },
   {
    "duration": 689,
    "start_time": "2021-10-18T17:12:53.793Z"
   },
   {
    "duration": 306,
    "start_time": "2021-10-18T17:13:00.595Z"
   },
   {
    "duration": 315,
    "start_time": "2021-10-18T17:13:07.932Z"
   },
   {
    "duration": 309,
    "start_time": "2021-10-18T17:13:42.810Z"
   },
   {
    "duration": 312,
    "start_time": "2021-10-18T17:13:49.110Z"
   },
   {
    "duration": 1031,
    "start_time": "2021-10-18T17:14:08.348Z"
   },
   {
    "duration": 571,
    "start_time": "2021-10-18T17:16:46.496Z"
   },
   {
    "duration": 6,
    "start_time": "2021-10-18T17:25:32.137Z"
   },
   {
    "duration": 9,
    "start_time": "2021-10-18T17:31:46.179Z"
   },
   {
    "duration": 4,
    "start_time": "2021-10-18T17:34:09.227Z"
   },
   {
    "duration": 49,
    "start_time": "2021-10-18T17:40:59.420Z"
   },
   {
    "duration": 423,
    "start_time": "2021-10-18T17:42:24.897Z"
   },
   {
    "duration": 356,
    "start_time": "2021-10-18T17:44:15.352Z"
   },
   {
    "duration": 356,
    "start_time": "2021-10-18T17:44:19.734Z"
   },
   {
    "duration": 6,
    "start_time": "2021-10-18T17:44:58.827Z"
   },
   {
    "duration": 315,
    "start_time": "2021-10-18T17:44:59.805Z"
   },
   {
    "duration": 327,
    "start_time": "2021-10-18T17:45:01.045Z"
   },
   {
    "duration": 7,
    "start_time": "2021-10-18T17:45:39.765Z"
   },
   {
    "duration": 316,
    "start_time": "2021-10-18T17:45:41.538Z"
   },
   {
    "duration": 415,
    "start_time": "2021-10-18T17:46:16.438Z"
   },
   {
    "duration": 4,
    "start_time": "2021-10-18T18:05:35.847Z"
   },
   {
    "duration": 315,
    "start_time": "2021-10-18T18:06:54.408Z"
   },
   {
    "duration": 4,
    "start_time": "2021-10-18T18:07:37.626Z"
   },
   {
    "duration": 331,
    "start_time": "2021-10-18T18:07:41.231Z"
   },
   {
    "duration": 332,
    "start_time": "2021-10-18T18:07:50.388Z"
   },
   {
    "duration": 9,
    "start_time": "2021-10-18T18:09:45.510Z"
   },
   {
    "duration": 4,
    "start_time": "2021-10-18T18:10:50.257Z"
   },
   {
    "duration": 44,
    "start_time": "2021-10-18T18:12:44.464Z"
   },
   {
    "duration": 6,
    "start_time": "2021-10-18T18:13:00.499Z"
   },
   {
    "duration": 18,
    "start_time": "2021-10-18T18:16:30.727Z"
   },
   {
    "duration": 26,
    "start_time": "2021-10-18T18:16:39.508Z"
   },
   {
    "duration": 25,
    "start_time": "2021-10-18T18:16:46.201Z"
   },
   {
    "duration": 24,
    "start_time": "2021-10-18T18:17:39.208Z"
   },
   {
    "duration": 24,
    "start_time": "2021-10-18T18:19:31.479Z"
   },
   {
    "duration": 23,
    "start_time": "2021-10-18T18:19:37.760Z"
   },
   {
    "duration": 23,
    "start_time": "2021-10-18T18:19:42.615Z"
   },
   {
    "duration": 23,
    "start_time": "2021-10-18T18:19:47.243Z"
   },
   {
    "duration": 16,
    "start_time": "2021-10-18T18:19:50.943Z"
   },
   {
    "duration": 16,
    "start_time": "2021-10-18T18:21:10.603Z"
   },
   {
    "duration": 10,
    "start_time": "2021-10-18T18:21:16.056Z"
   },
   {
    "duration": 12,
    "start_time": "2021-10-18T18:21:20.860Z"
   },
   {
    "duration": 14,
    "start_time": "2021-10-18T18:21:25.705Z"
   },
   {
    "duration": 17,
    "start_time": "2021-10-18T18:21:30.782Z"
   },
   {
    "duration": 13,
    "start_time": "2021-10-18T18:21:35.689Z"
   },
   {
    "duration": 729,
    "start_time": "2021-10-18T18:24:59.968Z"
   },
   {
    "duration": 329,
    "start_time": "2021-10-18T18:27:21.414Z"
   },
   {
    "duration": 136,
    "start_time": "2021-10-18T18:28:35.356Z"
   },
   {
    "duration": 37,
    "start_time": "2021-10-18T18:28:40.204Z"
   },
   {
    "duration": 640,
    "start_time": "2021-10-18T18:28:44.938Z"
   },
   {
    "duration": 1285,
    "start_time": "2021-10-18T18:28:51.130Z"
   },
   {
    "duration": 4035,
    "start_time": "2021-10-18T18:28:57.613Z"
   },
   {
    "duration": 1284,
    "start_time": "2021-10-18T18:29:05.201Z"
   },
   {
    "duration": 768,
    "start_time": "2021-10-18T18:29:14.238Z"
   },
   {
    "duration": 366,
    "start_time": "2021-10-18T18:29:20.541Z"
   },
   {
    "duration": 306,
    "start_time": "2021-10-18T18:29:25.477Z"
   },
   {
    "duration": 211,
    "start_time": "2021-10-18T18:29:30.704Z"
   },
   {
    "duration": 1039,
    "start_time": "2021-10-18T18:29:39.376Z"
   },
   {
    "duration": 1612,
    "start_time": "2021-10-18T18:29:49.557Z"
   },
   {
    "duration": 1973,
    "start_time": "2021-10-18T18:31:38.656Z"
   },
   {
    "duration": 1798,
    "start_time": "2021-10-18T18:31:47.441Z"
   },
   {
    "duration": 1803,
    "start_time": "2021-10-18T18:31:58.240Z"
   },
   {
    "duration": 147,
    "start_time": "2021-10-18T18:32:11.769Z"
   },
   {
    "duration": 114,
    "start_time": "2021-10-18T18:32:21.220Z"
   },
   {
    "duration": 644,
    "start_time": "2021-10-18T18:32:31.180Z"
   },
   {
    "duration": 1462,
    "start_time": "2021-10-18T18:32:38.852Z"
   },
   {
    "duration": 6373,
    "start_time": "2021-10-18T18:32:51.903Z"
   },
   {
    "duration": 3140,
    "start_time": "2021-10-18T18:33:05.542Z"
   },
   {
    "duration": 4464,
    "start_time": "2021-10-18T18:33:14.351Z"
   },
   {
    "duration": 3151,
    "start_time": "2021-10-18T18:33:23.816Z"
   },
   {
    "duration": 2661,
    "start_time": "2021-10-18T18:33:32.108Z"
   },
   {
    "duration": 4,
    "start_time": "2021-10-18T18:38:58.769Z"
   },
   {
    "duration": 98,
    "start_time": "2021-10-18T18:39:22.080Z"
   },
   {
    "duration": 23,
    "start_time": "2021-10-18T18:39:39.010Z"
   },
   {
    "duration": 8,
    "start_time": "2021-10-18T18:44:05.418Z"
   },
   {
    "duration": 8,
    "start_time": "2021-10-18T18:44:06.578Z"
   },
   {
    "duration": 61,
    "start_time": "2021-10-18T18:45:01.815Z"
   },
   {
    "duration": 984,
    "start_time": "2021-10-18T18:45:50.800Z"
   },
   {
    "duration": 1430,
    "start_time": "2021-10-18T18:46:54.916Z"
   },
   {
    "duration": 1347,
    "start_time": "2021-10-18T18:47:07.280Z"
   },
   {
    "duration": 8,
    "start_time": "2021-10-18T18:49:17.250Z"
   },
   {
    "duration": 8,
    "start_time": "2021-10-18T18:49:18.339Z"
   },
   {
    "duration": 77,
    "start_time": "2021-10-18T18:50:42.006Z"
   },
   {
    "duration": 2557,
    "start_time": "2021-10-18T18:50:47.893Z"
   },
   {
    "duration": 336,
    "start_time": "2021-10-18T18:51:14.007Z"
   },
   {
    "duration": 1457,
    "start_time": "2021-10-18T18:51:20.336Z"
   },
   {
    "duration": 79,
    "start_time": "2021-10-18T18:51:31.002Z"
   },
   {
    "duration": 322,
    "start_time": "2021-10-18T18:51:50.845Z"
   },
   {
    "duration": 1286,
    "start_time": "2021-10-18T18:51:52.766Z"
   },
   {
    "duration": 74,
    "start_time": "2021-10-18T18:52:01.968Z"
   },
   {
    "duration": 333,
    "start_time": "2021-10-18T18:52:15.307Z"
   },
   {
    "duration": 1289,
    "start_time": "2021-10-18T18:52:17.324Z"
   },
   {
    "duration": 82,
    "start_time": "2021-10-18T18:52:24.425Z"
   },
   {
    "duration": 333,
    "start_time": "2021-10-18T18:52:28.802Z"
   },
   {
    "duration": 1311,
    "start_time": "2021-10-18T18:52:30.499Z"
   },
   {
    "duration": 76,
    "start_time": "2021-10-18T18:52:33.625Z"
   },
   {
    "duration": 339,
    "start_time": "2021-10-18T18:52:39.887Z"
   },
   {
    "duration": 334,
    "start_time": "2021-10-18T18:52:41.979Z"
   },
   {
    "duration": 1382,
    "start_time": "2021-10-18T18:52:47.382Z"
   },
   {
    "duration": 1421,
    "start_time": "2021-10-18T18:52:50.726Z"
   },
   {
    "duration": 78,
    "start_time": "2021-10-18T18:52:58.057Z"
   },
   {
    "duration": 24,
    "start_time": "2021-10-18T18:53:32.016Z"
   },
   {
    "duration": 1356,
    "start_time": "2021-10-18T18:53:35.399Z"
   },
   {
    "duration": 34,
    "start_time": "2021-10-18T18:53:38.181Z"
   },
   {
    "duration": 25,
    "start_time": "2021-10-18T18:53:43.625Z"
   },
   {
    "duration": 2537,
    "start_time": "2021-10-18T18:54:02.863Z"
   },
   {
    "duration": 330,
    "start_time": "2021-10-18T18:54:12.243Z"
   },
   {
    "duration": 75,
    "start_time": "2021-10-18T18:54:45.575Z"
   },
   {
    "duration": 211,
    "start_time": "2021-10-18T18:54:50.296Z"
   },
   {
    "duration": 640,
    "start_time": "2021-10-18T18:54:57.221Z"
   },
   {
    "duration": 551,
    "start_time": "2021-10-18T18:55:03.504Z"
   },
   {
    "duration": 203,
    "start_time": "2021-10-18T18:55:11.589Z"
   },
   {
    "duration": 351,
    "start_time": "2021-10-18T18:55:42.708Z"
   },
   {
    "duration": 350,
    "start_time": "2021-10-18T18:55:59.350Z"
   },
   {
    "duration": 347,
    "start_time": "2021-10-18T18:56:20.009Z"
   },
   {
    "duration": 364,
    "start_time": "2021-10-18T18:56:27.439Z"
   },
   {
    "duration": 24,
    "start_time": "2021-10-18T19:05:25.980Z"
   },
   {
    "duration": 14,
    "start_time": "2021-10-18T19:05:30.641Z"
   },
   {
    "duration": 14,
    "start_time": "2021-10-18T19:05:35.712Z"
   },
   {
    "duration": 351,
    "start_time": "2021-10-18T19:05:47.707Z"
   },
   {
    "duration": 1290,
    "start_time": "2021-10-18T19:05:49.676Z"
   },
   {
    "duration": 333,
    "start_time": "2021-10-18T19:05:53.360Z"
   },
   {
    "duration": 208,
    "start_time": "2021-10-18T19:05:57.593Z"
   },
   {
    "duration": 21,
    "start_time": "2021-10-18T19:06:02.012Z"
   },
   {
    "duration": 348,
    "start_time": "2021-10-18T19:06:11.729Z"
   },
   {
    "duration": 362,
    "start_time": "2021-10-19T10:53:21.445Z"
   },
   {
    "duration": 1329,
    "start_time": "2021-10-19T10:53:27.794Z"
   },
   {
    "duration": 44,
    "start_time": "2021-10-19T10:53:29.126Z"
   },
   {
    "duration": 10,
    "start_time": "2021-10-19T10:53:29.936Z"
   },
   {
    "duration": 17,
    "start_time": "2021-10-19T10:53:30.364Z"
   },
   {
    "duration": 7,
    "start_time": "2021-10-19T10:53:30.794Z"
   },
   {
    "duration": 5,
    "start_time": "2021-10-19T10:53:32.126Z"
   },
   {
    "duration": 9,
    "start_time": "2021-10-19T10:53:32.630Z"
   },
   {
    "duration": 8,
    "start_time": "2021-10-19T10:53:32.919Z"
   },
   {
    "duration": 312,
    "start_time": "2021-10-19T10:53:33.298Z"
   },
   {
    "duration": 9,
    "start_time": "2021-10-19T10:53:47.614Z"
   },
   {
    "duration": 248,
    "start_time": "2021-10-19T10:54:04.989Z"
   },
   {
    "duration": 8,
    "start_time": "2021-10-19T10:54:11.249Z"
   },
   {
    "duration": 5,
    "start_time": "2021-10-19T11:05:06.967Z"
   },
   {
    "duration": 5,
    "start_time": "2021-10-19T11:05:07.480Z"
   },
   {
    "duration": 278,
    "start_time": "2021-10-19T11:05:33.799Z"
   },
   {
    "duration": 363,
    "start_time": "2021-10-19T11:14:10.137Z"
   },
   {
    "duration": 23,
    "start_time": "2021-10-19T11:14:29.533Z"
   },
   {
    "duration": 269,
    "start_time": "2021-10-19T11:16:45.781Z"
   },
   {
    "duration": 5,
    "start_time": "2021-10-19T11:16:51.868Z"
   },
   {
    "duration": 38,
    "start_time": "2021-10-19T11:16:52.418Z"
   },
   {
    "duration": 9,
    "start_time": "2021-10-19T11:16:52.752Z"
   },
   {
    "duration": 15,
    "start_time": "2021-10-19T11:16:53.091Z"
   },
   {
    "duration": 8,
    "start_time": "2021-10-19T11:16:53.438Z"
   },
   {
    "duration": 6,
    "start_time": "2021-10-19T11:16:54.652Z"
   },
   {
    "duration": 5,
    "start_time": "2021-10-19T11:16:54.804Z"
   },
   {
    "duration": 9,
    "start_time": "2021-10-19T11:16:55.200Z"
   },
   {
    "duration": 8,
    "start_time": "2021-10-19T11:16:55.375Z"
   },
   {
    "duration": 19,
    "start_time": "2021-10-19T11:16:55.589Z"
   },
   {
    "duration": 24,
    "start_time": "2021-10-19T11:16:56.546Z"
   },
   {
    "duration": 14,
    "start_time": "2021-10-19T11:16:57.086Z"
   },
   {
    "duration": 13,
    "start_time": "2021-10-19T11:16:57.590Z"
   },
   {
    "duration": 295,
    "start_time": "2021-10-19T11:16:58.411Z"
   },
   {
    "duration": 251,
    "start_time": "2021-10-19T11:16:58.977Z"
   },
   {
    "duration": 259,
    "start_time": "2021-10-19T11:16:59.582Z"
   },
   {
    "duration": 241,
    "start_time": "2021-10-19T11:17:28.248Z"
   },
   {
    "duration": 18,
    "start_time": "2021-10-19T11:18:01.222Z"
   },
   {
    "duration": 31,
    "start_time": "2021-10-19T11:18:02.614Z"
   },
   {
    "duration": 9,
    "start_time": "2021-10-19T11:18:02.959Z"
   },
   {
    "duration": 14,
    "start_time": "2021-10-19T11:18:03.348Z"
   },
   {
    "duration": 8,
    "start_time": "2021-10-19T11:18:03.718Z"
   },
   {
    "duration": 6,
    "start_time": "2021-10-19T11:18:04.921Z"
   },
   {
    "duration": 4,
    "start_time": "2021-10-19T11:18:05.116Z"
   },
   {
    "duration": 8,
    "start_time": "2021-10-19T11:18:05.600Z"
   },
   {
    "duration": 8,
    "start_time": "2021-10-19T11:18:05.836Z"
   },
   {
    "duration": 19,
    "start_time": "2021-10-19T11:18:06.093Z"
   },
   {
    "duration": 24,
    "start_time": "2021-10-19T11:18:08.205Z"
   },
   {
    "duration": 15,
    "start_time": "2021-10-19T11:18:08.630Z"
   },
   {
    "duration": 13,
    "start_time": "2021-10-19T11:18:09.133Z"
   },
   {
    "duration": 326,
    "start_time": "2021-10-19T11:18:10.354Z"
   },
   {
    "duration": 1707,
    "start_time": "2021-10-19T11:18:12.932Z"
   },
   {
    "duration": 348,
    "start_time": "2021-10-19T11:18:14.642Z"
   },
   {
    "duration": 224,
    "start_time": "2021-10-19T11:18:14.994Z"
   },
   {
    "duration": 23,
    "start_time": "2021-10-19T11:18:16.836Z"
   },
   {
    "duration": 336,
    "start_time": "2021-10-19T11:18:20.544Z"
   },
   {
    "duration": 10,
    "start_time": "2021-10-19T11:25:41.916Z"
   },
   {
    "duration": 274,
    "start_time": "2021-10-19T11:25:42.496Z"
   },
   {
    "duration": 9,
    "start_time": "2021-10-19T11:25:49.500Z"
   },
   {
    "duration": 28,
    "start_time": "2021-10-19T11:26:07.085Z"
   },
   {
    "duration": 21,
    "start_time": "2021-10-19T11:27:44.477Z"
   },
   {
    "duration": 14,
    "start_time": "2021-10-19T11:27:46.596Z"
   },
   {
    "duration": 13,
    "start_time": "2021-10-19T11:27:57.728Z"
   },
   {
    "duration": 26,
    "start_time": "2021-10-19T11:28:08.506Z"
   },
   {
    "duration": 274,
    "start_time": "2021-10-19T11:28:25.116Z"
   },
   {
    "duration": 1468,
    "start_time": "2021-10-19T11:28:32.767Z"
   },
   {
    "duration": 169,
    "start_time": "2021-10-19T11:28:42.621Z"
   },
   {
    "duration": 353,
    "start_time": "2021-10-19T11:28:48.789Z"
   },
   {
    "duration": 1595,
    "start_time": "2021-10-19T11:28:55.949Z"
   },
   {
    "duration": 170,
    "start_time": "2021-10-19T11:29:23.075Z"
   },
   {
    "duration": 20,
    "start_time": "2021-10-19T11:29:28.847Z"
   },
   {
    "duration": 286,
    "start_time": "2021-10-19T11:31:33.730Z"
   },
   {
    "duration": 344,
    "start_time": "2021-10-19T11:31:49.660Z"
   },
   {
    "duration": 49,
    "start_time": "2021-10-19T11:37:07.233Z"
   },
   {
    "duration": 29,
    "start_time": "2021-10-19T11:37:17.711Z"
   },
   {
    "duration": 4,
    "start_time": "2021-10-19T11:37:24.105Z"
   },
   {
    "duration": 30,
    "start_time": "2021-10-19T11:37:25.529Z"
   },
   {
    "duration": 8,
    "start_time": "2021-10-19T11:37:28.994Z"
   },
   {
    "duration": 14,
    "start_time": "2021-10-19T11:37:29.432Z"
   },
   {
    "duration": 10,
    "start_time": "2021-10-19T11:37:29.817Z"
   },
   {
    "duration": 5,
    "start_time": "2021-10-19T11:37:31.047Z"
   },
   {
    "duration": 4,
    "start_time": "2021-10-19T11:37:31.234Z"
   },
   {
    "duration": 10,
    "start_time": "2021-10-19T11:37:31.611Z"
   },
   {
    "duration": 7,
    "start_time": "2021-10-19T11:37:31.796Z"
   },
   {
    "duration": 17,
    "start_time": "2021-10-19T11:37:31.973Z"
   },
   {
    "duration": 21,
    "start_time": "2021-10-19T11:37:33.061Z"
   },
   {
    "duration": 16,
    "start_time": "2021-10-19T11:37:33.445Z"
   },
   {
    "duration": 21,
    "start_time": "2021-10-19T11:37:33.848Z"
   },
   {
    "duration": 282,
    "start_time": "2021-10-19T11:37:34.589Z"
   },
   {
    "duration": 120,
    "start_time": "2021-10-19T11:37:35.089Z"
   },
   {
    "duration": 1726,
    "start_time": "2021-10-19T11:37:35.586Z"
   },
   {
    "duration": 184,
    "start_time": "2021-10-19T11:37:37.314Z"
   },
   {
    "duration": 294,
    "start_time": "2021-10-19T11:37:37.501Z"
   },
   {
    "duration": 1095,
    "start_time": "2021-10-19T11:37:44.756Z"
   },
   {
    "duration": 2420,
    "start_time": "2021-10-19T11:37:56.166Z"
   },
   {
    "duration": 277,
    "start_time": "2021-10-19T11:38:14.590Z"
   },
   {
    "duration": 51,
    "start_time": "2022-03-25T17:56:48.758Z"
   },
   {
    "duration": 1050,
    "start_time": "2022-06-21T16:47:32.016Z"
   },
   {
    "duration": 133,
    "start_time": "2022-06-21T16:47:34.193Z"
   },
   {
    "duration": 11,
    "start_time": "2022-06-21T16:47:36.122Z"
   },
   {
    "duration": 10,
    "start_time": "2022-06-21T16:47:37.734Z"
   },
   {
    "duration": 7,
    "start_time": "2022-06-21T16:47:39.976Z"
   },
   {
    "duration": 4,
    "start_time": "2022-06-21T16:47:43.400Z"
   },
   {
    "duration": 3,
    "start_time": "2022-06-21T16:47:44.683Z"
   },
   {
    "duration": 5,
    "start_time": "2022-06-21T16:47:54.001Z"
   },
   {
    "duration": 97,
    "start_time": "2022-06-21T16:47:57.124Z"
   },
   {
    "duration": 17,
    "start_time": "2022-06-21T16:49:03.208Z"
   },
   {
    "duration": 16,
    "start_time": "2022-06-21T16:49:28.235Z"
   },
   {
    "duration": 8,
    "start_time": "2022-06-21T16:50:09.207Z"
   },
   {
    "duration": 5,
    "start_time": "2022-06-21T16:54:34.322Z"
   },
   {
    "duration": 11,
    "start_time": "2022-06-21T16:55:54.680Z"
   },
   {
    "duration": 5,
    "start_time": "2022-06-21T16:56:02.162Z"
   },
   {
    "duration": 16,
    "start_time": "2022-06-21T16:56:04.637Z"
   },
   {
    "duration": 13,
    "start_time": "2022-06-21T16:56:12.444Z"
   },
   {
    "duration": 8,
    "start_time": "2022-06-21T16:57:04.774Z"
   },
   {
    "duration": 9,
    "start_time": "2022-06-21T16:57:17.165Z"
   },
   {
    "duration": 9,
    "start_time": "2022-06-21T16:57:30.188Z"
   },
   {
    "duration": 4,
    "start_time": "2022-06-21T16:57:38.862Z"
   },
   {
    "duration": 4,
    "start_time": "2022-06-21T16:58:11.394Z"
   },
   {
    "duration": 4,
    "start_time": "2022-06-21T17:02:10.675Z"
   },
   {
    "duration": 11,
    "start_time": "2022-06-21T17:03:38.543Z"
   },
   {
    "duration": 15,
    "start_time": "2022-06-21T17:03:46.699Z"
   },
   {
    "duration": 188,
    "start_time": "2022-06-21T17:04:23.158Z"
   },
   {
    "duration": 91,
    "start_time": "2022-06-21T17:04:33.969Z"
   },
   {
    "duration": 1136,
    "start_time": "2022-06-21T17:04:52.068Z"
   },
   {
    "duration": 133,
    "start_time": "2022-06-21T17:05:06.169Z"
   },
   {
    "duration": 1688,
    "start_time": "2022-06-21T17:06:18.370Z"
   },
   {
    "duration": 1684,
    "start_time": "2022-06-21T17:09:36.610Z"
   },
   {
    "duration": 33,
    "start_time": "2022-06-21T17:09:52.766Z"
   },
   {
    "duration": 186,
    "start_time": "2022-06-21T17:10:04.674Z"
   },
   {
    "duration": 1829,
    "start_time": "2022-06-21T17:10:53.044Z"
   },
   {
    "duration": 1767,
    "start_time": "2022-06-21T17:11:07.341Z"
   },
   {
    "duration": 1686,
    "start_time": "2022-06-21T17:11:35.007Z"
   },
   {
    "duration": 1811,
    "start_time": "2022-06-21T17:12:14.837Z"
   },
   {
    "duration": 60,
    "start_time": "2022-06-21T17:12:16.650Z"
   },
   {
    "duration": 34,
    "start_time": "2022-06-21T17:13:49.724Z"
   },
   {
    "duration": 1162,
    "start_time": "2022-06-21T17:15:17.195Z"
   },
   {
    "duration": 64,
    "start_time": "2022-06-21T17:15:18.359Z"
   },
   {
    "duration": 13,
    "start_time": "2022-06-21T17:15:18.425Z"
   },
   {
    "duration": 15,
    "start_time": "2022-06-21T17:15:18.440Z"
   },
   {
    "duration": 8,
    "start_time": "2022-06-21T17:15:18.457Z"
   },
   {
    "duration": 4,
    "start_time": "2022-06-21T17:15:18.466Z"
   },
   {
    "duration": 54,
    "start_time": "2022-06-21T17:15:18.472Z"
   },
   {
    "duration": 11,
    "start_time": "2022-06-21T17:15:18.527Z"
   },
   {
    "duration": 14,
    "start_time": "2022-06-21T17:15:18.539Z"
   },
   {
    "duration": 4,
    "start_time": "2022-06-21T17:15:18.556Z"
   },
   {
    "duration": 26,
    "start_time": "2022-06-21T17:15:18.562Z"
   },
   {
    "duration": 22,
    "start_time": "2022-06-21T17:15:18.594Z"
   },
   {
    "duration": 236,
    "start_time": "2022-06-21T17:15:18.618Z"
   },
   {
    "duration": 104,
    "start_time": "2022-06-21T17:15:18.855Z"
   },
   {
    "duration": 1277,
    "start_time": "2022-06-21T17:15:18.967Z"
   },
   {
    "duration": 1776,
    "start_time": "2022-06-21T17:15:20.246Z"
   },
   {
    "duration": 47,
    "start_time": "2022-06-21T17:15:22.023Z"
   },
   {
    "duration": 39,
    "start_time": "2022-06-21T17:15:22.072Z"
   },
   {
    "duration": 38,
    "start_time": "2022-06-21T17:15:38.062Z"
   }
  ],
  "kernelspec": {
   "display_name": "Python 3 (ipykernel)",
   "language": "python",
   "name": "python3"
  },
  "language_info": {
   "codemirror_mode": {
    "name": "ipython",
    "version": 3
   },
   "file_extension": ".py",
   "mimetype": "text/x-python",
   "name": "python",
   "nbconvert_exporter": "python",
   "pygments_lexer": "ipython3",
   "version": "3.9.5"
  },
  "toc": {
   "base_numbering": 1,
   "nav_menu": {},
   "number_sections": true,
   "sideBar": true,
   "skip_h1_title": true,
   "title_cell": "Table of Contents",
   "title_sidebar": "Contents",
   "toc_cell": false,
   "toc_position": {},
   "toc_section_display": true,
   "toc_window_display": false
  }
 },
 "nbformat": 4,
 "nbformat_minor": 2
}
