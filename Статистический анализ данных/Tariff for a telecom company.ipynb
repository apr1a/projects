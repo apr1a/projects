{
 "cells": [
  {
   "cell_type": "markdown",
   "metadata": {},
   "source": [
    "\n",
    "\n",
    "\n",
    "# Определение перспективного тарифа для телеком-компании\n"
   ]
  },
  {
   "cell_type": "markdown",
   "metadata": {},
   "source": [
    "Клиентам компании \"Мегалайн\" предлагают два тарифных плана: «Смарт» и «Ультра». Для корректировки рекламного бюджета коммерческим департаментом будет проделан предварительный анализ на основе данных о 500 пользователях за 2018 год и сделан вывод, какой тариф лучше.\n",
    "\n",
    "**Описание тарифов**\n",
    "\n",
    "*Тариф «Смарт»*\n",
    "\n",
    "Ежемесячная плата: 550 рублей\n",
    "Включено 500 минут разговора, 50 сообщений и 15 Гб интернет-трафика\n",
    "\n",
    "Стоимость услуг сверх тарифного пакета: \n",
    "1. минута разговора: 3 рубля («Мегалайн» всегда округляет вверх значения минут и мегабайтов. Если пользователь проговорил всего 1 секунду, в тарифе засчитывается целая минута); \n",
    "2. сообщение: 3 рубля; \n",
    "3. 1 Гб интернет-трафика: 200 рублей.\n",
    "\n",
    "*Тариф «Ультра»*\n",
    "\n",
    "Ежемесячная плата: 1950 рублей\n",
    "Включено 3000 минут разговора, 1000 сообщений и 30 Гб интернет-трафика\n",
    "\n",
    "Стоимость услуг сверх тарифного пакета: \n",
    "1. минута разговора: 1 рубль; \n",
    "2. сообщение: 1 рубль; \n",
    "3. 1 Гб интернет-трафика: 150 рублей.\n"
   ]
  },
  {
   "cell_type": "markdown",
   "metadata": {},
   "source": [
    "**Примечание**\n",
    "\n",
    "«Мегалайн» всегда округляет секунды до минут, а мегабайты — до гигабайт. Каждый звонок округляется отдельно: даже если он длился всего 1 секунду, будет засчитан как 1 минута.\n",
    "Для веб-трафика отдельные сессии не считаются. Вместо этого общая сумма за месяц округляется в бо́льшую сторону. Если абонент использует 1025 мегабайт в этом месяце, с него возьмут плату за 2 гигабайта. Неиспользованные за предыдущий месяц звонки, смс, интернет на следующий месяц не переносятся."
   ]
  },
  {
   "cell_type": "markdown",
   "metadata": {},
   "source": [
    "**Описание данных**\n",
    "\n",
    "Таблица **users** (информация о пользователях):\n",
    "\n",
    "- user_id — уникальный идентификатор пользователя\n",
    "- first_name — имя пользователя\n",
    "- last_name — фамилия пользователя\n",
    "- age — возраст пользователя (годы)\n",
    "- reg_date — дата подключения тарифа (день, месяц, год)\n",
    "- churn_date — дата прекращения пользования тарифом (если значение пропущено, то тариф ещё \n",
    "действовал на момент выгрузки данных)\n",
    "- city — город проживания пользователя\n",
    "- tariff — название тарифного плана\n",
    "\n",
    "Таблица **calls** (информация о звонках):\n",
    "\n",
    "- id — уникальный номер звонка\n",
    "- call_date — дата звонка\n",
    "- duration — длительность звонка в минутах\n",
    "- user_id — идентификатор пользователя, сделавшего звонок\n",
    "\n",
    "\n",
    "Таблица **messages** (информация о сообщениях):\n",
    "\n",
    "- id — уникальный номер сообщения\n",
    "- message_date — дата сообщения\n",
    "- user_id — идентификатор пользователя, отправившего сообщение\n",
    "\n",
    "Таблица **internet** (информация об интернет-сессиях):\n",
    "\n",
    "- id — уникальный номер сессии\n",
    "- mb_used — объём потраченного за сессию интернет-трафика (в мегабайтах)\n",
    "- session_date — дата интернет-сессии\n",
    "- user_id — идентификатор пользователя\n",
    "\n",
    "\n",
    "Таблица **tariffs** (информация о тарифах):\n",
    "\n",
    "\n",
    "- tariff_name — название тарифа\n",
    "- rub_monthly_fee — ежемесячная абонентская плата в рублях\n",
    "- minutes_included — количество минут разговора в месяц, включённых в абонентскую плату\n",
    "- messages_included — количество сообщений в месяц, включённых в абонентскую плату\n",
    "- mb_per_month_included — объём интернет-трафика, включённого в абонентскую плату (в мегабайтах)\n",
    "- rub_per_minute — стоимость минуты разговора сверх тарифного пакета (например, если в тарифе 100 минут разговора в месяц, то со 101 минуты будет взиматься плата)\n",
    "- rub_per_message — стоимость отправки сообщения сверх тарифного пакета\n",
    "- rub_per_gb — стоимость дополнительного гигабайта интернет-трафика сверх тарифного пакета (1 гигабайт = 1024 мегабайта)\n"
   ]
  },
  {
   "cell_type": "markdown",
   "metadata": {},
   "source": [
    "# **1.Открытие файлов и изучение общей информации**"
   ]
  },
  {
   "cell_type": "code",
   "execution_count": 1,
   "metadata": {},
   "outputs": [],
   "source": [
    "import pandas as pd\n",
    "import numpy as np\n",
    "import matplotlib.pyplot as plt\n",
    "import math\n",
    "from scipy import stats as st"
   ]
  },
  {
   "cell_type": "code",
   "execution_count": 3,
   "metadata": {},
   "outputs": [],
   "source": [
    "data_calls = pd.read_csv('/datasets/calls.csv' )\n",
    "data_internet = pd.read_csv('/datasets/internet.csv')\n",
    "data_messages = pd.read_csv('/datasets/messages.csv')\n",
    "data_tariffs = pd.read_csv('/datasets/tariffs.csv')\n",
    "data_users = pd.read_csv('/datasets/users.csv')"
   ]
  },
  {
   "cell_type": "markdown",
   "metadata": {},
   "source": [
    "**Информация о звонках**"
   ]
  },
  {
   "cell_type": "code",
   "execution_count": 4,
   "metadata": {},
   "outputs": [
    {
     "name": "stdout",
     "output_type": "stream",
     "text": [
      "<class 'pandas.core.frame.DataFrame'>\n",
      "RangeIndex: 202607 entries, 0 to 202606\n",
      "Data columns (total 4 columns):\n",
      "id           202607 non-null object\n",
      "call_date    202607 non-null object\n",
      "duration     202607 non-null float64\n",
      "user_id      202607 non-null int64\n",
      "dtypes: float64(1), int64(1), object(2)\n",
      "memory usage: 6.2+ MB\n"
     ]
    }
   ],
   "source": [
    "data_calls.info()"
   ]
  },
  {
   "cell_type": "code",
   "execution_count": 5,
   "metadata": {},
   "outputs": [
    {
     "data": {
      "text/html": [
       "<div>\n",
       "<style scoped>\n",
       "    .dataframe tbody tr th:only-of-type {\n",
       "        vertical-align: middle;\n",
       "    }\n",
       "\n",
       "    .dataframe tbody tr th {\n",
       "        vertical-align: top;\n",
       "    }\n",
       "\n",
       "    .dataframe thead th {\n",
       "        text-align: right;\n",
       "    }\n",
       "</style>\n",
       "<table border=\"1\" class=\"dataframe\">\n",
       "  <thead>\n",
       "    <tr style=\"text-align: right;\">\n",
       "      <th></th>\n",
       "      <th>id</th>\n",
       "      <th>call_date</th>\n",
       "      <th>duration</th>\n",
       "      <th>user_id</th>\n",
       "    </tr>\n",
       "  </thead>\n",
       "  <tbody>\n",
       "    <tr>\n",
       "      <td>0</td>\n",
       "      <td>1000_0</td>\n",
       "      <td>2018-07-25</td>\n",
       "      <td>0.00</td>\n",
       "      <td>1000</td>\n",
       "    </tr>\n",
       "    <tr>\n",
       "      <td>1</td>\n",
       "      <td>1000_1</td>\n",
       "      <td>2018-08-17</td>\n",
       "      <td>0.00</td>\n",
       "      <td>1000</td>\n",
       "    </tr>\n",
       "    <tr>\n",
       "      <td>2</td>\n",
       "      <td>1000_2</td>\n",
       "      <td>2018-06-11</td>\n",
       "      <td>2.85</td>\n",
       "      <td>1000</td>\n",
       "    </tr>\n",
       "    <tr>\n",
       "      <td>3</td>\n",
       "      <td>1000_3</td>\n",
       "      <td>2018-09-21</td>\n",
       "      <td>13.80</td>\n",
       "      <td>1000</td>\n",
       "    </tr>\n",
       "    <tr>\n",
       "      <td>4</td>\n",
       "      <td>1000_4</td>\n",
       "      <td>2018-12-15</td>\n",
       "      <td>5.18</td>\n",
       "      <td>1000</td>\n",
       "    </tr>\n",
       "  </tbody>\n",
       "</table>\n",
       "</div>"
      ],
      "text/plain": [
       "       id   call_date  duration  user_id\n",
       "0  1000_0  2018-07-25      0.00     1000\n",
       "1  1000_1  2018-08-17      0.00     1000\n",
       "2  1000_2  2018-06-11      2.85     1000\n",
       "3  1000_3  2018-09-21     13.80     1000\n",
       "4  1000_4  2018-12-15      5.18     1000"
      ]
     },
     "execution_count": 5,
     "metadata": {},
     "output_type": "execute_result"
    }
   ],
   "source": [
    "data_calls.head()"
   ]
  },
  {
   "cell_type": "markdown",
   "metadata": {},
   "source": [
    "Проверяем пропущенные значения."
   ]
  },
  {
   "cell_type": "code",
   "execution_count": 6,
   "metadata": {},
   "outputs": [
    {
     "data": {
      "text/plain": [
       "id           0\n",
       "call_date    0\n",
       "duration     0\n",
       "user_id      0\n",
       "dtype: int64"
      ]
     },
     "execution_count": 6,
     "metadata": {},
     "output_type": "execute_result"
    }
   ],
   "source": [
    "data_calls.isnull().sum()"
   ]
  },
  {
   "cell_type": "code",
   "execution_count": 7,
   "metadata": {},
   "outputs": [
    {
     "data": {
      "text/plain": [
       "0.00    39613\n",
       "4.49      142\n",
       "5.50      142\n",
       "6.15      141\n",
       "6.38      141\n",
       "Name: duration, dtype: int64"
      ]
     },
     "execution_count": 7,
     "metadata": {},
     "output_type": "execute_result"
    }
   ],
   "source": [
    "data_calls['duration'].value_counts().head()"
   ]
  },
  {
   "cell_type": "markdown",
   "metadata": {},
   "source": [
    "Проверили количество нулевых значений. Их 39613. Относительно 202607 это почти 20%, но мы знаем, что нулями обозначены пропущенные звонки, и их удалять не нужно."
   ]
  },
  {
   "cell_type": "markdown",
   "metadata": {},
   "source": [
    "Общая информация изучена.\n",
    "В дальнейшем будет произведена работа:\n",
    "\n",
    "   1. Тип данных в call_date заменим на datetime\n",
    "   2. Округлим в бОльшую сторону длительность звонков и переведём в целочисленный тип\n",
    "   3. Для удобства работы в столбце  id тип object заменим на int, убрав нижнее подчёркивание"
   ]
  },
  {
   "cell_type": "markdown",
   "metadata": {},
   "source": [
    "**Информация об интернет-сессиях**"
   ]
  },
  {
   "cell_type": "code",
   "execution_count": 8,
   "metadata": {},
   "outputs": [
    {
     "name": "stdout",
     "output_type": "stream",
     "text": [
      "<class 'pandas.core.frame.DataFrame'>\n",
      "RangeIndex: 149396 entries, 0 to 149395\n",
      "Data columns (total 5 columns):\n",
      "Unnamed: 0      149396 non-null int64\n",
      "id              149396 non-null object\n",
      "mb_used         149396 non-null float64\n",
      "session_date    149396 non-null object\n",
      "user_id         149396 non-null int64\n",
      "dtypes: float64(1), int64(2), object(2)\n",
      "memory usage: 5.7+ MB\n"
     ]
    }
   ],
   "source": [
    "data_internet.info()"
   ]
  },
  {
   "cell_type": "code",
   "execution_count": 9,
   "metadata": {},
   "outputs": [
    {
     "data": {
      "text/html": [
       "<div>\n",
       "<style scoped>\n",
       "    .dataframe tbody tr th:only-of-type {\n",
       "        vertical-align: middle;\n",
       "    }\n",
       "\n",
       "    .dataframe tbody tr th {\n",
       "        vertical-align: top;\n",
       "    }\n",
       "\n",
       "    .dataframe thead th {\n",
       "        text-align: right;\n",
       "    }\n",
       "</style>\n",
       "<table border=\"1\" class=\"dataframe\">\n",
       "  <thead>\n",
       "    <tr style=\"text-align: right;\">\n",
       "      <th></th>\n",
       "      <th>Unnamed: 0</th>\n",
       "      <th>id</th>\n",
       "      <th>mb_used</th>\n",
       "      <th>session_date</th>\n",
       "      <th>user_id</th>\n",
       "    </tr>\n",
       "  </thead>\n",
       "  <tbody>\n",
       "    <tr>\n",
       "      <td>0</td>\n",
       "      <td>0</td>\n",
       "      <td>1000_0</td>\n",
       "      <td>112.95</td>\n",
       "      <td>2018-11-25</td>\n",
       "      <td>1000</td>\n",
       "    </tr>\n",
       "    <tr>\n",
       "      <td>1</td>\n",
       "      <td>1</td>\n",
       "      <td>1000_1</td>\n",
       "      <td>1052.81</td>\n",
       "      <td>2018-09-07</td>\n",
       "      <td>1000</td>\n",
       "    </tr>\n",
       "    <tr>\n",
       "      <td>2</td>\n",
       "      <td>2</td>\n",
       "      <td>1000_2</td>\n",
       "      <td>1197.26</td>\n",
       "      <td>2018-06-25</td>\n",
       "      <td>1000</td>\n",
       "    </tr>\n",
       "    <tr>\n",
       "      <td>3</td>\n",
       "      <td>3</td>\n",
       "      <td>1000_3</td>\n",
       "      <td>550.27</td>\n",
       "      <td>2018-08-22</td>\n",
       "      <td>1000</td>\n",
       "    </tr>\n",
       "    <tr>\n",
       "      <td>4</td>\n",
       "      <td>4</td>\n",
       "      <td>1000_4</td>\n",
       "      <td>302.56</td>\n",
       "      <td>2018-09-24</td>\n",
       "      <td>1000</td>\n",
       "    </tr>\n",
       "  </tbody>\n",
       "</table>\n",
       "</div>"
      ],
      "text/plain": [
       "   Unnamed: 0      id  mb_used session_date  user_id\n",
       "0           0  1000_0   112.95   2018-11-25     1000\n",
       "1           1  1000_1  1052.81   2018-09-07     1000\n",
       "2           2  1000_2  1197.26   2018-06-25     1000\n",
       "3           3  1000_3   550.27   2018-08-22     1000\n",
       "4           4  1000_4   302.56   2018-09-24     1000"
      ]
     },
     "execution_count": 9,
     "metadata": {},
     "output_type": "execute_result"
    }
   ],
   "source": [
    "data_internet.head()"
   ]
  },
  {
   "cell_type": "markdown",
   "metadata": {},
   "source": [
    "Проверяем пропущенные значения."
   ]
  },
  {
   "cell_type": "code",
   "execution_count": 10,
   "metadata": {},
   "outputs": [
    {
     "data": {
      "text/plain": [
       "Unnamed: 0      0\n",
       "id              0\n",
       "mb_used         0\n",
       "session_date    0\n",
       "user_id         0\n",
       "dtype: int64"
      ]
     },
     "execution_count": 10,
     "metadata": {},
     "output_type": "execute_result"
    }
   ],
   "source": [
    "data_internet.isnull().sum()"
   ]
  },
  {
   "cell_type": "code",
   "execution_count": 11,
   "metadata": {},
   "outputs": [
    {
     "data": {
      "text/plain": [
       "0.00      19598\n",
       "197.56        9\n",
       "447.30        9\n",
       "335.91        9\n",
       "108.95        8\n",
       "Name: mb_used, dtype: int64"
      ]
     },
     "execution_count": 11,
     "metadata": {},
     "output_type": "execute_result"
    }
   ],
   "source": [
    "data_internet['mb_used'].value_counts().head()"
   ]
  },
  {
   "cell_type": "markdown",
   "metadata": {},
   "source": [
    "Имеем 19598 нулевых значений. Это примерно 13% от 149396. Они могут быть связаны с прерванным интернет-соединением, процент небольшой, оставим данные, как есть."
   ]
  },
  {
   "cell_type": "markdown",
   "metadata": {},
   "source": [
    "Общая информация изучена.\n",
    "В дальнейшем будет произведена работа:\n",
    "\n",
    "  1. Тип данных в session_date заменим на datetime\n",
    "  2. Округлим в бОльшую сторону данные в столбце mb_used и переведём в целочисленный тип\n",
    "  3. Для удобства работы в столбце  id тип object заменим на int, убрав нижнее подчёркивание\n",
    "  4. Удалим столбец Unnamed, так как он не несёт в себе никакой прикладной информации и, вероятно, образовался в результате ошибки."
   ]
  },
  {
   "cell_type": "markdown",
   "metadata": {},
   "source": [
    "**Информация о сообщениях**"
   ]
  },
  {
   "cell_type": "code",
   "execution_count": 12,
   "metadata": {},
   "outputs": [
    {
     "name": "stdout",
     "output_type": "stream",
     "text": [
      "<class 'pandas.core.frame.DataFrame'>\n",
      "RangeIndex: 123036 entries, 0 to 123035\n",
      "Data columns (total 3 columns):\n",
      "id              123036 non-null object\n",
      "message_date    123036 non-null object\n",
      "user_id         123036 non-null int64\n",
      "dtypes: int64(1), object(2)\n",
      "memory usage: 2.8+ MB\n"
     ]
    }
   ],
   "source": [
    "data_messages.info()"
   ]
  },
  {
   "cell_type": "code",
   "execution_count": 13,
   "metadata": {},
   "outputs": [
    {
     "data": {
      "text/html": [
       "<div>\n",
       "<style scoped>\n",
       "    .dataframe tbody tr th:only-of-type {\n",
       "        vertical-align: middle;\n",
       "    }\n",
       "\n",
       "    .dataframe tbody tr th {\n",
       "        vertical-align: top;\n",
       "    }\n",
       "\n",
       "    .dataframe thead th {\n",
       "        text-align: right;\n",
       "    }\n",
       "</style>\n",
       "<table border=\"1\" class=\"dataframe\">\n",
       "  <thead>\n",
       "    <tr style=\"text-align: right;\">\n",
       "      <th></th>\n",
       "      <th>id</th>\n",
       "      <th>message_date</th>\n",
       "      <th>user_id</th>\n",
       "    </tr>\n",
       "  </thead>\n",
       "  <tbody>\n",
       "    <tr>\n",
       "      <td>0</td>\n",
       "      <td>1000_0</td>\n",
       "      <td>2018-06-27</td>\n",
       "      <td>1000</td>\n",
       "    </tr>\n",
       "    <tr>\n",
       "      <td>1</td>\n",
       "      <td>1000_1</td>\n",
       "      <td>2018-10-08</td>\n",
       "      <td>1000</td>\n",
       "    </tr>\n",
       "    <tr>\n",
       "      <td>2</td>\n",
       "      <td>1000_2</td>\n",
       "      <td>2018-08-04</td>\n",
       "      <td>1000</td>\n",
       "    </tr>\n",
       "    <tr>\n",
       "      <td>3</td>\n",
       "      <td>1000_3</td>\n",
       "      <td>2018-06-16</td>\n",
       "      <td>1000</td>\n",
       "    </tr>\n",
       "    <tr>\n",
       "      <td>4</td>\n",
       "      <td>1000_4</td>\n",
       "      <td>2018-12-05</td>\n",
       "      <td>1000</td>\n",
       "    </tr>\n",
       "  </tbody>\n",
       "</table>\n",
       "</div>"
      ],
      "text/plain": [
       "       id message_date  user_id\n",
       "0  1000_0   2018-06-27     1000\n",
       "1  1000_1   2018-10-08     1000\n",
       "2  1000_2   2018-08-04     1000\n",
       "3  1000_3   2018-06-16     1000\n",
       "4  1000_4   2018-12-05     1000"
      ]
     },
     "execution_count": 13,
     "metadata": {},
     "output_type": "execute_result"
    }
   ],
   "source": [
    "data_messages.head()"
   ]
  },
  {
   "cell_type": "markdown",
   "metadata": {},
   "source": [
    "Проверяю пропущенные значения."
   ]
  },
  {
   "cell_type": "code",
   "execution_count": 14,
   "metadata": {},
   "outputs": [
    {
     "data": {
      "text/plain": [
       "id              0\n",
       "message_date    0\n",
       "user_id         0\n",
       "dtype: int64"
      ]
     },
     "execution_count": 14,
     "metadata": {},
     "output_type": "execute_result"
    }
   ],
   "source": [
    "data_messages.isnull().sum()"
   ]
  },
  {
   "cell_type": "markdown",
   "metadata": {},
   "source": [
    "Общая информация изучена.\n",
    "В дальнейшем будет произведена работа:\n",
    "\n",
    "    1. Тип данных в message_date заменим на datetime\n",
    "    2. Для удобства работы в столбце  id тип object заменим на int, убрав нижнее подчёркивание"
   ]
  },
  {
   "cell_type": "markdown",
   "metadata": {},
   "source": [
    "**Информация о тарифах**"
   ]
  },
  {
   "cell_type": "code",
   "execution_count": 15,
   "metadata": {},
   "outputs": [
    {
     "name": "stdout",
     "output_type": "stream",
     "text": [
      "<class 'pandas.core.frame.DataFrame'>\n",
      "RangeIndex: 2 entries, 0 to 1\n",
      "Data columns (total 8 columns):\n",
      "messages_included        2 non-null int64\n",
      "mb_per_month_included    2 non-null int64\n",
      "minutes_included         2 non-null int64\n",
      "rub_monthly_fee          2 non-null int64\n",
      "rub_per_gb               2 non-null int64\n",
      "rub_per_message          2 non-null int64\n",
      "rub_per_minute           2 non-null int64\n",
      "tariff_name              2 non-null object\n",
      "dtypes: int64(7), object(1)\n",
      "memory usage: 256.0+ bytes\n"
     ]
    }
   ],
   "source": [
    "data_tariffs.info()"
   ]
  },
  {
   "cell_type": "code",
   "execution_count": 16,
   "metadata": {},
   "outputs": [
    {
     "data": {
      "text/html": [
       "<div>\n",
       "<style scoped>\n",
       "    .dataframe tbody tr th:only-of-type {\n",
       "        vertical-align: middle;\n",
       "    }\n",
       "\n",
       "    .dataframe tbody tr th {\n",
       "        vertical-align: top;\n",
       "    }\n",
       "\n",
       "    .dataframe thead th {\n",
       "        text-align: right;\n",
       "    }\n",
       "</style>\n",
       "<table border=\"1\" class=\"dataframe\">\n",
       "  <thead>\n",
       "    <tr style=\"text-align: right;\">\n",
       "      <th></th>\n",
       "      <th>messages_included</th>\n",
       "      <th>mb_per_month_included</th>\n",
       "      <th>minutes_included</th>\n",
       "      <th>rub_monthly_fee</th>\n",
       "      <th>rub_per_gb</th>\n",
       "      <th>rub_per_message</th>\n",
       "      <th>rub_per_minute</th>\n",
       "      <th>tariff_name</th>\n",
       "    </tr>\n",
       "  </thead>\n",
       "  <tbody>\n",
       "    <tr>\n",
       "      <td>0</td>\n",
       "      <td>50</td>\n",
       "      <td>15360</td>\n",
       "      <td>500</td>\n",
       "      <td>550</td>\n",
       "      <td>200</td>\n",
       "      <td>3</td>\n",
       "      <td>3</td>\n",
       "      <td>smart</td>\n",
       "    </tr>\n",
       "    <tr>\n",
       "      <td>1</td>\n",
       "      <td>1000</td>\n",
       "      <td>30720</td>\n",
       "      <td>3000</td>\n",
       "      <td>1950</td>\n",
       "      <td>150</td>\n",
       "      <td>1</td>\n",
       "      <td>1</td>\n",
       "      <td>ultra</td>\n",
       "    </tr>\n",
       "  </tbody>\n",
       "</table>\n",
       "</div>"
      ],
      "text/plain": [
       "   messages_included  mb_per_month_included  minutes_included  \\\n",
       "0                 50                  15360               500   \n",
       "1               1000                  30720              3000   \n",
       "\n",
       "   rub_monthly_fee  rub_per_gb  rub_per_message  rub_per_minute tariff_name  \n",
       "0              550         200                3               3       smart  \n",
       "1             1950         150                1               1       ultra  "
      ]
     },
     "execution_count": 16,
     "metadata": {},
     "output_type": "execute_result"
    }
   ],
   "source": [
    "data_tariffs.head()"
   ]
  },
  {
   "cell_type": "markdown",
   "metadata": {},
   "source": [
    "Проверяю пропущенные значения."
   ]
  },
  {
   "cell_type": "code",
   "execution_count": 17,
   "metadata": {},
   "outputs": [
    {
     "data": {
      "text/plain": [
       "messages_included        0\n",
       "mb_per_month_included    0\n",
       "minutes_included         0\n",
       "rub_monthly_fee          0\n",
       "rub_per_gb               0\n",
       "rub_per_message          0\n",
       "rub_per_minute           0\n",
       "tariff_name              0\n",
       "dtype: int64"
      ]
     },
     "execution_count": 17,
     "metadata": {},
     "output_type": "execute_result"
    }
   ],
   "source": [
    "data_tariffs.isnull().sum()"
   ]
  },
  {
   "cell_type": "markdown",
   "metadata": {},
   "source": [
    "Общая информация изучена.\n",
    "Данные предоставлены корректно."
   ]
  },
  {
   "cell_type": "markdown",
   "metadata": {},
   "source": [
    "**Информация о пользователях**"
   ]
  },
  {
   "cell_type": "code",
   "execution_count": 18,
   "metadata": {},
   "outputs": [
    {
     "name": "stdout",
     "output_type": "stream",
     "text": [
      "<class 'pandas.core.frame.DataFrame'>\n",
      "RangeIndex: 500 entries, 0 to 499\n",
      "Data columns (total 8 columns):\n",
      "user_id       500 non-null int64\n",
      "age           500 non-null int64\n",
      "churn_date    38 non-null object\n",
      "city          500 non-null object\n",
      "first_name    500 non-null object\n",
      "last_name     500 non-null object\n",
      "reg_date      500 non-null object\n",
      "tariff        500 non-null object\n",
      "dtypes: int64(2), object(6)\n",
      "memory usage: 31.4+ KB\n"
     ]
    }
   ],
   "source": [
    "data_users.info()"
   ]
  },
  {
   "cell_type": "code",
   "execution_count": 19,
   "metadata": {},
   "outputs": [
    {
     "data": {
      "text/html": [
       "<div>\n",
       "<style scoped>\n",
       "    .dataframe tbody tr th:only-of-type {\n",
       "        vertical-align: middle;\n",
       "    }\n",
       "\n",
       "    .dataframe tbody tr th {\n",
       "        vertical-align: top;\n",
       "    }\n",
       "\n",
       "    .dataframe thead th {\n",
       "        text-align: right;\n",
       "    }\n",
       "</style>\n",
       "<table border=\"1\" class=\"dataframe\">\n",
       "  <thead>\n",
       "    <tr style=\"text-align: right;\">\n",
       "      <th></th>\n",
       "      <th>user_id</th>\n",
       "      <th>age</th>\n",
       "      <th>churn_date</th>\n",
       "      <th>city</th>\n",
       "      <th>first_name</th>\n",
       "      <th>last_name</th>\n",
       "      <th>reg_date</th>\n",
       "      <th>tariff</th>\n",
       "    </tr>\n",
       "  </thead>\n",
       "  <tbody>\n",
       "    <tr>\n",
       "      <td>0</td>\n",
       "      <td>1000</td>\n",
       "      <td>52</td>\n",
       "      <td>NaN</td>\n",
       "      <td>Краснодар</td>\n",
       "      <td>Рафаил</td>\n",
       "      <td>Верещагин</td>\n",
       "      <td>2018-05-25</td>\n",
       "      <td>ultra</td>\n",
       "    </tr>\n",
       "    <tr>\n",
       "      <td>1</td>\n",
       "      <td>1001</td>\n",
       "      <td>41</td>\n",
       "      <td>NaN</td>\n",
       "      <td>Москва</td>\n",
       "      <td>Иван</td>\n",
       "      <td>Ежов</td>\n",
       "      <td>2018-11-01</td>\n",
       "      <td>smart</td>\n",
       "    </tr>\n",
       "    <tr>\n",
       "      <td>2</td>\n",
       "      <td>1002</td>\n",
       "      <td>59</td>\n",
       "      <td>NaN</td>\n",
       "      <td>Стерлитамак</td>\n",
       "      <td>Евгений</td>\n",
       "      <td>Абрамович</td>\n",
       "      <td>2018-06-17</td>\n",
       "      <td>smart</td>\n",
       "    </tr>\n",
       "    <tr>\n",
       "      <td>3</td>\n",
       "      <td>1003</td>\n",
       "      <td>23</td>\n",
       "      <td>NaN</td>\n",
       "      <td>Москва</td>\n",
       "      <td>Белла</td>\n",
       "      <td>Белякова</td>\n",
       "      <td>2018-08-17</td>\n",
       "      <td>ultra</td>\n",
       "    </tr>\n",
       "    <tr>\n",
       "      <td>4</td>\n",
       "      <td>1004</td>\n",
       "      <td>68</td>\n",
       "      <td>NaN</td>\n",
       "      <td>Новокузнецк</td>\n",
       "      <td>Татьяна</td>\n",
       "      <td>Авдеенко</td>\n",
       "      <td>2018-05-14</td>\n",
       "      <td>ultra</td>\n",
       "    </tr>\n",
       "  </tbody>\n",
       "</table>\n",
       "</div>"
      ],
      "text/plain": [
       "   user_id  age churn_date         city first_name  last_name    reg_date  \\\n",
       "0     1000   52        NaN    Краснодар     Рафаил  Верещагин  2018-05-25   \n",
       "1     1001   41        NaN       Москва       Иван       Ежов  2018-11-01   \n",
       "2     1002   59        NaN  Стерлитамак    Евгений  Абрамович  2018-06-17   \n",
       "3     1003   23        NaN       Москва      Белла   Белякова  2018-08-17   \n",
       "4     1004   68        NaN  Новокузнецк    Татьяна   Авдеенко  2018-05-14   \n",
       "\n",
       "  tariff  \n",
       "0  ultra  \n",
       "1  smart  \n",
       "2  smart  \n",
       "3  ultra  \n",
       "4  ultra  "
      ]
     },
     "execution_count": 19,
     "metadata": {},
     "output_type": "execute_result"
    }
   ],
   "source": [
    "data_users.head()"
   ]
  },
  {
   "cell_type": "markdown",
   "metadata": {},
   "source": [
    "Проверяю пропущенные значения."
   ]
  },
  {
   "cell_type": "code",
   "execution_count": 20,
   "metadata": {},
   "outputs": [
    {
     "data": {
      "text/plain": [
       "user_id         0\n",
       "age             0\n",
       "churn_date    462\n",
       "city            0\n",
       "first_name      0\n",
       "last_name       0\n",
       "reg_date        0\n",
       "tariff          0\n",
       "dtype: int64"
      ]
     },
     "execution_count": 20,
     "metadata": {},
     "output_type": "execute_result"
    }
   ],
   "source": [
    "data_users.isnull().sum()"
   ]
  },
  {
   "cell_type": "markdown",
   "metadata": {},
   "source": [
    "Общая информация изучена.\n",
    "\n",
    "Если значение в столбце churn_date пропущено, то тариф ещё действовал на момент выгрузки данных. Всвязи с этим оставляем эти пропущенные значения.\n",
    "\n",
    "В дальнейшем будет произведена работа:\n",
    "\n",
    "     Тип данных в reg_date заменим на datetime\n"
   ]
  },
  {
   "cell_type": "markdown",
   "metadata": {},
   "source": [
    "**Вывод**\n",
    "\n",
    "Изучив общую информацию, обращаем внимание на неинформативные столбцы, некорректные типы данных и неудобно зафиксированную информацию для дальнейшего анализа. В процессе предобработки данных ликвидируем недостатки для комфортной работы."
   ]
  },
  {
   "cell_type": "markdown",
   "metadata": {},
   "source": [
    "# 2. Предобработка данных"
   ]
  },
  {
   "cell_type": "markdown",
   "metadata": {},
   "source": [
    "**Работа с данными в data_calls**"
   ]
  },
  {
   "cell_type": "code",
   "execution_count": 21,
   "metadata": {},
   "outputs": [
    {
     "data": {
      "text/html": [
       "<div>\n",
       "<style scoped>\n",
       "    .dataframe tbody tr th:only-of-type {\n",
       "        vertical-align: middle;\n",
       "    }\n",
       "\n",
       "    .dataframe tbody tr th {\n",
       "        vertical-align: top;\n",
       "    }\n",
       "\n",
       "    .dataframe thead th {\n",
       "        text-align: right;\n",
       "    }\n",
       "</style>\n",
       "<table border=\"1\" class=\"dataframe\">\n",
       "  <thead>\n",
       "    <tr style=\"text-align: right;\">\n",
       "      <th></th>\n",
       "      <th>id</th>\n",
       "      <th>call_date</th>\n",
       "      <th>duration</th>\n",
       "      <th>user_id</th>\n",
       "    </tr>\n",
       "  </thead>\n",
       "  <tbody>\n",
       "    <tr>\n",
       "      <td>0</td>\n",
       "      <td>10000</td>\n",
       "      <td>2018-07-25</td>\n",
       "      <td>0</td>\n",
       "      <td>1000</td>\n",
       "    </tr>\n",
       "    <tr>\n",
       "      <td>1</td>\n",
       "      <td>10001</td>\n",
       "      <td>2018-08-17</td>\n",
       "      <td>0</td>\n",
       "      <td>1000</td>\n",
       "    </tr>\n",
       "    <tr>\n",
       "      <td>2</td>\n",
       "      <td>10002</td>\n",
       "      <td>2018-06-11</td>\n",
       "      <td>3</td>\n",
       "      <td>1000</td>\n",
       "    </tr>\n",
       "    <tr>\n",
       "      <td>3</td>\n",
       "      <td>10003</td>\n",
       "      <td>2018-09-21</td>\n",
       "      <td>14</td>\n",
       "      <td>1000</td>\n",
       "    </tr>\n",
       "    <tr>\n",
       "      <td>4</td>\n",
       "      <td>10004</td>\n",
       "      <td>2018-12-15</td>\n",
       "      <td>6</td>\n",
       "      <td>1000</td>\n",
       "    </tr>\n",
       "  </tbody>\n",
       "</table>\n",
       "</div>"
      ],
      "text/plain": [
       "      id  call_date  duration  user_id\n",
       "0  10000 2018-07-25         0     1000\n",
       "1  10001 2018-08-17         0     1000\n",
       "2  10002 2018-06-11         3     1000\n",
       "3  10003 2018-09-21        14     1000\n",
       "4  10004 2018-12-15         6     1000"
      ]
     },
     "execution_count": 21,
     "metadata": {},
     "output_type": "execute_result"
    }
   ],
   "source": [
    "data_calls['call_date'] = pd.to_datetime(data_calls['call_date'], format = '%Y-%m-%d')\n",
    "data_calls['duration'] = data_calls['duration'].apply(np.ceil).astype('int')\n",
    "data_calls['id'] = data_calls['id'].replace(to_replace='_', value='', regex=True)\n",
    "data_calls.head()\n"
   ]
  },
  {
   "cell_type": "markdown",
   "metadata": {},
   "source": [
    "Добавим столбец с месяцем звонков. Создадим сводные таблицы, рассчитывающие для каждого пользователя количество израсходованных минут и количество звонков по месяцам."
   ]
  },
  {
   "cell_type": "code",
   "execution_count": 22,
   "metadata": {},
   "outputs": [
    {
     "data": {
      "text/html": [
       "<div>\n",
       "<style scoped>\n",
       "    .dataframe tbody tr th:only-of-type {\n",
       "        vertical-align: middle;\n",
       "    }\n",
       "\n",
       "    .dataframe tbody tr th {\n",
       "        vertical-align: top;\n",
       "    }\n",
       "\n",
       "    .dataframe thead th {\n",
       "        text-align: right;\n",
       "    }\n",
       "</style>\n",
       "<table border=\"1\" class=\"dataframe\">\n",
       "  <thead>\n",
       "    <tr style=\"text-align: right;\">\n",
       "      <th>call_month</th>\n",
       "      <th>1</th>\n",
       "      <th>2</th>\n",
       "      <th>3</th>\n",
       "      <th>4</th>\n",
       "      <th>5</th>\n",
       "      <th>6</th>\n",
       "      <th>7</th>\n",
       "      <th>8</th>\n",
       "      <th>9</th>\n",
       "      <th>10</th>\n",
       "      <th>11</th>\n",
       "      <th>12</th>\n",
       "    </tr>\n",
       "    <tr>\n",
       "      <th>user_id</th>\n",
       "      <th></th>\n",
       "      <th></th>\n",
       "      <th></th>\n",
       "      <th></th>\n",
       "      <th></th>\n",
       "      <th></th>\n",
       "      <th></th>\n",
       "      <th></th>\n",
       "      <th></th>\n",
       "      <th></th>\n",
       "      <th></th>\n",
       "      <th></th>\n",
       "    </tr>\n",
       "  </thead>\n",
       "  <tbody>\n",
       "    <tr>\n",
       "      <td>1000</td>\n",
       "      <td>NaN</td>\n",
       "      <td>NaN</td>\n",
       "      <td>NaN</td>\n",
       "      <td>NaN</td>\n",
       "      <td>22.0</td>\n",
       "      <td>43.0</td>\n",
       "      <td>47.0</td>\n",
       "      <td>52.0</td>\n",
       "      <td>58.0</td>\n",
       "      <td>57.0</td>\n",
       "      <td>43.0</td>\n",
       "      <td>46.0</td>\n",
       "    </tr>\n",
       "    <tr>\n",
       "      <td>1001</td>\n",
       "      <td>NaN</td>\n",
       "      <td>NaN</td>\n",
       "      <td>NaN</td>\n",
       "      <td>NaN</td>\n",
       "      <td>NaN</td>\n",
       "      <td>NaN</td>\n",
       "      <td>NaN</td>\n",
       "      <td>NaN</td>\n",
       "      <td>NaN</td>\n",
       "      <td>NaN</td>\n",
       "      <td>59.0</td>\n",
       "      <td>63.0</td>\n",
       "    </tr>\n",
       "    <tr>\n",
       "      <td>1002</td>\n",
       "      <td>NaN</td>\n",
       "      <td>NaN</td>\n",
       "      <td>NaN</td>\n",
       "      <td>NaN</td>\n",
       "      <td>NaN</td>\n",
       "      <td>15.0</td>\n",
       "      <td>26.0</td>\n",
       "      <td>42.0</td>\n",
       "      <td>36.0</td>\n",
       "      <td>33.0</td>\n",
       "      <td>32.0</td>\n",
       "      <td>33.0</td>\n",
       "    </tr>\n",
       "    <tr>\n",
       "      <td>1003</td>\n",
       "      <td>NaN</td>\n",
       "      <td>NaN</td>\n",
       "      <td>NaN</td>\n",
       "      <td>NaN</td>\n",
       "      <td>NaN</td>\n",
       "      <td>NaN</td>\n",
       "      <td>NaN</td>\n",
       "      <td>55.0</td>\n",
       "      <td>134.0</td>\n",
       "      <td>108.0</td>\n",
       "      <td>115.0</td>\n",
       "      <td>108.0</td>\n",
       "    </tr>\n",
       "    <tr>\n",
       "      <td>1004</td>\n",
       "      <td>NaN</td>\n",
       "      <td>NaN</td>\n",
       "      <td>NaN</td>\n",
       "      <td>NaN</td>\n",
       "      <td>9.0</td>\n",
       "      <td>31.0</td>\n",
       "      <td>22.0</td>\n",
       "      <td>19.0</td>\n",
       "      <td>26.0</td>\n",
       "      <td>29.0</td>\n",
       "      <td>19.0</td>\n",
       "      <td>21.0</td>\n",
       "    </tr>\n",
       "    <tr>\n",
       "      <td>1005</td>\n",
       "      <td>15.0</td>\n",
       "      <td>69.0</td>\n",
       "      <td>77.0</td>\n",
       "      <td>101.0</td>\n",
       "      <td>73.0</td>\n",
       "      <td>80.0</td>\n",
       "      <td>77.0</td>\n",
       "      <td>71.0</td>\n",
       "      <td>66.0</td>\n",
       "      <td>100.0</td>\n",
       "      <td>75.0</td>\n",
       "      <td>84.0</td>\n",
       "    </tr>\n",
       "    <tr>\n",
       "      <td>1006</td>\n",
       "      <td>NaN</td>\n",
       "      <td>3.0</td>\n",
       "      <td>46.0</td>\n",
       "      <td>47.0</td>\n",
       "      <td>56.0</td>\n",
       "      <td>53.0</td>\n",
       "      <td>49.0</td>\n",
       "      <td>42.0</td>\n",
       "      <td>54.0</td>\n",
       "      <td>44.0</td>\n",
       "      <td>62.0</td>\n",
       "      <td>50.0</td>\n",
       "    </tr>\n",
       "    <tr>\n",
       "      <td>1007</td>\n",
       "      <td>NaN</td>\n",
       "      <td>NaN</td>\n",
       "      <td>NaN</td>\n",
       "      <td>25.0</td>\n",
       "      <td>67.0</td>\n",
       "      <td>68.0</td>\n",
       "      <td>69.0</td>\n",
       "      <td>74.0</td>\n",
       "      <td>87.0</td>\n",
       "      <td>69.0</td>\n",
       "      <td>81.0</td>\n",
       "      <td>72.0</td>\n",
       "    </tr>\n",
       "    <tr>\n",
       "      <td>1008</td>\n",
       "      <td>NaN</td>\n",
       "      <td>NaN</td>\n",
       "      <td>NaN</td>\n",
       "      <td>NaN</td>\n",
       "      <td>NaN</td>\n",
       "      <td>NaN</td>\n",
       "      <td>NaN</td>\n",
       "      <td>NaN</td>\n",
       "      <td>NaN</td>\n",
       "      <td>NaN</td>\n",
       "      <td>NaN</td>\n",
       "      <td>52.0</td>\n",
       "    </tr>\n",
       "    <tr>\n",
       "      <td>1009</td>\n",
       "      <td>NaN</td>\n",
       "      <td>NaN</td>\n",
       "      <td>13.0</td>\n",
       "      <td>39.0</td>\n",
       "      <td>28.0</td>\n",
       "      <td>31.0</td>\n",
       "      <td>22.0</td>\n",
       "      <td>33.0</td>\n",
       "      <td>25.0</td>\n",
       "      <td>28.0</td>\n",
       "      <td>39.0</td>\n",
       "      <td>32.0</td>\n",
       "    </tr>\n",
       "  </tbody>\n",
       "</table>\n",
       "</div>"
      ],
      "text/plain": [
       "call_month    1     2     3      4     5     6     7     8      9      10  \\\n",
       "user_id                                                                     \n",
       "1000         NaN   NaN   NaN    NaN  22.0  43.0  47.0  52.0   58.0   57.0   \n",
       "1001         NaN   NaN   NaN    NaN   NaN   NaN   NaN   NaN    NaN    NaN   \n",
       "1002         NaN   NaN   NaN    NaN   NaN  15.0  26.0  42.0   36.0   33.0   \n",
       "1003         NaN   NaN   NaN    NaN   NaN   NaN   NaN  55.0  134.0  108.0   \n",
       "1004         NaN   NaN   NaN    NaN   9.0  31.0  22.0  19.0   26.0   29.0   \n",
       "1005        15.0  69.0  77.0  101.0  73.0  80.0  77.0  71.0   66.0  100.0   \n",
       "1006         NaN   3.0  46.0   47.0  56.0  53.0  49.0  42.0   54.0   44.0   \n",
       "1007         NaN   NaN   NaN   25.0  67.0  68.0  69.0  74.0   87.0   69.0   \n",
       "1008         NaN   NaN   NaN    NaN   NaN   NaN   NaN   NaN    NaN    NaN   \n",
       "1009         NaN   NaN  13.0   39.0  28.0  31.0  22.0  33.0   25.0   28.0   \n",
       "\n",
       "call_month     11     12  \n",
       "user_id                   \n",
       "1000         43.0   46.0  \n",
       "1001         59.0   63.0  \n",
       "1002         32.0   33.0  \n",
       "1003        115.0  108.0  \n",
       "1004         19.0   21.0  \n",
       "1005         75.0   84.0  \n",
       "1006         62.0   50.0  \n",
       "1007         81.0   72.0  \n",
       "1008          NaN   52.0  \n",
       "1009         39.0   32.0  "
      ]
     },
     "execution_count": 22,
     "metadata": {},
     "output_type": "execute_result"
    }
   ],
   "source": [
    "data_calls['call_month'] = data_calls['call_date'].dt.month\n",
    "calls_month = data_calls.pivot_table(index = 'user_id', columns = 'call_month', values = 'id', aggfunc = 'count') \n",
    "minutes_month = data_calls.pivot_table(index = 'user_id', columns = 'call_month', values = 'duration', aggfunc = 'sum')\n",
    "\n",
    "calls_month.head(10)"
   ]
  },
  {
   "cell_type": "code",
   "execution_count": 23,
   "metadata": {},
   "outputs": [
    {
     "data": {
      "text/html": [
       "<div>\n",
       "<style scoped>\n",
       "    .dataframe tbody tr th:only-of-type {\n",
       "        vertical-align: middle;\n",
       "    }\n",
       "\n",
       "    .dataframe tbody tr th {\n",
       "        vertical-align: top;\n",
       "    }\n",
       "\n",
       "    .dataframe thead th {\n",
       "        text-align: right;\n",
       "    }\n",
       "</style>\n",
       "<table border=\"1\" class=\"dataframe\">\n",
       "  <thead>\n",
       "    <tr style=\"text-align: right;\">\n",
       "      <th>call_month</th>\n",
       "      <th>1</th>\n",
       "      <th>2</th>\n",
       "      <th>3</th>\n",
       "      <th>4</th>\n",
       "      <th>5</th>\n",
       "      <th>6</th>\n",
       "      <th>7</th>\n",
       "      <th>8</th>\n",
       "      <th>9</th>\n",
       "      <th>10</th>\n",
       "      <th>11</th>\n",
       "      <th>12</th>\n",
       "    </tr>\n",
       "    <tr>\n",
       "      <th>user_id</th>\n",
       "      <th></th>\n",
       "      <th></th>\n",
       "      <th></th>\n",
       "      <th></th>\n",
       "      <th></th>\n",
       "      <th></th>\n",
       "      <th></th>\n",
       "      <th></th>\n",
       "      <th></th>\n",
       "      <th></th>\n",
       "      <th></th>\n",
       "      <th></th>\n",
       "    </tr>\n",
       "  </thead>\n",
       "  <tbody>\n",
       "    <tr>\n",
       "      <td>1000</td>\n",
       "      <td>NaN</td>\n",
       "      <td>NaN</td>\n",
       "      <td>NaN</td>\n",
       "      <td>NaN</td>\n",
       "      <td>159.0</td>\n",
       "      <td>172.0</td>\n",
       "      <td>340.0</td>\n",
       "      <td>408.0</td>\n",
       "      <td>466.0</td>\n",
       "      <td>350.0</td>\n",
       "      <td>338.0</td>\n",
       "      <td>333.0</td>\n",
       "    </tr>\n",
       "    <tr>\n",
       "      <td>1001</td>\n",
       "      <td>NaN</td>\n",
       "      <td>NaN</td>\n",
       "      <td>NaN</td>\n",
       "      <td>NaN</td>\n",
       "      <td>NaN</td>\n",
       "      <td>NaN</td>\n",
       "      <td>NaN</td>\n",
       "      <td>NaN</td>\n",
       "      <td>NaN</td>\n",
       "      <td>NaN</td>\n",
       "      <td>430.0</td>\n",
       "      <td>414.0</td>\n",
       "    </tr>\n",
       "    <tr>\n",
       "      <td>1002</td>\n",
       "      <td>NaN</td>\n",
       "      <td>NaN</td>\n",
       "      <td>NaN</td>\n",
       "      <td>NaN</td>\n",
       "      <td>NaN</td>\n",
       "      <td>117.0</td>\n",
       "      <td>214.0</td>\n",
       "      <td>289.0</td>\n",
       "      <td>206.0</td>\n",
       "      <td>212.0</td>\n",
       "      <td>243.0</td>\n",
       "      <td>236.0</td>\n",
       "    </tr>\n",
       "    <tr>\n",
       "      <td>1003</td>\n",
       "      <td>NaN</td>\n",
       "      <td>NaN</td>\n",
       "      <td>NaN</td>\n",
       "      <td>NaN</td>\n",
       "      <td>NaN</td>\n",
       "      <td>NaN</td>\n",
       "      <td>NaN</td>\n",
       "      <td>380.0</td>\n",
       "      <td>961.0</td>\n",
       "      <td>855.0</td>\n",
       "      <td>824.0</td>\n",
       "      <td>802.0</td>\n",
       "    </tr>\n",
       "    <tr>\n",
       "      <td>1004</td>\n",
       "      <td>NaN</td>\n",
       "      <td>NaN</td>\n",
       "      <td>NaN</td>\n",
       "      <td>NaN</td>\n",
       "      <td>35.0</td>\n",
       "      <td>171.0</td>\n",
       "      <td>135.0</td>\n",
       "      <td>137.0</td>\n",
       "      <td>117.0</td>\n",
       "      <td>145.0</td>\n",
       "      <td>117.0</td>\n",
       "      <td>130.0</td>\n",
       "    </tr>\n",
       "    <tr>\n",
       "      <td>1005</td>\n",
       "      <td>95.0</td>\n",
       "      <td>456.0</td>\n",
       "      <td>606.0</td>\n",
       "      <td>712.0</td>\n",
       "      <td>595.0</td>\n",
       "      <td>612.0</td>\n",
       "      <td>569.0</td>\n",
       "      <td>619.0</td>\n",
       "      <td>479.0</td>\n",
       "      <td>723.0</td>\n",
       "      <td>547.0</td>\n",
       "      <td>592.0</td>\n",
       "    </tr>\n",
       "    <tr>\n",
       "      <td>1006</td>\n",
       "      <td>NaN</td>\n",
       "      <td>42.0</td>\n",
       "      <td>286.0</td>\n",
       "      <td>356.0</td>\n",
       "      <td>370.0</td>\n",
       "      <td>478.0</td>\n",
       "      <td>316.0</td>\n",
       "      <td>275.0</td>\n",
       "      <td>360.0</td>\n",
       "      <td>267.0</td>\n",
       "      <td>372.0</td>\n",
       "      <td>379.0</td>\n",
       "    </tr>\n",
       "    <tr>\n",
       "      <td>1007</td>\n",
       "      <td>NaN</td>\n",
       "      <td>NaN</td>\n",
       "      <td>NaN</td>\n",
       "      <td>198.0</td>\n",
       "      <td>480.0</td>\n",
       "      <td>545.0</td>\n",
       "      <td>577.0</td>\n",
       "      <td>458.0</td>\n",
       "      <td>655.0</td>\n",
       "      <td>465.0</td>\n",
       "      <td>580.0</td>\n",
       "      <td>421.0</td>\n",
       "    </tr>\n",
       "    <tr>\n",
       "      <td>1008</td>\n",
       "      <td>NaN</td>\n",
       "      <td>NaN</td>\n",
       "      <td>NaN</td>\n",
       "      <td>NaN</td>\n",
       "      <td>NaN</td>\n",
       "      <td>NaN</td>\n",
       "      <td>NaN</td>\n",
       "      <td>NaN</td>\n",
       "      <td>NaN</td>\n",
       "      <td>NaN</td>\n",
       "      <td>NaN</td>\n",
       "      <td>339.0</td>\n",
       "    </tr>\n",
       "    <tr>\n",
       "      <td>1009</td>\n",
       "      <td>NaN</td>\n",
       "      <td>NaN</td>\n",
       "      <td>109.0</td>\n",
       "      <td>324.0</td>\n",
       "      <td>170.0</td>\n",
       "      <td>289.0</td>\n",
       "      <td>183.0</td>\n",
       "      <td>249.0</td>\n",
       "      <td>133.0</td>\n",
       "      <td>213.0</td>\n",
       "      <td>290.0</td>\n",
       "      <td>229.0</td>\n",
       "    </tr>\n",
       "  </tbody>\n",
       "</table>\n",
       "</div>"
      ],
      "text/plain": [
       "call_month    1      2      3      4      5      6      7      8      9   \\\n",
       "user_id                                                                    \n",
       "1000         NaN    NaN    NaN    NaN  159.0  172.0  340.0  408.0  466.0   \n",
       "1001         NaN    NaN    NaN    NaN    NaN    NaN    NaN    NaN    NaN   \n",
       "1002         NaN    NaN    NaN    NaN    NaN  117.0  214.0  289.0  206.0   \n",
       "1003         NaN    NaN    NaN    NaN    NaN    NaN    NaN  380.0  961.0   \n",
       "1004         NaN    NaN    NaN    NaN   35.0  171.0  135.0  137.0  117.0   \n",
       "1005        95.0  456.0  606.0  712.0  595.0  612.0  569.0  619.0  479.0   \n",
       "1006         NaN   42.0  286.0  356.0  370.0  478.0  316.0  275.0  360.0   \n",
       "1007         NaN    NaN    NaN  198.0  480.0  545.0  577.0  458.0  655.0   \n",
       "1008         NaN    NaN    NaN    NaN    NaN    NaN    NaN    NaN    NaN   \n",
       "1009         NaN    NaN  109.0  324.0  170.0  289.0  183.0  249.0  133.0   \n",
       "\n",
       "call_month     10     11     12  \n",
       "user_id                          \n",
       "1000        350.0  338.0  333.0  \n",
       "1001          NaN  430.0  414.0  \n",
       "1002        212.0  243.0  236.0  \n",
       "1003        855.0  824.0  802.0  \n",
       "1004        145.0  117.0  130.0  \n",
       "1005        723.0  547.0  592.0  \n",
       "1006        267.0  372.0  379.0  \n",
       "1007        465.0  580.0  421.0  \n",
       "1008          NaN    NaN  339.0  \n",
       "1009        213.0  290.0  229.0  "
      ]
     },
     "execution_count": 23,
     "metadata": {},
     "output_type": "execute_result"
    }
   ],
   "source": [
    "minutes_month.head(10)"
   ]
  },
  {
   "cell_type": "markdown",
   "metadata": {},
   "source": [
    "**Работа с данными в data_internet**"
   ]
  },
  {
   "cell_type": "code",
   "execution_count": 24,
   "metadata": {},
   "outputs": [
    {
     "data": {
      "text/html": [
       "<div>\n",
       "<style scoped>\n",
       "    .dataframe tbody tr th:only-of-type {\n",
       "        vertical-align: middle;\n",
       "    }\n",
       "\n",
       "    .dataframe tbody tr th {\n",
       "        vertical-align: top;\n",
       "    }\n",
       "\n",
       "    .dataframe thead th {\n",
       "        text-align: right;\n",
       "    }\n",
       "</style>\n",
       "<table border=\"1\" class=\"dataframe\">\n",
       "  <thead>\n",
       "    <tr style=\"text-align: right;\">\n",
       "      <th></th>\n",
       "      <th>id</th>\n",
       "      <th>mb_used</th>\n",
       "      <th>session_date</th>\n",
       "      <th>user_id</th>\n",
       "      <th>call_date</th>\n",
       "    </tr>\n",
       "  </thead>\n",
       "  <tbody>\n",
       "    <tr>\n",
       "      <td>0</td>\n",
       "      <td>10000</td>\n",
       "      <td>112</td>\n",
       "      <td>2018-11-25</td>\n",
       "      <td>1000</td>\n",
       "      <td>2018-11-25</td>\n",
       "    </tr>\n",
       "    <tr>\n",
       "      <td>1</td>\n",
       "      <td>10001</td>\n",
       "      <td>1052</td>\n",
       "      <td>2018-09-07</td>\n",
       "      <td>1000</td>\n",
       "      <td>2018-09-07</td>\n",
       "    </tr>\n",
       "    <tr>\n",
       "      <td>2</td>\n",
       "      <td>10002</td>\n",
       "      <td>1197</td>\n",
       "      <td>2018-06-25</td>\n",
       "      <td>1000</td>\n",
       "      <td>2018-06-25</td>\n",
       "    </tr>\n",
       "    <tr>\n",
       "      <td>3</td>\n",
       "      <td>10003</td>\n",
       "      <td>550</td>\n",
       "      <td>2018-08-22</td>\n",
       "      <td>1000</td>\n",
       "      <td>2018-08-22</td>\n",
       "    </tr>\n",
       "    <tr>\n",
       "      <td>4</td>\n",
       "      <td>10004</td>\n",
       "      <td>302</td>\n",
       "      <td>2018-09-24</td>\n",
       "      <td>1000</td>\n",
       "      <td>2018-09-24</td>\n",
       "    </tr>\n",
       "  </tbody>\n",
       "</table>\n",
       "</div>"
      ],
      "text/plain": [
       "      id  mb_used session_date  user_id  call_date\n",
       "0  10000      112   2018-11-25     1000 2018-11-25\n",
       "1  10001     1052   2018-09-07     1000 2018-09-07\n",
       "2  10002     1197   2018-06-25     1000 2018-06-25\n",
       "3  10003      550   2018-08-22     1000 2018-08-22\n",
       "4  10004      302   2018-09-24     1000 2018-09-24"
      ]
     },
     "execution_count": 24,
     "metadata": {},
     "output_type": "execute_result"
    }
   ],
   "source": [
    "data_internet['call_date'] = pd.to_datetime(data_internet['session_date'], format = '%Y-%m-%d')\n",
    "data_internet['mb_used'] = data_internet['mb_used'].astype('int')\n",
    "data_internet['id'] = data_internet['id'].replace(to_replace='_', value='', regex=True)\n",
    "data_internet.drop('Unnamed: 0', 1).head()"
   ]
  },
  {
   "cell_type": "markdown",
   "metadata": {},
   "source": [
    "Добавим столбец с месяцем интернет-сессии. Создадим сводную таблицу, рассчитывающую для каждого пользователя объем израсходованного интернет-трафика по месяцам."
   ]
  },
  {
   "cell_type": "code",
   "execution_count": 25,
   "metadata": {},
   "outputs": [
    {
     "data": {
      "text/html": [
       "<div>\n",
       "<style scoped>\n",
       "    .dataframe tbody tr th:only-of-type {\n",
       "        vertical-align: middle;\n",
       "    }\n",
       "\n",
       "    .dataframe tbody tr th {\n",
       "        vertical-align: top;\n",
       "    }\n",
       "\n",
       "    .dataframe thead th {\n",
       "        text-align: right;\n",
       "    }\n",
       "</style>\n",
       "<table border=\"1\" class=\"dataframe\">\n",
       "  <thead>\n",
       "    <tr style=\"text-align: right;\">\n",
       "      <th>mb_month</th>\n",
       "      <th>1</th>\n",
       "      <th>2</th>\n",
       "      <th>3</th>\n",
       "      <th>4</th>\n",
       "      <th>5</th>\n",
       "      <th>6</th>\n",
       "      <th>7</th>\n",
       "      <th>8</th>\n",
       "      <th>9</th>\n",
       "      <th>10</th>\n",
       "      <th>11</th>\n",
       "      <th>12</th>\n",
       "    </tr>\n",
       "    <tr>\n",
       "      <th>user_id</th>\n",
       "      <th></th>\n",
       "      <th></th>\n",
       "      <th></th>\n",
       "      <th></th>\n",
       "      <th></th>\n",
       "      <th></th>\n",
       "      <th></th>\n",
       "      <th></th>\n",
       "      <th></th>\n",
       "      <th></th>\n",
       "      <th></th>\n",
       "      <th></th>\n",
       "    </tr>\n",
       "  </thead>\n",
       "  <tbody>\n",
       "    <tr>\n",
       "      <td>1000</td>\n",
       "      <td>NaN</td>\n",
       "      <td>NaN</td>\n",
       "      <td>NaN</td>\n",
       "      <td>NaN</td>\n",
       "      <td>2252.0</td>\n",
       "      <td>23213.0</td>\n",
       "      <td>13988.0</td>\n",
       "      <td>14043.0</td>\n",
       "      <td>14556.0</td>\n",
       "      <td>14690.0</td>\n",
       "      <td>14745.0</td>\n",
       "      <td>9808.0</td>\n",
       "    </tr>\n",
       "    <tr>\n",
       "      <td>1001</td>\n",
       "      <td>NaN</td>\n",
       "      <td>NaN</td>\n",
       "      <td>NaN</td>\n",
       "      <td>NaN</td>\n",
       "      <td>NaN</td>\n",
       "      <td>NaN</td>\n",
       "      <td>NaN</td>\n",
       "      <td>NaN</td>\n",
       "      <td>NaN</td>\n",
       "      <td>NaN</td>\n",
       "      <td>18405.0</td>\n",
       "      <td>14018.0</td>\n",
       "    </tr>\n",
       "    <tr>\n",
       "      <td>1002</td>\n",
       "      <td>NaN</td>\n",
       "      <td>NaN</td>\n",
       "      <td>NaN</td>\n",
       "      <td>NaN</td>\n",
       "      <td>NaN</td>\n",
       "      <td>10844.0</td>\n",
       "      <td>17557.0</td>\n",
       "      <td>20298.0</td>\n",
       "      <td>16669.0</td>\n",
       "      <td>13869.0</td>\n",
       "      <td>18566.0</td>\n",
       "      <td>18087.0</td>\n",
       "    </tr>\n",
       "    <tr>\n",
       "      <td>1003</td>\n",
       "      <td>NaN</td>\n",
       "      <td>NaN</td>\n",
       "      <td>NaN</td>\n",
       "      <td>NaN</td>\n",
       "      <td>NaN</td>\n",
       "      <td>NaN</td>\n",
       "      <td>NaN</td>\n",
       "      <td>8557.0</td>\n",
       "      <td>12457.0</td>\n",
       "      <td>14754.0</td>\n",
       "      <td>11348.0</td>\n",
       "      <td>10111.0</td>\n",
       "    </tr>\n",
       "    <tr>\n",
       "      <td>1004</td>\n",
       "      <td>NaN</td>\n",
       "      <td>NaN</td>\n",
       "      <td>NaN</td>\n",
       "      <td>NaN</td>\n",
       "      <td>13392.0</td>\n",
       "      <td>17586.0</td>\n",
       "      <td>22211.0</td>\n",
       "      <td>28558.0</td>\n",
       "      <td>15093.0</td>\n",
       "      <td>18457.0</td>\n",
       "      <td>15598.0</td>\n",
       "      <td>18002.0</td>\n",
       "    </tr>\n",
       "    <tr>\n",
       "      <td>1005</td>\n",
       "      <td>2724.0</td>\n",
       "      <td>7372.0</td>\n",
       "      <td>11092.0</td>\n",
       "      <td>9341.0</td>\n",
       "      <td>7857.0</td>\n",
       "      <td>9851.0</td>\n",
       "      <td>7684.0</td>\n",
       "      <td>7535.0</td>\n",
       "      <td>7006.0</td>\n",
       "      <td>7790.0</td>\n",
       "      <td>12654.0</td>\n",
       "      <td>8656.0</td>\n",
       "    </tr>\n",
       "    <tr>\n",
       "      <td>1006</td>\n",
       "      <td>NaN</td>\n",
       "      <td>1391.0</td>\n",
       "      <td>17266.0</td>\n",
       "      <td>13922.0</td>\n",
       "      <td>12946.0</td>\n",
       "      <td>12354.0</td>\n",
       "      <td>19950.0</td>\n",
       "      <td>19282.0</td>\n",
       "      <td>15505.0</td>\n",
       "      <td>19674.0</td>\n",
       "      <td>13247.0</td>\n",
       "      <td>18454.0</td>\n",
       "    </tr>\n",
       "    <tr>\n",
       "      <td>1007</td>\n",
       "      <td>NaN</td>\n",
       "      <td>NaN</td>\n",
       "      <td>NaN</td>\n",
       "      <td>8013.0</td>\n",
       "      <td>17662.0</td>\n",
       "      <td>13637.0</td>\n",
       "      <td>15633.0</td>\n",
       "      <td>20673.0</td>\n",
       "      <td>12596.0</td>\n",
       "      <td>14407.0</td>\n",
       "      <td>16350.0</td>\n",
       "      <td>12474.0</td>\n",
       "    </tr>\n",
       "    <tr>\n",
       "      <td>1008</td>\n",
       "      <td>NaN</td>\n",
       "      <td>NaN</td>\n",
       "      <td>NaN</td>\n",
       "      <td>NaN</td>\n",
       "      <td>NaN</td>\n",
       "      <td>NaN</td>\n",
       "      <td>NaN</td>\n",
       "      <td>NaN</td>\n",
       "      <td>NaN</td>\n",
       "      <td>NaN</td>\n",
       "      <td>NaN</td>\n",
       "      <td>13199.0</td>\n",
       "    </tr>\n",
       "    <tr>\n",
       "      <td>1009</td>\n",
       "      <td>NaN</td>\n",
       "      <td>NaN</td>\n",
       "      <td>7339.0</td>\n",
       "      <td>14691.0</td>\n",
       "      <td>13349.0</td>\n",
       "      <td>16044.0</td>\n",
       "      <td>24693.0</td>\n",
       "      <td>23684.0</td>\n",
       "      <td>21907.0</td>\n",
       "      <td>20059.0</td>\n",
       "      <td>16826.0</td>\n",
       "      <td>18594.0</td>\n",
       "    </tr>\n",
       "  </tbody>\n",
       "</table>\n",
       "</div>"
      ],
      "text/plain": [
       "mb_month      1       2        3        4        5        6        7   \\\n",
       "user_id                                                                 \n",
       "1000         NaN     NaN      NaN      NaN   2252.0  23213.0  13988.0   \n",
       "1001         NaN     NaN      NaN      NaN      NaN      NaN      NaN   \n",
       "1002         NaN     NaN      NaN      NaN      NaN  10844.0  17557.0   \n",
       "1003         NaN     NaN      NaN      NaN      NaN      NaN      NaN   \n",
       "1004         NaN     NaN      NaN      NaN  13392.0  17586.0  22211.0   \n",
       "1005      2724.0  7372.0  11092.0   9341.0   7857.0   9851.0   7684.0   \n",
       "1006         NaN  1391.0  17266.0  13922.0  12946.0  12354.0  19950.0   \n",
       "1007         NaN     NaN      NaN   8013.0  17662.0  13637.0  15633.0   \n",
       "1008         NaN     NaN      NaN      NaN      NaN      NaN      NaN   \n",
       "1009         NaN     NaN   7339.0  14691.0  13349.0  16044.0  24693.0   \n",
       "\n",
       "mb_month       8        9        10       11       12  \n",
       "user_id                                                \n",
       "1000      14043.0  14556.0  14690.0  14745.0   9808.0  \n",
       "1001          NaN      NaN      NaN  18405.0  14018.0  \n",
       "1002      20298.0  16669.0  13869.0  18566.0  18087.0  \n",
       "1003       8557.0  12457.0  14754.0  11348.0  10111.0  \n",
       "1004      28558.0  15093.0  18457.0  15598.0  18002.0  \n",
       "1005       7535.0   7006.0   7790.0  12654.0   8656.0  \n",
       "1006      19282.0  15505.0  19674.0  13247.0  18454.0  \n",
       "1007      20673.0  12596.0  14407.0  16350.0  12474.0  \n",
       "1008          NaN      NaN      NaN      NaN  13199.0  \n",
       "1009      23684.0  21907.0  20059.0  16826.0  18594.0  "
      ]
     },
     "execution_count": 25,
     "metadata": {},
     "output_type": "execute_result"
    }
   ],
   "source": [
    "data_internet['mb_month'] = data_internet['call_date'].dt.month\n",
    "mb_month = data_internet.pivot_table(index = 'user_id', columns = 'mb_month', values = 'mb_used', aggfunc = 'sum') \n",
    "\n",
    "mb_month.head(10)"
   ]
  },
  {
   "cell_type": "markdown",
   "metadata": {},
   "source": [
    "**Работа с данными в data_messages**"
   ]
  },
  {
   "cell_type": "code",
   "execution_count": 26,
   "metadata": {},
   "outputs": [
    {
     "name": "stdout",
     "output_type": "stream",
     "text": [
      "<class 'pandas.core.frame.DataFrame'>\n",
      "RangeIndex: 123036 entries, 0 to 123035\n",
      "Data columns (total 3 columns):\n",
      "id              123036 non-null object\n",
      "message_date    123036 non-null datetime64[ns]\n",
      "user_id         123036 non-null int64\n",
      "dtypes: datetime64[ns](1), int64(1), object(1)\n",
      "memory usage: 2.8+ MB\n"
     ]
    }
   ],
   "source": [
    "data_messages['message_date'] = pd.to_datetime(data_messages['message_date'], format = '%Y-%m-%d')\n",
    "data_messages['id'] = data_messages['id'].replace(to_replace='_', value='', regex=True)\n",
    "data_messages.info()"
   ]
  },
  {
   "cell_type": "markdown",
   "metadata": {},
   "source": [
    "Добавим столбец с месяцем отправки сообщений. Создадим сводную таблицу, рассчитывающую для каждого пользователя количество отправленных сообщений по месяцам."
   ]
  },
  {
   "cell_type": "code",
   "execution_count": 27,
   "metadata": {},
   "outputs": [
    {
     "data": {
      "text/html": [
       "<div>\n",
       "<style scoped>\n",
       "    .dataframe tbody tr th:only-of-type {\n",
       "        vertical-align: middle;\n",
       "    }\n",
       "\n",
       "    .dataframe tbody tr th {\n",
       "        vertical-align: top;\n",
       "    }\n",
       "\n",
       "    .dataframe thead th {\n",
       "        text-align: right;\n",
       "    }\n",
       "</style>\n",
       "<table border=\"1\" class=\"dataframe\">\n",
       "  <thead>\n",
       "    <tr style=\"text-align: right;\">\n",
       "      <th>message_month</th>\n",
       "      <th>1</th>\n",
       "      <th>2</th>\n",
       "      <th>3</th>\n",
       "      <th>4</th>\n",
       "      <th>5</th>\n",
       "      <th>6</th>\n",
       "      <th>7</th>\n",
       "      <th>8</th>\n",
       "      <th>9</th>\n",
       "      <th>10</th>\n",
       "      <th>11</th>\n",
       "      <th>12</th>\n",
       "    </tr>\n",
       "    <tr>\n",
       "      <th>user_id</th>\n",
       "      <th></th>\n",
       "      <th></th>\n",
       "      <th></th>\n",
       "      <th></th>\n",
       "      <th></th>\n",
       "      <th></th>\n",
       "      <th></th>\n",
       "      <th></th>\n",
       "      <th></th>\n",
       "      <th></th>\n",
       "      <th></th>\n",
       "      <th></th>\n",
       "    </tr>\n",
       "  </thead>\n",
       "  <tbody>\n",
       "    <tr>\n",
       "      <td>1000</td>\n",
       "      <td>NaN</td>\n",
       "      <td>NaN</td>\n",
       "      <td>NaN</td>\n",
       "      <td>NaN</td>\n",
       "      <td>22.0</td>\n",
       "      <td>60.0</td>\n",
       "      <td>75.0</td>\n",
       "      <td>81.0</td>\n",
       "      <td>57.0</td>\n",
       "      <td>73.0</td>\n",
       "      <td>58.0</td>\n",
       "      <td>70.0</td>\n",
       "    </tr>\n",
       "    <tr>\n",
       "      <td>1002</td>\n",
       "      <td>NaN</td>\n",
       "      <td>NaN</td>\n",
       "      <td>NaN</td>\n",
       "      <td>NaN</td>\n",
       "      <td>NaN</td>\n",
       "      <td>4.0</td>\n",
       "      <td>11.0</td>\n",
       "      <td>13.0</td>\n",
       "      <td>4.0</td>\n",
       "      <td>10.0</td>\n",
       "      <td>16.0</td>\n",
       "      <td>12.0</td>\n",
       "    </tr>\n",
       "    <tr>\n",
       "      <td>1003</td>\n",
       "      <td>NaN</td>\n",
       "      <td>NaN</td>\n",
       "      <td>NaN</td>\n",
       "      <td>NaN</td>\n",
       "      <td>NaN</td>\n",
       "      <td>NaN</td>\n",
       "      <td>NaN</td>\n",
       "      <td>37.0</td>\n",
       "      <td>91.0</td>\n",
       "      <td>83.0</td>\n",
       "      <td>94.0</td>\n",
       "      <td>75.0</td>\n",
       "    </tr>\n",
       "    <tr>\n",
       "      <td>1004</td>\n",
       "      <td>NaN</td>\n",
       "      <td>NaN</td>\n",
       "      <td>NaN</td>\n",
       "      <td>NaN</td>\n",
       "      <td>95.0</td>\n",
       "      <td>134.0</td>\n",
       "      <td>181.0</td>\n",
       "      <td>151.0</td>\n",
       "      <td>146.0</td>\n",
       "      <td>165.0</td>\n",
       "      <td>158.0</td>\n",
       "      <td>162.0</td>\n",
       "    </tr>\n",
       "    <tr>\n",
       "      <td>1005</td>\n",
       "      <td>7.0</td>\n",
       "      <td>38.0</td>\n",
       "      <td>56.0</td>\n",
       "      <td>41.0</td>\n",
       "      <td>42.0</td>\n",
       "      <td>47.0</td>\n",
       "      <td>56.0</td>\n",
       "      <td>64.0</td>\n",
       "      <td>52.0</td>\n",
       "      <td>44.0</td>\n",
       "      <td>51.0</td>\n",
       "      <td>54.0</td>\n",
       "    </tr>\n",
       "    <tr>\n",
       "      <td>1007</td>\n",
       "      <td>NaN</td>\n",
       "      <td>NaN</td>\n",
       "      <td>NaN</td>\n",
       "      <td>11.0</td>\n",
       "      <td>39.0</td>\n",
       "      <td>26.0</td>\n",
       "      <td>26.0</td>\n",
       "      <td>27.0</td>\n",
       "      <td>31.0</td>\n",
       "      <td>18.0</td>\n",
       "      <td>21.0</td>\n",
       "      <td>26.0</td>\n",
       "    </tr>\n",
       "    <tr>\n",
       "      <td>1008</td>\n",
       "      <td>NaN</td>\n",
       "      <td>NaN</td>\n",
       "      <td>NaN</td>\n",
       "      <td>NaN</td>\n",
       "      <td>NaN</td>\n",
       "      <td>NaN</td>\n",
       "      <td>NaN</td>\n",
       "      <td>NaN</td>\n",
       "      <td>NaN</td>\n",
       "      <td>NaN</td>\n",
       "      <td>NaN</td>\n",
       "      <td>56.0</td>\n",
       "    </tr>\n",
       "    <tr>\n",
       "      <td>1009</td>\n",
       "      <td>NaN</td>\n",
       "      <td>NaN</td>\n",
       "      <td>2.0</td>\n",
       "      <td>14.0</td>\n",
       "      <td>7.0</td>\n",
       "      <td>14.0</td>\n",
       "      <td>14.0</td>\n",
       "      <td>9.0</td>\n",
       "      <td>12.0</td>\n",
       "      <td>15.0</td>\n",
       "      <td>11.0</td>\n",
       "      <td>12.0</td>\n",
       "    </tr>\n",
       "    <tr>\n",
       "      <td>1011</td>\n",
       "      <td>NaN</td>\n",
       "      <td>NaN</td>\n",
       "      <td>4.0</td>\n",
       "      <td>7.0</td>\n",
       "      <td>13.0</td>\n",
       "      <td>13.0</td>\n",
       "      <td>13.0</td>\n",
       "      <td>15.0</td>\n",
       "      <td>10.0</td>\n",
       "      <td>17.0</td>\n",
       "      <td>12.0</td>\n",
       "      <td>6.0</td>\n",
       "    </tr>\n",
       "    <tr>\n",
       "      <td>1012</td>\n",
       "      <td>NaN</td>\n",
       "      <td>NaN</td>\n",
       "      <td>2.0</td>\n",
       "      <td>21.0</td>\n",
       "      <td>10.0</td>\n",
       "      <td>15.0</td>\n",
       "      <td>12.0</td>\n",
       "      <td>23.0</td>\n",
       "      <td>14.0</td>\n",
       "      <td>13.0</td>\n",
       "      <td>25.0</td>\n",
       "      <td>15.0</td>\n",
       "    </tr>\n",
       "  </tbody>\n",
       "</table>\n",
       "</div>"
      ],
      "text/plain": [
       "message_month   1     2     3     4     5      6      7      8      9      10  \\\n",
       "user_id                                                                         \n",
       "1000           NaN   NaN   NaN   NaN  22.0   60.0   75.0   81.0   57.0   73.0   \n",
       "1002           NaN   NaN   NaN   NaN   NaN    4.0   11.0   13.0    4.0   10.0   \n",
       "1003           NaN   NaN   NaN   NaN   NaN    NaN    NaN   37.0   91.0   83.0   \n",
       "1004           NaN   NaN   NaN   NaN  95.0  134.0  181.0  151.0  146.0  165.0   \n",
       "1005           7.0  38.0  56.0  41.0  42.0   47.0   56.0   64.0   52.0   44.0   \n",
       "1007           NaN   NaN   NaN  11.0  39.0   26.0   26.0   27.0   31.0   18.0   \n",
       "1008           NaN   NaN   NaN   NaN   NaN    NaN    NaN    NaN    NaN    NaN   \n",
       "1009           NaN   NaN   2.0  14.0   7.0   14.0   14.0    9.0   12.0   15.0   \n",
       "1011           NaN   NaN   4.0   7.0  13.0   13.0   13.0   15.0   10.0   17.0   \n",
       "1012           NaN   NaN   2.0  21.0  10.0   15.0   12.0   23.0   14.0   13.0   \n",
       "\n",
       "message_month     11     12  \n",
       "user_id                      \n",
       "1000            58.0   70.0  \n",
       "1002            16.0   12.0  \n",
       "1003            94.0   75.0  \n",
       "1004           158.0  162.0  \n",
       "1005            51.0   54.0  \n",
       "1007            21.0   26.0  \n",
       "1008             NaN   56.0  \n",
       "1009            11.0   12.0  \n",
       "1011            12.0    6.0  \n",
       "1012            25.0   15.0  "
      ]
     },
     "execution_count": 27,
     "metadata": {},
     "output_type": "execute_result"
    }
   ],
   "source": [
    "data_messages['message_month'] = data_messages['message_date'].dt.month\n",
    "messages_month = data_messages.pivot_table(index = 'user_id', columns = 'message_month', values = 'id', aggfunc = 'count') \n",
    "\n",
    "messages_month.head(10)"
   ]
  },
  {
   "cell_type": "markdown",
   "metadata": {},
   "source": [
    "**Работа с данными в data_users**"
   ]
  },
  {
   "cell_type": "code",
   "execution_count": 28,
   "metadata": {},
   "outputs": [
    {
     "name": "stdout",
     "output_type": "stream",
     "text": [
      "<class 'pandas.core.frame.DataFrame'>\n",
      "RangeIndex: 500 entries, 0 to 499\n",
      "Data columns (total 8 columns):\n",
      "user_id       500 non-null int64\n",
      "age           500 non-null int64\n",
      "churn_date    38 non-null object\n",
      "city          500 non-null object\n",
      "first_name    500 non-null object\n",
      "last_name     500 non-null object\n",
      "reg_date      500 non-null datetime64[ns]\n",
      "tariff        500 non-null int64\n",
      "dtypes: datetime64[ns](1), int64(3), object(4)\n",
      "memory usage: 31.4+ KB\n"
     ]
    }
   ],
   "source": [
    "data_users['reg_date'] = pd.to_datetime(data_users['reg_date'], format = '%Y-%m-%d')\n",
    "data_users['tariff'] = data_users['tariff'].replace('ultra', '1')\n",
    "data_users['tariff'] = data_users['tariff'].replace('smart', '0')\n",
    "data_users['tariff'] = data_users['tariff'].astype(int)\n",
    "data_users.info()"
   ]
  },
  {
   "cell_type": "markdown",
   "metadata": {},
   "source": [
    "**Расчёт дополнительных значений**"
   ]
  },
  {
   "cell_type": "markdown",
   "metadata": {},
   "source": [
    "Считаем для каждого пользователя:\n",
    "\n",
    "1. Количество сделанных звонков и израсходованных минут разговора по месяцам;\n",
    "2. Количество отправленных сообщений по месяцам;\n",
    "3. Объем израсходованного интернет-трафика по месяцам"
   ]
  },
  {
   "cell_type": "code",
   "execution_count": 29,
   "metadata": {},
   "outputs": [
    {
     "data": {
      "text/html": [
       "<div>\n",
       "<style scoped>\n",
       "    .dataframe tbody tr th:only-of-type {\n",
       "        vertical-align: middle;\n",
       "    }\n",
       "\n",
       "    .dataframe tbody tr th {\n",
       "        vertical-align: top;\n",
       "    }\n",
       "\n",
       "    .dataframe thead th {\n",
       "        text-align: right;\n",
       "    }\n",
       "</style>\n",
       "<table border=\"1\" class=\"dataframe\">\n",
       "  <thead>\n",
       "    <tr style=\"text-align: right;\">\n",
       "      <th></th>\n",
       "      <th>user_id</th>\n",
       "      <th>month</th>\n",
       "      <th>call_duration</th>\n",
       "      <th>id</th>\n",
       "      <th>mb_used</th>\n",
       "      <th>tariff</th>\n",
       "      <th>city</th>\n",
       "      <th>messages_included</th>\n",
       "      <th>mb_per_month_included</th>\n",
       "      <th>minutes_included</th>\n",
       "      <th>rub_monthly_fee</th>\n",
       "      <th>rub_per_gb</th>\n",
       "      <th>rub_per_message</th>\n",
       "      <th>rub_per_minute</th>\n",
       "      <th>tariff_name</th>\n",
       "    </tr>\n",
       "  </thead>\n",
       "  <tbody>\n",
       "    <tr>\n",
       "      <td>0</td>\n",
       "      <td>1000</td>\n",
       "      <td>5</td>\n",
       "      <td>159.0</td>\n",
       "      <td>22.0</td>\n",
       "      <td>2252.0</td>\n",
       "      <td>1</td>\n",
       "      <td>Краснодар</td>\n",
       "      <td>1000</td>\n",
       "      <td>30720</td>\n",
       "      <td>3000</td>\n",
       "      <td>1950</td>\n",
       "      <td>150</td>\n",
       "      <td>1</td>\n",
       "      <td>1</td>\n",
       "      <td>ultra</td>\n",
       "    </tr>\n",
       "    <tr>\n",
       "      <td>1</td>\n",
       "      <td>1000</td>\n",
       "      <td>6</td>\n",
       "      <td>172.0</td>\n",
       "      <td>60.0</td>\n",
       "      <td>23213.0</td>\n",
       "      <td>1</td>\n",
       "      <td>Краснодар</td>\n",
       "      <td>1000</td>\n",
       "      <td>30720</td>\n",
       "      <td>3000</td>\n",
       "      <td>1950</td>\n",
       "      <td>150</td>\n",
       "      <td>1</td>\n",
       "      <td>1</td>\n",
       "      <td>ultra</td>\n",
       "    </tr>\n",
       "    <tr>\n",
       "      <td>2</td>\n",
       "      <td>1000</td>\n",
       "      <td>7</td>\n",
       "      <td>340.0</td>\n",
       "      <td>75.0</td>\n",
       "      <td>13988.0</td>\n",
       "      <td>1</td>\n",
       "      <td>Краснодар</td>\n",
       "      <td>1000</td>\n",
       "      <td>30720</td>\n",
       "      <td>3000</td>\n",
       "      <td>1950</td>\n",
       "      <td>150</td>\n",
       "      <td>1</td>\n",
       "      <td>1</td>\n",
       "      <td>ultra</td>\n",
       "    </tr>\n",
       "    <tr>\n",
       "      <td>3</td>\n",
       "      <td>1000</td>\n",
       "      <td>8</td>\n",
       "      <td>408.0</td>\n",
       "      <td>81.0</td>\n",
       "      <td>14043.0</td>\n",
       "      <td>1</td>\n",
       "      <td>Краснодар</td>\n",
       "      <td>1000</td>\n",
       "      <td>30720</td>\n",
       "      <td>3000</td>\n",
       "      <td>1950</td>\n",
       "      <td>150</td>\n",
       "      <td>1</td>\n",
       "      <td>1</td>\n",
       "      <td>ultra</td>\n",
       "    </tr>\n",
       "    <tr>\n",
       "      <td>4</td>\n",
       "      <td>1000</td>\n",
       "      <td>9</td>\n",
       "      <td>466.0</td>\n",
       "      <td>57.0</td>\n",
       "      <td>14556.0</td>\n",
       "      <td>1</td>\n",
       "      <td>Краснодар</td>\n",
       "      <td>1000</td>\n",
       "      <td>30720</td>\n",
       "      <td>3000</td>\n",
       "      <td>1950</td>\n",
       "      <td>150</td>\n",
       "      <td>1</td>\n",
       "      <td>1</td>\n",
       "      <td>ultra</td>\n",
       "    </tr>\n",
       "    <tr>\n",
       "      <td>5</td>\n",
       "      <td>1000</td>\n",
       "      <td>10</td>\n",
       "      <td>350.0</td>\n",
       "      <td>73.0</td>\n",
       "      <td>14690.0</td>\n",
       "      <td>1</td>\n",
       "      <td>Краснодар</td>\n",
       "      <td>1000</td>\n",
       "      <td>30720</td>\n",
       "      <td>3000</td>\n",
       "      <td>1950</td>\n",
       "      <td>150</td>\n",
       "      <td>1</td>\n",
       "      <td>1</td>\n",
       "      <td>ultra</td>\n",
       "    </tr>\n",
       "    <tr>\n",
       "      <td>6</td>\n",
       "      <td>1000</td>\n",
       "      <td>11</td>\n",
       "      <td>338.0</td>\n",
       "      <td>58.0</td>\n",
       "      <td>14745.0</td>\n",
       "      <td>1</td>\n",
       "      <td>Краснодар</td>\n",
       "      <td>1000</td>\n",
       "      <td>30720</td>\n",
       "      <td>3000</td>\n",
       "      <td>1950</td>\n",
       "      <td>150</td>\n",
       "      <td>1</td>\n",
       "      <td>1</td>\n",
       "      <td>ultra</td>\n",
       "    </tr>\n",
       "    <tr>\n",
       "      <td>7</td>\n",
       "      <td>1000</td>\n",
       "      <td>12</td>\n",
       "      <td>333.0</td>\n",
       "      <td>70.0</td>\n",
       "      <td>9808.0</td>\n",
       "      <td>1</td>\n",
       "      <td>Краснодар</td>\n",
       "      <td>1000</td>\n",
       "      <td>30720</td>\n",
       "      <td>3000</td>\n",
       "      <td>1950</td>\n",
       "      <td>150</td>\n",
       "      <td>1</td>\n",
       "      <td>1</td>\n",
       "      <td>ultra</td>\n",
       "    </tr>\n",
       "    <tr>\n",
       "      <td>8</td>\n",
       "      <td>1001</td>\n",
       "      <td>11</td>\n",
       "      <td>430.0</td>\n",
       "      <td>NaN</td>\n",
       "      <td>18405.0</td>\n",
       "      <td>0</td>\n",
       "      <td>Москва</td>\n",
       "      <td>50</td>\n",
       "      <td>15360</td>\n",
       "      <td>500</td>\n",
       "      <td>550</td>\n",
       "      <td>200</td>\n",
       "      <td>3</td>\n",
       "      <td>3</td>\n",
       "      <td>smart</td>\n",
       "    </tr>\n",
       "    <tr>\n",
       "      <td>9</td>\n",
       "      <td>1001</td>\n",
       "      <td>12</td>\n",
       "      <td>414.0</td>\n",
       "      <td>NaN</td>\n",
       "      <td>14018.0</td>\n",
       "      <td>0</td>\n",
       "      <td>Москва</td>\n",
       "      <td>50</td>\n",
       "      <td>15360</td>\n",
       "      <td>500</td>\n",
       "      <td>550</td>\n",
       "      <td>200</td>\n",
       "      <td>3</td>\n",
       "      <td>3</td>\n",
       "      <td>smart</td>\n",
       "    </tr>\n",
       "    <tr>\n",
       "      <td>10</td>\n",
       "      <td>1002</td>\n",
       "      <td>6</td>\n",
       "      <td>117.0</td>\n",
       "      <td>4.0</td>\n",
       "      <td>10844.0</td>\n",
       "      <td>0</td>\n",
       "      <td>Стерлитамак</td>\n",
       "      <td>50</td>\n",
       "      <td>15360</td>\n",
       "      <td>500</td>\n",
       "      <td>550</td>\n",
       "      <td>200</td>\n",
       "      <td>3</td>\n",
       "      <td>3</td>\n",
       "      <td>smart</td>\n",
       "    </tr>\n",
       "    <tr>\n",
       "      <td>11</td>\n",
       "      <td>1002</td>\n",
       "      <td>7</td>\n",
       "      <td>214.0</td>\n",
       "      <td>11.0</td>\n",
       "      <td>17557.0</td>\n",
       "      <td>0</td>\n",
       "      <td>Стерлитамак</td>\n",
       "      <td>50</td>\n",
       "      <td>15360</td>\n",
       "      <td>500</td>\n",
       "      <td>550</td>\n",
       "      <td>200</td>\n",
       "      <td>3</td>\n",
       "      <td>3</td>\n",
       "      <td>smart</td>\n",
       "    </tr>\n",
       "    <tr>\n",
       "      <td>12</td>\n",
       "      <td>1002</td>\n",
       "      <td>8</td>\n",
       "      <td>289.0</td>\n",
       "      <td>13.0</td>\n",
       "      <td>20298.0</td>\n",
       "      <td>0</td>\n",
       "      <td>Стерлитамак</td>\n",
       "      <td>50</td>\n",
       "      <td>15360</td>\n",
       "      <td>500</td>\n",
       "      <td>550</td>\n",
       "      <td>200</td>\n",
       "      <td>3</td>\n",
       "      <td>3</td>\n",
       "      <td>smart</td>\n",
       "    </tr>\n",
       "    <tr>\n",
       "      <td>13</td>\n",
       "      <td>1002</td>\n",
       "      <td>9</td>\n",
       "      <td>206.0</td>\n",
       "      <td>4.0</td>\n",
       "      <td>16669.0</td>\n",
       "      <td>0</td>\n",
       "      <td>Стерлитамак</td>\n",
       "      <td>50</td>\n",
       "      <td>15360</td>\n",
       "      <td>500</td>\n",
       "      <td>550</td>\n",
       "      <td>200</td>\n",
       "      <td>3</td>\n",
       "      <td>3</td>\n",
       "      <td>smart</td>\n",
       "    </tr>\n",
       "    <tr>\n",
       "      <td>14</td>\n",
       "      <td>1002</td>\n",
       "      <td>10</td>\n",
       "      <td>212.0</td>\n",
       "      <td>10.0</td>\n",
       "      <td>13869.0</td>\n",
       "      <td>0</td>\n",
       "      <td>Стерлитамак</td>\n",
       "      <td>50</td>\n",
       "      <td>15360</td>\n",
       "      <td>500</td>\n",
       "      <td>550</td>\n",
       "      <td>200</td>\n",
       "      <td>3</td>\n",
       "      <td>3</td>\n",
       "      <td>smart</td>\n",
       "    </tr>\n",
       "    <tr>\n",
       "      <td>15</td>\n",
       "      <td>1002</td>\n",
       "      <td>11</td>\n",
       "      <td>243.0</td>\n",
       "      <td>16.0</td>\n",
       "      <td>18566.0</td>\n",
       "      <td>0</td>\n",
       "      <td>Стерлитамак</td>\n",
       "      <td>50</td>\n",
       "      <td>15360</td>\n",
       "      <td>500</td>\n",
       "      <td>550</td>\n",
       "      <td>200</td>\n",
       "      <td>3</td>\n",
       "      <td>3</td>\n",
       "      <td>smart</td>\n",
       "    </tr>\n",
       "    <tr>\n",
       "      <td>16</td>\n",
       "      <td>1002</td>\n",
       "      <td>12</td>\n",
       "      <td>236.0</td>\n",
       "      <td>12.0</td>\n",
       "      <td>18087.0</td>\n",
       "      <td>0</td>\n",
       "      <td>Стерлитамак</td>\n",
       "      <td>50</td>\n",
       "      <td>15360</td>\n",
       "      <td>500</td>\n",
       "      <td>550</td>\n",
       "      <td>200</td>\n",
       "      <td>3</td>\n",
       "      <td>3</td>\n",
       "      <td>smart</td>\n",
       "    </tr>\n",
       "    <tr>\n",
       "      <td>17</td>\n",
       "      <td>1003</td>\n",
       "      <td>8</td>\n",
       "      <td>380.0</td>\n",
       "      <td>37.0</td>\n",
       "      <td>8557.0</td>\n",
       "      <td>1</td>\n",
       "      <td>Москва</td>\n",
       "      <td>1000</td>\n",
       "      <td>30720</td>\n",
       "      <td>3000</td>\n",
       "      <td>1950</td>\n",
       "      <td>150</td>\n",
       "      <td>1</td>\n",
       "      <td>1</td>\n",
       "      <td>ultra</td>\n",
       "    </tr>\n",
       "    <tr>\n",
       "      <td>18</td>\n",
       "      <td>1003</td>\n",
       "      <td>9</td>\n",
       "      <td>961.0</td>\n",
       "      <td>91.0</td>\n",
       "      <td>12457.0</td>\n",
       "      <td>1</td>\n",
       "      <td>Москва</td>\n",
       "      <td>1000</td>\n",
       "      <td>30720</td>\n",
       "      <td>3000</td>\n",
       "      <td>1950</td>\n",
       "      <td>150</td>\n",
       "      <td>1</td>\n",
       "      <td>1</td>\n",
       "      <td>ultra</td>\n",
       "    </tr>\n",
       "    <tr>\n",
       "      <td>19</td>\n",
       "      <td>1003</td>\n",
       "      <td>10</td>\n",
       "      <td>855.0</td>\n",
       "      <td>83.0</td>\n",
       "      <td>14754.0</td>\n",
       "      <td>1</td>\n",
       "      <td>Москва</td>\n",
       "      <td>1000</td>\n",
       "      <td>30720</td>\n",
       "      <td>3000</td>\n",
       "      <td>1950</td>\n",
       "      <td>150</td>\n",
       "      <td>1</td>\n",
       "      <td>1</td>\n",
       "      <td>ultra</td>\n",
       "    </tr>\n",
       "  </tbody>\n",
       "</table>\n",
       "</div>"
      ],
      "text/plain": [
       "    user_id  month  call_duration    id  mb_used  tariff         city  \\\n",
       "0      1000      5          159.0  22.0   2252.0       1    Краснодар   \n",
       "1      1000      6          172.0  60.0  23213.0       1    Краснодар   \n",
       "2      1000      7          340.0  75.0  13988.0       1    Краснодар   \n",
       "3      1000      8          408.0  81.0  14043.0       1    Краснодар   \n",
       "4      1000      9          466.0  57.0  14556.0       1    Краснодар   \n",
       "5      1000     10          350.0  73.0  14690.0       1    Краснодар   \n",
       "6      1000     11          338.0  58.0  14745.0       1    Краснодар   \n",
       "7      1000     12          333.0  70.0   9808.0       1    Краснодар   \n",
       "8      1001     11          430.0   NaN  18405.0       0       Москва   \n",
       "9      1001     12          414.0   NaN  14018.0       0       Москва   \n",
       "10     1002      6          117.0   4.0  10844.0       0  Стерлитамак   \n",
       "11     1002      7          214.0  11.0  17557.0       0  Стерлитамак   \n",
       "12     1002      8          289.0  13.0  20298.0       0  Стерлитамак   \n",
       "13     1002      9          206.0   4.0  16669.0       0  Стерлитамак   \n",
       "14     1002     10          212.0  10.0  13869.0       0  Стерлитамак   \n",
       "15     1002     11          243.0  16.0  18566.0       0  Стерлитамак   \n",
       "16     1002     12          236.0  12.0  18087.0       0  Стерлитамак   \n",
       "17     1003      8          380.0  37.0   8557.0       1       Москва   \n",
       "18     1003      9          961.0  91.0  12457.0       1       Москва   \n",
       "19     1003     10          855.0  83.0  14754.0       1       Москва   \n",
       "\n",
       "    messages_included  mb_per_month_included  minutes_included  \\\n",
       "0                1000                  30720              3000   \n",
       "1                1000                  30720              3000   \n",
       "2                1000                  30720              3000   \n",
       "3                1000                  30720              3000   \n",
       "4                1000                  30720              3000   \n",
       "5                1000                  30720              3000   \n",
       "6                1000                  30720              3000   \n",
       "7                1000                  30720              3000   \n",
       "8                  50                  15360               500   \n",
       "9                  50                  15360               500   \n",
       "10                 50                  15360               500   \n",
       "11                 50                  15360               500   \n",
       "12                 50                  15360               500   \n",
       "13                 50                  15360               500   \n",
       "14                 50                  15360               500   \n",
       "15                 50                  15360               500   \n",
       "16                 50                  15360               500   \n",
       "17               1000                  30720              3000   \n",
       "18               1000                  30720              3000   \n",
       "19               1000                  30720              3000   \n",
       "\n",
       "    rub_monthly_fee  rub_per_gb  rub_per_message  rub_per_minute tariff_name  \n",
       "0              1950         150                1               1       ultra  \n",
       "1              1950         150                1               1       ultra  \n",
       "2              1950         150                1               1       ultra  \n",
       "3              1950         150                1               1       ultra  \n",
       "4              1950         150                1               1       ultra  \n",
       "5              1950         150                1               1       ultra  \n",
       "6              1950         150                1               1       ultra  \n",
       "7              1950         150                1               1       ultra  \n",
       "8               550         200                3               3       smart  \n",
       "9               550         200                3               3       smart  \n",
       "10              550         200                3               3       smart  \n",
       "11              550         200                3               3       smart  \n",
       "12              550         200                3               3       smart  \n",
       "13              550         200                3               3       smart  \n",
       "14              550         200                3               3       smart  \n",
       "15              550         200                3               3       smart  \n",
       "16              550         200                3               3       smart  \n",
       "17             1950         150                1               1       ultra  \n",
       "18             1950         150                1               1       ultra  \n",
       "19             1950         150                1               1       ultra  "
      ]
     },
     "execution_count": 29,
     "metadata": {},
     "output_type": "execute_result"
    }
   ],
   "source": [
    "calls_month = data_calls.groupby(['user_id', 'call_month'], as_index=False)['duration'].agg('sum')\n",
    "calls_month.columns = ['user_id', 'month', 'call_duration']\n",
    "\n",
    "messages_month = data_messages.groupby(['user_id', 'message_month'])['id'].agg('count')\n",
    "messages_month.columns = ['user_id', 'month', 'message_count']\n",
    "\n",
    "traffic_month = data_internet.groupby(['user_id', 'mb_month'])['mb_used'].agg('sum')\n",
    "traffic_month.columns = ['user_id', 'month', 'traffic']\n",
    "\n",
    "# объединим таблицы 'calls_month', 'messages_month' и 'traffic_month' методом join() по пользователям и месяцам\n",
    "\n",
    "data_sum = (calls_month.join(messages_month, on = ['user_id', 'month'], how='outer')\n",
    "            .join(traffic_month, on = ['user_id', 'month'], how='outer') \n",
    "            .merge(data_users[['user_id', 'tariff', 'city']], how='left', on='user_id')\n",
    "           )\n",
    "\n",
    "data_sum = data_sum.join(data_tariffs, on = 'tariff', how='left')\n",
    "data_sum.head(20)"
   ]
  },
  {
   "cell_type": "markdown",
   "metadata": {},
   "source": [
    "**Расчёт помесячной выручки с каждого пользователя**"
   ]
  },
  {
   "cell_type": "markdown",
   "metadata": {},
   "source": [
    "Создаём функцию для расчёта."
   ]
  },
  {
   "cell_type": "code",
   "execution_count": 30,
   "metadata": {},
   "outputs": [
    {
     "data": {
      "text/html": [
       "<div>\n",
       "<style scoped>\n",
       "    .dataframe tbody tr th:only-of-type {\n",
       "        vertical-align: middle;\n",
       "    }\n",
       "\n",
       "    .dataframe tbody tr th {\n",
       "        vertical-align: top;\n",
       "    }\n",
       "\n",
       "    .dataframe thead th {\n",
       "        text-align: right;\n",
       "    }\n",
       "</style>\n",
       "<table border=\"1\" class=\"dataframe\">\n",
       "  <thead>\n",
       "    <tr style=\"text-align: right;\">\n",
       "      <th></th>\n",
       "      <th>user_id</th>\n",
       "      <th>month</th>\n",
       "      <th>call_duration</th>\n",
       "      <th>id</th>\n",
       "      <th>mb_used</th>\n",
       "      <th>tariff</th>\n",
       "      <th>city</th>\n",
       "      <th>messages_included</th>\n",
       "      <th>mb_per_month_included</th>\n",
       "      <th>minutes_included</th>\n",
       "      <th>rub_monthly_fee</th>\n",
       "      <th>rub_per_gb</th>\n",
       "      <th>rub_per_message</th>\n",
       "      <th>rub_per_minute</th>\n",
       "      <th>tariff_name</th>\n",
       "      <th>earning</th>\n",
       "    </tr>\n",
       "  </thead>\n",
       "  <tbody>\n",
       "    <tr>\n",
       "      <td>0</td>\n",
       "      <td>1000</td>\n",
       "      <td>5</td>\n",
       "      <td>159.0</td>\n",
       "      <td>22.0</td>\n",
       "      <td>2252.0</td>\n",
       "      <td>1</td>\n",
       "      <td>Краснодар</td>\n",
       "      <td>1000</td>\n",
       "      <td>30720</td>\n",
       "      <td>3000</td>\n",
       "      <td>1950</td>\n",
       "      <td>150</td>\n",
       "      <td>1</td>\n",
       "      <td>1</td>\n",
       "      <td>ultra</td>\n",
       "      <td>1950.0</td>\n",
       "    </tr>\n",
       "    <tr>\n",
       "      <td>1</td>\n",
       "      <td>1000</td>\n",
       "      <td>6</td>\n",
       "      <td>172.0</td>\n",
       "      <td>60.0</td>\n",
       "      <td>23213.0</td>\n",
       "      <td>1</td>\n",
       "      <td>Краснодар</td>\n",
       "      <td>1000</td>\n",
       "      <td>30720</td>\n",
       "      <td>3000</td>\n",
       "      <td>1950</td>\n",
       "      <td>150</td>\n",
       "      <td>1</td>\n",
       "      <td>1</td>\n",
       "      <td>ultra</td>\n",
       "      <td>1950.0</td>\n",
       "    </tr>\n",
       "    <tr>\n",
       "      <td>2</td>\n",
       "      <td>1000</td>\n",
       "      <td>7</td>\n",
       "      <td>340.0</td>\n",
       "      <td>75.0</td>\n",
       "      <td>13988.0</td>\n",
       "      <td>1</td>\n",
       "      <td>Краснодар</td>\n",
       "      <td>1000</td>\n",
       "      <td>30720</td>\n",
       "      <td>3000</td>\n",
       "      <td>1950</td>\n",
       "      <td>150</td>\n",
       "      <td>1</td>\n",
       "      <td>1</td>\n",
       "      <td>ultra</td>\n",
       "      <td>1950.0</td>\n",
       "    </tr>\n",
       "    <tr>\n",
       "      <td>3</td>\n",
       "      <td>1000</td>\n",
       "      <td>8</td>\n",
       "      <td>408.0</td>\n",
       "      <td>81.0</td>\n",
       "      <td>14043.0</td>\n",
       "      <td>1</td>\n",
       "      <td>Краснодар</td>\n",
       "      <td>1000</td>\n",
       "      <td>30720</td>\n",
       "      <td>3000</td>\n",
       "      <td>1950</td>\n",
       "      <td>150</td>\n",
       "      <td>1</td>\n",
       "      <td>1</td>\n",
       "      <td>ultra</td>\n",
       "      <td>1950.0</td>\n",
       "    </tr>\n",
       "    <tr>\n",
       "      <td>4</td>\n",
       "      <td>1000</td>\n",
       "      <td>9</td>\n",
       "      <td>466.0</td>\n",
       "      <td>57.0</td>\n",
       "      <td>14556.0</td>\n",
       "      <td>1</td>\n",
       "      <td>Краснодар</td>\n",
       "      <td>1000</td>\n",
       "      <td>30720</td>\n",
       "      <td>3000</td>\n",
       "      <td>1950</td>\n",
       "      <td>150</td>\n",
       "      <td>1</td>\n",
       "      <td>1</td>\n",
       "      <td>ultra</td>\n",
       "      <td>1950.0</td>\n",
       "    </tr>\n",
       "    <tr>\n",
       "      <td>...</td>\n",
       "      <td>...</td>\n",
       "      <td>...</td>\n",
       "      <td>...</td>\n",
       "      <td>...</td>\n",
       "      <td>...</td>\n",
       "      <td>...</td>\n",
       "      <td>...</td>\n",
       "      <td>...</td>\n",
       "      <td>...</td>\n",
       "      <td>...</td>\n",
       "      <td>...</td>\n",
       "      <td>...</td>\n",
       "      <td>...</td>\n",
       "      <td>...</td>\n",
       "      <td>...</td>\n",
       "      <td>...</td>\n",
       "    </tr>\n",
       "    <tr>\n",
       "      <td>3209</td>\n",
       "      <td>1489</td>\n",
       "      <td>9</td>\n",
       "      <td>0.0</td>\n",
       "      <td>32.0</td>\n",
       "      <td>17183.0</td>\n",
       "      <td>0</td>\n",
       "      <td>Санкт-Петербург</td>\n",
       "      <td>50</td>\n",
       "      <td>15360</td>\n",
       "      <td>500</td>\n",
       "      <td>550</td>\n",
       "      <td>200</td>\n",
       "      <td>3</td>\n",
       "      <td>3</td>\n",
       "      <td>smart</td>\n",
       "      <td>950.0</td>\n",
       "    </tr>\n",
       "    <tr>\n",
       "      <td>3210</td>\n",
       "      <td>1489</td>\n",
       "      <td>10</td>\n",
       "      <td>0.0</td>\n",
       "      <td>21.0</td>\n",
       "      <td>19538.0</td>\n",
       "      <td>0</td>\n",
       "      <td>Санкт-Петербург</td>\n",
       "      <td>50</td>\n",
       "      <td>15360</td>\n",
       "      <td>500</td>\n",
       "      <td>550</td>\n",
       "      <td>200</td>\n",
       "      <td>3</td>\n",
       "      <td>3</td>\n",
       "      <td>smart</td>\n",
       "      <td>1550.0</td>\n",
       "    </tr>\n",
       "    <tr>\n",
       "      <td>3211</td>\n",
       "      <td>1489</td>\n",
       "      <td>11</td>\n",
       "      <td>0.0</td>\n",
       "      <td>20.0</td>\n",
       "      <td>17471.0</td>\n",
       "      <td>0</td>\n",
       "      <td>Санкт-Петербург</td>\n",
       "      <td>50</td>\n",
       "      <td>15360</td>\n",
       "      <td>500</td>\n",
       "      <td>550</td>\n",
       "      <td>200</td>\n",
       "      <td>3</td>\n",
       "      <td>3</td>\n",
       "      <td>smart</td>\n",
       "      <td>1150.0</td>\n",
       "    </tr>\n",
       "    <tr>\n",
       "      <td>3212</td>\n",
       "      <td>1489</td>\n",
       "      <td>12</td>\n",
       "      <td>0.0</td>\n",
       "      <td>35.0</td>\n",
       "      <td>17298.0</td>\n",
       "      <td>0</td>\n",
       "      <td>Санкт-Петербург</td>\n",
       "      <td>50</td>\n",
       "      <td>15360</td>\n",
       "      <td>500</td>\n",
       "      <td>550</td>\n",
       "      <td>200</td>\n",
       "      <td>3</td>\n",
       "      <td>3</td>\n",
       "      <td>smart</td>\n",
       "      <td>950.0</td>\n",
       "    </tr>\n",
       "    <tr>\n",
       "      <td>3213</td>\n",
       "      <td>1476</td>\n",
       "      <td>4</td>\n",
       "      <td>0.0</td>\n",
       "      <td>0.0</td>\n",
       "      <td>530.0</td>\n",
       "      <td>1</td>\n",
       "      <td>Москва</td>\n",
       "      <td>1000</td>\n",
       "      <td>30720</td>\n",
       "      <td>3000</td>\n",
       "      <td>1950</td>\n",
       "      <td>150</td>\n",
       "      <td>1</td>\n",
       "      <td>1</td>\n",
       "      <td>ultra</td>\n",
       "      <td>1950.0</td>\n",
       "    </tr>\n",
       "  </tbody>\n",
       "</table>\n",
       "<p>3214 rows × 16 columns</p>\n",
       "</div>"
      ],
      "text/plain": [
       "      user_id  month  call_duration    id  mb_used  tariff             city  \\\n",
       "0        1000      5          159.0  22.0   2252.0       1        Краснодар   \n",
       "1        1000      6          172.0  60.0  23213.0       1        Краснодар   \n",
       "2        1000      7          340.0  75.0  13988.0       1        Краснодар   \n",
       "3        1000      8          408.0  81.0  14043.0       1        Краснодар   \n",
       "4        1000      9          466.0  57.0  14556.0       1        Краснодар   \n",
       "...       ...    ...            ...   ...      ...     ...              ...   \n",
       "3209     1489      9            0.0  32.0  17183.0       0  Санкт-Петербург   \n",
       "3210     1489     10            0.0  21.0  19538.0       0  Санкт-Петербург   \n",
       "3211     1489     11            0.0  20.0  17471.0       0  Санкт-Петербург   \n",
       "3212     1489     12            0.0  35.0  17298.0       0  Санкт-Петербург   \n",
       "3213     1476      4            0.0   0.0    530.0       1           Москва   \n",
       "\n",
       "      messages_included  mb_per_month_included  minutes_included  \\\n",
       "0                  1000                  30720              3000   \n",
       "1                  1000                  30720              3000   \n",
       "2                  1000                  30720              3000   \n",
       "3                  1000                  30720              3000   \n",
       "4                  1000                  30720              3000   \n",
       "...                 ...                    ...               ...   \n",
       "3209                 50                  15360               500   \n",
       "3210                 50                  15360               500   \n",
       "3211                 50                  15360               500   \n",
       "3212                 50                  15360               500   \n",
       "3213               1000                  30720              3000   \n",
       "\n",
       "      rub_monthly_fee  rub_per_gb  rub_per_message  rub_per_minute  \\\n",
       "0                1950         150                1               1   \n",
       "1                1950         150                1               1   \n",
       "2                1950         150                1               1   \n",
       "3                1950         150                1               1   \n",
       "4                1950         150                1               1   \n",
       "...               ...         ...              ...             ...   \n",
       "3209              550         200                3               3   \n",
       "3210              550         200                3               3   \n",
       "3211              550         200                3               3   \n",
       "3212              550         200                3               3   \n",
       "3213             1950         150                1               1   \n",
       "\n",
       "     tariff_name  earning  \n",
       "0          ultra   1950.0  \n",
       "1          ultra   1950.0  \n",
       "2          ultra   1950.0  \n",
       "3          ultra   1950.0  \n",
       "4          ultra   1950.0  \n",
       "...          ...      ...  \n",
       "3209       smart    950.0  \n",
       "3210       smart   1550.0  \n",
       "3211       smart   1150.0  \n",
       "3212       smart    950.0  \n",
       "3213       ultra   1950.0  \n",
       "\n",
       "[3214 rows x 16 columns]"
      ]
     },
     "execution_count": 30,
     "metadata": {},
     "output_type": "execute_result"
    }
   ],
   "source": [
    "def find_earnings(row):\n",
    "    #заработок - это абонентская плата, в любом случае списывающаяся с пользователя.\n",
    "    earning = row['rub_monthly_fee']\n",
    "    #дополнительные минуты, если есть\n",
    "    if row['call_duration'] > row['minutes_included']:\n",
    "        earning += (row['call_duration'] - row['minutes_included']) * row['rub_per_minute']\n",
    "    #дополнительные сообщения, если есть\n",
    "    if row['id'] > row['messages_included']:\n",
    "        earning += (row['id'] - row['messages_included']) * row['rub_per_message']\n",
    "    #дополнительный интернет-трафик, если есть\n",
    "    if row['mb_used'] > row['mb_per_month_included']:\n",
    "        earning += math.ceil((row['mb_used'] - row['mb_per_month_included']) / 1024) * row['rub_per_gb']\n",
    "    return earning\n",
    "\n",
    "data_sum['earning'] = data_sum.apply(find_earnings, axis=1)\n",
    "data_sum=data_sum.fillna(0)\n",
    "data_sum"
   ]
  },
  {
   "cell_type": "markdown",
   "metadata": {},
   "source": [
    "**Вывод**\n",
    "\n",
    "Посчитали для каждого пользователя:\n",
    "\n",
    "1. Количество сделанных звонков и израсходованных минут разговора по месяцам;\n",
    "2. Количество отправленных сообщений по месяцам;\n",
    "3. Объем израсходованного интернет-трафика по месяцам;\n",
    "4. Помесячную выручку с каждого пользователя (вычли бесплатный лимит из суммарного количества звонков, сообщений и интернет-трафика; остаток умножили на значение из тарифного плана; прибавили абонентскую плату, соответствующую тарифному плану)"
   ]
  },
  {
   "cell_type": "markdown",
   "metadata": {},
   "source": [
    "# 3. Анализ данных"
   ]
  },
  {
   "cell_type": "markdown",
   "metadata": {},
   "source": [
    "Исходя из выборки, опишем поведение клинетов.\n",
    "\n",
    "Посчитаем среднее количество, дисперсию и стандартное отклонение.\n",
    "Построим гистограммы. \n",
    "Опишем распределения.\n",
    "\n",
    "**3.1 Минуты звонков**"
   ]
  },
  {
   "cell_type": "code",
   "execution_count": 31,
   "metadata": {},
   "outputs": [
    {
     "name": "stdout",
     "output_type": "stream",
     "text": [
      "ТАРИФ \"СМАРТ\"\n",
      "Среднее значение 417.9349484073576\n",
      "Дисперсия 36203.06665209469\n",
      "Стандартное отклонение  190.27103471651876\n"
     ]
    }
   ],
   "source": [
    "stat_call_smart = data_sum.query('tariff_name== \"smart\"')\n",
    "mean = stat_call_smart['call_duration'].mean()\n",
    "var_call_smart = np.var(stat_call_smart['call_duration'])\n",
    "std_call_smart = np.sqrt(var_call_smart)\n",
    "\n",
    "print('ТАРИФ \"СМАРТ\"')      \n",
    "print('Среднее значение' , mean )\n",
    "print('Дисперсия' , var_call_smart)\n",
    "print('Стандартное отклонение ', std_call_smart)\n"
   ]
  },
  {
   "cell_type": "code",
   "execution_count": 32,
   "metadata": {
    "scrolled": true
   },
   "outputs": [
    {
     "name": "stdout",
     "output_type": "stream",
     "text": [
      "ТАРИФ \"УЛЬТРА\"\n",
      "Среднее значение 526.6233502538071\n",
      "Дисперсия 100771.2236172022\n",
      "Стандартное отклонение  317.44483554974113\n"
     ]
    }
   ],
   "source": [
    "stat_call_ultra = data_sum.query('tariff_name== \"ultra\"')\n",
    "mean_call_ultra = stat_call_ultra['call_duration'].mean()\n",
    "var_call_ultra = np.var(stat_call_ultra['call_duration'])\n",
    "std_call_ultra = np.sqrt(var_call_ultra)\n",
    "\n",
    "print('ТАРИФ \"УЛЬТРА\"')      \n",
    "print('Среднее значение' ,  mean_call_ultra)     \n",
    "print('Дисперсия' , var_call_ultra)\n",
    "print('Стандартное отклонение ', std_call_ultra)"
   ]
  },
  {
   "cell_type": "code",
   "execution_count": 33,
   "metadata": {},
   "outputs": [
    {
     "data": {
      "text/plain": [
       "Text(0, 0.5, 'плотность распределения')"
      ]
     },
     "execution_count": 33,
     "metadata": {},
     "output_type": "execute_result"
    },
    {
     "data": {
      "image/png": "[encoded data removed]",
      "text/plain": [
       "<Figure size 432x288 with 1 Axes>"
      ]
     },
     "metadata": {
      "needs_background": "light"
     },
     "output_type": "display_data"
    }
   ],
   "source": [
    "ax = stat_call_ultra.plot(\n",
    "    y = 'call_duration',\n",
    "    kind='hist',\n",
    "    histtype='step',\n",
    "    range=(0, 3000),\n",
    "    bins=10,\n",
    "    linewidth=2,\n",
    "    alpha=0.8,\n",
    "    label='ultra')\n",
    "\n",
    "stat_call_smart.plot(\n",
    "    y='call_duration',\n",
    "    kind='hist',\n",
    "    histtype='step',\n",
    "    range=(0, 1000),\n",
    "    bins=10,\n",
    "    linewidth=2,\n",
    "    alpha=0.8,\n",
    "    label='smart',\n",
    "    ax=ax,\n",
    "    grid=True,\n",
    "    legend=True,\n",
    "    title = 'Плотность распределения времени разговоров (минуты)'\n",
    ") \n",
    "\n",
    "ax.set_xlabel('минуты')\n",
    "ax.set_ylabel('плотность распределения')\n",
    "\n",
    " \n",
    "\n"
   ]
  },
  {
   "cell_type": "markdown",
   "metadata": {},
   "source": [
    "Построим гистограмму по длительности разговоров пользователей тарифа \"ultra\". В пакет услуг включено 3000 минут разговора. Пик, как и у пользоваталей тарифа \"smart\" приходится примерно на 500 минут,самое максимальное значение использованных минут - 1179. 3000 минут не расходует никто, а если быть точнее, никто не расходует даже половину предоставленного."
   ]
  },
  {
   "cell_type": "code",
   "execution_count": 34,
   "metadata": {},
   "outputs": [
    {
     "data": {
      "text/plain": [
       "user_id                       1495\n",
       "month                           12\n",
       "call_duration                 1673\n",
       "id                             224\n",
       "mb_used                      49701\n",
       "tariff                           1\n",
       "city                     Ярославль\n",
       "messages_included             1000\n",
       "mb_per_month_included        30720\n",
       "minutes_included              3000\n",
       "rub_monthly_fee               1950\n",
       "rub_per_gb                     150\n",
       "rub_per_message                  1\n",
       "rub_per_minute                   1\n",
       "tariff_name                  ultra\n",
       "earning                       4800\n",
       "dtype: object"
      ]
     },
     "execution_count": 34,
     "metadata": {},
     "output_type": "execute_result"
    }
   ],
   "source": [
    "stat_call_ultra.max()"
   ]
  },
  {
   "cell_type": "markdown",
   "metadata": {},
   "source": [
    "**Вывод**\n",
    "\n",
    "1. По гистограммам видно, что распределение в обоих случаях близко к нормальному.\n",
    "2. Среднее значение для тарифа \"Смарт\" - 419, а для тарифа \"Ультра\" - 545. В обоих случаях средние значения вписываются в минуты, входящие в пакет услуг. Но стоит обратить внимание на то, что пользователи тарифа \"Смарт\" довольно часто превышают лимит. Возможно, стоит подумать над оптимизацией тарифа исходя из данных этой статистики. \n",
    "3. Пользователи тарифа \"Ультра\" не используют даже 50% предоставленных минут в тарифе. Возможно, стоит уменьшить количество минут и сократить абнонентскую плату. \n",
    "4. По стандартным отклонениям можем сделать вывод, что разброс значений больше у тарифа \"Ультра\" (306), а у тарифа \"Смарт\"(189) значения больше сгруппированы вокруг среднего. Полагаем, что это связано с бОльшим ограничением по минутам звонков."
   ]
  },
  {
   "cell_type": "markdown",
   "metadata": {},
   "source": [
    "**3.2 Сообщения**"
   ]
  },
  {
   "cell_type": "code",
   "execution_count": 35,
   "metadata": {},
   "outputs": [
    {
     "name": "stdout",
     "output_type": "stream",
     "text": [
      "ТАРИФ \"СМАРТ\"\n",
      "Среднее значение 33.384028712427096\n",
      "Дисперсия 796.455482917076\n",
      "Стандартное отклонение  28.221542886898938\n"
     ]
    }
   ],
   "source": [
    "stat_msg_smart = data_sum.query('tariff_name== \"smart\"')\n",
    "mean = stat_msg_smart['id'].mean()\n",
    "var_msg_smart = np.var(stat_msg_smart['id'])\n",
    "std_msg_smart = np.sqrt(var_msg_smart)\n",
    "\n",
    "\n",
    "print('ТАРИФ \"СМАРТ\"')      \n",
    "print('Среднее значение' , mean)      \n",
    "print('Дисперсия' , var_msg_smart)\n",
    "print('Стандартное отклонение ', std_msg_smart)"
   ]
  },
  {
   "cell_type": "code",
   "execution_count": 36,
   "metadata": {},
   "outputs": [
    {
     "name": "stdout",
     "output_type": "stream",
     "text": [
      "ТАРИФ \"УЛЬТРА\"\n",
      "Среднее значение 49.36345177664975\n",
      "Дисперсия 2282.946075394882\n",
      "Стандартное отклонение  47.78018496610161\n"
     ]
    }
   ],
   "source": [
    "stat_msg_ultra = data_sum.query('tariff_name== \"ultra\"')\n",
    "mean = stat_msg_ultra['id'].mean()\n",
    "var_msg_ultra = np.var(stat_msg_ultra['id'])\n",
    "std_msg_ultra = np.sqrt(var_msg_ultra)\n",
    "\n",
    "print('ТАРИФ \"УЛЬТРА\"')      \n",
    "print('Среднее значение' , mean)      \n",
    "print('Дисперсия' , var_msg_ultra)\n",
    "print('Стандартное отклонение ', std_msg_ultra)"
   ]
  },
  {
   "cell_type": "markdown",
   "metadata": {},
   "source": [
    "Построим одну гистограмму по двум тарифам для наглядности. \n",
    "Вспомним, что в пакет услуг тарифа \"Смарт\" входит 50 сообщений, а тарифа \"Ультра\" - 1000."
   ]
  },
  {
   "cell_type": "code",
   "execution_count": 37,
   "metadata": {},
   "outputs": [
    {
     "data": {
      "text/plain": [
       "Text(0, 0.5, 'плотность распределения')"
      ]
     },
     "execution_count": 37,
     "metadata": {},
     "output_type": "execute_result"
    },
    {
     "data": {
      "image/png": "[encoded data removed]",
      "text/plain": [
       "<Figure size 432x288 with 1 Axes>"
      ]
     },
     "metadata": {
      "needs_background": "light"
     },
     "output_type": "display_data"
    }
   ],
   "source": [
    "ax = stat_msg_ultra.plot(\n",
    "    kind='hist',\n",
    "    y = 'id',\n",
    "    histtype='step',\n",
    "    range=(0, 400),\n",
    "    bins=10,\n",
    "    linewidth=2,\n",
    "    alpha=0.8,\n",
    "    label='ultra', \n",
    ")\n",
    "\n",
    "stat_msg_smart.plot(\n",
    "    kind='hist',\n",
    "    y='id',\n",
    "    histtype='step',\n",
    "    range=(0, 100),\n",
    "    bins=10,\n",
    "    linewidth=2,\n",
    "    alpha=0.8,\n",
    "    label='smart',\n",
    "    ax=ax,\n",
    "    grid=True,\n",
    "    legend=True,\n",
    "    title = 'Плотность распределения сообщений'\n",
    ") \n",
    "\n",
    "ax.set_xlabel('сообщения')\n",
    "ax.set_ylabel('плотность распределения')"
   ]
  },
  {
   "cell_type": "markdown",
   "metadata": {},
   "source": [
    "**Вывод**\n",
    "\n",
    "1. Среднее значение тарифа \"Смарт\" (33 сообщения) меньше, чем среднее значение тарифа \"Ультра\" (49 сообщений).\n",
    "2. Большой процент пользователей тарифа \"Смарт\" отправляет соообщений больше, чем предоставлено в пакете тарифа. Стоит подумать над оптимизацией тарифного плана.\n",
    "3. Пользователи тарифа \"Ультра\" не отправляют большое количество сообщений. Никто не использует предоставленный пакет даже на 50%. Полагаем, что это связано с развитием социальных сетей и мессенджеров: отправка смс отходит на второй план. Стоит подумать над оптимизацией тарифного плана.\n",
    "4. Обращаем внимание, что есть пик на нуле: многие не пользуются сообщениями в принципе."
   ]
  },
  {
   "cell_type": "markdown",
   "metadata": {},
   "source": [
    "**3.3 Интернет-трафик**"
   ]
  },
  {
   "cell_type": "code",
   "execution_count": 38,
   "metadata": {},
   "outputs": [
    {
     "name": "stdout",
     "output_type": "stream",
     "text": [
      "ТАРИФ \"СМАРТ\"\n",
      "Среднее значение 16187.578734858682\n",
      "Дисперсия 34364391.03428983\n",
      "Стандартное отклонение  5862.114894326946\n"
     ]
    }
   ],
   "source": [
    "stat_internet_smart = data_sum.query('tariff_name== \"smart\"')\n",
    "mean = stat_internet_smart['mb_used'].mean()\n",
    "var_internet_smart = np.var(stat_internet_smart['mb_used'])\n",
    "std_internet_smart = np.sqrt(var_internet_smart)\n",
    "\n",
    "print('ТАРИФ \"СМАРТ\"')      \n",
    "print('Среднее значение' , mean)      \n",
    "print('Дисперсия' , var_internet_smart)\n",
    "print('Стандартное отклонение ', std_internet_smart)"
   ]
  },
  {
   "cell_type": "code",
   "execution_count": 39,
   "metadata": {},
   "outputs": [
    {
     "name": "stdout",
     "output_type": "stream",
     "text": [
      "ТАРИФ \"УЛЬТРА\"\n",
      "Среднее значение 19450.643654822336\n",
      "Дисперсия 101462966.07301812\n",
      "Стандартное отклонение  10072.882709185991\n"
     ]
    }
   ],
   "source": [
    "stat_internet_ultra = data_sum.query('tariff_name== \"ultra\"')\n",
    "mean = stat_internet_ultra['mb_used'].mean()\n",
    "var_internet_ultra = np.var(stat_internet_ultra['mb_used'])\n",
    "std_internet_ultra = np.sqrt(var_internet_ultra)\n",
    "\n",
    "print('ТАРИФ \"УЛЬТРА\"')      \n",
    "print('Среднее значение' ,  mean)      \n",
    "print('Дисперсия' , var_internet_ultra)\n",
    "print('Стандартное отклонение ', std_internet_ultra)"
   ]
  },
  {
   "cell_type": "markdown",
   "metadata": {},
   "source": [
    "Построим одну гистограмму по двум тарифам для наглядности. \n",
    "Вспомним, что в пакет услуг тарифа \"Смарт\" входит 15ГБ интернет-трафика, а тарифа \"Ультра\" - 30ГБ."
   ]
  },
  {
   "cell_type": "code",
   "execution_count": 40,
   "metadata": {},
   "outputs": [
    {
     "data": {
      "text/plain": [
       "Text(0, 0.5, 'плотность распределения')"
      ]
     },
     "execution_count": 40,
     "metadata": {},
     "output_type": "execute_result"
    },
    {
     "data": {
      "image/png": "[encoded data removed]",
      "text/plain": [
       "<Figure size 432x288 with 1 Axes>"
      ]
     },
     "metadata": {
      "needs_background": "light"
     },
     "output_type": "display_data"
    }
   ],
   "source": [
    "ax = stat_internet_ultra.plot(\n",
    "    kind='hist',\n",
    "    y='mb_used',\n",
    "    histtype='step',\n",
    "    range=(0, 45000),\n",
    "    bins=10,\n",
    "    linewidth=2,\n",
    "    alpha=0.8,\n",
    "    label= 'ultra')\n",
    "\n",
    "stat_internet_smart.plot(\n",
    "    kind='hist',\n",
    "    y='mb_used',\n",
    "    histtype='step',\n",
    "    range=(0, 45000),\n",
    "    bins=10,\n",
    "    linewidth=2,\n",
    "    alpha=0.8,\n",
    "    label='smart',\n",
    "    ax=ax,\n",
    "    grid=True,\n",
    "    legend=True,\n",
    "    title = 'Плотность распределения мб'\n",
    ") \n",
    "\n",
    "\n",
    "ax.set_xlabel('трафик (мб)')\n",
    "ax.set_ylabel('плотность распределения')"
   ]
  },
  {
   "cell_type": "markdown",
   "metadata": {},
   "source": [
    "Посчитаем количество включённого трафика в мегабайтах."
   ]
  },
  {
   "cell_type": "code",
   "execution_count": 41,
   "metadata": {},
   "outputs": [
    {
     "name": "stdout",
     "output_type": "stream",
     "text": [
      "Трафик тарифа \"Смарт\": 15360 МБ\n",
      "Трафик тарифа \"Ультра\": 30720 МБ\n"
     ]
    }
   ],
   "source": [
    "print('Трафик тарифа \"Смарт\":', 1024*15, \"МБ\")\n",
    "print('Трафик тарифа \"Ультра\":', 1024*30, \"МБ\")"
   ]
  },
  {
   "cell_type": "markdown",
   "metadata": {},
   "source": [
    "**Вывод**\n",
    "1. Пользователи обоих тарифов не укладываются в предоставленных трафик и переплачивают за дополнительное использование интернета. Стоит оптимизировать оба тарифных плана. Это заметно на гистограмме. \n",
    "2. Среднее значение использованного интернет-трафика у пользователей тарифа \"Смарт\" больше предоставленного трафика в пакете услуг(16187>15360). Данный тарифный план однозначно стоит пересмотреть."
   ]
  },
  {
   "cell_type": "markdown",
   "metadata": {},
   "source": [
    "# 4. Проверка гипотез"
   ]
  },
  {
   "cell_type": "markdown",
   "metadata": {},
   "source": [
    "**4.1 \"Cредняя выручка пользователей тарифов «Ультра» и «Смарт» различаются\"**"
   ]
  },
  {
   "cell_type": "markdown",
   "metadata": {},
   "source": [
    "Нулевая гипотеза H0:\n",
    "Средняя выручка пользователей тарифа «Ультра» равна средней выручке пользователей тарифа «Смарт»\n",
    "\n",
    "Альтернативная гипотеза H1:\n",
    "Средняя выручка пользователей тарифа «Ультра» не равна средней выручке пользователей тарифа «Смарт»\n",
    "\n",
    "Определим уровень значимости alpha = 0.05\n",
    "\n",
    "Выборки по клиентам тарифов «Ультра» и «Смарт» не связаны друг с другом. \n",
    "Мы имеем две разные генеральные совокупности, и сопоставляем их средние. Для этого используем метод st.ttest_ind()."
   ]
  },
  {
   "cell_type": "code",
   "execution_count": 42,
   "metadata": {},
   "outputs": [
    {
     "name": "stdout",
     "output_type": "stream",
     "text": [
      "p-значение: 8.40789217310225e-253\n",
      "Отвергаем нулевую гипотезу\n"
     ]
    }
   ],
   "source": [
    "earning_smart = (data_sum.loc[data_sum['tariff_name'] == 'smart']                                       \n",
    "                )\n",
    "earning_ultra = (data_sum.loc[data_sum['tariff_name'] == 'ultra']                                \n",
    "                )\n",
    "results = st.ttest_ind(earning_smart['earning'] , earning_ultra['earning'] , equal_var=False) # считаем дисперсии выборок разными\n",
    "alpha = 0.05\n",
    "\n",
    "\n",
    "print('p-значение:',results.pvalue) \n",
    "\n",
    "if results.pvalue<alpha:\n",
    "    print(\"Отвергаем нулевую гипотезу\")\n",
    "else:\n",
    "    print(\"Не получилось отвергнуть нулевую гипотезу\")"
   ]
  },
  {
   "cell_type": "markdown",
   "metadata": {},
   "source": [
    "**4.2 \"Cредняя выручка пользователей из Москвы отличается от выручки пользователей из других регионов\"**"
   ]
  },
  {
   "cell_type": "markdown",
   "metadata": {},
   "source": [
    "Нулевая гипотеза H0:\n",
    "Средняя выручка пользователей из Москвы равна средней выручке пользователей из других регионов\n",
    "\n",
    "Альтернативная гипотеза H1:\n",
    "Средняя выручка пользователей из Москвы не равна средней выручке пользователей из других регионов\n",
    "\n",
    "Определим уровень значимости alpha = 0.05\n",
    "\n",
    "Выборки по клиентам из Москвы и других регионов не связаны друг с другом.  \n",
    "Мы имеем две разные генеральные совокупности, и сопоставляем их средние. Для этого используем метод st.ttest_ind()."
   ]
  },
  {
   "cell_type": "code",
   "execution_count": 43,
   "metadata": {},
   "outputs": [
    {
     "name": "stdout",
     "output_type": "stream",
     "text": [
      "p-значение: 0.517656692853026\n",
      "Не получилось отвергнуть нулевую гипотезу\n"
     ]
    }
   ],
   "source": [
    "earning_moscow = (data_sum\n",
    "                .query('city == \"Москва\"')                             \n",
    "                )\n",
    "earning_other = (data_sum\n",
    "                .query('city != \"Москва\"')                               \n",
    "                )\n",
    "results = st.ttest_ind(earning_moscow['earning'], earning_other['earning'], equal_var=False)\n",
    "alpha = 0.05\n",
    "\n",
    "\n",
    "print('p-значение:',results.pvalue) \n",
    "\n",
    "if results.pvalue<alpha:\n",
    "    print(\"Отвергаем нулевую гипотезу\")\n",
    "else:\n",
    "    print(\"Не получилось отвергнуть нулевую гипотезу\")"
   ]
  },
  {
   "cell_type": "markdown",
   "metadata": {},
   "source": [
    "**Вывод**\n",
    "\n",
    "1. При проверке гипотезы о различии средней выручки пользователей тарифов \"Ультра\" и \"Смарт\" мы пришли к выводу, что выручка в действительности различается.\n",
    "2. При проверке гипотезы о различии выручки пользователей из Москвы и других городов, мы пришли к выводу, что выручка примерно одинакова."
   ]
  },
  {
   "cell_type": "markdown",
   "metadata": {},
   "source": [
    "# 5. Общий вывод"
   ]
  },
  {
   "cell_type": "markdown",
   "metadata": {},
   "source": [
    "1. Данные изучены.\n",
    "2. Данные приведены к нужным типам.\n",
    "3. Проведены дополнительные расчёты для дальнейшего анализа.\n",
    "4. Проведён анализ поведения клиентов оператора.\n",
    "5. Проверены гипотезы.\n",
    "\n",
    "В данных были обнаружены нулевые значения, но они полностью оправданы и оставлены в первоначальном виде.\n",
    "\n",
    "В результате аналитической работы мы пришли к выводам, что оба тарифа желательно оптимизировать, так как предоставленного пакета услуг не хватает пользователям тарифа Smart, а предоставленный пакет услуг в тарифе Ultra неоправданно велик и не используется в должной мере. \n",
    "Как вариант, немного увеличить стоимость тарифа Smart, увеличив в пакете услуг минуты звонков, количество сообщений и интернет-трафик, а при уменьшении абонентской платы тарифа Ultra сократить количество минут и сообщений, однако увеличить интернет-трафик.\n",
    "\n",
    "Больше прибыли приносят пользователи тарифа \"Ультра\", и этот тариф лучше с точки зрения того, что пользователям меньше приходится переплачивать сверх абонентской платы. \n",
    "\n",
    "С помощью гипотез были сделаны выводы о том, что средняя выручка у обоих тарифов различается, но выручка пользователей из Москвы и из других городов в среднем одинакова.\n",
    "\n"
   ]
  }
 ],
 "metadata": {
  "ExecuteTimeLog": [
   {
    "duration": 87,
    "start_time": "2021-09-20T18:03:01.949Z"
   },
   {
    "duration": 2643,
    "start_time": "2021-09-20T18:03:12.418Z"
   },
   {
    "duration": 248,
    "start_time": "2021-09-20T18:03:24.956Z"
   },
   {
    "duration": 3573,
    "start_time": "2021-09-20T18:09:56.366Z"
   },
   {
    "duration": 2140,
    "start_time": "2021-09-20T18:10:33.504Z"
   },
   {
    "duration": 1912,
    "start_time": "2021-09-20T18:11:33.822Z"
   },
   {
    "duration": 2112,
    "start_time": "2021-09-20T18:12:35.447Z"
   },
   {
    "duration": 572,
    "start_time": "2021-09-20T18:12:47.711Z"
   },
   {
    "duration": 2201,
    "start_time": "2021-09-20T18:17:55.858Z"
   },
   {
    "duration": 764,
    "start_time": "2021-09-20T18:18:07.713Z"
   },
   {
    "duration": 786,
    "start_time": "2021-09-20T18:18:44.905Z"
   },
   {
    "duration": 824,
    "start_time": "2021-09-20T18:19:33.386Z"
   },
   {
    "duration": 815,
    "start_time": "2021-09-20T18:25:48.933Z"
   },
   {
    "duration": 928,
    "start_time": "2021-09-20T18:26:11.564Z"
   },
   {
    "duration": 795,
    "start_time": "2021-09-20T18:26:24.561Z"
   },
   {
    "duration": 605,
    "start_time": "2021-09-20T18:29:09.387Z"
   },
   {
    "duration": 1144,
    "start_time": "2021-09-20T18:30:57.274Z"
   },
   {
    "duration": 762,
    "start_time": "2021-09-20T18:31:57.692Z"
   },
   {
    "duration": 552,
    "start_time": "2021-09-20T18:32:17.686Z"
   },
   {
    "duration": 552,
    "start_time": "2021-09-20T18:32:29.527Z"
   },
   {
    "duration": 519,
    "start_time": "2021-09-20T18:32:37.753Z"
   },
   {
    "duration": 13,
    "start_time": "2021-09-20T18:33:19.810Z"
   },
   {
    "duration": 10,
    "start_time": "2021-09-20T18:33:23.504Z"
   },
   {
    "duration": 12,
    "start_time": "2021-09-20T18:33:26.717Z"
   },
   {
    "duration": 13,
    "start_time": "2021-09-20T18:33:30.550Z"
   },
   {
    "duration": 268,
    "start_time": "2021-09-20T18:41:29.290Z"
   },
   {
    "duration": 345,
    "start_time": "2021-09-20T18:42:42.635Z"
   },
   {
    "duration": 328,
    "start_time": "2021-09-20T18:42:55.760Z"
   },
   {
    "duration": 90,
    "start_time": "2021-09-20T18:43:09.786Z"
   },
   {
    "duration": 253,
    "start_time": "2021-09-20T18:43:27.783Z"
   },
   {
    "duration": 251,
    "start_time": "2021-09-20T18:43:40.165Z"
   },
   {
    "duration": 273,
    "start_time": "2021-09-20T18:44:27.256Z"
   },
   {
    "duration": 269,
    "start_time": "2021-09-20T18:44:38.780Z"
   },
   {
    "duration": 260,
    "start_time": "2021-09-20T18:46:08.417Z"
   },
   {
    "duration": 535,
    "start_time": "2021-09-20T18:46:59.991Z"
   },
   {
    "duration": 23,
    "start_time": "2021-09-20T18:47:24.482Z"
   },
   {
    "duration": 18,
    "start_time": "2021-09-20T18:47:37.793Z"
   },
   {
    "duration": 10,
    "start_time": "2021-09-20T18:47:57.824Z"
   },
   {
    "duration": 348,
    "start_time": "2021-09-21T16:50:53.612Z"
   },
   {
    "duration": 1263,
    "start_time": "2021-09-21T16:50:57.332Z"
   },
   {
    "duration": 23,
    "start_time": "2021-09-21T16:51:00.072Z"
   },
   {
    "duration": 12,
    "start_time": "2021-09-21T16:51:25.621Z"
   },
   {
    "duration": 10,
    "start_time": "2021-09-21T16:51:50.343Z"
   },
   {
    "duration": 10,
    "start_time": "2021-09-21T16:52:21.739Z"
   },
   {
    "duration": 13,
    "start_time": "2021-09-21T16:52:42.195Z"
   },
   {
    "duration": 535,
    "start_time": "2021-09-21T17:07:14.838Z"
   },
   {
    "duration": 28,
    "start_time": "2021-09-21T17:07:20.531Z"
   },
   {
    "duration": 121,
    "start_time": "2021-09-21T17:18:09.812Z"
   },
   {
    "duration": 12,
    "start_time": "2021-09-21T17:34:00.821Z"
   },
   {
    "duration": 27,
    "start_time": "2021-09-21T17:35:21.376Z"
   },
   {
    "duration": 23,
    "start_time": "2021-09-21T17:35:40.639Z"
   },
   {
    "duration": 20,
    "start_time": "2021-09-21T17:35:56.167Z"
   },
   {
    "duration": 7,
    "start_time": "2021-09-21T17:36:11.829Z"
   },
   {
    "duration": 8,
    "start_time": "2021-09-21T17:36:31.158Z"
   },
   {
    "duration": 310,
    "start_time": "2021-09-21T17:39:25.801Z"
   },
   {
    "duration": 279,
    "start_time": "2021-09-21T17:39:41.113Z"
   },
   {
    "duration": 245,
    "start_time": "2021-09-21T17:43:17.286Z"
   },
   {
    "duration": 296,
    "start_time": "2021-09-21T17:43:24.555Z"
   },
   {
    "duration": 1731,
    "start_time": "2021-09-21T17:43:57.358Z"
   },
   {
    "duration": 14,
    "start_time": "2021-09-21T17:44:01.363Z"
   },
   {
    "duration": 49,
    "start_time": "2021-09-21T17:47:35.256Z"
   },
   {
    "duration": 31,
    "start_time": "2021-09-21T17:47:53.769Z"
   },
   {
    "duration": 30,
    "start_time": "2021-09-21T17:49:54.177Z"
   },
   {
    "duration": 35,
    "start_time": "2021-09-21T17:51:00.018Z"
   },
   {
    "duration": 229,
    "start_time": "2021-09-21T17:51:37.547Z"
   },
   {
    "duration": 168,
    "start_time": "2021-09-21T17:57:54.989Z"
   },
   {
    "duration": 462,
    "start_time": "2021-09-21T17:58:17.899Z"
   },
   {
    "duration": 383,
    "start_time": "2021-09-21T18:00:18.341Z"
   },
   {
    "duration": 372,
    "start_time": "2021-09-21T18:00:33.892Z"
   },
   {
    "duration": 399,
    "start_time": "2021-09-21T18:01:45.874Z"
   },
   {
    "duration": 615,
    "start_time": "2021-09-21T18:01:58.094Z"
   },
   {
    "duration": 385,
    "start_time": "2021-09-21T18:02:03.854Z"
   },
   {
    "duration": 415,
    "start_time": "2021-09-21T18:02:11.534Z"
   },
   {
    "duration": 400,
    "start_time": "2021-09-21T18:02:26.468Z"
   },
   {
    "duration": 504,
    "start_time": "2021-09-21T18:02:58.640Z"
   },
   {
    "duration": 401,
    "start_time": "2021-09-21T18:05:15.409Z"
   },
   {
    "duration": 521,
    "start_time": "2021-09-21T18:05:53.169Z"
   },
   {
    "duration": 27,
    "start_time": "2021-09-21T18:06:10.803Z"
   },
   {
    "duration": 12,
    "start_time": "2021-09-21T18:06:11.501Z"
   },
   {
    "duration": 23,
    "start_time": "2021-09-21T18:06:27.995Z"
   },
   {
    "duration": 568,
    "start_time": "2021-09-21T18:06:53.786Z"
   },
   {
    "duration": 29,
    "start_time": "2021-09-21T18:06:55.254Z"
   },
   {
    "duration": 12,
    "start_time": "2021-09-21T18:06:56.145Z"
   },
   {
    "duration": 28,
    "start_time": "2021-09-21T18:06:56.658Z"
   },
   {
    "duration": 24,
    "start_time": "2021-09-21T18:06:58.162Z"
   },
   {
    "duration": 14,
    "start_time": "2021-09-21T18:07:00.822Z"
   },
   {
    "duration": 30,
    "start_time": "2021-09-21T18:07:03.602Z"
   },
   {
    "duration": 21,
    "start_time": "2021-09-21T18:07:06.904Z"
   },
   {
    "duration": 10,
    "start_time": "2021-09-21T18:07:07.378Z"
   },
   {
    "duration": 20,
    "start_time": "2021-09-21T18:07:08.055Z"
   },
   {
    "duration": 9,
    "start_time": "2021-09-21T18:07:09.933Z"
   },
   {
    "duration": 12,
    "start_time": "2021-09-21T18:07:10.368Z"
   },
   {
    "duration": 8,
    "start_time": "2021-09-21T18:07:10.680Z"
   },
   {
    "duration": 9,
    "start_time": "2021-09-21T18:07:16.942Z"
   },
   {
    "duration": 16,
    "start_time": "2021-09-21T18:07:17.980Z"
   },
   {
    "duration": 9,
    "start_time": "2021-09-21T18:07:18.387Z"
   },
   {
    "duration": 216,
    "start_time": "2021-09-21T18:07:24.326Z"
   },
   {
    "duration": 445,
    "start_time": "2021-09-21T18:07:27.493Z"
   },
   {
    "duration": 31,
    "start_time": "2021-09-21T18:07:56.976Z"
   },
   {
    "duration": 13,
    "start_time": "2021-09-21T18:07:59.358Z"
   },
   {
    "duration": 22,
    "start_time": "2021-09-21T18:08:03.211Z"
   },
   {
    "duration": 410,
    "start_time": "2021-09-21T18:08:10.687Z"
   },
   {
    "duration": 129,
    "start_time": "2021-09-21T18:08:45.787Z"
   },
   {
    "duration": 127,
    "start_time": "2021-09-21T18:08:53.754Z"
   },
   {
    "duration": 131,
    "start_time": "2021-09-21T18:09:16.238Z"
   },
   {
    "duration": 476,
    "start_time": "2021-09-21T18:09:41.388Z"
   },
   {
    "duration": 131,
    "start_time": "2021-09-21T18:09:48.609Z"
   },
   {
    "duration": 145,
    "start_time": "2021-09-21T18:10:02.040Z"
   },
   {
    "duration": 144,
    "start_time": "2021-09-21T18:12:46.681Z"
   },
   {
    "duration": 17,
    "start_time": "2021-09-21T18:15:16.369Z"
   },
   {
    "duration": 11,
    "start_time": "2021-09-21T18:15:24.435Z"
   },
   {
    "duration": 6,
    "start_time": "2021-09-21T18:23:54.607Z"
   },
   {
    "duration": 15,
    "start_time": "2021-09-21T18:24:19.846Z"
   },
   {
    "duration": 446,
    "start_time": "2021-09-22T07:22:34.576Z"
   },
   {
    "duration": 2515,
    "start_time": "2021-09-22T07:22:53.776Z"
   },
   {
    "duration": 28,
    "start_time": "2021-09-22T07:22:56.293Z"
   },
   {
    "duration": 15,
    "start_time": "2021-09-22T07:22:56.324Z"
   },
   {
    "duration": 44,
    "start_time": "2021-09-22T07:22:56.342Z"
   },
   {
    "duration": 24,
    "start_time": "2021-09-22T07:22:56.388Z"
   },
   {
    "duration": 12,
    "start_time": "2021-09-22T07:22:56.414Z"
   },
   {
    "duration": 55,
    "start_time": "2021-09-22T07:22:56.429Z"
   },
   {
    "duration": 19,
    "start_time": "2021-09-22T07:22:56.553Z"
   },
   {
    "duration": 11,
    "start_time": "2021-09-22T07:22:56.719Z"
   },
   {
    "duration": 18,
    "start_time": "2021-09-22T07:22:56.897Z"
   },
   {
    "duration": 9,
    "start_time": "2021-09-22T07:22:57.459Z"
   },
   {
    "duration": 12,
    "start_time": "2021-09-22T07:22:57.670Z"
   },
   {
    "duration": 8,
    "start_time": "2021-09-22T07:22:57.850Z"
   },
   {
    "duration": 9,
    "start_time": "2021-09-22T07:22:58.603Z"
   },
   {
    "duration": 15,
    "start_time": "2021-09-22T07:22:58.788Z"
   },
   {
    "duration": 8,
    "start_time": "2021-09-22T07:22:59.071Z"
   },
   {
    "duration": 224,
    "start_time": "2021-09-22T07:23:00.993Z"
   },
   {
    "duration": 166,
    "start_time": "2021-09-22T07:23:01.493Z"
   },
   {
    "duration": 26,
    "start_time": "2021-09-22T07:23:01.743Z"
   },
   {
    "duration": 170,
    "start_time": "2021-09-22T07:23:02.157Z"
   },
   {
    "duration": 137,
    "start_time": "2021-09-22T07:23:15.479Z"
   },
   {
    "duration": 19,
    "start_time": "2021-09-22T07:23:16.045Z"
   },
   {
    "duration": 132,
    "start_time": "2021-09-22T07:24:22.468Z"
   },
   {
    "duration": 140,
    "start_time": "2021-09-22T07:24:45.434Z"
   },
   {
    "duration": 20,
    "start_time": "2021-09-22T07:24:46.301Z"
   },
   {
    "duration": 143,
    "start_time": "2021-09-22T07:25:29.677Z"
   },
   {
    "duration": 23,
    "start_time": "2021-09-22T07:26:17.704Z"
   },
   {
    "duration": 700,
    "start_time": "2021-09-22T07:30:37.905Z"
   },
   {
    "duration": 19721,
    "start_time": "2021-09-22T07:31:51.268Z"
   },
   {
    "duration": 70,
    "start_time": "2021-09-22T07:32:35.252Z"
   },
   {
    "duration": 123,
    "start_time": "2021-09-22T07:33:00.834Z"
   },
   {
    "duration": 7937,
    "start_time": "2021-09-22T07:40:11.243Z"
   },
   {
    "duration": 100,
    "start_time": "2021-09-22T07:40:30.615Z"
   },
   {
    "duration": 8275,
    "start_time": "2021-09-22T07:40:42.661Z"
   },
   {
    "duration": 831,
    "start_time": "2021-09-22T07:42:08.810Z"
   },
   {
    "duration": 131,
    "start_time": "2021-09-22T07:42:25.935Z"
   },
   {
    "duration": 416,
    "start_time": "2021-09-22T07:42:29.258Z"
   },
   {
    "duration": 102,
    "start_time": "2021-09-22T07:42:57.573Z"
   },
   {
    "duration": 102,
    "start_time": "2021-09-22T07:43:33.925Z"
   },
   {
    "duration": 626,
    "start_time": "2021-09-22T07:43:41.300Z"
   },
   {
    "duration": 73,
    "start_time": "2021-09-22T07:44:37.536Z"
   },
   {
    "duration": 340,
    "start_time": "2021-09-22T08:00:48.110Z"
   },
   {
    "duration": 315,
    "start_time": "2021-09-22T08:01:14.963Z"
   },
   {
    "duration": 325,
    "start_time": "2021-09-22T08:01:38.694Z"
   },
   {
    "duration": 392,
    "start_time": "2021-09-22T08:02:08.913Z"
   },
   {
    "duration": 347,
    "start_time": "2021-09-22T08:02:49.618Z"
   },
   {
    "duration": 331,
    "start_time": "2021-09-22T08:04:43.289Z"
   },
   {
    "duration": 386,
    "start_time": "2021-09-22T08:06:29.071Z"
   },
   {
    "duration": 340,
    "start_time": "2021-09-22T08:07:03.709Z"
   },
   {
    "duration": 348,
    "start_time": "2021-09-22T08:07:19.340Z"
   },
   {
    "duration": 386,
    "start_time": "2021-09-22T08:09:06.386Z"
   },
   {
    "duration": 136,
    "start_time": "2021-09-22T08:09:38.772Z"
   },
   {
    "duration": 293,
    "start_time": "2021-09-22T08:09:46.812Z"
   },
   {
    "duration": 772,
    "start_time": "2021-09-22T08:10:00.784Z"
   },
   {
    "duration": 28,
    "start_time": "2021-09-22T08:10:01.559Z"
   },
   {
    "duration": 28,
    "start_time": "2021-09-22T08:10:01.590Z"
   },
   {
    "duration": 56,
    "start_time": "2021-09-22T08:10:01.621Z"
   },
   {
    "duration": 24,
    "start_time": "2021-09-22T08:10:01.840Z"
   },
   {
    "duration": 12,
    "start_time": "2021-09-22T08:10:01.986Z"
   },
   {
    "duration": 23,
    "start_time": "2021-09-22T08:10:02.130Z"
   },
   {
    "duration": 21,
    "start_time": "2021-09-22T08:10:02.601Z"
   },
   {
    "duration": 11,
    "start_time": "2021-09-22T08:10:02.752Z"
   },
   {
    "duration": 19,
    "start_time": "2021-09-22T08:10:02.922Z"
   },
   {
    "duration": 10,
    "start_time": "2021-09-22T08:10:03.395Z"
   },
   {
    "duration": 13,
    "start_time": "2021-09-22T08:10:03.561Z"
   },
   {
    "duration": 8,
    "start_time": "2021-09-22T08:10:03.721Z"
   },
   {
    "duration": 10,
    "start_time": "2021-09-22T08:10:04.227Z"
   },
   {
    "duration": 15,
    "start_time": "2021-09-22T08:10:04.407Z"
   },
   {
    "duration": 7,
    "start_time": "2021-09-22T08:10:04.578Z"
   },
   {
    "duration": 217,
    "start_time": "2021-09-22T08:10:05.543Z"
   },
   {
    "duration": 135,
    "start_time": "2021-09-22T08:10:05.951Z"
   },
   {
    "duration": 23,
    "start_time": "2021-09-22T08:10:06.193Z"
   },
   {
    "duration": 166,
    "start_time": "2021-09-22T08:10:06.672Z"
   },
   {
    "duration": 76,
    "start_time": "2021-09-22T08:10:07.114Z"
   },
   {
    "duration": 139,
    "start_time": "2021-09-22T08:10:07.560Z"
   },
   {
    "duration": 74,
    "start_time": "2021-09-22T08:10:08.047Z"
   },
   {
    "duration": 12,
    "start_time": "2021-09-22T08:10:08.505Z"
   },
   {
    "duration": 91,
    "start_time": "2021-09-22T08:10:08.708Z"
   },
   {
    "duration": 303,
    "start_time": "2021-09-22T08:10:08.963Z"
   },
   {
    "duration": 36,
    "start_time": "2021-09-22T08:12:06.481Z"
   },
   {
    "duration": 273,
    "start_time": "2021-09-22T08:14:09.808Z"
   },
   {
    "duration": 291,
    "start_time": "2021-09-22T08:14:18.062Z"
   },
   {
    "duration": 17,
    "start_time": "2021-09-22T08:15:26.607Z"
   },
   {
    "duration": 80,
    "start_time": "2021-09-22T08:17:17.116Z"
   },
   {
    "duration": 83,
    "start_time": "2021-09-22T08:19:23.207Z"
   },
   {
    "duration": 82,
    "start_time": "2021-09-22T08:19:37.209Z"
   },
   {
    "duration": 1856,
    "start_time": "2021-09-22T08:34:17.595Z"
   },
   {
    "duration": 1810,
    "start_time": "2021-09-22T08:35:44.914Z"
   },
   {
    "duration": 20,
    "start_time": "2021-09-22T08:42:31.750Z"
   },
   {
    "duration": 20,
    "start_time": "2021-09-22T08:43:13.748Z"
   },
   {
    "duration": 20,
    "start_time": "2021-09-22T08:43:59.902Z"
   },
   {
    "duration": 13,
    "start_time": "2021-09-22T08:44:11.627Z"
   },
   {
    "duration": 7219,
    "start_time": "2021-09-22T08:45:01.651Z"
   },
   {
    "duration": 15,
    "start_time": "2021-09-22T08:45:16.275Z"
   },
   {
    "duration": 16,
    "start_time": "2021-09-22T08:45:34.015Z"
   },
   {
    "duration": 90,
    "start_time": "2021-09-22T08:46:36.991Z"
   },
   {
    "duration": 8879,
    "start_time": "2021-09-22T08:49:10.447Z"
   },
   {
    "duration": 7288,
    "start_time": "2021-09-22T08:49:26.407Z"
   },
   {
    "duration": 8078,
    "start_time": "2021-09-22T08:52:38.296Z"
   },
   {
    "duration": 8640,
    "start_time": "2021-09-22T08:53:24.275Z"
   },
   {
    "duration": 365,
    "start_time": "2021-09-22T08:54:03.129Z"
   },
   {
    "duration": 374,
    "start_time": "2021-09-22T09:03:39.430Z"
   },
   {
    "duration": 1931,
    "start_time": "2021-09-23T04:14:51.012Z"
   },
   {
    "duration": 21,
    "start_time": "2021-09-23T04:14:52.945Z"
   },
   {
    "duration": 10,
    "start_time": "2021-09-23T04:14:52.969Z"
   },
   {
    "duration": 20,
    "start_time": "2021-09-23T04:14:52.981Z"
   },
   {
    "duration": 42,
    "start_time": "2021-09-23T04:14:53.003Z"
   },
   {
    "duration": 9,
    "start_time": "2021-09-23T04:14:53.047Z"
   },
   {
    "duration": 20,
    "start_time": "2021-09-23T04:14:53.057Z"
   },
   {
    "duration": 16,
    "start_time": "2021-09-23T04:14:53.815Z"
   },
   {
    "duration": 8,
    "start_time": "2021-09-23T04:14:54.005Z"
   },
   {
    "duration": 14,
    "start_time": "2021-09-23T04:14:54.233Z"
   },
   {
    "duration": 6,
    "start_time": "2021-09-23T04:14:54.983Z"
   },
   {
    "duration": 8,
    "start_time": "2021-09-23T04:14:55.145Z"
   },
   {
    "duration": 6,
    "start_time": "2021-09-23T04:14:55.399Z"
   },
   {
    "duration": 7,
    "start_time": "2021-09-23T04:14:56.291Z"
   },
   {
    "duration": 9,
    "start_time": "2021-09-23T04:14:56.653Z"
   },
   {
    "duration": 6,
    "start_time": "2021-09-23T04:14:56.839Z"
   },
   {
    "duration": 128,
    "start_time": "2021-09-23T04:14:58.168Z"
   },
   {
    "duration": 102,
    "start_time": "2021-09-23T04:14:58.753Z"
   },
   {
    "duration": 14,
    "start_time": "2021-09-23T04:14:59.034Z"
   },
   {
    "duration": 104,
    "start_time": "2021-09-23T04:14:59.658Z"
   },
   {
    "duration": 54,
    "start_time": "2021-09-23T04:15:00.128Z"
   },
   {
    "duration": 85,
    "start_time": "2021-09-23T04:15:00.657Z"
   },
   {
    "duration": 52,
    "start_time": "2021-09-23T04:15:01.179Z"
   },
   {
    "duration": 12,
    "start_time": "2021-09-23T04:15:01.800Z"
   },
   {
    "duration": 70,
    "start_time": "2021-09-23T04:15:02.816Z"
   },
   {
    "duration": 209,
    "start_time": "2021-09-23T04:15:04.807Z"
   },
   {
    "duration": 356,
    "start_time": "2021-09-23T04:28:06.382Z"
   },
   {
    "duration": 265,
    "start_time": "2021-09-23T04:28:22.580Z"
   },
   {
    "duration": 8,
    "start_time": "2021-09-23T04:28:41.941Z"
   },
   {
    "duration": 82,
    "start_time": "2021-09-23T04:29:37.294Z"
   },
   {
    "duration": 7,
    "start_time": "2021-09-23T04:31:03.555Z"
   },
   {
    "duration": 82,
    "start_time": "2021-09-23T04:35:40.880Z"
   },
   {
    "duration": 89,
    "start_time": "2021-09-23T04:36:02.393Z"
   },
   {
    "duration": 826,
    "start_time": "2021-09-23T04:36:14.178Z"
   },
   {
    "duration": 89,
    "start_time": "2021-09-23T04:36:25.120Z"
   },
   {
    "duration": 270,
    "start_time": "2021-09-23T04:36:35.472Z"
   },
   {
    "duration": 8,
    "start_time": "2021-09-23T04:37:50.938Z"
   },
   {
    "duration": 8,
    "start_time": "2021-09-23T04:38:06.293Z"
   },
   {
    "duration": 8,
    "start_time": "2021-09-23T04:39:19.615Z"
   },
   {
    "duration": 8,
    "start_time": "2021-09-23T04:39:58.819Z"
   },
   {
    "duration": 262,
    "start_time": "2021-09-23T04:40:47.965Z"
   },
   {
    "duration": 9,
    "start_time": "2021-09-23T04:40:56.451Z"
   },
   {
    "duration": 9,
    "start_time": "2021-09-23T04:41:53.006Z"
   },
   {
    "duration": 8,
    "start_time": "2021-09-23T04:41:55.163Z"
   },
   {
    "duration": 406,
    "start_time": "2021-09-23T13:46:02.042Z"
   },
   {
    "duration": 2445,
    "start_time": "2021-09-23T13:46:07.611Z"
   },
   {
    "duration": 50,
    "start_time": "2021-09-23T13:46:10.059Z"
   },
   {
    "duration": 26,
    "start_time": "2021-09-23T13:46:10.113Z"
   },
   {
    "duration": 49,
    "start_time": "2021-09-23T13:46:10.143Z"
   },
   {
    "duration": 64,
    "start_time": "2021-09-23T13:46:10.196Z"
   },
   {
    "duration": 23,
    "start_time": "2021-09-23T13:46:10.263Z"
   },
   {
    "duration": 60,
    "start_time": "2021-09-23T13:46:10.290Z"
   },
   {
    "duration": 47,
    "start_time": "2021-09-23T13:46:10.362Z"
   },
   {
    "duration": 25,
    "start_time": "2021-09-23T13:46:10.420Z"
   },
   {
    "duration": 20,
    "start_time": "2021-09-23T13:46:10.457Z"
   },
   {
    "duration": 9,
    "start_time": "2021-09-23T13:46:10.672Z"
   },
   {
    "duration": 11,
    "start_time": "2021-09-23T13:46:10.902Z"
   },
   {
    "duration": 7,
    "start_time": "2021-09-23T13:46:11.076Z"
   },
   {
    "duration": 9,
    "start_time": "2021-09-23T13:46:11.640Z"
   },
   {
    "duration": 14,
    "start_time": "2021-09-23T13:46:11.811Z"
   },
   {
    "duration": 7,
    "start_time": "2021-09-23T13:46:11.962Z"
   },
   {
    "duration": 204,
    "start_time": "2021-09-23T13:46:12.845Z"
   },
   {
    "duration": 139,
    "start_time": "2021-09-23T13:46:13.192Z"
   },
   {
    "duration": 23,
    "start_time": "2021-09-23T13:46:13.369Z"
   },
   {
    "duration": 173,
    "start_time": "2021-09-23T13:46:13.718Z"
   },
   {
    "duration": 75,
    "start_time": "2021-09-23T13:46:14.118Z"
   },
   {
    "duration": 125,
    "start_time": "2021-09-23T13:46:14.538Z"
   },
   {
    "duration": 71,
    "start_time": "2021-09-23T13:46:14.889Z"
   },
   {
    "duration": 17,
    "start_time": "2021-09-23T13:46:15.282Z"
   },
   {
    "duration": 98,
    "start_time": "2021-09-23T13:46:15.909Z"
   },
   {
    "duration": 342,
    "start_time": "2021-09-23T13:46:16.538Z"
   },
   {
    "duration": 14,
    "start_time": "2021-09-23T13:46:17.368Z"
   },
   {
    "duration": 12,
    "start_time": "2021-09-23T13:46:17.578Z"
   },
   {
    "duration": 13,
    "start_time": "2021-09-23T13:46:17.789Z"
   },
   {
    "duration": 89,
    "start_time": "2021-09-23T13:46:17.983Z"
   },
   {
    "duration": 102,
    "start_time": "2021-09-23T13:48:58.575Z"
   },
   {
    "duration": 726,
    "start_time": "2021-09-23T13:49:12.960Z"
   },
   {
    "duration": 586,
    "start_time": "2021-09-23T13:49:39.312Z"
   },
   {
    "duration": 308,
    "start_time": "2021-09-23T13:49:55.318Z"
   },
   {
    "duration": 303,
    "start_time": "2021-09-23T13:50:17.858Z"
   },
   {
    "duration": 316,
    "start_time": "2021-09-23T13:51:19.372Z"
   },
   {
    "duration": 302,
    "start_time": "2021-09-23T13:51:43.793Z"
   },
   {
    "duration": 8,
    "start_time": "2021-09-23T13:51:59.191Z"
   },
   {
    "duration": 6,
    "start_time": "2021-09-23T13:52:05.843Z"
   },
   {
    "duration": 434,
    "start_time": "2021-09-23T13:52:24.488Z"
   },
   {
    "duration": 7,
    "start_time": "2021-09-23T13:57:53.727Z"
   },
   {
    "duration": 12,
    "start_time": "2021-09-23T14:18:58.489Z"
   },
   {
    "duration": 12,
    "start_time": "2021-09-23T14:19:50.060Z"
   },
   {
    "duration": 277,
    "start_time": "2021-09-23T14:22:48.991Z"
   },
   {
    "duration": 275,
    "start_time": "2021-09-23T14:23:10.314Z"
   },
   {
    "duration": 425,
    "start_time": "2021-09-23T14:23:38.795Z"
   },
   {
    "duration": 309,
    "start_time": "2021-09-23T14:24:11.364Z"
   },
   {
    "duration": 314,
    "start_time": "2021-09-23T14:24:24.492Z"
   },
   {
    "duration": 300,
    "start_time": "2021-09-23T14:24:48.891Z"
   },
   {
    "duration": 285,
    "start_time": "2021-09-23T14:25:07.796Z"
   },
   {
    "duration": 296,
    "start_time": "2021-09-23T14:25:31.340Z"
   },
   {
    "duration": 315,
    "start_time": "2021-09-23T14:25:43.376Z"
   },
   {
    "duration": 304,
    "start_time": "2021-09-23T14:25:57.637Z"
   },
   {
    "duration": 295,
    "start_time": "2021-09-23T14:26:13.168Z"
   },
   {
    "duration": 322,
    "start_time": "2021-09-23T14:26:45.910Z"
   },
   {
    "duration": 323,
    "start_time": "2021-09-23T14:27:11.367Z"
   },
   {
    "duration": 316,
    "start_time": "2021-09-23T14:27:20.409Z"
   },
   {
    "duration": 307,
    "start_time": "2021-09-23T14:27:26.508Z"
   },
   {
    "duration": 12,
    "start_time": "2021-09-23T14:28:05.056Z"
   },
   {
    "duration": 312,
    "start_time": "2021-09-23T14:28:05.734Z"
   },
   {
    "duration": 12,
    "start_time": "2021-09-23T14:39:22.344Z"
   },
   {
    "duration": 11,
    "start_time": "2021-09-23T14:40:16.768Z"
   },
   {
    "duration": 454,
    "start_time": "2021-09-23T14:42:17.889Z"
   },
   {
    "duration": 316,
    "start_time": "2021-09-23T14:42:29.420Z"
   },
   {
    "duration": 302,
    "start_time": "2021-09-23T14:42:43.278Z"
   },
   {
    "duration": 4,
    "start_time": "2021-09-23T14:46:33.834Z"
   },
   {
    "duration": 5,
    "start_time": "2021-09-23T14:47:06.121Z"
   },
   {
    "duration": 6,
    "start_time": "2021-09-23T14:47:29.464Z"
   },
   {
    "duration": 12,
    "start_time": "2021-09-23T14:51:51.179Z"
   },
   {
    "duration": 13,
    "start_time": "2021-09-23T14:52:04.192Z"
   },
   {
    "duration": 15,
    "start_time": "2021-09-23T15:42:49.739Z"
   },
   {
    "duration": 14,
    "start_time": "2021-09-23T15:42:54.613Z"
   },
   {
    "duration": 16,
    "start_time": "2021-09-23T15:44:46.740Z"
   },
   {
    "duration": 13,
    "start_time": "2021-09-23T15:45:44.542Z"
   },
   {
    "duration": 22,
    "start_time": "2021-09-23T15:50:51.463Z"
   },
   {
    "duration": 20,
    "start_time": "2021-09-23T15:51:27.346Z"
   },
   {
    "duration": 511,
    "start_time": "2021-09-23T15:56:33.118Z"
   },
   {
    "duration": 26,
    "start_time": "2021-09-23T15:56:35.601Z"
   },
   {
    "duration": 12,
    "start_time": "2021-09-23T15:56:36.855Z"
   },
   {
    "duration": 26,
    "start_time": "2021-09-23T15:56:37.214Z"
   },
   {
    "duration": 22,
    "start_time": "2021-09-23T15:56:38.171Z"
   },
   {
    "duration": 12,
    "start_time": "2021-09-23T15:56:38.565Z"
   },
   {
    "duration": 45,
    "start_time": "2021-09-23T15:56:38.909Z"
   },
   {
    "duration": 27,
    "start_time": "2021-09-23T15:56:39.819Z"
   },
   {
    "duration": 11,
    "start_time": "2021-09-23T15:56:40.091Z"
   },
   {
    "duration": 18,
    "start_time": "2021-09-23T15:56:40.400Z"
   },
   {
    "duration": 10,
    "start_time": "2021-09-23T15:56:41.171Z"
   },
   {
    "duration": 12,
    "start_time": "2021-09-23T15:56:41.421Z"
   },
   {
    "duration": 7,
    "start_time": "2021-09-23T15:56:41.709Z"
   },
   {
    "duration": 9,
    "start_time": "2021-09-23T15:56:42.449Z"
   },
   {
    "duration": 15,
    "start_time": "2021-09-23T15:56:42.671Z"
   },
   {
    "duration": 8,
    "start_time": "2021-09-23T15:56:42.853Z"
   },
   {
    "duration": 204,
    "start_time": "2021-09-23T15:56:44.085Z"
   },
   {
    "duration": 141,
    "start_time": "2021-09-23T15:56:44.559Z"
   },
   {
    "duration": 24,
    "start_time": "2021-09-23T15:56:44.799Z"
   },
   {
    "duration": 157,
    "start_time": "2021-09-23T15:56:45.229Z"
   },
   {
    "duration": 75,
    "start_time": "2021-09-23T15:56:45.659Z"
   },
   {
    "duration": 127,
    "start_time": "2021-09-23T15:56:46.053Z"
   },
   {
    "duration": 72,
    "start_time": "2021-09-23T15:56:46.467Z"
   },
   {
    "duration": 18,
    "start_time": "2021-09-23T15:56:46.829Z"
   },
   {
    "duration": 91,
    "start_time": "2021-09-23T15:56:47.454Z"
   },
   {
    "duration": 353,
    "start_time": "2021-09-23T15:56:48.141Z"
   },
   {
    "duration": 12,
    "start_time": "2021-09-23T15:56:49.429Z"
   },
   {
    "duration": 12,
    "start_time": "2021-09-23T15:56:49.955Z"
   },
   {
    "duration": 316,
    "start_time": "2021-09-23T15:56:50.691Z"
   },
   {
    "duration": 298,
    "start_time": "2021-09-23T15:56:51.317Z"
   },
   {
    "duration": 7,
    "start_time": "2021-09-23T15:56:51.683Z"
   },
   {
    "duration": 12,
    "start_time": "2021-09-23T15:56:53.331Z"
   },
   {
    "duration": 13,
    "start_time": "2021-09-23T15:56:53.777Z"
   },
   {
    "duration": 293,
    "start_time": "2021-09-23T15:56:55.349Z"
   },
   {
    "duration": 317,
    "start_time": "2021-09-23T15:58:44.989Z"
   },
   {
    "duration": 1911,
    "start_time": "2021-09-23T18:41:54.807Z"
   },
   {
    "duration": 27,
    "start_time": "2021-09-23T18:41:56.721Z"
   },
   {
    "duration": 15,
    "start_time": "2021-09-23T18:41:56.751Z"
   },
   {
    "duration": 30,
    "start_time": "2021-09-23T18:41:56.769Z"
   },
   {
    "duration": 23,
    "start_time": "2021-09-23T18:41:56.801Z"
   },
   {
    "duration": 41,
    "start_time": "2021-09-23T18:41:56.826Z"
   },
   {
    "duration": 22,
    "start_time": "2021-09-23T18:41:56.870Z"
   },
   {
    "duration": 20,
    "start_time": "2021-09-23T18:41:56.896Z"
   },
   {
    "duration": 10,
    "start_time": "2021-09-23T18:41:56.919Z"
   },
   {
    "duration": 18,
    "start_time": "2021-09-23T18:41:56.967Z"
   },
   {
    "duration": 13,
    "start_time": "2021-09-23T18:41:56.988Z"
   },
   {
    "duration": 13,
    "start_time": "2021-09-23T18:41:57.004Z"
   },
   {
    "duration": 9,
    "start_time": "2021-09-23T18:41:57.019Z"
   },
   {
    "duration": 44,
    "start_time": "2021-09-23T18:41:57.030Z"
   },
   {
    "duration": 20,
    "start_time": "2021-09-23T18:41:57.076Z"
   },
   {
    "duration": 16,
    "start_time": "2021-09-23T18:41:57.098Z"
   },
   {
    "duration": 245,
    "start_time": "2021-09-23T18:41:57.117Z"
   },
   {
    "duration": 154,
    "start_time": "2021-09-23T18:41:57.367Z"
   },
   {
    "duration": 22,
    "start_time": "2021-09-23T18:41:57.523Z"
   },
   {
    "duration": 195,
    "start_time": "2021-09-23T18:41:57.548Z"
   },
   {
    "duration": 91,
    "start_time": "2021-09-23T18:41:57.746Z"
   },
   {
    "duration": 137,
    "start_time": "2021-09-23T18:41:57.840Z"
   },
   {
    "duration": 110,
    "start_time": "2021-09-23T18:41:57.982Z"
   },
   {
    "duration": 17,
    "start_time": "2021-09-23T18:41:58.097Z"
   },
   {
    "duration": 109,
    "start_time": "2021-09-23T18:41:58.116Z"
   },
   {
    "duration": 682,
    "start_time": "2021-09-23T18:41:58.228Z"
   },
   {
    "duration": -97,
    "start_time": "2021-09-23T18:41:59.010Z"
   },
   {
    "duration": -100,
    "start_time": "2021-09-23T18:41:59.014Z"
   },
   {
    "duration": -103,
    "start_time": "2021-09-23T18:41:59.018Z"
   },
   {
    "duration": -105,
    "start_time": "2021-09-23T18:41:59.022Z"
   },
   {
    "duration": -107,
    "start_time": "2021-09-23T18:41:59.025Z"
   },
   {
    "duration": -110,
    "start_time": "2021-09-23T18:41:59.029Z"
   },
   {
    "duration": -113,
    "start_time": "2021-09-23T18:41:59.033Z"
   },
   {
    "duration": -116,
    "start_time": "2021-09-23T18:41:59.037Z"
   },
   {
    "duration": -118,
    "start_time": "2021-09-23T18:41:59.041Z"
   },
   {
    "duration": -120,
    "start_time": "2021-09-23T18:41:59.044Z"
   },
   {
    "duration": -123,
    "start_time": "2021-09-23T18:41:59.048Z"
   },
   {
    "duration": -133,
    "start_time": "2021-09-23T18:41:59.059Z"
   },
   {
    "duration": -135,
    "start_time": "2021-09-23T18:41:59.063Z"
   },
   {
    "duration": -137,
    "start_time": "2021-09-23T18:41:59.066Z"
   },
   {
    "duration": 3,
    "start_time": "2021-09-23T18:43:06.412Z"
   },
   {
    "duration": 4,
    "start_time": "2021-09-23T18:43:17.589Z"
   },
   {
    "duration": 553,
    "start_time": "2021-09-23T18:43:17.596Z"
   },
   {
    "duration": 28,
    "start_time": "2021-09-23T18:43:18.152Z"
   },
   {
    "duration": 18,
    "start_time": "2021-09-23T18:43:18.183Z"
   },
   {
    "duration": 34,
    "start_time": "2021-09-23T18:43:18.204Z"
   },
   {
    "duration": 40,
    "start_time": "2021-09-23T18:43:18.240Z"
   },
   {
    "duration": 25,
    "start_time": "2021-09-23T18:43:18.284Z"
   },
   {
    "duration": 24,
    "start_time": "2021-09-23T18:43:18.313Z"
   },
   {
    "duration": 39,
    "start_time": "2021-09-23T18:43:18.340Z"
   },
   {
    "duration": 17,
    "start_time": "2021-09-23T18:43:18.381Z"
   },
   {
    "duration": 37,
    "start_time": "2021-09-23T18:43:18.400Z"
   },
   {
    "duration": 12,
    "start_time": "2021-09-23T18:43:18.440Z"
   },
   {
    "duration": 14,
    "start_time": "2021-09-23T18:43:18.468Z"
   },
   {
    "duration": 18,
    "start_time": "2021-09-23T18:43:18.484Z"
   },
   {
    "duration": 17,
    "start_time": "2021-09-23T18:43:18.504Z"
   },
   {
    "duration": 32,
    "start_time": "2021-09-23T18:43:18.523Z"
   },
   {
    "duration": 26,
    "start_time": "2021-09-23T18:43:18.557Z"
   },
   {
    "duration": 226,
    "start_time": "2021-09-23T18:43:18.585Z"
   },
   {
    "duration": 151,
    "start_time": "2021-09-23T18:43:18.818Z"
   },
   {
    "duration": 24,
    "start_time": "2021-09-23T18:43:18.972Z"
   },
   {
    "duration": 299,
    "start_time": "2021-09-23T18:43:18.998Z"
   },
   {
    "duration": 86,
    "start_time": "2021-09-23T18:43:19.299Z"
   },
   {
    "duration": 142,
    "start_time": "2021-09-23T18:43:19.387Z"
   },
   {
    "duration": 86,
    "start_time": "2021-09-23T18:43:19.531Z"
   },
   {
    "duration": 16,
    "start_time": "2021-09-23T18:43:19.620Z"
   },
   {
    "duration": 114,
    "start_time": "2021-09-23T18:43:19.638Z"
   },
   {
    "duration": 415,
    "start_time": "2021-09-23T18:43:19.754Z"
   },
   {
    "duration": 13,
    "start_time": "2021-09-23T18:43:20.172Z"
   },
   {
    "duration": 19,
    "start_time": "2021-09-23T18:43:20.188Z"
   },
   {
    "duration": 342,
    "start_time": "2021-09-23T18:43:20.210Z"
   },
   {
    "duration": 333,
    "start_time": "2021-09-23T18:43:20.555Z"
   },
   {
    "duration": 5,
    "start_time": "2021-09-23T18:43:20.891Z"
   },
   {
    "duration": 12,
    "start_time": "2021-09-23T18:43:20.898Z"
   },
   {
    "duration": 11,
    "start_time": "2021-09-23T18:43:20.913Z"
   },
   {
    "duration": 379,
    "start_time": "2021-09-23T18:43:20.927Z"
   },
   {
    "duration": 14,
    "start_time": "2021-09-23T18:43:21.309Z"
   },
   {
    "duration": 45,
    "start_time": "2021-09-23T18:43:21.326Z"
   },
   {
    "duration": 336,
    "start_time": "2021-09-23T18:43:21.374Z"
   },
   {
    "duration": 5,
    "start_time": "2021-09-23T18:43:21.713Z"
   },
   {
    "duration": 16,
    "start_time": "2021-09-23T18:43:21.721Z"
   },
   {
    "duration": 36,
    "start_time": "2021-09-23T18:43:21.740Z"
   },
   {
    "duration": 1825,
    "start_time": "2021-09-23T18:44:12.506Z"
   },
   {
    "duration": 29,
    "start_time": "2021-09-23T18:44:14.333Z"
   },
   {
    "duration": 15,
    "start_time": "2021-09-23T18:44:14.365Z"
   },
   {
    "duration": 27,
    "start_time": "2021-09-23T18:44:14.383Z"
   },
   {
    "duration": 26,
    "start_time": "2021-09-23T18:44:14.412Z"
   },
   {
    "duration": 37,
    "start_time": "2021-09-23T18:44:14.441Z"
   },
   {
    "duration": 31,
    "start_time": "2021-09-23T18:44:14.480Z"
   },
   {
    "duration": 19,
    "start_time": "2021-09-23T18:44:14.515Z"
   },
   {
    "duration": 36,
    "start_time": "2021-09-23T18:44:14.537Z"
   },
   {
    "duration": 19,
    "start_time": "2021-09-23T18:44:14.576Z"
   },
   {
    "duration": 10,
    "start_time": "2021-09-23T18:44:14.597Z"
   },
   {
    "duration": 14,
    "start_time": "2021-09-23T18:44:14.609Z"
   },
   {
    "duration": 42,
    "start_time": "2021-09-23T18:44:14.626Z"
   },
   {
    "duration": 12,
    "start_time": "2021-09-23T18:44:14.671Z"
   },
   {
    "duration": 19,
    "start_time": "2021-09-23T18:44:14.685Z"
   },
   {
    "duration": 9,
    "start_time": "2021-09-23T18:44:14.706Z"
   },
   {
    "duration": 253,
    "start_time": "2021-09-23T18:44:14.717Z"
   },
   {
    "duration": 161,
    "start_time": "2021-09-23T18:44:14.972Z"
   },
   {
    "duration": 38,
    "start_time": "2021-09-23T18:44:15.135Z"
   },
   {
    "duration": 193,
    "start_time": "2021-09-23T18:44:15.175Z"
   },
   {
    "duration": 95,
    "start_time": "2021-09-23T18:44:15.371Z"
   },
   {
    "duration": 147,
    "start_time": "2021-09-23T18:44:15.469Z"
   },
   {
    "duration": 87,
    "start_time": "2021-09-23T18:44:15.623Z"
   },
   {
    "duration": 15,
    "start_time": "2021-09-23T18:44:15.713Z"
   },
   {
    "duration": 113,
    "start_time": "2021-09-23T18:44:15.730Z"
   },
   {
    "duration": 744,
    "start_time": "2021-09-23T18:44:15.845Z"
   },
   {
    "duration": -105,
    "start_time": "2021-09-23T18:44:16.696Z"
   },
   {
    "duration": -107,
    "start_time": "2021-09-23T18:44:16.700Z"
   },
   {
    "duration": -108,
    "start_time": "2021-09-23T18:44:16.704Z"
   },
   {
    "duration": -111,
    "start_time": "2021-09-23T18:44:16.709Z"
   },
   {
    "duration": -114,
    "start_time": "2021-09-23T18:44:16.714Z"
   },
   {
    "duration": -117,
    "start_time": "2021-09-23T18:44:16.718Z"
   },
   {
    "duration": -120,
    "start_time": "2021-09-23T18:44:16.723Z"
   },
   {
    "duration": -123,
    "start_time": "2021-09-23T18:44:16.727Z"
   },
   {
    "duration": -126,
    "start_time": "2021-09-23T18:44:16.732Z"
   },
   {
    "duration": -127,
    "start_time": "2021-09-23T18:44:16.735Z"
   },
   {
    "duration": -129,
    "start_time": "2021-09-23T18:44:16.739Z"
   },
   {
    "duration": -131,
    "start_time": "2021-09-23T18:44:16.742Z"
   },
   {
    "duration": -133,
    "start_time": "2021-09-23T18:44:16.746Z"
   },
   {
    "duration": -138,
    "start_time": "2021-09-23T18:44:16.752Z"
   },
   {
    "duration": 1834,
    "start_time": "2021-09-23T19:23:20.986Z"
   },
   {
    "duration": 542,
    "start_time": "2021-09-23T19:23:44.861Z"
   },
   {
    "duration": 28,
    "start_time": "2021-09-23T19:23:45.452Z"
   },
   {
    "duration": 15,
    "start_time": "2021-09-23T19:23:45.701Z"
   },
   {
    "duration": 26,
    "start_time": "2021-09-23T19:23:45.899Z"
   },
   {
    "duration": 23,
    "start_time": "2021-09-23T19:23:46.581Z"
   },
   {
    "duration": 13,
    "start_time": "2021-09-23T19:23:46.782Z"
   },
   {
    "duration": 21,
    "start_time": "2021-09-23T19:23:47.014Z"
   },
   {
    "duration": 19,
    "start_time": "2021-09-23T19:23:47.746Z"
   },
   {
    "duration": 10,
    "start_time": "2021-09-23T19:23:47.987Z"
   },
   {
    "duration": 20,
    "start_time": "2021-09-23T19:23:48.235Z"
   },
   {
    "duration": 10,
    "start_time": "2021-09-23T19:23:48.950Z"
   },
   {
    "duration": 12,
    "start_time": "2021-09-23T19:23:49.191Z"
   },
   {
    "duration": 9,
    "start_time": "2021-09-23T19:23:49.464Z"
   },
   {
    "duration": 10,
    "start_time": "2021-09-23T19:23:50.211Z"
   },
   {
    "duration": 14,
    "start_time": "2021-09-23T19:23:50.461Z"
   },
   {
    "duration": 7,
    "start_time": "2021-09-23T19:23:50.713Z"
   },
   {
    "duration": 203,
    "start_time": "2021-09-23T19:23:52.068Z"
   },
   {
    "duration": 148,
    "start_time": "2021-09-23T19:23:52.608Z"
   },
   {
    "duration": 33,
    "start_time": "2021-09-23T19:23:52.902Z"
   },
   {
    "duration": 264,
    "start_time": "2021-09-23T19:23:53.914Z"
   },
   {
    "duration": 107,
    "start_time": "2021-09-23T19:23:54.900Z"
   },
   {
    "duration": 208,
    "start_time": "2021-09-23T19:23:55.602Z"
   },
   {
    "duration": 72,
    "start_time": "2021-09-23T19:23:56.211Z"
   },
   {
    "duration": 16,
    "start_time": "2021-09-23T19:23:56.787Z"
   },
   {
    "duration": 102,
    "start_time": "2021-09-23T19:23:57.662Z"
   },
   {
    "duration": 379,
    "start_time": "2021-09-23T19:23:58.714Z"
   },
   {
    "duration": 70,
    "start_time": "2021-09-23T19:24:03.923Z"
   },
   {
    "duration": 18,
    "start_time": "2021-09-23T19:24:04.639Z"
   },
   {
    "duration": 92,
    "start_time": "2021-09-23T19:24:06.499Z"
   },
   {
    "duration": 355,
    "start_time": "2021-09-23T19:24:07.865Z"
   },
   {
    "duration": 12,
    "start_time": "2021-09-23T19:24:09.809Z"
   },
   {
    "duration": 12,
    "start_time": "2021-09-23T19:24:10.263Z"
   },
   {
    "duration": 470,
    "start_time": "2021-09-23T19:24:10.960Z"
   },
   {
    "duration": 349,
    "start_time": "2021-09-23T19:24:11.668Z"
   },
   {
    "duration": 6,
    "start_time": "2021-09-23T19:24:12.062Z"
   },
   {
    "duration": 12,
    "start_time": "2021-09-23T19:24:13.109Z"
   },
   {
    "duration": 13,
    "start_time": "2021-09-23T19:24:13.459Z"
   },
   {
    "duration": 325,
    "start_time": "2021-09-23T19:24:14.174Z"
   },
   {
    "duration": 12,
    "start_time": "2021-09-23T19:24:15.677Z"
   },
   {
    "duration": 12,
    "start_time": "2021-09-23T19:24:16.335Z"
   },
   {
    "duration": 315,
    "start_time": "2021-09-23T19:24:17.369Z"
   },
   {
    "duration": 5,
    "start_time": "2021-09-23T19:24:19.106Z"
   },
   {
    "duration": 13,
    "start_time": "2021-09-23T19:24:21.795Z"
   },
   {
    "duration": 24,
    "start_time": "2021-09-23T19:24:23.225Z"
   },
   {
    "duration": 507,
    "start_time": "2021-09-23T19:25:36.624Z"
   },
   {
    "duration": 28,
    "start_time": "2021-09-23T19:25:37.279Z"
   },
   {
    "duration": 1469,
    "start_time": "2021-09-24T11:37:47.154Z"
   },
   {
    "duration": 21,
    "start_time": "2021-09-24T11:37:48.625Z"
   },
   {
    "duration": 10,
    "start_time": "2021-09-24T11:37:48.648Z"
   },
   {
    "duration": 21,
    "start_time": "2021-09-24T11:37:48.660Z"
   },
   {
    "duration": 16,
    "start_time": "2021-09-24T11:37:48.682Z"
   },
   {
    "duration": 8,
    "start_time": "2021-09-24T11:37:48.700Z"
   },
   {
    "duration": 45,
    "start_time": "2021-09-24T11:37:48.709Z"
   },
   {
    "duration": 14,
    "start_time": "2021-09-24T11:37:48.756Z"
   },
   {
    "duration": 7,
    "start_time": "2021-09-24T11:37:48.772Z"
   },
   {
    "duration": 14,
    "start_time": "2021-09-24T11:37:48.780Z"
   },
   {
    "duration": 6,
    "start_time": "2021-09-24T11:37:48.796Z"
   },
   {
    "duration": 14,
    "start_time": "2021-09-24T11:37:48.803Z"
   },
   {
    "duration": 32,
    "start_time": "2021-09-24T11:37:48.818Z"
   },
   {
    "duration": 11,
    "start_time": "2021-09-24T11:37:48.852Z"
   },
   {
    "duration": 18,
    "start_time": "2021-09-24T11:37:48.865Z"
   },
   {
    "duration": 11,
    "start_time": "2021-09-24T11:37:48.885Z"
   },
   {
    "duration": 139,
    "start_time": "2021-09-24T11:37:48.898Z"
   },
   {
    "duration": 110,
    "start_time": "2021-09-24T11:37:49.039Z"
   },
   {
    "duration": 14,
    "start_time": "2021-09-24T11:37:49.151Z"
   },
   {
    "duration": 115,
    "start_time": "2021-09-24T11:37:49.166Z"
   },
   {
    "duration": 62,
    "start_time": "2021-09-24T11:37:49.283Z"
   },
   {
    "duration": 121,
    "start_time": "2021-09-24T11:37:49.347Z"
   },
   {
    "duration": 63,
    "start_time": "2021-09-24T11:37:49.472Z"
   },
   {
    "duration": 14,
    "start_time": "2021-09-24T11:37:49.545Z"
   },
   {
    "duration": 84,
    "start_time": "2021-09-24T11:37:49.561Z"
   },
   {
    "duration": 212,
    "start_time": "2021-09-24T11:37:49.647Z"
   },
   {
    "duration": 7,
    "start_time": "2021-09-24T11:37:49.861Z"
   },
   {
    "duration": 10,
    "start_time": "2021-09-24T11:37:49.870Z"
   },
   {
    "duration": 201,
    "start_time": "2021-09-24T11:37:49.882Z"
   },
   {
    "duration": 191,
    "start_time": "2021-09-24T11:37:50.085Z"
   },
   {
    "duration": 4,
    "start_time": "2021-09-24T11:37:50.277Z"
   },
   {
    "duration": 18,
    "start_time": "2021-09-24T11:37:50.283Z"
   },
   {
    "duration": 8,
    "start_time": "2021-09-24T11:37:50.303Z"
   },
   {
    "duration": 195,
    "start_time": "2021-09-24T11:37:50.313Z"
   },
   {
    "duration": 7,
    "start_time": "2021-09-24T11:37:50.510Z"
   },
   {
    "duration": 7,
    "start_time": "2021-09-24T11:37:50.519Z"
   },
   {
    "duration": 201,
    "start_time": "2021-09-24T11:37:50.528Z"
   },
   {
    "duration": 4,
    "start_time": "2021-09-24T11:37:50.730Z"
   },
   {
    "duration": 19,
    "start_time": "2021-09-24T11:37:50.736Z"
   },
   {
    "duration": 20,
    "start_time": "2021-09-24T11:37:50.756Z"
   },
   {
    "duration": 1469,
    "start_time": "2021-09-25T02:34:23.580Z"
   },
   {
    "duration": 21,
    "start_time": "2021-09-25T02:34:25.149Z"
   },
   {
    "duration": 10,
    "start_time": "2021-09-25T02:34:25.979Z"
   },
   {
    "duration": 19,
    "start_time": "2021-09-25T02:34:26.426Z"
   },
   {
    "duration": 51,
    "start_time": "2021-09-25T02:34:59.648Z"
   },
   {
    "duration": 50,
    "start_time": "2021-09-25T02:35:08.091Z"
   },
   {
    "duration": 885,
    "start_time": "2021-09-25T02:35:45.283Z"
   },
   {
    "duration": 13,
    "start_time": "2021-09-25T02:36:14.320Z"
   },
   {
    "duration": 13,
    "start_time": "2021-09-25T02:36:23.178Z"
   },
   {
    "duration": 17,
    "start_time": "2021-09-25T02:41:35.377Z"
   },
   {
    "duration": 200,
    "start_time": "2021-09-25T04:24:32.711Z"
   },
   {
    "duration": 9,
    "start_time": "2021-09-25T04:25:56.806Z"
   },
   {
    "duration": 11,
    "start_time": "2021-09-25T04:27:07.139Z"
   },
   {
    "duration": 686,
    "start_time": "2021-09-25T04:29:32.124Z"
   },
   {
    "duration": 101,
    "start_time": "2021-09-25T04:33:02.129Z"
   },
   {
    "duration": 14,
    "start_time": "2021-09-25T04:33:10.781Z"
   },
   {
    "duration": 278,
    "start_time": "2021-09-25T04:34:00.385Z"
   },
   {
    "duration": 274,
    "start_time": "2021-09-25T04:34:16.359Z"
   },
   {
    "duration": 268,
    "start_time": "2021-09-25T04:34:54.806Z"
   },
   {
    "duration": 256,
    "start_time": "2021-09-25T04:35:08.903Z"
   },
   {
    "duration": 9,
    "start_time": "2021-09-25T04:35:38.564Z"
   },
   {
    "duration": 1044,
    "start_time": "2021-09-25T14:36:19.794Z"
   },
   {
    "duration": 2275,
    "start_time": "2021-09-25T14:36:20.840Z"
   },
   {
    "duration": -103,
    "start_time": "2021-09-25T14:36:23.221Z"
   },
   {
    "duration": -108,
    "start_time": "2021-09-25T14:36:23.227Z"
   },
   {
    "duration": -113,
    "start_time": "2021-09-25T14:36:23.233Z"
   },
   {
    "duration": -120,
    "start_time": "2021-09-25T14:36:23.241Z"
   },
   {
    "duration": -125,
    "start_time": "2021-09-25T14:36:23.247Z"
   },
   {
    "duration": -129,
    "start_time": "2021-09-25T14:36:23.252Z"
   },
   {
    "duration": -133,
    "start_time": "2021-09-25T14:36:23.257Z"
   },
   {
    "duration": -138,
    "start_time": "2021-09-25T14:36:23.263Z"
   },
   {
    "duration": -143,
    "start_time": "2021-09-25T14:36:23.269Z"
   },
   {
    "duration": -147,
    "start_time": "2021-09-25T14:36:23.274Z"
   },
   {
    "duration": -150,
    "start_time": "2021-09-25T14:36:23.279Z"
   },
   {
    "duration": -155,
    "start_time": "2021-09-25T14:36:23.285Z"
   },
   {
    "duration": -159,
    "start_time": "2021-09-25T14:36:23.289Z"
   },
   {
    "duration": -172,
    "start_time": "2021-09-25T14:36:23.304Z"
   },
   {
    "duration": -175,
    "start_time": "2021-09-25T14:36:23.308Z"
   },
   {
    "duration": -182,
    "start_time": "2021-09-25T14:36:23.315Z"
   },
   {
    "duration": -187,
    "start_time": "2021-09-25T14:36:23.322Z"
   },
   {
    "duration": -191,
    "start_time": "2021-09-25T14:36:23.327Z"
   },
   {
    "duration": -195,
    "start_time": "2021-09-25T14:36:23.332Z"
   },
   {
    "duration": -199,
    "start_time": "2021-09-25T14:36:23.337Z"
   },
   {
    "duration": -203,
    "start_time": "2021-09-25T14:36:23.342Z"
   },
   {
    "duration": -206,
    "start_time": "2021-09-25T14:36:23.346Z"
   },
   {
    "duration": -211,
    "start_time": "2021-09-25T14:36:23.352Z"
   },
   {
    "duration": -216,
    "start_time": "2021-09-25T14:36:23.358Z"
   },
   {
    "duration": -219,
    "start_time": "2021-09-25T14:36:23.362Z"
   },
   {
    "duration": -223,
    "start_time": "2021-09-25T14:36:23.367Z"
   },
   {
    "duration": -226,
    "start_time": "2021-09-25T14:36:23.371Z"
   },
   {
    "duration": -231,
    "start_time": "2021-09-25T14:36:23.377Z"
   },
   {
    "duration": -234,
    "start_time": "2021-09-25T14:36:23.381Z"
   },
   {
    "duration": -237,
    "start_time": "2021-09-25T14:36:23.385Z"
   },
   {
    "duration": -241,
    "start_time": "2021-09-25T14:36:23.390Z"
   },
   {
    "duration": -244,
    "start_time": "2021-09-25T14:36:23.394Z"
   },
   {
    "duration": -248,
    "start_time": "2021-09-25T14:36:23.399Z"
   },
   {
    "duration": -262,
    "start_time": "2021-09-25T14:36:23.414Z"
   },
   {
    "duration": -266,
    "start_time": "2021-09-25T14:36:23.419Z"
   },
   {
    "duration": -270,
    "start_time": "2021-09-25T14:36:23.424Z"
   },
   {
    "duration": -273,
    "start_time": "2021-09-25T14:36:23.428Z"
   },
   {
    "duration": -277,
    "start_time": "2021-09-25T14:36:23.433Z"
   },
   {
    "duration": -281,
    "start_time": "2021-09-25T14:36:23.438Z"
   },
   {
    "duration": -285,
    "start_time": "2021-09-25T14:36:23.443Z"
   },
   {
    "duration": 1923,
    "start_time": "2021-09-25T14:38:46.095Z"
   },
   {
    "duration": -162,
    "start_time": "2021-09-25T14:38:48.183Z"
   },
   {
    "duration": -176,
    "start_time": "2021-09-25T14:38:48.198Z"
   },
   {
    "duration": -186,
    "start_time": "2021-09-25T14:38:48.209Z"
   },
   {
    "duration": -196,
    "start_time": "2021-09-25T14:38:48.220Z"
   },
   {
    "duration": -206,
    "start_time": "2021-09-25T14:38:48.231Z"
   },
   {
    "duration": -212,
    "start_time": "2021-09-25T14:38:48.238Z"
   },
   {
    "duration": -222,
    "start_time": "2021-09-25T14:38:48.249Z"
   },
   {
    "duration": -227,
    "start_time": "2021-09-25T14:38:48.255Z"
   },
   {
    "duration": -232,
    "start_time": "2021-09-25T14:38:48.261Z"
   },
   {
    "duration": -236,
    "start_time": "2021-09-25T14:38:48.266Z"
   },
   {
    "duration": -241,
    "start_time": "2021-09-25T14:38:48.272Z"
   },
   {
    "duration": -246,
    "start_time": "2021-09-25T14:38:48.278Z"
   },
   {
    "duration": -249,
    "start_time": "2021-09-25T14:38:48.282Z"
   },
   {
    "duration": -254,
    "start_time": "2021-09-25T14:38:48.288Z"
   },
   {
    "duration": -260,
    "start_time": "2021-09-25T14:38:48.294Z"
   },
   {
    "duration": -263,
    "start_time": "2021-09-25T14:38:48.298Z"
   },
   {
    "duration": -269,
    "start_time": "2021-09-25T14:38:48.305Z"
   },
   {
    "duration": -279,
    "start_time": "2021-09-25T14:38:48.316Z"
   },
   {
    "duration": -284,
    "start_time": "2021-09-25T14:38:48.322Z"
   },
   {
    "duration": -290,
    "start_time": "2021-09-25T14:38:48.329Z"
   },
   {
    "duration": -294,
    "start_time": "2021-09-25T14:38:48.334Z"
   },
   {
    "duration": -300,
    "start_time": "2021-09-25T14:38:48.341Z"
   },
   {
    "duration": -305,
    "start_time": "2021-09-25T14:38:48.347Z"
   },
   {
    "duration": -309,
    "start_time": "2021-09-25T14:38:48.352Z"
   },
   {
    "duration": -317,
    "start_time": "2021-09-25T14:38:48.361Z"
   },
   {
    "duration": -321,
    "start_time": "2021-09-25T14:38:48.366Z"
   },
   {
    "duration": -328,
    "start_time": "2021-09-25T14:38:48.374Z"
   },
   {
    "duration": -333,
    "start_time": "2021-09-25T14:38:48.380Z"
   },
   {
    "duration": -337,
    "start_time": "2021-09-25T14:38:48.385Z"
   },
   {
    "duration": -343,
    "start_time": "2021-09-25T14:38:48.392Z"
   },
   {
    "duration": -349,
    "start_time": "2021-09-25T14:38:48.398Z"
   },
   {
    "duration": -353,
    "start_time": "2021-09-25T14:38:48.403Z"
   },
   {
    "duration": -360,
    "start_time": "2021-09-25T14:38:48.411Z"
   },
   {
    "duration": -365,
    "start_time": "2021-09-25T14:38:48.417Z"
   },
   {
    "duration": -370,
    "start_time": "2021-09-25T14:38:48.423Z"
   },
   {
    "duration": -375,
    "start_time": "2021-09-25T14:38:48.429Z"
   },
   {
    "duration": -379,
    "start_time": "2021-09-25T14:38:48.434Z"
   },
   {
    "duration": -384,
    "start_time": "2021-09-25T14:38:48.440Z"
   },
   {
    "duration": -390,
    "start_time": "2021-09-25T14:38:48.447Z"
   },
   {
    "duration": -393,
    "start_time": "2021-09-25T14:38:48.451Z"
   },
   {
    "duration": -399,
    "start_time": "2021-09-25T14:38:48.458Z"
   },
   {
    "duration": 1881,
    "start_time": "2021-09-25T14:39:02.748Z"
   },
   {
    "duration": 1892,
    "start_time": "2021-09-25T14:39:28.465Z"
   },
   {
    "duration": 1895,
    "start_time": "2021-09-25T14:40:48.456Z"
   },
   {
    "duration": 1130,
    "start_time": "2021-09-25T14:42:06.210Z"
   },
   {
    "duration": 2013,
    "start_time": "2021-09-25T14:42:07.342Z"
   },
   {
    "duration": -116,
    "start_time": "2021-09-25T14:42:09.475Z"
   },
   {
    "duration": -120,
    "start_time": "2021-09-25T14:42:09.480Z"
   },
   {
    "duration": -127,
    "start_time": "2021-09-25T14:42:09.488Z"
   },
   {
    "duration": -163,
    "start_time": "2021-09-25T14:42:09.524Z"
   },
   {
    "duration": -166,
    "start_time": "2021-09-25T14:42:09.529Z"
   },
   {
    "duration": -173,
    "start_time": "2021-09-25T14:42:09.537Z"
   },
   {
    "duration": -197,
    "start_time": "2021-09-25T14:42:09.562Z"
   },
   {
    "duration": -204,
    "start_time": "2021-09-25T14:42:09.570Z"
   },
   {
    "duration": -226,
    "start_time": "2021-09-25T14:42:09.593Z"
   },
   {
    "duration": -231,
    "start_time": "2021-09-25T14:42:09.599Z"
   },
   {
    "duration": -259,
    "start_time": "2021-09-25T14:42:09.628Z"
   },
   {
    "duration": -266,
    "start_time": "2021-09-25T14:42:09.637Z"
   },
   {
    "duration": -288,
    "start_time": "2021-09-25T14:42:09.660Z"
   },
   {
    "duration": -297,
    "start_time": "2021-09-25T14:42:09.670Z"
   },
   {
    "duration": -301,
    "start_time": "2021-09-25T14:42:09.675Z"
   },
   {
    "duration": -307,
    "start_time": "2021-09-25T14:42:09.682Z"
   },
   {
    "duration": -313,
    "start_time": "2021-09-25T14:42:09.689Z"
   },
   {
    "duration": -317,
    "start_time": "2021-09-25T14:42:09.694Z"
   },
   {
    "duration": -325,
    "start_time": "2021-09-25T14:42:09.703Z"
   },
   {
    "duration": -350,
    "start_time": "2021-09-25T14:42:09.729Z"
   },
   {
    "duration": -355,
    "start_time": "2021-09-25T14:42:09.735Z"
   },
   {
    "duration": -376,
    "start_time": "2021-09-25T14:42:09.757Z"
   },
   {
    "duration": -387,
    "start_time": "2021-09-25T14:42:09.769Z"
   },
   {
    "duration": -401,
    "start_time": "2021-09-25T14:42:09.784Z"
   },
   {
    "duration": -413,
    "start_time": "2021-09-25T14:42:09.797Z"
   },
   {
    "duration": -424,
    "start_time": "2021-09-25T14:42:09.809Z"
   },
   {
    "duration": -430,
    "start_time": "2021-09-25T14:42:09.816Z"
   },
   {
    "duration": -435,
    "start_time": "2021-09-25T14:42:09.822Z"
   },
   {
    "duration": -439,
    "start_time": "2021-09-25T14:42:09.827Z"
   },
   {
    "duration": -444,
    "start_time": "2021-09-25T14:42:09.833Z"
   },
   {
    "duration": -448,
    "start_time": "2021-09-25T14:42:09.838Z"
   },
   {
    "duration": -452,
    "start_time": "2021-09-25T14:42:09.843Z"
   },
   {
    "duration": -456,
    "start_time": "2021-09-25T14:42:09.848Z"
   },
   {
    "duration": -461,
    "start_time": "2021-09-25T14:42:09.854Z"
   },
   {
    "duration": -465,
    "start_time": "2021-09-25T14:42:09.859Z"
   },
   {
    "duration": -469,
    "start_time": "2021-09-25T14:42:09.864Z"
   },
   {
    "duration": -473,
    "start_time": "2021-09-25T14:42:09.869Z"
   },
   {
    "duration": -477,
    "start_time": "2021-09-25T14:42:09.874Z"
   },
   {
    "duration": -483,
    "start_time": "2021-09-25T14:42:09.880Z"
   },
   {
    "duration": -488,
    "start_time": "2021-09-25T14:42:09.886Z"
   },
   {
    "duration": -492,
    "start_time": "2021-09-25T14:42:09.891Z"
   },
   {
    "duration": 2235,
    "start_time": "2021-09-25T14:42:17.898Z"
   },
   {
    "duration": -146,
    "start_time": "2021-09-25T14:42:20.282Z"
   },
   {
    "duration": -151,
    "start_time": "2021-09-25T14:42:20.288Z"
   },
   {
    "duration": -156,
    "start_time": "2021-09-25T14:42:20.294Z"
   },
   {
    "duration": -161,
    "start_time": "2021-09-25T14:42:20.300Z"
   },
   {
    "duration": -166,
    "start_time": "2021-09-25T14:42:20.306Z"
   },
   {
    "duration": -172,
    "start_time": "2021-09-25T14:42:20.313Z"
   },
   {
    "duration": -181,
    "start_time": "2021-09-25T14:42:20.323Z"
   },
   {
    "duration": -186,
    "start_time": "2021-09-25T14:42:20.329Z"
   },
   {
    "duration": -190,
    "start_time": "2021-09-25T14:42:20.334Z"
   },
   {
    "duration": -194,
    "start_time": "2021-09-25T14:42:20.339Z"
   },
   {
    "duration": -198,
    "start_time": "2021-09-25T14:42:20.344Z"
   },
   {
    "duration": -203,
    "start_time": "2021-09-25T14:42:20.349Z"
   },
   {
    "duration": -206,
    "start_time": "2021-09-25T14:42:20.353Z"
   },
   {
    "duration": -209,
    "start_time": "2021-09-25T14:42:20.358Z"
   },
   {
    "duration": -212,
    "start_time": "2021-09-25T14:42:20.362Z"
   },
   {
    "duration": -216,
    "start_time": "2021-09-25T14:42:20.366Z"
   },
   {
    "duration": -220,
    "start_time": "2021-09-25T14:42:20.371Z"
   },
   {
    "duration": -246,
    "start_time": "2021-09-25T14:42:20.399Z"
   },
   {
    "duration": -254,
    "start_time": "2021-09-25T14:42:20.407Z"
   },
   {
    "duration": -264,
    "start_time": "2021-09-25T14:42:20.420Z"
   },
   {
    "duration": -275,
    "start_time": "2021-09-25T14:42:20.432Z"
   },
   {
    "duration": -288,
    "start_time": "2021-09-25T14:42:20.446Z"
   },
   {
    "duration": -300,
    "start_time": "2021-09-25T14:42:20.459Z"
   },
   {
    "duration": -312,
    "start_time": "2021-09-25T14:42:20.472Z"
   },
   {
    "duration": -316,
    "start_time": "2021-09-25T14:42:20.477Z"
   },
   {
    "duration": -323,
    "start_time": "2021-09-25T14:42:20.485Z"
   },
   {
    "duration": -335,
    "start_time": "2021-09-25T14:42:20.498Z"
   },
   {
    "duration": -341,
    "start_time": "2021-09-25T14:42:20.505Z"
   },
   {
    "duration": -353,
    "start_time": "2021-09-25T14:42:20.518Z"
   },
   {
    "duration": -357,
    "start_time": "2021-09-25T14:42:20.524Z"
   },
   {
    "duration": -360,
    "start_time": "2021-09-25T14:42:20.528Z"
   },
   {
    "duration": -364,
    "start_time": "2021-09-25T14:42:20.533Z"
   },
   {
    "duration": -368,
    "start_time": "2021-09-25T14:42:20.538Z"
   },
   {
    "duration": -372,
    "start_time": "2021-09-25T14:42:20.543Z"
   },
   {
    "duration": -374,
    "start_time": "2021-09-25T14:42:20.547Z"
   },
   {
    "duration": -378,
    "start_time": "2021-09-25T14:42:20.552Z"
   },
   {
    "duration": -382,
    "start_time": "2021-09-25T14:42:20.557Z"
   },
   {
    "duration": -386,
    "start_time": "2021-09-25T14:42:20.561Z"
   },
   {
    "duration": -389,
    "start_time": "2021-09-25T14:42:20.565Z"
   },
   {
    "duration": -393,
    "start_time": "2021-09-25T14:42:20.570Z"
   },
   {
    "duration": -397,
    "start_time": "2021-09-25T14:42:20.575Z"
   },
   {
    "duration": 401,
    "start_time": "2021-09-25T14:42:29.220Z"
   },
   {
    "duration": 24,
    "start_time": "2021-09-25T14:42:34.726Z"
   },
   {
    "duration": 12,
    "start_time": "2021-09-25T14:42:34.752Z"
   },
   {
    "duration": 21,
    "start_time": "2021-09-25T14:42:34.767Z"
   },
   {
    "duration": 13,
    "start_time": "2021-09-25T14:42:34.790Z"
   },
   {
    "duration": 57,
    "start_time": "2021-09-25T14:42:34.805Z"
   },
   {
    "duration": 8,
    "start_time": "2021-09-25T14:42:34.865Z"
   },
   {
    "duration": 21,
    "start_time": "2021-09-25T14:42:34.875Z"
   },
   {
    "duration": 17,
    "start_time": "2021-09-25T14:42:34.899Z"
   },
   {
    "duration": 20,
    "start_time": "2021-09-25T14:42:34.951Z"
   },
   {
    "duration": 8,
    "start_time": "2021-09-25T14:42:34.973Z"
   },
   {
    "duration": 23,
    "start_time": "2021-09-25T14:42:34.983Z"
   },
   {
    "duration": 13,
    "start_time": "2021-09-25T14:42:35.008Z"
   },
   {
    "duration": 27,
    "start_time": "2021-09-25T14:42:35.023Z"
   },
   {
    "duration": 5,
    "start_time": "2021-09-25T14:42:35.052Z"
   },
   {
    "duration": 19,
    "start_time": "2021-09-25T14:42:35.059Z"
   },
   {
    "duration": 19,
    "start_time": "2021-09-25T14:42:35.079Z"
   },
   {
    "duration": 9,
    "start_time": "2021-09-25T14:42:35.100Z"
   },
   {
    "duration": 195,
    "start_time": "2021-09-25T14:42:35.111Z"
   },
   {
    "duration": 115,
    "start_time": "2021-09-25T14:42:35.308Z"
   },
   {
    "duration": 14,
    "start_time": "2021-09-25T14:42:35.425Z"
   },
   {
    "duration": 142,
    "start_time": "2021-09-25T14:42:35.440Z"
   },
   {
    "duration": 66,
    "start_time": "2021-09-25T14:42:35.585Z"
   },
   {
    "duration": 93,
    "start_time": "2021-09-25T14:42:35.656Z"
   },
   {
    "duration": 53,
    "start_time": "2021-09-25T14:42:35.751Z"
   },
   {
    "duration": 12,
    "start_time": "2021-09-25T14:42:35.806Z"
   },
   {
    "duration": 94,
    "start_time": "2021-09-25T14:42:35.819Z"
   },
   {
    "duration": 221,
    "start_time": "2021-09-25T14:42:35.915Z"
   },
   {
    "duration": 31,
    "start_time": "2021-09-25T14:42:36.138Z"
   },
   {
    "duration": 9,
    "start_time": "2021-09-25T14:42:36.171Z"
   },
   {
    "duration": 223,
    "start_time": "2021-09-25T14:42:36.181Z"
   },
   {
    "duration": 7,
    "start_time": "2021-09-25T14:42:36.406Z"
   },
   {
    "duration": 11,
    "start_time": "2021-09-25T14:42:36.414Z"
   },
   {
    "duration": 26,
    "start_time": "2021-09-25T14:42:36.427Z"
   },
   {
    "duration": 223,
    "start_time": "2021-09-25T14:42:36.455Z"
   },
   {
    "duration": 9,
    "start_time": "2021-09-25T14:42:36.680Z"
   },
   {
    "duration": 15,
    "start_time": "2021-09-25T14:42:36.691Z"
   },
   {
    "duration": 220,
    "start_time": "2021-09-25T14:42:36.708Z"
   },
   {
    "duration": 4,
    "start_time": "2021-09-25T14:42:36.929Z"
   },
   {
    "duration": 22,
    "start_time": "2021-09-25T14:42:36.935Z"
   },
   {
    "duration": 15,
    "start_time": "2021-09-25T14:42:36.959Z"
   },
   {
    "duration": 201,
    "start_time": "2021-09-25T14:46:47.295Z"
   },
   {
    "duration": 219,
    "start_time": "2021-09-25T14:47:45.090Z"
   },
   {
    "duration": 262,
    "start_time": "2021-09-25T14:48:22.340Z"
   },
   {
    "duration": 294,
    "start_time": "2021-09-25T14:48:28.944Z"
   },
   {
    "duration": 411,
    "start_time": "2021-09-25T20:10:59.207Z"
   },
   {
    "duration": 1173,
    "start_time": "2021-09-25T20:11:04.693Z"
   },
   {
    "duration": 2759,
    "start_time": "2021-09-25T20:11:05.868Z"
   },
   {
    "duration": 378,
    "start_time": "2021-09-25T20:15:59.929Z"
   },
   {
    "duration": 3,
    "start_time": "2021-09-25T20:16:42.647Z"
   },
   {
    "duration": 3570,
    "start_time": "2021-09-25T20:16:43.393Z"
   },
   {
    "duration": 4590,
    "start_time": "2021-09-25T20:17:52.190Z"
   },
   {
    "duration": 6641,
    "start_time": "2021-09-25T20:18:00.232Z"
   },
   {
    "duration": 2,
    "start_time": "2021-09-25T20:18:06.874Z"
   },
   {
    "duration": 415,
    "start_time": "2021-09-25T20:18:19.923Z"
   },
   {
    "duration": 517,
    "start_time": "2021-09-25T20:18:25.654Z"
   },
   {
    "duration": 392,
    "start_time": "2021-09-25T20:18:40.611Z"
   },
   {
    "duration": 21,
    "start_time": "2021-09-25T20:18:41.647Z"
   },
   {
    "duration": 12,
    "start_time": "2021-09-25T20:18:42.277Z"
   },
   {
    "duration": 21,
    "start_time": "2021-09-25T20:18:42.467Z"
   },
   {
    "duration": 11,
    "start_time": "2021-09-25T20:18:42.681Z"
   },
   {
    "duration": 17,
    "start_time": "2021-09-25T20:18:44.162Z"
   },
   {
    "duration": 9,
    "start_time": "2021-09-25T20:18:44.393Z"
   },
   {
    "duration": 17,
    "start_time": "2021-09-25T20:18:45.227Z"
   },
   {
    "duration": 15,
    "start_time": "2021-09-25T20:18:45.527Z"
   },
   {
    "duration": 15,
    "start_time": "2021-09-25T20:18:57.806Z"
   },
   {
    "duration": 8,
    "start_time": "2021-09-25T20:18:58.176Z"
   },
   {
    "duration": 14,
    "start_time": "2021-09-25T20:18:58.506Z"
   },
   {
    "duration": 7,
    "start_time": "2021-09-25T20:18:59.470Z"
   },
   {
    "duration": 8,
    "start_time": "2021-09-25T20:19:00.070Z"
   },
   {
    "duration": 6,
    "start_time": "2021-09-25T20:19:00.365Z"
   },
   {
    "duration": 8,
    "start_time": "2021-09-25T20:19:01.188Z"
   },
   {
    "duration": 10,
    "start_time": "2021-09-25T20:19:01.436Z"
   },
   {
    "duration": 6,
    "start_time": "2021-09-25T20:19:01.688Z"
   },
   {
    "duration": 130,
    "start_time": "2021-09-25T20:19:03.679Z"
   },
   {
    "duration": 101,
    "start_time": "2021-09-25T20:19:06.513Z"
   },
   {
    "duration": 15,
    "start_time": "2021-09-25T20:19:07.184Z"
   },
   {
    "duration": 105,
    "start_time": "2021-09-25T20:19:12.632Z"
   },
   {
    "duration": 54,
    "start_time": "2021-09-25T20:19:17.674Z"
   },
   {
    "duration": 93,
    "start_time": "2021-09-25T20:19:19.602Z"
   },
   {
    "duration": 52,
    "start_time": "2021-09-25T20:19:20.966Z"
   },
   {
    "duration": 12,
    "start_time": "2021-09-25T20:19:22.090Z"
   },
   {
    "duration": 64,
    "start_time": "2021-09-25T20:19:24.543Z"
   },
   {
    "duration": 230,
    "start_time": "2021-09-25T20:19:28.829Z"
   },
   {
    "duration": 224,
    "start_time": "2021-09-25T20:19:58.045Z"
   },
   {
    "duration": 153,
    "start_time": "2021-09-25T20:20:53.243Z"
   },
   {
    "duration": 374,
    "start_time": "2021-09-25T20:21:34.675Z"
   },
   {
    "duration": 60,
    "start_time": "2021-09-25T20:21:39.898Z"
   },
   {
    "duration": 274,
    "start_time": "2021-09-25T20:21:42.092Z"
   },
   {
    "duration": 14,
    "start_time": "2021-09-25T20:21:46.208Z"
   },
   {
    "duration": 8,
    "start_time": "2021-09-25T20:21:46.508Z"
   },
   {
    "duration": 202,
    "start_time": "2021-09-25T20:21:47.054Z"
   },
   {
    "duration": 7,
    "start_time": "2021-09-25T20:21:49.872Z"
   },
   {
    "duration": 8,
    "start_time": "2021-09-25T20:21:51.942Z"
   },
   {
    "duration": 9,
    "start_time": "2021-09-25T20:21:52.572Z"
   },
   {
    "duration": 203,
    "start_time": "2021-09-25T20:21:53.562Z"
   },
   {
    "duration": 10,
    "start_time": "2021-09-25T20:22:00.302Z"
   },
   {
    "duration": 10,
    "start_time": "2021-09-25T20:22:01.470Z"
   },
   {
    "duration": 203,
    "start_time": "2021-09-25T20:22:02.401Z"
   },
   {
    "duration": 4,
    "start_time": "2021-09-25T20:22:03.850Z"
   },
   {
    "duration": 8,
    "start_time": "2021-09-25T20:22:46.736Z"
   },
   {
    "duration": 11,
    "start_time": "2021-09-25T20:22:50.607Z"
   },
   {
    "duration": 1271,
    "start_time": "2021-09-26T10:29:46.299Z"
   },
   {
    "duration": 582,
    "start_time": "2021-09-26T10:29:47.573Z"
   },
   {
    "duration": 430,
    "start_time": "2021-09-26T10:29:48.158Z"
   },
   {
    "duration": 33,
    "start_time": "2021-09-26T10:29:48.591Z"
   },
   {
    "duration": 15,
    "start_time": "2021-09-26T10:29:48.627Z"
   },
   {
    "duration": 27,
    "start_time": "2021-09-26T10:29:48.644Z"
   },
   {
    "duration": 14,
    "start_time": "2021-09-26T10:29:48.673Z"
   },
   {
    "duration": 22,
    "start_time": "2021-09-26T10:29:48.723Z"
   },
   {
    "duration": 12,
    "start_time": "2021-09-26T10:29:48.748Z"
   },
   {
    "duration": 24,
    "start_time": "2021-09-26T10:29:48.762Z"
   },
   {
    "duration": 52,
    "start_time": "2021-09-26T10:29:48.788Z"
   },
   {
    "duration": 19,
    "start_time": "2021-09-26T10:29:48.842Z"
   },
   {
    "duration": 24,
    "start_time": "2021-09-26T10:29:48.863Z"
   },
   {
    "duration": 33,
    "start_time": "2021-09-26T10:29:48.889Z"
   },
   {
    "duration": 12,
    "start_time": "2021-09-26T10:29:48.924Z"
   },
   {
    "duration": 25,
    "start_time": "2021-09-26T10:29:48.938Z"
   },
   {
    "duration": 17,
    "start_time": "2021-09-26T10:29:48.965Z"
   },
   {
    "duration": 18,
    "start_time": "2021-09-26T10:29:48.984Z"
   },
   {
    "duration": 31,
    "start_time": "2021-09-26T10:29:49.004Z"
   },
   {
    "duration": 14,
    "start_time": "2021-09-26T10:29:49.037Z"
   },
   {
    "duration": 222,
    "start_time": "2021-09-26T10:29:49.054Z"
   },
   {
    "duration": 144,
    "start_time": "2021-09-26T10:29:49.278Z"
   },
   {
    "duration": 21,
    "start_time": "2021-09-26T10:29:49.427Z"
   },
   {
    "duration": 177,
    "start_time": "2021-09-26T10:29:49.451Z"
   },
   {
    "duration": 92,
    "start_time": "2021-09-26T10:29:49.630Z"
   },
   {
    "duration": 132,
    "start_time": "2021-09-26T10:29:49.725Z"
   },
   {
    "duration": 83,
    "start_time": "2021-09-26T10:29:49.859Z"
   },
   {
    "duration": 14,
    "start_time": "2021-09-26T10:29:49.945Z"
   },
   {
    "duration": 124,
    "start_time": "2021-09-26T10:29:49.962Z"
   },
   {
    "duration": 460,
    "start_time": "2021-09-26T10:29:50.089Z"
   },
   {
    "duration": 16,
    "start_time": "2021-09-26T10:29:50.552Z"
   },
   {
    "duration": 13,
    "start_time": "2021-09-26T10:29:50.570Z"
   },
   {
    "duration": 354,
    "start_time": "2021-09-26T10:29:50.585Z"
   },
   {
    "duration": 12,
    "start_time": "2021-09-26T10:29:50.942Z"
   },
   {
    "duration": 28,
    "start_time": "2021-09-26T10:29:50.957Z"
   },
   {
    "duration": 39,
    "start_time": "2021-09-26T10:29:50.988Z"
   },
   {
    "duration": 356,
    "start_time": "2021-09-26T10:29:51.030Z"
   },
   {
    "duration": 12,
    "start_time": "2021-09-26T10:29:51.388Z"
   },
   {
    "duration": 33,
    "start_time": "2021-09-26T10:29:51.403Z"
   },
   {
    "duration": 335,
    "start_time": "2021-09-26T10:29:51.438Z"
   },
   {
    "duration": 5,
    "start_time": "2021-09-26T10:29:51.776Z"
   },
   {
    "duration": 31,
    "start_time": "2021-09-26T10:29:51.783Z"
   },
   {
    "duration": 36,
    "start_time": "2021-09-26T10:29:51.817Z"
   }
  ],
  "kernelspec": {
   "display_name": "Python 3 (ipykernel)",
   "language": "python",
   "name": "python3"
  },
  "language_info": {
   "codemirror_mode": {
    "name": "ipython",
    "version": 3
   },
   "file_extension": ".py",
   "mimetype": "text/x-python",
   "name": "python",
   "nbconvert_exporter": "python",
   "pygments_lexer": "ipython3",
   "version": "3.9.7"
  },
  "toc": {
   "base_numbering": 1,
   "nav_menu": {},
   "number_sections": true,
   "sideBar": true,
   "skip_h1_title": true,
   "title_cell": "Table of Contents",
   "title_sidebar": "Contents",
   "toc_cell": false,
   "toc_position": {},
   "toc_section_display": true,
   "toc_window_display": false
  }
 },
 "nbformat": 4,
 "nbformat_minor": 2
}
