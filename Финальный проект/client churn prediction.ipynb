{
 "cells": [
  {
   "cell_type": "markdown",
   "metadata": {},
   "source": [
    "# Прогноз оттока клиентов"
   ]
  },
  {
   "cell_type": "markdown",
   "metadata": {},
   "source": [
    "Задача: научиться прогнозировать отток клиентов для оператора связи. \n",
    "Если выяснится, что пользователь планирует уйти, ему будут предложены промокоды и специальные условия.\n",
    "\n",
    "Основная метрика для проверки качества модели: roc_auc\n",
    "\n",
    "Дополнительная метрика: accuracy"
   ]
  },
  {
   "cell_type": "markdown",
   "metadata": {},
   "source": [
    "**ОПИСАНИЕ УСЛУГ**\n",
    "\n",
    "Оператор предоставляет два основных типа услуг: \n",
    "\n",
    "1. Стационарную телефонную связь. Возможно подключение телефонного аппарата к нескольким линиям одновременно.\n",
    "2. Интернет. Подключение может быть двух типов: через телефонную линию (DSL*,* от англ. *digital subscriber line*, «цифровая абонентская линия») или оптоволоконный кабель (*Fiber optic*).  \n",
    "\n",
    "Также доступны такие услуги:\n",
    "\n",
    "- Интернет-безопасность: антивирус (*DeviceProtection*) и блокировка небезопасных сайтов (*OnlineSecurity*);\n",
    "- Выделенная линия технической поддержки (*TechSupport*);\n",
    "- Облачное хранилище файлов для резервного копирования данных (*OnlineBackup*);\n",
    "- Стриминговое телевидение (*StreamingTV*) и каталог фильмов (*StreamingMovies*).\n",
    "\n",
    "За услуги клиенты могут платить каждый месяц или заключить договор на 1–2 года. Доступны различные способы расчёта и возможность получения электронного чека."
   ]
  },
  {
   "cell_type": "markdown",
   "metadata": {},
   "source": [
    "**ОПИСАНИЕ ДАННЫХ**\n",
    "\n",
    "Данные состоят из файлов, полученных из разных источников:\n",
    "\n",
    "- `contract.csv` — информация о договоре;\n",
    "- `personal.csv` — персональные данные клиента;\n",
    "- `internet.csv` — информация об интернет-услугах;\n",
    "- `phone.csv` — информация об услугах телефонии.\n",
    "\n",
    "Во всех файлах столбец `customerID` содержит код клиента.\n",
    "\n",
    "Информация о договорах актуальна на 1 февраля 2020."
   ]
  },
  {
   "cell_type": "markdown",
   "metadata": {},
   "source": [
    "* BeginDate – дата начала пользования услугами\n",
    "\n",
    "* EndDate – дата окончания пользования услугами\n",
    "\n",
    "* Type – тип оплаты: ежемесячный, годовой и тд\n",
    "\n",
    "* PaperlessBilling – безналичный расчет\n",
    "\n",
    "* PaymentMethod – способ оплаты\n",
    "\n",
    "* MonthlyCharges – ежемесячные траты на услуги\n",
    "\n",
    "* TotalCharges – всего потрачено денег на услуги\n",
    "\n",
    "* Dependents – наличие иждивенцев\n",
    "\n",
    "* Senior Citizen – наличие пенсионного статуса по возрасту\n",
    "\n",
    "* Partner – наличие супруга(и)\n",
    "\n",
    "* MultipleLines – наличие возможности ведения параллельных линий во время звонка"
   ]
  },
  {
   "cell_type": "markdown",
   "metadata": {},
   "source": [
    "## Предобработка  и анализ данных"
   ]
  },
  {
   "cell_type": "code",
   "execution_count": 1,
   "metadata": {},
   "outputs": [],
   "source": [
    "import pandas as pd\n",
    "import numpy as np\n",
    "from sklearn.preprocessing import OrdinalEncoder\n",
    "import matplotlib.pyplot as plt\n",
    "import plotly.express as px\n",
    "import math\n",
    "import seaborn as sns\n",
    "from scipy import stats as st\n",
    "from sklearn.linear_model import LogisticRegression\n",
    "from sklearn.tree import DecisionTreeClassifier\n",
    "from sklearn.ensemble import RandomForestClassifier\n",
    "from sklearn.model_selection import train_test_split, cross_val_score, GridSearchCV\n",
    "from sklearn.preprocessing import StandardScaler\n",
    "from sklearn.metrics import roc_auc_score, accuracy_score, roc_curve\n",
    "from sklearn.tree import DecisionTreeRegressor\n",
    "import warnings\n",
    "\n",
    "warnings.filterwarnings('ignore')"
   ]
  },
  {
   "cell_type": "markdown",
   "metadata": {},
   "source": [
    "**Загружаем и обрабатываем данные**"
   ]
  },
  {
   "cell_type": "code",
   "execution_count": 2,
   "metadata": {},
   "outputs": [],
   "source": [
    "contract = pd.read_csv('/datasets/final_provider/contract.csv', index_col='customerID')\n",
    "personal = pd.read_csv('/datasets/final_provider/personal.csv', index_col='customerID')\n",
    "internet = pd.read_csv('/datasets/final_provider/internet.csv', index_col='customerID')\n",
    "phone = pd.read_csv('/datasets/final_provider/phone.csv', index_col='customerID')"
   ]
  },
  {
   "cell_type": "markdown",
   "metadata": {},
   "source": [
    "**Изучаем информацию о договорах**\n",
    "1. Просматриваем данные"
   ]
  },
  {
   "cell_type": "code",
   "execution_count": 3,
   "metadata": {},
   "outputs": [
    {
     "data": {
      "text/html": [
       "<div>\n",
       "<style scoped>\n",
       "    .dataframe tbody tr th:only-of-type {\n",
       "        vertical-align: middle;\n",
       "    }\n",
       "\n",
       "    .dataframe tbody tr th {\n",
       "        vertical-align: top;\n",
       "    }\n",
       "\n",
       "    .dataframe thead th {\n",
       "        text-align: right;\n",
       "    }\n",
       "</style>\n",
       "<table border=\"1\" class=\"dataframe\">\n",
       "  <thead>\n",
       "    <tr style=\"text-align: right;\">\n",
       "      <th></th>\n",
       "      <th>BeginDate</th>\n",
       "      <th>EndDate</th>\n",
       "      <th>Type</th>\n",
       "      <th>PaperlessBilling</th>\n",
       "      <th>PaymentMethod</th>\n",
       "      <th>MonthlyCharges</th>\n",
       "      <th>TotalCharges</th>\n",
       "    </tr>\n",
       "    <tr>\n",
       "      <th>customerID</th>\n",
       "      <th></th>\n",
       "      <th></th>\n",
       "      <th></th>\n",
       "      <th></th>\n",
       "      <th></th>\n",
       "      <th></th>\n",
       "      <th></th>\n",
       "    </tr>\n",
       "  </thead>\n",
       "  <tbody>\n",
       "    <tr>\n",
       "      <th>7590-VHVEG</th>\n",
       "      <td>2020-01-01</td>\n",
       "      <td>No</td>\n",
       "      <td>Month-to-month</td>\n",
       "      <td>Yes</td>\n",
       "      <td>Electronic check</td>\n",
       "      <td>29.85</td>\n",
       "      <td>29.85</td>\n",
       "    </tr>\n",
       "    <tr>\n",
       "      <th>5575-GNVDE</th>\n",
       "      <td>2017-04-01</td>\n",
       "      <td>No</td>\n",
       "      <td>One year</td>\n",
       "      <td>No</td>\n",
       "      <td>Mailed check</td>\n",
       "      <td>56.95</td>\n",
       "      <td>1889.5</td>\n",
       "    </tr>\n",
       "    <tr>\n",
       "      <th>3668-QPYBK</th>\n",
       "      <td>2019-10-01</td>\n",
       "      <td>2019-12-01 00:00:00</td>\n",
       "      <td>Month-to-month</td>\n",
       "      <td>Yes</td>\n",
       "      <td>Mailed check</td>\n",
       "      <td>53.85</td>\n",
       "      <td>108.15</td>\n",
       "    </tr>\n",
       "    <tr>\n",
       "      <th>7795-CFOCW</th>\n",
       "      <td>2016-05-01</td>\n",
       "      <td>No</td>\n",
       "      <td>One year</td>\n",
       "      <td>No</td>\n",
       "      <td>Bank transfer (automatic)</td>\n",
       "      <td>42.30</td>\n",
       "      <td>1840.75</td>\n",
       "    </tr>\n",
       "    <tr>\n",
       "      <th>9237-HQITU</th>\n",
       "      <td>2019-09-01</td>\n",
       "      <td>2019-11-01 00:00:00</td>\n",
       "      <td>Month-to-month</td>\n",
       "      <td>Yes</td>\n",
       "      <td>Electronic check</td>\n",
       "      <td>70.70</td>\n",
       "      <td>151.65</td>\n",
       "    </tr>\n",
       "    <tr>\n",
       "      <th>9305-CDSKC</th>\n",
       "      <td>2019-03-01</td>\n",
       "      <td>2019-11-01 00:00:00</td>\n",
       "      <td>Month-to-month</td>\n",
       "      <td>Yes</td>\n",
       "      <td>Electronic check</td>\n",
       "      <td>99.65</td>\n",
       "      <td>820.5</td>\n",
       "    </tr>\n",
       "    <tr>\n",
       "      <th>1452-KIOVK</th>\n",
       "      <td>2018-04-01</td>\n",
       "      <td>No</td>\n",
       "      <td>Month-to-month</td>\n",
       "      <td>Yes</td>\n",
       "      <td>Credit card (automatic)</td>\n",
       "      <td>89.10</td>\n",
       "      <td>1949.4</td>\n",
       "    </tr>\n",
       "    <tr>\n",
       "      <th>6713-OKOMC</th>\n",
       "      <td>2019-04-01</td>\n",
       "      <td>No</td>\n",
       "      <td>Month-to-month</td>\n",
       "      <td>No</td>\n",
       "      <td>Mailed check</td>\n",
       "      <td>29.75</td>\n",
       "      <td>301.9</td>\n",
       "    </tr>\n",
       "    <tr>\n",
       "      <th>7892-POOKP</th>\n",
       "      <td>2017-07-01</td>\n",
       "      <td>2019-11-01 00:00:00</td>\n",
       "      <td>Month-to-month</td>\n",
       "      <td>Yes</td>\n",
       "      <td>Electronic check</td>\n",
       "      <td>104.80</td>\n",
       "      <td>3046.05</td>\n",
       "    </tr>\n",
       "    <tr>\n",
       "      <th>6388-TABGU</th>\n",
       "      <td>2014-12-01</td>\n",
       "      <td>No</td>\n",
       "      <td>One year</td>\n",
       "      <td>No</td>\n",
       "      <td>Bank transfer (automatic)</td>\n",
       "      <td>56.15</td>\n",
       "      <td>3487.95</td>\n",
       "    </tr>\n",
       "  </tbody>\n",
       "</table>\n",
       "</div>"
      ],
      "text/plain": [
       "             BeginDate              EndDate            Type PaperlessBilling  \\\n",
       "customerID                                                                     \n",
       "7590-VHVEG  2020-01-01                   No  Month-to-month              Yes   \n",
       "5575-GNVDE  2017-04-01                   No        One year               No   \n",
       "3668-QPYBK  2019-10-01  2019-12-01 00:00:00  Month-to-month              Yes   \n",
       "7795-CFOCW  2016-05-01                   No        One year               No   \n",
       "9237-HQITU  2019-09-01  2019-11-01 00:00:00  Month-to-month              Yes   \n",
       "9305-CDSKC  2019-03-01  2019-11-01 00:00:00  Month-to-month              Yes   \n",
       "1452-KIOVK  2018-04-01                   No  Month-to-month              Yes   \n",
       "6713-OKOMC  2019-04-01                   No  Month-to-month               No   \n",
       "7892-POOKP  2017-07-01  2019-11-01 00:00:00  Month-to-month              Yes   \n",
       "6388-TABGU  2014-12-01                   No        One year               No   \n",
       "\n",
       "                        PaymentMethod  MonthlyCharges TotalCharges  \n",
       "customerID                                                          \n",
       "7590-VHVEG           Electronic check           29.85        29.85  \n",
       "5575-GNVDE               Mailed check           56.95       1889.5  \n",
       "3668-QPYBK               Mailed check           53.85       108.15  \n",
       "7795-CFOCW  Bank transfer (automatic)           42.30      1840.75  \n",
       "9237-HQITU           Electronic check           70.70       151.65  \n",
       "9305-CDSKC           Electronic check           99.65        820.5  \n",
       "1452-KIOVK    Credit card (automatic)           89.10       1949.4  \n",
       "6713-OKOMC               Mailed check           29.75        301.9  \n",
       "7892-POOKP           Electronic check          104.80      3046.05  \n",
       "6388-TABGU  Bank transfer (automatic)           56.15      3487.95  "
      ]
     },
     "execution_count": 3,
     "metadata": {},
     "output_type": "execute_result"
    }
   ],
   "source": [
    "contract.head(10)"
   ]
  },
  {
   "cell_type": "markdown",
   "metadata": {},
   "source": [
    "2. Просматриваем информацию о данных"
   ]
  },
  {
   "cell_type": "code",
   "execution_count": 4,
   "metadata": {},
   "outputs": [
    {
     "name": "stdout",
     "output_type": "stream",
     "text": [
      "<class 'pandas.core.frame.DataFrame'>\n",
      "Index: 7043 entries, 7590-VHVEG to 3186-AJIEK\n",
      "Data columns (total 7 columns):\n",
      " #   Column            Non-Null Count  Dtype  \n",
      "---  ------            --------------  -----  \n",
      " 0   BeginDate         7043 non-null   object \n",
      " 1   EndDate           7043 non-null   object \n",
      " 2   Type              7043 non-null   object \n",
      " 3   PaperlessBilling  7043 non-null   object \n",
      " 4   PaymentMethod     7043 non-null   object \n",
      " 5   MonthlyCharges    7043 non-null   float64\n",
      " 6   TotalCharges      7043 non-null   object \n",
      "dtypes: float64(1), object(6)\n",
      "memory usage: 440.2+ KB\n"
     ]
    }
   ],
   "source": [
    "contract.info()"
   ]
  },
  {
   "cell_type": "markdown",
   "metadata": {},
   "source": [
    "**BeginDate** - дата начала пользования услугами\n",
    "\n",
    "**EndDate** - дата окончания пользования услугами\n",
    "\n",
    "**Type** - тип оплаты\n",
    "\n",
    "**PaperlessBilling** - безналичный расчёт\n",
    "\n",
    "**PaymentMethod** - способ оплаты\n",
    "\n",
    "**MonthlyCharges** - ежемесячные траты\n",
    "\n",
    "**TotalCharges** - общие траты"
   ]
  },
  {
   "cell_type": "markdown",
   "metadata": {},
   "source": [
    "Сразу замечаем, что необходимо исправить типы данных в ряде столбцов: \n",
    "BeginDate, EndDate,TotalCharges"
   ]
  },
  {
   "cell_type": "markdown",
   "metadata": {},
   "source": [
    "**Исправление типов данных в таблице CONTRACT**"
   ]
  },
  {
   "cell_type": "code",
   "execution_count": 5,
   "metadata": {},
   "outputs": [],
   "source": [
    "contract['BeginDate']=contract['BeginDate'].astype('datetime64')"
   ]
  },
  {
   "cell_type": "code",
   "execution_count": 6,
   "metadata": {},
   "outputs": [
    {
     "data": {
      "text/plain": [
       "array(['No', '2019-12-01 00:00:00', '2019-11-01 00:00:00',\n",
       "       '2019-10-01 00:00:00', '2020-01-01 00:00:00'], dtype=object)"
      ]
     },
     "execution_count": 6,
     "metadata": {},
     "output_type": "execute_result"
    }
   ],
   "source": [
    "contract['EndDate'].unique()"
   ]
  },
  {
   "cell_type": "markdown",
   "metadata": {},
   "source": [
    "В дате отключения есть значение No, которое заменяем на дату актуальности договоров"
   ]
  },
  {
   "cell_type": "code",
   "execution_count": 7,
   "metadata": {},
   "outputs": [],
   "source": [
    "end_date = '2020-02-01'\n",
    "contract.loc[contract['EndDate'] == 'No', 'EndDate'] = end_date\n",
    "contract['EndDate'] = contract['EndDate'].astype('datetime64')"
   ]
  },
  {
   "cell_type": "markdown",
   "metadata": {},
   "source": [
    "В общих тратах тип переводим в численный, заменяя на отсутствующие значения те данные, которые нетипичны. "
   ]
  },
  {
   "cell_type": "code",
   "execution_count": 8,
   "metadata": {},
   "outputs": [],
   "source": [
    "contract['TotalCharges'] = pd.to_numeric(contract['TotalCharges'],errors='coerce')\n",
    "contract['TotalCharges']=contract['TotalCharges'].astype('float64')"
   ]
  },
  {
   "cell_type": "markdown",
   "metadata": {},
   "source": [
    "Просматриваем данные по безналичному расчёту"
   ]
  },
  {
   "cell_type": "code",
   "execution_count": 9,
   "metadata": {},
   "outputs": [
    {
     "data": {
      "text/plain": [
       "array(['Yes', 'No'], dtype=object)"
      ]
     },
     "execution_count": 9,
     "metadata": {},
     "output_type": "execute_result"
    }
   ],
   "source": [
    "contract['PaperlessBilling'].unique()"
   ]
  },
  {
   "cell_type": "markdown",
   "metadata": {},
   "source": [
    "В данных по безналичному рассчёту переводим тип в целочисленный"
   ]
  },
  {
   "cell_type": "code",
   "execution_count": 10,
   "metadata": {},
   "outputs": [
    {
     "data": {
      "text/plain": [
       "array([1, 0], dtype=int8)"
      ]
     },
     "execution_count": 10,
     "metadata": {},
     "output_type": "execute_result"
    }
   ],
   "source": [
    "contract['PaperlessBilling'] = (contract['PaperlessBilling'] == 'Yes').astype('int8')\n",
    "contract['PaperlessBilling'].unique()"
   ]
  },
  {
   "cell_type": "markdown",
   "metadata": {},
   "source": [
    "Просматриваем данные по способу оплаты"
   ]
  },
  {
   "cell_type": "code",
   "execution_count": 11,
   "metadata": {},
   "outputs": [
    {
     "data": {
      "text/plain": [
       "array(['Electronic check', 'Mailed check', 'Bank transfer (automatic)',\n",
       "       'Credit card (automatic)'], dtype=object)"
      ]
     },
     "execution_count": 11,
     "metadata": {},
     "output_type": "execute_result"
    }
   ],
   "source": [
    "contract['PaymentMethod'].unique()"
   ]
  },
  {
   "cell_type": "markdown",
   "metadata": {},
   "source": [
    "Трансформируем данные по способу оплаты в целочисленный тип"
   ]
  },
  {
   "cell_type": "code",
   "execution_count": 12,
   "metadata": {},
   "outputs": [],
   "source": [
    "def transform_payment_method(pmethod):\n",
    "    if pmethod == 'Electronic check' :\n",
    "        res = 0\n",
    "    elif pmethod == 'Mailed check' :\n",
    "        res = 1\n",
    "    elif pmethod == 'Bank transfer (automatic)' :\n",
    "        res = 2\n",
    "    elif pmethod == 'Credit card (automatic)' :\n",
    "        res = 3\n",
    "    return res\n",
    "contract['PaymentMethod'] = contract['PaymentMethod'].apply(transform_payment_method).astype('int8')"
   ]
  },
  {
   "cell_type": "markdown",
   "metadata": {},
   "source": [
    "Просматриваем данные по типу оплаты"
   ]
  },
  {
   "cell_type": "code",
   "execution_count": 13,
   "metadata": {},
   "outputs": [
    {
     "data": {
      "text/plain": [
       "array(['Month-to-month', 'One year', 'Two year'], dtype=object)"
      ]
     },
     "execution_count": 13,
     "metadata": {},
     "output_type": "execute_result"
    }
   ],
   "source": [
    "contract['Type'].unique()"
   ]
  },
  {
   "cell_type": "markdown",
   "metadata": {},
   "source": [
    "Трансформируем данные по типу оплаты в целочисленный тип"
   ]
  },
  {
   "cell_type": "code",
   "execution_count": 14,
   "metadata": {},
   "outputs": [],
   "source": [
    "def transform_type(ptype):\n",
    "    if ptype == 'Month-to-month' :\n",
    "        res = 0\n",
    "    elif ptype == 'One year' :\n",
    "        res = 1\n",
    "    elif ptype == 'Two year' :\n",
    "        res = 2\n",
    "    return res\n",
    "contract['Type'] = contract['Type'].apply(transform_type).astype('int8')"
   ]
  },
  {
   "cell_type": "markdown",
   "metadata": {},
   "source": [
    "Снова просматриваем информацию о данных"
   ]
  },
  {
   "cell_type": "code",
   "execution_count": 15,
   "metadata": {},
   "outputs": [
    {
     "name": "stdout",
     "output_type": "stream",
     "text": [
      "<class 'pandas.core.frame.DataFrame'>\n",
      "Index: 7043 entries, 7590-VHVEG to 3186-AJIEK\n",
      "Data columns (total 7 columns):\n",
      " #   Column            Non-Null Count  Dtype         \n",
      "---  ------            --------------  -----         \n",
      " 0   BeginDate         7043 non-null   datetime64[ns]\n",
      " 1   EndDate           7043 non-null   datetime64[ns]\n",
      " 2   Type              7043 non-null   int8          \n",
      " 3   PaperlessBilling  7043 non-null   int8          \n",
      " 4   PaymentMethod     7043 non-null   int8          \n",
      " 5   MonthlyCharges    7043 non-null   float64       \n",
      " 6   TotalCharges      7032 non-null   float64       \n",
      "dtypes: datetime64[ns](2), float64(2), int8(3)\n",
      "memory usage: 295.8+ KB\n"
     ]
    }
   ],
   "source": [
    "contract.info()"
   ]
  },
  {
   "cell_type": "markdown",
   "metadata": {},
   "source": [
    "Данные успешно преобразованы в необходимые типы"
   ]
  },
  {
   "cell_type": "markdown",
   "metadata": {},
   "source": [
    "**Добавление и ликвидация столбцов в таблице CONTRACT**"
   ]
  },
  {
   "cell_type": "markdown",
   "metadata": {},
   "source": [
    "Создаём столбец с количеством дней пользования"
   ]
  },
  {
   "cell_type": "code",
   "execution_count": 17,
   "metadata": {},
   "outputs": [
    {
     "data": {
      "text/html": [
       "<div>\n",
       "<style scoped>\n",
       "    .dataframe tbody tr th:only-of-type {\n",
       "        vertical-align: middle;\n",
       "    }\n",
       "\n",
       "    .dataframe tbody tr th {\n",
       "        vertical-align: top;\n",
       "    }\n",
       "\n",
       "    .dataframe thead th {\n",
       "        text-align: right;\n",
       "    }\n",
       "</style>\n",
       "<table border=\"1\" class=\"dataframe\">\n",
       "  <thead>\n",
       "    <tr style=\"text-align: right;\">\n",
       "      <th></th>\n",
       "      <th>EndDate</th>\n",
       "      <th>Type</th>\n",
       "      <th>PaperlessBilling</th>\n",
       "      <th>PaymentMethod</th>\n",
       "      <th>MonthlyCharges</th>\n",
       "      <th>TotalCharges</th>\n",
       "      <th>begin_days</th>\n",
       "    </tr>\n",
       "    <tr>\n",
       "      <th>customerID</th>\n",
       "      <th></th>\n",
       "      <th></th>\n",
       "      <th></th>\n",
       "      <th></th>\n",
       "      <th></th>\n",
       "      <th></th>\n",
       "      <th></th>\n",
       "    </tr>\n",
       "  </thead>\n",
       "  <tbody>\n",
       "    <tr>\n",
       "      <th>7590-VHVEG</th>\n",
       "      <td>2020-02-01</td>\n",
       "      <td>0</td>\n",
       "      <td>1</td>\n",
       "      <td>0</td>\n",
       "      <td>29.85</td>\n",
       "      <td>29.85</td>\n",
       "      <td>31</td>\n",
       "    </tr>\n",
       "    <tr>\n",
       "      <th>5575-GNVDE</th>\n",
       "      <td>2020-02-01</td>\n",
       "      <td>1</td>\n",
       "      <td>0</td>\n",
       "      <td>1</td>\n",
       "      <td>56.95</td>\n",
       "      <td>1889.50</td>\n",
       "      <td>1036</td>\n",
       "    </tr>\n",
       "    <tr>\n",
       "      <th>3668-QPYBK</th>\n",
       "      <td>2019-12-01</td>\n",
       "      <td>0</td>\n",
       "      <td>1</td>\n",
       "      <td>1</td>\n",
       "      <td>53.85</td>\n",
       "      <td>108.15</td>\n",
       "      <td>123</td>\n",
       "    </tr>\n",
       "    <tr>\n",
       "      <th>7795-CFOCW</th>\n",
       "      <td>2020-02-01</td>\n",
       "      <td>1</td>\n",
       "      <td>0</td>\n",
       "      <td>2</td>\n",
       "      <td>42.30</td>\n",
       "      <td>1840.75</td>\n",
       "      <td>1371</td>\n",
       "    </tr>\n",
       "    <tr>\n",
       "      <th>9237-HQITU</th>\n",
       "      <td>2019-11-01</td>\n",
       "      <td>0</td>\n",
       "      <td>1</td>\n",
       "      <td>0</td>\n",
       "      <td>70.70</td>\n",
       "      <td>151.65</td>\n",
       "      <td>153</td>\n",
       "    </tr>\n",
       "    <tr>\n",
       "      <th>...</th>\n",
       "      <td>...</td>\n",
       "      <td>...</td>\n",
       "      <td>...</td>\n",
       "      <td>...</td>\n",
       "      <td>...</td>\n",
       "      <td>...</td>\n",
       "      <td>...</td>\n",
       "    </tr>\n",
       "    <tr>\n",
       "      <th>6840-RESVB</th>\n",
       "      <td>2020-02-01</td>\n",
       "      <td>1</td>\n",
       "      <td>1</td>\n",
       "      <td>1</td>\n",
       "      <td>84.80</td>\n",
       "      <td>1990.50</td>\n",
       "      <td>730</td>\n",
       "    </tr>\n",
       "    <tr>\n",
       "      <th>2234-XADUH</th>\n",
       "      <td>2020-02-01</td>\n",
       "      <td>1</td>\n",
       "      <td>1</td>\n",
       "      <td>3</td>\n",
       "      <td>103.20</td>\n",
       "      <td>7362.90</td>\n",
       "      <td>2191</td>\n",
       "    </tr>\n",
       "    <tr>\n",
       "      <th>4801-JZAZL</th>\n",
       "      <td>2020-02-01</td>\n",
       "      <td>0</td>\n",
       "      <td>1</td>\n",
       "      <td>0</td>\n",
       "      <td>29.60</td>\n",
       "      <td>346.45</td>\n",
       "      <td>337</td>\n",
       "    </tr>\n",
       "    <tr>\n",
       "      <th>8361-LTMKD</th>\n",
       "      <td>2019-11-01</td>\n",
       "      <td>0</td>\n",
       "      <td>1</td>\n",
       "      <td>1</td>\n",
       "      <td>74.40</td>\n",
       "      <td>306.60</td>\n",
       "      <td>215</td>\n",
       "    </tr>\n",
       "    <tr>\n",
       "      <th>3186-AJIEK</th>\n",
       "      <td>2020-02-01</td>\n",
       "      <td>2</td>\n",
       "      <td>1</td>\n",
       "      <td>2</td>\n",
       "      <td>105.65</td>\n",
       "      <td>6844.50</td>\n",
       "      <td>2010</td>\n",
       "    </tr>\n",
       "  </tbody>\n",
       "</table>\n",
       "<p>7043 rows × 7 columns</p>\n",
       "</div>"
      ],
      "text/plain": [
       "              EndDate  Type  PaperlessBilling  PaymentMethod  MonthlyCharges  \\\n",
       "customerID                                                                     \n",
       "7590-VHVEG 2020-02-01     0                 1              0           29.85   \n",
       "5575-GNVDE 2020-02-01     1                 0              1           56.95   \n",
       "3668-QPYBK 2019-12-01     0                 1              1           53.85   \n",
       "7795-CFOCW 2020-02-01     1                 0              2           42.30   \n",
       "9237-HQITU 2019-11-01     0                 1              0           70.70   \n",
       "...               ...   ...               ...            ...             ...   \n",
       "6840-RESVB 2020-02-01     1                 1              1           84.80   \n",
       "2234-XADUH 2020-02-01     1                 1              3          103.20   \n",
       "4801-JZAZL 2020-02-01     0                 1              0           29.60   \n",
       "8361-LTMKD 2019-11-01     0                 1              1           74.40   \n",
       "3186-AJIEK 2020-02-01     2                 1              2          105.65   \n",
       "\n",
       "            TotalCharges  begin_days  \n",
       "customerID                            \n",
       "7590-VHVEG         29.85          31  \n",
       "5575-GNVDE       1889.50        1036  \n",
       "3668-QPYBK        108.15         123  \n",
       "7795-CFOCW       1840.75        1371  \n",
       "9237-HQITU        151.65         153  \n",
       "...                  ...         ...  \n",
       "6840-RESVB       1990.50         730  \n",
       "2234-XADUH       7362.90        2191  \n",
       "4801-JZAZL        346.45         337  \n",
       "8361-LTMKD        306.60         215  \n",
       "3186-AJIEK       6844.50        2010  \n",
       "\n",
       "[7043 rows x 7 columns]"
      ]
     },
     "execution_count": 17,
     "metadata": {},
     "output_type": "execute_result"
    }
   ],
   "source": [
    "contract['begin_days'] = (pd.Timestamp(end_date) - contract['BeginDate'])// np.timedelta64(1, 'D')\n",
    "contract.drop('BeginDate', axis=1, inplace=True)\n",
    "contract"
   ]
  },
  {
   "cell_type": "markdown",
   "metadata": {},
   "source": [
    "Создаём столбец с количеством дней, которое клиент уже не пользуется услугами данного оператора связи. Если клиент не уходил, значение будет равно нулю."
   ]
  },
  {
   "cell_type": "code",
   "execution_count": 18,
   "metadata": {},
   "outputs": [],
   "source": [
    "contract['end_days'] = (pd.Timestamp(end_date) - contract['EndDate']) // np.timedelta64(1, 'D')\n",
    "contract.drop('EndDate', axis=1, inplace=True)"
   ]
  },
  {
   "cell_type": "markdown",
   "metadata": {},
   "source": [
    "Создаём отдельный столбец, идентифицирующий уход клиента"
   ]
  },
  {
   "cell_type": "code",
   "execution_count": 19,
   "metadata": {},
   "outputs": [],
   "source": [
    "contract['churn'] = (contract['end_days']>0).astype('int8')"
   ]
  },
  {
   "cell_type": "markdown",
   "metadata": {},
   "source": [
    "Просматриваем обработанные данные"
   ]
  },
  {
   "cell_type": "code",
   "execution_count": 20,
   "metadata": {},
   "outputs": [
    {
     "data": {
      "text/html": [
       "<div>\n",
       "<style scoped>\n",
       "    .dataframe tbody tr th:only-of-type {\n",
       "        vertical-align: middle;\n",
       "    }\n",
       "\n",
       "    .dataframe tbody tr th {\n",
       "        vertical-align: top;\n",
       "    }\n",
       "\n",
       "    .dataframe thead th {\n",
       "        text-align: right;\n",
       "    }\n",
       "</style>\n",
       "<table border=\"1\" class=\"dataframe\">\n",
       "  <thead>\n",
       "    <tr style=\"text-align: right;\">\n",
       "      <th></th>\n",
       "      <th>Type</th>\n",
       "      <th>PaperlessBilling</th>\n",
       "      <th>PaymentMethod</th>\n",
       "      <th>MonthlyCharges</th>\n",
       "      <th>TotalCharges</th>\n",
       "      <th>begin_days</th>\n",
       "      <th>end_days</th>\n",
       "      <th>churn</th>\n",
       "    </tr>\n",
       "    <tr>\n",
       "      <th>customerID</th>\n",
       "      <th></th>\n",
       "      <th></th>\n",
       "      <th></th>\n",
       "      <th></th>\n",
       "      <th></th>\n",
       "      <th></th>\n",
       "      <th></th>\n",
       "      <th></th>\n",
       "    </tr>\n",
       "  </thead>\n",
       "  <tbody>\n",
       "    <tr>\n",
       "      <th>7590-VHVEG</th>\n",
       "      <td>0</td>\n",
       "      <td>1</td>\n",
       "      <td>0</td>\n",
       "      <td>29.85</td>\n",
       "      <td>29.85</td>\n",
       "      <td>31</td>\n",
       "      <td>0</td>\n",
       "      <td>0</td>\n",
       "    </tr>\n",
       "    <tr>\n",
       "      <th>5575-GNVDE</th>\n",
       "      <td>1</td>\n",
       "      <td>0</td>\n",
       "      <td>1</td>\n",
       "      <td>56.95</td>\n",
       "      <td>1889.50</td>\n",
       "      <td>1036</td>\n",
       "      <td>0</td>\n",
       "      <td>0</td>\n",
       "    </tr>\n",
       "    <tr>\n",
       "      <th>3668-QPYBK</th>\n",
       "      <td>0</td>\n",
       "      <td>1</td>\n",
       "      <td>1</td>\n",
       "      <td>53.85</td>\n",
       "      <td>108.15</td>\n",
       "      <td>123</td>\n",
       "      <td>62</td>\n",
       "      <td>1</td>\n",
       "    </tr>\n",
       "    <tr>\n",
       "      <th>7795-CFOCW</th>\n",
       "      <td>1</td>\n",
       "      <td>0</td>\n",
       "      <td>2</td>\n",
       "      <td>42.30</td>\n",
       "      <td>1840.75</td>\n",
       "      <td>1371</td>\n",
       "      <td>0</td>\n",
       "      <td>0</td>\n",
       "    </tr>\n",
       "    <tr>\n",
       "      <th>9237-HQITU</th>\n",
       "      <td>0</td>\n",
       "      <td>1</td>\n",
       "      <td>0</td>\n",
       "      <td>70.70</td>\n",
       "      <td>151.65</td>\n",
       "      <td>153</td>\n",
       "      <td>92</td>\n",
       "      <td>1</td>\n",
       "    </tr>\n",
       "    <tr>\n",
       "      <th>9305-CDSKC</th>\n",
       "      <td>0</td>\n",
       "      <td>1</td>\n",
       "      <td>0</td>\n",
       "      <td>99.65</td>\n",
       "      <td>820.50</td>\n",
       "      <td>337</td>\n",
       "      <td>92</td>\n",
       "      <td>1</td>\n",
       "    </tr>\n",
       "    <tr>\n",
       "      <th>1452-KIOVK</th>\n",
       "      <td>0</td>\n",
       "      <td>1</td>\n",
       "      <td>3</td>\n",
       "      <td>89.10</td>\n",
       "      <td>1949.40</td>\n",
       "      <td>671</td>\n",
       "      <td>0</td>\n",
       "      <td>0</td>\n",
       "    </tr>\n",
       "    <tr>\n",
       "      <th>6713-OKOMC</th>\n",
       "      <td>0</td>\n",
       "      <td>0</td>\n",
       "      <td>1</td>\n",
       "      <td>29.75</td>\n",
       "      <td>301.90</td>\n",
       "      <td>306</td>\n",
       "      <td>0</td>\n",
       "      <td>0</td>\n",
       "    </tr>\n",
       "    <tr>\n",
       "      <th>7892-POOKP</th>\n",
       "      <td>0</td>\n",
       "      <td>1</td>\n",
       "      <td>0</td>\n",
       "      <td>104.80</td>\n",
       "      <td>3046.05</td>\n",
       "      <td>945</td>\n",
       "      <td>92</td>\n",
       "      <td>1</td>\n",
       "    </tr>\n",
       "    <tr>\n",
       "      <th>6388-TABGU</th>\n",
       "      <td>1</td>\n",
       "      <td>0</td>\n",
       "      <td>2</td>\n",
       "      <td>56.15</td>\n",
       "      <td>3487.95</td>\n",
       "      <td>1888</td>\n",
       "      <td>0</td>\n",
       "      <td>0</td>\n",
       "    </tr>\n",
       "  </tbody>\n",
       "</table>\n",
       "</div>"
      ],
      "text/plain": [
       "            Type  PaperlessBilling  PaymentMethod  MonthlyCharges  \\\n",
       "customerID                                                          \n",
       "7590-VHVEG     0                 1              0           29.85   \n",
       "5575-GNVDE     1                 0              1           56.95   \n",
       "3668-QPYBK     0                 1              1           53.85   \n",
       "7795-CFOCW     1                 0              2           42.30   \n",
       "9237-HQITU     0                 1              0           70.70   \n",
       "9305-CDSKC     0                 1              0           99.65   \n",
       "1452-KIOVK     0                 1              3           89.10   \n",
       "6713-OKOMC     0                 0              1           29.75   \n",
       "7892-POOKP     0                 1              0          104.80   \n",
       "6388-TABGU     1                 0              2           56.15   \n",
       "\n",
       "            TotalCharges  begin_days  end_days  churn  \n",
       "customerID                                             \n",
       "7590-VHVEG         29.85          31         0      0  \n",
       "5575-GNVDE       1889.50        1036         0      0  \n",
       "3668-QPYBK        108.15         123        62      1  \n",
       "7795-CFOCW       1840.75        1371         0      0  \n",
       "9237-HQITU        151.65         153        92      1  \n",
       "9305-CDSKC        820.50         337        92      1  \n",
       "1452-KIOVK       1949.40         671         0      0  \n",
       "6713-OKOMC        301.90         306         0      0  \n",
       "7892-POOKP       3046.05         945        92      1  \n",
       "6388-TABGU       3487.95        1888         0      0  "
      ]
     },
     "execution_count": 20,
     "metadata": {},
     "output_type": "execute_result"
    }
   ],
   "source": [
    "contract.head(10)"
   ]
  },
  {
   "cell_type": "markdown",
   "metadata": {},
   "source": [
    "Данные в таблице CONTRACT успешно преобразованы и обработаны"
   ]
  },
  {
   "cell_type": "markdown",
   "metadata": {},
   "source": [
    "**Изучаем информацию о персональных данных**"
   ]
  },
  {
   "cell_type": "markdown",
   "metadata": {},
   "source": [
    "1. Просматриваем данные"
   ]
  },
  {
   "cell_type": "code",
   "execution_count": 21,
   "metadata": {},
   "outputs": [
    {
     "data": {
      "text/html": [
       "<div>\n",
       "<style scoped>\n",
       "    .dataframe tbody tr th:only-of-type {\n",
       "        vertical-align: middle;\n",
       "    }\n",
       "\n",
       "    .dataframe tbody tr th {\n",
       "        vertical-align: top;\n",
       "    }\n",
       "\n",
       "    .dataframe thead th {\n",
       "        text-align: right;\n",
       "    }\n",
       "</style>\n",
       "<table border=\"1\" class=\"dataframe\">\n",
       "  <thead>\n",
       "    <tr style=\"text-align: right;\">\n",
       "      <th></th>\n",
       "      <th>gender</th>\n",
       "      <th>SeniorCitizen</th>\n",
       "      <th>Partner</th>\n",
       "      <th>Dependents</th>\n",
       "    </tr>\n",
       "    <tr>\n",
       "      <th>customerID</th>\n",
       "      <th></th>\n",
       "      <th></th>\n",
       "      <th></th>\n",
       "      <th></th>\n",
       "    </tr>\n",
       "  </thead>\n",
       "  <tbody>\n",
       "    <tr>\n",
       "      <th>7590-VHVEG</th>\n",
       "      <td>Female</td>\n",
       "      <td>0</td>\n",
       "      <td>Yes</td>\n",
       "      <td>No</td>\n",
       "    </tr>\n",
       "    <tr>\n",
       "      <th>5575-GNVDE</th>\n",
       "      <td>Male</td>\n",
       "      <td>0</td>\n",
       "      <td>No</td>\n",
       "      <td>No</td>\n",
       "    </tr>\n",
       "    <tr>\n",
       "      <th>3668-QPYBK</th>\n",
       "      <td>Male</td>\n",
       "      <td>0</td>\n",
       "      <td>No</td>\n",
       "      <td>No</td>\n",
       "    </tr>\n",
       "    <tr>\n",
       "      <th>7795-CFOCW</th>\n",
       "      <td>Male</td>\n",
       "      <td>0</td>\n",
       "      <td>No</td>\n",
       "      <td>No</td>\n",
       "    </tr>\n",
       "    <tr>\n",
       "      <th>9237-HQITU</th>\n",
       "      <td>Female</td>\n",
       "      <td>0</td>\n",
       "      <td>No</td>\n",
       "      <td>No</td>\n",
       "    </tr>\n",
       "    <tr>\n",
       "      <th>9305-CDSKC</th>\n",
       "      <td>Female</td>\n",
       "      <td>0</td>\n",
       "      <td>No</td>\n",
       "      <td>No</td>\n",
       "    </tr>\n",
       "    <tr>\n",
       "      <th>1452-KIOVK</th>\n",
       "      <td>Male</td>\n",
       "      <td>0</td>\n",
       "      <td>No</td>\n",
       "      <td>Yes</td>\n",
       "    </tr>\n",
       "    <tr>\n",
       "      <th>6713-OKOMC</th>\n",
       "      <td>Female</td>\n",
       "      <td>0</td>\n",
       "      <td>No</td>\n",
       "      <td>No</td>\n",
       "    </tr>\n",
       "    <tr>\n",
       "      <th>7892-POOKP</th>\n",
       "      <td>Female</td>\n",
       "      <td>0</td>\n",
       "      <td>Yes</td>\n",
       "      <td>No</td>\n",
       "    </tr>\n",
       "    <tr>\n",
       "      <th>6388-TABGU</th>\n",
       "      <td>Male</td>\n",
       "      <td>0</td>\n",
       "      <td>No</td>\n",
       "      <td>Yes</td>\n",
       "    </tr>\n",
       "    <tr>\n",
       "      <th>9763-GRSKD</th>\n",
       "      <td>Male</td>\n",
       "      <td>0</td>\n",
       "      <td>Yes</td>\n",
       "      <td>Yes</td>\n",
       "    </tr>\n",
       "    <tr>\n",
       "      <th>7469-LKBCI</th>\n",
       "      <td>Male</td>\n",
       "      <td>0</td>\n",
       "      <td>No</td>\n",
       "      <td>No</td>\n",
       "    </tr>\n",
       "    <tr>\n",
       "      <th>8091-TTVAX</th>\n",
       "      <td>Male</td>\n",
       "      <td>0</td>\n",
       "      <td>Yes</td>\n",
       "      <td>No</td>\n",
       "    </tr>\n",
       "    <tr>\n",
       "      <th>0280-XJGEX</th>\n",
       "      <td>Male</td>\n",
       "      <td>0</td>\n",
       "      <td>No</td>\n",
       "      <td>No</td>\n",
       "    </tr>\n",
       "    <tr>\n",
       "      <th>5129-JLPIS</th>\n",
       "      <td>Male</td>\n",
       "      <td>0</td>\n",
       "      <td>No</td>\n",
       "      <td>No</td>\n",
       "    </tr>\n",
       "    <tr>\n",
       "      <th>3655-SNQYZ</th>\n",
       "      <td>Female</td>\n",
       "      <td>0</td>\n",
       "      <td>Yes</td>\n",
       "      <td>Yes</td>\n",
       "    </tr>\n",
       "    <tr>\n",
       "      <th>8191-XWSZG</th>\n",
       "      <td>Female</td>\n",
       "      <td>0</td>\n",
       "      <td>No</td>\n",
       "      <td>No</td>\n",
       "    </tr>\n",
       "    <tr>\n",
       "      <th>9959-WOFKT</th>\n",
       "      <td>Male</td>\n",
       "      <td>0</td>\n",
       "      <td>No</td>\n",
       "      <td>Yes</td>\n",
       "    </tr>\n",
       "    <tr>\n",
       "      <th>4190-MFLUW</th>\n",
       "      <td>Female</td>\n",
       "      <td>0</td>\n",
       "      <td>Yes</td>\n",
       "      <td>Yes</td>\n",
       "    </tr>\n",
       "    <tr>\n",
       "      <th>4183-MYFRB</th>\n",
       "      <td>Female</td>\n",
       "      <td>0</td>\n",
       "      <td>No</td>\n",
       "      <td>No</td>\n",
       "    </tr>\n",
       "  </tbody>\n",
       "</table>\n",
       "</div>"
      ],
      "text/plain": [
       "            gender  SeniorCitizen Partner Dependents\n",
       "customerID                                          \n",
       "7590-VHVEG  Female              0     Yes         No\n",
       "5575-GNVDE    Male              0      No         No\n",
       "3668-QPYBK    Male              0      No         No\n",
       "7795-CFOCW    Male              0      No         No\n",
       "9237-HQITU  Female              0      No         No\n",
       "9305-CDSKC  Female              0      No         No\n",
       "1452-KIOVK    Male              0      No        Yes\n",
       "6713-OKOMC  Female              0      No         No\n",
       "7892-POOKP  Female              0     Yes         No\n",
       "6388-TABGU    Male              0      No        Yes\n",
       "9763-GRSKD    Male              0     Yes        Yes\n",
       "7469-LKBCI    Male              0      No         No\n",
       "8091-TTVAX    Male              0     Yes         No\n",
       "0280-XJGEX    Male              0      No         No\n",
       "5129-JLPIS    Male              0      No         No\n",
       "3655-SNQYZ  Female              0     Yes        Yes\n",
       "8191-XWSZG  Female              0      No         No\n",
       "9959-WOFKT    Male              0      No        Yes\n",
       "4190-MFLUW  Female              0     Yes        Yes\n",
       "4183-MYFRB  Female              0      No         No"
      ]
     },
     "execution_count": 21,
     "metadata": {},
     "output_type": "execute_result"
    }
   ],
   "source": [
    "personal.head(20)"
   ]
  },
  {
   "cell_type": "markdown",
   "metadata": {},
   "source": [
    "2. Просматриваем информацию о данных"
   ]
  },
  {
   "cell_type": "code",
   "execution_count": 22,
   "metadata": {},
   "outputs": [
    {
     "name": "stdout",
     "output_type": "stream",
     "text": [
      "<class 'pandas.core.frame.DataFrame'>\n",
      "Index: 7043 entries, 7590-VHVEG to 3186-AJIEK\n",
      "Data columns (total 4 columns):\n",
      " #   Column         Non-Null Count  Dtype \n",
      "---  ------         --------------  ----- \n",
      " 0   gender         7043 non-null   object\n",
      " 1   SeniorCitizen  7043 non-null   int64 \n",
      " 2   Partner        7043 non-null   object\n",
      " 3   Dependents     7043 non-null   object\n",
      "dtypes: int64(1), object(3)\n",
      "memory usage: 275.1+ KB\n"
     ]
    }
   ],
   "source": [
    "personal.info()"
   ]
  },
  {
   "cell_type": "code",
   "execution_count": 23,
   "metadata": {},
   "outputs": [
    {
     "data": {
      "text/plain": [
       "gender           0\n",
       "SeniorCitizen    0\n",
       "Partner          0\n",
       "Dependents       0\n",
       "dtype: int64"
      ]
     },
     "execution_count": 23,
     "metadata": {},
     "output_type": "execute_result"
    }
   ],
   "source": [
    "personal.isnull().sum()"
   ]
  },
  {
   "cell_type": "code",
   "execution_count": 24,
   "metadata": {},
   "outputs": [
    {
     "data": {
      "text/plain": [
       "array(['Female', 'Male'], dtype=object)"
      ]
     },
     "execution_count": 24,
     "metadata": {},
     "output_type": "execute_result"
    }
   ],
   "source": [
    "personal['gender'].unique()"
   ]
  },
  {
   "cell_type": "code",
   "execution_count": 25,
   "metadata": {},
   "outputs": [
    {
     "data": {
      "text/plain": [
       "array([0, 1])"
      ]
     },
     "execution_count": 25,
     "metadata": {},
     "output_type": "execute_result"
    }
   ],
   "source": [
    "personal['SeniorCitizen'].unique()"
   ]
  },
  {
   "cell_type": "code",
   "execution_count": 26,
   "metadata": {},
   "outputs": [
    {
     "data": {
      "text/plain": [
       "array(['Yes', 'No'], dtype=object)"
      ]
     },
     "execution_count": 26,
     "metadata": {},
     "output_type": "execute_result"
    }
   ],
   "source": [
    "personal['Partner'].unique()"
   ]
  },
  {
   "cell_type": "code",
   "execution_count": 27,
   "metadata": {},
   "outputs": [
    {
     "data": {
      "text/plain": [
       "array(['No', 'Yes'], dtype=object)"
      ]
     },
     "execution_count": 27,
     "metadata": {},
     "output_type": "execute_result"
    }
   ],
   "source": [
    "personal['Dependents'].unique()"
   ]
  },
  {
   "cell_type": "markdown",
   "metadata": {},
   "source": [
    "**gender** - пол пользователя\n",
    "\n",
    "**SeniorCitizen** - наличие пенсионного статуса\n",
    "\n",
    "**Partner** - наличие супруга/супруги\n",
    "\n",
    "**Dependents** - наличие иждивенцев"
   ]
  },
  {
   "cell_type": "code",
   "execution_count": 28,
   "metadata": {},
   "outputs": [
    {
     "data": {
      "text/html": [
       "<div>\n",
       "<style scoped>\n",
       "    .dataframe tbody tr th:only-of-type {\n",
       "        vertical-align: middle;\n",
       "    }\n",
       "\n",
       "    .dataframe tbody tr th {\n",
       "        vertical-align: top;\n",
       "    }\n",
       "\n",
       "    .dataframe thead th {\n",
       "        text-align: right;\n",
       "    }\n",
       "</style>\n",
       "<table border=\"1\" class=\"dataframe\">\n",
       "  <thead>\n",
       "    <tr style=\"text-align: right;\">\n",
       "      <th></th>\n",
       "      <th>SeniorCitizen</th>\n",
       "      <th>Partner</th>\n",
       "      <th>Dependents</th>\n",
       "      <th>if_male</th>\n",
       "    </tr>\n",
       "    <tr>\n",
       "      <th>customerID</th>\n",
       "      <th></th>\n",
       "      <th></th>\n",
       "      <th></th>\n",
       "      <th></th>\n",
       "    </tr>\n",
       "  </thead>\n",
       "  <tbody>\n",
       "    <tr>\n",
       "      <th>7590-VHVEG</th>\n",
       "      <td>0</td>\n",
       "      <td>1</td>\n",
       "      <td>0</td>\n",
       "      <td>0</td>\n",
       "    </tr>\n",
       "    <tr>\n",
       "      <th>5575-GNVDE</th>\n",
       "      <td>0</td>\n",
       "      <td>0</td>\n",
       "      <td>0</td>\n",
       "      <td>1</td>\n",
       "    </tr>\n",
       "    <tr>\n",
       "      <th>3668-QPYBK</th>\n",
       "      <td>0</td>\n",
       "      <td>0</td>\n",
       "      <td>0</td>\n",
       "      <td>1</td>\n",
       "    </tr>\n",
       "    <tr>\n",
       "      <th>7795-CFOCW</th>\n",
       "      <td>0</td>\n",
       "      <td>0</td>\n",
       "      <td>0</td>\n",
       "      <td>1</td>\n",
       "    </tr>\n",
       "    <tr>\n",
       "      <th>9237-HQITU</th>\n",
       "      <td>0</td>\n",
       "      <td>0</td>\n",
       "      <td>0</td>\n",
       "      <td>0</td>\n",
       "    </tr>\n",
       "    <tr>\n",
       "      <th>9305-CDSKC</th>\n",
       "      <td>0</td>\n",
       "      <td>0</td>\n",
       "      <td>0</td>\n",
       "      <td>0</td>\n",
       "    </tr>\n",
       "    <tr>\n",
       "      <th>1452-KIOVK</th>\n",
       "      <td>0</td>\n",
       "      <td>0</td>\n",
       "      <td>1</td>\n",
       "      <td>1</td>\n",
       "    </tr>\n",
       "    <tr>\n",
       "      <th>6713-OKOMC</th>\n",
       "      <td>0</td>\n",
       "      <td>0</td>\n",
       "      <td>0</td>\n",
       "      <td>0</td>\n",
       "    </tr>\n",
       "    <tr>\n",
       "      <th>7892-POOKP</th>\n",
       "      <td>0</td>\n",
       "      <td>1</td>\n",
       "      <td>0</td>\n",
       "      <td>0</td>\n",
       "    </tr>\n",
       "    <tr>\n",
       "      <th>6388-TABGU</th>\n",
       "      <td>0</td>\n",
       "      <td>0</td>\n",
       "      <td>1</td>\n",
       "      <td>1</td>\n",
       "    </tr>\n",
       "  </tbody>\n",
       "</table>\n",
       "</div>"
      ],
      "text/plain": [
       "            SeniorCitizen  Partner  Dependents  if_male\n",
       "customerID                                             \n",
       "7590-VHVEG              0        1           0        0\n",
       "5575-GNVDE              0        0           0        1\n",
       "3668-QPYBK              0        0           0        1\n",
       "7795-CFOCW              0        0           0        1\n",
       "9237-HQITU              0        0           0        0\n",
       "9305-CDSKC              0        0           0        0\n",
       "1452-KIOVK              0        0           1        1\n",
       "6713-OKOMC              0        0           0        0\n",
       "7892-POOKP              0        1           0        0\n",
       "6388-TABGU              0        0           1        1"
      ]
     },
     "execution_count": 28,
     "metadata": {},
     "output_type": "execute_result"
    }
   ],
   "source": [
    "personal['if_male'] = (personal['gender'] == 'Male').astype('int8')\n",
    "personal.drop('gender', axis=1, inplace=True)\n",
    "personal['Partner'] = (personal['Partner'] == 'Yes').astype('int8')\n",
    "personal['Dependents'] = (personal['Dependents'] == 'Yes').astype('int8')\n",
    "personal.head(10)"
   ]
  },
  {
   "cell_type": "markdown",
   "metadata": {},
   "source": [
    "**Изучаем информацию об интернет-услугах**"
   ]
  },
  {
   "cell_type": "markdown",
   "metadata": {},
   "source": [
    "1. Просматриваем данные"
   ]
  },
  {
   "cell_type": "code",
   "execution_count": 29,
   "metadata": {},
   "outputs": [
    {
     "data": {
      "text/html": [
       "<div>\n",
       "<style scoped>\n",
       "    .dataframe tbody tr th:only-of-type {\n",
       "        vertical-align: middle;\n",
       "    }\n",
       "\n",
       "    .dataframe tbody tr th {\n",
       "        vertical-align: top;\n",
       "    }\n",
       "\n",
       "    .dataframe thead th {\n",
       "        text-align: right;\n",
       "    }\n",
       "</style>\n",
       "<table border=\"1\" class=\"dataframe\">\n",
       "  <thead>\n",
       "    <tr style=\"text-align: right;\">\n",
       "      <th></th>\n",
       "      <th>InternetService</th>\n",
       "      <th>OnlineSecurity</th>\n",
       "      <th>OnlineBackup</th>\n",
       "      <th>DeviceProtection</th>\n",
       "      <th>TechSupport</th>\n",
       "      <th>StreamingTV</th>\n",
       "      <th>StreamingMovies</th>\n",
       "    </tr>\n",
       "    <tr>\n",
       "      <th>customerID</th>\n",
       "      <th></th>\n",
       "      <th></th>\n",
       "      <th></th>\n",
       "      <th></th>\n",
       "      <th></th>\n",
       "      <th></th>\n",
       "      <th></th>\n",
       "    </tr>\n",
       "  </thead>\n",
       "  <tbody>\n",
       "    <tr>\n",
       "      <th>7590-VHVEG</th>\n",
       "      <td>DSL</td>\n",
       "      <td>No</td>\n",
       "      <td>Yes</td>\n",
       "      <td>No</td>\n",
       "      <td>No</td>\n",
       "      <td>No</td>\n",
       "      <td>No</td>\n",
       "    </tr>\n",
       "    <tr>\n",
       "      <th>5575-GNVDE</th>\n",
       "      <td>DSL</td>\n",
       "      <td>Yes</td>\n",
       "      <td>No</td>\n",
       "      <td>Yes</td>\n",
       "      <td>No</td>\n",
       "      <td>No</td>\n",
       "      <td>No</td>\n",
       "    </tr>\n",
       "    <tr>\n",
       "      <th>3668-QPYBK</th>\n",
       "      <td>DSL</td>\n",
       "      <td>Yes</td>\n",
       "      <td>Yes</td>\n",
       "      <td>No</td>\n",
       "      <td>No</td>\n",
       "      <td>No</td>\n",
       "      <td>No</td>\n",
       "    </tr>\n",
       "    <tr>\n",
       "      <th>7795-CFOCW</th>\n",
       "      <td>DSL</td>\n",
       "      <td>Yes</td>\n",
       "      <td>No</td>\n",
       "      <td>Yes</td>\n",
       "      <td>Yes</td>\n",
       "      <td>No</td>\n",
       "      <td>No</td>\n",
       "    </tr>\n",
       "    <tr>\n",
       "      <th>9237-HQITU</th>\n",
       "      <td>Fiber optic</td>\n",
       "      <td>No</td>\n",
       "      <td>No</td>\n",
       "      <td>No</td>\n",
       "      <td>No</td>\n",
       "      <td>No</td>\n",
       "      <td>No</td>\n",
       "    </tr>\n",
       "    <tr>\n",
       "      <th>9305-CDSKC</th>\n",
       "      <td>Fiber optic</td>\n",
       "      <td>No</td>\n",
       "      <td>No</td>\n",
       "      <td>Yes</td>\n",
       "      <td>No</td>\n",
       "      <td>Yes</td>\n",
       "      <td>Yes</td>\n",
       "    </tr>\n",
       "    <tr>\n",
       "      <th>1452-KIOVK</th>\n",
       "      <td>Fiber optic</td>\n",
       "      <td>No</td>\n",
       "      <td>Yes</td>\n",
       "      <td>No</td>\n",
       "      <td>No</td>\n",
       "      <td>Yes</td>\n",
       "      <td>No</td>\n",
       "    </tr>\n",
       "    <tr>\n",
       "      <th>6713-OKOMC</th>\n",
       "      <td>DSL</td>\n",
       "      <td>Yes</td>\n",
       "      <td>No</td>\n",
       "      <td>No</td>\n",
       "      <td>No</td>\n",
       "      <td>No</td>\n",
       "      <td>No</td>\n",
       "    </tr>\n",
       "    <tr>\n",
       "      <th>7892-POOKP</th>\n",
       "      <td>Fiber optic</td>\n",
       "      <td>No</td>\n",
       "      <td>No</td>\n",
       "      <td>Yes</td>\n",
       "      <td>Yes</td>\n",
       "      <td>Yes</td>\n",
       "      <td>Yes</td>\n",
       "    </tr>\n",
       "    <tr>\n",
       "      <th>6388-TABGU</th>\n",
       "      <td>DSL</td>\n",
       "      <td>Yes</td>\n",
       "      <td>Yes</td>\n",
       "      <td>No</td>\n",
       "      <td>No</td>\n",
       "      <td>No</td>\n",
       "      <td>No</td>\n",
       "    </tr>\n",
       "  </tbody>\n",
       "</table>\n",
       "</div>"
      ],
      "text/plain": [
       "           InternetService OnlineSecurity OnlineBackup DeviceProtection  \\\n",
       "customerID                                                                \n",
       "7590-VHVEG             DSL             No          Yes               No   \n",
       "5575-GNVDE             DSL            Yes           No              Yes   \n",
       "3668-QPYBK             DSL            Yes          Yes               No   \n",
       "7795-CFOCW             DSL            Yes           No              Yes   \n",
       "9237-HQITU     Fiber optic             No           No               No   \n",
       "9305-CDSKC     Fiber optic             No           No              Yes   \n",
       "1452-KIOVK     Fiber optic             No          Yes               No   \n",
       "6713-OKOMC             DSL            Yes           No               No   \n",
       "7892-POOKP     Fiber optic             No           No              Yes   \n",
       "6388-TABGU             DSL            Yes          Yes               No   \n",
       "\n",
       "           TechSupport StreamingTV StreamingMovies  \n",
       "customerID                                          \n",
       "7590-VHVEG          No          No              No  \n",
       "5575-GNVDE          No          No              No  \n",
       "3668-QPYBK          No          No              No  \n",
       "7795-CFOCW         Yes          No              No  \n",
       "9237-HQITU          No          No              No  \n",
       "9305-CDSKC          No         Yes             Yes  \n",
       "1452-KIOVK          No         Yes              No  \n",
       "6713-OKOMC          No          No              No  \n",
       "7892-POOKP         Yes         Yes             Yes  \n",
       "6388-TABGU          No          No              No  "
      ]
     },
     "execution_count": 29,
     "metadata": {},
     "output_type": "execute_result"
    }
   ],
   "source": [
    "internet.head(10)"
   ]
  },
  {
   "cell_type": "markdown",
   "metadata": {},
   "source": [
    "2. Просматриваем информацию о данных"
   ]
  },
  {
   "cell_type": "code",
   "execution_count": 30,
   "metadata": {},
   "outputs": [
    {
     "name": "stdout",
     "output_type": "stream",
     "text": [
      "<class 'pandas.core.frame.DataFrame'>\n",
      "Index: 5517 entries, 7590-VHVEG to 3186-AJIEK\n",
      "Data columns (total 7 columns):\n",
      " #   Column            Non-Null Count  Dtype \n",
      "---  ------            --------------  ----- \n",
      " 0   InternetService   5517 non-null   object\n",
      " 1   OnlineSecurity    5517 non-null   object\n",
      " 2   OnlineBackup      5517 non-null   object\n",
      " 3   DeviceProtection  5517 non-null   object\n",
      " 4   TechSupport       5517 non-null   object\n",
      " 5   StreamingTV       5517 non-null   object\n",
      " 6   StreamingMovies   5517 non-null   object\n",
      "dtypes: object(7)\n",
      "memory usage: 344.8+ KB\n"
     ]
    }
   ],
   "source": [
    "internet.info(10)"
   ]
  },
  {
   "cell_type": "markdown",
   "metadata": {},
   "source": [
    "**InternetService** - тип подключения\n",
    "\n",
    "**OnlineSecurity** - наличие блокировки небезопасных сайтов\n",
    "\n",
    "**OnlineBackup** - наличие облачного хранилища файлов для резервного копирования данных\n",
    "\n",
    "**DeviceProtection** - наличие антивируса\n",
    "\n",
    "**TechSupport** - наличие выделенной линии технической поддержки\n",
    "\n",
    "**StreamingTV** - наличие стримингового телевидения\n",
    "\n",
    "**StreamingMovies** - наличие каталога фильмов"
   ]
  },
  {
   "cell_type": "markdown",
   "metadata": {},
   "source": [
    "Проверяем значения"
   ]
  },
  {
   "cell_type": "code",
   "execution_count": 31,
   "metadata": {},
   "outputs": [
    {
     "name": "stdout",
     "output_type": "stream",
     "text": [
      "['DSL' 'Fiber optic']\n",
      "['No' 'Yes']\n",
      "['Yes' 'No']\n",
      "['No' 'Yes']\n",
      "['No' 'Yes']\n",
      "['No' 'Yes']\n",
      "['No' 'Yes']\n"
     ]
    }
   ],
   "source": [
    "print(internet['InternetService'].unique())\n",
    "print(internet['OnlineSecurity'].unique())\n",
    "print(internet['OnlineBackup'].unique())\n",
    "print(internet['DeviceProtection'].unique())\n",
    "print(internet['TechSupport'].unique())\n",
    "print(internet['StreamingTV'].unique())\n",
    "print(internet['StreamingMovies'].unique())"
   ]
  },
  {
   "cell_type": "markdown",
   "metadata": {},
   "source": [
    "Проверяем наличие отсутствующих значений"
   ]
  },
  {
   "cell_type": "code",
   "execution_count": 32,
   "metadata": {},
   "outputs": [
    {
     "data": {
      "text/plain": [
       "InternetService     0\n",
       "OnlineSecurity      0\n",
       "OnlineBackup        0\n",
       "DeviceProtection    0\n",
       "TechSupport         0\n",
       "StreamingTV         0\n",
       "StreamingMovies     0\n",
       "dtype: int64"
      ]
     },
     "execution_count": 32,
     "metadata": {},
     "output_type": "execute_result"
    }
   ],
   "source": [
    "internet.isnull().sum()"
   ]
  },
  {
   "cell_type": "code",
   "execution_count": 33,
   "metadata": {},
   "outputs": [],
   "source": [
    "internet['fiber_optic'] = (internet['InternetService'] == 'Fiber optic').astype('int8')\n",
    "internet.drop('InternetService', axis=1, inplace=True)"
   ]
  },
  {
   "cell_type": "code",
   "execution_count": 34,
   "metadata": {},
   "outputs": [],
   "source": [
    "for col in ['OnlineSecurity', 'OnlineBackup', 'DeviceProtection', 'TechSupport', 'StreamingTV', 'StreamingMovies']:\n",
    "    internet[col] = (internet[col] == 'Yes').astype('int8')"
   ]
  },
  {
   "cell_type": "code",
   "execution_count": 35,
   "metadata": {},
   "outputs": [
    {
     "data": {
      "text/html": [
       "<div>\n",
       "<style scoped>\n",
       "    .dataframe tbody tr th:only-of-type {\n",
       "        vertical-align: middle;\n",
       "    }\n",
       "\n",
       "    .dataframe tbody tr th {\n",
       "        vertical-align: top;\n",
       "    }\n",
       "\n",
       "    .dataframe thead th {\n",
       "        text-align: right;\n",
       "    }\n",
       "</style>\n",
       "<table border=\"1\" class=\"dataframe\">\n",
       "  <thead>\n",
       "    <tr style=\"text-align: right;\">\n",
       "      <th></th>\n",
       "      <th>OnlineSecurity</th>\n",
       "      <th>OnlineBackup</th>\n",
       "      <th>DeviceProtection</th>\n",
       "      <th>TechSupport</th>\n",
       "      <th>StreamingTV</th>\n",
       "      <th>StreamingMovies</th>\n",
       "      <th>fiber_optic</th>\n",
       "    </tr>\n",
       "    <tr>\n",
       "      <th>customerID</th>\n",
       "      <th></th>\n",
       "      <th></th>\n",
       "      <th></th>\n",
       "      <th></th>\n",
       "      <th></th>\n",
       "      <th></th>\n",
       "      <th></th>\n",
       "    </tr>\n",
       "  </thead>\n",
       "  <tbody>\n",
       "    <tr>\n",
       "      <th>7590-VHVEG</th>\n",
       "      <td>0</td>\n",
       "      <td>1</td>\n",
       "      <td>0</td>\n",
       "      <td>0</td>\n",
       "      <td>0</td>\n",
       "      <td>0</td>\n",
       "      <td>0</td>\n",
       "    </tr>\n",
       "    <tr>\n",
       "      <th>5575-GNVDE</th>\n",
       "      <td>1</td>\n",
       "      <td>0</td>\n",
       "      <td>1</td>\n",
       "      <td>0</td>\n",
       "      <td>0</td>\n",
       "      <td>0</td>\n",
       "      <td>0</td>\n",
       "    </tr>\n",
       "    <tr>\n",
       "      <th>3668-QPYBK</th>\n",
       "      <td>1</td>\n",
       "      <td>1</td>\n",
       "      <td>0</td>\n",
       "      <td>0</td>\n",
       "      <td>0</td>\n",
       "      <td>0</td>\n",
       "      <td>0</td>\n",
       "    </tr>\n",
       "    <tr>\n",
       "      <th>7795-CFOCW</th>\n",
       "      <td>1</td>\n",
       "      <td>0</td>\n",
       "      <td>1</td>\n",
       "      <td>1</td>\n",
       "      <td>0</td>\n",
       "      <td>0</td>\n",
       "      <td>0</td>\n",
       "    </tr>\n",
       "    <tr>\n",
       "      <th>9237-HQITU</th>\n",
       "      <td>0</td>\n",
       "      <td>0</td>\n",
       "      <td>0</td>\n",
       "      <td>0</td>\n",
       "      <td>0</td>\n",
       "      <td>0</td>\n",
       "      <td>1</td>\n",
       "    </tr>\n",
       "    <tr>\n",
       "      <th>9305-CDSKC</th>\n",
       "      <td>0</td>\n",
       "      <td>0</td>\n",
       "      <td>1</td>\n",
       "      <td>0</td>\n",
       "      <td>1</td>\n",
       "      <td>1</td>\n",
       "      <td>1</td>\n",
       "    </tr>\n",
       "    <tr>\n",
       "      <th>1452-KIOVK</th>\n",
       "      <td>0</td>\n",
       "      <td>1</td>\n",
       "      <td>0</td>\n",
       "      <td>0</td>\n",
       "      <td>1</td>\n",
       "      <td>0</td>\n",
       "      <td>1</td>\n",
       "    </tr>\n",
       "    <tr>\n",
       "      <th>6713-OKOMC</th>\n",
       "      <td>1</td>\n",
       "      <td>0</td>\n",
       "      <td>0</td>\n",
       "      <td>0</td>\n",
       "      <td>0</td>\n",
       "      <td>0</td>\n",
       "      <td>0</td>\n",
       "    </tr>\n",
       "    <tr>\n",
       "      <th>7892-POOKP</th>\n",
       "      <td>0</td>\n",
       "      <td>0</td>\n",
       "      <td>1</td>\n",
       "      <td>1</td>\n",
       "      <td>1</td>\n",
       "      <td>1</td>\n",
       "      <td>1</td>\n",
       "    </tr>\n",
       "    <tr>\n",
       "      <th>6388-TABGU</th>\n",
       "      <td>1</td>\n",
       "      <td>1</td>\n",
       "      <td>0</td>\n",
       "      <td>0</td>\n",
       "      <td>0</td>\n",
       "      <td>0</td>\n",
       "      <td>0</td>\n",
       "    </tr>\n",
       "  </tbody>\n",
       "</table>\n",
       "</div>"
      ],
      "text/plain": [
       "            OnlineSecurity  OnlineBackup  DeviceProtection  TechSupport  \\\n",
       "customerID                                                                \n",
       "7590-VHVEG               0             1                 0            0   \n",
       "5575-GNVDE               1             0                 1            0   \n",
       "3668-QPYBK               1             1                 0            0   \n",
       "7795-CFOCW               1             0                 1            1   \n",
       "9237-HQITU               0             0                 0            0   \n",
       "9305-CDSKC               0             0                 1            0   \n",
       "1452-KIOVK               0             1                 0            0   \n",
       "6713-OKOMC               1             0                 0            0   \n",
       "7892-POOKP               0             0                 1            1   \n",
       "6388-TABGU               1             1                 0            0   \n",
       "\n",
       "            StreamingTV  StreamingMovies  fiber_optic  \n",
       "customerID                                             \n",
       "7590-VHVEG            0                0            0  \n",
       "5575-GNVDE            0                0            0  \n",
       "3668-QPYBK            0                0            0  \n",
       "7795-CFOCW            0                0            0  \n",
       "9237-HQITU            0                0            1  \n",
       "9305-CDSKC            1                1            1  \n",
       "1452-KIOVK            1                0            1  \n",
       "6713-OKOMC            0                0            0  \n",
       "7892-POOKP            1                1            1  \n",
       "6388-TABGU            0                0            0  "
      ]
     },
     "execution_count": 35,
     "metadata": {},
     "output_type": "execute_result"
    }
   ],
   "source": [
    "internet.head(10)"
   ]
  },
  {
   "cell_type": "markdown",
   "metadata": {},
   "source": [
    "**Изучаем информацию об услугах телефонии**"
   ]
  },
  {
   "cell_type": "markdown",
   "metadata": {},
   "source": [
    "1. Просматриваем данные"
   ]
  },
  {
   "cell_type": "code",
   "execution_count": 36,
   "metadata": {},
   "outputs": [
    {
     "data": {
      "text/html": [
       "<div>\n",
       "<style scoped>\n",
       "    .dataframe tbody tr th:only-of-type {\n",
       "        vertical-align: middle;\n",
       "    }\n",
       "\n",
       "    .dataframe tbody tr th {\n",
       "        vertical-align: top;\n",
       "    }\n",
       "\n",
       "    .dataframe thead th {\n",
       "        text-align: right;\n",
       "    }\n",
       "</style>\n",
       "<table border=\"1\" class=\"dataframe\">\n",
       "  <thead>\n",
       "    <tr style=\"text-align: right;\">\n",
       "      <th></th>\n",
       "      <th>MultipleLines</th>\n",
       "    </tr>\n",
       "    <tr>\n",
       "      <th>customerID</th>\n",
       "      <th></th>\n",
       "    </tr>\n",
       "  </thead>\n",
       "  <tbody>\n",
       "    <tr>\n",
       "      <th>5575-GNVDE</th>\n",
       "      <td>No</td>\n",
       "    </tr>\n",
       "    <tr>\n",
       "      <th>3668-QPYBK</th>\n",
       "      <td>No</td>\n",
       "    </tr>\n",
       "    <tr>\n",
       "      <th>9237-HQITU</th>\n",
       "      <td>No</td>\n",
       "    </tr>\n",
       "    <tr>\n",
       "      <th>9305-CDSKC</th>\n",
       "      <td>Yes</td>\n",
       "    </tr>\n",
       "    <tr>\n",
       "      <th>1452-KIOVK</th>\n",
       "      <td>Yes</td>\n",
       "    </tr>\n",
       "  </tbody>\n",
       "</table>\n",
       "</div>"
      ],
      "text/plain": [
       "           MultipleLines\n",
       "customerID              \n",
       "5575-GNVDE            No\n",
       "3668-QPYBK            No\n",
       "9237-HQITU            No\n",
       "9305-CDSKC           Yes\n",
       "1452-KIOVK           Yes"
      ]
     },
     "execution_count": 36,
     "metadata": {},
     "output_type": "execute_result"
    }
   ],
   "source": [
    "phone.head()"
   ]
  },
  {
   "cell_type": "markdown",
   "metadata": {},
   "source": [
    "2. Просматриваем информацию о данных"
   ]
  },
  {
   "cell_type": "code",
   "execution_count": 37,
   "metadata": {},
   "outputs": [
    {
     "name": "stdout",
     "output_type": "stream",
     "text": [
      "<class 'pandas.core.frame.DataFrame'>\n",
      "Index: 6361 entries, 5575-GNVDE to 3186-AJIEK\n",
      "Data columns (total 1 columns):\n",
      " #   Column         Non-Null Count  Dtype \n",
      "---  ------         --------------  ----- \n",
      " 0   MultipleLines  6361 non-null   object\n",
      "dtypes: object(1)\n",
      "memory usage: 99.4+ KB\n"
     ]
    }
   ],
   "source": [
    "phone.info()"
   ]
  },
  {
   "cell_type": "markdown",
   "metadata": {},
   "source": [
    "**MultipleLines** - наличие возможности ведения параллельных линий во время звонка"
   ]
  },
  {
   "cell_type": "markdown",
   "metadata": {},
   "source": [
    "Просматриваем возможные варианты"
   ]
  },
  {
   "cell_type": "code",
   "execution_count": 38,
   "metadata": {},
   "outputs": [
    {
     "data": {
      "text/plain": [
       "array(['No', 'Yes'], dtype=object)"
      ]
     },
     "execution_count": 38,
     "metadata": {},
     "output_type": "execute_result"
    }
   ],
   "source": [
    "phone['MultipleLines'].unique()"
   ]
  },
  {
   "cell_type": "code",
   "execution_count": 39,
   "metadata": {},
   "outputs": [],
   "source": [
    "phone['MultipleLines'] = (phone['MultipleLines'] == 'Yes').astype('int8')"
   ]
  },
  {
   "cell_type": "markdown",
   "metadata": {},
   "source": [
    "**ОБЪЕДИНЯЕМ ТАБЛИЦЫ В ОДНУ**"
   ]
  },
  {
   "cell_type": "code",
   "execution_count": 40,
   "metadata": {},
   "outputs": [],
   "source": [
    "data = contract.join(personal, how='left').join(internet, how='left').join(phone, how='left').fillna(0)"
   ]
  },
  {
   "cell_type": "code",
   "execution_count": 41,
   "metadata": {},
   "outputs": [
    {
     "name": "stdout",
     "output_type": "stream",
     "text": [
      "<class 'pandas.core.frame.DataFrame'>\n",
      "Index: 7043 entries, 7590-VHVEG to 3186-AJIEK\n",
      "Data columns (total 20 columns):\n",
      " #   Column            Non-Null Count  Dtype  \n",
      "---  ------            --------------  -----  \n",
      " 0   Type              7043 non-null   int8   \n",
      " 1   PaperlessBilling  7043 non-null   int8   \n",
      " 2   PaymentMethod     7043 non-null   int8   \n",
      " 3   MonthlyCharges    7043 non-null   float64\n",
      " 4   TotalCharges      7043 non-null   float64\n",
      " 5   begin_days        7043 non-null   int64  \n",
      " 6   end_days          7043 non-null   int64  \n",
      " 7   churn             7043 non-null   int8   \n",
      " 8   SeniorCitizen     7043 non-null   int64  \n",
      " 9   Partner           7043 non-null   int8   \n",
      " 10  Dependents        7043 non-null   int8   \n",
      " 11  if_male           7043 non-null   int8   \n",
      " 12  OnlineSecurity    7043 non-null   float64\n",
      " 13  OnlineBackup      7043 non-null   float64\n",
      " 14  DeviceProtection  7043 non-null   float64\n",
      " 15  TechSupport       7043 non-null   float64\n",
      " 16  StreamingTV       7043 non-null   float64\n",
      " 17  StreamingMovies   7043 non-null   float64\n",
      " 18  fiber_optic       7043 non-null   float64\n",
      " 19  MultipleLines     7043 non-null   float64\n",
      "dtypes: float64(10), int64(3), int8(7)\n",
      "memory usage: 1.1+ MB\n"
     ]
    }
   ],
   "source": [
    "data.info()"
   ]
  },
  {
   "cell_type": "code",
   "execution_count": 42,
   "metadata": {},
   "outputs": [
    {
     "data": {
      "text/html": [
       "<div>\n",
       "<style scoped>\n",
       "    .dataframe tbody tr th:only-of-type {\n",
       "        vertical-align: middle;\n",
       "    }\n",
       "\n",
       "    .dataframe tbody tr th {\n",
       "        vertical-align: top;\n",
       "    }\n",
       "\n",
       "    .dataframe thead th {\n",
       "        text-align: right;\n",
       "    }\n",
       "</style>\n",
       "<table border=\"1\" class=\"dataframe\">\n",
       "  <thead>\n",
       "    <tr style=\"text-align: right;\">\n",
       "      <th></th>\n",
       "      <th>Type</th>\n",
       "      <th>PaperlessBilling</th>\n",
       "      <th>PaymentMethod</th>\n",
       "      <th>MonthlyCharges</th>\n",
       "      <th>TotalCharges</th>\n",
       "      <th>begin_days</th>\n",
       "      <th>end_days</th>\n",
       "      <th>churn</th>\n",
       "      <th>SeniorCitizen</th>\n",
       "      <th>Partner</th>\n",
       "      <th>Dependents</th>\n",
       "      <th>if_male</th>\n",
       "      <th>OnlineSecurity</th>\n",
       "      <th>OnlineBackup</th>\n",
       "      <th>DeviceProtection</th>\n",
       "      <th>TechSupport</th>\n",
       "      <th>StreamingTV</th>\n",
       "      <th>StreamingMovies</th>\n",
       "      <th>fiber_optic</th>\n",
       "      <th>MultipleLines</th>\n",
       "    </tr>\n",
       "    <tr>\n",
       "      <th>customerID</th>\n",
       "      <th></th>\n",
       "      <th></th>\n",
       "      <th></th>\n",
       "      <th></th>\n",
       "      <th></th>\n",
       "      <th></th>\n",
       "      <th></th>\n",
       "      <th></th>\n",
       "      <th></th>\n",
       "      <th></th>\n",
       "      <th></th>\n",
       "      <th></th>\n",
       "      <th></th>\n",
       "      <th></th>\n",
       "      <th></th>\n",
       "      <th></th>\n",
       "      <th></th>\n",
       "      <th></th>\n",
       "      <th></th>\n",
       "      <th></th>\n",
       "    </tr>\n",
       "  </thead>\n",
       "  <tbody>\n",
       "    <tr>\n",
       "      <th>7590-VHVEG</th>\n",
       "      <td>0</td>\n",
       "      <td>1</td>\n",
       "      <td>0</td>\n",
       "      <td>29.85</td>\n",
       "      <td>29.85</td>\n",
       "      <td>31</td>\n",
       "      <td>0</td>\n",
       "      <td>0</td>\n",
       "      <td>0</td>\n",
       "      <td>1</td>\n",
       "      <td>0</td>\n",
       "      <td>0</td>\n",
       "      <td>0.0</td>\n",
       "      <td>1.0</td>\n",
       "      <td>0.0</td>\n",
       "      <td>0.0</td>\n",
       "      <td>0.0</td>\n",
       "      <td>0.0</td>\n",
       "      <td>0.0</td>\n",
       "      <td>0.0</td>\n",
       "    </tr>\n",
       "    <tr>\n",
       "      <th>5575-GNVDE</th>\n",
       "      <td>1</td>\n",
       "      <td>0</td>\n",
       "      <td>1</td>\n",
       "      <td>56.95</td>\n",
       "      <td>1889.50</td>\n",
       "      <td>1036</td>\n",
       "      <td>0</td>\n",
       "      <td>0</td>\n",
       "      <td>0</td>\n",
       "      <td>0</td>\n",
       "      <td>0</td>\n",
       "      <td>1</td>\n",
       "      <td>1.0</td>\n",
       "      <td>0.0</td>\n",
       "      <td>1.0</td>\n",
       "      <td>0.0</td>\n",
       "      <td>0.0</td>\n",
       "      <td>0.0</td>\n",
       "      <td>0.0</td>\n",
       "      <td>0.0</td>\n",
       "    </tr>\n",
       "    <tr>\n",
       "      <th>3668-QPYBK</th>\n",
       "      <td>0</td>\n",
       "      <td>1</td>\n",
       "      <td>1</td>\n",
       "      <td>53.85</td>\n",
       "      <td>108.15</td>\n",
       "      <td>123</td>\n",
       "      <td>62</td>\n",
       "      <td>1</td>\n",
       "      <td>0</td>\n",
       "      <td>0</td>\n",
       "      <td>0</td>\n",
       "      <td>1</td>\n",
       "      <td>1.0</td>\n",
       "      <td>1.0</td>\n",
       "      <td>0.0</td>\n",
       "      <td>0.0</td>\n",
       "      <td>0.0</td>\n",
       "      <td>0.0</td>\n",
       "      <td>0.0</td>\n",
       "      <td>0.0</td>\n",
       "    </tr>\n",
       "    <tr>\n",
       "      <th>7795-CFOCW</th>\n",
       "      <td>1</td>\n",
       "      <td>0</td>\n",
       "      <td>2</td>\n",
       "      <td>42.30</td>\n",
       "      <td>1840.75</td>\n",
       "      <td>1371</td>\n",
       "      <td>0</td>\n",
       "      <td>0</td>\n",
       "      <td>0</td>\n",
       "      <td>0</td>\n",
       "      <td>0</td>\n",
       "      <td>1</td>\n",
       "      <td>1.0</td>\n",
       "      <td>0.0</td>\n",
       "      <td>1.0</td>\n",
       "      <td>1.0</td>\n",
       "      <td>0.0</td>\n",
       "      <td>0.0</td>\n",
       "      <td>0.0</td>\n",
       "      <td>0.0</td>\n",
       "    </tr>\n",
       "    <tr>\n",
       "      <th>9237-HQITU</th>\n",
       "      <td>0</td>\n",
       "      <td>1</td>\n",
       "      <td>0</td>\n",
       "      <td>70.70</td>\n",
       "      <td>151.65</td>\n",
       "      <td>153</td>\n",
       "      <td>92</td>\n",
       "      <td>1</td>\n",
       "      <td>0</td>\n",
       "      <td>0</td>\n",
       "      <td>0</td>\n",
       "      <td>0</td>\n",
       "      <td>0.0</td>\n",
       "      <td>0.0</td>\n",
       "      <td>0.0</td>\n",
       "      <td>0.0</td>\n",
       "      <td>0.0</td>\n",
       "      <td>0.0</td>\n",
       "      <td>1.0</td>\n",
       "      <td>0.0</td>\n",
       "    </tr>\n",
       "  </tbody>\n",
       "</table>\n",
       "</div>"
      ],
      "text/plain": [
       "            Type  PaperlessBilling  PaymentMethod  MonthlyCharges  \\\n",
       "customerID                                                          \n",
       "7590-VHVEG     0                 1              0           29.85   \n",
       "5575-GNVDE     1                 0              1           56.95   \n",
       "3668-QPYBK     0                 1              1           53.85   \n",
       "7795-CFOCW     1                 0              2           42.30   \n",
       "9237-HQITU     0                 1              0           70.70   \n",
       "\n",
       "            TotalCharges  begin_days  end_days  churn  SeniorCitizen  Partner  \\\n",
       "customerID                                                                      \n",
       "7590-VHVEG         29.85          31         0      0              0        1   \n",
       "5575-GNVDE       1889.50        1036         0      0              0        0   \n",
       "3668-QPYBK        108.15         123        62      1              0        0   \n",
       "7795-CFOCW       1840.75        1371         0      0              0        0   \n",
       "9237-HQITU        151.65         153        92      1              0        0   \n",
       "\n",
       "            Dependents  if_male  OnlineSecurity  OnlineBackup  \\\n",
       "customerID                                                      \n",
       "7590-VHVEG           0        0             0.0           1.0   \n",
       "5575-GNVDE           0        1             1.0           0.0   \n",
       "3668-QPYBK           0        1             1.0           1.0   \n",
       "7795-CFOCW           0        1             1.0           0.0   \n",
       "9237-HQITU           0        0             0.0           0.0   \n",
       "\n",
       "            DeviceProtection  TechSupport  StreamingTV  StreamingMovies  \\\n",
       "customerID                                                                \n",
       "7590-VHVEG               0.0          0.0          0.0              0.0   \n",
       "5575-GNVDE               1.0          0.0          0.0              0.0   \n",
       "3668-QPYBK               0.0          0.0          0.0              0.0   \n",
       "7795-CFOCW               1.0          1.0          0.0              0.0   \n",
       "9237-HQITU               0.0          0.0          0.0              0.0   \n",
       "\n",
       "            fiber_optic  MultipleLines  \n",
       "customerID                              \n",
       "7590-VHVEG          0.0            0.0  \n",
       "5575-GNVDE          0.0            0.0  \n",
       "3668-QPYBK          0.0            0.0  \n",
       "7795-CFOCW          0.0            0.0  \n",
       "9237-HQITU          1.0            0.0  "
      ]
     },
     "execution_count": 42,
     "metadata": {},
     "output_type": "execute_result"
    }
   ],
   "source": [
    "data.head()"
   ]
  },
  {
   "cell_type": "code",
   "execution_count": 43,
   "metadata": {},
   "outputs": [
    {
     "data": {
      "text/plain": [
       "Type                0\n",
       "PaperlessBilling    0\n",
       "PaymentMethod       0\n",
       "MonthlyCharges      0\n",
       "TotalCharges        0\n",
       "begin_days          0\n",
       "end_days            0\n",
       "churn               0\n",
       "SeniorCitizen       0\n",
       "Partner             0\n",
       "Dependents          0\n",
       "if_male             0\n",
       "OnlineSecurity      0\n",
       "OnlineBackup        0\n",
       "DeviceProtection    0\n",
       "TechSupport         0\n",
       "StreamingTV         0\n",
       "StreamingMovies     0\n",
       "fiber_optic         0\n",
       "MultipleLines       0\n",
       "dtype: int64"
      ]
     },
     "execution_count": 43,
     "metadata": {},
     "output_type": "execute_result"
    }
   ],
   "source": [
    "data.isnull().sum()"
   ]
  },
  {
   "cell_type": "markdown",
   "metadata": {},
   "source": [
    "Проверяем наличие дубликатов"
   ]
  },
  {
   "cell_type": "code",
   "execution_count": 44,
   "metadata": {},
   "outputs": [
    {
     "data": {
      "text/plain": [
       "13"
      ]
     },
     "execution_count": 44,
     "metadata": {},
     "output_type": "execute_result"
    }
   ],
   "source": [
    "data.duplicated().sum()"
   ]
  },
  {
   "cell_type": "markdown",
   "metadata": {},
   "source": [
    "Удаляем дубликаты, так как их количество сравнительно мало, и их удаление не повлияет на дальнейшую работу и построение моделей"
   ]
  },
  {
   "cell_type": "code",
   "execution_count": 45,
   "metadata": {},
   "outputs": [],
   "source": [
    "data.drop_duplicates(inplace=True)"
   ]
  },
  {
   "cell_type": "code",
   "execution_count": 46,
   "metadata": {},
   "outputs": [
    {
     "data": {
      "text/plain": [
       "0"
      ]
     },
     "execution_count": 46,
     "metadata": {},
     "output_type": "execute_result"
    }
   ],
   "source": [
    "data.duplicated().sum()"
   ]
  },
  {
   "cell_type": "markdown",
   "metadata": {},
   "source": [
    "Добавим признак lifetime -  кол-во дней пользования сервисами"
   ]
  },
  {
   "cell_type": "code",
   "execution_count": 47,
   "metadata": {},
   "outputs": [],
   "source": [
    "data['lifetime'] = data['begin_days'] - data['end_days']"
   ]
  },
  {
   "cell_type": "code",
   "execution_count": 48,
   "metadata": {},
   "outputs": [
    {
     "data": {
      "text/html": [
       "<div>\n",
       "<style scoped>\n",
       "    .dataframe tbody tr th:only-of-type {\n",
       "        vertical-align: middle;\n",
       "    }\n",
       "\n",
       "    .dataframe tbody tr th {\n",
       "        vertical-align: top;\n",
       "    }\n",
       "\n",
       "    .dataframe thead th {\n",
       "        text-align: right;\n",
       "    }\n",
       "</style>\n",
       "<table border=\"1\" class=\"dataframe\">\n",
       "  <thead>\n",
       "    <tr style=\"text-align: right;\">\n",
       "      <th></th>\n",
       "      <th>Type</th>\n",
       "      <th>PaperlessBilling</th>\n",
       "      <th>PaymentMethod</th>\n",
       "      <th>MonthlyCharges</th>\n",
       "      <th>TotalCharges</th>\n",
       "      <th>begin_days</th>\n",
       "      <th>end_days</th>\n",
       "      <th>churn</th>\n",
       "      <th>SeniorCitizen</th>\n",
       "      <th>Partner</th>\n",
       "      <th>...</th>\n",
       "      <th>if_male</th>\n",
       "      <th>OnlineSecurity</th>\n",
       "      <th>OnlineBackup</th>\n",
       "      <th>DeviceProtection</th>\n",
       "      <th>TechSupport</th>\n",
       "      <th>StreamingTV</th>\n",
       "      <th>StreamingMovies</th>\n",
       "      <th>fiber_optic</th>\n",
       "      <th>MultipleLines</th>\n",
       "      <th>lifetime</th>\n",
       "    </tr>\n",
       "    <tr>\n",
       "      <th>customerID</th>\n",
       "      <th></th>\n",
       "      <th></th>\n",
       "      <th></th>\n",
       "      <th></th>\n",
       "      <th></th>\n",
       "      <th></th>\n",
       "      <th></th>\n",
       "      <th></th>\n",
       "      <th></th>\n",
       "      <th></th>\n",
       "      <th></th>\n",
       "      <th></th>\n",
       "      <th></th>\n",
       "      <th></th>\n",
       "      <th></th>\n",
       "      <th></th>\n",
       "      <th></th>\n",
       "      <th></th>\n",
       "      <th></th>\n",
       "      <th></th>\n",
       "      <th></th>\n",
       "    </tr>\n",
       "  </thead>\n",
       "  <tbody>\n",
       "    <tr>\n",
       "      <th>7590-VHVEG</th>\n",
       "      <td>0</td>\n",
       "      <td>1</td>\n",
       "      <td>0</td>\n",
       "      <td>29.85</td>\n",
       "      <td>29.85</td>\n",
       "      <td>31</td>\n",
       "      <td>0</td>\n",
       "      <td>0</td>\n",
       "      <td>0</td>\n",
       "      <td>1</td>\n",
       "      <td>...</td>\n",
       "      <td>0</td>\n",
       "      <td>0.0</td>\n",
       "      <td>1.0</td>\n",
       "      <td>0.0</td>\n",
       "      <td>0.0</td>\n",
       "      <td>0.0</td>\n",
       "      <td>0.0</td>\n",
       "      <td>0.0</td>\n",
       "      <td>0.0</td>\n",
       "      <td>31</td>\n",
       "    </tr>\n",
       "    <tr>\n",
       "      <th>5575-GNVDE</th>\n",
       "      <td>1</td>\n",
       "      <td>0</td>\n",
       "      <td>1</td>\n",
       "      <td>56.95</td>\n",
       "      <td>1889.50</td>\n",
       "      <td>1036</td>\n",
       "      <td>0</td>\n",
       "      <td>0</td>\n",
       "      <td>0</td>\n",
       "      <td>0</td>\n",
       "      <td>...</td>\n",
       "      <td>1</td>\n",
       "      <td>1.0</td>\n",
       "      <td>0.0</td>\n",
       "      <td>1.0</td>\n",
       "      <td>0.0</td>\n",
       "      <td>0.0</td>\n",
       "      <td>0.0</td>\n",
       "      <td>0.0</td>\n",
       "      <td>0.0</td>\n",
       "      <td>1036</td>\n",
       "    </tr>\n",
       "    <tr>\n",
       "      <th>3668-QPYBK</th>\n",
       "      <td>0</td>\n",
       "      <td>1</td>\n",
       "      <td>1</td>\n",
       "      <td>53.85</td>\n",
       "      <td>108.15</td>\n",
       "      <td>123</td>\n",
       "      <td>62</td>\n",
       "      <td>1</td>\n",
       "      <td>0</td>\n",
       "      <td>0</td>\n",
       "      <td>...</td>\n",
       "      <td>1</td>\n",
       "      <td>1.0</td>\n",
       "      <td>1.0</td>\n",
       "      <td>0.0</td>\n",
       "      <td>0.0</td>\n",
       "      <td>0.0</td>\n",
       "      <td>0.0</td>\n",
       "      <td>0.0</td>\n",
       "      <td>0.0</td>\n",
       "      <td>61</td>\n",
       "    </tr>\n",
       "    <tr>\n",
       "      <th>7795-CFOCW</th>\n",
       "      <td>1</td>\n",
       "      <td>0</td>\n",
       "      <td>2</td>\n",
       "      <td>42.30</td>\n",
       "      <td>1840.75</td>\n",
       "      <td>1371</td>\n",
       "      <td>0</td>\n",
       "      <td>0</td>\n",
       "      <td>0</td>\n",
       "      <td>0</td>\n",
       "      <td>...</td>\n",
       "      <td>1</td>\n",
       "      <td>1.0</td>\n",
       "      <td>0.0</td>\n",
       "      <td>1.0</td>\n",
       "      <td>1.0</td>\n",
       "      <td>0.0</td>\n",
       "      <td>0.0</td>\n",
       "      <td>0.0</td>\n",
       "      <td>0.0</td>\n",
       "      <td>1371</td>\n",
       "    </tr>\n",
       "    <tr>\n",
       "      <th>9237-HQITU</th>\n",
       "      <td>0</td>\n",
       "      <td>1</td>\n",
       "      <td>0</td>\n",
       "      <td>70.70</td>\n",
       "      <td>151.65</td>\n",
       "      <td>153</td>\n",
       "      <td>92</td>\n",
       "      <td>1</td>\n",
       "      <td>0</td>\n",
       "      <td>0</td>\n",
       "      <td>...</td>\n",
       "      <td>0</td>\n",
       "      <td>0.0</td>\n",
       "      <td>0.0</td>\n",
       "      <td>0.0</td>\n",
       "      <td>0.0</td>\n",
       "      <td>0.0</td>\n",
       "      <td>0.0</td>\n",
       "      <td>1.0</td>\n",
       "      <td>0.0</td>\n",
       "      <td>61</td>\n",
       "    </tr>\n",
       "  </tbody>\n",
       "</table>\n",
       "<p>5 rows × 21 columns</p>\n",
       "</div>"
      ],
      "text/plain": [
       "            Type  PaperlessBilling  PaymentMethod  MonthlyCharges  \\\n",
       "customerID                                                          \n",
       "7590-VHVEG     0                 1              0           29.85   \n",
       "5575-GNVDE     1                 0              1           56.95   \n",
       "3668-QPYBK     0                 1              1           53.85   \n",
       "7795-CFOCW     1                 0              2           42.30   \n",
       "9237-HQITU     0                 1              0           70.70   \n",
       "\n",
       "            TotalCharges  begin_days  end_days  churn  SeniorCitizen  Partner  \\\n",
       "customerID                                                                      \n",
       "7590-VHVEG         29.85          31         0      0              0        1   \n",
       "5575-GNVDE       1889.50        1036         0      0              0        0   \n",
       "3668-QPYBK        108.15         123        62      1              0        0   \n",
       "7795-CFOCW       1840.75        1371         0      0              0        0   \n",
       "9237-HQITU        151.65         153        92      1              0        0   \n",
       "\n",
       "            ...  if_male  OnlineSecurity  OnlineBackup  DeviceProtection  \\\n",
       "customerID  ...                                                            \n",
       "7590-VHVEG  ...        0             0.0           1.0               0.0   \n",
       "5575-GNVDE  ...        1             1.0           0.0               1.0   \n",
       "3668-QPYBK  ...        1             1.0           1.0               0.0   \n",
       "7795-CFOCW  ...        1             1.0           0.0               1.0   \n",
       "9237-HQITU  ...        0             0.0           0.0               0.0   \n",
       "\n",
       "            TechSupport  StreamingTV  StreamingMovies  fiber_optic  \\\n",
       "customerID                                                           \n",
       "7590-VHVEG          0.0          0.0              0.0          0.0   \n",
       "5575-GNVDE          0.0          0.0              0.0          0.0   \n",
       "3668-QPYBK          0.0          0.0              0.0          0.0   \n",
       "7795-CFOCW          1.0          0.0              0.0          0.0   \n",
       "9237-HQITU          0.0          0.0              0.0          1.0   \n",
       "\n",
       "            MultipleLines  lifetime  \n",
       "customerID                           \n",
       "7590-VHVEG            0.0        31  \n",
       "5575-GNVDE            0.0      1036  \n",
       "3668-QPYBK            0.0        61  \n",
       "7795-CFOCW            0.0      1371  \n",
       "9237-HQITU            0.0        61  \n",
       "\n",
       "[5 rows x 21 columns]"
      ]
     },
     "execution_count": 48,
     "metadata": {},
     "output_type": "execute_result"
    }
   ],
   "source": [
    "data.head()"
   ]
  },
  {
   "cell_type": "markdown",
   "metadata": {},
   "source": [
    "**ВЫВОД**\n",
    "\n",
    "Предобработка данных произведена успешно\n",
    "\n",
    "Строковые типы преобразованны в числовые категории\n",
    "\n",
    "Дубликаты удалены\n",
    "\n",
    "Отсутствующих значений нет"
   ]
  },
  {
   "cell_type": "markdown",
   "metadata": {},
   "source": [
    "Построим графики для выявления определяющих факторов\n",
    "\n",
    "Среди ушедших клиентов самый большой процент среди тех, кто оплачивал услуги ежемесячно"
   ]
  },
  {
   "cell_type": "code",
   "execution_count": 49,
   "metadata": {},
   "outputs": [
    {
     "data": {
      "text/plain": [
       "<AxesSubplot:xlabel='Type', ylabel='count'>"
      ]
     },
     "execution_count": 49,
     "metadata": {},
     "output_type": "execute_result"
    },
    {
     "data": {
      "image/png": "[encoded data removed]",
      "text/plain": [
       "<Figure size 432x288 with 1 Axes>"
      ]
     },
     "metadata": {
      "needs_background": "light"
     },
     "output_type": "display_data"
    }
   ],
   "source": [
    "sns.countplot(x='Type', hue='churn', data=data)"
   ]
  },
  {
   "cell_type": "markdown",
   "metadata": {},
   "source": [
    "Среди ушедших клиентов большой процент пользовался безналичным расчётом.\n",
    "В принципе, признаки Paperless Billing и Payment Method несут в себе одинаковую информацию."
   ]
  },
  {
   "cell_type": "code",
   "execution_count": 50,
   "metadata": {},
   "outputs": [
    {
     "data": {
      "text/plain": [
       "<AxesSubplot:xlabel='PaperlessBilling', ylabel='count'>"
      ]
     },
     "execution_count": 50,
     "metadata": {},
     "output_type": "execute_result"
    },
    {
     "data": {
      "image/png": "[encoded data removed]",
      "text/plain": [
       "<Figure size 432x288 with 1 Axes>"
      ]
     },
     "metadata": {
      "needs_background": "light"
     },
     "output_type": "display_data"
    }
   ],
   "source": [
    "sns.countplot(x='PaperlessBilling', hue='churn', data=data)"
   ]
  },
  {
   "cell_type": "code",
   "execution_count": 51,
   "metadata": {},
   "outputs": [
    {
     "data": {
      "text/plain": [
       "<AxesSubplot:xlabel='PaymentMethod', ylabel='count'>"
      ]
     },
     "execution_count": 51,
     "metadata": {},
     "output_type": "execute_result"
    },
    {
     "data": {
      "image/png": "[encoded data removed]",
      "text/plain": [
       "<Figure size 432x288 with 1 Axes>"
      ]
     },
     "metadata": {
      "needs_background": "light"
     },
     "output_type": "display_data"
    }
   ],
   "source": [
    "sns.countplot(x='PaymentMethod', hue='churn', data=data)"
   ]
  },
  {
   "cell_type": "markdown",
   "metadata": {},
   "source": [
    "Среди ушедших в процентном соотношении много пенсионеров, но относительно общего числа пользователей их сравнительно мало"
   ]
  },
  {
   "cell_type": "code",
   "execution_count": 52,
   "metadata": {},
   "outputs": [
    {
     "data": {
      "text/plain": [
       "<AxesSubplot:xlabel='SeniorCitizen', ylabel='count'>"
      ]
     },
     "execution_count": 52,
     "metadata": {},
     "output_type": "execute_result"
    },
    {
     "data": {
      "image/png": "[encoded data removed]",
      "text/plain": [
       "<Figure size 432x288 with 1 Axes>"
      ]
     },
     "metadata": {
      "needs_background": "light"
     },
     "output_type": "display_data"
    }
   ],
   "source": [
    "sns.countplot(x='SeniorCitizen', hue='churn', data=data)"
   ]
  },
  {
   "cell_type": "markdown",
   "metadata": {},
   "source": [
    "Среди ушедших клиентов примерно 50% не состояли в браке"
   ]
  },
  {
   "cell_type": "code",
   "execution_count": 53,
   "metadata": {},
   "outputs": [
    {
     "data": {
      "text/plain": [
       "<AxesSubplot:xlabel='Partner', ylabel='count'>"
      ]
     },
     "execution_count": 53,
     "metadata": {},
     "output_type": "execute_result"
    },
    {
     "data": {
      "image/png": "[encoded data removed]",
      "text/plain": [
       "<Figure size 432x288 with 1 Axes>"
      ]
     },
     "metadata": {
      "needs_background": "light"
     },
     "output_type": "display_data"
    }
   ],
   "source": [
    "sns.countplot(x='Partner', hue='churn', data=data)"
   ]
  },
  {
   "cell_type": "markdown",
   "metadata": {},
   "source": [
    "Пол также почти не влияет на прекращение пользования услугами"
   ]
  },
  {
   "cell_type": "code",
   "execution_count": 54,
   "metadata": {},
   "outputs": [
    {
     "data": {
      "text/plain": [
       "<AxesSubplot:xlabel='if_male', ylabel='count'>"
      ]
     },
     "execution_count": 54,
     "metadata": {},
     "output_type": "execute_result"
    },
    {
     "data": {
      "image/png": "[encoded data removed]",
      "text/plain": [
       "<Figure size 432x288 with 1 Axes>"
      ]
     },
     "metadata": {
      "needs_background": "light"
     },
     "output_type": "display_data"
    }
   ],
   "source": [
    "sns.countplot(x='if_male', hue='churn', data=data)"
   ]
  },
  {
   "cell_type": "markdown",
   "metadata": {},
   "source": [
    "Наличие иждивенцев также почти не влияет на прекращение пользования услугами"
   ]
  },
  {
   "cell_type": "code",
   "execution_count": 55,
   "metadata": {},
   "outputs": [
    {
     "data": {
      "text/plain": [
       "<AxesSubplot:xlabel='Dependents', ylabel='count'>"
      ]
     },
     "execution_count": 55,
     "metadata": {},
     "output_type": "execute_result"
    },
    {
     "data": {
      "image/png": "[encoded data removed]",
      "text/plain": [
       "<Figure size 432x288 with 1 Axes>"
      ]
     },
     "metadata": {
      "needs_background": "light"
     },
     "output_type": "display_data"
    }
   ],
   "source": [
    "sns.countplot(x='Dependents', hue='churn', data=data)"
   ]
  },
  {
   "cell_type": "markdown",
   "metadata": {},
   "source": [
    "Многие ушедшие клиенты пользовались оптоволокном"
   ]
  },
  {
   "cell_type": "code",
   "execution_count": 56,
   "metadata": {},
   "outputs": [
    {
     "data": {
      "text/plain": [
       "<AxesSubplot:xlabel='fiber_optic', ylabel='count'>"
      ]
     },
     "execution_count": 56,
     "metadata": {},
     "output_type": "execute_result"
    },
    {
     "data": {
      "image/png": "[encoded data removed]",
      "text/plain": [
       "<Figure size 432x288 with 1 Axes>"
      ]
     },
     "metadata": {
      "needs_background": "light"
     },
     "output_type": "display_data"
    }
   ],
   "source": [
    "sns.countplot(x='fiber_optic', hue='churn', data=data)"
   ]
  },
  {
   "cell_type": "markdown",
   "metadata": {},
   "source": [
    "Ушедшие клиенты платили в месяц больше"
   ]
  },
  {
   "cell_type": "code",
   "execution_count": 57,
   "metadata": {},
   "outputs": [
    {
     "data": {
      "text/plain": [
       "<AxesSubplot:xlabel='MonthlyCharges', ylabel='churn'>"
      ]
     },
     "execution_count": 57,
     "metadata": {},
     "output_type": "execute_result"
    },
    {
     "data": {
      "image/png": "[encoded data removed]",
      "text/plain": [
       "<Figure size 432x288 with 1 Axes>"
      ]
     },
     "metadata": {
      "needs_background": "light"
     },
     "output_type": "display_data"
    }
   ],
   "source": [
    "sns.barplot(x='MonthlyCharges', y = 'churn', data=data, orient='h')"
   ]
  },
  {
   "cell_type": "markdown",
   "metadata": {},
   "source": [
    "Ушедшие клиенты сравнительно меньше по времени пользовались услугами, чем те, которые остались\n"
   ]
  },
  {
   "cell_type": "code",
   "execution_count": 58,
   "metadata": {
    "scrolled": true
   },
   "outputs": [
    {
     "data": {
      "text/plain": [
       "<AxesSubplot:xlabel='lifetime', ylabel='churn'>"
      ]
     },
     "execution_count": 58,
     "metadata": {},
     "output_type": "execute_result"
    },
    {
     "data": {
      "image/png": "[encoded data removed]",
      "text/plain": [
       "<Figure size 432x288 with 1 Axes>"
      ]
     },
     "metadata": {
      "needs_background": "light"
     },
     "output_type": "display_data"
    }
   ],
   "source": [
    "sns.barplot(x='lifetime', y = 'churn', data=data, orient='h')"
   ]
  },
  {
   "cell_type": "markdown",
   "metadata": {},
   "source": [
    "Строим матрицу корреляции\n",
    "\n",
    "Факторы, имеющие корреляцию больше 0,8 удалены, а необходимая информация из них сгруппирована в признаке lifetime"
   ]
  },
  {
   "cell_type": "code",
   "execution_count": 59,
   "metadata": {},
   "outputs": [
    {
     "data": {
      "text/html": [
       "<div>\n",
       "<style scoped>\n",
       "    .dataframe tbody tr th:only-of-type {\n",
       "        vertical-align: middle;\n",
       "    }\n",
       "\n",
       "    .dataframe tbody tr th {\n",
       "        vertical-align: top;\n",
       "    }\n",
       "\n",
       "    .dataframe thead th {\n",
       "        text-align: right;\n",
       "    }\n",
       "</style>\n",
       "<table border=\"1\" class=\"dataframe\">\n",
       "  <thead>\n",
       "    <tr style=\"text-align: right;\">\n",
       "      <th></th>\n",
       "      <th>churn</th>\n",
       "      <th>MonthlyCharges</th>\n",
       "      <th>TotalCharges</th>\n",
       "      <th>begin_days</th>\n",
       "      <th>end_days</th>\n",
       "    </tr>\n",
       "  </thead>\n",
       "  <tbody>\n",
       "    <tr>\n",
       "      <th>churn</th>\n",
       "      <td>1.000000</td>\n",
       "      <td>0.192862</td>\n",
       "      <td>-0.198829</td>\n",
       "      <td>-0.312731</td>\n",
       "      <td>0.889368</td>\n",
       "    </tr>\n",
       "    <tr>\n",
       "      <th>MonthlyCharges</th>\n",
       "      <td>0.192862</td>\n",
       "      <td>1.000000</td>\n",
       "      <td>0.650619</td>\n",
       "      <td>0.258717</td>\n",
       "      <td>0.180711</td>\n",
       "    </tr>\n",
       "    <tr>\n",
       "      <th>TotalCharges</th>\n",
       "      <td>-0.198829</td>\n",
       "      <td>0.650619</td>\n",
       "      <td>1.000000</td>\n",
       "      <td>0.829083</td>\n",
       "      <td>-0.174008</td>\n",
       "    </tr>\n",
       "    <tr>\n",
       "      <th>begin_days</th>\n",
       "      <td>-0.312731</td>\n",
       "      <td>0.258717</td>\n",
       "      <td>0.829083</td>\n",
       "      <td>1.000000</td>\n",
       "      <td>-0.264211</td>\n",
       "    </tr>\n",
       "    <tr>\n",
       "      <th>end_days</th>\n",
       "      <td>0.889368</td>\n",
       "      <td>0.180711</td>\n",
       "      <td>-0.174008</td>\n",
       "      <td>-0.264211</td>\n",
       "      <td>1.000000</td>\n",
       "    </tr>\n",
       "  </tbody>\n",
       "</table>\n",
       "</div>"
      ],
      "text/plain": [
       "                   churn  MonthlyCharges  TotalCharges  begin_days  end_days\n",
       "churn           1.000000        0.192862     -0.198829   -0.312731  0.889368\n",
       "MonthlyCharges  0.192862        1.000000      0.650619    0.258717  0.180711\n",
       "TotalCharges   -0.198829        0.650619      1.000000    0.829083 -0.174008\n",
       "begin_days     -0.312731        0.258717      0.829083    1.000000 -0.264211\n",
       "end_days        0.889368        0.180711     -0.174008   -0.264211  1.000000"
      ]
     },
     "execution_count": 59,
     "metadata": {},
     "output_type": "execute_result"
    }
   ],
   "source": [
    "cor_columns = ['churn', 'MonthlyCharges', 'TotalCharges','begin_days', 'end_days']\n",
    "correlation = data[cor_columns].corr()\n",
    "correlation"
   ]
  },
  {
   "cell_type": "code",
   "execution_count": 60,
   "metadata": {},
   "outputs": [
    {
     "data": {
      "image/png": "[encoded data removed]",
      "text/plain": [
       "<Figure size 576x576 with 2 Axes>"
      ]
     },
     "metadata": {
      "needs_background": "light"
     },
     "output_type": "display_data"
    }
   ],
   "source": [
    "cor_columns = ['churn', 'MonthlyCharges', 'TotalCharges','begin_days', 'end_days']\n",
    "correlation = data[cor_columns].corr()\n",
    "plt.figure(figsize=(8, 8))\n",
    "sns.heatmap(correlation, vmax=1, square=True,annot=True,cmap='RdBu')\n",
    "\n",
    "plt.title('Correlation between different features')\n",
    "plt.show()"
   ]
  },
  {
   "cell_type": "markdown",
   "metadata": {},
   "source": [
    "Так как мы создали признак количества дней пользования, признаки end_days и begin_days можно удалить. Также удалим признак, определяющий пол."
   ]
  },
  {
   "cell_type": "code",
   "execution_count": 61,
   "metadata": {},
   "outputs": [],
   "source": [
    "data.drop(['begin_days', 'end_days', 'if_male'], axis=1, inplace=True)"
   ]
  },
  {
   "cell_type": "markdown",
   "metadata": {},
   "source": [
    "Просмотрим количество ушедших клинетов относительно общего числа."
   ]
  },
  {
   "cell_type": "code",
   "execution_count": 62,
   "metadata": {},
   "outputs": [
    {
     "data": {
      "text/plain": [
       "Type                1866\n",
       "PaperlessBilling    1866\n",
       "PaymentMethod       1866\n",
       "MonthlyCharges      1866\n",
       "TotalCharges        1866\n",
       "churn               1866\n",
       "SeniorCitizen       1866\n",
       "Partner             1866\n",
       "Dependents          1866\n",
       "OnlineSecurity      1866\n",
       "OnlineBackup        1866\n",
       "DeviceProtection    1866\n",
       "TechSupport         1866\n",
       "StreamingTV         1866\n",
       "StreamingMovies     1866\n",
       "fiber_optic         1866\n",
       "MultipleLines       1866\n",
       "lifetime            1866\n",
       "dtype: int64"
      ]
     },
     "execution_count": 62,
     "metadata": {},
     "output_type": "execute_result"
    }
   ],
   "source": [
    "gone = data[data['churn']== 1]\n",
    "gone.count()"
   ]
  },
  {
   "cell_type": "markdown",
   "metadata": {},
   "source": [
    "Процент ушедших клиентов по предоставленным данным около 26-27%\n",
    "Соотношение примерно 1:3"
   ]
  },
  {
   "cell_type": "markdown",
   "metadata": {},
   "source": [
    "**Вывод**\n",
    "1. Данные успешно загружены\n",
    "2. Данные изучены\n",
    "3. Данные предобработаны\n",
    "4. Объективно не несущие пользу признаки удалены\n",
    "5. Добавлены необходимые для дальнейшей работы признаки\n",
    "6. Данные проанализированы\n",
    "7. Построены наглядные графики\n",
    "8. Выявлено соотношение ушедших клиентов к оставшимся клиентам\n",
    "9. Данные подготовлены для дальнейшей работы и обучения моделей"
   ]
  },
  {
   "cell_type": "markdown",
   "metadata": {},
   "source": [
    "## Обучение модели"
   ]
  },
  {
   "cell_type": "markdown",
   "metadata": {},
   "source": [
    "Выделяем признаки"
   ]
  },
  {
   "cell_type": "code",
   "execution_count": 63,
   "metadata": {},
   "outputs": [],
   "source": [
    "target = data['churn']\n",
    "features = data.drop('churn', axis=1)"
   ]
  },
  {
   "cell_type": "markdown",
   "metadata": {},
   "source": [
    "Делим на выборки"
   ]
  },
  {
   "cell_type": "code",
   "execution_count": 64,
   "metadata": {},
   "outputs": [],
   "source": [
    "X_train, X_test, y_train, y_test = train_test_split(features, target, test_size=0.2, random_state=123)"
   ]
  },
  {
   "cell_type": "code",
   "execution_count": 65,
   "metadata": {},
   "outputs": [
    {
     "name": "stdout",
     "output_type": "stream",
     "text": [
      "Размер тренировочной выборки: (5624, 17)\n",
      "Размер тестовой выборки: (1406, 17)\n"
     ]
    }
   ],
   "source": [
    "print(f\"Размер тренировочной выборки: {X_train.shape}\")\n",
    "print(f\"Размер тестовой выборки: {X_test.shape}\")"
   ]
  },
  {
   "cell_type": "markdown",
   "metadata": {},
   "source": [
    "Пробуем модели"
   ]
  },
  {
   "cell_type": "markdown",
   "metadata": {},
   "source": [
    "**1. Логистическая регрессия**"
   ]
  },
  {
   "cell_type": "code",
   "execution_count": 66,
   "metadata": {},
   "outputs": [
    {
     "name": "stdout",
     "output_type": "stream",
     "text": [
      "AUC_ROC для модели Логистической Регрессии на кросс-валидации: 0.838\n",
      "ACCURACY для модели Логистической Регрессии: 0.797\n"
     ]
    }
   ],
   "source": [
    "model_lr = LogisticRegression()\n",
    "roc_auc_lr_v = cross_val_score(model_lr, X_train, y_train, cv=5, scoring='roc_auc').mean()\n",
    "print(f\"AUC_ROC для модели Логистической Регрессии на кросс-валидации: {roc_auc_lr_v:.3f}\")\n",
    "accuracy_lr = cross_val_score(model_lr, X_train, y_train, cv=5, scoring='accuracy').mean()\n",
    "print(f\"ACCURACY для модели Логистической Регрессии: {accuracy_lr:.3f}\")"
   ]
  },
  {
   "cell_type": "code",
   "execution_count": 67,
   "metadata": {},
   "outputs": [
    {
     "data": {
      "text/plain": [
       "LogisticRegression()"
      ]
     },
     "execution_count": 67,
     "metadata": {},
     "output_type": "execute_result"
    }
   ],
   "source": [
    "model_lr.fit(X_train, y_train)"
   ]
  },
  {
   "cell_type": "code",
   "execution_count": 68,
   "metadata": {},
   "outputs": [
    {
     "name": "stdout",
     "output_type": "stream",
     "text": [
      "AUC_ROC для модели Логистической Регрессии на тестовой выборке: 0.846\n"
     ]
    }
   ],
   "source": [
    "pred_lr = model_lr.predict_proba(X_test)[:, 1]\n",
    "roc_auc_lr_t = roc_auc_score(y_test, pred_lr)\n",
    "print(f\"AUC_ROC для модели Логистической Регрессии на тестовой выборке: {roc_auc_lr_t:.3f}\")"
   ]
  },
  {
   "cell_type": "code",
   "execution_count": 69,
   "metadata": {},
   "outputs": [
    {
     "name": "stdout",
     "output_type": "stream",
     "text": [
      "ACCURACY для модели Логистической Регрессии на тестовой выборке: 0.803\n"
     ]
    }
   ],
   "source": [
    "accuracy_lr_t = accuracy_score(y_test, model_lr.predict(X_test))\n",
    "print(f\"ACCURACY для модели Логистической Регрессии на тестовой выборке: {accuracy_lr_t:.3f}\")"
   ]
  },
  {
   "cell_type": "markdown",
   "metadata": {},
   "source": [
    "Выявим наиболее влияющие на предсказание признаки"
   ]
  },
  {
   "cell_type": "code",
   "execution_count": 70,
   "metadata": {},
   "outputs": [
    {
     "data": {
      "text/html": [
       "<div>\n",
       "<style scoped>\n",
       "    .dataframe tbody tr th:only-of-type {\n",
       "        vertical-align: middle;\n",
       "    }\n",
       "\n",
       "    .dataframe tbody tr th {\n",
       "        vertical-align: top;\n",
       "    }\n",
       "\n",
       "    .dataframe thead th {\n",
       "        text-align: right;\n",
       "    }\n",
       "</style>\n",
       "<table border=\"1\" class=\"dataframe\">\n",
       "  <thead>\n",
       "    <tr style=\"text-align: right;\">\n",
       "      <th></th>\n",
       "      <th>Attribute</th>\n",
       "      <th>Importance</th>\n",
       "    </tr>\n",
       "  </thead>\n",
       "  <tbody>\n",
       "    <tr>\n",
       "      <th>14</th>\n",
       "      <td>fiber_optic</td>\n",
       "      <td>0.487209</td>\n",
       "    </tr>\n",
       "    <tr>\n",
       "      <th>1</th>\n",
       "      <td>PaperlessBilling</td>\n",
       "      <td>0.378311</td>\n",
       "    </tr>\n",
       "    <tr>\n",
       "      <th>12</th>\n",
       "      <td>StreamingTV</td>\n",
       "      <td>0.292782</td>\n",
       "    </tr>\n",
       "    <tr>\n",
       "      <th>13</th>\n",
       "      <td>StreamingMovies</td>\n",
       "      <td>0.244853</td>\n",
       "    </tr>\n",
       "    <tr>\n",
       "      <th>15</th>\n",
       "      <td>MultipleLines</td>\n",
       "      <td>0.185694</td>\n",
       "    </tr>\n",
       "    <tr>\n",
       "      <th>5</th>\n",
       "      <td>SeniorCitizen</td>\n",
       "      <td>0.156614</td>\n",
       "    </tr>\n",
       "    <tr>\n",
       "      <th>3</th>\n",
       "      <td>MonthlyCharges</td>\n",
       "      <td>0.006753</td>\n",
       "    </tr>\n",
       "    <tr>\n",
       "      <th>4</th>\n",
       "      <td>TotalCharges</td>\n",
       "      <td>0.000284</td>\n",
       "    </tr>\n",
       "    <tr>\n",
       "      <th>16</th>\n",
       "      <td>lifetime</td>\n",
       "      <td>-0.001852</td>\n",
       "    </tr>\n",
       "    <tr>\n",
       "      <th>6</th>\n",
       "      <td>Partner</td>\n",
       "      <td>-0.013829</td>\n",
       "    </tr>\n",
       "    <tr>\n",
       "      <th>10</th>\n",
       "      <td>DeviceProtection</td>\n",
       "      <td>-0.029511</td>\n",
       "    </tr>\n",
       "    <tr>\n",
       "      <th>9</th>\n",
       "      <td>OnlineBackup</td>\n",
       "      <td>-0.149051</td>\n",
       "    </tr>\n",
       "    <tr>\n",
       "      <th>2</th>\n",
       "      <td>PaymentMethod</td>\n",
       "      <td>-0.157030</td>\n",
       "    </tr>\n",
       "    <tr>\n",
       "      <th>7</th>\n",
       "      <td>Dependents</td>\n",
       "      <td>-0.165661</td>\n",
       "    </tr>\n",
       "    <tr>\n",
       "      <th>11</th>\n",
       "      <td>TechSupport</td>\n",
       "      <td>-0.369566</td>\n",
       "    </tr>\n",
       "    <tr>\n",
       "      <th>8</th>\n",
       "      <td>OnlineSecurity</td>\n",
       "      <td>-0.483911</td>\n",
       "    </tr>\n",
       "    <tr>\n",
       "      <th>0</th>\n",
       "      <td>Type</td>\n",
       "      <td>-0.772020</td>\n",
       "    </tr>\n",
       "  </tbody>\n",
       "</table>\n",
       "</div>"
      ],
      "text/plain": [
       "           Attribute  Importance\n",
       "14       fiber_optic    0.487209\n",
       "1   PaperlessBilling    0.378311\n",
       "12       StreamingTV    0.292782\n",
       "13   StreamingMovies    0.244853\n",
       "15     MultipleLines    0.185694\n",
       "5      SeniorCitizen    0.156614\n",
       "3     MonthlyCharges    0.006753\n",
       "4       TotalCharges    0.000284\n",
       "16          lifetime   -0.001852\n",
       "6            Partner   -0.013829\n",
       "10  DeviceProtection   -0.029511\n",
       "9       OnlineBackup   -0.149051\n",
       "2      PaymentMethod   -0.157030\n",
       "7         Dependents   -0.165661\n",
       "11       TechSupport   -0.369566\n",
       "8     OnlineSecurity   -0.483911\n",
       "0               Type   -0.772020"
      ]
     },
     "execution_count": 70,
     "metadata": {},
     "output_type": "execute_result"
    }
   ],
   "source": [
    "importances_lr = pd.DataFrame(data={\n",
    "    'Attribute': X_train.columns,\n",
    "    'Importance': model_lr.coef_[0]\n",
    "})\n",
    "importances_lr = importances_lr.sort_values(by='Importance', ascending=False)\n",
    "importances_lr"
   ]
  },
  {
   "cell_type": "code",
   "execution_count": 71,
   "metadata": {},
   "outputs": [
    {
     "data": {
      "text/plain": [
       "Text(0.5, 1.0, 'Feature importance')"
      ]
     },
     "execution_count": 71,
     "metadata": {},
     "output_type": "execute_result"
    },
    {
     "data": {
      "image/png": "[encoded data removed]",
      "text/plain": [
       "<Figure size 780x600 with 1 Axes>"
      ]
     },
     "metadata": {
      "needs_background": "light"
     },
     "output_type": "display_data"
    }
   ],
   "source": [
    "plt.figure(figsize=(13,10), dpi= 60)\n",
    "ax = sns.barplot(x = 'Importance', y = 'Attribute', data = importances_lr ,palette = 'husl')\n",
    "plt.title('Feature importance', fontsize = 20)"
   ]
  },
  {
   "cell_type": "markdown",
   "metadata": {},
   "source": [
    "**2. Случайный лес**"
   ]
  },
  {
   "cell_type": "code",
   "execution_count": 72,
   "metadata": {},
   "outputs": [
    {
     "name": "stdout",
     "output_type": "stream",
     "text": [
      "AUC_ROC для модели Случайного Леса на кросс-валидации: 0.863\n",
      "ACCURACY для модели Случайного Леса: 0.824\n"
     ]
    }
   ],
   "source": [
    "model_RF = RandomForestClassifier(n_estimators=120, max_depth = 10,max_features = 9, random_state=12345 )\n",
    "roc_auc_RF = cross_val_score(model_RF, X_train, y_train, cv=5, scoring='roc_auc').mean()\n",
    "print(f\"AUC_ROC для модели Случайного Леса на кросс-валидации: {roc_auc_RF:.3f}\")\n",
    "accuracy_RF = cross_val_score(model_RF, X_train, y_train, cv=5, scoring='accuracy').mean()\n",
    "print(f\"ACCURACY для модели Случайного Леса: {accuracy_RF:.3f}\")"
   ]
  },
  {
   "cell_type": "code",
   "execution_count": 73,
   "metadata": {},
   "outputs": [
    {
     "data": {
      "text/plain": [
       "RandomForestClassifier(max_depth=10, max_features=9, n_estimators=120,\n",
       "                       random_state=12345)"
      ]
     },
     "execution_count": 73,
     "metadata": {},
     "output_type": "execute_result"
    }
   ],
   "source": [
    "model_RF.fit(X_train, y_train)"
   ]
  },
  {
   "cell_type": "code",
   "execution_count": 74,
   "metadata": {},
   "outputs": [
    {
     "name": "stdout",
     "output_type": "stream",
     "text": [
      "AUC_ROC для модели Случайного Леса на тестовой выборке: 0.867\n"
     ]
    }
   ],
   "source": [
    "pred_rf = model_RF.predict_proba(X_test)[:, 1]\n",
    "roc_auc_rf_t = roc_auc_score(y_test, pred_rf)\n",
    "print(f\"AUC_ROC для модели Случайного Леса на тестовой выборке: {roc_auc_rf_t:.3f}\")"
   ]
  },
  {
   "cell_type": "code",
   "execution_count": 75,
   "metadata": {},
   "outputs": [
    {
     "name": "stdout",
     "output_type": "stream",
     "text": [
      "ACCURACY для модели Случайного Леса на тестовой выборке: 0.818\n"
     ]
    }
   ],
   "source": [
    "accuracy_rf_t = accuracy_score(y_test, model_RF.predict(X_test))\n",
    "print(f\"ACCURACY для модели Случайного Леса на тестовой выборке: {accuracy_rf_t:.3f}\")"
   ]
  },
  {
   "cell_type": "markdown",
   "metadata": {},
   "source": [
    "Выявим наиболее влияющие на предсказание признаки"
   ]
  },
  {
   "cell_type": "code",
   "execution_count": 76,
   "metadata": {},
   "outputs": [
    {
     "data": {
      "text/html": [
       "<div>\n",
       "<style scoped>\n",
       "    .dataframe tbody tr th:only-of-type {\n",
       "        vertical-align: middle;\n",
       "    }\n",
       "\n",
       "    .dataframe tbody tr th {\n",
       "        vertical-align: top;\n",
       "    }\n",
       "\n",
       "    .dataframe thead th {\n",
       "        text-align: right;\n",
       "    }\n",
       "</style>\n",
       "<table border=\"1\" class=\"dataframe\">\n",
       "  <thead>\n",
       "    <tr style=\"text-align: right;\">\n",
       "      <th></th>\n",
       "      <th>Attribute</th>\n",
       "      <th>Importance</th>\n",
       "    </tr>\n",
       "  </thead>\n",
       "  <tbody>\n",
       "    <tr>\n",
       "      <th>16</th>\n",
       "      <td>lifetime</td>\n",
       "      <td>0.289574</td>\n",
       "    </tr>\n",
       "    <tr>\n",
       "      <th>0</th>\n",
       "      <td>Type</td>\n",
       "      <td>0.167348</td>\n",
       "    </tr>\n",
       "    <tr>\n",
       "      <th>3</th>\n",
       "      <td>MonthlyCharges</td>\n",
       "      <td>0.146948</td>\n",
       "    </tr>\n",
       "    <tr>\n",
       "      <th>4</th>\n",
       "      <td>TotalCharges</td>\n",
       "      <td>0.146488</td>\n",
       "    </tr>\n",
       "    <tr>\n",
       "      <th>14</th>\n",
       "      <td>fiber_optic</td>\n",
       "      <td>0.079339</td>\n",
       "    </tr>\n",
       "    <tr>\n",
       "      <th>2</th>\n",
       "      <td>PaymentMethod</td>\n",
       "      <td>0.042480</td>\n",
       "    </tr>\n",
       "    <tr>\n",
       "      <th>1</th>\n",
       "      <td>PaperlessBilling</td>\n",
       "      <td>0.017143</td>\n",
       "    </tr>\n",
       "    <tr>\n",
       "      <th>8</th>\n",
       "      <td>OnlineSecurity</td>\n",
       "      <td>0.015575</td>\n",
       "    </tr>\n",
       "    <tr>\n",
       "      <th>15</th>\n",
       "      <td>MultipleLines</td>\n",
       "      <td>0.013041</td>\n",
       "    </tr>\n",
       "    <tr>\n",
       "      <th>11</th>\n",
       "      <td>TechSupport</td>\n",
       "      <td>0.012268</td>\n",
       "    </tr>\n",
       "    <tr>\n",
       "      <th>5</th>\n",
       "      <td>SeniorCitizen</td>\n",
       "      <td>0.011598</td>\n",
       "    </tr>\n",
       "    <tr>\n",
       "      <th>12</th>\n",
       "      <td>StreamingTV</td>\n",
       "      <td>0.011315</td>\n",
       "    </tr>\n",
       "    <tr>\n",
       "      <th>6</th>\n",
       "      <td>Partner</td>\n",
       "      <td>0.010441</td>\n",
       "    </tr>\n",
       "    <tr>\n",
       "      <th>9</th>\n",
       "      <td>OnlineBackup</td>\n",
       "      <td>0.010210</td>\n",
       "    </tr>\n",
       "    <tr>\n",
       "      <th>13</th>\n",
       "      <td>StreamingMovies</td>\n",
       "      <td>0.009752</td>\n",
       "    </tr>\n",
       "    <tr>\n",
       "      <th>7</th>\n",
       "      <td>Dependents</td>\n",
       "      <td>0.009301</td>\n",
       "    </tr>\n",
       "    <tr>\n",
       "      <th>10</th>\n",
       "      <td>DeviceProtection</td>\n",
       "      <td>0.007177</td>\n",
       "    </tr>\n",
       "  </tbody>\n",
       "</table>\n",
       "</div>"
      ],
      "text/plain": [
       "           Attribute  Importance\n",
       "16          lifetime    0.289574\n",
       "0               Type    0.167348\n",
       "3     MonthlyCharges    0.146948\n",
       "4       TotalCharges    0.146488\n",
       "14       fiber_optic    0.079339\n",
       "2      PaymentMethod    0.042480\n",
       "1   PaperlessBilling    0.017143\n",
       "8     OnlineSecurity    0.015575\n",
       "15     MultipleLines    0.013041\n",
       "11       TechSupport    0.012268\n",
       "5      SeniorCitizen    0.011598\n",
       "12       StreamingTV    0.011315\n",
       "6            Partner    0.010441\n",
       "9       OnlineBackup    0.010210\n",
       "13   StreamingMovies    0.009752\n",
       "7         Dependents    0.009301\n",
       "10  DeviceProtection    0.007177"
      ]
     },
     "execution_count": 76,
     "metadata": {},
     "output_type": "execute_result"
    }
   ],
   "source": [
    "importances_RF = pd.DataFrame(data={\n",
    "    'Attribute': X_train.columns,\n",
    "    'Importance': model_RF.feature_importances_\n",
    "})\n",
    "importances_RF = importances_RF.sort_values(by='Importance', ascending=False)\n",
    "importances_RF"
   ]
  },
  {
   "cell_type": "code",
   "execution_count": 77,
   "metadata": {},
   "outputs": [
    {
     "data": {
      "text/plain": [
       "Text(0.5, 1.0, 'Feature importance')"
      ]
     },
     "execution_count": 77,
     "metadata": {},
     "output_type": "execute_result"
    },
    {
     "data": {
      "image/png": "[encoded data removed]",
      "text/plain": [
       "<Figure size 780x600 with 1 Axes>"
      ]
     },
     "metadata": {
      "needs_background": "light"
     },
     "output_type": "display_data"
    }
   ],
   "source": [
    "plt.figure(figsize=(13,10), dpi= 60)\n",
    "ax = sns.barplot(x = 'Importance', y = 'Attribute', data = importances_RF ,palette = 'husl')\n",
    "plt.title('Feature importance', fontsize = 20)"
   ]
  },
  {
   "cell_type": "markdown",
   "metadata": {},
   "source": [
    "**3. Дерево решений**"
   ]
  },
  {
   "cell_type": "code",
   "execution_count": 78,
   "metadata": {},
   "outputs": [
    {
     "name": "stdout",
     "output_type": "stream",
     "text": [
      "AUC_ROC для модели Дерева Решений на кросс-валидации: 0.841\n",
      "ACCURACY для модели Дерева Решений: 0.803\n"
     ]
    }
   ],
   "source": [
    "model_DT = DecisionTreeClassifier(random_state=12345, max_depth=6)\n",
    "roc_auc_DT = cross_val_score(model_DT, X_train, y_train, cv=5, scoring='roc_auc').mean()\n",
    "print(f\"AUC_ROC для модели Дерева Решений на кросс-валидации: {roc_auc_DT:.3f}\")\n",
    "accuracy_DT = cross_val_score(model_DT, X_train, y_train, cv=5, scoring='accuracy').mean()\n",
    "print(f\"ACCURACY для модели Дерева Решений: {accuracy_DT:.3f}\")"
   ]
  },
  {
   "cell_type": "code",
   "execution_count": 79,
   "metadata": {},
   "outputs": [
    {
     "data": {
      "text/plain": [
       "DecisionTreeClassifier(max_depth=6, random_state=12345)"
      ]
     },
     "execution_count": 79,
     "metadata": {},
     "output_type": "execute_result"
    }
   ],
   "source": [
    "model_DT.fit(X_train, y_train)"
   ]
  },
  {
   "cell_type": "code",
   "execution_count": 80,
   "metadata": {},
   "outputs": [
    {
     "name": "stdout",
     "output_type": "stream",
     "text": [
      "AUC_ROC для модели Дерева Решений на тестовой выборке: 0.853\n"
     ]
    }
   ],
   "source": [
    "pred_DT = model_DT.predict_proba(X_test)[:, 1]\n",
    "roc_auc_DT_t = roc_auc_score(y_test, pred_DT)\n",
    "print(f\"AUC_ROC для модели Дерева Решений на тестовой выборке: {roc_auc_DT_t:.3f}\")"
   ]
  },
  {
   "cell_type": "code",
   "execution_count": 81,
   "metadata": {},
   "outputs": [
    {
     "name": "stdout",
     "output_type": "stream",
     "text": [
      "ACCURACY для модели Дерева Решений на тестовой выборке: 0.819\n"
     ]
    }
   ],
   "source": [
    "accuracy_DT_t = accuracy_score(y_test, model_DT.predict(X_test))\n",
    "print(f\"ACCURACY для модели Дерева Решений на тестовой выборке: {accuracy_DT_t:.3f}\")"
   ]
  },
  {
   "cell_type": "code",
   "execution_count": 82,
   "metadata": {},
   "outputs": [
    {
     "data": {
      "text/html": [
       "<div>\n",
       "<style scoped>\n",
       "    .dataframe tbody tr th:only-of-type {\n",
       "        vertical-align: middle;\n",
       "    }\n",
       "\n",
       "    .dataframe tbody tr th {\n",
       "        vertical-align: top;\n",
       "    }\n",
       "\n",
       "    .dataframe thead th {\n",
       "        text-align: right;\n",
       "    }\n",
       "</style>\n",
       "<table border=\"1\" class=\"dataframe\">\n",
       "  <thead>\n",
       "    <tr style=\"text-align: right;\">\n",
       "      <th></th>\n",
       "      <th>Attribute</th>\n",
       "      <th>Importance</th>\n",
       "    </tr>\n",
       "  </thead>\n",
       "  <tbody>\n",
       "    <tr>\n",
       "      <th>0</th>\n",
       "      <td>Type</td>\n",
       "      <td>0.431252</td>\n",
       "    </tr>\n",
       "    <tr>\n",
       "      <th>16</th>\n",
       "      <td>lifetime</td>\n",
       "      <td>0.310476</td>\n",
       "    </tr>\n",
       "    <tr>\n",
       "      <th>14</th>\n",
       "      <td>fiber_optic</td>\n",
       "      <td>0.137182</td>\n",
       "    </tr>\n",
       "    <tr>\n",
       "      <th>4</th>\n",
       "      <td>TotalCharges</td>\n",
       "      <td>0.043605</td>\n",
       "    </tr>\n",
       "    <tr>\n",
       "      <th>3</th>\n",
       "      <td>MonthlyCharges</td>\n",
       "      <td>0.039699</td>\n",
       "    </tr>\n",
       "    <tr>\n",
       "      <th>2</th>\n",
       "      <td>PaymentMethod</td>\n",
       "      <td>0.022921</td>\n",
       "    </tr>\n",
       "    <tr>\n",
       "      <th>15</th>\n",
       "      <td>MultipleLines</td>\n",
       "      <td>0.005619</td>\n",
       "    </tr>\n",
       "    <tr>\n",
       "      <th>11</th>\n",
       "      <td>TechSupport</td>\n",
       "      <td>0.004289</td>\n",
       "    </tr>\n",
       "    <tr>\n",
       "      <th>13</th>\n",
       "      <td>StreamingMovies</td>\n",
       "      <td>0.003187</td>\n",
       "    </tr>\n",
       "    <tr>\n",
       "      <th>7</th>\n",
       "      <td>Dependents</td>\n",
       "      <td>0.001162</td>\n",
       "    </tr>\n",
       "    <tr>\n",
       "      <th>5</th>\n",
       "      <td>SeniorCitizen</td>\n",
       "      <td>0.000499</td>\n",
       "    </tr>\n",
       "    <tr>\n",
       "      <th>8</th>\n",
       "      <td>OnlineSecurity</td>\n",
       "      <td>0.000108</td>\n",
       "    </tr>\n",
       "    <tr>\n",
       "      <th>6</th>\n",
       "      <td>Partner</td>\n",
       "      <td>0.000000</td>\n",
       "    </tr>\n",
       "    <tr>\n",
       "      <th>1</th>\n",
       "      <td>PaperlessBilling</td>\n",
       "      <td>0.000000</td>\n",
       "    </tr>\n",
       "    <tr>\n",
       "      <th>9</th>\n",
       "      <td>OnlineBackup</td>\n",
       "      <td>0.000000</td>\n",
       "    </tr>\n",
       "    <tr>\n",
       "      <th>10</th>\n",
       "      <td>DeviceProtection</td>\n",
       "      <td>0.000000</td>\n",
       "    </tr>\n",
       "    <tr>\n",
       "      <th>12</th>\n",
       "      <td>StreamingTV</td>\n",
       "      <td>0.000000</td>\n",
       "    </tr>\n",
       "  </tbody>\n",
       "</table>\n",
       "</div>"
      ],
      "text/plain": [
       "           Attribute  Importance\n",
       "0               Type    0.431252\n",
       "16          lifetime    0.310476\n",
       "14       fiber_optic    0.137182\n",
       "4       TotalCharges    0.043605\n",
       "3     MonthlyCharges    0.039699\n",
       "2      PaymentMethod    0.022921\n",
       "15     MultipleLines    0.005619\n",
       "11       TechSupport    0.004289\n",
       "13   StreamingMovies    0.003187\n",
       "7         Dependents    0.001162\n",
       "5      SeniorCitizen    0.000499\n",
       "8     OnlineSecurity    0.000108\n",
       "6            Partner    0.000000\n",
       "1   PaperlessBilling    0.000000\n",
       "9       OnlineBackup    0.000000\n",
       "10  DeviceProtection    0.000000\n",
       "12       StreamingTV    0.000000"
      ]
     },
     "execution_count": 82,
     "metadata": {},
     "output_type": "execute_result"
    }
   ],
   "source": [
    "importances_DT = pd.DataFrame(data={\n",
    "    'Attribute': X_train.columns,\n",
    "    'Importance': model_DT.feature_importances_\n",
    "})\n",
    "importances_DT = importances_DT.sort_values(by='Importance', ascending=False)\n",
    "importances_DT"
   ]
  },
  {
   "cell_type": "code",
   "execution_count": 83,
   "metadata": {},
   "outputs": [
    {
     "data": {
      "text/plain": [
       "Text(0.5, 1.0, 'Feature importance')"
      ]
     },
     "execution_count": 83,
     "metadata": {},
     "output_type": "execute_result"
    },
    {
     "data": {
      "image/png": "[encoded data removed]",
      "text/plain": [
       "<Figure size 780x600 with 1 Axes>"
      ]
     },
     "metadata": {
      "needs_background": "light"
     },
     "output_type": "display_data"
    }
   ],
   "source": [
    "plt.figure(figsize=(13,10), dpi= 60)\n",
    "ax = sns.barplot(x = 'Importance', y = 'Attribute', data = importances_DT ,palette = 'husl')\n",
    "plt.title('Feature importance', fontsize = 20)"
   ]
  },
  {
   "cell_type": "markdown",
   "metadata": {},
   "source": [
    "**Вывод**\n",
    "\n",
    "Наилучший результат по метрике auc_roc на тестовой выборке показала модель случайного леса: 0.867, что удовлетворяет условию задания.\n",
    "Второй по качеству оказалась модель дерева решений (0.853), что также удовлетворяет условию.  Наихудшей оказалась модель логистической регрессии(0.846)."
   ]
  },
  {
   "cell_type": "markdown",
   "metadata": {},
   "source": [
    "## Общий вывод"
   ]
  },
  {
   "cell_type": "markdown",
   "metadata": {},
   "source": [
    "1. Данные были загружены и обработаны\n",
    "2. В результате анализа данных были сделаны следующие выводы:\n",
    "   1. Пол клиентов, наличие супруга/супруги и иждивенцев практически не влияют на их уход\n",
    "   2. Большой процент ушедших клиентов пользовался оптоволокном, оплачивал услуги ежемесячно и использовал безналичный расчёт\n",
    "   3. Ушедшие пользователи платили больше в месяц: возможно, они переплачивали за ненужные услуги или подбирали не оптимальные тарифы\n",
    "   \n",
    "3. Было выявлено, что ушедших пользователей около 26%, что составляет примерно 1/4 от общего количества. Соответственно, дальнейшее разделение на выборки зависит от этих данных\n",
    "4. Были испробованы 3 модели, показавшие удовлетворяющий результат на тестовой выборке\n",
    "\n",
    "\n",
    "На мой взгляд, подводя итог анализа, можно предположить, что пользователи в своём большинстве остаются недовольны своим выбором в первые месяцы пользования. Либо им в общем и целом не подходят любые вариации предложений, либо они не знают всех возможных опций и выгодных условий.\n",
    "Стоит сосредоточиться на новопришедших клиентах."
   ]
  }
 ],
 "metadata": {
  "ExecuteTimeLog": [
   {
    "duration": 1105,
    "start_time": "2022-03-25T16:37:00.909Z"
   },
   {
    "duration": 74,
    "start_time": "2022-03-25T16:37:02.016Z"
   },
   {
    "duration": 1036,
    "start_time": "2022-03-25T16:51:21.174Z"
   },
   {
    "duration": 66,
    "start_time": "2022-03-25T16:51:22.212Z"
   },
   {
    "duration": 17,
    "start_time": "2022-03-25T16:51:22.280Z"
   },
   {
    "duration": 16,
    "start_time": "2022-03-25T16:51:22.300Z"
   },
   {
    "duration": 6,
    "start_time": "2022-03-25T16:51:22.318Z"
   },
   {
    "duration": 8,
    "start_time": "2022-03-25T16:51:22.326Z"
   },
   {
    "duration": 10,
    "start_time": "2022-03-25T16:51:22.335Z"
   },
   {
    "duration": 8,
    "start_time": "2022-03-25T16:51:22.347Z"
   },
   {
    "duration": 8,
    "start_time": "2022-03-25T16:51:22.357Z"
   },
   {
    "duration": 7,
    "start_time": "2022-03-25T16:51:22.367Z"
   },
   {
    "duration": 35,
    "start_time": "2022-03-25T16:51:22.376Z"
   },
   {
    "duration": 7,
    "start_time": "2022-03-25T16:51:22.413Z"
   },
   {
    "duration": 8,
    "start_time": "2022-03-25T16:51:22.422Z"
   },
   {
    "duration": 10,
    "start_time": "2022-03-25T16:51:22.432Z"
   },
   {
    "duration": 18,
    "start_time": "2022-03-25T16:51:22.444Z"
   },
   {
    "duration": 11,
    "start_time": "2022-03-25T16:51:22.463Z"
   },
   {
    "duration": 33,
    "start_time": "2022-03-25T16:51:22.476Z"
   },
   {
    "duration": 7,
    "start_time": "2022-03-25T16:51:22.510Z"
   },
   {
    "duration": 8,
    "start_time": "2022-03-25T16:51:22.519Z"
   },
   {
    "duration": 4,
    "start_time": "2022-03-25T16:51:22.529Z"
   },
   {
    "duration": 5,
    "start_time": "2022-03-25T16:51:22.535Z"
   },
   {
    "duration": 7,
    "start_time": "2022-03-25T16:51:22.542Z"
   },
   {
    "duration": 10,
    "start_time": "2022-03-25T16:51:22.550Z"
   },
   {
    "duration": 53,
    "start_time": "2022-03-25T16:51:22.561Z"
   },
   {
    "duration": 8,
    "start_time": "2022-03-25T16:51:22.615Z"
   },
   {
    "duration": 9,
    "start_time": "2022-03-25T16:51:22.624Z"
   },
   {
    "duration": 7,
    "start_time": "2022-03-25T16:51:22.634Z"
   },
   {
    "duration": 9,
    "start_time": "2022-03-25T16:51:22.644Z"
   },
   {
    "duration": 6,
    "start_time": "2022-03-25T16:51:22.654Z"
   },
   {
    "duration": 13,
    "start_time": "2022-03-25T16:51:22.662Z"
   },
   {
    "duration": 36,
    "start_time": "2022-03-25T16:51:22.676Z"
   },
   {
    "duration": 5,
    "start_time": "2022-03-25T16:51:22.714Z"
   },
   {
    "duration": 15,
    "start_time": "2022-03-25T16:51:22.720Z"
   },
   {
    "duration": 10,
    "start_time": "2022-03-25T16:51:22.736Z"
   },
   {
    "duration": 15,
    "start_time": "2022-03-25T16:51:22.748Z"
   },
   {
    "duration": 7,
    "start_time": "2022-03-25T16:51:22.765Z"
   },
   {
    "duration": 46,
    "start_time": "2022-03-25T16:51:22.773Z"
   },
   {
    "duration": 8,
    "start_time": "2022-03-25T16:51:22.821Z"
   },
   {
    "duration": 10,
    "start_time": "2022-03-25T16:51:22.830Z"
   },
   {
    "duration": 3,
    "start_time": "2022-03-25T16:53:14.373Z"
   },
   {
    "duration": 23,
    "start_time": "2022-03-25T16:53:24.967Z"
   },
   {
    "duration": 1448,
    "start_time": "2022-03-25T17:06:47.232Z"
   },
   {
    "duration": 73,
    "start_time": "2022-03-25T17:06:48.682Z"
   },
   {
    "duration": 17,
    "start_time": "2022-03-25T17:06:48.756Z"
   },
   {
    "duration": 14,
    "start_time": "2022-03-25T17:06:48.775Z"
   },
   {
    "duration": 22,
    "start_time": "2022-03-25T17:06:48.791Z"
   },
   {
    "duration": 9,
    "start_time": "2022-03-25T17:06:48.814Z"
   },
   {
    "duration": 8,
    "start_time": "2022-03-25T17:06:48.825Z"
   },
   {
    "duration": 10,
    "start_time": "2022-03-25T17:06:48.834Z"
   },
   {
    "duration": 15,
    "start_time": "2022-03-25T17:06:48.845Z"
   },
   {
    "duration": 7,
    "start_time": "2022-03-25T17:06:48.862Z"
   },
   {
    "duration": 13,
    "start_time": "2022-03-25T17:06:48.870Z"
   },
   {
    "duration": 6,
    "start_time": "2022-03-25T17:06:48.884Z"
   },
   {
    "duration": 22,
    "start_time": "2022-03-25T17:06:48.891Z"
   },
   {
    "duration": 5,
    "start_time": "2022-03-25T17:06:48.920Z"
   },
   {
    "duration": 12,
    "start_time": "2022-03-25T17:06:48.927Z"
   },
   {
    "duration": 11,
    "start_time": "2022-03-25T17:06:48.941Z"
   },
   {
    "duration": 12,
    "start_time": "2022-03-25T17:06:48.953Z"
   },
   {
    "duration": 6,
    "start_time": "2022-03-25T17:06:48.966Z"
   },
   {
    "duration": 8,
    "start_time": "2022-03-25T17:06:49.009Z"
   },
   {
    "duration": 12,
    "start_time": "2022-03-25T17:06:49.019Z"
   },
   {
    "duration": 24,
    "start_time": "2022-03-25T17:06:49.033Z"
   },
   {
    "duration": 6,
    "start_time": "2022-03-25T17:06:49.060Z"
   },
   {
    "duration": 9,
    "start_time": "2022-03-25T17:06:49.068Z"
   },
   {
    "duration": 17,
    "start_time": "2022-03-25T17:06:49.079Z"
   },
   {
    "duration": 16,
    "start_time": "2022-03-25T17:06:49.097Z"
   },
   {
    "duration": 8,
    "start_time": "2022-03-25T17:06:49.118Z"
   },
   {
    "duration": 9,
    "start_time": "2022-03-25T17:06:49.128Z"
   },
   {
    "duration": 11,
    "start_time": "2022-03-25T17:06:49.139Z"
   },
   {
    "duration": 11,
    "start_time": "2022-03-25T17:06:49.152Z"
   },
   {
    "duration": 11,
    "start_time": "2022-03-25T17:06:49.165Z"
   },
   {
    "duration": 7,
    "start_time": "2022-03-25T17:06:49.178Z"
   },
   {
    "duration": 28,
    "start_time": "2022-03-25T17:06:49.186Z"
   },
   {
    "duration": 16,
    "start_time": "2022-03-25T17:06:49.218Z"
   },
   {
    "duration": 12,
    "start_time": "2022-03-25T17:06:49.236Z"
   },
   {
    "duration": 19,
    "start_time": "2022-03-25T17:06:49.249Z"
   },
   {
    "duration": 13,
    "start_time": "2022-03-25T17:06:49.269Z"
   },
   {
    "duration": 37,
    "start_time": "2022-03-25T17:06:49.283Z"
   },
   {
    "duration": 9,
    "start_time": "2022-03-25T17:06:49.322Z"
   },
   {
    "duration": 11,
    "start_time": "2022-03-25T17:06:49.332Z"
   },
   {
    "duration": 4,
    "start_time": "2022-03-25T17:06:49.344Z"
   },
   {
    "duration": 22,
    "start_time": "2022-03-25T17:06:49.351Z"
   },
   {
    "duration": 1470,
    "start_time": "2022-03-25T17:08:00.133Z"
   },
   {
    "duration": 77,
    "start_time": "2022-03-25T17:08:01.606Z"
   },
   {
    "duration": 16,
    "start_time": "2022-03-25T17:08:01.684Z"
   },
   {
    "duration": 14,
    "start_time": "2022-03-25T17:08:01.702Z"
   },
   {
    "duration": 13,
    "start_time": "2022-03-25T17:08:01.719Z"
   },
   {
    "duration": 7,
    "start_time": "2022-03-25T17:08:01.733Z"
   },
   {
    "duration": 14,
    "start_time": "2022-03-25T17:08:01.741Z"
   },
   {
    "duration": 18,
    "start_time": "2022-03-25T17:08:01.757Z"
   },
   {
    "duration": 11,
    "start_time": "2022-03-25T17:08:01.777Z"
   },
   {
    "duration": 8,
    "start_time": "2022-03-25T17:08:01.790Z"
   },
   {
    "duration": 23,
    "start_time": "2022-03-25T17:08:01.799Z"
   },
   {
    "duration": 11,
    "start_time": "2022-03-25T17:08:01.824Z"
   },
   {
    "duration": 7,
    "start_time": "2022-03-25T17:08:01.836Z"
   },
   {
    "duration": 5,
    "start_time": "2022-03-25T17:08:01.846Z"
   },
   {
    "duration": 13,
    "start_time": "2022-03-25T17:08:01.852Z"
   },
   {
    "duration": 16,
    "start_time": "2022-03-25T17:08:01.867Z"
   },
   {
    "duration": 29,
    "start_time": "2022-03-25T17:08:01.884Z"
   },
   {
    "duration": 10,
    "start_time": "2022-03-25T17:08:01.915Z"
   },
   {
    "duration": 9,
    "start_time": "2022-03-25T17:08:01.927Z"
   },
   {
    "duration": 6,
    "start_time": "2022-03-25T17:08:01.938Z"
   },
   {
    "duration": 8,
    "start_time": "2022-03-25T17:08:01.946Z"
   },
   {
    "duration": 8,
    "start_time": "2022-03-25T17:08:01.956Z"
   },
   {
    "duration": 12,
    "start_time": "2022-03-25T17:08:01.965Z"
   },
   {
    "duration": 13,
    "start_time": "2022-03-25T17:08:01.979Z"
   },
   {
    "duration": 26,
    "start_time": "2022-03-25T17:08:01.994Z"
   },
   {
    "duration": 12,
    "start_time": "2022-03-25T17:08:02.022Z"
   },
   {
    "duration": 13,
    "start_time": "2022-03-25T17:08:02.036Z"
   },
   {
    "duration": 14,
    "start_time": "2022-03-25T17:08:02.050Z"
   },
   {
    "duration": 8,
    "start_time": "2022-03-25T17:08:02.066Z"
   },
   {
    "duration": 10,
    "start_time": "2022-03-25T17:08:02.076Z"
   },
   {
    "duration": 29,
    "start_time": "2022-03-25T17:08:02.088Z"
   },
   {
    "duration": 13,
    "start_time": "2022-03-25T17:08:02.119Z"
   },
   {
    "duration": 21,
    "start_time": "2022-03-25T17:08:02.134Z"
   },
   {
    "duration": 14,
    "start_time": "2022-03-25T17:08:02.156Z"
   },
   {
    "duration": 18,
    "start_time": "2022-03-25T17:08:02.172Z"
   },
   {
    "duration": 20,
    "start_time": "2022-03-25T17:08:02.191Z"
   },
   {
    "duration": 12,
    "start_time": "2022-03-25T17:08:02.213Z"
   },
   {
    "duration": 9,
    "start_time": "2022-03-25T17:08:02.227Z"
   },
   {
    "duration": 12,
    "start_time": "2022-03-25T17:08:02.238Z"
   },
   {
    "duration": 5,
    "start_time": "2022-03-25T17:08:02.252Z"
   },
   {
    "duration": 65,
    "start_time": "2022-03-25T17:08:02.261Z"
   },
   {
    "duration": 160,
    "start_time": "2022-03-25T17:08:46.016Z"
   },
   {
    "duration": 138,
    "start_time": "2022-03-25T17:09:53.997Z"
   },
   {
    "duration": 138,
    "start_time": "2022-03-25T17:13:12.707Z"
   },
   {
    "duration": 158,
    "start_time": "2022-03-25T17:13:13.573Z"
   },
   {
    "duration": 1431,
    "start_time": "2022-03-25T17:13:38.186Z"
   },
   {
    "duration": 69,
    "start_time": "2022-03-25T17:13:39.621Z"
   },
   {
    "duration": 14,
    "start_time": "2022-03-25T17:13:39.692Z"
   },
   {
    "duration": 16,
    "start_time": "2022-03-25T17:13:39.715Z"
   },
   {
    "duration": 7,
    "start_time": "2022-03-25T17:13:39.733Z"
   },
   {
    "duration": 5,
    "start_time": "2022-03-25T17:13:39.742Z"
   },
   {
    "duration": 9,
    "start_time": "2022-03-25T17:13:39.748Z"
   },
   {
    "duration": 7,
    "start_time": "2022-03-25T17:13:39.759Z"
   },
   {
    "duration": 6,
    "start_time": "2022-03-25T17:13:39.768Z"
   },
   {
    "duration": 7,
    "start_time": "2022-03-25T17:13:39.776Z"
   },
   {
    "duration": 16,
    "start_time": "2022-03-25T17:13:39.809Z"
   },
   {
    "duration": 8,
    "start_time": "2022-03-25T17:13:39.827Z"
   },
   {
    "duration": 6,
    "start_time": "2022-03-25T17:13:39.837Z"
   },
   {
    "duration": 6,
    "start_time": "2022-03-25T17:13:39.846Z"
   },
   {
    "duration": 12,
    "start_time": "2022-03-25T17:13:39.853Z"
   },
   {
    "duration": 52,
    "start_time": "2022-03-25T17:13:39.866Z"
   },
   {
    "duration": 12,
    "start_time": "2022-03-25T17:13:39.920Z"
   },
   {
    "duration": 8,
    "start_time": "2022-03-25T17:13:39.933Z"
   },
   {
    "duration": 14,
    "start_time": "2022-03-25T17:13:39.942Z"
   },
   {
    "duration": 6,
    "start_time": "2022-03-25T17:13:39.958Z"
   },
   {
    "duration": 5,
    "start_time": "2022-03-25T17:13:39.966Z"
   },
   {
    "duration": 5,
    "start_time": "2022-03-25T17:13:39.972Z"
   },
   {
    "duration": 39,
    "start_time": "2022-03-25T17:13:39.979Z"
   },
   {
    "duration": 11,
    "start_time": "2022-03-25T17:13:40.020Z"
   },
   {
    "duration": 6,
    "start_time": "2022-03-25T17:13:40.033Z"
   },
   {
    "duration": 7,
    "start_time": "2022-03-25T17:13:40.041Z"
   },
   {
    "duration": 12,
    "start_time": "2022-03-25T17:13:40.049Z"
   },
   {
    "duration": 10,
    "start_time": "2022-03-25T17:13:40.062Z"
   },
   {
    "duration": 6,
    "start_time": "2022-03-25T17:13:40.074Z"
   },
   {
    "duration": 39,
    "start_time": "2022-03-25T17:13:40.081Z"
   },
   {
    "duration": 6,
    "start_time": "2022-03-25T17:13:40.122Z"
   },
   {
    "duration": 5,
    "start_time": "2022-03-25T17:13:40.130Z"
   },
   {
    "duration": 16,
    "start_time": "2022-03-25T17:13:40.136Z"
   },
   {
    "duration": 12,
    "start_time": "2022-03-25T17:13:40.154Z"
   },
   {
    "duration": 17,
    "start_time": "2022-03-25T17:13:40.168Z"
   },
   {
    "duration": 35,
    "start_time": "2022-03-25T17:13:40.186Z"
   },
   {
    "duration": 10,
    "start_time": "2022-03-25T17:13:40.222Z"
   },
   {
    "duration": 9,
    "start_time": "2022-03-25T17:13:40.234Z"
   },
   {
    "duration": 11,
    "start_time": "2022-03-25T17:13:40.244Z"
   },
   {
    "duration": 3,
    "start_time": "2022-03-25T17:13:40.256Z"
   },
   {
    "duration": 52,
    "start_time": "2022-03-25T17:13:40.263Z"
   },
   {
    "duration": 143,
    "start_time": "2022-03-25T17:13:40.317Z"
   },
   {
    "duration": 135,
    "start_time": "2022-03-25T17:13:40.461Z"
   },
   {
    "duration": 162,
    "start_time": "2022-03-25T17:13:40.597Z"
   },
   {
    "duration": 139,
    "start_time": "2022-03-25T17:13:40.760Z"
   },
   {
    "duration": 143,
    "start_time": "2022-03-25T17:13:40.908Z"
   },
   {
    "duration": 216,
    "start_time": "2022-03-25T17:13:41.053Z"
   },
   {
    "duration": 151,
    "start_time": "2022-03-25T17:13:41.270Z"
   },
   {
    "duration": 62,
    "start_time": "2022-03-25T17:14:48.269Z"
   },
   {
    "duration": 73,
    "start_time": "2022-03-25T17:20:44.732Z"
   },
   {
    "duration": 66,
    "start_time": "2022-03-25T17:21:41.491Z"
   },
   {
    "duration": 5,
    "start_time": "2022-03-25T17:26:41.532Z"
   },
   {
    "duration": 219,
    "start_time": "2022-03-25T17:30:43.581Z"
   },
   {
    "duration": 1496,
    "start_time": "2022-03-25T17:36:47.344Z"
   },
   {
    "duration": 69,
    "start_time": "2022-03-25T17:36:48.842Z"
   },
   {
    "duration": 16,
    "start_time": "2022-03-25T17:36:48.913Z"
   },
   {
    "duration": 13,
    "start_time": "2022-03-25T17:36:48.930Z"
   },
   {
    "duration": 6,
    "start_time": "2022-03-25T17:36:48.945Z"
   },
   {
    "duration": 4,
    "start_time": "2022-03-25T17:36:48.953Z"
   },
   {
    "duration": 8,
    "start_time": "2022-03-25T17:36:48.959Z"
   },
   {
    "duration": 8,
    "start_time": "2022-03-25T17:36:48.968Z"
   },
   {
    "duration": 34,
    "start_time": "2022-03-25T17:36:48.977Z"
   },
   {
    "duration": 8,
    "start_time": "2022-03-25T17:36:49.013Z"
   },
   {
    "duration": 15,
    "start_time": "2022-03-25T17:36:49.022Z"
   },
   {
    "duration": 6,
    "start_time": "2022-03-25T17:36:49.039Z"
   },
   {
    "duration": 5,
    "start_time": "2022-03-25T17:36:49.046Z"
   },
   {
    "duration": 6,
    "start_time": "2022-03-25T17:36:49.054Z"
   },
   {
    "duration": 11,
    "start_time": "2022-03-25T17:36:49.061Z"
   },
   {
    "duration": 41,
    "start_time": "2022-03-25T17:36:49.073Z"
   },
   {
    "duration": 13,
    "start_time": "2022-03-25T17:36:49.115Z"
   },
   {
    "duration": 6,
    "start_time": "2022-03-25T17:36:49.129Z"
   },
   {
    "duration": 7,
    "start_time": "2022-03-25T17:36:49.137Z"
   },
   {
    "duration": 6,
    "start_time": "2022-03-25T17:36:49.145Z"
   },
   {
    "duration": 6,
    "start_time": "2022-03-25T17:36:49.152Z"
   },
   {
    "duration": 6,
    "start_time": "2022-03-25T17:36:49.160Z"
   },
   {
    "duration": 46,
    "start_time": "2022-03-25T17:36:49.167Z"
   },
   {
    "duration": 12,
    "start_time": "2022-03-25T17:36:49.215Z"
   },
   {
    "duration": 7,
    "start_time": "2022-03-25T17:36:49.229Z"
   },
   {
    "duration": 13,
    "start_time": "2022-03-25T17:36:49.238Z"
   },
   {
    "duration": 7,
    "start_time": "2022-03-25T17:36:49.253Z"
   },
   {
    "duration": 11,
    "start_time": "2022-03-25T17:36:49.262Z"
   },
   {
    "duration": 7,
    "start_time": "2022-03-25T17:36:49.274Z"
   },
   {
    "duration": 33,
    "start_time": "2022-03-25T17:36:49.282Z"
   },
   {
    "duration": 10,
    "start_time": "2022-03-25T17:36:49.317Z"
   },
   {
    "duration": 7,
    "start_time": "2022-03-25T17:36:49.329Z"
   },
   {
    "duration": 20,
    "start_time": "2022-03-25T17:36:49.338Z"
   },
   {
    "duration": 12,
    "start_time": "2022-03-25T17:36:49.360Z"
   },
   {
    "duration": 40,
    "start_time": "2022-03-25T17:36:49.374Z"
   },
   {
    "duration": 7,
    "start_time": "2022-03-25T17:36:49.416Z"
   },
   {
    "duration": 10,
    "start_time": "2022-03-25T17:36:49.426Z"
   },
   {
    "duration": 8,
    "start_time": "2022-03-25T17:36:49.438Z"
   },
   {
    "duration": 11,
    "start_time": "2022-03-25T17:36:49.448Z"
   },
   {
    "duration": 4,
    "start_time": "2022-03-25T17:36:49.461Z"
   },
   {
    "duration": 22,
    "start_time": "2022-03-25T17:36:49.512Z"
   },
   {
    "duration": 153,
    "start_time": "2022-03-25T17:36:49.536Z"
   },
   {
    "duration": 144,
    "start_time": "2022-03-25T17:36:49.691Z"
   },
   {
    "duration": 159,
    "start_time": "2022-03-25T17:36:49.837Z"
   },
   {
    "duration": 134,
    "start_time": "2022-03-25T17:36:49.998Z"
   },
   {
    "duration": 141,
    "start_time": "2022-03-25T17:36:50.133Z"
   },
   {
    "duration": 199,
    "start_time": "2022-03-25T17:36:50.276Z"
   },
   {
    "duration": 147,
    "start_time": "2022-03-25T17:36:50.476Z"
   },
   {
    "duration": 4,
    "start_time": "2022-03-25T17:36:50.625Z"
   },
   {
    "duration": 13,
    "start_time": "2022-03-25T17:36:50.630Z"
   },
   {
    "duration": 1201,
    "start_time": "2022-03-25T17:37:01.684Z"
   },
   {
    "duration": 68,
    "start_time": "2022-03-25T17:38:40.322Z"
   },
   {
    "duration": 68,
    "start_time": "2022-03-25T17:39:11.325Z"
   },
   {
    "duration": 5,
    "start_time": "2022-03-25T17:40:53.033Z"
   },
   {
    "duration": 9,
    "start_time": "2022-03-25T17:41:01.801Z"
   },
   {
    "duration": 9,
    "start_time": "2022-03-25T17:41:20.107Z"
   },
   {
    "duration": 10,
    "start_time": "2022-03-25T17:42:01.801Z"
   },
   {
    "duration": 9,
    "start_time": "2022-03-25T17:52:57.257Z"
   },
   {
    "duration": 5,
    "start_time": "2022-03-25T17:53:02.040Z"
   },
   {
    "duration": 10,
    "start_time": "2022-03-25T17:54:12.438Z"
   },
   {
    "duration": 63,
    "start_time": "2022-03-25T17:54:43.556Z"
   },
   {
    "duration": 8,
    "start_time": "2022-03-25T17:54:47.911Z"
   },
   {
    "duration": 8,
    "start_time": "2022-03-25T17:55:32.696Z"
   },
   {
    "duration": 28,
    "start_time": "2022-03-25T17:55:58.738Z"
   },
   {
    "duration": 4,
    "start_time": "2022-03-25T17:57:23.692Z"
   },
   {
    "duration": 7,
    "start_time": "2022-03-25T17:57:24.266Z"
   },
   {
    "duration": 15,
    "start_time": "2022-03-25T17:57:35.313Z"
   },
   {
    "duration": 7,
    "start_time": "2022-03-25T17:57:56.416Z"
   },
   {
    "duration": 3,
    "start_time": "2022-03-25T17:57:56.746Z"
   },
   {
    "duration": 4,
    "start_time": "2022-03-25T17:59:03.513Z"
   },
   {
    "duration": 287,
    "start_time": "2022-03-25T17:59:36.025Z"
   },
   {
    "duration": 311,
    "start_time": "2022-03-25T18:11:55.817Z"
   },
   {
    "duration": 11,
    "start_time": "2022-03-25T18:12:10.083Z"
   },
   {
    "duration": 24,
    "start_time": "2022-03-25T18:12:47.610Z"
   },
   {
    "duration": 11,
    "start_time": "2022-03-25T18:12:52.197Z"
   },
   {
    "duration": 12782,
    "start_time": "2022-03-25T18:13:03.630Z"
   },
   {
    "duration": 2533,
    "start_time": "2022-03-25T18:16:09.635Z"
   },
   {
    "duration": 3984,
    "start_time": "2022-03-25T18:16:34.828Z"
   },
   {
    "duration": 841,
    "start_time": "2022-03-25T18:16:44.922Z"
   },
   {
    "duration": 5879,
    "start_time": "2022-03-25T18:16:51.958Z"
   },
   {
    "duration": 2977,
    "start_time": "2022-03-25T18:18:43.881Z"
   },
   {
    "duration": 4189,
    "start_time": "2022-03-25T18:18:51.441Z"
   },
   {
    "duration": 5194,
    "start_time": "2022-03-25T18:20:15.966Z"
   },
   {
    "duration": 5117,
    "start_time": "2022-03-25T18:21:30.924Z"
   },
   {
    "duration": 4398,
    "start_time": "2022-03-25T18:22:43.571Z"
   },
   {
    "duration": 401,
    "start_time": "2022-03-25T18:22:57.208Z"
   },
   {
    "duration": 4018,
    "start_time": "2022-03-25T18:23:11.562Z"
   },
   {
    "duration": 8007,
    "start_time": "2022-03-25T18:23:20.172Z"
   },
   {
    "duration": 5,
    "start_time": "2022-03-25T18:24:46.930Z"
   },
   {
    "duration": 1625,
    "start_time": "2022-03-25T18:24:51.071Z"
   },
   {
    "duration": 69,
    "start_time": "2022-03-25T18:24:52.698Z"
   },
   {
    "duration": 16,
    "start_time": "2022-03-25T18:24:52.769Z"
   },
   {
    "duration": 17,
    "start_time": "2022-03-25T18:24:52.787Z"
   },
   {
    "duration": 7,
    "start_time": "2022-03-25T18:24:52.806Z"
   },
   {
    "duration": 6,
    "start_time": "2022-03-25T18:24:52.814Z"
   },
   {
    "duration": 13,
    "start_time": "2022-03-25T18:24:52.822Z"
   },
   {
    "duration": 10,
    "start_time": "2022-03-25T18:24:52.836Z"
   },
   {
    "duration": 9,
    "start_time": "2022-03-25T18:24:52.847Z"
   },
   {
    "duration": 15,
    "start_time": "2022-03-25T18:24:52.859Z"
   },
   {
    "duration": 15,
    "start_time": "2022-03-25T18:24:52.875Z"
   },
   {
    "duration": 22,
    "start_time": "2022-03-25T18:24:52.892Z"
   },
   {
    "duration": 8,
    "start_time": "2022-03-25T18:24:52.916Z"
   },
   {
    "duration": 9,
    "start_time": "2022-03-25T18:24:52.926Z"
   },
   {
    "duration": 12,
    "start_time": "2022-03-25T18:24:52.937Z"
   },
   {
    "duration": 20,
    "start_time": "2022-03-25T18:24:52.950Z"
   },
   {
    "duration": 17,
    "start_time": "2022-03-25T18:24:52.971Z"
   },
   {
    "duration": 21,
    "start_time": "2022-03-25T18:24:52.989Z"
   },
   {
    "duration": 14,
    "start_time": "2022-03-25T18:24:53.012Z"
   },
   {
    "duration": 5,
    "start_time": "2022-03-25T18:24:53.028Z"
   },
   {
    "duration": 9,
    "start_time": "2022-03-25T18:24:53.034Z"
   },
   {
    "duration": 11,
    "start_time": "2022-03-25T18:24:53.044Z"
   },
   {
    "duration": 13,
    "start_time": "2022-03-25T18:24:53.056Z"
   },
   {
    "duration": 15,
    "start_time": "2022-03-25T18:24:53.071Z"
   },
   {
    "duration": 7,
    "start_time": "2022-03-25T18:24:53.087Z"
   },
   {
    "duration": 16,
    "start_time": "2022-03-25T18:24:53.095Z"
   },
   {
    "duration": 5,
    "start_time": "2022-03-25T18:24:53.113Z"
   },
   {
    "duration": 8,
    "start_time": "2022-03-25T18:24:53.122Z"
   },
   {
    "duration": 7,
    "start_time": "2022-03-25T18:24:53.131Z"
   },
   {
    "duration": 10,
    "start_time": "2022-03-25T18:24:53.140Z"
   },
   {
    "duration": 6,
    "start_time": "2022-03-25T18:24:53.152Z"
   },
   {
    "duration": 8,
    "start_time": "2022-03-25T18:24:53.160Z"
   },
   {
    "duration": 46,
    "start_time": "2022-03-25T18:24:53.169Z"
   },
   {
    "duration": 11,
    "start_time": "2022-03-25T18:24:53.217Z"
   },
   {
    "duration": 17,
    "start_time": "2022-03-25T18:24:53.229Z"
   },
   {
    "duration": 9,
    "start_time": "2022-03-25T18:24:53.247Z"
   },
   {
    "duration": 9,
    "start_time": "2022-03-25T18:24:53.257Z"
   },
   {
    "duration": 8,
    "start_time": "2022-03-25T18:24:53.267Z"
   },
   {
    "duration": 40,
    "start_time": "2022-03-25T18:24:53.276Z"
   },
   {
    "duration": 4,
    "start_time": "2022-03-25T18:24:53.318Z"
   },
   {
    "duration": 24,
    "start_time": "2022-03-25T18:24:53.323Z"
   },
   {
    "duration": 160,
    "start_time": "2022-03-25T18:24:53.348Z"
   },
   {
    "duration": 143,
    "start_time": "2022-03-25T18:24:53.510Z"
   },
   {
    "duration": 226,
    "start_time": "2022-03-25T18:24:53.654Z"
   },
   {
    "duration": 137,
    "start_time": "2022-03-25T18:24:53.881Z"
   },
   {
    "duration": 142,
    "start_time": "2022-03-25T18:24:54.020Z"
   },
   {
    "duration": 128,
    "start_time": "2022-03-25T18:24:54.163Z"
   },
   {
    "duration": 154,
    "start_time": "2022-03-25T18:24:54.293Z"
   },
   {
    "duration": 5,
    "start_time": "2022-03-25T18:24:54.449Z"
   },
   {
    "duration": 11,
    "start_time": "2022-03-25T18:24:54.456Z"
   },
   {
    "duration": 7,
    "start_time": "2022-03-25T18:24:54.468Z"
   },
   {
    "duration": 12,
    "start_time": "2022-03-25T18:24:54.477Z"
   },
   {
    "duration": 4,
    "start_time": "2022-03-25T18:24:54.510Z"
   },
   {
    "duration": 11694,
    "start_time": "2022-03-25T18:24:54.516Z"
   },
   {
    "duration": 8300,
    "start_time": "2022-03-25T18:25:06.212Z"
   },
   {
    "duration": 5114,
    "start_time": "2022-03-25T18:25:26.702Z"
   },
   {
    "duration": 7943,
    "start_time": "2022-03-25T18:25:35.161Z"
   },
   {
    "duration": 67,
    "start_time": "2022-03-25T18:27:51.015Z"
   },
   {
    "duration": 8216,
    "start_time": "2022-03-25T18:29:16.230Z"
   },
   {
    "duration": 13461,
    "start_time": "2022-03-25T18:29:24.448Z"
   },
   {
    "duration": 7998,
    "start_time": "2022-03-25T18:29:39.832Z"
   },
   {
    "duration": 7967,
    "start_time": "2022-03-25T18:30:30.683Z"
   },
   {
    "duration": 12939,
    "start_time": "2022-03-25T18:31:20.776Z"
   },
   {
    "duration": 7894,
    "start_time": "2022-03-25T18:31:33.718Z"
   },
   {
    "duration": 66,
    "start_time": "2022-03-25T18:31:41.614Z"
   },
   {
    "duration": 5,
    "start_time": "2022-03-25T18:33:14.035Z"
   },
   {
    "duration": 215,
    "start_time": "2022-03-25T18:33:57.700Z"
   },
   {
    "duration": 110,
    "start_time": "2022-03-25T18:34:33.226Z"
   },
   {
    "duration": 120,
    "start_time": "2022-03-25T18:35:10.970Z"
   },
   {
    "duration": 238,
    "start_time": "2022-03-25T18:35:17.802Z"
   },
   {
    "duration": 238,
    "start_time": "2022-03-25T18:35:23.958Z"
   },
   {
    "duration": 128,
    "start_time": "2022-03-25T18:35:28.026Z"
   },
   {
    "duration": 173,
    "start_time": "2022-03-25T18:35:32.180Z"
   },
   {
    "duration": 168,
    "start_time": "2022-03-25T18:35:35.983Z"
   },
   {
    "duration": 179,
    "start_time": "2022-03-25T18:35:39.664Z"
   },
   {
    "duration": 205,
    "start_time": "2022-03-25T18:35:43.736Z"
   },
   {
    "duration": 224,
    "start_time": "2022-03-25T18:35:47.917Z"
   },
   {
    "duration": 80,
    "start_time": "2022-03-25T18:35:51.357Z"
   },
   {
    "duration": 231,
    "start_time": "2022-03-25T18:36:00.416Z"
   },
   {
    "duration": 233,
    "start_time": "2022-03-25T18:36:06.775Z"
   },
   {
    "duration": 178,
    "start_time": "2022-03-25T18:36:11.170Z"
   },
   {
    "duration": 7916,
    "start_time": "2022-03-25T18:38:10.965Z"
   },
   {
    "duration": 13434,
    "start_time": "2022-03-25T18:38:48.781Z"
   },
   {
    "duration": 907,
    "start_time": "2022-03-25T18:45:57.110Z"
   },
   {
    "duration": 121,
    "start_time": "2022-03-25T18:46:47.481Z"
   },
   {
    "duration": 10,
    "start_time": "2022-03-25T18:46:58.716Z"
   },
   {
    "duration": 10,
    "start_time": "2022-03-25T18:47:16.078Z"
   },
   {
    "duration": 43,
    "start_time": "2022-03-25T18:47:33.263Z"
   },
   {
    "duration": 46,
    "start_time": "2022-03-25T18:49:03.661Z"
   },
   {
    "duration": 939,
    "start_time": "2022-03-25T18:49:23.205Z"
   },
   {
    "duration": 44,
    "start_time": "2022-03-25T18:49:25.185Z"
   },
   {
    "duration": 46,
    "start_time": "2022-03-25T18:49:55.880Z"
   },
   {
    "duration": 42,
    "start_time": "2022-03-25T18:50:25.700Z"
   },
   {
    "duration": 1051,
    "start_time": "2022-03-25T18:53:00.063Z"
   },
   {
    "duration": 10,
    "start_time": "2022-03-25T18:53:03.255Z"
   },
   {
    "duration": 8,
    "start_time": "2022-03-25T18:53:06.552Z"
   },
   {
    "duration": 18,
    "start_time": "2022-03-25T18:54:05.660Z"
   },
   {
    "duration": 10,
    "start_time": "2022-03-25T18:54:07.314Z"
   },
   {
    "duration": 12,
    "start_time": "2022-03-25T18:54:27.959Z"
   },
   {
    "duration": 8,
    "start_time": "2022-03-25T18:54:34.047Z"
   },
   {
    "duration": 14,
    "start_time": "2022-03-25T18:54:40.793Z"
   },
   {
    "duration": 152,
    "start_time": "2022-03-25T18:55:47.305Z"
   },
   {
    "duration": 16,
    "start_time": "2022-03-25T18:55:48.516Z"
   },
   {
    "duration": 7,
    "start_time": "2022-03-25T18:55:49.268Z"
   },
   {
    "duration": 46,
    "start_time": "2022-03-25T18:55:57.757Z"
   },
   {
    "duration": 45,
    "start_time": "2022-03-25T18:55:58.149Z"
   },
   {
    "duration": 13,
    "start_time": "2022-03-25T18:56:15.330Z"
   },
   {
    "duration": 8,
    "start_time": "2022-03-25T18:56:15.945Z"
   },
   {
    "duration": 46,
    "start_time": "2022-03-25T18:56:38.200Z"
   },
   {
    "duration": 28,
    "start_time": "2022-03-25T18:56:47.481Z"
   },
   {
    "duration": 8,
    "start_time": "2022-03-25T18:56:56.995Z"
   },
   {
    "duration": 44,
    "start_time": "2022-03-25T18:57:06.260Z"
   },
   {
    "duration": 15,
    "start_time": "2022-03-25T18:57:11.075Z"
   },
   {
    "duration": 10,
    "start_time": "2022-03-25T19:01:09.710Z"
   },
   {
    "duration": 136,
    "start_time": "2022-03-25T19:01:16.967Z"
   },
   {
    "duration": 180,
    "start_time": "2022-03-25T19:06:49.809Z"
   },
   {
    "duration": 10,
    "start_time": "2022-03-25T19:07:08.150Z"
   },
   {
    "duration": 13,
    "start_time": "2022-03-25T19:07:13.264Z"
   },
   {
    "duration": 338,
    "start_time": "2022-03-25T19:07:33.785Z"
   },
   {
    "duration": 15,
    "start_time": "2022-03-25T19:09:52.588Z"
   },
   {
    "duration": 66,
    "start_time": "2022-03-25T19:10:09.043Z"
   },
   {
    "duration": 182,
    "start_time": "2022-03-25T19:10:14.051Z"
   },
   {
    "duration": 5,
    "start_time": "2022-03-25T19:12:24.886Z"
   },
   {
    "duration": 175,
    "start_time": "2022-03-25T19:18:05.613Z"
   },
   {
    "duration": 2961,
    "start_time": "2022-03-25T22:04:47.280Z"
   },
   {
    "duration": 697,
    "start_time": "2022-03-25T22:04:50.243Z"
   },
   {
    "duration": 16,
    "start_time": "2022-03-25T22:06:09.096Z"
   },
   {
    "duration": 14,
    "start_time": "2022-03-25T22:06:10.646Z"
   },
   {
    "duration": 8,
    "start_time": "2022-03-25T22:06:35.339Z"
   },
   {
    "duration": 5,
    "start_time": "2022-03-25T22:06:36.717Z"
   },
   {
    "duration": 9,
    "start_time": "2022-03-25T22:06:37.686Z"
   },
   {
    "duration": 8,
    "start_time": "2022-03-25T22:07:19.758Z"
   },
   {
    "duration": 7,
    "start_time": "2022-03-25T22:07:20.673Z"
   },
   {
    "duration": 7,
    "start_time": "2022-03-25T22:07:20.904Z"
   },
   {
    "duration": 11,
    "start_time": "2022-03-25T22:07:21.296Z"
   },
   {
    "duration": 6,
    "start_time": "2022-03-25T22:07:22.218Z"
   },
   {
    "duration": 7,
    "start_time": "2022-03-25T22:07:22.666Z"
   },
   {
    "duration": 6,
    "start_time": "2022-03-25T22:07:23.005Z"
   },
   {
    "duration": 12,
    "start_time": "2022-03-25T22:07:23.357Z"
   },
   {
    "duration": 10,
    "start_time": "2022-03-25T22:07:24.078Z"
   },
   {
    "duration": 11,
    "start_time": "2022-03-25T22:07:24.467Z"
   },
   {
    "duration": 7,
    "start_time": "2022-03-25T22:07:24.604Z"
   },
   {
    "duration": 5,
    "start_time": "2022-03-25T22:07:24.779Z"
   },
   {
    "duration": 4,
    "start_time": "2022-03-25T22:07:24.979Z"
   },
   {
    "duration": 5,
    "start_time": "2022-03-25T22:07:25.145Z"
   },
   {
    "duration": 5,
    "start_time": "2022-03-25T22:07:25.319Z"
   },
   {
    "duration": 10,
    "start_time": "2022-03-25T22:07:25.645Z"
   },
   {
    "duration": 11,
    "start_time": "2022-03-25T22:07:26.216Z"
   },
   {
    "duration": 5,
    "start_time": "2022-03-25T22:07:26.949Z"
   },
   {
    "duration": 7,
    "start_time": "2022-03-25T22:07:27.268Z"
   },
   {
    "duration": 6,
    "start_time": "2022-03-25T22:07:27.428Z"
   },
   {
    "duration": 9,
    "start_time": "2022-03-25T22:07:27.592Z"
   },
   {
    "duration": 8,
    "start_time": "2022-03-25T22:07:28.042Z"
   },
   {
    "duration": 10,
    "start_time": "2022-03-25T22:07:28.599Z"
   },
   {
    "duration": 5,
    "start_time": "2022-03-25T22:07:29.186Z"
   },
   {
    "duration": 4,
    "start_time": "2022-03-25T22:07:29.355Z"
   },
   {
    "duration": 17,
    "start_time": "2022-03-25T22:07:29.728Z"
   },
   {
    "duration": 12,
    "start_time": "2022-03-25T22:07:29.887Z"
   },
   {
    "duration": 20,
    "start_time": "2022-03-25T22:07:30.278Z"
   },
   {
    "duration": 7,
    "start_time": "2022-03-25T22:07:30.603Z"
   },
   {
    "duration": 10,
    "start_time": "2022-03-25T22:07:30.769Z"
   },
   {
    "duration": 9,
    "start_time": "2022-03-25T22:07:30.977Z"
   },
   {
    "duration": 10,
    "start_time": "2022-03-25T22:07:31.326Z"
   },
   {
    "duration": 4,
    "start_time": "2022-03-25T22:07:34.456Z"
   },
   {
    "duration": 23,
    "start_time": "2022-03-25T22:07:34.622Z"
   },
   {
    "duration": 144,
    "start_time": "2022-03-25T22:07:35.684Z"
   },
   {
    "duration": 141,
    "start_time": "2022-03-25T22:07:36.228Z"
   },
   {
    "duration": 160,
    "start_time": "2022-03-25T22:07:36.420Z"
   },
   {
    "duration": 202,
    "start_time": "2022-03-25T22:07:36.753Z"
   },
   {
    "duration": 130,
    "start_time": "2022-03-25T22:07:37.096Z"
   },
   {
    "duration": 137,
    "start_time": "2022-03-25T22:07:38.887Z"
   },
   {
    "duration": 146,
    "start_time": "2022-03-25T22:07:40.216Z"
   },
   {
    "duration": 155,
    "start_time": "2022-03-25T22:07:40.580Z"
   },
   {
    "duration": 185,
    "start_time": "2022-03-25T22:07:40.926Z"
   },
   {
    "duration": 180,
    "start_time": "2022-03-25T22:07:41.274Z"
   },
   {
    "duration": 5,
    "start_time": "2022-03-25T22:07:42.292Z"
   },
   {
    "duration": 11,
    "start_time": "2022-03-25T22:07:43.609Z"
   },
   {
    "duration": 5,
    "start_time": "2022-03-25T22:12:37.208Z"
   },
   {
    "duration": 8,
    "start_time": "2022-03-25T22:12:38.155Z"
   },
   {
    "duration": 4,
    "start_time": "2022-03-25T22:12:38.729Z"
   },
   {
    "duration": 13734,
    "start_time": "2022-03-25T22:13:07.204Z"
   },
   {
    "duration": 1391,
    "start_time": "2022-03-25T22:13:20.942Z"
   },
   {
    "duration": 101,
    "start_time": "2022-03-25T22:13:22.336Z"
   },
   {
    "duration": 101,
    "start_time": "2022-03-25T22:13:22.440Z"
   },
   {
    "duration": 8503,
    "start_time": "2022-03-25T22:13:22.543Z"
   },
   {
    "duration": 984,
    "start_time": "2022-03-25T22:13:31.048Z"
   },
   {
    "duration": 49,
    "start_time": "2022-03-25T22:13:32.034Z"
   },
   {
    "duration": 59,
    "start_time": "2022-03-25T22:13:32.085Z"
   },
   {
    "duration": 176,
    "start_time": "2022-03-25T22:13:32.145Z"
   },
   {
    "duration": 19,
    "start_time": "2022-03-25T22:13:32.331Z"
   },
   {
    "duration": 8,
    "start_time": "2022-03-25T22:13:32.351Z"
   },
   {
    "duration": 1665,
    "start_time": "2022-03-26T03:04:31.677Z"
   },
   {
    "duration": 571,
    "start_time": "2022-03-26T03:04:33.344Z"
   },
   {
    "duration": 13,
    "start_time": "2022-03-26T03:04:33.916Z"
   },
   {
    "duration": 11,
    "start_time": "2022-03-26T03:04:33.931Z"
   },
   {
    "duration": 7,
    "start_time": "2022-03-26T03:04:33.943Z"
   },
   {
    "duration": 5,
    "start_time": "2022-03-26T03:04:33.951Z"
   },
   {
    "duration": 8,
    "start_time": "2022-03-26T03:04:33.957Z"
   },
   {
    "duration": 7,
    "start_time": "2022-03-26T03:04:33.967Z"
   },
   {
    "duration": 9,
    "start_time": "2022-03-26T03:04:33.975Z"
   },
   {
    "duration": 8,
    "start_time": "2022-03-26T03:04:33.986Z"
   },
   {
    "duration": 13,
    "start_time": "2022-03-26T03:04:33.995Z"
   },
   {
    "duration": 5,
    "start_time": "2022-03-26T03:04:34.010Z"
   },
   {
    "duration": 5,
    "start_time": "2022-03-26T03:04:34.016Z"
   },
   {
    "duration": 6,
    "start_time": "2022-03-26T03:04:34.022Z"
   },
   {
    "duration": 9,
    "start_time": "2022-03-26T03:04:34.029Z"
   },
   {
    "duration": 8,
    "start_time": "2022-03-26T03:04:34.039Z"
   },
   {
    "duration": 38,
    "start_time": "2022-03-26T03:04:34.048Z"
   },
   {
    "duration": 6,
    "start_time": "2022-03-26T03:04:34.087Z"
   },
   {
    "duration": 5,
    "start_time": "2022-03-26T03:04:34.094Z"
   },
   {
    "duration": 5,
    "start_time": "2022-03-26T03:04:34.100Z"
   },
   {
    "duration": 5,
    "start_time": "2022-03-26T03:04:34.106Z"
   },
   {
    "duration": 5,
    "start_time": "2022-03-26T03:04:34.112Z"
   },
   {
    "duration": 7,
    "start_time": "2022-03-26T03:04:34.118Z"
   },
   {
    "duration": 10,
    "start_time": "2022-03-26T03:04:34.126Z"
   },
   {
    "duration": 5,
    "start_time": "2022-03-26T03:04:34.137Z"
   },
   {
    "duration": 40,
    "start_time": "2022-03-26T03:04:34.144Z"
   },
   {
    "duration": 5,
    "start_time": "2022-03-26T03:04:34.185Z"
   },
   {
    "duration": 17,
    "start_time": "2022-03-26T03:04:34.193Z"
   },
   {
    "duration": 23,
    "start_time": "2022-03-26T03:04:34.211Z"
   },
   {
    "duration": 28,
    "start_time": "2022-03-26T03:04:34.235Z"
   },
   {
    "duration": 19,
    "start_time": "2022-03-26T03:04:34.265Z"
   },
   {
    "duration": 21,
    "start_time": "2022-03-26T03:04:34.285Z"
   },
   {
    "duration": 26,
    "start_time": "2022-03-26T03:04:34.307Z"
   },
   {
    "duration": 18,
    "start_time": "2022-03-26T03:04:34.335Z"
   },
   {
    "duration": 31,
    "start_time": "2022-03-26T03:04:34.354Z"
   },
   {
    "duration": 17,
    "start_time": "2022-03-26T03:04:34.386Z"
   },
   {
    "duration": 14,
    "start_time": "2022-03-26T03:04:34.404Z"
   },
   {
    "duration": 18,
    "start_time": "2022-03-26T03:04:34.420Z"
   },
   {
    "duration": 11,
    "start_time": "2022-03-26T03:04:34.440Z"
   },
   {
    "duration": 13,
    "start_time": "2022-03-26T03:04:34.453Z"
   },
   {
    "duration": 32,
    "start_time": "2022-03-26T03:04:34.467Z"
   },
   {
    "duration": 123,
    "start_time": "2022-03-26T03:04:34.501Z"
   },
   {
    "duration": 106,
    "start_time": "2022-03-26T03:04:34.625Z"
   },
   {
    "duration": 182,
    "start_time": "2022-03-26T03:04:34.733Z"
   },
   {
    "duration": 109,
    "start_time": "2022-03-26T03:04:34.917Z"
   },
   {
    "duration": 109,
    "start_time": "2022-03-26T03:04:35.027Z"
   },
   {
    "duration": 105,
    "start_time": "2022-03-26T03:04:35.138Z"
   },
   {
    "duration": 118,
    "start_time": "2022-03-26T03:04:35.245Z"
   },
   {
    "duration": 122,
    "start_time": "2022-03-26T03:04:35.365Z"
   },
   {
    "duration": 150,
    "start_time": "2022-03-26T03:04:35.489Z"
   },
   {
    "duration": 148,
    "start_time": "2022-03-26T03:04:35.641Z"
   },
   {
    "duration": 336,
    "start_time": "2022-03-26T03:04:35.790Z"
   },
   {
    "duration": 3,
    "start_time": "2022-03-26T03:04:36.128Z"
   },
   {
    "duration": 9,
    "start_time": "2022-03-26T03:04:36.133Z"
   },
   {
    "duration": 3,
    "start_time": "2022-03-26T03:04:36.143Z"
   },
   {
    "duration": 7,
    "start_time": "2022-03-26T03:04:36.148Z"
   },
   {
    "duration": 3,
    "start_time": "2022-03-26T03:04:36.156Z"
   },
   {
    "duration": 6901,
    "start_time": "2022-03-26T03:04:36.180Z"
   },
   {
    "duration": 805,
    "start_time": "2022-03-26T03:04:43.084Z"
   },
   {
    "duration": 99,
    "start_time": "2022-03-26T03:04:43.891Z"
   },
   {
    "duration": 106,
    "start_time": "2022-03-26T03:04:44.082Z"
   },
   {
    "duration": 6760,
    "start_time": "2022-03-26T03:04:44.190Z"
   },
   {
    "duration": 781,
    "start_time": "2022-03-26T03:04:50.951Z"
   },
   {
    "duration": 34,
    "start_time": "2022-03-26T03:04:51.733Z"
   },
   {
    "duration": 42,
    "start_time": "2022-03-26T03:04:51.768Z"
   },
   {
    "duration": 144,
    "start_time": "2022-03-26T03:04:51.812Z"
   },
   {
    "duration": 24,
    "start_time": "2022-03-26T03:04:51.957Z"
   },
   {
    "duration": 5,
    "start_time": "2022-03-26T03:04:51.983Z"
   },
   {
    "duration": 111,
    "start_time": "2022-03-26T03:05:48.471Z"
   },
   {
    "duration": 12,
    "start_time": "2022-03-26T03:06:50.951Z"
   },
   {
    "duration": 13,
    "start_time": "2022-03-26T03:07:33.966Z"
   },
   {
    "duration": 1513,
    "start_time": "2022-03-26T03:07:59.260Z"
   },
   {
    "duration": 93,
    "start_time": "2022-03-26T03:08:00.775Z"
   },
   {
    "duration": 13,
    "start_time": "2022-03-26T03:08:00.870Z"
   },
   {
    "duration": 16,
    "start_time": "2022-03-26T03:08:00.885Z"
   },
   {
    "duration": 8,
    "start_time": "2022-03-26T03:08:00.903Z"
   },
   {
    "duration": 10,
    "start_time": "2022-03-26T03:08:00.913Z"
   },
   {
    "duration": 15,
    "start_time": "2022-03-26T03:08:00.925Z"
   },
   {
    "duration": 6,
    "start_time": "2022-03-26T03:08:00.941Z"
   },
   {
    "duration": 15,
    "start_time": "2022-03-26T03:08:00.948Z"
   },
   {
    "duration": 13,
    "start_time": "2022-03-26T03:08:00.964Z"
   },
   {
    "duration": 20,
    "start_time": "2022-03-26T03:08:00.978Z"
   },
   {
    "duration": 14,
    "start_time": "2022-03-26T03:08:01.000Z"
   },
   {
    "duration": 16,
    "start_time": "2022-03-26T03:08:01.016Z"
   },
   {
    "duration": 12,
    "start_time": "2022-03-26T03:08:01.034Z"
   },
   {
    "duration": 22,
    "start_time": "2022-03-26T03:08:01.047Z"
   },
   {
    "duration": 19,
    "start_time": "2022-03-26T03:08:01.070Z"
   },
   {
    "duration": 17,
    "start_time": "2022-03-26T03:08:01.090Z"
   },
   {
    "duration": 9,
    "start_time": "2022-03-26T03:08:01.109Z"
   },
   {
    "duration": 12,
    "start_time": "2022-03-26T03:08:01.119Z"
   },
   {
    "duration": 9,
    "start_time": "2022-03-26T03:08:01.133Z"
   },
   {
    "duration": 6,
    "start_time": "2022-03-26T03:08:01.144Z"
   },
   {
    "duration": 13,
    "start_time": "2022-03-26T03:08:01.151Z"
   },
   {
    "duration": 21,
    "start_time": "2022-03-26T03:08:01.165Z"
   },
   {
    "duration": 13,
    "start_time": "2022-03-26T03:08:01.187Z"
   },
   {
    "duration": 7,
    "start_time": "2022-03-26T03:08:01.202Z"
   },
   {
    "duration": 8,
    "start_time": "2022-03-26T03:08:01.210Z"
   },
   {
    "duration": 7,
    "start_time": "2022-03-26T03:08:01.219Z"
   },
   {
    "duration": 13,
    "start_time": "2022-03-26T03:08:01.228Z"
   },
   {
    "duration": 7,
    "start_time": "2022-03-26T03:08:01.242Z"
   },
   {
    "duration": 12,
    "start_time": "2022-03-26T03:08:01.250Z"
   },
   {
    "duration": 18,
    "start_time": "2022-03-26T03:08:01.263Z"
   },
   {
    "duration": 3,
    "start_time": "2022-03-26T03:08:01.283Z"
   },
   {
    "duration": 15,
    "start_time": "2022-03-26T03:08:01.288Z"
   },
   {
    "duration": 10,
    "start_time": "2022-03-26T03:08:01.305Z"
   },
   {
    "duration": 14,
    "start_time": "2022-03-26T03:08:01.317Z"
   },
   {
    "duration": 12,
    "start_time": "2022-03-26T03:08:01.333Z"
   },
   {
    "duration": 10,
    "start_time": "2022-03-26T03:08:01.347Z"
   },
   {
    "duration": 28,
    "start_time": "2022-03-26T03:08:01.358Z"
   },
   {
    "duration": 9,
    "start_time": "2022-03-26T03:08:01.388Z"
   },
   {
    "duration": 4,
    "start_time": "2022-03-26T03:08:01.398Z"
   },
   {
    "duration": 19,
    "start_time": "2022-03-26T03:08:01.405Z"
   },
   {
    "duration": 137,
    "start_time": "2022-03-26T03:08:01.426Z"
   },
   {
    "duration": 117,
    "start_time": "2022-03-26T03:08:01.565Z"
   },
   {
    "duration": 130,
    "start_time": "2022-03-26T03:08:01.685Z"
   },
   {
    "duration": 188,
    "start_time": "2022-03-26T03:08:01.816Z"
   },
   {
    "duration": 117,
    "start_time": "2022-03-26T03:08:02.006Z"
   },
   {
    "duration": 115,
    "start_time": "2022-03-26T03:08:02.125Z"
   },
   {
    "duration": 122,
    "start_time": "2022-03-26T03:08:02.241Z"
   },
   {
    "duration": 124,
    "start_time": "2022-03-26T03:08:02.365Z"
   },
   {
    "duration": 147,
    "start_time": "2022-03-26T03:08:02.491Z"
   },
   {
    "duration": 149,
    "start_time": "2022-03-26T03:08:02.640Z"
   },
   {
    "duration": 326,
    "start_time": "2022-03-26T03:08:02.790Z"
   },
   {
    "duration": 4,
    "start_time": "2022-03-26T03:08:03.117Z"
   },
   {
    "duration": 11,
    "start_time": "2022-03-26T03:08:03.122Z"
   },
   {
    "duration": 3,
    "start_time": "2022-03-26T03:08:03.134Z"
   },
   {
    "duration": 6,
    "start_time": "2022-03-26T03:08:03.139Z"
   },
   {
    "duration": 6,
    "start_time": "2022-03-26T03:08:03.147Z"
   },
   {
    "duration": 9031,
    "start_time": "2022-03-26T03:08:03.154Z"
   },
   {
    "duration": 901,
    "start_time": "2022-03-26T03:08:12.187Z"
   },
   {
    "duration": 96,
    "start_time": "2022-03-26T03:08:13.090Z"
   },
   {
    "duration": 97,
    "start_time": "2022-03-26T03:08:13.188Z"
   },
   {
    "duration": 6864,
    "start_time": "2022-03-26T03:08:13.289Z"
   },
   {
    "duration": 845,
    "start_time": "2022-03-26T03:08:20.155Z"
   },
   {
    "duration": 39,
    "start_time": "2022-03-26T03:08:21.002Z"
   },
   {
    "duration": 60,
    "start_time": "2022-03-26T03:08:21.042Z"
   },
   {
    "duration": 156,
    "start_time": "2022-03-26T03:08:21.104Z"
   },
   {
    "duration": 20,
    "start_time": "2022-03-26T03:08:21.262Z"
   },
   {
    "duration": 8,
    "start_time": "2022-03-26T03:08:21.283Z"
   },
   {
    "duration": 268,
    "start_time": "2022-03-26T03:09:40.619Z"
   },
   {
    "duration": 103,
    "start_time": "2022-03-26T03:17:02.547Z"
   },
   {
    "duration": 1547,
    "start_time": "2022-03-26T03:17:11.836Z"
   },
   {
    "duration": 93,
    "start_time": "2022-03-26T03:17:13.385Z"
   },
   {
    "duration": 15,
    "start_time": "2022-03-26T03:17:13.480Z"
   },
   {
    "duration": 11,
    "start_time": "2022-03-26T03:17:13.497Z"
   },
   {
    "duration": 15,
    "start_time": "2022-03-26T03:17:13.511Z"
   },
   {
    "duration": 16,
    "start_time": "2022-03-26T03:17:13.528Z"
   },
   {
    "duration": 27,
    "start_time": "2022-03-26T03:17:13.545Z"
   },
   {
    "duration": 17,
    "start_time": "2022-03-26T03:17:13.574Z"
   },
   {
    "duration": 18,
    "start_time": "2022-03-26T03:17:13.593Z"
   },
   {
    "duration": 36,
    "start_time": "2022-03-26T03:17:13.613Z"
   },
   {
    "duration": 17,
    "start_time": "2022-03-26T03:17:13.650Z"
   },
   {
    "duration": 6,
    "start_time": "2022-03-26T03:17:13.669Z"
   },
   {
    "duration": 13,
    "start_time": "2022-03-26T03:17:13.677Z"
   },
   {
    "duration": 15,
    "start_time": "2022-03-26T03:17:13.694Z"
   },
   {
    "duration": 22,
    "start_time": "2022-03-26T03:17:13.711Z"
   },
   {
    "duration": 10,
    "start_time": "2022-03-26T03:17:13.735Z"
   },
   {
    "duration": 20,
    "start_time": "2022-03-26T03:17:13.746Z"
   },
   {
    "duration": 17,
    "start_time": "2022-03-26T03:17:13.767Z"
   },
   {
    "duration": 8,
    "start_time": "2022-03-26T03:17:13.786Z"
   },
   {
    "duration": 15,
    "start_time": "2022-03-26T03:17:13.795Z"
   },
   {
    "duration": 20,
    "start_time": "2022-03-26T03:17:13.811Z"
   },
   {
    "duration": 10,
    "start_time": "2022-03-26T03:17:13.832Z"
   },
   {
    "duration": 22,
    "start_time": "2022-03-26T03:17:13.843Z"
   },
   {
    "duration": 16,
    "start_time": "2022-03-26T03:17:13.866Z"
   },
   {
    "duration": 11,
    "start_time": "2022-03-26T03:17:13.883Z"
   },
   {
    "duration": 26,
    "start_time": "2022-03-26T03:17:13.895Z"
   },
   {
    "duration": 12,
    "start_time": "2022-03-26T03:17:13.922Z"
   },
   {
    "duration": 17,
    "start_time": "2022-03-26T03:17:13.935Z"
   },
   {
    "duration": 15,
    "start_time": "2022-03-26T03:17:13.953Z"
   },
   {
    "duration": 10,
    "start_time": "2022-03-26T03:17:13.969Z"
   },
   {
    "duration": 13,
    "start_time": "2022-03-26T03:17:13.980Z"
   },
   {
    "duration": 10,
    "start_time": "2022-03-26T03:17:13.994Z"
   },
   {
    "duration": 23,
    "start_time": "2022-03-26T03:17:14.006Z"
   },
   {
    "duration": 13,
    "start_time": "2022-03-26T03:17:14.030Z"
   },
   {
    "duration": 14,
    "start_time": "2022-03-26T03:17:14.045Z"
   },
   {
    "duration": 8,
    "start_time": "2022-03-26T03:17:14.061Z"
   },
   {
    "duration": 9,
    "start_time": "2022-03-26T03:17:14.071Z"
   },
   {
    "duration": 9,
    "start_time": "2022-03-26T03:17:14.081Z"
   },
   {
    "duration": 17,
    "start_time": "2022-03-26T03:17:14.091Z"
   },
   {
    "duration": 5,
    "start_time": "2022-03-26T03:17:14.109Z"
   },
   {
    "duration": 29,
    "start_time": "2022-03-26T03:17:14.118Z"
   },
   {
    "duration": 118,
    "start_time": "2022-03-26T03:17:14.148Z"
   },
   {
    "duration": 118,
    "start_time": "2022-03-26T03:17:14.267Z"
   },
   {
    "duration": 129,
    "start_time": "2022-03-26T03:17:14.387Z"
   },
   {
    "duration": 176,
    "start_time": "2022-03-26T03:17:14.517Z"
   },
   {
    "duration": 105,
    "start_time": "2022-03-26T03:17:14.695Z"
   },
   {
    "duration": 119,
    "start_time": "2022-03-26T03:17:14.801Z"
   },
   {
    "duration": 121,
    "start_time": "2022-03-26T03:17:14.921Z"
   },
   {
    "duration": 118,
    "start_time": "2022-03-26T03:17:15.044Z"
   },
   {
    "duration": 157,
    "start_time": "2022-03-26T03:17:15.163Z"
   },
   {
    "duration": 153,
    "start_time": "2022-03-26T03:17:15.321Z"
   },
   {
    "duration": 349,
    "start_time": "2022-03-26T03:17:15.480Z"
   },
   {
    "duration": 112,
    "start_time": "2022-03-26T03:17:15.830Z"
   },
   {
    "duration": 0,
    "start_time": "2022-03-26T03:17:15.944Z"
   },
   {
    "duration": 0,
    "start_time": "2022-03-26T03:17:15.945Z"
   },
   {
    "duration": 0,
    "start_time": "2022-03-26T03:17:15.945Z"
   },
   {
    "duration": 0,
    "start_time": "2022-03-26T03:17:15.946Z"
   },
   {
    "duration": 0,
    "start_time": "2022-03-26T03:17:15.947Z"
   },
   {
    "duration": 0,
    "start_time": "2022-03-26T03:17:15.948Z"
   },
   {
    "duration": 0,
    "start_time": "2022-03-26T03:17:15.949Z"
   },
   {
    "duration": 0,
    "start_time": "2022-03-26T03:17:15.950Z"
   },
   {
    "duration": 0,
    "start_time": "2022-03-26T03:17:15.950Z"
   },
   {
    "duration": 0,
    "start_time": "2022-03-26T03:17:15.951Z"
   },
   {
    "duration": 0,
    "start_time": "2022-03-26T03:17:15.952Z"
   },
   {
    "duration": 0,
    "start_time": "2022-03-26T03:17:15.953Z"
   },
   {
    "duration": 0,
    "start_time": "2022-03-26T03:17:15.954Z"
   },
   {
    "duration": 0,
    "start_time": "2022-03-26T03:17:15.955Z"
   },
   {
    "duration": 0,
    "start_time": "2022-03-26T03:17:15.956Z"
   },
   {
    "duration": 0,
    "start_time": "2022-03-26T03:17:15.981Z"
   },
   {
    "duration": 1552,
    "start_time": "2022-03-26T03:17:33.006Z"
   },
   {
    "duration": 91,
    "start_time": "2022-03-26T03:17:34.559Z"
   },
   {
    "duration": 13,
    "start_time": "2022-03-26T03:17:34.652Z"
   },
   {
    "duration": 13,
    "start_time": "2022-03-26T03:17:34.666Z"
   },
   {
    "duration": 6,
    "start_time": "2022-03-26T03:17:34.681Z"
   },
   {
    "duration": 6,
    "start_time": "2022-03-26T03:17:34.689Z"
   },
   {
    "duration": 8,
    "start_time": "2022-03-26T03:17:34.696Z"
   },
   {
    "duration": 6,
    "start_time": "2022-03-26T03:17:34.706Z"
   },
   {
    "duration": 8,
    "start_time": "2022-03-26T03:17:34.713Z"
   },
   {
    "duration": 10,
    "start_time": "2022-03-26T03:17:34.722Z"
   },
   {
    "duration": 20,
    "start_time": "2022-03-26T03:17:34.733Z"
   },
   {
    "duration": 6,
    "start_time": "2022-03-26T03:17:34.754Z"
   },
   {
    "duration": 20,
    "start_time": "2022-03-26T03:17:34.761Z"
   },
   {
    "duration": 9,
    "start_time": "2022-03-26T03:17:34.784Z"
   },
   {
    "duration": 10,
    "start_time": "2022-03-26T03:17:34.795Z"
   },
   {
    "duration": 13,
    "start_time": "2022-03-26T03:17:34.806Z"
   },
   {
    "duration": 13,
    "start_time": "2022-03-26T03:17:34.820Z"
   },
   {
    "duration": 11,
    "start_time": "2022-03-26T03:17:34.835Z"
   },
   {
    "duration": 8,
    "start_time": "2022-03-26T03:17:34.847Z"
   },
   {
    "duration": 6,
    "start_time": "2022-03-26T03:17:34.856Z"
   },
   {
    "duration": 6,
    "start_time": "2022-03-26T03:17:34.864Z"
   },
   {
    "duration": 4,
    "start_time": "2022-03-26T03:17:34.880Z"
   },
   {
    "duration": 17,
    "start_time": "2022-03-26T03:17:34.885Z"
   },
   {
    "duration": 13,
    "start_time": "2022-03-26T03:17:34.903Z"
   },
   {
    "duration": 8,
    "start_time": "2022-03-26T03:17:34.917Z"
   },
   {
    "duration": 10,
    "start_time": "2022-03-26T03:17:34.926Z"
   },
   {
    "duration": 14,
    "start_time": "2022-03-26T03:17:34.938Z"
   },
   {
    "duration": 12,
    "start_time": "2022-03-26T03:17:34.953Z"
   },
   {
    "duration": 6,
    "start_time": "2022-03-26T03:17:34.967Z"
   },
   {
    "duration": 9,
    "start_time": "2022-03-26T03:17:34.974Z"
   },
   {
    "duration": 7,
    "start_time": "2022-03-26T03:17:34.985Z"
   },
   {
    "duration": 4,
    "start_time": "2022-03-26T03:17:34.993Z"
   },
   {
    "duration": 15,
    "start_time": "2022-03-26T03:17:34.999Z"
   },
   {
    "duration": 9,
    "start_time": "2022-03-26T03:17:35.016Z"
   },
   {
    "duration": 15,
    "start_time": "2022-03-26T03:17:35.027Z"
   },
   {
    "duration": 9,
    "start_time": "2022-03-26T03:17:35.043Z"
   },
   {
    "duration": 9,
    "start_time": "2022-03-26T03:17:35.081Z"
   },
   {
    "duration": 13,
    "start_time": "2022-03-26T03:17:35.091Z"
   },
   {
    "duration": 10,
    "start_time": "2022-03-26T03:17:35.105Z"
   },
   {
    "duration": 3,
    "start_time": "2022-03-26T03:17:35.116Z"
   },
   {
    "duration": 21,
    "start_time": "2022-03-26T03:17:35.123Z"
   },
   {
    "duration": 129,
    "start_time": "2022-03-26T03:17:35.145Z"
   },
   {
    "duration": 1,
    "start_time": "2022-03-26T03:17:35.275Z"
   },
   {
    "duration": 0,
    "start_time": "2022-03-26T03:17:35.280Z"
   },
   {
    "duration": 0,
    "start_time": "2022-03-26T03:17:35.281Z"
   },
   {
    "duration": 0,
    "start_time": "2022-03-26T03:17:35.282Z"
   },
   {
    "duration": 0,
    "start_time": "2022-03-26T03:17:35.283Z"
   },
   {
    "duration": 0,
    "start_time": "2022-03-26T03:17:35.284Z"
   },
   {
    "duration": 0,
    "start_time": "2022-03-26T03:17:35.285Z"
   },
   {
    "duration": 0,
    "start_time": "2022-03-26T03:17:35.286Z"
   },
   {
    "duration": 0,
    "start_time": "2022-03-26T03:17:35.287Z"
   },
   {
    "duration": 0,
    "start_time": "2022-03-26T03:17:35.288Z"
   },
   {
    "duration": 0,
    "start_time": "2022-03-26T03:17:35.289Z"
   },
   {
    "duration": 0,
    "start_time": "2022-03-26T03:17:35.290Z"
   },
   {
    "duration": 0,
    "start_time": "2022-03-26T03:17:35.291Z"
   },
   {
    "duration": 0,
    "start_time": "2022-03-26T03:17:35.292Z"
   },
   {
    "duration": 0,
    "start_time": "2022-03-26T03:17:35.293Z"
   },
   {
    "duration": 0,
    "start_time": "2022-03-26T03:17:35.293Z"
   },
   {
    "duration": 0,
    "start_time": "2022-03-26T03:17:35.294Z"
   },
   {
    "duration": 0,
    "start_time": "2022-03-26T03:17:35.295Z"
   },
   {
    "duration": 0,
    "start_time": "2022-03-26T03:17:35.296Z"
   },
   {
    "duration": 0,
    "start_time": "2022-03-26T03:17:35.297Z"
   },
   {
    "duration": 0,
    "start_time": "2022-03-26T03:17:35.298Z"
   },
   {
    "duration": 0,
    "start_time": "2022-03-26T03:17:35.299Z"
   },
   {
    "duration": 0,
    "start_time": "2022-03-26T03:17:35.300Z"
   },
   {
    "duration": 0,
    "start_time": "2022-03-26T03:17:35.301Z"
   },
   {
    "duration": 0,
    "start_time": "2022-03-26T03:17:35.302Z"
   },
   {
    "duration": 0,
    "start_time": "2022-03-26T03:17:35.303Z"
   },
   {
    "duration": 0,
    "start_time": "2022-03-26T03:17:35.304Z"
   },
   {
    "duration": 26,
    "start_time": "2022-03-26T03:17:58.171Z"
   },
   {
    "duration": 1438,
    "start_time": "2022-03-26T03:18:14.227Z"
   },
   {
    "duration": 107,
    "start_time": "2022-03-26T03:19:20.746Z"
   },
   {
    "duration": 103,
    "start_time": "2022-03-26T03:19:21.619Z"
   },
   {
    "duration": 127,
    "start_time": "2022-03-26T03:19:21.821Z"
   },
   {
    "duration": 101,
    "start_time": "2022-03-26T03:19:22.216Z"
   },
   {
    "duration": 107,
    "start_time": "2022-03-26T03:19:22.648Z"
   },
   {
    "duration": 191,
    "start_time": "2022-03-26T03:19:25.605Z"
   },
   {
    "duration": 118,
    "start_time": "2022-03-26T03:19:26.081Z"
   },
   {
    "duration": 115,
    "start_time": "2022-03-26T03:19:26.520Z"
   },
   {
    "duration": 151,
    "start_time": "2022-03-26T03:19:30.348Z"
   },
   {
    "duration": 146,
    "start_time": "2022-03-26T03:19:31.590Z"
   },
   {
    "duration": 21,
    "start_time": "2022-03-26T03:19:37.585Z"
   },
   {
    "duration": 346,
    "start_time": "2022-03-26T03:19:38.268Z"
   },
   {
    "duration": 10,
    "start_time": "2022-03-26T03:20:20.935Z"
   },
   {
    "duration": 3155,
    "start_time": "2022-03-26T03:20:31.388Z"
   },
   {
    "duration": 5,
    "start_time": "2022-03-26T03:21:02.951Z"
   },
   {
    "duration": 11,
    "start_time": "2022-03-26T03:21:14.063Z"
   },
   {
    "duration": 9,
    "start_time": "2022-03-26T03:30:00.494Z"
   },
   {
    "duration": 1637,
    "start_time": "2022-03-26T03:30:06.372Z"
   },
   {
    "duration": 111,
    "start_time": "2022-03-26T03:30:08.012Z"
   },
   {
    "duration": 15,
    "start_time": "2022-03-26T03:30:08.124Z"
   },
   {
    "duration": 12,
    "start_time": "2022-03-26T03:30:08.141Z"
   },
   {
    "duration": 10,
    "start_time": "2022-03-26T03:30:08.155Z"
   },
   {
    "duration": 6,
    "start_time": "2022-03-26T03:30:08.167Z"
   },
   {
    "duration": 12,
    "start_time": "2022-03-26T03:30:08.174Z"
   },
   {
    "duration": 8,
    "start_time": "2022-03-26T03:30:08.188Z"
   },
   {
    "duration": 12,
    "start_time": "2022-03-26T03:30:08.198Z"
   },
   {
    "duration": 8,
    "start_time": "2022-03-26T03:30:08.212Z"
   },
   {
    "duration": 14,
    "start_time": "2022-03-26T03:30:08.222Z"
   },
   {
    "duration": 7,
    "start_time": "2022-03-26T03:30:08.238Z"
   },
   {
    "duration": 6,
    "start_time": "2022-03-26T03:30:08.247Z"
   },
   {
    "duration": 24,
    "start_time": "2022-03-26T03:30:08.257Z"
   },
   {
    "duration": 16,
    "start_time": "2022-03-26T03:30:08.283Z"
   },
   {
    "duration": 13,
    "start_time": "2022-03-26T03:30:08.301Z"
   },
   {
    "duration": 16,
    "start_time": "2022-03-26T03:30:08.316Z"
   },
   {
    "duration": 10,
    "start_time": "2022-03-26T03:30:08.334Z"
   },
   {
    "duration": 6,
    "start_time": "2022-03-26T03:30:08.346Z"
   },
   {
    "duration": 5,
    "start_time": "2022-03-26T03:30:08.354Z"
   },
   {
    "duration": 21,
    "start_time": "2022-03-26T03:30:08.361Z"
   },
   {
    "duration": 8,
    "start_time": "2022-03-26T03:30:08.384Z"
   },
   {
    "duration": 11,
    "start_time": "2022-03-26T03:30:08.394Z"
   },
   {
    "duration": 14,
    "start_time": "2022-03-26T03:30:08.407Z"
   },
   {
    "duration": 8,
    "start_time": "2022-03-26T03:30:08.423Z"
   },
   {
    "duration": 8,
    "start_time": "2022-03-26T03:30:08.433Z"
   },
   {
    "duration": 5,
    "start_time": "2022-03-26T03:30:08.443Z"
   },
   {
    "duration": 41,
    "start_time": "2022-03-26T03:30:08.449Z"
   },
   {
    "duration": 7,
    "start_time": "2022-03-26T03:30:08.492Z"
   },
   {
    "duration": 12,
    "start_time": "2022-03-26T03:30:08.501Z"
   },
   {
    "duration": 7,
    "start_time": "2022-03-26T03:30:08.514Z"
   },
   {
    "duration": 14,
    "start_time": "2022-03-26T03:30:08.522Z"
   },
   {
    "duration": 15,
    "start_time": "2022-03-26T03:30:08.537Z"
   },
   {
    "duration": 27,
    "start_time": "2022-03-26T03:30:08.554Z"
   },
   {
    "duration": 19,
    "start_time": "2022-03-26T03:30:08.583Z"
   },
   {
    "duration": 7,
    "start_time": "2022-03-26T03:30:08.604Z"
   },
   {
    "duration": 10,
    "start_time": "2022-03-26T03:30:08.613Z"
   },
   {
    "duration": 10,
    "start_time": "2022-03-26T03:30:08.624Z"
   },
   {
    "duration": 14,
    "start_time": "2022-03-26T03:30:08.636Z"
   },
   {
    "duration": 4,
    "start_time": "2022-03-26T03:30:08.651Z"
   },
   {
    "duration": 21,
    "start_time": "2022-03-26T03:30:08.680Z"
   },
   {
    "duration": 145,
    "start_time": "2022-03-26T03:30:08.702Z"
   },
   {
    "duration": 113,
    "start_time": "2022-03-26T03:30:08.848Z"
   },
   {
    "duration": 134,
    "start_time": "2022-03-26T03:30:08.963Z"
   },
   {
    "duration": 168,
    "start_time": "2022-03-26T03:30:09.099Z"
   },
   {
    "duration": 117,
    "start_time": "2022-03-26T03:30:09.268Z"
   },
   {
    "duration": 107,
    "start_time": "2022-03-26T03:30:09.387Z"
   },
   {
    "duration": 124,
    "start_time": "2022-03-26T03:30:09.496Z"
   },
   {
    "duration": 121,
    "start_time": "2022-03-26T03:30:09.622Z"
   },
   {
    "duration": 157,
    "start_time": "2022-03-26T03:30:09.745Z"
   },
   {
    "duration": 153,
    "start_time": "2022-03-26T03:30:09.904Z"
   },
   {
    "duration": 10,
    "start_time": "2022-03-26T03:30:10.059Z"
   },
   {
    "duration": 348,
    "start_time": "2022-03-26T03:30:10.081Z"
   },
   {
    "duration": 3,
    "start_time": "2022-03-26T03:30:10.431Z"
   },
   {
    "duration": 11,
    "start_time": "2022-03-26T03:30:10.436Z"
   },
   {
    "duration": 4,
    "start_time": "2022-03-26T03:30:10.449Z"
   },
   {
    "duration": 10,
    "start_time": "2022-03-26T03:30:10.454Z"
   },
   {
    "duration": 3,
    "start_time": "2022-03-26T03:30:10.466Z"
   },
   {
    "duration": 8001,
    "start_time": "2022-03-26T03:30:10.481Z"
   },
   {
    "duration": 898,
    "start_time": "2022-03-26T03:30:18.484Z"
   },
   {
    "duration": 100,
    "start_time": "2022-03-26T03:30:19.388Z"
   },
   {
    "duration": 195,
    "start_time": "2022-03-26T03:30:19.491Z"
   },
   {
    "duration": 6900,
    "start_time": "2022-03-26T03:30:19.691Z"
   },
   {
    "duration": 828,
    "start_time": "2022-03-26T03:30:26.592Z"
   },
   {
    "duration": 36,
    "start_time": "2022-03-26T03:30:27.422Z"
   },
   {
    "duration": 38,
    "start_time": "2022-03-26T03:30:27.460Z"
   },
   {
    "duration": 138,
    "start_time": "2022-03-26T03:30:27.500Z"
   },
   {
    "duration": 15,
    "start_time": "2022-03-26T03:30:27.639Z"
   },
   {
    "duration": 102,
    "start_time": "2022-03-26T03:30:27.656Z"
   },
   {
    "duration": 7,
    "start_time": "2022-03-26T03:31:18.903Z"
   },
   {
    "duration": 10,
    "start_time": "2022-03-26T03:42:56.347Z"
   },
   {
    "duration": 11,
    "start_time": "2022-03-26T03:44:01.022Z"
   },
   {
    "duration": 148,
    "start_time": "2022-03-26T03:44:14.018Z"
   },
   {
    "duration": 136,
    "start_time": "2022-03-26T03:45:37.890Z"
   },
   {
    "duration": 10,
    "start_time": "2022-03-26T03:47:54.119Z"
   },
   {
    "duration": 9,
    "start_time": "2022-03-26T03:48:18.609Z"
   },
   {
    "duration": 218,
    "start_time": "2022-03-26T03:48:28.328Z"
   },
   {
    "duration": 227,
    "start_time": "2022-03-26T03:49:06.934Z"
   },
   {
    "duration": 51180,
    "start_time": "2022-03-26T07:18:02.082Z"
   },
   {
    "duration": 101,
    "start_time": "2022-03-26T07:18:53.263Z"
   },
   {
    "duration": 13,
    "start_time": "2022-03-26T07:18:53.365Z"
   },
   {
    "duration": 11,
    "start_time": "2022-03-26T07:18:53.380Z"
   },
   {
    "duration": 6,
    "start_time": "2022-03-26T07:18:53.393Z"
   },
   {
    "duration": 4,
    "start_time": "2022-03-26T07:18:53.401Z"
   },
   {
    "duration": 8,
    "start_time": "2022-03-26T07:18:53.407Z"
   },
   {
    "duration": 6,
    "start_time": "2022-03-26T07:18:53.416Z"
   },
   {
    "duration": 5,
    "start_time": "2022-03-26T07:18:53.424Z"
   },
   {
    "duration": 5,
    "start_time": "2022-03-26T07:18:53.432Z"
   },
   {
    "duration": 12,
    "start_time": "2022-03-26T07:18:53.439Z"
   },
   {
    "duration": 32,
    "start_time": "2022-03-26T07:18:53.452Z"
   },
   {
    "duration": 6,
    "start_time": "2022-03-26T07:18:53.486Z"
   },
   {
    "duration": 4,
    "start_time": "2022-03-26T07:18:53.493Z"
   },
   {
    "duration": 10,
    "start_time": "2022-03-26T07:18:53.498Z"
   },
   {
    "duration": 9,
    "start_time": "2022-03-26T07:18:53.509Z"
   },
   {
    "duration": 13,
    "start_time": "2022-03-26T07:18:53.519Z"
   },
   {
    "duration": 5,
    "start_time": "2022-03-26T07:18:53.533Z"
   },
   {
    "duration": 5,
    "start_time": "2022-03-26T07:18:53.540Z"
   },
   {
    "duration": 35,
    "start_time": "2022-03-26T07:18:53.547Z"
   },
   {
    "duration": 9,
    "start_time": "2022-03-26T07:18:53.583Z"
   },
   {
    "duration": 6,
    "start_time": "2022-03-26T07:18:53.593Z"
   },
   {
    "duration": 8,
    "start_time": "2022-03-26T07:18:53.601Z"
   },
   {
    "duration": 12,
    "start_time": "2022-03-26T07:18:53.610Z"
   },
   {
    "duration": 6,
    "start_time": "2022-03-26T07:18:53.623Z"
   },
   {
    "duration": 10,
    "start_time": "2022-03-26T07:18:53.630Z"
   },
   {
    "duration": 10,
    "start_time": "2022-03-26T07:18:53.641Z"
   },
   {
    "duration": 27,
    "start_time": "2022-03-26T07:18:53.654Z"
   },
   {
    "duration": 6,
    "start_time": "2022-03-26T07:18:53.682Z"
   },
   {
    "duration": 10,
    "start_time": "2022-03-26T07:18:53.690Z"
   },
   {
    "duration": 5,
    "start_time": "2022-03-26T07:19:08.604Z"
   },
   {
    "duration": 4,
    "start_time": "2022-03-26T07:19:09.064Z"
   },
   {
    "duration": 15,
    "start_time": "2022-03-26T07:19:09.557Z"
   },
   {
    "duration": 12,
    "start_time": "2022-03-26T07:19:09.661Z"
   },
   {
    "duration": 16,
    "start_time": "2022-03-26T07:19:10.576Z"
   },
   {
    "duration": 6,
    "start_time": "2022-03-26T07:19:10.602Z"
   },
   {
    "duration": 9,
    "start_time": "2022-03-26T07:19:10.679Z"
   },
   {
    "duration": 8,
    "start_time": "2022-03-26T07:19:11.012Z"
   },
   {
    "duration": 9,
    "start_time": "2022-03-26T07:19:11.022Z"
   },
   {
    "duration": 4,
    "start_time": "2022-03-26T07:19:11.397Z"
   },
   {
    "duration": 20,
    "start_time": "2022-03-26T07:19:11.793Z"
   },
   {
    "duration": 4,
    "start_time": "2022-03-26T07:19:22.863Z"
   },
   {
    "duration": 9,
    "start_time": "2022-03-26T07:19:24.613Z"
   },
   {
    "duration": 4,
    "start_time": "2022-03-26T07:19:26.963Z"
   },
   {
    "duration": 7,
    "start_time": "2022-03-26T07:19:27.822Z"
   },
   {
    "duration": 3,
    "start_time": "2022-03-26T07:19:28.168Z"
   },
   {
    "duration": 167,
    "start_time": "2022-03-26T07:19:39.405Z"
   },
   {
    "duration": 17,
    "start_time": "2022-03-26T07:19:42.244Z"
   },
   {
    "duration": 8,
    "start_time": "2022-03-26T07:19:42.785Z"
   },
   {
    "duration": 108,
    "start_time": "2022-03-26T07:21:22.747Z"
   },
   {
    "duration": 151,
    "start_time": "2022-03-26T07:23:41.773Z"
   },
   {
    "duration": 16,
    "start_time": "2022-03-26T07:23:44.314Z"
   },
   {
    "duration": 7,
    "start_time": "2022-03-26T07:23:45.182Z"
   },
   {
    "duration": 7,
    "start_time": "2022-03-26T07:23:48.838Z"
   },
   {
    "duration": 1806,
    "start_time": "2022-06-22T06:46:08.913Z"
   },
   {
    "duration": 121,
    "start_time": "2022-06-22T06:49:20.742Z"
   },
   {
    "duration": 1456,
    "start_time": "2022-06-22T06:49:28.382Z"
   },
   {
    "duration": 427,
    "start_time": "2022-06-22T06:49:30.977Z"
   },
   {
    "duration": 32,
    "start_time": "2022-06-22T06:49:32.615Z"
   },
   {
    "duration": 13,
    "start_time": "2022-06-22T06:49:45.493Z"
   },
   {
    "duration": 7,
    "start_time": "2022-06-22T06:50:15.244Z"
   },
   {
    "duration": 5,
    "start_time": "2022-06-22T06:50:15.759Z"
   },
   {
    "duration": 11,
    "start_time": "2022-06-22T06:51:47.414Z"
   },
   {
    "duration": 13,
    "start_time": "2022-06-22T06:53:41.819Z"
   },
   {
    "duration": 16,
    "start_time": "2022-06-22T06:55:17.422Z"
   },
   {
    "duration": 6,
    "start_time": "2022-06-22T06:55:36.393Z"
   },
   {
    "duration": 8,
    "start_time": "2022-06-22T06:57:28.651Z"
   },
   {
    "duration": 5,
    "start_time": "2022-06-22T06:58:12.273Z"
   },
   {
    "duration": 124,
    "start_time": "2022-06-22T06:58:12.673Z"
   },
   {
    "duration": 12,
    "start_time": "2022-06-22T06:58:12.997Z"
   },
   {
    "duration": 17,
    "start_time": "2022-06-22T06:58:13.440Z"
   },
   {
    "duration": 7,
    "start_time": "2022-06-22T06:58:14.577Z"
   },
   {
    "duration": 7,
    "start_time": "2022-06-22T06:58:15.055Z"
   },
   {
    "duration": 12,
    "start_time": "2022-06-22T06:58:15.945Z"
   },
   {
    "duration": 5,
    "start_time": "2022-06-22T06:58:16.669Z"
   },
   {
    "duration": 5,
    "start_time": "2022-06-22T06:58:17.869Z"
   },
   {
    "duration": 5,
    "start_time": "2022-06-22T06:58:19.174Z"
   },
   {
    "duration": 6,
    "start_time": "2022-06-22T06:58:36.772Z"
   },
   {
    "duration": 1489,
    "start_time": "2022-06-22T06:59:15.485Z"
   },
   {
    "duration": 124,
    "start_time": "2022-06-22T06:59:16.976Z"
   },
   {
    "duration": 15,
    "start_time": "2022-06-22T06:59:17.102Z"
   },
   {
    "duration": 13,
    "start_time": "2022-06-22T06:59:17.285Z"
   },
   {
    "duration": 15,
    "start_time": "2022-06-22T06:59:18.723Z"
   },
   {
    "duration": 4,
    "start_time": "2022-06-22T06:59:18.875Z"
   },
   {
    "duration": 8,
    "start_time": "2022-06-22T06:59:19.450Z"
   },
   {
    "duration": 7,
    "start_time": "2022-06-22T06:59:20.020Z"
   },
   {
    "duration": 7,
    "start_time": "2022-06-22T06:59:21.572Z"
   },
   {
    "duration": 6,
    "start_time": "2022-06-22T06:59:22.855Z"
   },
   {
    "duration": 122,
    "start_time": "2022-06-22T06:59:52.788Z"
   },
   {
    "duration": 6,
    "start_time": "2022-06-22T06:59:57.221Z"
   },
   {
    "duration": 5,
    "start_time": "2022-06-22T07:00:31.792Z"
   },
   {
    "duration": 8,
    "start_time": "2022-06-22T07:01:26.763Z"
   },
   {
    "duration": 8,
    "start_time": "2022-06-22T07:01:56.221Z"
   },
   {
    "duration": 4,
    "start_time": "2022-06-22T07:02:28.612Z"
   },
   {
    "duration": 7,
    "start_time": "2022-06-22T07:02:30.151Z"
   },
   {
    "duration": 17,
    "start_time": "2022-06-22T07:02:33.225Z"
   },
   {
    "duration": 4,
    "start_time": "2022-06-22T07:18:28.914Z"
   },
   {
    "duration": 21,
    "start_time": "2022-06-22T07:18:41.662Z"
   },
   {
    "duration": 19,
    "start_time": "2022-06-22T07:19:31.347Z"
   },
   {
    "duration": 52,
    "start_time": "2022-06-22T07:21:13.076Z"
   },
   {
    "duration": 16,
    "start_time": "2022-06-22T07:21:22.039Z"
   },
   {
    "duration": 6,
    "start_time": "2022-06-22T07:21:43.124Z"
   },
   {
    "duration": 114,
    "start_time": "2022-06-22T07:21:43.490Z"
   },
   {
    "duration": 15,
    "start_time": "2022-06-22T07:21:43.823Z"
   },
   {
    "duration": 12,
    "start_time": "2022-06-22T07:21:44.148Z"
   },
   {
    "duration": 6,
    "start_time": "2022-06-22T07:21:44.874Z"
   },
   {
    "duration": 4,
    "start_time": "2022-06-22T07:21:45.196Z"
   },
   {
    "duration": 8,
    "start_time": "2022-06-22T07:21:45.620Z"
   },
   {
    "duration": 7,
    "start_time": "2022-06-22T07:21:46.012Z"
   },
   {
    "duration": 4,
    "start_time": "2022-06-22T07:21:46.421Z"
   },
   {
    "duration": 6,
    "start_time": "2022-06-22T07:21:47.381Z"
   },
   {
    "duration": 5,
    "start_time": "2022-06-22T07:21:47.898Z"
   },
   {
    "duration": 7,
    "start_time": "2022-06-22T07:21:48.472Z"
   },
   {
    "duration": 4,
    "start_time": "2022-06-22T07:21:48.945Z"
   },
   {
    "duration": 7,
    "start_time": "2022-06-22T07:21:49.440Z"
   },
   {
    "duration": 11,
    "start_time": "2022-06-22T07:21:49.856Z"
   },
   {
    "duration": 13,
    "start_time": "2022-06-22T07:21:50.810Z"
   },
   {
    "duration": 17,
    "start_time": "2022-06-22T07:22:28.352Z"
   },
   {
    "duration": 17,
    "start_time": "2022-06-22T07:25:06.790Z"
   },
   {
    "duration": 8,
    "start_time": "2022-06-22T07:25:22.644Z"
   },
   {
    "duration": 6,
    "start_time": "2022-06-22T07:25:25.259Z"
   },
   {
    "duration": 15,
    "start_time": "2022-06-22T07:25:27.910Z"
   },
   {
    "duration": 14,
    "start_time": "2022-06-22T07:25:44.735Z"
   },
   {
    "duration": 13,
    "start_time": "2022-06-22T07:25:48.612Z"
   },
   {
    "duration": 7,
    "start_time": "2022-06-22T07:27:02.702Z"
   },
   {
    "duration": 5,
    "start_time": "2022-06-22T07:27:03.692Z"
   },
   {
    "duration": 5,
    "start_time": "2022-06-22T07:27:08.160Z"
   },
   {
    "duration": 4,
    "start_time": "2022-06-22T07:27:08.545Z"
   },
   {
    "duration": 5,
    "start_time": "2022-06-22T07:27:09.796Z"
   },
   {
    "duration": 9,
    "start_time": "2022-06-22T07:27:26.065Z"
   },
   {
    "duration": 827,
    "start_time": "2022-06-22T07:27:45.159Z"
   },
   {
    "duration": 9,
    "start_time": "2022-06-22T07:27:51.742Z"
   },
   {
    "duration": 11,
    "start_time": "2022-06-22T07:27:52.702Z"
   },
   {
    "duration": 5,
    "start_time": "2022-06-22T07:27:52.942Z"
   },
   {
    "duration": 774,
    "start_time": "2022-06-22T07:27:53.142Z"
   },
   {
    "duration": 0,
    "start_time": "2022-06-22T07:27:53.918Z"
   },
   {
    "duration": 0,
    "start_time": "2022-06-22T07:27:53.918Z"
   },
   {
    "duration": 5,
    "start_time": "2022-06-22T07:27:53.958Z"
   },
   {
    "duration": 4,
    "start_time": "2022-06-22T07:28:47.208Z"
   },
   {
    "duration": 108,
    "start_time": "2022-06-22T07:28:47.582Z"
   },
   {
    "duration": 11,
    "start_time": "2022-06-22T07:28:47.976Z"
   },
   {
    "duration": 12,
    "start_time": "2022-06-22T07:28:48.370Z"
   },
   {
    "duration": 5,
    "start_time": "2022-06-22T07:28:49.255Z"
   },
   {
    "duration": 4,
    "start_time": "2022-06-22T07:28:49.425Z"
   },
   {
    "duration": 9,
    "start_time": "2022-06-22T07:28:49.841Z"
   },
   {
    "duration": 6,
    "start_time": "2022-06-22T07:28:50.489Z"
   },
   {
    "duration": 5,
    "start_time": "2022-06-22T07:28:50.945Z"
   },
   {
    "duration": 6,
    "start_time": "2022-06-22T07:28:51.393Z"
   },
   {
    "duration": 5,
    "start_time": "2022-06-22T07:28:51.855Z"
   },
   {
    "duration": 7,
    "start_time": "2022-06-22T07:28:52.396Z"
   },
   {
    "duration": 5,
    "start_time": "2022-06-22T07:28:53.009Z"
   },
   {
    "duration": 7,
    "start_time": "2022-06-22T07:28:53.568Z"
   },
   {
    "duration": 11,
    "start_time": "2022-06-22T07:28:54.865Z"
   },
   {
    "duration": 16,
    "start_time": "2022-06-22T07:28:57.138Z"
   },
   {
    "duration": 6,
    "start_time": "2022-06-22T07:28:57.636Z"
   },
   {
    "duration": 4,
    "start_time": "2022-06-22T07:28:58.768Z"
   },
   {
    "duration": 13,
    "start_time": "2022-06-22T07:28:59.478Z"
   },
   {
    "duration": 9,
    "start_time": "2022-06-22T07:29:01.916Z"
   },
   {
    "duration": 11,
    "start_time": "2022-06-22T07:29:05.050Z"
   },
   {
    "duration": 7,
    "start_time": "2022-06-22T07:29:06.170Z"
   },
   {
    "duration": 5,
    "start_time": "2022-06-22T07:29:06.892Z"
   },
   {
    "duration": 4,
    "start_time": "2022-06-22T07:29:08.963Z"
   },
   {
    "duration": 5,
    "start_time": "2022-06-22T07:29:09.582Z"
   },
   {
    "duration": 5,
    "start_time": "2022-06-22T07:29:10.446Z"
   },
   {
    "duration": 13,
    "start_time": "2022-06-22T07:29:13.021Z"
   },
   {
    "duration": 14,
    "start_time": "2022-06-22T07:29:21.376Z"
   },
   {
    "duration": 11,
    "start_time": "2022-06-22T07:29:30.857Z"
   },
   {
    "duration": 5,
    "start_time": "2022-06-22T07:29:34.860Z"
   },
   {
    "duration": 7,
    "start_time": "2022-06-22T07:29:37.862Z"
   },
   {
    "duration": 9,
    "start_time": "2022-06-22T07:30:49.255Z"
   },
   {
    "duration": 9,
    "start_time": "2022-06-22T07:31:22.587Z"
   },
   {
    "duration": 7,
    "start_time": "2022-06-22T07:32:13.519Z"
   },
   {
    "duration": 6,
    "start_time": "2022-06-22T07:32:14.919Z"
   },
   {
    "duration": 9,
    "start_time": "2022-06-22T07:32:17.207Z"
   },
   {
    "duration": 12,
    "start_time": "2022-06-22T07:32:32.395Z"
   },
   {
    "duration": 6,
    "start_time": "2022-06-22T07:32:38.355Z"
   },
   {
    "duration": 9,
    "start_time": "2022-06-22T07:32:40.791Z"
   },
   {
    "duration": 5,
    "start_time": "2022-06-22T07:32:47.653Z"
   },
   {
    "duration": 6,
    "start_time": "2022-06-22T07:32:51.627Z"
   },
   {
    "duration": 15,
    "start_time": "2022-06-22T07:33:04.428Z"
   },
   {
    "duration": 14,
    "start_time": "2022-06-22T07:33:06.169Z"
   },
   {
    "duration": 20,
    "start_time": "2022-06-22T07:33:17.725Z"
   },
   {
    "duration": 6,
    "start_time": "2022-06-22T07:33:23.877Z"
   },
   {
    "duration": 9,
    "start_time": "2022-06-22T07:33:24.875Z"
   },
   {
    "duration": 8,
    "start_time": "2022-06-22T07:33:28.699Z"
   },
   {
    "duration": 10,
    "start_time": "2022-06-22T07:33:30.411Z"
   },
   {
    "duration": 9,
    "start_time": "2022-06-22T07:37:13.087Z"
   },
   {
    "duration": 10,
    "start_time": "2022-06-22T07:37:13.367Z"
   },
   {
    "duration": 4,
    "start_time": "2022-06-22T07:37:14.087Z"
   },
   {
    "duration": 23,
    "start_time": "2022-06-22T07:37:14.567Z"
   },
   {
    "duration": 152,
    "start_time": "2022-06-22T07:37:33.588Z"
   },
   {
    "duration": 126,
    "start_time": "2022-06-22T07:37:44.799Z"
   },
   {
    "duration": 160,
    "start_time": "2022-06-22T07:37:55.640Z"
   },
   {
    "duration": 205,
    "start_time": "2022-06-22T07:38:16.207Z"
   },
   {
    "duration": 146,
    "start_time": "2022-06-22T07:38:20.928Z"
   },
   {
    "duration": 134,
    "start_time": "2022-06-22T07:38:29.963Z"
   },
   {
    "duration": 154,
    "start_time": "2022-06-22T07:38:34.406Z"
   },
   {
    "duration": 147,
    "start_time": "2022-06-22T07:38:36.712Z"
   },
   {
    "duration": 182,
    "start_time": "2022-06-22T07:38:46.769Z"
   },
   {
    "duration": 197,
    "start_time": "2022-06-22T07:38:56.463Z"
   },
   {
    "duration": 12,
    "start_time": "2022-06-22T07:39:16.652Z"
   },
   {
    "duration": 417,
    "start_time": "2022-06-22T07:39:59.890Z"
   },
   {
    "duration": 4,
    "start_time": "2022-06-22T07:41:14.989Z"
   },
   {
    "duration": 10,
    "start_time": "2022-06-22T07:41:30.995Z"
   },
   {
    "duration": 5,
    "start_time": "2022-06-22T07:47:33.299Z"
   },
   {
    "duration": 9,
    "start_time": "2022-06-22T07:47:44.662Z"
   },
   {
    "duration": 3,
    "start_time": "2022-06-22T07:47:45.152Z"
   },
   {
    "duration": 8700,
    "start_time": "2022-06-22T07:48:21.143Z"
   },
   {
    "duration": 701,
    "start_time": "2022-06-22T07:48:29.847Z"
   },
   {
    "duration": 1602,
    "start_time": "2022-06-22T07:48:47.445Z"
   },
   {
    "duration": 11,
    "start_time": "2022-06-22T07:48:53.656Z"
   },
   {
    "duration": 11,
    "start_time": "2022-06-22T07:48:55.842Z"
   },
   {
    "duration": 8219,
    "start_time": "2022-06-22T07:49:07.164Z"
   },
   {
    "duration": 973,
    "start_time": "2022-06-22T07:49:18.645Z"
   },
   {
    "duration": 44,
    "start_time": "2022-06-22T07:49:29.649Z"
   },
   {
    "duration": 42,
    "start_time": "2022-06-22T07:49:31.744Z"
   },
   {
    "duration": 10,
    "start_time": "2022-06-22T07:56:11.274Z"
   },
   {
    "duration": 5,
    "start_time": "2022-06-22T07:56:29.764Z"
   },
   {
    "duration": 10,
    "start_time": "2022-06-22T07:56:40.077Z"
   },
   {
    "duration": 256,
    "start_time": "2022-06-22T07:56:55.876Z"
   },
   {
    "duration": 13,
    "start_time": "2022-06-22T07:57:57.573Z"
   },
   {
    "duration": 16,
    "start_time": "2022-06-22T07:58:09.603Z"
   },
   {
    "duration": 15,
    "start_time": "2022-06-22T07:59:22.242Z"
   },
   {
    "duration": 264,
    "start_time": "2022-06-22T08:00:50.671Z"
   },
   {
    "duration": 287,
    "start_time": "2022-06-22T08:01:06.885Z"
   },
   {
    "duration": 9,
    "start_time": "2022-06-22T08:01:42.013Z"
   },
   {
    "duration": 19,
    "start_time": "2022-06-22T08:02:38.455Z"
   },
   {
    "duration": 388,
    "start_time": "2022-06-22T08:03:15.907Z"
   },
   {
    "duration": 6,
    "start_time": "2022-06-22T08:04:24.948Z"
   },
   {
    "duration": 1493,
    "start_time": "2022-06-22T08:04:37.698Z"
   },
   {
    "duration": 130,
    "start_time": "2022-06-22T08:04:39.193Z"
   },
   {
    "duration": 16,
    "start_time": "2022-06-22T08:04:40.098Z"
   },
   {
    "duration": 14,
    "start_time": "2022-06-22T08:04:40.377Z"
   },
   {
    "duration": 7,
    "start_time": "2022-06-22T08:04:41.017Z"
   },
   {
    "duration": 5,
    "start_time": "2022-06-22T08:04:41.170Z"
   },
   {
    "duration": 12,
    "start_time": "2022-06-22T08:04:41.497Z"
   },
   {
    "duration": 7,
    "start_time": "2022-06-22T08:04:41.802Z"
   },
   {
    "duration": 5,
    "start_time": "2022-06-22T08:04:42.097Z"
   },
   {
    "duration": 6,
    "start_time": "2022-06-22T08:04:42.398Z"
   },
   {
    "duration": 5,
    "start_time": "2022-06-22T08:04:42.717Z"
   },
   {
    "duration": 8,
    "start_time": "2022-06-22T08:04:42.997Z"
   },
   {
    "duration": 5,
    "start_time": "2022-06-22T08:04:43.519Z"
   },
   {
    "duration": 6,
    "start_time": "2022-06-22T08:04:43.878Z"
   },
   {
    "duration": 10,
    "start_time": "2022-06-22T08:04:44.210Z"
   },
   {
    "duration": 20,
    "start_time": "2022-06-22T08:04:44.917Z"
   },
   {
    "duration": 7,
    "start_time": "2022-06-22T08:04:45.247Z"
   },
   {
    "duration": 5,
    "start_time": "2022-06-22T08:04:45.599Z"
   },
   {
    "duration": 18,
    "start_time": "2022-06-22T08:04:45.937Z"
   },
   {
    "duration": 10,
    "start_time": "2022-06-22T08:04:46.645Z"
   },
   {
    "duration": 17,
    "start_time": "2022-06-22T08:04:46.968Z"
   },
   {
    "duration": 9,
    "start_time": "2022-06-22T08:04:47.145Z"
   },
   {
    "duration": 5,
    "start_time": "2022-06-22T08:04:47.318Z"
   },
   {
    "duration": 6,
    "start_time": "2022-06-22T08:04:47.498Z"
   },
   {
    "duration": 6,
    "start_time": "2022-06-22T08:04:47.670Z"
   },
   {
    "duration": 6,
    "start_time": "2022-06-22T08:04:47.871Z"
   },
   {
    "duration": 13,
    "start_time": "2022-06-22T08:04:48.268Z"
   },
   {
    "duration": 12,
    "start_time": "2022-06-22T08:04:48.917Z"
   },
   {
    "duration": 12,
    "start_time": "2022-06-22T08:04:49.376Z"
   },
   {
    "duration": 8,
    "start_time": "2022-06-22T08:04:50.153Z"
   },
   {
    "duration": 8,
    "start_time": "2022-06-22T08:04:50.571Z"
   },
   {
    "duration": 5,
    "start_time": "2022-06-22T08:04:50.792Z"
   },
   {
    "duration": 9,
    "start_time": "2022-06-22T08:04:51.018Z"
   },
   {
    "duration": 9,
    "start_time": "2022-06-22T08:04:51.202Z"
   },
   {
    "duration": 6,
    "start_time": "2022-06-22T08:04:51.879Z"
   },
   {
    "duration": 9,
    "start_time": "2022-06-22T08:04:52.310Z"
   },
   {
    "duration": 5,
    "start_time": "2022-06-22T08:04:53.007Z"
   },
   {
    "duration": 5,
    "start_time": "2022-06-22T08:04:53.226Z"
   },
   {
    "duration": 14,
    "start_time": "2022-06-22T08:04:53.771Z"
   },
   {
    "duration": 21,
    "start_time": "2022-06-22T08:04:54.018Z"
   },
   {
    "duration": 17,
    "start_time": "2022-06-22T08:04:54.241Z"
   },
   {
    "duration": 7,
    "start_time": "2022-06-22T08:04:54.557Z"
   },
   {
    "duration": 11,
    "start_time": "2022-06-22T08:04:55.059Z"
   },
   {
    "duration": 9,
    "start_time": "2022-06-22T08:04:55.486Z"
   },
   {
    "duration": 12,
    "start_time": "2022-06-22T08:04:55.678Z"
   },
   {
    "duration": 4,
    "start_time": "2022-06-22T08:04:56.097Z"
   },
   {
    "duration": 23,
    "start_time": "2022-06-22T08:04:56.310Z"
   },
   {
    "duration": 151,
    "start_time": "2022-06-22T08:04:57.141Z"
   },
   {
    "duration": 127,
    "start_time": "2022-06-22T08:04:57.545Z"
   },
   {
    "duration": 152,
    "start_time": "2022-06-22T08:04:57.723Z"
   },
   {
    "duration": 204,
    "start_time": "2022-06-22T08:04:58.139Z"
   },
   {
    "duration": 136,
    "start_time": "2022-06-22T08:04:58.609Z"
   },
   {
    "duration": 128,
    "start_time": "2022-06-22T08:04:59.118Z"
   },
   {
    "duration": 134,
    "start_time": "2022-06-22T08:04:59.582Z"
   },
   {
    "duration": 141,
    "start_time": "2022-06-22T08:05:00.122Z"
   },
   {
    "duration": 196,
    "start_time": "2022-06-22T08:05:00.611Z"
   },
   {
    "duration": 185,
    "start_time": "2022-06-22T08:05:01.186Z"
   },
   {
    "duration": 13,
    "start_time": "2022-06-22T08:05:01.767Z"
   },
   {
    "duration": 423,
    "start_time": "2022-06-22T08:05:02.096Z"
   },
   {
    "duration": 4,
    "start_time": "2022-06-22T08:05:02.972Z"
   },
   {
    "duration": 10,
    "start_time": "2022-06-22T08:05:03.898Z"
   },
   {
    "duration": 6,
    "start_time": "2022-06-22T08:05:05.298Z"
   },
   {
    "duration": 9,
    "start_time": "2022-06-22T08:05:05.843Z"
   },
   {
    "duration": 3,
    "start_time": "2022-06-22T08:05:06.178Z"
   },
   {
    "duration": 22935,
    "start_time": "2022-06-22T08:05:07.118Z"
   },
   {
    "duration": 1798,
    "start_time": "2022-06-22T08:05:30.131Z"
   },
   {
    "duration": 92,
    "start_time": "2022-06-22T08:05:31.938Z"
   },
   {
    "duration": 114,
    "start_time": "2022-06-22T08:05:32.041Z"
   },
   {
    "duration": 7772,
    "start_time": "2022-06-22T08:06:18.315Z"
   },
   {
    "duration": 877,
    "start_time": "2022-06-22T08:06:26.089Z"
   },
   {
    "duration": 62,
    "start_time": "2022-06-22T08:06:26.968Z"
   },
   {
    "duration": 43,
    "start_time": "2022-06-22T08:06:27.032Z"
   },
   {
    "duration": 10,
    "start_time": "2022-06-22T08:06:27.077Z"
   },
   {
    "duration": 11,
    "start_time": "2022-06-22T08:06:58.497Z"
   },
   {
    "duration": 248,
    "start_time": "2022-06-22T08:07:18.669Z"
   },
   {
    "duration": 21,
    "start_time": "2022-06-22T08:08:08.220Z"
   },
   {
    "duration": 244,
    "start_time": "2022-06-22T08:08:09.876Z"
   },
   {
    "duration": 161,
    "start_time": "2022-06-22T08:08:25.023Z"
   },
   {
    "duration": 18,
    "start_time": "2022-06-22T08:08:29.782Z"
   },
   {
    "duration": 7,
    "start_time": "2022-06-22T08:08:34.038Z"
   },
   {
    "duration": 48,
    "start_time": "2022-06-22T08:08:36.543Z"
   },
   {
    "duration": 7,
    "start_time": "2022-06-22T08:08:43.554Z"
   },
   {
    "duration": 10,
    "start_time": "2022-06-22T08:09:23.718Z"
   },
   {
    "duration": 266,
    "start_time": "2022-06-22T08:09:43.009Z"
   },
   {
    "duration": 1509,
    "start_time": "2022-06-22T08:10:57.816Z"
   },
   {
    "duration": 110,
    "start_time": "2022-06-22T08:10:59.327Z"
   },
   {
    "duration": 15,
    "start_time": "2022-06-22T08:10:59.439Z"
   },
   {
    "duration": 28,
    "start_time": "2022-06-22T08:10:59.456Z"
   },
   {
    "duration": 38,
    "start_time": "2022-06-22T08:10:59.487Z"
   },
   {
    "duration": 20,
    "start_time": "2022-06-22T08:10:59.527Z"
   },
   {
    "duration": 24,
    "start_time": "2022-06-22T08:10:59.549Z"
   },
   {
    "duration": 13,
    "start_time": "2022-06-22T08:10:59.575Z"
   },
   {
    "duration": 21,
    "start_time": "2022-06-22T08:10:59.590Z"
   },
   {
    "duration": 19,
    "start_time": "2022-06-22T08:10:59.612Z"
   },
   {
    "duration": 19,
    "start_time": "2022-06-22T08:10:59.633Z"
   },
   {
    "duration": 24,
    "start_time": "2022-06-22T08:10:59.654Z"
   },
   {
    "duration": 27,
    "start_time": "2022-06-22T08:10:59.680Z"
   },
   {
    "duration": 12,
    "start_time": "2022-06-22T08:10:59.710Z"
   },
   {
    "duration": 18,
    "start_time": "2022-06-22T08:10:59.724Z"
   },
   {
    "duration": 26,
    "start_time": "2022-06-22T08:10:59.743Z"
   },
   {
    "duration": 6,
    "start_time": "2022-06-22T08:10:59.771Z"
   },
   {
    "duration": 20,
    "start_time": "2022-06-22T08:10:59.779Z"
   },
   {
    "duration": 20,
    "start_time": "2022-06-22T08:10:59.801Z"
   },
   {
    "duration": 16,
    "start_time": "2022-06-22T08:10:59.822Z"
   },
   {
    "duration": 11,
    "start_time": "2022-06-22T08:10:59.839Z"
   },
   {
    "duration": 11,
    "start_time": "2022-06-22T08:10:59.852Z"
   },
   {
    "duration": 21,
    "start_time": "2022-06-22T08:10:59.864Z"
   },
   {
    "duration": 16,
    "start_time": "2022-06-22T08:10:59.887Z"
   },
   {
    "duration": 12,
    "start_time": "2022-06-22T08:10:59.904Z"
   },
   {
    "duration": 10,
    "start_time": "2022-06-22T08:10:59.918Z"
   },
   {
    "duration": 22,
    "start_time": "2022-06-22T08:10:59.929Z"
   },
   {
    "duration": 26,
    "start_time": "2022-06-22T08:10:59.952Z"
   },
   {
    "duration": 22,
    "start_time": "2022-06-22T08:10:59.980Z"
   },
   {
    "duration": 43,
    "start_time": "2022-06-22T08:11:00.004Z"
   },
   {
    "duration": 30,
    "start_time": "2022-06-22T08:11:00.049Z"
   },
   {
    "duration": 22,
    "start_time": "2022-06-22T08:11:00.080Z"
   },
   {
    "duration": 32,
    "start_time": "2022-06-22T08:11:00.104Z"
   },
   {
    "duration": 26,
    "start_time": "2022-06-22T08:11:00.138Z"
   },
   {
    "duration": 20,
    "start_time": "2022-06-22T08:11:00.166Z"
   },
   {
    "duration": 50,
    "start_time": "2022-06-22T08:11:00.187Z"
   },
   {
    "duration": 51,
    "start_time": "2022-06-22T08:11:00.239Z"
   },
   {
    "duration": 44,
    "start_time": "2022-06-22T08:11:00.292Z"
   },
   {
    "duration": 71,
    "start_time": "2022-06-22T08:11:00.337Z"
   },
   {
    "duration": 80,
    "start_time": "2022-06-22T08:11:00.410Z"
   },
   {
    "duration": 33,
    "start_time": "2022-06-22T08:11:00.494Z"
   },
   {
    "duration": 47,
    "start_time": "2022-06-22T08:11:00.529Z"
   },
   {
    "duration": 32,
    "start_time": "2022-06-22T08:11:00.577Z"
   },
   {
    "duration": 36,
    "start_time": "2022-06-22T08:11:00.610Z"
   },
   {
    "duration": 51,
    "start_time": "2022-06-22T08:11:00.648Z"
   },
   {
    "duration": 44,
    "start_time": "2022-06-22T08:11:00.701Z"
   },
   {
    "duration": 59,
    "start_time": "2022-06-22T08:11:00.747Z"
   },
   {
    "duration": 176,
    "start_time": "2022-06-22T08:11:00.808Z"
   },
   {
    "duration": 129,
    "start_time": "2022-06-22T08:11:00.985Z"
   },
   {
    "duration": 173,
    "start_time": "2022-06-22T08:11:01.117Z"
   },
   {
    "duration": 245,
    "start_time": "2022-06-22T08:11:01.292Z"
   },
   {
    "duration": 193,
    "start_time": "2022-06-22T08:11:01.539Z"
   },
   {
    "duration": 137,
    "start_time": "2022-06-22T08:11:01.734Z"
   },
   {
    "duration": 155,
    "start_time": "2022-06-22T08:11:01.873Z"
   },
   {
    "duration": 156,
    "start_time": "2022-06-22T08:11:02.030Z"
   },
   {
    "duration": 188,
    "start_time": "2022-06-22T08:11:02.188Z"
   },
   {
    "duration": 197,
    "start_time": "2022-06-22T08:11:02.378Z"
   },
   {
    "duration": 14,
    "start_time": "2022-06-22T08:11:02.577Z"
   },
   {
    "duration": 425,
    "start_time": "2022-06-22T08:11:02.593Z"
   },
   {
    "duration": 6,
    "start_time": "2022-06-22T08:11:03.020Z"
   },
   {
    "duration": 22,
    "start_time": "2022-06-22T08:11:03.028Z"
   },
   {
    "duration": 36,
    "start_time": "2022-06-22T08:11:03.052Z"
   },
   {
    "duration": 27,
    "start_time": "2022-06-22T08:11:03.090Z"
   },
   {
    "duration": 38,
    "start_time": "2022-06-22T08:11:03.119Z"
   },
   {
    "duration": 12677,
    "start_time": "2022-06-22T08:11:03.159Z"
   },
   {
    "duration": 805,
    "start_time": "2022-06-22T08:11:15.928Z"
   },
   {
    "duration": 104,
    "start_time": "2022-06-22T08:11:16.736Z"
   },
   {
    "duration": 191,
    "start_time": "2022-06-22T08:11:16.841Z"
   },
   {
    "duration": 118,
    "start_time": "2022-06-22T08:11:17.126Z"
   },
   {
    "duration": 256,
    "start_time": "2022-06-22T08:11:17.246Z"
   },
   {
    "duration": 7384,
    "start_time": "2022-06-22T08:11:17.503Z"
   },
   {
    "duration": 850,
    "start_time": "2022-06-22T08:11:24.888Z"
   },
   {
    "duration": 44,
    "start_time": "2022-06-22T08:11:25.741Z"
   },
   {
    "duration": 57,
    "start_time": "2022-06-22T08:11:25.787Z"
   },
   {
    "duration": 20,
    "start_time": "2022-06-22T08:11:25.846Z"
   },
   {
    "duration": 320,
    "start_time": "2022-06-22T08:11:25.868Z"
   },
   {
    "duration": 169,
    "start_time": "2022-06-22T08:11:26.190Z"
   },
   {
    "duration": 18,
    "start_time": "2022-06-22T08:11:26.361Z"
   },
   {
    "duration": 7,
    "start_time": "2022-06-22T08:11:26.381Z"
   },
   {
    "duration": 9,
    "start_time": "2022-06-22T08:11:26.390Z"
   },
   {
    "duration": 41,
    "start_time": "2022-06-22T08:11:26.401Z"
   },
   {
    "duration": 289,
    "start_time": "2022-06-22T08:11:26.444Z"
   },
   {
    "duration": 8,
    "start_time": "2022-06-22T08:15:23.618Z"
   },
   {
    "duration": 7,
    "start_time": "2022-06-22T08:15:27.270Z"
   },
   {
    "duration": 7,
    "start_time": "2022-06-22T08:17:45.475Z"
   },
   {
    "duration": 48,
    "start_time": "2022-06-22T08:17:46.927Z"
   },
   {
    "duration": 6,
    "start_time": "2022-06-22T08:19:00.665Z"
   },
   {
    "duration": 109,
    "start_time": "2022-06-22T08:19:32.715Z"
   },
   {
    "duration": 16,
    "start_time": "2022-06-22T08:19:39.484Z"
   },
   {
    "duration": 6,
    "start_time": "2022-06-22T08:19:52.456Z"
   },
   {
    "duration": 11,
    "start_time": "2022-06-22T08:20:00.824Z"
   },
   {
    "duration": 367,
    "start_time": "2022-06-22T08:20:01.638Z"
   },
   {
    "duration": 1445,
    "start_time": "2022-06-22T08:25:45.056Z"
   },
   {
    "duration": 115,
    "start_time": "2022-06-22T08:25:46.503Z"
   },
   {
    "duration": 19,
    "start_time": "2022-06-22T08:25:46.621Z"
   },
   {
    "duration": 17,
    "start_time": "2022-06-22T08:25:46.642Z"
   },
   {
    "duration": 10,
    "start_time": "2022-06-22T08:25:46.661Z"
   },
   {
    "duration": 11,
    "start_time": "2022-06-22T08:25:46.672Z"
   },
   {
    "duration": 14,
    "start_time": "2022-06-22T08:25:46.685Z"
   },
   {
    "duration": 19,
    "start_time": "2022-06-22T08:25:46.701Z"
   },
   {
    "duration": 17,
    "start_time": "2022-06-22T08:25:46.722Z"
   },
   {
    "duration": 13,
    "start_time": "2022-06-22T08:25:46.741Z"
   },
   {
    "duration": 6,
    "start_time": "2022-06-22T08:25:46.756Z"
   },
   {
    "duration": 8,
    "start_time": "2022-06-22T08:25:46.764Z"
   },
   {
    "duration": 5,
    "start_time": "2022-06-22T08:25:46.774Z"
   },
   {
    "duration": 8,
    "start_time": "2022-06-22T08:25:46.782Z"
   },
   {
    "duration": 12,
    "start_time": "2022-06-22T08:25:46.791Z"
   },
   {
    "duration": 18,
    "start_time": "2022-06-22T08:25:46.827Z"
   },
   {
    "duration": 6,
    "start_time": "2022-06-22T08:25:46.847Z"
   },
   {
    "duration": 6,
    "start_time": "2022-06-22T08:25:46.854Z"
   },
   {
    "duration": 12,
    "start_time": "2022-06-22T08:25:46.862Z"
   },
   {
    "duration": 10,
    "start_time": "2022-06-22T08:25:46.876Z"
   },
   {
    "duration": 42,
    "start_time": "2022-06-22T08:25:46.888Z"
   },
   {
    "duration": 9,
    "start_time": "2022-06-22T08:25:46.932Z"
   },
   {
    "duration": 6,
    "start_time": "2022-06-22T08:25:46.942Z"
   },
   {
    "duration": 6,
    "start_time": "2022-06-22T08:25:46.950Z"
   },
   {
    "duration": 11,
    "start_time": "2022-06-22T08:25:46.958Z"
   },
   {
    "duration": 8,
    "start_time": "2022-06-22T08:25:46.971Z"
   },
   {
    "duration": 17,
    "start_time": "2022-06-22T08:25:46.980Z"
   },
   {
    "duration": 33,
    "start_time": "2022-06-22T08:25:46.999Z"
   },
   {
    "duration": 13,
    "start_time": "2022-06-22T08:25:47.034Z"
   },
   {
    "duration": 10,
    "start_time": "2022-06-22T08:25:47.048Z"
   },
   {
    "duration": 9,
    "start_time": "2022-06-22T08:25:47.060Z"
   },
   {
    "duration": 9,
    "start_time": "2022-06-22T08:25:47.070Z"
   },
   {
    "duration": 14,
    "start_time": "2022-06-22T08:25:47.081Z"
   },
   {
    "duration": 8,
    "start_time": "2022-06-22T08:25:47.096Z"
   },
   {
    "duration": 25,
    "start_time": "2022-06-22T08:25:47.106Z"
   },
   {
    "duration": 13,
    "start_time": "2022-06-22T08:25:47.133Z"
   },
   {
    "duration": 15,
    "start_time": "2022-06-22T08:25:47.148Z"
   },
   {
    "duration": 5,
    "start_time": "2022-06-22T08:25:47.165Z"
   },
   {
    "duration": 16,
    "start_time": "2022-06-22T08:25:47.172Z"
   },
   {
    "duration": 11,
    "start_time": "2022-06-22T08:25:47.189Z"
   },
   {
    "duration": 34,
    "start_time": "2022-06-22T08:25:47.204Z"
   },
   {
    "duration": 8,
    "start_time": "2022-06-22T08:25:47.240Z"
   },
   {
    "duration": 11,
    "start_time": "2022-06-22T08:25:47.249Z"
   },
   {
    "duration": 8,
    "start_time": "2022-06-22T08:25:47.261Z"
   },
   {
    "duration": 10,
    "start_time": "2022-06-22T08:25:47.270Z"
   },
   {
    "duration": 3,
    "start_time": "2022-06-22T08:25:47.281Z"
   },
   {
    "duration": 48,
    "start_time": "2022-06-22T08:25:47.286Z"
   },
   {
    "duration": 141,
    "start_time": "2022-06-22T08:25:47.336Z"
   },
   {
    "duration": 130,
    "start_time": "2022-06-22T08:25:47.479Z"
   },
   {
    "duration": 154,
    "start_time": "2022-06-22T08:25:47.611Z"
   },
   {
    "duration": 203,
    "start_time": "2022-06-22T08:25:47.767Z"
   },
   {
    "duration": 126,
    "start_time": "2022-06-22T08:25:47.972Z"
   },
   {
    "duration": 121,
    "start_time": "2022-06-22T08:25:48.100Z"
   },
   {
    "duration": 132,
    "start_time": "2022-06-22T08:25:48.227Z"
   },
   {
    "duration": 133,
    "start_time": "2022-06-22T08:25:48.361Z"
   },
   {
    "duration": 176,
    "start_time": "2022-06-22T08:25:48.496Z"
   },
   {
    "duration": 175,
    "start_time": "2022-06-22T08:25:48.674Z"
   },
   {
    "duration": 11,
    "start_time": "2022-06-22T08:25:48.851Z"
   },
   {
    "duration": 365,
    "start_time": "2022-06-22T08:25:48.863Z"
   },
   {
    "duration": 4,
    "start_time": "2022-06-22T08:25:49.229Z"
   },
   {
    "duration": 16,
    "start_time": "2022-06-22T08:25:49.235Z"
   },
   {
    "duration": 9,
    "start_time": "2022-06-22T08:25:49.253Z"
   },
   {
    "duration": 11,
    "start_time": "2022-06-22T08:25:49.264Z"
   },
   {
    "duration": 3,
    "start_time": "2022-06-22T08:25:49.277Z"
   },
   {
    "duration": 9355,
    "start_time": "2022-06-22T08:25:49.281Z"
   },
   {
    "duration": 1009,
    "start_time": "2022-06-22T08:25:58.726Z"
   },
   {
    "duration": 96,
    "start_time": "2022-06-22T08:25:59.737Z"
   },
   {
    "duration": 98,
    "start_time": "2022-06-22T08:25:59.836Z"
   },
   {
    "duration": 195,
    "start_time": "2022-06-22T08:25:59.936Z"
   },
   {
    "duration": 269,
    "start_time": "2022-06-22T08:26:00.133Z"
   },
   {
    "duration": 7473,
    "start_time": "2022-06-22T08:26:00.403Z"
   },
   {
    "duration": 821,
    "start_time": "2022-06-22T08:26:07.878Z"
   },
   {
    "duration": 47,
    "start_time": "2022-06-22T08:26:08.701Z"
   },
   {
    "duration": 39,
    "start_time": "2022-06-22T08:26:08.750Z"
   },
   {
    "duration": 35,
    "start_time": "2022-06-22T08:26:08.791Z"
   },
   {
    "duration": 250,
    "start_time": "2022-06-22T08:26:08.828Z"
   },
   {
    "duration": 162,
    "start_time": "2022-06-22T08:26:09.079Z"
   },
   {
    "duration": 17,
    "start_time": "2022-06-22T08:26:09.243Z"
   },
   {
    "duration": 7,
    "start_time": "2022-06-22T08:26:09.262Z"
   },
   {
    "duration": 9,
    "start_time": "2022-06-22T08:26:09.270Z"
   },
   {
    "duration": 15,
    "start_time": "2022-06-22T08:26:09.280Z"
   },
   {
    "duration": 286,
    "start_time": "2022-06-22T08:26:09.297Z"
   },
   {
    "duration": 7,
    "start_time": "2022-06-22T08:27:35.606Z"
   },
   {
    "duration": 6,
    "start_time": "2022-06-22T08:27:38.291Z"
   },
   {
    "duration": 1551,
    "start_time": "2022-06-22T08:32:34.723Z"
   },
   {
    "duration": 113,
    "start_time": "2022-06-22T08:32:36.276Z"
   },
   {
    "duration": 17,
    "start_time": "2022-06-22T08:32:36.390Z"
   },
   {
    "duration": 14,
    "start_time": "2022-06-22T08:32:36.409Z"
   },
   {
    "duration": 10,
    "start_time": "2022-06-22T08:32:36.425Z"
   },
   {
    "duration": 8,
    "start_time": "2022-06-22T08:32:36.436Z"
   },
   {
    "duration": 9,
    "start_time": "2022-06-22T08:32:36.445Z"
   },
   {
    "duration": 8,
    "start_time": "2022-06-22T08:32:36.456Z"
   },
   {
    "duration": 9,
    "start_time": "2022-06-22T08:32:36.465Z"
   },
   {
    "duration": 11,
    "start_time": "2022-06-22T08:32:36.477Z"
   },
   {
    "duration": 9,
    "start_time": "2022-06-22T08:32:36.489Z"
   },
   {
    "duration": 28,
    "start_time": "2022-06-22T08:32:36.499Z"
   },
   {
    "duration": 10,
    "start_time": "2022-06-22T08:32:36.529Z"
   },
   {
    "duration": 10,
    "start_time": "2022-06-22T08:32:36.540Z"
   },
   {
    "duration": 13,
    "start_time": "2022-06-22T08:32:36.551Z"
   },
   {
    "duration": 120,
    "start_time": "2022-06-22T08:32:36.565Z"
   },
   {
    "duration": 0,
    "start_time": "2022-06-22T08:32:36.688Z"
   },
   {
    "duration": 0,
    "start_time": "2022-06-22T08:32:36.690Z"
   },
   {
    "duration": 0,
    "start_time": "2022-06-22T08:32:36.691Z"
   },
   {
    "duration": 0,
    "start_time": "2022-06-22T08:32:36.692Z"
   },
   {
    "duration": 0,
    "start_time": "2022-06-22T08:32:36.693Z"
   },
   {
    "duration": 0,
    "start_time": "2022-06-22T08:32:36.694Z"
   },
   {
    "duration": 0,
    "start_time": "2022-06-22T08:32:36.695Z"
   },
   {
    "duration": 0,
    "start_time": "2022-06-22T08:32:36.696Z"
   },
   {
    "duration": 0,
    "start_time": "2022-06-22T08:32:36.697Z"
   },
   {
    "duration": 0,
    "start_time": "2022-06-22T08:32:36.698Z"
   },
   {
    "duration": 1,
    "start_time": "2022-06-22T08:32:36.698Z"
   },
   {
    "duration": 0,
    "start_time": "2022-06-22T08:32:36.699Z"
   },
   {
    "duration": 0,
    "start_time": "2022-06-22T08:32:36.700Z"
   },
   {
    "duration": 0,
    "start_time": "2022-06-22T08:32:36.701Z"
   },
   {
    "duration": 0,
    "start_time": "2022-06-22T08:32:36.702Z"
   },
   {
    "duration": 0,
    "start_time": "2022-06-22T08:32:36.703Z"
   },
   {
    "duration": 0,
    "start_time": "2022-06-22T08:32:36.729Z"
   },
   {
    "duration": 0,
    "start_time": "2022-06-22T08:32:36.730Z"
   },
   {
    "duration": 0,
    "start_time": "2022-06-22T08:32:36.732Z"
   },
   {
    "duration": 0,
    "start_time": "2022-06-22T08:32:36.733Z"
   },
   {
    "duration": 0,
    "start_time": "2022-06-22T08:32:36.734Z"
   },
   {
    "duration": 0,
    "start_time": "2022-06-22T08:32:36.735Z"
   },
   {
    "duration": 0,
    "start_time": "2022-06-22T08:32:36.737Z"
   },
   {
    "duration": 0,
    "start_time": "2022-06-22T08:32:36.738Z"
   },
   {
    "duration": 0,
    "start_time": "2022-06-22T08:32:36.739Z"
   },
   {
    "duration": 0,
    "start_time": "2022-06-22T08:32:36.740Z"
   },
   {
    "duration": 0,
    "start_time": "2022-06-22T08:32:36.742Z"
   },
   {
    "duration": 0,
    "start_time": "2022-06-22T08:32:36.743Z"
   },
   {
    "duration": 0,
    "start_time": "2022-06-22T08:32:36.744Z"
   },
   {
    "duration": 0,
    "start_time": "2022-06-22T08:32:36.747Z"
   },
   {
    "duration": 0,
    "start_time": "2022-06-22T08:32:36.748Z"
   },
   {
    "duration": 0,
    "start_time": "2022-06-22T08:32:36.750Z"
   },
   {
    "duration": 0,
    "start_time": "2022-06-22T08:32:36.751Z"
   },
   {
    "duration": 0,
    "start_time": "2022-06-22T08:32:36.752Z"
   },
   {
    "duration": 0,
    "start_time": "2022-06-22T08:32:36.754Z"
   },
   {
    "duration": 0,
    "start_time": "2022-06-22T08:32:36.755Z"
   },
   {
    "duration": 0,
    "start_time": "2022-06-22T08:32:36.756Z"
   },
   {
    "duration": 0,
    "start_time": "2022-06-22T08:32:36.757Z"
   },
   {
    "duration": 0,
    "start_time": "2022-06-22T08:32:36.759Z"
   },
   {
    "duration": 0,
    "start_time": "2022-06-22T08:32:36.760Z"
   },
   {
    "duration": 0,
    "start_time": "2022-06-22T08:32:36.762Z"
   },
   {
    "duration": 0,
    "start_time": "2022-06-22T08:32:36.763Z"
   },
   {
    "duration": 0,
    "start_time": "2022-06-22T08:32:36.764Z"
   },
   {
    "duration": 0,
    "start_time": "2022-06-22T08:32:36.766Z"
   },
   {
    "duration": 0,
    "start_time": "2022-06-22T08:32:36.767Z"
   },
   {
    "duration": 0,
    "start_time": "2022-06-22T08:32:36.827Z"
   },
   {
    "duration": 0,
    "start_time": "2022-06-22T08:32:36.828Z"
   },
   {
    "duration": 0,
    "start_time": "2022-06-22T08:32:36.829Z"
   },
   {
    "duration": 0,
    "start_time": "2022-06-22T08:32:36.831Z"
   },
   {
    "duration": 0,
    "start_time": "2022-06-22T08:32:36.833Z"
   },
   {
    "duration": 0,
    "start_time": "2022-06-22T08:32:36.834Z"
   },
   {
    "duration": 0,
    "start_time": "2022-06-22T08:32:36.835Z"
   },
   {
    "duration": 0,
    "start_time": "2022-06-22T08:32:36.837Z"
   },
   {
    "duration": 0,
    "start_time": "2022-06-22T08:32:36.838Z"
   },
   {
    "duration": 0,
    "start_time": "2022-06-22T08:32:36.839Z"
   },
   {
    "duration": 0,
    "start_time": "2022-06-22T08:32:36.841Z"
   },
   {
    "duration": 0,
    "start_time": "2022-06-22T08:32:36.842Z"
   },
   {
    "duration": 0,
    "start_time": "2022-06-22T08:32:36.844Z"
   },
   {
    "duration": 0,
    "start_time": "2022-06-22T08:32:36.845Z"
   },
   {
    "duration": 0,
    "start_time": "2022-06-22T08:32:36.846Z"
   },
   {
    "duration": 0,
    "start_time": "2022-06-22T08:32:36.848Z"
   },
   {
    "duration": 0,
    "start_time": "2022-06-22T08:32:36.849Z"
   },
   {
    "duration": 0,
    "start_time": "2022-06-22T08:32:36.850Z"
   },
   {
    "duration": 0,
    "start_time": "2022-06-22T08:32:36.852Z"
   },
   {
    "duration": 0,
    "start_time": "2022-06-22T08:32:36.853Z"
   },
   {
    "duration": 0,
    "start_time": "2022-06-22T08:32:36.855Z"
   },
   {
    "duration": 24,
    "start_time": "2022-06-22T08:32:52.531Z"
   },
   {
    "duration": 7,
    "start_time": "2022-06-22T08:32:54.694Z"
   },
   {
    "duration": 6,
    "start_time": "2022-06-22T08:32:55.041Z"
   },
   {
    "duration": 12,
    "start_time": "2022-06-22T08:32:55.490Z"
   },
   {
    "duration": 10,
    "start_time": "2022-06-22T08:32:56.590Z"
   },
   {
    "duration": 13,
    "start_time": "2022-06-22T08:32:57.121Z"
   },
   {
    "duration": 9,
    "start_time": "2022-06-22T08:32:57.341Z"
   },
   {
    "duration": 4,
    "start_time": "2022-06-22T08:32:57.541Z"
   },
   {
    "duration": 6,
    "start_time": "2022-06-22T08:32:57.728Z"
   },
   {
    "duration": 4,
    "start_time": "2022-06-22T08:32:57.900Z"
   },
   {
    "duration": 5,
    "start_time": "2022-06-22T08:32:58.115Z"
   },
   {
    "duration": 12,
    "start_time": "2022-06-22T08:32:58.501Z"
   },
   {
    "duration": 10,
    "start_time": "2022-06-22T08:32:59.083Z"
   },
   {
    "duration": 16,
    "start_time": "2022-06-22T08:33:00.778Z"
   },
   {
    "duration": 10,
    "start_time": "2022-06-22T08:33:01.302Z"
   },
   {
    "duration": 8,
    "start_time": "2022-06-22T08:33:01.742Z"
   },
   {
    "duration": 6,
    "start_time": "2022-06-22T08:33:01.905Z"
   },
   {
    "duration": 10,
    "start_time": "2022-06-22T08:33:02.086Z"
   },
   {
    "duration": 11,
    "start_time": "2022-06-22T08:33:02.264Z"
   },
   {
    "duration": 7,
    "start_time": "2022-06-22T08:33:02.876Z"
   },
   {
    "duration": 11,
    "start_time": "2022-06-22T08:33:03.284Z"
   },
   {
    "duration": 5,
    "start_time": "2022-06-22T08:33:03.968Z"
   },
   {
    "duration": 3,
    "start_time": "2022-06-22T08:33:04.213Z"
   },
   {
    "duration": 19,
    "start_time": "2022-06-22T08:33:04.616Z"
   },
   {
    "duration": 14,
    "start_time": "2022-06-22T08:33:04.835Z"
   },
   {
    "duration": 24,
    "start_time": "2022-06-22T08:33:05.081Z"
   },
   {
    "duration": 7,
    "start_time": "2022-06-22T08:33:05.340Z"
   },
   {
    "duration": 10,
    "start_time": "2022-06-22T08:33:09.256Z"
   },
   {
    "duration": 10,
    "start_time": "2022-06-22T08:33:09.642Z"
   },
   {
    "duration": 12,
    "start_time": "2022-06-22T08:33:09.842Z"
   },
   {
    "duration": 4,
    "start_time": "2022-06-22T08:33:10.303Z"
   },
   {
    "duration": 26,
    "start_time": "2022-06-22T08:33:10.516Z"
   },
   {
    "duration": 150,
    "start_time": "2022-06-22T08:33:18.818Z"
   },
   {
    "duration": 127,
    "start_time": "2022-06-22T08:33:19.317Z"
   },
   {
    "duration": 161,
    "start_time": "2022-06-22T08:33:19.495Z"
   },
   {
    "duration": 205,
    "start_time": "2022-06-22T08:33:19.969Z"
   },
   {
    "duration": 128,
    "start_time": "2022-06-22T08:33:20.587Z"
   },
   {
    "duration": 154,
    "start_time": "2022-06-22T08:33:21.025Z"
   },
   {
    "duration": 150,
    "start_time": "2022-06-22T08:33:21.726Z"
   },
   {
    "duration": 149,
    "start_time": "2022-06-22T08:33:22.422Z"
   },
   {
    "duration": 178,
    "start_time": "2022-06-22T08:33:22.982Z"
   },
   {
    "duration": 182,
    "start_time": "2022-06-22T08:33:23.422Z"
   },
   {
    "duration": 12,
    "start_time": "2022-06-22T08:33:23.881Z"
   },
   {
    "duration": 466,
    "start_time": "2022-06-22T08:33:24.206Z"
   },
   {
    "duration": 4,
    "start_time": "2022-06-22T08:33:24.714Z"
   },
   {
    "duration": 10,
    "start_time": "2022-06-22T08:33:25.256Z"
   },
   {
    "duration": 4,
    "start_time": "2022-06-22T08:33:26.544Z"
   },
   {
    "duration": 7,
    "start_time": "2022-06-22T08:33:27.058Z"
   },
   {
    "duration": 3,
    "start_time": "2022-06-22T08:33:27.673Z"
   },
   {
    "duration": 11483,
    "start_time": "2022-06-22T08:33:28.352Z"
   },
   {
    "duration": 897,
    "start_time": "2022-06-22T08:33:39.840Z"
   },
   {
    "duration": 95,
    "start_time": "2022-06-22T08:33:40.741Z"
   },
   {
    "duration": 97,
    "start_time": "2022-06-22T08:33:40.846Z"
   },
   {
    "duration": 179,
    "start_time": "2022-06-22T08:33:40.947Z"
   },
   {
    "duration": 258,
    "start_time": "2022-06-22T08:33:41.129Z"
   },
   {
    "duration": 7760,
    "start_time": "2022-06-22T08:33:41.389Z"
   },
   {
    "duration": 896,
    "start_time": "2022-06-22T08:33:49.151Z"
   },
   {
    "duration": 44,
    "start_time": "2022-06-22T08:33:50.049Z"
   },
   {
    "duration": 57,
    "start_time": "2022-06-22T08:33:50.095Z"
   },
   {
    "duration": 18,
    "start_time": "2022-06-22T08:33:50.154Z"
   },
   {
    "duration": 276,
    "start_time": "2022-06-22T08:33:50.173Z"
   },
   {
    "duration": 164,
    "start_time": "2022-06-22T08:33:50.450Z"
   },
   {
    "duration": 45,
    "start_time": "2022-06-22T08:33:50.616Z"
   },
   {
    "duration": 7,
    "start_time": "2022-06-22T08:33:50.663Z"
   },
   {
    "duration": 6,
    "start_time": "2022-06-22T08:33:50.672Z"
   },
   {
    "duration": 16,
    "start_time": "2022-06-22T08:33:50.679Z"
   },
   {
    "duration": 268,
    "start_time": "2022-06-22T08:33:50.697Z"
   }
  ],
  "kernelspec": {
   "display_name": "Python 3 (ipykernel)",
   "language": "python",
   "name": "python3"
  },
  "language_info": {
   "codemirror_mode": {
    "name": "ipython",
    "version": 3
   },
   "file_extension": ".py",
   "mimetype": "text/x-python",
   "name": "python",
   "nbconvert_exporter": "python",
   "pygments_lexer": "ipython3",
   "version": "3.9.5"
  },
  "toc": {
   "base_numbering": 1,
   "nav_menu": {},
   "number_sections": true,
   "sideBar": true,
   "skip_h1_title": true,
   "title_cell": "Table of Contents",
   "title_sidebar": "Contents",
   "toc_cell": false,
   "toc_position": {},
   "toc_section_display": true,
   "toc_window_display": false
  }
 },
 "nbformat": 4,
 "nbformat_minor": 2
}
