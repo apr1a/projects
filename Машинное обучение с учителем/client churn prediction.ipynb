{
 "cells": [
  {
   "cell_type": "markdown",
   "metadata": {
    "toc": true
   },
   "source": [
    "<h1>Содержание<span class=\"tocSkip\"></span></h1>\n",
    "<div class=\"toc\"><ul class=\"toc-item\"><li><span><a href=\"#Подготовка-данных\" data-toc-modified-id=\"Подготовка-данных-1\"><span class=\"toc-item-num\">1&nbsp;&nbsp;</span>Подготовка данных</a></span></li><li><span><a href=\"#Исследование-задачи\" data-toc-modified-id=\"Исследование-задачи-2\"><span class=\"toc-item-num\">2&nbsp;&nbsp;</span>Исследование задачи</a></span></li><li><span><a href=\"#Борьба-с-дисбалансом\" data-toc-modified-id=\"Борьба-с-дисбалансом-3\"><span class=\"toc-item-num\">3&nbsp;&nbsp;</span>Борьба с дисбалансом</a></span></li><li><span><a href=\"#Тестирование-модели\" data-toc-modified-id=\"Тестирование-модели-4\"><span class=\"toc-item-num\">4&nbsp;&nbsp;</span>Тестирование модели</a></span></li><li><span><a href=\"#Общий-вывод\" data-toc-modified-id=\"Общий-вывод-5\"><span class=\"toc-item-num\">5&nbsp;&nbsp;</span>Общий вывод</a></span></li></ul></div>"
   ]
  },
  {
   "cell_type": "markdown",
   "metadata": {},
   "source": [
    "# Отток клиентов"
   ]
  },
  {
   "cell_type": "markdown",
   "metadata": {},
   "source": [
    "Из «Бета-Банка» стали уходить клиенты. Каждый месяц. Немного, но заметно. Банковские маркетологи посчитали: сохранять текущих клиентов дешевле, чем привлекать новых.\n",
    "\n",
    "Необходимо спрогнозировать, уйдёт клиент из банка в ближайшее время или нет. Имеются исторические данные о поведении клиентов и расторжении договоров с банком. \n",
    "\n",
    "Необходимо прстроить модель с предельно большим значением *F1*-меры (довести до 0.59). \n",
    "\n",
    "Дополнительно проведём измерение *AUC-ROC*, сравнивая её значение с *F1*-мерой."
   ]
  },
  {
   "cell_type": "markdown",
   "metadata": {},
   "source": [
    "**Признаки**\n",
    "* RowNumber — индекс строки в данных\n",
    "* CustomerId — уникальный идентификатор клиента\n",
    "* Surname — фамилия\n",
    "* CreditScore — кредитный рейтинг\n",
    "* Geography — страна проживания\n",
    "* Gender — пол\n",
    "* Age — возраст\n",
    "* Tenure — сколько лет человек является клиентом банка\n",
    "* Balance — баланс на счёте\n",
    "* NumOfProducts — количество продуктов банка, используемых клиентом\n",
    "* HasCrCard — наличие кредитной карты\n",
    "* IsActiveMember — активность клиента\n",
    "* EstimatedSalary — предполагаемая зарплата\n",
    "\n",
    "**Целевой признак**\n",
    "\n",
    "* Exited — факт ухода клиента"
   ]
  },
  {
   "cell_type": "markdown",
   "metadata": {},
   "source": [
    "## Подготовка данных"
   ]
  },
  {
   "cell_type": "code",
   "execution_count": 1,
   "metadata": {},
   "outputs": [],
   "source": [
    "import pandas as pd\n",
    "from sklearn.model_selection import train_test_split\n",
    "from sklearn.tree import DecisionTreeClassifier\n",
    "from sklearn.ensemble import RandomForestClassifier\n",
    "from sklearn.linear_model import LogisticRegression\n",
    "from sklearn.metrics import f1_score\n",
    "from sklearn.metrics import roc_auc_score\n",
    "from sklearn.utils import shuffle\n",
    "import matplotlib.pyplot as plt"
   ]
  },
  {
   "cell_type": "markdown",
   "metadata": {},
   "source": [
    "Загружаем и просматриваем данные"
   ]
  },
  {
   "cell_type": "code",
   "execution_count": 2,
   "metadata": {},
   "outputs": [
    {
     "data": {
      "text/html": [
       "<div>\n",
       "<style scoped>\n",
       "    .dataframe tbody tr th:only-of-type {\n",
       "        vertical-align: middle;\n",
       "    }\n",
       "\n",
       "    .dataframe tbody tr th {\n",
       "        vertical-align: top;\n",
       "    }\n",
       "\n",
       "    .dataframe thead th {\n",
       "        text-align: right;\n",
       "    }\n",
       "</style>\n",
       "<table border=\"1\" class=\"dataframe\">\n",
       "  <thead>\n",
       "    <tr style=\"text-align: right;\">\n",
       "      <th></th>\n",
       "      <th>RowNumber</th>\n",
       "      <th>CustomerId</th>\n",
       "      <th>Surname</th>\n",
       "      <th>CreditScore</th>\n",
       "      <th>Geography</th>\n",
       "      <th>Gender</th>\n",
       "      <th>Age</th>\n",
       "      <th>Tenure</th>\n",
       "      <th>Balance</th>\n",
       "      <th>NumOfProducts</th>\n",
       "      <th>HasCrCard</th>\n",
       "      <th>IsActiveMember</th>\n",
       "      <th>EstimatedSalary</th>\n",
       "      <th>Exited</th>\n",
       "    </tr>\n",
       "  </thead>\n",
       "  <tbody>\n",
       "    <tr>\n",
       "      <th>0</th>\n",
       "      <td>1</td>\n",
       "      <td>15634602</td>\n",
       "      <td>Hargrave</td>\n",
       "      <td>619</td>\n",
       "      <td>France</td>\n",
       "      <td>Female</td>\n",
       "      <td>42</td>\n",
       "      <td>2.0</td>\n",
       "      <td>0.00</td>\n",
       "      <td>1</td>\n",
       "      <td>1</td>\n",
       "      <td>1</td>\n",
       "      <td>101348.88</td>\n",
       "      <td>1</td>\n",
       "    </tr>\n",
       "    <tr>\n",
       "      <th>1</th>\n",
       "      <td>2</td>\n",
       "      <td>15647311</td>\n",
       "      <td>Hill</td>\n",
       "      <td>608</td>\n",
       "      <td>Spain</td>\n",
       "      <td>Female</td>\n",
       "      <td>41</td>\n",
       "      <td>1.0</td>\n",
       "      <td>83807.86</td>\n",
       "      <td>1</td>\n",
       "      <td>0</td>\n",
       "      <td>1</td>\n",
       "      <td>112542.58</td>\n",
       "      <td>0</td>\n",
       "    </tr>\n",
       "    <tr>\n",
       "      <th>2</th>\n",
       "      <td>3</td>\n",
       "      <td>15619304</td>\n",
       "      <td>Onio</td>\n",
       "      <td>502</td>\n",
       "      <td>France</td>\n",
       "      <td>Female</td>\n",
       "      <td>42</td>\n",
       "      <td>8.0</td>\n",
       "      <td>159660.80</td>\n",
       "      <td>3</td>\n",
       "      <td>1</td>\n",
       "      <td>0</td>\n",
       "      <td>113931.57</td>\n",
       "      <td>1</td>\n",
       "    </tr>\n",
       "    <tr>\n",
       "      <th>3</th>\n",
       "      <td>4</td>\n",
       "      <td>15701354</td>\n",
       "      <td>Boni</td>\n",
       "      <td>699</td>\n",
       "      <td>France</td>\n",
       "      <td>Female</td>\n",
       "      <td>39</td>\n",
       "      <td>1.0</td>\n",
       "      <td>0.00</td>\n",
       "      <td>2</td>\n",
       "      <td>0</td>\n",
       "      <td>0</td>\n",
       "      <td>93826.63</td>\n",
       "      <td>0</td>\n",
       "    </tr>\n",
       "    <tr>\n",
       "      <th>4</th>\n",
       "      <td>5</td>\n",
       "      <td>15737888</td>\n",
       "      <td>Mitchell</td>\n",
       "      <td>850</td>\n",
       "      <td>Spain</td>\n",
       "      <td>Female</td>\n",
       "      <td>43</td>\n",
       "      <td>2.0</td>\n",
       "      <td>125510.82</td>\n",
       "      <td>1</td>\n",
       "      <td>1</td>\n",
       "      <td>1</td>\n",
       "      <td>79084.10</td>\n",
       "      <td>0</td>\n",
       "    </tr>\n",
       "    <tr>\n",
       "      <th>5</th>\n",
       "      <td>6</td>\n",
       "      <td>15574012</td>\n",
       "      <td>Chu</td>\n",
       "      <td>645</td>\n",
       "      <td>Spain</td>\n",
       "      <td>Male</td>\n",
       "      <td>44</td>\n",
       "      <td>8.0</td>\n",
       "      <td>113755.78</td>\n",
       "      <td>2</td>\n",
       "      <td>1</td>\n",
       "      <td>0</td>\n",
       "      <td>149756.71</td>\n",
       "      <td>1</td>\n",
       "    </tr>\n",
       "    <tr>\n",
       "      <th>6</th>\n",
       "      <td>7</td>\n",
       "      <td>15592531</td>\n",
       "      <td>Bartlett</td>\n",
       "      <td>822</td>\n",
       "      <td>France</td>\n",
       "      <td>Male</td>\n",
       "      <td>50</td>\n",
       "      <td>7.0</td>\n",
       "      <td>0.00</td>\n",
       "      <td>2</td>\n",
       "      <td>1</td>\n",
       "      <td>1</td>\n",
       "      <td>10062.80</td>\n",
       "      <td>0</td>\n",
       "    </tr>\n",
       "    <tr>\n",
       "      <th>7</th>\n",
       "      <td>8</td>\n",
       "      <td>15656148</td>\n",
       "      <td>Obinna</td>\n",
       "      <td>376</td>\n",
       "      <td>Germany</td>\n",
       "      <td>Female</td>\n",
       "      <td>29</td>\n",
       "      <td>4.0</td>\n",
       "      <td>115046.74</td>\n",
       "      <td>4</td>\n",
       "      <td>1</td>\n",
       "      <td>0</td>\n",
       "      <td>119346.88</td>\n",
       "      <td>1</td>\n",
       "    </tr>\n",
       "    <tr>\n",
       "      <th>8</th>\n",
       "      <td>9</td>\n",
       "      <td>15792365</td>\n",
       "      <td>He</td>\n",
       "      <td>501</td>\n",
       "      <td>France</td>\n",
       "      <td>Male</td>\n",
       "      <td>44</td>\n",
       "      <td>4.0</td>\n",
       "      <td>142051.07</td>\n",
       "      <td>2</td>\n",
       "      <td>0</td>\n",
       "      <td>1</td>\n",
       "      <td>74940.50</td>\n",
       "      <td>0</td>\n",
       "    </tr>\n",
       "    <tr>\n",
       "      <th>9</th>\n",
       "      <td>10</td>\n",
       "      <td>15592389</td>\n",
       "      <td>H?</td>\n",
       "      <td>684</td>\n",
       "      <td>France</td>\n",
       "      <td>Male</td>\n",
       "      <td>27</td>\n",
       "      <td>2.0</td>\n",
       "      <td>134603.88</td>\n",
       "      <td>1</td>\n",
       "      <td>1</td>\n",
       "      <td>1</td>\n",
       "      <td>71725.73</td>\n",
       "      <td>0</td>\n",
       "    </tr>\n",
       "    <tr>\n",
       "      <th>10</th>\n",
       "      <td>11</td>\n",
       "      <td>15767821</td>\n",
       "      <td>Bearce</td>\n",
       "      <td>528</td>\n",
       "      <td>France</td>\n",
       "      <td>Male</td>\n",
       "      <td>31</td>\n",
       "      <td>6.0</td>\n",
       "      <td>102016.72</td>\n",
       "      <td>2</td>\n",
       "      <td>0</td>\n",
       "      <td>0</td>\n",
       "      <td>80181.12</td>\n",
       "      <td>0</td>\n",
       "    </tr>\n",
       "    <tr>\n",
       "      <th>11</th>\n",
       "      <td>12</td>\n",
       "      <td>15737173</td>\n",
       "      <td>Andrews</td>\n",
       "      <td>497</td>\n",
       "      <td>Spain</td>\n",
       "      <td>Male</td>\n",
       "      <td>24</td>\n",
       "      <td>3.0</td>\n",
       "      <td>0.00</td>\n",
       "      <td>2</td>\n",
       "      <td>1</td>\n",
       "      <td>0</td>\n",
       "      <td>76390.01</td>\n",
       "      <td>0</td>\n",
       "    </tr>\n",
       "    <tr>\n",
       "      <th>12</th>\n",
       "      <td>13</td>\n",
       "      <td>15632264</td>\n",
       "      <td>Kay</td>\n",
       "      <td>476</td>\n",
       "      <td>France</td>\n",
       "      <td>Female</td>\n",
       "      <td>34</td>\n",
       "      <td>10.0</td>\n",
       "      <td>0.00</td>\n",
       "      <td>2</td>\n",
       "      <td>1</td>\n",
       "      <td>0</td>\n",
       "      <td>26260.98</td>\n",
       "      <td>0</td>\n",
       "    </tr>\n",
       "    <tr>\n",
       "      <th>13</th>\n",
       "      <td>14</td>\n",
       "      <td>15691483</td>\n",
       "      <td>Chin</td>\n",
       "      <td>549</td>\n",
       "      <td>France</td>\n",
       "      <td>Female</td>\n",
       "      <td>25</td>\n",
       "      <td>5.0</td>\n",
       "      <td>0.00</td>\n",
       "      <td>2</td>\n",
       "      <td>0</td>\n",
       "      <td>0</td>\n",
       "      <td>190857.79</td>\n",
       "      <td>0</td>\n",
       "    </tr>\n",
       "    <tr>\n",
       "      <th>14</th>\n",
       "      <td>15</td>\n",
       "      <td>15600882</td>\n",
       "      <td>Scott</td>\n",
       "      <td>635</td>\n",
       "      <td>Spain</td>\n",
       "      <td>Female</td>\n",
       "      <td>35</td>\n",
       "      <td>7.0</td>\n",
       "      <td>0.00</td>\n",
       "      <td>2</td>\n",
       "      <td>1</td>\n",
       "      <td>1</td>\n",
       "      <td>65951.65</td>\n",
       "      <td>0</td>\n",
       "    </tr>\n",
       "    <tr>\n",
       "      <th>15</th>\n",
       "      <td>16</td>\n",
       "      <td>15643966</td>\n",
       "      <td>Goforth</td>\n",
       "      <td>616</td>\n",
       "      <td>Germany</td>\n",
       "      <td>Male</td>\n",
       "      <td>45</td>\n",
       "      <td>3.0</td>\n",
       "      <td>143129.41</td>\n",
       "      <td>2</td>\n",
       "      <td>0</td>\n",
       "      <td>1</td>\n",
       "      <td>64327.26</td>\n",
       "      <td>0</td>\n",
       "    </tr>\n",
       "    <tr>\n",
       "      <th>16</th>\n",
       "      <td>17</td>\n",
       "      <td>15737452</td>\n",
       "      <td>Romeo</td>\n",
       "      <td>653</td>\n",
       "      <td>Germany</td>\n",
       "      <td>Male</td>\n",
       "      <td>58</td>\n",
       "      <td>1.0</td>\n",
       "      <td>132602.88</td>\n",
       "      <td>1</td>\n",
       "      <td>1</td>\n",
       "      <td>0</td>\n",
       "      <td>5097.67</td>\n",
       "      <td>1</td>\n",
       "    </tr>\n",
       "    <tr>\n",
       "      <th>17</th>\n",
       "      <td>18</td>\n",
       "      <td>15788218</td>\n",
       "      <td>Henderson</td>\n",
       "      <td>549</td>\n",
       "      <td>Spain</td>\n",
       "      <td>Female</td>\n",
       "      <td>24</td>\n",
       "      <td>9.0</td>\n",
       "      <td>0.00</td>\n",
       "      <td>2</td>\n",
       "      <td>1</td>\n",
       "      <td>1</td>\n",
       "      <td>14406.41</td>\n",
       "      <td>0</td>\n",
       "    </tr>\n",
       "    <tr>\n",
       "      <th>18</th>\n",
       "      <td>19</td>\n",
       "      <td>15661507</td>\n",
       "      <td>Muldrow</td>\n",
       "      <td>587</td>\n",
       "      <td>Spain</td>\n",
       "      <td>Male</td>\n",
       "      <td>45</td>\n",
       "      <td>6.0</td>\n",
       "      <td>0.00</td>\n",
       "      <td>1</td>\n",
       "      <td>0</td>\n",
       "      <td>0</td>\n",
       "      <td>158684.81</td>\n",
       "      <td>0</td>\n",
       "    </tr>\n",
       "    <tr>\n",
       "      <th>19</th>\n",
       "      <td>20</td>\n",
       "      <td>15568982</td>\n",
       "      <td>Hao</td>\n",
       "      <td>726</td>\n",
       "      <td>France</td>\n",
       "      <td>Female</td>\n",
       "      <td>24</td>\n",
       "      <td>6.0</td>\n",
       "      <td>0.00</td>\n",
       "      <td>2</td>\n",
       "      <td>1</td>\n",
       "      <td>1</td>\n",
       "      <td>54724.03</td>\n",
       "      <td>0</td>\n",
       "    </tr>\n",
       "    <tr>\n",
       "      <th>20</th>\n",
       "      <td>21</td>\n",
       "      <td>15577657</td>\n",
       "      <td>McDonald</td>\n",
       "      <td>732</td>\n",
       "      <td>France</td>\n",
       "      <td>Male</td>\n",
       "      <td>41</td>\n",
       "      <td>8.0</td>\n",
       "      <td>0.00</td>\n",
       "      <td>2</td>\n",
       "      <td>1</td>\n",
       "      <td>1</td>\n",
       "      <td>170886.17</td>\n",
       "      <td>0</td>\n",
       "    </tr>\n",
       "    <tr>\n",
       "      <th>21</th>\n",
       "      <td>22</td>\n",
       "      <td>15597945</td>\n",
       "      <td>Dellucci</td>\n",
       "      <td>636</td>\n",
       "      <td>Spain</td>\n",
       "      <td>Female</td>\n",
       "      <td>32</td>\n",
       "      <td>8.0</td>\n",
       "      <td>0.00</td>\n",
       "      <td>2</td>\n",
       "      <td>1</td>\n",
       "      <td>0</td>\n",
       "      <td>138555.46</td>\n",
       "      <td>0</td>\n",
       "    </tr>\n",
       "    <tr>\n",
       "      <th>22</th>\n",
       "      <td>23</td>\n",
       "      <td>15699309</td>\n",
       "      <td>Gerasimov</td>\n",
       "      <td>510</td>\n",
       "      <td>Spain</td>\n",
       "      <td>Female</td>\n",
       "      <td>38</td>\n",
       "      <td>4.0</td>\n",
       "      <td>0.00</td>\n",
       "      <td>1</td>\n",
       "      <td>1</td>\n",
       "      <td>0</td>\n",
       "      <td>118913.53</td>\n",
       "      <td>1</td>\n",
       "    </tr>\n",
       "    <tr>\n",
       "      <th>23</th>\n",
       "      <td>24</td>\n",
       "      <td>15725737</td>\n",
       "      <td>Mosman</td>\n",
       "      <td>669</td>\n",
       "      <td>France</td>\n",
       "      <td>Male</td>\n",
       "      <td>46</td>\n",
       "      <td>3.0</td>\n",
       "      <td>0.00</td>\n",
       "      <td>2</td>\n",
       "      <td>0</td>\n",
       "      <td>1</td>\n",
       "      <td>8487.75</td>\n",
       "      <td>0</td>\n",
       "    </tr>\n",
       "    <tr>\n",
       "      <th>24</th>\n",
       "      <td>25</td>\n",
       "      <td>15625047</td>\n",
       "      <td>Yen</td>\n",
       "      <td>846</td>\n",
       "      <td>France</td>\n",
       "      <td>Female</td>\n",
       "      <td>38</td>\n",
       "      <td>5.0</td>\n",
       "      <td>0.00</td>\n",
       "      <td>1</td>\n",
       "      <td>1</td>\n",
       "      <td>1</td>\n",
       "      <td>187616.16</td>\n",
       "      <td>0</td>\n",
       "    </tr>\n",
       "    <tr>\n",
       "      <th>25</th>\n",
       "      <td>26</td>\n",
       "      <td>15738191</td>\n",
       "      <td>Maclean</td>\n",
       "      <td>577</td>\n",
       "      <td>France</td>\n",
       "      <td>Male</td>\n",
       "      <td>25</td>\n",
       "      <td>3.0</td>\n",
       "      <td>0.00</td>\n",
       "      <td>2</td>\n",
       "      <td>0</td>\n",
       "      <td>1</td>\n",
       "      <td>124508.29</td>\n",
       "      <td>0</td>\n",
       "    </tr>\n",
       "    <tr>\n",
       "      <th>26</th>\n",
       "      <td>27</td>\n",
       "      <td>15736816</td>\n",
       "      <td>Young</td>\n",
       "      <td>756</td>\n",
       "      <td>Germany</td>\n",
       "      <td>Male</td>\n",
       "      <td>36</td>\n",
       "      <td>2.0</td>\n",
       "      <td>136815.64</td>\n",
       "      <td>1</td>\n",
       "      <td>1</td>\n",
       "      <td>1</td>\n",
       "      <td>170041.95</td>\n",
       "      <td>0</td>\n",
       "    </tr>\n",
       "    <tr>\n",
       "      <th>27</th>\n",
       "      <td>28</td>\n",
       "      <td>15700772</td>\n",
       "      <td>Nebechi</td>\n",
       "      <td>571</td>\n",
       "      <td>France</td>\n",
       "      <td>Male</td>\n",
       "      <td>44</td>\n",
       "      <td>9.0</td>\n",
       "      <td>0.00</td>\n",
       "      <td>2</td>\n",
       "      <td>0</td>\n",
       "      <td>0</td>\n",
       "      <td>38433.35</td>\n",
       "      <td>0</td>\n",
       "    </tr>\n",
       "    <tr>\n",
       "      <th>28</th>\n",
       "      <td>29</td>\n",
       "      <td>15728693</td>\n",
       "      <td>McWilliams</td>\n",
       "      <td>574</td>\n",
       "      <td>Germany</td>\n",
       "      <td>Female</td>\n",
       "      <td>43</td>\n",
       "      <td>3.0</td>\n",
       "      <td>141349.43</td>\n",
       "      <td>1</td>\n",
       "      <td>1</td>\n",
       "      <td>1</td>\n",
       "      <td>100187.43</td>\n",
       "      <td>0</td>\n",
       "    </tr>\n",
       "    <tr>\n",
       "      <th>29</th>\n",
       "      <td>30</td>\n",
       "      <td>15656300</td>\n",
       "      <td>Lucciano</td>\n",
       "      <td>411</td>\n",
       "      <td>France</td>\n",
       "      <td>Male</td>\n",
       "      <td>29</td>\n",
       "      <td>0.0</td>\n",
       "      <td>59697.17</td>\n",
       "      <td>2</td>\n",
       "      <td>1</td>\n",
       "      <td>1</td>\n",
       "      <td>53483.21</td>\n",
       "      <td>0</td>\n",
       "    </tr>\n",
       "  </tbody>\n",
       "</table>\n",
       "</div>"
      ],
      "text/plain": [
       "    RowNumber  CustomerId     Surname  CreditScore Geography  Gender  Age  \\\n",
       "0           1    15634602    Hargrave          619    France  Female   42   \n",
       "1           2    15647311        Hill          608     Spain  Female   41   \n",
       "2           3    15619304        Onio          502    France  Female   42   \n",
       "3           4    15701354        Boni          699    France  Female   39   \n",
       "4           5    15737888    Mitchell          850     Spain  Female   43   \n",
       "5           6    15574012         Chu          645     Spain    Male   44   \n",
       "6           7    15592531    Bartlett          822    France    Male   50   \n",
       "7           8    15656148      Obinna          376   Germany  Female   29   \n",
       "8           9    15792365          He          501    France    Male   44   \n",
       "9          10    15592389          H?          684    France    Male   27   \n",
       "10         11    15767821      Bearce          528    France    Male   31   \n",
       "11         12    15737173     Andrews          497     Spain    Male   24   \n",
       "12         13    15632264         Kay          476    France  Female   34   \n",
       "13         14    15691483        Chin          549    France  Female   25   \n",
       "14         15    15600882       Scott          635     Spain  Female   35   \n",
       "15         16    15643966     Goforth          616   Germany    Male   45   \n",
       "16         17    15737452       Romeo          653   Germany    Male   58   \n",
       "17         18    15788218   Henderson          549     Spain  Female   24   \n",
       "18         19    15661507     Muldrow          587     Spain    Male   45   \n",
       "19         20    15568982         Hao          726    France  Female   24   \n",
       "20         21    15577657    McDonald          732    France    Male   41   \n",
       "21         22    15597945    Dellucci          636     Spain  Female   32   \n",
       "22         23    15699309   Gerasimov          510     Spain  Female   38   \n",
       "23         24    15725737      Mosman          669    France    Male   46   \n",
       "24         25    15625047         Yen          846    France  Female   38   \n",
       "25         26    15738191     Maclean          577    France    Male   25   \n",
       "26         27    15736816       Young          756   Germany    Male   36   \n",
       "27         28    15700772     Nebechi          571    France    Male   44   \n",
       "28         29    15728693  McWilliams          574   Germany  Female   43   \n",
       "29         30    15656300    Lucciano          411    France    Male   29   \n",
       "\n",
       "    Tenure    Balance  NumOfProducts  HasCrCard  IsActiveMember  \\\n",
       "0      2.0       0.00              1          1               1   \n",
       "1      1.0   83807.86              1          0               1   \n",
       "2      8.0  159660.80              3          1               0   \n",
       "3      1.0       0.00              2          0               0   \n",
       "4      2.0  125510.82              1          1               1   \n",
       "5      8.0  113755.78              2          1               0   \n",
       "6      7.0       0.00              2          1               1   \n",
       "7      4.0  115046.74              4          1               0   \n",
       "8      4.0  142051.07              2          0               1   \n",
       "9      2.0  134603.88              1          1               1   \n",
       "10     6.0  102016.72              2          0               0   \n",
       "11     3.0       0.00              2          1               0   \n",
       "12    10.0       0.00              2          1               0   \n",
       "13     5.0       0.00              2          0               0   \n",
       "14     7.0       0.00              2          1               1   \n",
       "15     3.0  143129.41              2          0               1   \n",
       "16     1.0  132602.88              1          1               0   \n",
       "17     9.0       0.00              2          1               1   \n",
       "18     6.0       0.00              1          0               0   \n",
       "19     6.0       0.00              2          1               1   \n",
       "20     8.0       0.00              2          1               1   \n",
       "21     8.0       0.00              2          1               0   \n",
       "22     4.0       0.00              1          1               0   \n",
       "23     3.0       0.00              2          0               1   \n",
       "24     5.0       0.00              1          1               1   \n",
       "25     3.0       0.00              2          0               1   \n",
       "26     2.0  136815.64              1          1               1   \n",
       "27     9.0       0.00              2          0               0   \n",
       "28     3.0  141349.43              1          1               1   \n",
       "29     0.0   59697.17              2          1               1   \n",
       "\n",
       "    EstimatedSalary  Exited  \n",
       "0         101348.88       1  \n",
       "1         112542.58       0  \n",
       "2         113931.57       1  \n",
       "3          93826.63       0  \n",
       "4          79084.10       0  \n",
       "5         149756.71       1  \n",
       "6          10062.80       0  \n",
       "7         119346.88       1  \n",
       "8          74940.50       0  \n",
       "9          71725.73       0  \n",
       "10         80181.12       0  \n",
       "11         76390.01       0  \n",
       "12         26260.98       0  \n",
       "13        190857.79       0  \n",
       "14         65951.65       0  \n",
       "15         64327.26       0  \n",
       "16          5097.67       1  \n",
       "17         14406.41       0  \n",
       "18        158684.81       0  \n",
       "19         54724.03       0  \n",
       "20        170886.17       0  \n",
       "21        138555.46       0  \n",
       "22        118913.53       1  \n",
       "23          8487.75       0  \n",
       "24        187616.16       0  \n",
       "25        124508.29       0  \n",
       "26        170041.95       0  \n",
       "27         38433.35       0  \n",
       "28        100187.43       0  \n",
       "29         53483.21       0  "
      ]
     },
     "execution_count": 2,
     "metadata": {},
     "output_type": "execute_result"
    }
   ],
   "source": [
    "data = pd.read_csv('/datasets/Churn.csv')\n",
    "data.head(30)"
   ]
  },
  {
   "cell_type": "markdown",
   "metadata": {},
   "source": [
    "Изучаем общую информацию. Обращаем внимание на тип float в столбце Tenure. Его можно заменить на целочисленный тип, так как он отражает, сколько лет человек является клиентом банка."
   ]
  },
  {
   "cell_type": "code",
   "execution_count": 3,
   "metadata": {},
   "outputs": [
    {
     "name": "stdout",
     "output_type": "stream",
     "text": [
      "<class 'pandas.core.frame.DataFrame'>\n",
      "RangeIndex: 10000 entries, 0 to 9999\n",
      "Data columns (total 14 columns):\n",
      " #   Column           Non-Null Count  Dtype  \n",
      "---  ------           --------------  -----  \n",
      " 0   RowNumber        10000 non-null  int64  \n",
      " 1   CustomerId       10000 non-null  int64  \n",
      " 2   Surname          10000 non-null  object \n",
      " 3   CreditScore      10000 non-null  int64  \n",
      " 4   Geography        10000 non-null  object \n",
      " 5   Gender           10000 non-null  object \n",
      " 6   Age              10000 non-null  int64  \n",
      " 7   Tenure           9091 non-null   float64\n",
      " 8   Balance          10000 non-null  float64\n",
      " 9   NumOfProducts    10000 non-null  int64  \n",
      " 10  HasCrCard        10000 non-null  int64  \n",
      " 11  IsActiveMember   10000 non-null  int64  \n",
      " 12  EstimatedSalary  10000 non-null  float64\n",
      " 13  Exited           10000 non-null  int64  \n",
      "dtypes: float64(3), int64(8), object(3)\n",
      "memory usage: 1.1+ MB\n"
     ]
    }
   ],
   "source": [
    "data.info()"
   ]
  },
  {
   "cell_type": "markdown",
   "metadata": {},
   "source": [
    "Проверяем наличие пропущенных значений. Предполагаем, что отсутсвующие значения в стобце tenure связаны с тем, что клиент пользовался услугами банка меньше одного года. Исходя из этих рассуждений заполняем пропущенные значения в этом столбце на 0."
   ]
  },
  {
   "cell_type": "code",
   "execution_count": 4,
   "metadata": {},
   "outputs": [
    {
     "data": {
      "text/plain": [
       "RowNumber            0\n",
       "CustomerId           0\n",
       "Surname              0\n",
       "CreditScore          0\n",
       "Geography            0\n",
       "Gender               0\n",
       "Age                  0\n",
       "Tenure             909\n",
       "Balance              0\n",
       "NumOfProducts        0\n",
       "HasCrCard            0\n",
       "IsActiveMember       0\n",
       "EstimatedSalary      0\n",
       "Exited               0\n",
       "dtype: int64"
      ]
     },
     "execution_count": 4,
     "metadata": {},
     "output_type": "execute_result"
    }
   ],
   "source": [
    "data.isnull().sum()"
   ]
  },
  {
   "cell_type": "code",
   "execution_count": 5,
   "metadata": {},
   "outputs": [
    {
     "data": {
      "text/plain": [
       "RowNumber          0\n",
       "CustomerId         0\n",
       "Surname            0\n",
       "CreditScore        0\n",
       "Geography          0\n",
       "Gender             0\n",
       "Age                0\n",
       "Tenure             0\n",
       "Balance            0\n",
       "NumOfProducts      0\n",
       "HasCrCard          0\n",
       "IsActiveMember     0\n",
       "EstimatedSalary    0\n",
       "Exited             0\n",
       "dtype: int64"
      ]
     },
     "execution_count": 5,
     "metadata": {},
     "output_type": "execute_result"
    }
   ],
   "source": [
    "data['Tenure'] = data['Tenure'].fillna(0)\n",
    "data.isnull().sum()"
   ]
  },
  {
   "cell_type": "markdown",
   "metadata": {},
   "source": [
    "Заменяем для удобства тип данных в столбце tenure на целочисленный."
   ]
  },
  {
   "cell_type": "code",
   "execution_count": 6,
   "metadata": {},
   "outputs": [
    {
     "data": {
      "text/html": [
       "<div>\n",
       "<style scoped>\n",
       "    .dataframe tbody tr th:only-of-type {\n",
       "        vertical-align: middle;\n",
       "    }\n",
       "\n",
       "    .dataframe tbody tr th {\n",
       "        vertical-align: top;\n",
       "    }\n",
       "\n",
       "    .dataframe thead th {\n",
       "        text-align: right;\n",
       "    }\n",
       "</style>\n",
       "<table border=\"1\" class=\"dataframe\">\n",
       "  <thead>\n",
       "    <tr style=\"text-align: right;\">\n",
       "      <th></th>\n",
       "      <th>RowNumber</th>\n",
       "      <th>CustomerId</th>\n",
       "      <th>Surname</th>\n",
       "      <th>CreditScore</th>\n",
       "      <th>Geography</th>\n",
       "      <th>Gender</th>\n",
       "      <th>Age</th>\n",
       "      <th>Tenure</th>\n",
       "      <th>Balance</th>\n",
       "      <th>NumOfProducts</th>\n",
       "      <th>HasCrCard</th>\n",
       "      <th>IsActiveMember</th>\n",
       "      <th>EstimatedSalary</th>\n",
       "      <th>Exited</th>\n",
       "    </tr>\n",
       "  </thead>\n",
       "  <tbody>\n",
       "    <tr>\n",
       "      <th>0</th>\n",
       "      <td>1</td>\n",
       "      <td>15634602</td>\n",
       "      <td>Hargrave</td>\n",
       "      <td>619</td>\n",
       "      <td>France</td>\n",
       "      <td>Female</td>\n",
       "      <td>42</td>\n",
       "      <td>2</td>\n",
       "      <td>0.00</td>\n",
       "      <td>1</td>\n",
       "      <td>1</td>\n",
       "      <td>1</td>\n",
       "      <td>101348.88</td>\n",
       "      <td>1</td>\n",
       "    </tr>\n",
       "    <tr>\n",
       "      <th>1</th>\n",
       "      <td>2</td>\n",
       "      <td>15647311</td>\n",
       "      <td>Hill</td>\n",
       "      <td>608</td>\n",
       "      <td>Spain</td>\n",
       "      <td>Female</td>\n",
       "      <td>41</td>\n",
       "      <td>1</td>\n",
       "      <td>83807.86</td>\n",
       "      <td>1</td>\n",
       "      <td>0</td>\n",
       "      <td>1</td>\n",
       "      <td>112542.58</td>\n",
       "      <td>0</td>\n",
       "    </tr>\n",
       "    <tr>\n",
       "      <th>2</th>\n",
       "      <td>3</td>\n",
       "      <td>15619304</td>\n",
       "      <td>Onio</td>\n",
       "      <td>502</td>\n",
       "      <td>France</td>\n",
       "      <td>Female</td>\n",
       "      <td>42</td>\n",
       "      <td>8</td>\n",
       "      <td>159660.80</td>\n",
       "      <td>3</td>\n",
       "      <td>1</td>\n",
       "      <td>0</td>\n",
       "      <td>113931.57</td>\n",
       "      <td>1</td>\n",
       "    </tr>\n",
       "    <tr>\n",
       "      <th>3</th>\n",
       "      <td>4</td>\n",
       "      <td>15701354</td>\n",
       "      <td>Boni</td>\n",
       "      <td>699</td>\n",
       "      <td>France</td>\n",
       "      <td>Female</td>\n",
       "      <td>39</td>\n",
       "      <td>1</td>\n",
       "      <td>0.00</td>\n",
       "      <td>2</td>\n",
       "      <td>0</td>\n",
       "      <td>0</td>\n",
       "      <td>93826.63</td>\n",
       "      <td>0</td>\n",
       "    </tr>\n",
       "    <tr>\n",
       "      <th>4</th>\n",
       "      <td>5</td>\n",
       "      <td>15737888</td>\n",
       "      <td>Mitchell</td>\n",
       "      <td>850</td>\n",
       "      <td>Spain</td>\n",
       "      <td>Female</td>\n",
       "      <td>43</td>\n",
       "      <td>2</td>\n",
       "      <td>125510.82</td>\n",
       "      <td>1</td>\n",
       "      <td>1</td>\n",
       "      <td>1</td>\n",
       "      <td>79084.10</td>\n",
       "      <td>0</td>\n",
       "    </tr>\n",
       "  </tbody>\n",
       "</table>\n",
       "</div>"
      ],
      "text/plain": [
       "   RowNumber  CustomerId   Surname  CreditScore Geography  Gender  Age  \\\n",
       "0          1    15634602  Hargrave          619    France  Female   42   \n",
       "1          2    15647311      Hill          608     Spain  Female   41   \n",
       "2          3    15619304      Onio          502    France  Female   42   \n",
       "3          4    15701354      Boni          699    France  Female   39   \n",
       "4          5    15737888  Mitchell          850     Spain  Female   43   \n",
       "\n",
       "   Tenure    Balance  NumOfProducts  HasCrCard  IsActiveMember  \\\n",
       "0       2       0.00              1          1               1   \n",
       "1       1   83807.86              1          0               1   \n",
       "2       8  159660.80              3          1               0   \n",
       "3       1       0.00              2          0               0   \n",
       "4       2  125510.82              1          1               1   \n",
       "\n",
       "   EstimatedSalary  Exited  \n",
       "0        101348.88       1  \n",
       "1        112542.58       0  \n",
       "2        113931.57       1  \n",
       "3         93826.63       0  \n",
       "4         79084.10       0  "
      ]
     },
     "execution_count": 6,
     "metadata": {},
     "output_type": "execute_result"
    }
   ],
   "source": [
    "data['Tenure'] = data['Tenure'].astype('int')\n",
    "data.head()"
   ]
  },
  {
   "cell_type": "markdown",
   "metadata": {},
   "source": [
    "Для дальнейшего анализа нам вряд ли понадобятся столбцы с индексом строки в данных, фамилией и  уникальным идентификатором клиента. Удалим их из данных."
   ]
  },
  {
   "cell_type": "code",
   "execution_count": 7,
   "metadata": {
    "scrolled": true
   },
   "outputs": [
    {
     "data": {
      "text/html": [
       "<div>\n",
       "<style scoped>\n",
       "    .dataframe tbody tr th:only-of-type {\n",
       "        vertical-align: middle;\n",
       "    }\n",
       "\n",
       "    .dataframe tbody tr th {\n",
       "        vertical-align: top;\n",
       "    }\n",
       "\n",
       "    .dataframe thead th {\n",
       "        text-align: right;\n",
       "    }\n",
       "</style>\n",
       "<table border=\"1\" class=\"dataframe\">\n",
       "  <thead>\n",
       "    <tr style=\"text-align: right;\">\n",
       "      <th></th>\n",
       "      <th>CreditScore</th>\n",
       "      <th>Geography</th>\n",
       "      <th>Gender</th>\n",
       "      <th>Age</th>\n",
       "      <th>Tenure</th>\n",
       "      <th>Balance</th>\n",
       "      <th>NumOfProducts</th>\n",
       "      <th>HasCrCard</th>\n",
       "      <th>IsActiveMember</th>\n",
       "      <th>EstimatedSalary</th>\n",
       "      <th>Exited</th>\n",
       "    </tr>\n",
       "  </thead>\n",
       "  <tbody>\n",
       "    <tr>\n",
       "      <th>0</th>\n",
       "      <td>619</td>\n",
       "      <td>France</td>\n",
       "      <td>Female</td>\n",
       "      <td>42</td>\n",
       "      <td>2</td>\n",
       "      <td>0.00</td>\n",
       "      <td>1</td>\n",
       "      <td>1</td>\n",
       "      <td>1</td>\n",
       "      <td>101348.88</td>\n",
       "      <td>1</td>\n",
       "    </tr>\n",
       "    <tr>\n",
       "      <th>1</th>\n",
       "      <td>608</td>\n",
       "      <td>Spain</td>\n",
       "      <td>Female</td>\n",
       "      <td>41</td>\n",
       "      <td>1</td>\n",
       "      <td>83807.86</td>\n",
       "      <td>1</td>\n",
       "      <td>0</td>\n",
       "      <td>1</td>\n",
       "      <td>112542.58</td>\n",
       "      <td>0</td>\n",
       "    </tr>\n",
       "    <tr>\n",
       "      <th>2</th>\n",
       "      <td>502</td>\n",
       "      <td>France</td>\n",
       "      <td>Female</td>\n",
       "      <td>42</td>\n",
       "      <td>8</td>\n",
       "      <td>159660.80</td>\n",
       "      <td>3</td>\n",
       "      <td>1</td>\n",
       "      <td>0</td>\n",
       "      <td>113931.57</td>\n",
       "      <td>1</td>\n",
       "    </tr>\n",
       "    <tr>\n",
       "      <th>3</th>\n",
       "      <td>699</td>\n",
       "      <td>France</td>\n",
       "      <td>Female</td>\n",
       "      <td>39</td>\n",
       "      <td>1</td>\n",
       "      <td>0.00</td>\n",
       "      <td>2</td>\n",
       "      <td>0</td>\n",
       "      <td>0</td>\n",
       "      <td>93826.63</td>\n",
       "      <td>0</td>\n",
       "    </tr>\n",
       "    <tr>\n",
       "      <th>4</th>\n",
       "      <td>850</td>\n",
       "      <td>Spain</td>\n",
       "      <td>Female</td>\n",
       "      <td>43</td>\n",
       "      <td>2</td>\n",
       "      <td>125510.82</td>\n",
       "      <td>1</td>\n",
       "      <td>1</td>\n",
       "      <td>1</td>\n",
       "      <td>79084.10</td>\n",
       "      <td>0</td>\n",
       "    </tr>\n",
       "  </tbody>\n",
       "</table>\n",
       "</div>"
      ],
      "text/plain": [
       "   CreditScore Geography  Gender  Age  Tenure    Balance  NumOfProducts  \\\n",
       "0          619    France  Female   42       2       0.00              1   \n",
       "1          608     Spain  Female   41       1   83807.86              1   \n",
       "2          502    France  Female   42       8  159660.80              3   \n",
       "3          699    France  Female   39       1       0.00              2   \n",
       "4          850     Spain  Female   43       2  125510.82              1   \n",
       "\n",
       "   HasCrCard  IsActiveMember  EstimatedSalary  Exited  \n",
       "0          1               1        101348.88       1  \n",
       "1          0               1        112542.58       0  \n",
       "2          1               0        113931.57       1  \n",
       "3          0               0         93826.63       0  \n",
       "4          1               1         79084.10       0  "
      ]
     },
     "execution_count": 7,
     "metadata": {},
     "output_type": "execute_result"
    }
   ],
   "source": [
    "data = data.drop(['RowNumber', 'CustomerId', 'Surname'], axis=1)\n",
    "data.head()"
   ]
  },
  {
   "cell_type": "markdown",
   "metadata": {},
   "source": [
    "Видим, что в столбце, содержаще информацию о поле клиентов, всего два значения. "
   ]
  },
  {
   "cell_type": "code",
   "execution_count": 8,
   "metadata": {},
   "outputs": [
    {
     "data": {
      "text/plain": [
       "array(['Female', 'Male'], dtype=object)"
      ]
     },
     "execution_count": 8,
     "metadata": {},
     "output_type": "execute_result"
    }
   ],
   "source": [
    "data['Gender'].unique()"
   ]
  },
  {
   "cell_type": "markdown",
   "metadata": {},
   "source": [
    "Проверяем количество значений в столбце со страной проживания."
   ]
  },
  {
   "cell_type": "code",
   "execution_count": 9,
   "metadata": {},
   "outputs": [
    {
     "data": {
      "text/plain": [
       "array(['France', 'Spain', 'Germany'], dtype=object)"
      ]
     },
     "execution_count": 9,
     "metadata": {},
     "output_type": "execute_result"
    }
   ],
   "source": [
    "data['Geography'].unique()"
   ]
  },
  {
   "cell_type": "markdown",
   "metadata": {},
   "source": [
    "Их всего 3. Всвязи с этим можем применить прямое кодирование."
   ]
  },
  {
   "cell_type": "code",
   "execution_count": 10,
   "metadata": {},
   "outputs": [
    {
     "data": {
      "text/html": [
       "<div>\n",
       "<style scoped>\n",
       "    .dataframe tbody tr th:only-of-type {\n",
       "        vertical-align: middle;\n",
       "    }\n",
       "\n",
       "    .dataframe tbody tr th {\n",
       "        vertical-align: top;\n",
       "    }\n",
       "\n",
       "    .dataframe thead th {\n",
       "        text-align: right;\n",
       "    }\n",
       "</style>\n",
       "<table border=\"1\" class=\"dataframe\">\n",
       "  <thead>\n",
       "    <tr style=\"text-align: right;\">\n",
       "      <th></th>\n",
       "      <th>CreditScore</th>\n",
       "      <th>Age</th>\n",
       "      <th>Tenure</th>\n",
       "      <th>Balance</th>\n",
       "      <th>NumOfProducts</th>\n",
       "      <th>HasCrCard</th>\n",
       "      <th>IsActiveMember</th>\n",
       "      <th>EstimatedSalary</th>\n",
       "      <th>Exited</th>\n",
       "      <th>Geography_Germany</th>\n",
       "      <th>Geography_Spain</th>\n",
       "      <th>Gender_Male</th>\n",
       "    </tr>\n",
       "  </thead>\n",
       "  <tbody>\n",
       "    <tr>\n",
       "      <th>0</th>\n",
       "      <td>619</td>\n",
       "      <td>42</td>\n",
       "      <td>2</td>\n",
       "      <td>0.00</td>\n",
       "      <td>1</td>\n",
       "      <td>1</td>\n",
       "      <td>1</td>\n",
       "      <td>101348.88</td>\n",
       "      <td>1</td>\n",
       "      <td>0</td>\n",
       "      <td>0</td>\n",
       "      <td>0</td>\n",
       "    </tr>\n",
       "    <tr>\n",
       "      <th>1</th>\n",
       "      <td>608</td>\n",
       "      <td>41</td>\n",
       "      <td>1</td>\n",
       "      <td>83807.86</td>\n",
       "      <td>1</td>\n",
       "      <td>0</td>\n",
       "      <td>1</td>\n",
       "      <td>112542.58</td>\n",
       "      <td>0</td>\n",
       "      <td>0</td>\n",
       "      <td>1</td>\n",
       "      <td>0</td>\n",
       "    </tr>\n",
       "    <tr>\n",
       "      <th>2</th>\n",
       "      <td>502</td>\n",
       "      <td>42</td>\n",
       "      <td>8</td>\n",
       "      <td>159660.80</td>\n",
       "      <td>3</td>\n",
       "      <td>1</td>\n",
       "      <td>0</td>\n",
       "      <td>113931.57</td>\n",
       "      <td>1</td>\n",
       "      <td>0</td>\n",
       "      <td>0</td>\n",
       "      <td>0</td>\n",
       "    </tr>\n",
       "    <tr>\n",
       "      <th>3</th>\n",
       "      <td>699</td>\n",
       "      <td>39</td>\n",
       "      <td>1</td>\n",
       "      <td>0.00</td>\n",
       "      <td>2</td>\n",
       "      <td>0</td>\n",
       "      <td>0</td>\n",
       "      <td>93826.63</td>\n",
       "      <td>0</td>\n",
       "      <td>0</td>\n",
       "      <td>0</td>\n",
       "      <td>0</td>\n",
       "    </tr>\n",
       "    <tr>\n",
       "      <th>4</th>\n",
       "      <td>850</td>\n",
       "      <td>43</td>\n",
       "      <td>2</td>\n",
       "      <td>125510.82</td>\n",
       "      <td>1</td>\n",
       "      <td>1</td>\n",
       "      <td>1</td>\n",
       "      <td>79084.10</td>\n",
       "      <td>0</td>\n",
       "      <td>0</td>\n",
       "      <td>1</td>\n",
       "      <td>0</td>\n",
       "    </tr>\n",
       "  </tbody>\n",
       "</table>\n",
       "</div>"
      ],
      "text/plain": [
       "   CreditScore  Age  Tenure    Balance  NumOfProducts  HasCrCard  \\\n",
       "0          619   42       2       0.00              1          1   \n",
       "1          608   41       1   83807.86              1          0   \n",
       "2          502   42       8  159660.80              3          1   \n",
       "3          699   39       1       0.00              2          0   \n",
       "4          850   43       2  125510.82              1          1   \n",
       "\n",
       "   IsActiveMember  EstimatedSalary  Exited  Geography_Germany  \\\n",
       "0               1        101348.88       1                  0   \n",
       "1               1        112542.58       0                  0   \n",
       "2               0        113931.57       1                  0   \n",
       "3               0         93826.63       0                  0   \n",
       "4               1         79084.10       0                  0   \n",
       "\n",
       "   Geography_Spain  Gender_Male  \n",
       "0                0            0  \n",
       "1                1            0  \n",
       "2                0            0  \n",
       "3                0            0  \n",
       "4                1            0  "
      ]
     },
     "execution_count": 10,
     "metadata": {},
     "output_type": "execute_result"
    }
   ],
   "source": [
    "data = pd.get_dummies(data, drop_first=True)\n",
    "data.head()"
   ]
  },
  {
   "cell_type": "markdown",
   "metadata": {},
   "source": [
    " **Вывод**\n",
    " 1. Данные загружены и изучены\n",
    " 2. Пропущенные значения обнаружены и обработаны\n",
    " 3. Заменён по необходимости тип данных\n",
    " 4. Удалены столбцы, ненужные для дальнейшего анализа и работы\n",
    " 5. Применено прямое кодирование"
   ]
  },
  {
   "cell_type": "markdown",
   "metadata": {},
   "source": [
    "## Исследование задачи"
   ]
  },
  {
   "cell_type": "markdown",
   "metadata": {},
   "source": [
    "Выделяем целевой признак: Exited"
   ]
  },
  {
   "cell_type": "code",
   "execution_count": 11,
   "metadata": {},
   "outputs": [],
   "source": [
    "target = data['Exited']\n",
    "features = data.drop('Exited', axis=1)"
   ]
  },
  {
   "cell_type": "markdown",
   "metadata": {},
   "source": [
    "Разделяем исходные данные на обучающую, валидационную и тестовую выборки. Так как тестовая выборка не спрятана, отделяем 20% для валидационной выборки."
   ]
  },
  {
   "cell_type": "code",
   "execution_count": 12,
   "metadata": {
    "scrolled": true
   },
   "outputs": [
    {
     "name": "stdout",
     "output_type": "stream",
     "text": [
      "(2000, 11)\n",
      "(6000, 11)\n",
      "(2000, 11)\n"
     ]
    }
   ],
   "source": [
    "X, X_test, y, y_test = train_test_split(features, target, test_size=0.2, random_state=123)\n",
    "features_train, features_valid, target_train, target_valid = train_test_split(X, y, test_size=0.25, random_state=12345)\n",
    "print(X_test.shape)\n",
    "print(features_train.shape)\n",
    "print(features_valid.shape)"
   ]
  },
  {
   "cell_type": "markdown",
   "metadata": {},
   "source": [
    "Вывели размеры выборок на экран и получили соотношение 3:1:1"
   ]
  },
  {
   "cell_type": "markdown",
   "metadata": {},
   "source": [
    "Подсчитаем классы в целевом признаке и построим диаграмму для наглядности.\n",
    "Видим, что почти 20% клиентов уходят."
   ]
  },
  {
   "cell_type": "code",
   "execution_count": 13,
   "metadata": {
    "scrolled": true
   },
   "outputs": [
    {
     "name": "stdout",
     "output_type": "stream",
     "text": [
      "0    7963\n",
      "1    2037\n",
      "Name: Exited, dtype: int64\n"
     ]
    },
    {
     "data": {
      "text/plain": [
       "<AxesSubplot:title={'center':'Факт ухода клиента'}>"
      ]
     },
     "execution_count": 13,
     "metadata": {},
     "output_type": "execute_result"
    },
    {
     "data": {
      "image/png": "[encoded data removed]",
      "text/plain": [
       "<Figure size 432x288 with 1 Axes>"
      ]
     },
     "metadata": {
      "needs_background": "light"
     },
     "output_type": "display_data"
    }
   ],
   "source": [
    "class_frequency = data['Exited'].value_counts()\n",
    "print(class_frequency)\n",
    "class_frequency.plot(kind='bar', title = 'Факт ухода клиента')"
   ]
  },
  {
   "cell_type": "markdown",
   "metadata": {},
   "source": [
    "**Дерево решений**"
   ]
  },
  {
   "cell_type": "markdown",
   "metadata": {},
   "source": [
    "Обучим модель и проанализируем классы."
   ]
  },
  {
   "cell_type": "code",
   "execution_count": 14,
   "metadata": {},
   "outputs": [
    {
     "name": "stdout",
     "output_type": "stream",
     "text": [
      "0    1541\n",
      "1     459\n",
      "dtype: int64\n"
     ]
    },
    {
     "data": {
      "text/plain": [
       "<AxesSubplot:>"
      ]
     },
     "execution_count": 14,
     "metadata": {},
     "output_type": "execute_result"
    },
    {
     "data": {
      "image/png": "[encoded data removed]",
      "text/plain": [
       "<Figure size 432x288 with 1 Axes>"
      ]
     },
     "metadata": {
      "needs_background": "light"
     },
     "output_type": "display_data"
    }
   ],
   "source": [
    "model = DecisionTreeClassifier(random_state=12345)\n",
    "model.fit(features_train, target_train)\n",
    " \n",
    "predicted_valid = pd.Series(model.predict(features_valid))\n",
    "\n",
    "class_frequency = predicted_valid.value_counts()\n",
    "print(class_frequency)\n",
    "class_frequency.plot(kind='bar')"
   ]
  },
  {
   "cell_type": "markdown",
   "metadata": {},
   "source": [
    "Практически ничего не изменилось. Наблюдается дисбаланс классов, примерно 4:1\n",
    "\n",
    "Рассчитываем f1и auc_roc"
   ]
  },
  {
   "cell_type": "code",
   "execution_count": 15,
   "metadata": {},
   "outputs": [
    {
     "data": {
      "text/plain": [
       "0.47652582159624407"
      ]
     },
     "execution_count": 15,
     "metadata": {},
     "output_type": "execute_result"
    }
   ],
   "source": [
    "f1 = f1_score(target_valid, predicted_valid)\n",
    "f1"
   ]
  },
  {
   "cell_type": "code",
   "execution_count": 16,
   "metadata": {},
   "outputs": [
    {
     "data": {
      "text/plain": [
       "0.6786181955218186"
      ]
     },
     "execution_count": 16,
     "metadata": {},
     "output_type": "execute_result"
    }
   ],
   "source": [
    "probabilities_valid = model.predict_proba(features_valid)\n",
    "probabilities_one_valid = probabilities_valid[:, 1]\n",
    "\n",
    "auc_roc = roc_auc_score(target_valid, probabilities_one_valid) \n",
    "\n",
    "auc_roc"
   ]
  },
  {
   "cell_type": "markdown",
   "metadata": {},
   "source": [
    "Метрика f1 меньше необходимой, auc_roc также далека от хорошего значения."
   ]
  },
  {
   "cell_type": "markdown",
   "metadata": {},
   "source": [
    "**Случайный лес**"
   ]
  },
  {
   "cell_type": "markdown",
   "metadata": {},
   "source": [
    "Обучим модель и рассмотрим метрику f1"
   ]
  },
  {
   "cell_type": "code",
   "execution_count": 17,
   "metadata": {},
   "outputs": [
    {
     "data": {
      "text/plain": [
       "0.565149136577708"
      ]
     },
     "execution_count": 17,
     "metadata": {},
     "output_type": "execute_result"
    }
   ],
   "source": [
    "model = RandomForestClassifier(n_estimators=150, random_state=12345)\n",
    "model.fit(features_train, target_train) \n",
    "predicted_valid = model.predict(features_valid)\n",
    "\n",
    "f1 = f1_score(target_valid, predicted_valid)\n",
    "f1\n"
   ]
  },
  {
   "cell_type": "code",
   "execution_count": 18,
   "metadata": {},
   "outputs": [
    {
     "data": {
      "text/plain": [
       "0.8413643553727252"
      ]
     },
     "execution_count": 18,
     "metadata": {},
     "output_type": "execute_result"
    }
   ],
   "source": [
    "probabilities_valid = model.predict_proba(features_valid)\n",
    "probabilities_one_valid = probabilities_valid[:, 1]\n",
    "\n",
    "auc_roc = roc_auc_score(target_valid, probabilities_one_valid) \n",
    "auc_roc"
   ]
  },
  {
   "cell_type": "markdown",
   "metadata": {},
   "source": [
    "Метрика f1 меньше необходимой, но лучше, чем при применении решающего дерева.\n",
    "\n",
    "auc_roc лучше, чем при применении решающего дерева."
   ]
  },
  {
   "cell_type": "markdown",
   "metadata": {},
   "source": [
    "**Логистическая регрессия**"
   ]
  },
  {
   "cell_type": "code",
   "execution_count": 19,
   "metadata": {},
   "outputs": [
    {
     "data": {
      "text/plain": [
       "0.565149136577708"
      ]
     },
     "execution_count": 19,
     "metadata": {},
     "output_type": "execute_result"
    }
   ],
   "source": [
    "model = LogisticRegression(random_state=12345)\n",
    "model.fit(features_train, target_train) \n",
    "predictions_valid = model.predict(features_valid)\n",
    "\n",
    "f1 = f1_score(target_valid, predicted_valid)\n",
    "f1"
   ]
  },
  {
   "cell_type": "code",
   "execution_count": 20,
   "metadata": {},
   "outputs": [
    {
     "data": {
      "text/plain": [
       "0.5965345633210937"
      ]
     },
     "execution_count": 20,
     "metadata": {},
     "output_type": "execute_result"
    }
   ],
   "source": [
    "probabilities_valid = model.predict_proba(features_valid)\n",
    "probabilities_one_valid = probabilities_valid[:, 1]\n",
    "\n",
    "auc_roc = roc_auc_score(target_valid, probabilities_one_valid) \n",
    "auc_roc"
   ]
  },
  {
   "cell_type": "markdown",
   "metadata": {},
   "source": [
    "Метрика f1 меньше необходимой.\n",
    "\n",
    "auc_roc самая низкая."
   ]
  },
  {
   "cell_type": "markdown",
   "metadata": {},
   "source": [
    "**Вывод**\n",
    "\n",
    "1. Исходные данные разделены на обучающую, валидационную и тестовую выборки в соотношении 3:1:1 \n",
    "2. Обучены модели \"Решающее Дерево\", \"Случайный лес\", \"Логистическая Регрессия\" без учёта дисбаланса классов. \n",
    "3. Максимальное значение метрики f1 = 0.56 получено при обучении модели случайного леса и логистической регрессии.  Качество моделей не удовлетворяет условию технического задания.\n",
    "4. Качество моделей также оценено по метрике roc_auc. Максимальное значение метрики roc_auc = 0.82 достигнуто при обучении модели случайного леса."
   ]
  },
  {
   "cell_type": "markdown",
   "metadata": {},
   "source": [
    "## Борьба с дисбалансом"
   ]
  },
  {
   "cell_type": "markdown",
   "metadata": {},
   "source": [
    "**Взвешивание классов**"
   ]
  },
  {
   "cell_type": "code",
   "execution_count": 21,
   "metadata": {},
   "outputs": [
    {
     "name": "stdout",
     "output_type": "stream",
     "text": [
      "F1: 0.5115712545676004\n"
     ]
    }
   ],
   "source": [
    "model = DecisionTreeClassifier(random_state=12345,  class_weight ='balanced' )\n",
    "model.fit(features_train, target_train)\n",
    "predicted_valid = model.predict(features_valid)\n",
    "print(\"F1:\", f1_score(target_valid, predicted_valid))"
   ]
  },
  {
   "cell_type": "code",
   "execution_count": 22,
   "metadata": {},
   "outputs": [
    {
     "name": "stdout",
     "output_type": "stream",
     "text": [
      "F1: 0.4377478191911182\n"
     ]
    }
   ],
   "source": [
    "model = LogisticRegression(random_state=12345, solver='liblinear', class_weight ='balanced' )\n",
    "model.fit(features_train, target_train)\n",
    "predicted_valid = model.predict(features_valid)\n",
    "print(\"F1:\", f1_score(target_valid, predicted_valid))"
   ]
  },
  {
   "cell_type": "code",
   "execution_count": 23,
   "metadata": {},
   "outputs": [
    {
     "name": "stdout",
     "output_type": "stream",
     "text": [
      "F1: 0.5439739413680781\n"
     ]
    }
   ],
   "source": [
    "model = RandomForestClassifier(random_state=12345,  class_weight ='balanced' )\n",
    "model.fit(features_train, target_train)\n",
    "predicted_valid = model.predict(features_valid)\n",
    "print(\"F1:\", f1_score(target_valid, predicted_valid))"
   ]
  },
  {
   "cell_type": "markdown",
   "metadata": {},
   "source": [
    "Взвешивание классов не дало улучшений."
   ]
  },
  {
   "cell_type": "markdown",
   "metadata": {},
   "source": [
    "**Увеличение и уменьшение выборки**"
   ]
  },
  {
   "cell_type": "markdown",
   "metadata": {},
   "source": [
    "Так как наилучшие значения показала модель \"Случайный лес\", на ней и будем проверять результат увеличения и уменьшения выборки"
   ]
  },
  {
   "cell_type": "code",
   "execution_count": 24,
   "metadata": {},
   "outputs": [],
   "source": [
    "def upsample(features, target, repeat):\n",
    "\n",
    "    features_zeros = features[target == 0]\n",
    "    features_ones = features[target == 1]\n",
    "    target_zeros = target[target == 0]\n",
    "    target_ones = target[target == 1]\n",
    "    \n",
    "    features_upsampled = pd.concat([features_zeros] + [features_ones] * repeat)\n",
    "    target_upsampled = pd.concat([target_zeros] + [target_ones] * repeat)\n",
    "    \n",
    "    features_upsampled, target_upsampled = shuffle(\n",
    "        features_upsampled, target_upsampled, random_state=12345)\n",
    "    return features_upsampled, target_upsampled"
   ]
  },
  {
   "cell_type": "code",
   "execution_count": 25,
   "metadata": {},
   "outputs": [],
   "source": [
    "def downsample(features, target, fraction):\n",
    "    features_zeros = features[target == 0]\n",
    "    features_ones = features[target == 1]\n",
    "    target_zeros = target[target == 0]\n",
    "    target_ones = target[target == 1]\n",
    "    \n",
    "    features_downsampled = pd.concat(\n",
    "        [features_zeros.sample(frac=fraction, random_state=12345)] + [features_ones])\n",
    "    target_downsampled = pd.concat(\n",
    "        [target_zeros.sample(frac=fraction, random_state=12345)] + [target_ones])\n",
    "    \n",
    "    features_downsampled, target_downsampled = shuffle(\n",
    "        features_downsampled, target_downsampled, random_state=12345)\n",
    "    return features_downsampled, target_downsampled"
   ]
  },
  {
   "cell_type": "code",
   "execution_count": 26,
   "metadata": {},
   "outputs": [],
   "source": [
    "X_train_upsampled, y_train_upsampled = upsample(features_train, target_train, 2)\n",
    "X_train_balanced, y_train_balanced = downsample(X_train_upsampled, y_train_upsampled, 0.75)"
   ]
  },
  {
   "cell_type": "code",
   "execution_count": 27,
   "metadata": {},
   "outputs": [
    {
     "name": "stdout",
     "output_type": "stream",
     "text": [
      "F1: 0.594900849858357\n"
     ]
    }
   ],
   "source": [
    "model = RandomForestClassifier(random_state=12345, n_estimators = 33, max_depth = 12)\n",
    "model.fit(X_train_upsampled, y_train_upsampled)\n",
    "predicted_valid = model.predict(features_valid)\n",
    "print(\"F1:\", f1_score(target_valid, predicted_valid))"
   ]
  },
  {
   "cell_type": "code",
   "execution_count": 28,
   "metadata": {},
   "outputs": [
    {
     "data": {
      "text/plain": [
       "0.8357614824455982"
      ]
     },
     "execution_count": 28,
     "metadata": {},
     "output_type": "execute_result"
    }
   ],
   "source": [
    "probabilities_valid = model.predict_proba(features_valid)\n",
    "probabilities_one_valid = probabilities_valid[:, 1]\n",
    "\n",
    "auc_roc = roc_auc_score(target_valid, probabilities_one_valid) \n",
    "auc_roc"
   ]
  },
  {
   "cell_type": "code",
   "execution_count": 29,
   "metadata": {},
   "outputs": [
    {
     "name": "stdout",
     "output_type": "stream",
     "text": [
      "F1: 0.5984251968503937\n"
     ]
    }
   ],
   "source": [
    "model = RandomForestClassifier(random_state=12345, n_estimators = 33, max_depth = 12)\n",
    "model.fit(X_train_balanced, y_train_balanced)\n",
    "predicted_valid = model.predict(features_valid)\n",
    "print(\"F1:\", f1_score(target_valid, predicted_valid))"
   ]
  },
  {
   "cell_type": "code",
   "execution_count": 30,
   "metadata": {},
   "outputs": [
    {
     "data": {
      "text/plain": [
       "0.851474386074917"
      ]
     },
     "execution_count": 30,
     "metadata": {},
     "output_type": "execute_result"
    }
   ],
   "source": [
    "probabilities_valid = model.predict_proba(features_valid)\n",
    "probabilities_one_valid = probabilities_valid[:, 1]\n",
    "\n",
    "auc_roc = roc_auc_score(target_valid, probabilities_one_valid) \n",
    "auc_roc"
   ]
  },
  {
   "cell_type": "markdown",
   "metadata": {},
   "source": [
    "**Вывод**\n",
    "\n",
    "Мы получили метрику f1>59 при увеличении и уменьшении выборки.\n",
    "\n",
    "Наилучший результат мы получили при уменьшении выборки: f1=0.598, auc=0.85 (что близко к единице и является хорошим показателем)"
   ]
  },
  {
   "cell_type": "markdown",
   "metadata": {},
   "source": [
    "Изучим также другие модели"
   ]
  },
  {
   "cell_type": "code",
   "execution_count": 31,
   "metadata": {},
   "outputs": [
    {
     "name": "stdout",
     "output_type": "stream",
     "text": [
      "F1: 0.4904761904761905\n"
     ]
    }
   ],
   "source": [
    "model = DecisionTreeClassifier(random_state=12345)\n",
    "model.fit(X_train_upsampled, y_train_upsampled)\n",
    "predicted_valid = model.predict(features_valid)\n",
    "print(\"F1:\", f1_score(target_valid, predicted_valid))"
   ]
  },
  {
   "cell_type": "code",
   "execution_count": 32,
   "metadata": {},
   "outputs": [
    {
     "name": "stdout",
     "output_type": "stream",
     "text": [
      "F1: 0.5028312570781427\n"
     ]
    }
   ],
   "source": [
    "model = DecisionTreeClassifier(random_state=12345)\n",
    "model.fit(X_train_balanced, y_train_balanced)\n",
    "predicted_valid = model.predict(features_valid)\n",
    "print(\"F1:\", f1_score(target_valid, predicted_valid))"
   ]
  },
  {
   "cell_type": "code",
   "execution_count": 33,
   "metadata": {},
   "outputs": [
    {
     "name": "stdout",
     "output_type": "stream",
     "text": [
      "F1: 0.3385490753911806\n"
     ]
    }
   ],
   "source": [
    "model = LogisticRegression(random_state=12345)\n",
    "model.fit(X_train_upsampled, y_train_upsampled)\n",
    "predicted_valid = model.predict(features_valid)\n",
    "print(\"F1:\", f1_score(target_valid, predicted_valid))"
   ]
  },
  {
   "cell_type": "code",
   "execution_count": 34,
   "metadata": {},
   "outputs": [
    {
     "name": "stdout",
     "output_type": "stream",
     "text": [
      "F1: 0.4087912087912088\n"
     ]
    }
   ],
   "source": [
    "model = LogisticRegression(random_state=12345)\n",
    "model.fit(X_train_balanced, y_train_balanced)\n",
    "predicted_valid = model.predict(features_valid)\n",
    "print(\"F1:\", f1_score(target_valid, predicted_valid))"
   ]
  },
  {
   "cell_type": "markdown",
   "metadata": {},
   "source": [
    "Значения f1 не удовлетворяют условию."
   ]
  },
  {
   "cell_type": "markdown",
   "metadata": {},
   "source": [
    "## Тестирование модели"
   ]
  },
  {
   "cell_type": "markdown",
   "metadata": {},
   "source": [
    "**Случайный лес**"
   ]
  },
  {
   "cell_type": "code",
   "execution_count": 35,
   "metadata": {},
   "outputs": [
    {
     "name": "stdout",
     "output_type": "stream",
     "text": [
      "0.6323353293413173\n",
      "0.7693449933293126\n"
     ]
    }
   ],
   "source": [
    "X_upsampled, y_upsampled = upsample(X, y, 2)\n",
    "X_balanced, y_balanced = downsample(X_upsampled, y_upsampled, 0.75)\n",
    "model_final_1 = RandomForestClassifier(random_state=123,\n",
    "                                         n_estimators=33,\n",
    "                                         max_depth=12)\n",
    "                                         \n",
    "model_final_1.fit(X_balanced, y_balanced)\n",
    "predictions = model_final_1.predict(X_test)\n",
    "f1 = f1_score(y_test, predictions)\n",
    "roc_auc = roc_auc_score(y_test, predictions)\n",
    "print(f1)\n",
    "print(roc_auc)\n"
   ]
  },
  {
   "cell_type": "markdown",
   "metadata": {},
   "source": [
    "**Дерево решений**"
   ]
  },
  {
   "cell_type": "code",
   "execution_count": 36,
   "metadata": {},
   "outputs": [
    {
     "name": "stdout",
     "output_type": "stream",
     "text": [
      "0.6233230134158927\n",
      "0.784973895986013\n"
     ]
    }
   ],
   "source": [
    "X_upsampled, y_upsampled = upsample(X, y, 2)\n",
    "X_balanced, y_balanced = downsample(X_upsampled, y_upsampled, 0.55)\n",
    "model_final_2 = DecisionTreeClassifier(random_state=123,\n",
    "                                         max_depth=8)\n",
    "model_final_2.fit(X_balanced, y_balanced)\n",
    "predictions = model_final_2.predict(X_test)\n",
    "f1 = f1_score(y_test, predictions)\n",
    "roc_auc = roc_auc_score(y_test, predictions)\n",
    "\n",
    "print(f1)\n",
    "print(roc_auc)"
   ]
  },
  {
   "cell_type": "markdown",
   "metadata": {},
   "source": [
    "**Логистическая регрессия**"
   ]
  },
  {
   "cell_type": "code",
   "execution_count": 37,
   "metadata": {},
   "outputs": [
    {
     "name": "stdout",
     "output_type": "stream",
     "text": [
      "0.45128205128205123\n",
      "0.6637333918160718\n"
     ]
    }
   ],
   "source": [
    "X_upsampled, y_upsampled = upsample(X, y, 2)\n",
    "X_balanced, y_balanced = downsample(X_upsampled, y_upsampled, 0.55)\n",
    "model_final_3 = LogisticRegression(random_state=12345)\n",
    "model_final_3.fit(X_balanced, y_balanced)\n",
    "predictions = model_final_3.predict(X_test)\n",
    "f1 = f1_score(y_test, predictions)\n",
    "roc_auc = roc_auc_score(y_test, predictions)\n",
    "\n",
    "print(f1)\n",
    "print(roc_auc)"
   ]
  },
  {
   "cell_type": "markdown",
   "metadata": {},
   "source": [
    "**Вывод**\n",
    "\n",
    "1. Необходимое начение метрики f1 на тестовой выборке было достигнуто на двух моделях:\n",
    "Случайный лес f1 = 0.63 roc_auc = 0.77\n",
    "Решающее дерево f1 = 0.62 roc_auc = 0.78\n",
    "\n",
    "2. Метрика f1 выше у модели Случайный лес, а roc_auc выше у Решающего дерева."
   ]
  },
  {
   "cell_type": "markdown",
   "metadata": {},
   "source": [
    "## Общий вывод\n",
    "\n",
    "1. Данные изучены и обработаны для дальнейшей работы\n",
    "2. Данные разделены на обучающую, валидационную и тестовую выборки в соотношении 3:1:1 \n",
    "3. Изучены модели без учёта дисбаланса классов. Необходимая метрика f1 достигнута не была.\n",
    "4. Был учтён дисбаланс классов и применены разные способы борьбы с ним. Необходимая метрика f1 была достигнута (0.6)\n",
    "5. Проведено финальное тестирование модели: метрика f1=0.63 и f1=0.62 была достигнута на моделях случайного леса и дерева решений. При этом roc_auc выше у дерева решений."
   ]
  }
 ],
 "metadata": {
  "ExecuteTimeLog": [
   {
    "duration": 591,
    "start_time": "2021-11-04T13:59:32.879Z"
   },
   {
    "duration": 48,
    "start_time": "2021-11-04T13:59:33.472Z"
   },
   {
    "duration": 41,
    "start_time": "2021-11-04T14:01:17.668Z"
   },
   {
    "duration": 10,
    "start_time": "2021-11-04T14:01:30.940Z"
   },
   {
    "duration": 373,
    "start_time": "2021-11-04T14:09:14.018Z"
   },
   {
    "duration": 16,
    "start_time": "2021-11-04T14:10:05.487Z"
   },
   {
    "duration": 9,
    "start_time": "2021-11-04T14:10:27.291Z"
   },
   {
    "duration": 7,
    "start_time": "2021-11-04T14:10:41.648Z"
   },
   {
    "duration": 43,
    "start_time": "2021-11-04T14:12:05.774Z"
   },
   {
    "duration": 13,
    "start_time": "2021-11-04T14:13:29.004Z"
   },
   {
    "duration": 8,
    "start_time": "2021-11-04T14:13:38.194Z"
   },
   {
    "duration": 12,
    "start_time": "2021-11-04T14:13:45.323Z"
   },
   {
    "duration": 84,
    "start_time": "2021-11-04T14:14:24.786Z"
   },
   {
    "duration": 12,
    "start_time": "2021-11-04T14:14:33.632Z"
   },
   {
    "duration": 14,
    "start_time": "2021-11-04T14:18:04.682Z"
   },
   {
    "duration": 481,
    "start_time": "2021-11-04T14:19:39.601Z"
   },
   {
    "duration": 12,
    "start_time": "2021-11-04T14:22:29.707Z"
   },
   {
    "duration": 7,
    "start_time": "2021-11-04T14:24:46.461Z"
   },
   {
    "duration": 11,
    "start_time": "2021-11-04T14:25:44.296Z"
   },
   {
    "duration": 6,
    "start_time": "2021-11-04T14:25:57.260Z"
   },
   {
    "duration": 11,
    "start_time": "2021-11-04T14:26:07.435Z"
   },
   {
    "duration": 8,
    "start_time": "2021-11-04T14:26:19.655Z"
   },
   {
    "duration": 213,
    "start_time": "2021-11-04T14:28:08.624Z"
   },
   {
    "duration": 334,
    "start_time": "2021-11-04T14:28:40.162Z"
   },
   {
    "duration": 262,
    "start_time": "2021-11-04T14:28:42.855Z"
   },
   {
    "duration": 13,
    "start_time": "2021-11-04T14:28:50.481Z"
   },
   {
    "duration": 314,
    "start_time": "2021-11-04T14:28:52.088Z"
   },
   {
    "duration": 2,
    "start_time": "2021-11-04T14:29:01.452Z"
   },
   {
    "duration": 44,
    "start_time": "2021-11-04T14:29:02.762Z"
   },
   {
    "duration": 9,
    "start_time": "2021-11-04T14:29:03.882Z"
   },
   {
    "duration": 7,
    "start_time": "2021-11-04T14:29:04.637Z"
   },
   {
    "duration": 8,
    "start_time": "2021-11-04T14:29:05.058Z"
   },
   {
    "duration": 12,
    "start_time": "2021-11-04T14:29:05.805Z"
   },
   {
    "duration": 14,
    "start_time": "2021-11-04T14:29:06.778Z"
   },
   {
    "duration": 21,
    "start_time": "2021-11-04T14:29:09.392Z"
   },
   {
    "duration": 284,
    "start_time": "2021-11-04T14:31:42.532Z"
   },
   {
    "duration": 3,
    "start_time": "2021-11-04T14:31:46.962Z"
   },
   {
    "duration": 42,
    "start_time": "2021-11-04T14:31:47.316Z"
   },
   {
    "duration": 10,
    "start_time": "2021-11-04T14:31:47.645Z"
   },
   {
    "duration": 8,
    "start_time": "2021-11-04T14:31:48.012Z"
   },
   {
    "duration": 12,
    "start_time": "2021-11-04T14:31:48.237Z"
   },
   {
    "duration": 14,
    "start_time": "2021-11-04T14:31:48.674Z"
   },
   {
    "duration": 14,
    "start_time": "2021-11-04T14:31:49.162Z"
   },
   {
    "duration": 21,
    "start_time": "2021-11-04T14:31:58.624Z"
   },
   {
    "duration": 20,
    "start_time": "2021-11-04T14:32:10.862Z"
   },
   {
    "duration": 18,
    "start_time": "2021-11-04T14:32:18.984Z"
   },
   {
    "duration": 303,
    "start_time": "2021-11-04T14:32:52.948Z"
   },
   {
    "duration": 6766,
    "start_time": "2021-11-04T14:33:15.455Z"
   },
   {
    "duration": -739,
    "start_time": "2021-11-04T14:33:22.962Z"
   },
   {
    "duration": 6425,
    "start_time": "2021-11-04T14:33:38.307Z"
   },
   {
    "duration": 2,
    "start_time": "2021-11-04T14:34:09.272Z"
   },
   {
    "duration": 41,
    "start_time": "2021-11-04T14:34:09.819Z"
   },
   {
    "duration": 9,
    "start_time": "2021-11-04T14:34:10.265Z"
   },
   {
    "duration": 8,
    "start_time": "2021-11-04T14:34:10.669Z"
   },
   {
    "duration": 9,
    "start_time": "2021-11-04T14:34:10.845Z"
   },
   {
    "duration": 13,
    "start_time": "2021-11-04T14:34:11.274Z"
   },
   {
    "duration": 12,
    "start_time": "2021-11-04T14:34:11.674Z"
   },
   {
    "duration": 5,
    "start_time": "2021-11-04T14:34:12.010Z"
   },
   {
    "duration": 19,
    "start_time": "2021-11-04T14:34:12.242Z"
   },
   {
    "duration": 20,
    "start_time": "2021-11-04T14:36:33.200Z"
   },
   {
    "duration": 11,
    "start_time": "2021-11-04T14:36:38.437Z"
   },
   {
    "duration": 282,
    "start_time": "2021-11-04T14:39:56.555Z"
   },
   {
    "duration": 275,
    "start_time": "2021-11-04T14:45:21.822Z"
   },
   {
    "duration": 5,
    "start_time": "2021-11-04T14:45:28.053Z"
   },
   {
    "duration": 291,
    "start_time": "2021-11-04T14:45:29.638Z"
   },
   {
    "duration": 274,
    "start_time": "2021-11-04T14:45:47.217Z"
   },
   {
    "duration": 11,
    "start_time": "2021-11-04T14:47:28.867Z"
   },
   {
    "duration": 1287,
    "start_time": "2021-11-05T15:56:45.038Z"
   },
   {
    "duration": 68,
    "start_time": "2021-11-05T15:56:48.680Z"
   },
   {
    "duration": 12,
    "start_time": "2021-11-05T15:56:49.564Z"
   },
   {
    "duration": 10,
    "start_time": "2021-11-05T15:56:49.949Z"
   },
   {
    "duration": 11,
    "start_time": "2021-11-05T15:56:50.125Z"
   },
   {
    "duration": 21,
    "start_time": "2021-11-05T15:56:50.499Z"
   },
   {
    "duration": 21,
    "start_time": "2021-11-05T15:56:50.842Z"
   },
   {
    "duration": 7,
    "start_time": "2021-11-05T15:56:51.223Z"
   },
   {
    "duration": 32,
    "start_time": "2021-11-05T15:56:51.609Z"
   },
   {
    "duration": 7,
    "start_time": "2021-11-05T15:56:52.150Z"
   },
   {
    "duration": 14,
    "start_time": "2021-11-05T15:56:52.513Z"
   },
   {
    "duration": 326,
    "start_time": "2021-11-05T15:58:11.439Z"
   },
   {
    "duration": 404,
    "start_time": "2021-11-05T16:03:11.395Z"
   },
   {
    "duration": 38,
    "start_time": "2021-11-05T16:03:26.815Z"
   },
   {
    "duration": 252,
    "start_time": "2021-11-05T16:03:30.538Z"
   },
   {
    "duration": 274,
    "start_time": "2021-11-05T16:12:10.463Z"
   },
   {
    "duration": 4,
    "start_time": "2021-11-05T16:12:31.228Z"
   },
   {
    "duration": 273,
    "start_time": "2021-11-05T16:12:36.044Z"
   },
   {
    "duration": 253,
    "start_time": "2021-11-05T16:16:46.299Z"
   },
   {
    "duration": 5,
    "start_time": "2021-11-05T16:16:54.440Z"
   },
   {
    "duration": 8,
    "start_time": "2021-11-05T16:17:00.932Z"
   },
   {
    "duration": 9,
    "start_time": "2021-11-05T16:17:08.290Z"
   },
   {
    "duration": 5,
    "start_time": "2021-11-05T16:21:01.800Z"
   },
   {
    "duration": 8,
    "start_time": "2021-11-05T16:22:14.560Z"
   },
   {
    "duration": 11,
    "start_time": "2021-11-05T16:22:15.244Z"
   },
   {
    "duration": 14,
    "start_time": "2021-11-05T16:30:19.042Z"
   },
   {
    "duration": 4765,
    "start_time": "2021-11-05T16:33:03.704Z"
   },
   {
    "duration": 27,
    "start_time": "2021-11-05T16:35:28.278Z"
   },
   {
    "duration": 4596,
    "start_time": "2021-11-05T16:36:14.769Z"
   },
   {
    "duration": 28,
    "start_time": "2021-11-05T16:36:19.368Z"
   },
   {
    "duration": 120,
    "start_time": "2021-11-05T16:36:19.400Z"
   },
   {
    "duration": 4812,
    "start_time": "2021-11-05T16:37:46.503Z"
   },
   {
    "duration": 322,
    "start_time": "2021-11-05T16:38:58.101Z"
   },
   {
    "duration": 32,
    "start_time": "2021-11-05T16:39:02.023Z"
   },
   {
    "duration": 5,
    "start_time": "2021-11-05T16:42:07.010Z"
   },
   {
    "duration": 135,
    "start_time": "2021-11-05T16:42:11.394Z"
   },
   {
    "duration": 15,
    "start_time": "2021-11-05T16:42:25.201Z"
   },
   {
    "duration": 266,
    "start_time": "2021-11-05T16:42:39.439Z"
   },
   {
    "duration": 8,
    "start_time": "2021-11-05T16:42:41.913Z"
   },
   {
    "duration": 10,
    "start_time": "2021-11-05T16:42:42.997Z"
   },
   {
    "duration": 323,
    "start_time": "2021-11-05T16:42:45.407Z"
   },
   {
    "duration": 33,
    "start_time": "2021-11-05T16:42:48.227Z"
   },
   {
    "duration": 56,
    "start_time": "2021-11-05T16:42:50.909Z"
   },
   {
    "duration": 60,
    "start_time": "2021-11-05T16:42:54.171Z"
   },
   {
    "duration": 14,
    "start_time": "2021-11-05T16:43:42.278Z"
   },
   {
    "duration": 336,
    "start_time": "2021-11-05T16:43:48.155Z"
   },
   {
    "duration": 31,
    "start_time": "2021-11-05T16:43:50.001Z"
   },
   {
    "duration": 108,
    "start_time": "2021-11-05T16:43:55.523Z"
   },
   {
    "duration": 17,
    "start_time": "2021-11-05T16:43:56.691Z"
   },
   {
    "duration": 327,
    "start_time": "2021-11-05T16:46:18.709Z"
   },
   {
    "duration": 29,
    "start_time": "2021-11-05T16:46:22.634Z"
   },
   {
    "duration": 204,
    "start_time": "2021-11-05T16:46:24.824Z"
   },
   {
    "duration": 19,
    "start_time": "2021-11-05T16:46:33.430Z"
   },
   {
    "duration": 259,
    "start_time": "2021-11-05T17:05:05.014Z"
   },
   {
    "duration": 53,
    "start_time": "2021-11-05T17:05:12.298Z"
   },
   {
    "duration": 12,
    "start_time": "2021-11-05T17:06:19.607Z"
   },
   {
    "duration": 112,
    "start_time": "2021-11-05T17:07:39.618Z"
   },
   {
    "duration": 122,
    "start_time": "2021-11-05T17:08:02.848Z"
   },
   {
    "duration": 94,
    "start_time": "2021-11-05T17:09:08.618Z"
   },
   {
    "duration": 428,
    "start_time": "2021-11-05T17:10:42.259Z"
   },
   {
    "duration": 5,
    "start_time": "2021-11-05T17:11:01.540Z"
   },
   {
    "duration": 190,
    "start_time": "2021-11-05T17:11:05.947Z"
   },
   {
    "duration": 47,
    "start_time": "2021-11-05T17:15:06.505Z"
   },
   {
    "duration": 4,
    "start_time": "2021-11-05T17:15:42.510Z"
   },
   {
    "duration": 58,
    "start_time": "2021-11-05T17:15:42.964Z"
   },
   {
    "duration": 11,
    "start_time": "2021-11-05T17:15:43.307Z"
   },
   {
    "duration": 9,
    "start_time": "2021-11-05T17:15:43.697Z"
   },
   {
    "duration": 11,
    "start_time": "2021-11-05T17:15:43.864Z"
   },
   {
    "duration": 19,
    "start_time": "2021-11-05T17:15:44.287Z"
   },
   {
    "duration": 24,
    "start_time": "2021-11-05T17:15:44.714Z"
   },
   {
    "duration": 6,
    "start_time": "2021-11-05T17:15:45.091Z"
   },
   {
    "duration": 35,
    "start_time": "2021-11-05T17:15:45.532Z"
   },
   {
    "duration": 7,
    "start_time": "2021-11-05T17:15:46.369Z"
   },
   {
    "duration": 18,
    "start_time": "2021-11-05T17:15:46.823Z"
   },
   {
    "duration": 253,
    "start_time": "2021-11-05T17:15:47.497Z"
   },
   {
    "duration": 281,
    "start_time": "2021-11-05T17:15:48.542Z"
   },
   {
    "duration": 8,
    "start_time": "2021-11-05T17:15:50.247Z"
   },
   {
    "duration": 13,
    "start_time": "2021-11-05T17:15:52.619Z"
   },
   {
    "duration": 352,
    "start_time": "2021-11-05T17:15:54.205Z"
   },
   {
    "duration": 26,
    "start_time": "2021-11-05T17:15:55.947Z"
   },
   {
    "duration": 62,
    "start_time": "2021-11-05T17:15:58.672Z"
   },
   {
    "duration": 14,
    "start_time": "2021-11-05T17:16:00.401Z"
   },
   {
    "duration": 53,
    "start_time": "2021-11-05T17:16:02.832Z"
   },
   {
    "duration": 86,
    "start_time": "2021-11-05T17:16:04.146Z"
   },
   {
    "duration": 132,
    "start_time": "2021-11-05T17:16:05.756Z"
   },
   {
    "duration": 193,
    "start_time": "2021-11-05T17:16:10.843Z"
   },
   {
    "duration": 52,
    "start_time": "2021-11-05T17:16:12.080Z"
   },
   {
    "duration": 265,
    "start_time": "2021-11-05T17:16:56.543Z"
   },
   {
    "duration": 117,
    "start_time": "2021-11-05T17:17:20.040Z"
   },
   {
    "duration": 269,
    "start_time": "2021-11-05T17:17:25.539Z"
   },
   {
    "duration": 40,
    "start_time": "2021-11-05T17:17:32.811Z"
   },
   {
    "duration": 77,
    "start_time": "2021-11-05T17:17:57.269Z"
   },
   {
    "duration": 275,
    "start_time": "2021-11-05T17:18:06.600Z"
   },
   {
    "duration": 225,
    "start_time": "2021-11-05T17:20:52.148Z"
   },
   {
    "duration": 1097,
    "start_time": "2021-11-05T17:20:57.142Z"
   },
   {
    "duration": 1734,
    "start_time": "2021-11-05T17:21:08.099Z"
   },
   {
    "duration": 2463,
    "start_time": "2021-11-05T17:22:01.071Z"
   },
   {
    "duration": 426,
    "start_time": "2021-11-05T17:22:05.267Z"
   },
   {
    "duration": 84,
    "start_time": "2021-11-05T17:22:11.000Z"
   },
   {
    "duration": 264,
    "start_time": "2021-11-05T17:22:16.780Z"
   },
   {
    "duration": 381,
    "start_time": "2021-11-05T17:22:22.512Z"
   },
   {
    "duration": 608,
    "start_time": "2021-11-05T17:22:27.997Z"
   },
   {
    "duration": 989,
    "start_time": "2021-11-05T17:22:33.783Z"
   },
   {
    "duration": 1623,
    "start_time": "2021-11-05T17:22:39.125Z"
   },
   {
    "duration": 2001,
    "start_time": "2021-11-05T17:22:47.569Z"
   },
   {
    "duration": 810,
    "start_time": "2021-11-05T17:23:08.488Z"
   },
   {
    "duration": 730,
    "start_time": "2021-11-05T17:23:41.671Z"
   },
   {
    "duration": 725,
    "start_time": "2021-11-05T17:24:10.200Z"
   },
   {
    "duration": 468,
    "start_time": "2021-11-05T17:24:17.596Z"
   },
   {
    "duration": 802,
    "start_time": "2021-11-05T17:24:24.098Z"
   },
   {
    "duration": 10,
    "start_time": "2021-11-05T17:25:35.629Z"
   },
   {
    "duration": 279,
    "start_time": "2021-11-05T17:26:32.166Z"
   },
   {
    "duration": 284,
    "start_time": "2021-11-05T17:28:54.917Z"
   },
   {
    "duration": 272,
    "start_time": "2021-11-05T17:29:13.099Z"
   },
   {
    "duration": 28,
    "start_time": "2021-11-05T17:29:36.698Z"
   },
   {
    "duration": 55,
    "start_time": "2021-11-05T17:31:56.681Z"
   },
   {
    "duration": 8,
    "start_time": "2021-11-05T17:33:24.736Z"
   },
   {
    "duration": 7,
    "start_time": "2021-11-05T17:33:25.282Z"
   },
   {
    "duration": 36,
    "start_time": "2021-11-05T17:33:25.904Z"
   },
   {
    "duration": 60,
    "start_time": "2021-11-05T17:33:26.718Z"
   },
   {
    "duration": 309,
    "start_time": "2021-11-05T17:34:30.232Z"
   },
   {
    "duration": 379,
    "start_time": "2021-11-05T17:35:01.593Z"
   },
   {
    "duration": 342,
    "start_time": "2021-11-05T17:35:32.907Z"
   },
   {
    "duration": 79,
    "start_time": "2021-11-05T17:37:29.072Z"
   },
   {
    "duration": 685,
    "start_time": "2021-11-05T17:37:43.281Z"
   },
   {
    "duration": 386,
    "start_time": "2021-11-05T17:37:48.601Z"
   },
   {
    "duration": 342,
    "start_time": "2021-11-05T17:38:00.672Z"
   },
   {
    "duration": 52,
    "start_time": "2021-11-05T17:41:48.665Z"
   },
   {
    "duration": 47,
    "start_time": "2021-11-05T17:42:06.422Z"
   },
   {
    "duration": 369,
    "start_time": "2021-11-05T17:43:44.200Z"
   },
   {
    "duration": 27,
    "start_time": "2021-11-05T17:43:45.358Z"
   },
   {
    "duration": 31,
    "start_time": "2021-11-05T17:43:52.209Z"
   },
   {
    "duration": 337,
    "start_time": "2021-11-05T17:43:58.225Z"
   },
   {
    "duration": 35,
    "start_time": "2021-11-05T17:43:58.827Z"
   },
   {
    "duration": 30,
    "start_time": "2021-11-05T17:45:09.513Z"
   },
   {
    "duration": 374,
    "start_time": "2021-11-05T17:45:10.366Z"
   },
   {
    "duration": 27,
    "start_time": "2021-11-05T17:45:12.361Z"
   },
   {
    "duration": 327,
    "start_time": "2021-11-05T17:45:13.555Z"
   },
   {
    "duration": 28,
    "start_time": "2021-11-05T17:45:17.337Z"
   },
   {
    "duration": 91,
    "start_time": "2021-11-05T17:50:29.276Z"
   },
   {
    "duration": 58,
    "start_time": "2021-11-05T17:51:14.521Z"
   },
   {
    "duration": 56,
    "start_time": "2021-11-05T17:51:20.005Z"
   },
   {
    "duration": 44,
    "start_time": "2021-11-05T17:51:42.840Z"
   },
   {
    "duration": 110,
    "start_time": "2021-11-05T17:52:31.624Z"
   },
   {
    "duration": 100,
    "start_time": "2021-11-05T17:52:46.532Z"
   },
   {
    "duration": 600,
    "start_time": "2021-11-05T17:54:46.223Z"
   },
   {
    "duration": 323,
    "start_time": "2021-11-05T17:55:17.210Z"
   },
   {
    "duration": 333,
    "start_time": "2021-11-05T17:55:35.206Z"
   },
   {
    "duration": 325,
    "start_time": "2021-11-05T17:56:06.855Z"
   },
   {
    "duration": 12,
    "start_time": "2021-11-05T17:56:44.995Z"
   },
   {
    "duration": 443,
    "start_time": "2021-11-05T17:57:33.689Z"
   },
   {
    "duration": 445,
    "start_time": "2021-11-05T17:57:57.472Z"
   },
   {
    "duration": 69,
    "start_time": "2021-11-05T18:00:06.211Z"
   },
   {
    "duration": 445,
    "start_time": "2021-11-05T18:00:41.768Z"
   },
   {
    "duration": 68,
    "start_time": "2021-11-05T18:00:52.053Z"
   },
   {
    "duration": 191,
    "start_time": "2021-11-05T18:01:22.848Z"
   },
   {
    "duration": 434,
    "start_time": "2021-11-05T18:13:36.252Z"
   },
   {
    "duration": 153,
    "start_time": "2021-11-05T18:14:09.883Z"
   },
   {
    "duration": 95,
    "start_time": "2021-11-05T18:14:28.239Z"
   },
   {
    "duration": 78,
    "start_time": "2021-11-05T18:15:04.568Z"
   },
   {
    "duration": 432,
    "start_time": "2021-11-05T18:15:08.656Z"
   },
   {
    "duration": 91,
    "start_time": "2021-11-05T18:15:10.743Z"
   },
   {
    "duration": 148,
    "start_time": "2021-11-05T18:15:12.389Z"
   },
   {
    "duration": 65,
    "start_time": "2021-11-05T18:15:28.051Z"
   },
   {
    "duration": 72,
    "start_time": "2021-11-05T18:15:40.685Z"
   },
   {
    "duration": 98,
    "start_time": "2021-11-05T18:16:01.436Z"
   },
   {
    "duration": 438,
    "start_time": "2021-11-05T18:16:31.992Z"
   },
   {
    "duration": 70,
    "start_time": "2021-11-05T18:16:33.731Z"
   },
   {
    "duration": 146,
    "start_time": "2021-11-05T18:16:35.087Z"
   },
   {
    "duration": 56,
    "start_time": "2022-06-21T18:22:28.140Z"
   },
   {
    "duration": 1107,
    "start_time": "2022-06-21T18:22:33.558Z"
   },
   {
    "duration": 115,
    "start_time": "2022-06-21T18:22:36.099Z"
   },
   {
    "duration": 15,
    "start_time": "2022-06-21T18:22:37.557Z"
   },
   {
    "duration": 9,
    "start_time": "2022-06-21T18:22:38.469Z"
   },
   {
    "duration": 10,
    "start_time": "2022-06-21T18:22:39.040Z"
   },
   {
    "duration": 14,
    "start_time": "2022-06-21T18:22:40.612Z"
   },
   {
    "duration": 13,
    "start_time": "2022-06-21T18:22:43.005Z"
   },
   {
    "duration": 5,
    "start_time": "2022-06-21T18:22:44.605Z"
   },
   {
    "duration": 5,
    "start_time": "2022-06-21T18:22:46.616Z"
   },
   {
    "duration": 17,
    "start_time": "2022-06-21T18:23:25.493Z"
   },
   {
    "duration": 7,
    "start_time": "2022-06-21T18:26:12.738Z"
   },
   {
    "duration": 10,
    "start_time": "2022-06-21T18:26:13.815Z"
   },
   {
    "duration": 583,
    "start_time": "2022-06-21T18:26:15.798Z"
   },
   {
    "duration": 113,
    "start_time": "2022-06-21T18:30:31.993Z"
   },
   {
    "duration": 127,
    "start_time": "2022-06-21T18:30:39.156Z"
   },
   {
    "duration": 114,
    "start_time": "2022-06-21T18:30:55.294Z"
   },
   {
    "duration": 142,
    "start_time": "2022-06-21T18:31:11.899Z"
   },
   {
    "duration": 103,
    "start_time": "2022-06-21T18:31:35.994Z"
   },
   {
    "duration": 222,
    "start_time": "2022-06-21T18:31:51.685Z"
   },
   {
    "duration": 150,
    "start_time": "2022-06-21T18:31:57.632Z"
   },
   {
    "duration": 140,
    "start_time": "2022-06-21T18:32:31.340Z"
   },
   {
    "duration": 6,
    "start_time": "2022-06-21T18:33:42.624Z"
   },
   {
    "duration": 8,
    "start_time": "2022-06-21T18:33:43.858Z"
   },
   {
    "duration": 1043,
    "start_time": "2022-06-21T18:34:04.944Z"
   },
   {
    "duration": 87,
    "start_time": "2022-06-21T18:34:06.995Z"
   },
   {
    "duration": 504,
    "start_time": "2022-06-21T18:34:10.582Z"
   },
   {
    "duration": 10,
    "start_time": "2022-06-21T18:34:15.479Z"
   },
   {
    "duration": 33,
    "start_time": "2022-06-21T18:34:55.112Z"
   },
   {
    "duration": 28,
    "start_time": "2022-06-21T18:34:56.508Z"
   },
   {
    "duration": 694,
    "start_time": "2022-06-21T18:34:57.357Z"
   },
   {
    "duration": 4,
    "start_time": "2022-06-21T18:40:13.440Z"
   },
   {
    "duration": 5,
    "start_time": "2022-06-21T18:40:14.086Z"
   },
   {
    "duration": 16,
    "start_time": "2022-06-21T18:40:31.422Z"
   },
   {
    "duration": 275,
    "start_time": "2022-06-21T18:40:33.848Z"
   },
   {
    "duration": 25,
    "start_time": "2022-06-21T18:41:14.825Z"
   },
   {
    "duration": 209,
    "start_time": "2022-06-21T18:41:22.689Z"
   },
   {
    "duration": 23,
    "start_time": "2022-06-21T18:41:26.879Z"
   },
   {
    "duration": 34,
    "start_time": "2022-06-21T18:41:51.001Z"
   },
   {
    "duration": 30,
    "start_time": "2022-06-21T18:41:55.116Z"
   },
   {
    "duration": 1322,
    "start_time": "2022-06-21T18:41:56.363Z"
   },
   {
    "duration": 1303,
    "start_time": "2022-06-21T18:42:00.783Z"
   },
   {
    "duration": 320,
    "start_time": "2022-06-21T18:42:48.162Z"
   },
   {
    "duration": 45,
    "start_time": "2022-06-21T18:42:53.450Z"
   },
   {
    "duration": 905,
    "start_time": "2022-06-21T18:42:55.379Z"
   },
   {
    "duration": 4,
    "start_time": "2022-06-21T18:50:38.473Z"
   },
   {
    "duration": 12,
    "start_time": "2022-06-21T18:53:01.026Z"
   },
   {
    "duration": 1086,
    "start_time": "2022-06-21T18:53:15.549Z"
   },
   {
    "duration": 78,
    "start_time": "2022-06-21T18:53:17.818Z"
   },
   {
    "duration": 27,
    "start_time": "2022-06-21T18:53:18.915Z"
   },
   {
    "duration": 35,
    "start_time": "2022-06-21T18:53:32.555Z"
   },
   {
    "duration": 13,
    "start_time": "2022-06-21T18:55:00.041Z"
   },
   {
    "duration": 25,
    "start_time": "2022-06-21T18:55:06.655Z"
   },
   {
    "duration": 11,
    "start_time": "2022-06-21T18:56:20.979Z"
   },
   {
    "duration": 17,
    "start_time": "2022-06-21T18:56:44.413Z"
   },
   {
    "duration": 25,
    "start_time": "2022-06-21T18:56:56.160Z"
   },
   {
    "duration": 36,
    "start_time": "2022-06-21T18:57:15.448Z"
   },
   {
    "duration": 1521,
    "start_time": "2022-06-21T18:57:59.498Z"
   },
   {
    "duration": 76,
    "start_time": "2022-06-21T18:58:01.021Z"
   },
   {
    "duration": 20,
    "start_time": "2022-06-21T18:58:01.099Z"
   },
   {
    "duration": 29,
    "start_time": "2022-06-21T18:58:01.124Z"
   },
   {
    "duration": 36,
    "start_time": "2022-06-21T18:58:01.156Z"
   },
   {
    "duration": 27,
    "start_time": "2022-06-21T18:58:01.194Z"
   },
   {
    "duration": 15,
    "start_time": "2022-06-21T18:58:01.222Z"
   },
   {
    "duration": 14,
    "start_time": "2022-06-21T18:58:01.239Z"
   },
   {
    "duration": 13,
    "start_time": "2022-06-21T18:58:01.254Z"
   },
   {
    "duration": 39,
    "start_time": "2022-06-21T18:58:01.268Z"
   },
   {
    "duration": 5,
    "start_time": "2022-06-21T18:58:01.309Z"
   },
   {
    "duration": 14,
    "start_time": "2022-06-21T18:58:01.316Z"
   },
   {
    "duration": 172,
    "start_time": "2022-06-21T18:58:01.332Z"
   },
   {
    "duration": 188,
    "start_time": "2022-06-21T18:58:01.508Z"
   },
   {
    "duration": 24,
    "start_time": "2022-06-21T18:58:01.698Z"
   },
   {
    "duration": 75,
    "start_time": "2022-06-21T18:58:01.724Z"
   },
   {
    "duration": 1155,
    "start_time": "2022-06-21T18:58:01.802Z"
   },
   {
    "duration": 88,
    "start_time": "2022-06-21T18:58:02.958Z"
   },
   {
    "duration": 1123,
    "start_time": "2022-06-21T18:58:03.047Z"
   },
   {
    "duration": 19,
    "start_time": "2022-06-21T18:58:04.172Z"
   },
   {
    "duration": 147,
    "start_time": "2022-06-21T18:58:04.270Z"
   },
   {
    "duration": 59,
    "start_time": "2022-06-21T18:58:04.419Z"
   },
   {
    "duration": 776,
    "start_time": "2022-06-21T18:58:04.480Z"
   },
   {
    "duration": 22,
    "start_time": "2022-06-21T18:58:05.258Z"
   },
   {
    "duration": 10,
    "start_time": "2022-06-21T18:58:05.282Z"
   },
   {
    "duration": 21,
    "start_time": "2022-06-21T18:58:05.294Z"
   },
   {
    "duration": 245,
    "start_time": "2022-06-21T18:58:05.316Z"
   },
   {
    "duration": 29,
    "start_time": "2022-06-21T18:58:05.563Z"
   },
   {
    "duration": 224,
    "start_time": "2022-06-21T18:58:05.594Z"
   },
   {
    "duration": 25,
    "start_time": "2022-06-21T18:58:05.819Z"
   },
   {
    "duration": 53,
    "start_time": "2022-06-21T18:58:05.846Z"
   },
   {
    "duration": 31,
    "start_time": "2022-06-21T18:58:05.901Z"
   },
   {
    "duration": 1159,
    "start_time": "2022-06-21T18:58:05.933Z"
   },
   {
    "duration": 1299,
    "start_time": "2022-06-21T18:58:07.094Z"
   },
   {
    "duration": 366,
    "start_time": "2022-06-21T18:58:08.471Z"
   },
   {
    "duration": 63,
    "start_time": "2022-06-21T18:58:08.843Z"
   },
   {
    "duration": 1175,
    "start_time": "2022-06-21T18:58:08.909Z"
   }
  ],
  "kernelspec": {
   "display_name": "Python 3 (ipykernel)",
   "language": "python",
   "name": "python3"
  },
  "language_info": {
   "codemirror_mode": {
    "name": "ipython",
    "version": 3
   },
   "file_extension": ".py",
   "mimetype": "text/x-python",
   "name": "python",
   "nbconvert_exporter": "python",
   "pygments_lexer": "ipython3",
   "version": "3.9.5"
  },
  "toc": {
   "base_numbering": 1,
   "nav_menu": {},
   "number_sections": true,
   "sideBar": true,
   "skip_h1_title": true,
   "title_cell": "Содержание",
   "title_sidebar": "Contents",
   "toc_cell": true,
   "toc_position": {
    "height": "calc(100% - 180px)",
    "left": "10px",
    "top": "150px",
    "width": "165px"
   },
   "toc_section_display": true,
   "toc_window_display": true
  }
 },
 "nbformat": 4,
 "nbformat_minor": 2
}
